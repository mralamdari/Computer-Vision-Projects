{
  "nbformat": 4,
  "nbformat_minor": 0,
  "metadata": {
    "colab": {
      "provenance": [],
      "collapsed_sections": [
        "3jfvyerCKbv-",
        "kDqJpBV7MXCR",
        "h9BAgWBUQiEe",
        "56-sQxLiWxjU",
        "bMxMvz0Yct0o",
        "u_OId5aIiJBg",
        "nvYQyef7iSwR",
        "z2WvvY8FlNl6",
        "TrcsBNR0RWJR",
        "Is3wDq1NlO4j",
        "1fIbO8VYYCpG",
        "CRSJN59QY92Y",
        "dHrtR9uzcNXK",
        "ytSyrTjjZkbb",
        "JPGNAMn5Rtah",
        "Q-WrbIttTyBY"
      ],
      "include_colab_link": true
    },
    "kernelspec": {
      "display_name": "Python 3",
      "name": "python3"
    },
    "language_info": {
      "name": "python"
    },
    "gpuClass": "standard"
  },
  "cells": [
    {
      "cell_type": "markdown",
      "metadata": {
        "id": "view-in-github",
        "colab_type": "text"
      },
      "source": [
        "<a href=\"https://colab.research.google.com/github/mralamdari/Computer-Vision-Projects/blob/main/Mnist_with_drawingPrediction.ipynb\" target=\"_parent\"><img src=\"https://colab.research.google.com/assets/colab-badge.svg\" alt=\"Open In Colab\"/></a>"
      ]
    },
    {
      "cell_type": "markdown",
      "metadata": {
        "id": "kdLXEpzX720P"
      },
      "source": [
        "https://github.com/techwithtim\n",
        "\n",
        "\n",
        "https://github.com/techwithtim/Number-Guesser-Neural-Net"
      ]
    },
    {
      "cell_type": "code",
      "metadata": {
        "id": "8nSQfqJXGuJg"
      },
      "source": [
        "import os\n",
        "import datetime\n",
        "import numpy as np\n",
        "import pandas as pd\n",
        "import seaborn as sns\n",
        "import tensorflow as tf\n",
        "import matplotlib.pyplot as plt\n",
        "\n",
        "from sklearn import svm\n",
        "from sklearn import tree\n",
        "from sklearn import metrics\n",
        "from sklearn import ensemble\n",
        "from sklearn import neighbors\n",
        "from sklearn import linear_model\n",
        "from sklearn import preprocessing\n",
        "from sklearn import decomposition\n",
        "from sklearn import model_selection\n",
        "from sklearn import feature_selection"
      ],
      "execution_count": 37,
      "outputs": []
    },
    {
      "cell_type": "code",
      "metadata": {
        "colab": {
          "base_uri": "https://localhost:8080/"
        },
        "id": "tSTvMIROZTtf",
        "outputId": "6cd7c88d-8d19-4634-ba0d-a70942770b04"
      },
      "source": [
        "!nvidia-smi -L"
      ],
      "execution_count": null,
      "outputs": [
        {
          "output_type": "stream",
          "name": "stdout",
          "text": [
            "NVIDIA-SMI has failed because it couldn't communicate with the NVIDIA driver. Make sure that the latest NVIDIA driver is installed and running.\n",
            "\n"
          ]
        }
      ]
    },
    {
      "cell_type": "markdown",
      "metadata": {
        "id": "3jfvyerCKbv-"
      },
      "source": [
        "##Data Collecting"
      ]
    },
    {
      "cell_type": "code",
      "source": [
        "from google.colab import drive\n",
        "drive.mount('/content/drive')"
      ],
      "metadata": {
        "colab": {
          "base_uri": "https://localhost:8080/"
        },
        "id": "WjcOufnWWQRF",
        "outputId": "24c745f0-baff-4865-8feb-5b8125570e53"
      },
      "execution_count": 2,
      "outputs": [
        {
          "output_type": "stream",
          "name": "stdout",
          "text": [
            "Mounted at /content/drive\n"
          ]
        }
      ]
    },
    {
      "cell_type": "code",
      "metadata": {
        "id": "MPUO4_JB7uUb",
        "colab": {
          "base_uri": "https://localhost:8080/"
        },
        "outputId": "8b39a173-ae09-4f2f-ec95-b0b796d295d6"
      },
      "source": [
        "os.environ['KAGGLE_CONFIG_DIR'] = '/content/drive/MyDrive'\n",
        "!kaggle competitions download -c digit-recognizer\n",
        "!unzip \\*.zip && rm *.zip"
      ],
      "execution_count": 3,
      "outputs": [
        {
          "output_type": "stream",
          "name": "stdout",
          "text": [
            "Downloading digit-recognizer.zip to /content\n",
            " 85% 13.0M/15.3M [00:00<00:00, 39.0MB/s]\n",
            "100% 15.3M/15.3M [00:00<00:00, 44.6MB/s]\n",
            "Archive:  digit-recognizer.zip\n",
            "  inflating: sample_submission.csv   \n",
            "  inflating: test.csv                \n",
            "  inflating: train.csv               \n"
          ]
        }
      ]
    },
    {
      "cell_type": "code",
      "metadata": {
        "id": "eS3dbr0kIP7k"
      },
      "source": [
        "train = pd.read_csv(\"train.csv\")\n",
        "test = pd.read_csv(\"test.csv\")\n",
        "submission = pd.read_csv(\"sample_submission.csv\")"
      ],
      "execution_count": 4,
      "outputs": []
    },
    {
      "cell_type": "markdown",
      "metadata": {
        "id": "-ms132SlKY0n"
      },
      "source": [
        "train: 42000 samples with labels\n",
        "\n",
        "test: 28000 samples without labels\n",
        "\n",
        "submission: 28000 labels for test\n",
        "\n",
        "features: 784"
      ]
    },
    {
      "cell_type": "code",
      "metadata": {
        "id": "v3Pg3_h6JPng",
        "colab": {
          "base_uri": "https://localhost:8080/"
        },
        "outputId": "a63330ca-c282-4c77-9e58-0ab452ca51ce"
      },
      "source": [
        "train.shape, test.shape, submission.shape"
      ],
      "execution_count": 5,
      "outputs": [
        {
          "output_type": "execute_result",
          "data": {
            "text/plain": [
              "((42000, 785), (28000, 784), (28000, 2))"
            ]
          },
          "metadata": {},
          "execution_count": 5
        }
      ]
    },
    {
      "cell_type": "markdown",
      "metadata": {
        "id": "kDqJpBV7MXCR"
      },
      "source": [
        "##Data Preprocessing"
      ]
    },
    {
      "cell_type": "code",
      "metadata": {
        "colab": {
          "base_uri": "https://localhost:8080/"
        },
        "id": "cI53QHPKJgQq",
        "outputId": "49356ce5-ef02-42ed-b7ad-383bf74e5cce"
      },
      "source": [
        "train.iloc[0][train.iloc[0] != 0], test.iloc[0][test.iloc[0] != 0]"
      ],
      "execution_count": 6,
      "outputs": [
        {
          "output_type": "execute_result",
          "data": {
            "text/plain": [
              "(label         1\n",
              " pixel132    188\n",
              " pixel133    255\n",
              " pixel134     94\n",
              " pixel159    191\n",
              "            ... \n",
              " pixel626    250\n",
              " pixel627    131\n",
              " pixel652    214\n",
              " pixel653    218\n",
              " pixel654     95\n",
              " Name: 0, Length: 98, dtype: int64, pixel122    10\n",
              " pixel123    17\n",
              " pixel124    17\n",
              " pixel125    17\n",
              " pixel126    17\n",
              "             ..\n",
              " pixel599    30\n",
              " pixel600    15\n",
              " pixel601    10\n",
              " pixel610    14\n",
              " pixel611     6\n",
              " Name: 0, Length: 215, dtype: int64)"
            ]
          },
          "metadata": {},
          "execution_count": 6
        }
      ]
    },
    {
      "cell_type": "markdown",
      "metadata": {
        "id": "jA5FN1stMEtZ"
      },
      "source": [
        "our images are not scaled so we have to rescale them"
      ]
    },
    {
      "cell_type": "code",
      "metadata": {
        "id": "KHeihv-ZM4l4"
      },
      "source": [
        "X = train.drop([\"label\"], axis=1).values / 255\n",
        "Y = train[\"label\"].values\n",
        "test /= 255\n",
        "x_train, x_test, y_train, y_test = model_selection.train_test_split(X, Y, random_state=77, test_size=0.2)"
      ],
      "execution_count": 7,
      "outputs": []
    },
    {
      "cell_type": "markdown",
      "metadata": {
        "id": "BSeeXKwuO_Kk"
      },
      "source": [
        "x_train: 33600  (%80)\n",
        "\n",
        "x_test:  8400   (%20)"
      ]
    },
    {
      "cell_type": "code",
      "metadata": {
        "colab": {
          "base_uri": "https://localhost:8080/"
        },
        "id": "MTrhJO2oJ8mq",
        "outputId": "60a79842-2f02-4314-bc87-93b73bc2aa38"
      },
      "source": [
        "x_train.shape, x_test.shape"
      ],
      "execution_count": 8,
      "outputs": [
        {
          "output_type": "execute_result",
          "data": {
            "text/plain": [
              "((33600, 784), (8400, 784))"
            ]
          },
          "metadata": {},
          "execution_count": 8
        }
      ]
    },
    {
      "cell_type": "code",
      "metadata": {
        "colab": {
          "base_uri": "https://localhost:8080/"
        },
        "id": "xICamGK0Pmq8",
        "outputId": "e386bf33-3801-45ec-f243-65355b445f0c"
      },
      "source": [
        "784 ** 0.5"
      ],
      "execution_count": 9,
      "outputs": [
        {
          "output_type": "execute_result",
          "data": {
            "text/plain": [
              "28.0"
            ]
          },
          "metadata": {},
          "execution_count": 9
        }
      ]
    },
    {
      "cell_type": "markdown",
      "metadata": {
        "id": "MJnt7InxPtC5"
      },
      "source": [
        "784 is 28*28"
      ]
    },
    {
      "cell_type": "code",
      "metadata": {
        "colab": {
          "base_uri": "https://localhost:8080/",
          "height": 0
        },
        "id": "SxUj22niMyaD",
        "outputId": "98b41371-74c5-4cb8-f1f0-e269c74afd86"
      },
      "source": [
        "n = 1297\n",
        "sample = x_train[n].reshape(28, 28)\n",
        "plt.imshow(sample)\n",
        "plt.title(y_train[n])"
      ],
      "execution_count": 10,
      "outputs": [
        {
          "output_type": "execute_result",
          "data": {
            "text/plain": [
              "Text(0.5, 1.0, '9')"
            ]
          },
          "metadata": {},
          "execution_count": 10
        },
        {
          "output_type": "display_data",
          "data": {
            "text/plain": [
              "<Figure size 432x288 with 1 Axes>"
            ],
            "image/png": "[encoded data removed]"
          },
          "metadata": {
            "needs_background": "light"
          }
        }
      ]
    },
    {
      "cell_type": "markdown",
      "metadata": {
        "id": "KqTSQptxQYA7"
      },
      "source": [
        "#Machine Learning Models"
      ]
    },
    {
      "cell_type": "code",
      "metadata": {
        "id": "ILZq4yQibqWo"
      },
      "source": [
        "def model_scores(model):\n",
        "  s = datetime.datetime.now()\n",
        "  pred = model.predict(x_test)\n",
        "  res = sum(pred == y_test)/len(y_test)\n",
        "  dic = {\"train\" : model.score(x_train, y_train),\n",
        "         \"Test\" : model.score(x_test, y_test)}  \n",
        "\n",
        "  print(\"Train Score: \" , model.score(x_train, y_train))\n",
        "  print(\"Test Score: \" , model.score(x_test, y_test))\n",
        "  print(metrics.classification_report(y_test, pred))\n",
        "  print(f\"Spend time is: {datetime.datetime.now().minute - s.minute} Minuts\")\n",
        "  return pred, dic"
      ],
      "execution_count": 12,
      "outputs": []
    },
    {
      "cell_type": "markdown",
      "metadata": {
        "id": "h9BAgWBUQiEe"
      },
      "source": [
        "##model 0: linear"
      ]
    },
    {
      "cell_type": "code",
      "metadata": {
        "colab": {
          "base_uri": "https://localhost:8080/"
        },
        "id": "y0QTcbJ3P6NU",
        "outputId": "009e0d39-0fa1-4ecd-f9d4-fbb6cf84641c"
      },
      "source": [
        "model_0 = linear_model.SGDClassifier()\n",
        "model_0.fit(x_train, y_train)"
      ],
      "execution_count": null,
      "outputs": [
        {
          "output_type": "execute_result",
          "data": {
            "text/plain": [
              "SGDClassifier()"
            ]
          },
          "metadata": {},
          "execution_count": 18
        }
      ]
    },
    {
      "cell_type": "code",
      "metadata": {
        "colab": {
          "base_uri": "https://localhost:8080/"
        },
        "id": "gO0G2Mrvc7eh",
        "outputId": "91976a05-7594-4ba7-882c-5d4b59b3f227"
      },
      "source": [
        "pred_0, scores = model_scores(model_0)"
      ],
      "execution_count": null,
      "outputs": [
        {
          "output_type": "stream",
          "name": "stdout",
          "text": [
            "Train Score:  0.9264583333333334\n",
            "Test Score:  0.9142857142857143\n",
            "              precision    recall  f1-score   support\n",
            "\n",
            "           0       0.94      0.97      0.95       802\n",
            "           1       0.95      0.98      0.96       965\n",
            "           2       0.89      0.90      0.90       828\n",
            "           3       0.90      0.89      0.89       891\n",
            "           4       0.93      0.92      0.92       792\n",
            "           5       0.85      0.89      0.87       731\n",
            "           6       0.94      0.95      0.95       853\n",
            "           7       0.92      0.94      0.93       883\n",
            "           8       0.91      0.83      0.87       795\n",
            "           9       0.90      0.87      0.88       860\n",
            "\n",
            "    accuracy                           0.91      8400\n",
            "   macro avg       0.91      0.91      0.91      8400\n",
            "weighted avg       0.91      0.91      0.91      8400\n",
            "\n",
            "Spend time is: 0 Minuts\n"
          ]
        },
        {
          "output_type": "execute_result",
          "data": {
            "text/plain": [
              "{'train': 0.9264583333333334, 'Test': 0.9142857142857143}"
            ]
          },
          "metadata": {},
          "execution_count": 19
        }
      ]
    },
    {
      "cell_type": "markdown",
      "metadata": {
        "id": "56-sQxLiWxjU"
      },
      "source": [
        "##Model 1: LogisticRegression"
      ]
    },
    {
      "cell_type": "code",
      "metadata": {
        "id": "PjA9-fAwS9wa"
      },
      "source": [
        "model_1 = linear_model.LogisticRegression()\n",
        "model_1.fit(x_train, y_train)"
      ],
      "execution_count": null,
      "outputs": []
    },
    {
      "cell_type": "code",
      "metadata": {
        "id": "4_MpfVEDXJqT",
        "colab": {
          "base_uri": "https://localhost:8080/"
        },
        "outputId": "6a6fca5c-1868-4758-ac6a-8b5bb7e9968f"
      },
      "source": [
        "pred_1, scores = model_scores(model_1)"
      ],
      "execution_count": null,
      "outputs": [
        {
          "output_type": "stream",
          "name": "stdout",
          "text": [
            "Train Score:  0.9407142857142857\n",
            "Test Score:  0.9207142857142857\n",
            "              precision    recall  f1-score   support\n",
            "\n",
            "           0       0.96      0.97      0.96       802\n",
            "           1       0.95      0.97      0.96       965\n",
            "           2       0.90      0.89      0.90       828\n",
            "           3       0.90      0.89      0.90       891\n",
            "           4       0.95      0.92      0.93       792\n",
            "           5       0.89      0.87      0.88       731\n",
            "           6       0.95      0.95      0.95       853\n",
            "           7       0.92      0.94      0.93       883\n",
            "           8       0.88      0.88      0.88       795\n",
            "           9       0.89      0.91      0.90       860\n",
            "\n",
            "    accuracy                           0.92      8400\n",
            "   macro avg       0.92      0.92      0.92      8400\n",
            "weighted avg       0.92      0.92      0.92      8400\n",
            "\n",
            "Spend time is: 0 Minuts\n"
          ]
        },
        {
          "output_type": "execute_result",
          "data": {
            "text/plain": [
              "{'train': 0.9407142857142857, 'Test': 0.9207142857142857}"
            ]
          },
          "metadata": {},
          "execution_count": 25
        }
      ]
    },
    {
      "cell_type": "markdown",
      "metadata": {
        "id": "bMxMvz0Yct0o"
      },
      "source": [
        "##model 2: Linear SVC"
      ]
    },
    {
      "cell_type": "code",
      "metadata": {
        "id": "lVfjRN4lbj0-",
        "colab": {
          "base_uri": "https://localhost:8080/"
        },
        "outputId": "bdf3b257-8360-4f88-e3d3-feebca9d3af2"
      },
      "source": [
        "model_2 = svm.LinearSVC()\n",
        "model_2.fit(x_train, y_train)"
      ],
      "execution_count": null,
      "outputs": [
        {
          "output_type": "stream",
          "name": "stderr",
          "text": [
            "/usr/local/lib/python3.8/dist-packages/sklearn/svm/_base.py:1206: ConvergenceWarning: Liblinear failed to converge, increase the number of iterations.\n",
            "  warnings.warn(\n"
          ]
        },
        {
          "output_type": "execute_result",
          "data": {
            "text/plain": [
              "LinearSVC()"
            ]
          },
          "metadata": {},
          "execution_count": 26
        }
      ]
    },
    {
      "cell_type": "code",
      "metadata": {
        "id": "p_ycKRLAeJFo",
        "colab": {
          "base_uri": "https://localhost:8080/"
        },
        "outputId": "f36e2560-b6dd-4177-ce64-24fb046dcec3"
      },
      "source": [
        "pred_2, scores = model_scores(model_2)"
      ],
      "execution_count": null,
      "outputs": [
        {
          "output_type": "stream",
          "name": "stdout",
          "text": [
            "Train Score:  0.9339285714285714\n",
            "Test Score:  0.91\n",
            "              precision    recall  f1-score   support\n",
            "\n",
            "           0       0.94      0.97      0.96       802\n",
            "           1       0.95      0.98      0.96       965\n",
            "           2       0.89      0.87      0.88       828\n",
            "           3       0.89      0.87      0.88       891\n",
            "           4       0.93      0.92      0.92       792\n",
            "           5       0.86      0.86      0.86       731\n",
            "           6       0.94      0.95      0.94       853\n",
            "           7       0.92      0.93      0.93       883\n",
            "           8       0.88      0.86      0.87       795\n",
            "           9       0.88      0.89      0.88       860\n",
            "\n",
            "    accuracy                           0.91      8400\n",
            "   macro avg       0.91      0.91      0.91      8400\n",
            "weighted avg       0.91      0.91      0.91      8400\n",
            "\n",
            "Spend time is: 0 Minuts\n"
          ]
        },
        {
          "output_type": "execute_result",
          "data": {
            "text/plain": [
              "{'train': 0.9339285714285714, 'Test': 0.91}"
            ]
          },
          "metadata": {},
          "execution_count": 27
        }
      ]
    },
    {
      "cell_type": "markdown",
      "metadata": {
        "id": "u_OId5aIiJBg"
      },
      "source": [
        "##Model 3: SVC"
      ]
    },
    {
      "cell_type": "code",
      "metadata": {
        "id": "oJFzpZcVeSXh",
        "colab": {
          "base_uri": "https://localhost:8080/"
        },
        "outputId": "db7e69aa-e7bb-4011-9117-faa769ac3d04"
      },
      "source": [
        "model_3 = svm.SVC()\n",
        "model_3.fit(x_train, y_train)"
      ],
      "execution_count": 13,
      "outputs": [
        {
          "output_type": "execute_result",
          "data": {
            "text/plain": [
              "SVC()"
            ]
          },
          "metadata": {},
          "execution_count": 13
        }
      ]
    },
    {
      "cell_type": "code",
      "metadata": {
        "id": "pidjFEEsecXS",
        "colab": {
          "base_uri": "https://localhost:8080/"
        },
        "outputId": "23f1cedb-9e97-40f6-9c58-e1171d75b897"
      },
      "source": [
        "pred_3, scores = model_scores(model_3)"
      ],
      "execution_count": 14,
      "outputs": [
        {
          "output_type": "stream",
          "name": "stdout",
          "text": [
            "Train Score:  0.9888690476190476\n",
            "Test Score:  0.9745238095238096\n",
            "              precision    recall  f1-score   support\n",
            "\n",
            "           0       0.99      0.99      0.99       802\n",
            "           1       0.99      0.99      0.99       965\n",
            "           2       0.98      0.98      0.98       828\n",
            "           3       0.96      0.96      0.96       891\n",
            "           4       0.97      0.98      0.97       792\n",
            "           5       0.98      0.96      0.97       731\n",
            "           6       0.98      0.99      0.99       853\n",
            "           7       0.97      0.98      0.97       883\n",
            "           8       0.97      0.97      0.97       795\n",
            "           9       0.96      0.95      0.96       860\n",
            "\n",
            "    accuracy                           0.97      8400\n",
            "   macro avg       0.97      0.97      0.97      8400\n",
            "weighted avg       0.97      0.97      0.97      8400\n",
            "\n",
            "Prediction time is: 12 Minuts\n"
          ]
        }
      ]
    },
    {
      "cell_type": "markdown",
      "metadata": {
        "id": "nvYQyef7iSwR"
      },
      "source": [
        "##Model 4: K neighbors\n"
      ]
    },
    {
      "cell_type": "code",
      "metadata": {
        "id": "o2HkbGxaiIbw",
        "colab": {
          "base_uri": "https://localhost:8080/"
        },
        "outputId": "221751ff-4d2f-4f24-f4fb-a41fcb0cc227"
      },
      "source": [
        "model_4 = neighbors.KNeighborsClassifier(n_neighbors=5)\n",
        "model_4.fit(x_train, y_train)"
      ],
      "execution_count": null,
      "outputs": [
        {
          "output_type": "execute_result",
          "data": {
            "text/plain": [
              "KNeighborsClassifier()"
            ]
          },
          "metadata": {},
          "execution_count": 30
        }
      ]
    },
    {
      "cell_type": "code",
      "metadata": {
        "id": "76FaeGxMxIhp",
        "colab": {
          "base_uri": "https://localhost:8080/"
        },
        "outputId": "97f1f456-8b81-4ba7-d49a-067b2a08e2f7"
      },
      "source": [
        "pred_4, scores = model_scores(model_4)"
      ],
      "execution_count": null,
      "outputs": [
        {
          "output_type": "stream",
          "name": "stdout",
          "text": [
            "              precision    recall  f1-score   support\n",
            "\n",
            "           0       0.98      1.00      0.99       802\n",
            "           1       0.96      0.99      0.98       965\n",
            "           2       0.99      0.96      0.97       828\n",
            "           3       0.95      0.97      0.96       891\n",
            "           4       0.98      0.96      0.97       792\n",
            "           5       0.96      0.94      0.95       731\n",
            "           6       0.98      0.99      0.98       853\n",
            "           7       0.95      0.98      0.96       883\n",
            "           8       0.98      0.91      0.94       795\n",
            "           9       0.94      0.94      0.94       860\n",
            "\n",
            "    accuracy                           0.96      8400\n",
            "   macro avg       0.97      0.96      0.96      8400\n",
            "weighted avg       0.97      0.96      0.96      8400\n",
            "\n"
          ]
        }
      ]
    },
    {
      "cell_type": "markdown",
      "metadata": {
        "id": "z2WvvY8FlNl6"
      },
      "source": [
        "##Model 5: DecisionTreeClassifier"
      ]
    },
    {
      "cell_type": "code",
      "metadata": {
        "id": "wRBdXRspk2ck",
        "colab": {
          "base_uri": "https://localhost:8080/"
        },
        "outputId": "086215af-f2e7-4ebd-a66b-41d9c5aae1cc"
      },
      "source": [
        "model_5 = tree.DecisionTreeClassifier()\n",
        "model_5.fit(x_train, y_train)"
      ],
      "execution_count": null,
      "outputs": [
        {
          "output_type": "execute_result",
          "data": {
            "text/plain": [
              "DecisionTreeClassifier()"
            ]
          },
          "metadata": {},
          "execution_count": 36
        }
      ]
    },
    {
      "cell_type": "code",
      "metadata": {
        "id": "CLOS4VQUljUJ",
        "colab": {
          "base_uri": "https://localhost:8080/"
        },
        "outputId": "0e3019de-cfcb-464f-bea4-72a85090a9e2"
      },
      "source": [
        "pred_5, scores = model_scores(model_5)"
      ],
      "execution_count": null,
      "outputs": [
        {
          "output_type": "stream",
          "name": "stdout",
          "text": [
            "Train Score:  1.0\n",
            "Test Score:  0.8520238095238095\n",
            "              precision    recall  f1-score   support\n",
            "\n",
            "           0       0.92      0.91      0.91       802\n",
            "           1       0.93      0.95      0.94       965\n",
            "           2       0.83      0.80      0.82       828\n",
            "           3       0.81      0.83      0.82       891\n",
            "           4       0.85      0.85      0.85       792\n",
            "           5       0.76      0.80      0.78       731\n",
            "           6       0.89      0.89      0.89       853\n",
            "           7       0.88      0.88      0.88       883\n",
            "           8       0.80      0.75      0.78       795\n",
            "           9       0.82      0.82      0.82       860\n",
            "\n",
            "    accuracy                           0.85      8400\n",
            "   macro avg       0.85      0.85      0.85      8400\n",
            "weighted avg       0.85      0.85      0.85      8400\n",
            "\n",
            "Spend time is: 0 Minuts\n"
          ]
        },
        {
          "output_type": "execute_result",
          "data": {
            "text/plain": [
              "{'train': 1.0, 'Test': 0.8520238095238095}"
            ]
          },
          "metadata": {},
          "execution_count": 37
        }
      ]
    },
    {
      "cell_type": "markdown",
      "metadata": {
        "id": "TrcsBNR0RWJR"
      },
      "source": [
        "##Model 6: RandomForestClassifier"
      ]
    },
    {
      "cell_type": "code",
      "metadata": {
        "id": "EwEIl2EKLobN",
        "colab": {
          "base_uri": "https://localhost:8080/"
        },
        "outputId": "5ead1dd9-c57f-4e22-dccd-0ef7161e2b59"
      },
      "source": [
        "model_6 = ensemble.RandomForestClassifier()\n",
        "model_6.fit(x_train, y_train)"
      ],
      "execution_count": 15,
      "outputs": [
        {
          "output_type": "execute_result",
          "data": {
            "text/plain": [
              "RandomForestClassifier()"
            ]
          },
          "metadata": {},
          "execution_count": 15
        }
      ]
    },
    {
      "cell_type": "code",
      "metadata": {
        "id": "kHEpJe41Syou",
        "colab": {
          "base_uri": "https://localhost:8080/"
        },
        "outputId": "293fa18d-4ef5-4ae6-8f45-365170486358"
      },
      "source": [
        "pred_6, scores = model_scores(model_6)"
      ],
      "execution_count": 16,
      "outputs": [
        {
          "output_type": "stream",
          "name": "stdout",
          "text": [
            "Train Score:  1.0\n",
            "Test Score:  0.9620238095238095\n",
            "              precision    recall  f1-score   support\n",
            "\n",
            "           0       0.98      0.98      0.98       802\n",
            "           1       0.99      0.99      0.99       965\n",
            "           2       0.95      0.96      0.96       828\n",
            "           3       0.94      0.95      0.94       891\n",
            "           4       0.96      0.96      0.96       792\n",
            "           5       0.96      0.95      0.96       731\n",
            "           6       0.98      0.98      0.98       853\n",
            "           7       0.97      0.96      0.96       883\n",
            "           8       0.94      0.95      0.94       795\n",
            "           9       0.94      0.94      0.94       860\n",
            "\n",
            "    accuracy                           0.96      8400\n",
            "   macro avg       0.96      0.96      0.96      8400\n",
            "weighted avg       0.96      0.96      0.96      8400\n",
            "\n",
            "Prediction time is: 0 Minuts\n"
          ]
        }
      ]
    },
    {
      "cell_type": "markdown",
      "source": [
        "##Model 7: GradientBoostingClassifier"
      ],
      "metadata": {
        "id": "Is3wDq1NlO4j"
      }
    },
    {
      "cell_type": "code",
      "metadata": {
        "id": "XfTzblnPS7AA",
        "colab": {
          "base_uri": "https://localhost:8080/"
        },
        "outputId": "0127cba9-211d-407c-e1df-a21539a87f8f"
      },
      "source": [
        "model_7 = ensemble.GradientBoostingClassifier()\n",
        "model_7.fit(x_train, y_train)"
      ],
      "execution_count": null,
      "outputs": [
        {
          "output_type": "execute_result",
          "data": {
            "text/plain": [
              "GradientBoostingClassifier()"
            ]
          },
          "metadata": {},
          "execution_count": 40
        }
      ]
    },
    {
      "cell_type": "code",
      "metadata": {
        "id": "ck8BXzeUT0XM",
        "colab": {
          "base_uri": "https://localhost:8080/"
        },
        "outputId": "cfaa668e-c45b-4567-8f52-b7d73489d3ca"
      },
      "source": [
        "pred_7, scores = model_scores(model_7)"
      ],
      "execution_count": null,
      "outputs": [
        {
          "output_type": "stream",
          "name": "stdout",
          "text": [
            "Train Score:  0.9685119047619047\n",
            "Test Score:  0.9421428571428572\n",
            "              precision    recall  f1-score   support\n",
            "\n",
            "           0       0.96      0.97      0.97       802\n",
            "           1       0.98      0.98      0.98       965\n",
            "           2       0.94      0.93      0.93       828\n",
            "           3       0.92      0.92      0.92       891\n",
            "           4       0.94      0.94      0.94       792\n",
            "           5       0.94      0.92      0.93       731\n",
            "           6       0.97      0.96      0.96       853\n",
            "           7       0.95      0.95      0.95       883\n",
            "           8       0.92      0.93      0.92       795\n",
            "           9       0.91      0.92      0.92       860\n",
            "\n",
            "    accuracy                           0.94      8400\n",
            "   macro avg       0.94      0.94      0.94      8400\n",
            "weighted avg       0.94      0.94      0.94      8400\n",
            "\n",
            "Spend time is: 0 Minuts\n"
          ]
        },
        {
          "output_type": "execute_result",
          "data": {
            "text/plain": [
              "{'train': 0.9685119047619047, 'Test': 0.9421428571428572}"
            ]
          },
          "metadata": {},
          "execution_count": 41
        }
      ]
    },
    {
      "cell_type": "markdown",
      "metadata": {
        "id": "xtMRrWV4T0HP"
      },
      "source": [
        "##The best ML Models\n",
        "\n",
        "(based on what we have experimented so far.)\n",
        "\n",
        "are SVC and Random Forest\n",
        "\n",
        "So, lets make an experimant and determine wich is better by some plots."
      ]
    },
    {
      "cell_type": "code",
      "source": [
        "confusion = metrics.confusion_matrix(y_test, pred_3)\n",
        "sns.heatmap(confusion, annot=True)"
      ],
      "metadata": {
        "colab": {
          "base_uri": "https://localhost:8080/",
          "height": 282
        },
        "id": "l-V9QkK8hxIb",
        "outputId": "79549a6c-edc5-484a-e17a-4286ecd1fb92"
      },
      "execution_count": 21,
      "outputs": [
        {
          "output_type": "execute_result",
          "data": {
            "text/plain": [
              "<matplotlib.axes._subplots.AxesSubplot at 0x7fc9cda8fa30>"
            ]
          },
          "metadata": {},
          "execution_count": 21
        },
        {
          "output_type": "display_data",
          "data": {
            "text/plain": [
              "<Figure size 432x288 with 2 Axes>"
            ],
            "image/png": "[encoded data removed]"
          },
          "metadata": {
            "needs_background": "light"
          }
        }
      ]
    },
    {
      "cell_type": "code",
      "source": [
        "confusion = metrics.confusion_matrix(y_test, pred_6)\n",
        "sns.heatmap(confusion, annot=True)"
      ],
      "metadata": {
        "colab": {
          "base_uri": "https://localhost:8080/",
          "height": 282
        },
        "id": "6LyZmDt0iIkx",
        "outputId": "0e627bc8-65ba-4ab0-b3d6-3284326c4e25"
      },
      "execution_count": 23,
      "outputs": [
        {
          "output_type": "execute_result",
          "data": {
            "text/plain": [
              "<matplotlib.axes._subplots.AxesSubplot at 0x7fc9cd95a580>"
            ]
          },
          "metadata": {},
          "execution_count": 23
        },
        {
          "output_type": "display_data",
          "data": {
            "text/plain": [
              "<Figure size 432x288 with 2 Axes>"
            ],
            "image/png": "[encoded data removed]"
          },
          "metadata": {
            "needs_background": "light"
          }
        }
      ]
    },
    {
      "cell_type": "code",
      "source": [
        "pca = decomposition.PCA(n_components=320)\n",
        "std = preprocessing.StandardScaler()\n",
        "\n",
        "x_train_std = std.fit_transform(x_train)\n",
        "x_test_std = std.transform(x_test)\n",
        "\n",
        "\n",
        "x_train_pca = pca.fit_transform(x_train_std)\n",
        "x_test_pca = pca.transform(x_test_std)"
      ],
      "metadata": {
        "id": "3JlQogBq9Uk8"
      },
      "execution_count": 41,
      "outputs": []
    },
    {
      "cell_type": "code",
      "source": [
        "x_train_pca.shape, x_train_std.shape"
      ],
      "metadata": {
        "id": "PxeyU1ILOeqy",
        "colab": {
          "base_uri": "https://localhost:8080/"
        },
        "outputId": "7e17f887-68f0-4742-eed8-64dcb5b2f8f4"
      },
      "execution_count": 44,
      "outputs": [
        {
          "output_type": "execute_result",
          "data": {
            "text/plain": [
              "((33600, 320), (33600, 784))"
            ]
          },
          "metadata": {},
          "execution_count": 44
        }
      ]
    },
    {
      "cell_type": "code",
      "source": [
        "clf = ensemble.RandomForestClassifier()\n",
        "clf.fit(x_train, y_train)\n",
        "clf.score(x_test, y_test)"
      ],
      "metadata": {
        "colab": {
          "base_uri": "https://localhost:8080/"
        },
        "id": "vtptkATeTm-9",
        "outputId": "bbe75445-dd7e-43d2-fc60-fdd21d42929a"
      },
      "execution_count": 52,
      "outputs": [
        {
          "output_type": "execute_result",
          "data": {
            "text/plain": [
              "0.9627380952380953"
            ]
          },
          "metadata": {},
          "execution_count": 52
        }
      ]
    },
    {
      "cell_type": "code",
      "source": [
        "clf = ensemble.RandomForestClassifier()\n",
        "clf.fit(x_train_pca, y_train)\n",
        "clf.score(x_test_pca, y_test)"
      ],
      "metadata": {
        "colab": {
          "base_uri": "https://localhost:8080/"
        },
        "id": "xAY9ts6iD9Jp",
        "outputId": "d28fc0bf-41c9-41a4-fe65-dd449805791f"
      },
      "execution_count": 48,
      "outputs": [
        {
          "output_type": "execute_result",
          "data": {
            "text/plain": [
              "0.9298809523809524"
            ]
          },
          "metadata": {},
          "execution_count": 48
        }
      ]
    },
    {
      "cell_type": "code",
      "source": [
        "clf = ensemble.RandomForestClassifier()\n",
        "clf.fit(x_train_std, y_train)\n",
        "clf.score(x_test_std, y_test)"
      ],
      "metadata": {
        "colab": {
          "base_uri": "https://localhost:8080/"
        },
        "id": "K7gb7KptHJhc",
        "outputId": "9df86e64-9778-422f-c786-52bdc1eb10d6"
      },
      "execution_count": 49,
      "outputs": [
        {
          "output_type": "execute_result",
          "data": {
            "text/plain": [
              "0.9638095238095238"
            ]
          },
          "metadata": {},
          "execution_count": 49
        }
      ]
    },
    {
      "cell_type": "code",
      "source": [
        "clf = svm.SVC()\n",
        "clf.fit(x_train, y_train)\n",
        "clf.score(x_test, y_test)"
      ],
      "metadata": {
        "colab": {
          "base_uri": "https://localhost:8080/"
        },
        "id": "uDnSc8yXTqLN",
        "outputId": "5b384b7f-f71b-46fe-df23-01f9f8f63145"
      },
      "execution_count": 53,
      "outputs": [
        {
          "output_type": "execute_result",
          "data": {
            "text/plain": [
              "0.9745238095238096"
            ]
          },
          "metadata": {},
          "execution_count": 53
        }
      ]
    },
    {
      "cell_type": "code",
      "source": [
        "clf = svm.SVC()\n",
        "clf.fit(x_train_pca, y_train)\n",
        "clf.score(x_test_pca, y_test)"
      ],
      "metadata": {
        "colab": {
          "base_uri": "https://localhost:8080/"
        },
        "id": "SLNr0DsKIHW7",
        "outputId": "df5bd852-3aab-414a-a51a-8b488148aaa4"
      },
      "execution_count": 50,
      "outputs": [
        {
          "output_type": "execute_result",
          "data": {
            "text/plain": [
              "0.9597619047619048"
            ]
          },
          "metadata": {},
          "execution_count": 50
        }
      ]
    },
    {
      "cell_type": "code",
      "source": [
        "clf = svm.SVC()\n",
        "clf.fit(x_train_std, y_train)\n",
        "clf.score(x_test_std, y_test)"
      ],
      "metadata": {
        "colab": {
          "base_uri": "https://localhost:8080/"
        },
        "id": "bUsAUaV_IYDJ",
        "outputId": "4f6bd274-0a92-4719-e2a8-78bb688e9564"
      },
      "execution_count": 51,
      "outputs": [
        {
          "output_type": "execute_result",
          "data": {
            "text/plain": [
              "0.9569047619047619"
            ]
          },
          "metadata": {},
          "execution_count": 51
        }
      ]
    },
    {
      "cell_type": "markdown",
      "source": [
        "As reslut, preprocessing won't make algorithms to work better"
      ],
      "metadata": {
        "id": "Ot-y5JLWVKZ7"
      }
    },
    {
      "cell_type": "markdown",
      "metadata": {
        "id": "1fIbO8VYYCpG"
      },
      "source": [
        "#Deep Learning Models"
      ]
    },
    {
      "cell_type": "code",
      "metadata": {
        "id": "3gr7YAnTgcAd"
      },
      "source": [
        "def plot_loss_curves(history):\n",
        "  hist = history.history\n",
        "  loss, val_loss = hist[\"loss\"], hist[\"val_loss\"]\n",
        "  accuracy, val_accuracy = hist[\"accuracy\"], hist[\"val_accuracy\"]\n",
        "  epochs = range(1, len(hist[\"loss\"])+1)\n",
        "  plt.title(\"Accuracy\")\n",
        "  plt.plot(epochs, accuracy, label=\"Training\")\n",
        "  plt.plot(epochs, val_accuracy, label=\"Testing\")\n",
        "  plt.legend()\n",
        "  plt.figure()\n",
        "  plt.title(\"Loss\")\n",
        "  plt.plot(epochs, loss, label=\"Training\")\n",
        "  plt.plot(epochs, val_loss, label=\"Testing\")\n",
        "  plt.legend()\n",
        "  plt.show()  "
      ],
      "execution_count": 54,
      "outputs": []
    },
    {
      "cell_type": "markdown",
      "metadata": {
        "id": "CRSJN59QY92Y"
      },
      "source": [
        "##Model 0: "
      ]
    },
    {
      "cell_type": "code",
      "metadata": {
        "id": "nZlIN7wEYUCc"
      },
      "source": [
        "model_0 = tf.keras.Sequential([\n",
        "  tf.keras.layers.Dense(16, input_shape=(784, )),\n",
        "  tf.keras.layers.Dense(64, activation=\"relu\"),\n",
        "  tf.keras.layers.BatchNormalization(),\n",
        "  tf.keras.layers.Dense(32, activation=\"relu\"),\n",
        "  tf.keras.layers.BatchNormalization(),\n",
        "  tf.keras.layers.Dense(10, activation=\"softmax\")\n",
        "])\n",
        "\n",
        "model_0.compile(\n",
        "    loss = tf.keras.losses.sparse_categorical_crossentropy,\n",
        "    optimizer = tf.keras.optimizers.Adam(),\n",
        "    metrics = \"accuracy\"\n",
        ")"
      ],
      "execution_count": 70,
      "outputs": []
    },
    {
      "cell_type": "code",
      "metadata": {
        "id": "rLBK89vBYiSF",
        "colab": {
          "base_uri": "https://localhost:8080/"
        },
        "outputId": "0aea6e47-e4e7-47a6-cfd2-0d500c41a10e"
      },
      "source": [
        "model_0_history = model_0.fit(x_train, y_train, epochs=10, validation_data=(x_test, y_test))"
      ],
      "execution_count": 71,
      "outputs": [
        {
          "output_type": "stream",
          "name": "stdout",
          "text": [
            "Epoch 1/10\n",
            "1050/1050 [==============================] - 5s 3ms/step - loss: 0.4682 - accuracy: 0.8609 - val_loss: 0.2641 - val_accuracy: 0.9212\n",
            "Epoch 2/10\n",
            "1050/1050 [==============================] - 3s 3ms/step - loss: 0.2308 - accuracy: 0.9301 - val_loss: 0.1902 - val_accuracy: 0.9427\n",
            "Epoch 3/10\n",
            "1050/1050 [==============================] - 3s 3ms/step - loss: 0.1841 - accuracy: 0.9430 - val_loss: 0.1729 - val_accuracy: 0.9482\n",
            "Epoch 4/10\n",
            "1050/1050 [==============================] - 4s 4ms/step - loss: 0.1684 - accuracy: 0.9479 - val_loss: 0.1830 - val_accuracy: 0.9455\n",
            "Epoch 5/10\n",
            "1050/1050 [==============================] - 4s 3ms/step - loss: 0.1481 - accuracy: 0.9538 - val_loss: 0.1711 - val_accuracy: 0.9451\n",
            "Epoch 6/10\n",
            "1050/1050 [==============================] - 3s 3ms/step - loss: 0.1385 - accuracy: 0.9568 - val_loss: 0.1423 - val_accuracy: 0.9548\n",
            "Epoch 7/10\n",
            "1050/1050 [==============================] - 3s 3ms/step - loss: 0.1272 - accuracy: 0.9595 - val_loss: 0.1445 - val_accuracy: 0.9554\n",
            "Epoch 8/10\n",
            "1050/1050 [==============================] - 3s 3ms/step - loss: 0.1224 - accuracy: 0.9612 - val_loss: 0.1377 - val_accuracy: 0.9573\n",
            "Epoch 9/10\n",
            "1050/1050 [==============================] - 3s 3ms/step - loss: 0.1199 - accuracy: 0.9613 - val_loss: 0.1480 - val_accuracy: 0.9546\n",
            "Epoch 10/10\n",
            "1050/1050 [==============================] - 3s 3ms/step - loss: 0.1093 - accuracy: 0.9642 - val_loss: 0.1359 - val_accuracy: 0.9593\n"
          ]
        }
      ]
    },
    {
      "cell_type": "code",
      "metadata": {
        "id": "BmnXthhtGohO",
        "colab": {
          "base_uri": "https://localhost:8080/"
        },
        "outputId": "6c40be76-f8ba-4142-97cd-e3a90bd37e3b"
      },
      "source": [
        "pred=model_0.predict(x_test)\n",
        "metrics.accuracy_score(y_test, np.argmax(pred, axis=1))"
      ],
      "execution_count": 73,
      "outputs": [
        {
          "output_type": "stream",
          "name": "stdout",
          "text": [
            "263/263 [==============================] - 1s 2ms/step\n"
          ]
        },
        {
          "output_type": "execute_result",
          "data": {
            "text/plain": [
              "0.9592857142857143"
            ]
          },
          "metadata": {},
          "execution_count": 73
        }
      ]
    },
    {
      "cell_type": "markdown",
      "metadata": {
        "id": "dHrtR9uzcNXK"
      },
      "source": [
        "##Model 1: CNN"
      ]
    },
    {
      "cell_type": "code",
      "metadata": {
        "id": "BDD05Jm3gog_"
      },
      "source": [
        "inputs = tf.keras.Input(shape=(28, 28, 1))\n",
        "x = tf.keras.layers.Conv2D(128, 3, 1, activation=\"relu\")(inputs)\n",
        "x = tf.keras.layers.MaxPooling2D()(x)\n",
        "x = tf.keras.layers.Conv2D(128, 3, 1, activation=\"relu\")(x)\n",
        "x = tf.keras.layers.MaxPooling2D()(x)\n",
        "x = tf.keras.layers.Flatten()(x)\n",
        "\n",
        "outputs = tf.keras.layers.Dense(10, activation=\"softmax\")(x)\n",
        "model_1 = tf.keras.Model(inputs, outputs)\n",
        "\n",
        "model_1.compile(loss=tf.keras.losses.sparse_categorical_crossentropy,\n",
        "                optimizer=tf.keras.optimizers.Adam(learning_rate=0.001),\n",
        "                metrics=\"accuracy\")"
      ],
      "execution_count": 74,
      "outputs": []
    },
    {
      "cell_type": "code",
      "metadata": {
        "id": "WO2DPYt3jHC8",
        "colab": {
          "base_uri": "https://localhost:8080/"
        },
        "outputId": "02faf6db-997a-480c-e7f0-ee9c7a81dbd3"
      },
      "source": [
        "model_1_history=model_1.fit(x_train.reshape((-1 ,28, 28)), y_train, epochs=10, validation_data=(x_test.reshape((-1 ,28, 28)), y_test))"
      ],
      "execution_count": 75,
      "outputs": [
        {
          "output_type": "stream",
          "name": "stdout",
          "text": [
            "Epoch 1/10\n",
            "1050/1050 [==============================] - 129s 122ms/step - loss: 0.1644 - accuracy: 0.9504 - val_loss: 0.0732 - val_accuracy: 0.9752\n",
            "Epoch 2/10\n",
            "1050/1050 [==============================] - 125s 119ms/step - loss: 0.0530 - accuracy: 0.9835 - val_loss: 0.0472 - val_accuracy: 0.9857\n",
            "Epoch 3/10\n",
            "1050/1050 [==============================] - 124s 118ms/step - loss: 0.0349 - accuracy: 0.9896 - val_loss: 0.0416 - val_accuracy: 0.9873\n",
            "Epoch 4/10\n",
            "1050/1050 [==============================] - 123s 117ms/step - loss: 0.0275 - accuracy: 0.9912 - val_loss: 0.0504 - val_accuracy: 0.9861\n",
            "Epoch 5/10\n",
            "1050/1050 [==============================] - 122s 117ms/step - loss: 0.0215 - accuracy: 0.9933 - val_loss: 0.0405 - val_accuracy: 0.9886\n",
            "Epoch 6/10\n",
            "1050/1050 [==============================] - 123s 117ms/step - loss: 0.0165 - accuracy: 0.9951 - val_loss: 0.0457 - val_accuracy: 0.9871\n",
            "Epoch 7/10\n",
            "1050/1050 [==============================] - 123s 117ms/step - loss: 0.0109 - accuracy: 0.9969 - val_loss: 0.0541 - val_accuracy: 0.9852\n",
            "Epoch 8/10\n",
            "1050/1050 [==============================] - 122s 116ms/step - loss: 0.0117 - accuracy: 0.9963 - val_loss: 0.0477 - val_accuracy: 0.9880\n",
            "Epoch 9/10\n",
            "1050/1050 [==============================] - 123s 117ms/step - loss: 0.0073 - accuracy: 0.9974 - val_loss: 0.0589 - val_accuracy: 0.9850\n",
            "Epoch 10/10\n",
            "1050/1050 [==============================] - 127s 121ms/step - loss: 0.0081 - accuracy: 0.9975 - val_loss: 0.0544 - val_accuracy: 0.9874\n"
          ]
        }
      ]
    },
    {
      "cell_type": "code",
      "metadata": {
        "id": "gnzElGn2TNxx",
        "colab": {
          "base_uri": "https://localhost:8080/",
          "height": 545
        },
        "outputId": "2ad9d8ef-6a42-4cb4-9637-de580a7c7343"
      },
      "source": [
        "plot_loss_curves(model_1_history)"
      ],
      "execution_count": 79,
      "outputs": [
        {
          "output_type": "display_data",
          "data": {
            "text/plain": [
              "<Figure size 432x288 with 1 Axes>"
            ],
            "image/png": "[encoded data removed]"
          },
          "metadata": {
            "needs_background": "light"
          }
        },
        {
          "output_type": "display_data",
          "data": {
            "text/plain": [
              "<Figure size 432x288 with 1 Axes>"
            ],
            "image/png": "[encoded data removed]"
          },
          "metadata": {
            "needs_background": "light"
          }
        }
      ]
    },
    {
      "cell_type": "code",
      "metadata": {
        "id": "WVVY8Cx-TTRn",
        "colab": {
          "base_uri": "https://localhost:8080/"
        },
        "outputId": "0a182552-0b8b-4c9a-93a4-5fe9a8d7f481"
      },
      "source": [
        "preds = model_1.predict(x_test.reshape(-1, 28, 28, 1))"
      ],
      "execution_count": 80,
      "outputs": [
        {
          "output_type": "stream",
          "name": "stdout",
          "text": [
            "263/263 [==============================] - 8s 29ms/step\n"
          ]
        }
      ]
    },
    {
      "cell_type": "code",
      "metadata": {
        "id": "lEHjgZWvTUbQ",
        "colab": {
          "base_uri": "https://localhost:8080/"
        },
        "outputId": "85ce5ba2-f661-40da-c86c-f72ec61b0792"
      },
      "source": [
        "model_1.evaluate(x_train.reshape(-1, 28, 28, 1), y_train), model_1.evaluate(x_test.reshape(-1, 28, 28, 1), y_test)"
      ],
      "execution_count": 81,
      "outputs": [
        {
          "output_type": "stream",
          "name": "stdout",
          "text": [
            "1050/1050 [==============================] - 31s 30ms/step - loss: 0.0073 - accuracy: 0.9974\n",
            "263/263 [==============================] - 8s 29ms/step - loss: 0.0544 - accuracy: 0.9874\n"
          ]
        },
        {
          "output_type": "execute_result",
          "data": {
            "text/plain": [
              "([0.00725381588563323, 0.9973511695861816],\n",
              " [0.05435185879468918, 0.9873809814453125])"
            ]
          },
          "metadata": {},
          "execution_count": 81
        }
      ]
    }
  ]
}