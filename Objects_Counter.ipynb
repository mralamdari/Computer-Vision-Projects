{
  "nbformat": 4,
  "nbformat_minor": 0,
  "metadata": {
    "colab": {
      "provenance": [],
      "authorship_tag": "ABX9TyO7l29IC+bnahPRAn70/RdY",
      "include_colab_link": true
    },
    "kernelspec": {
      "name": "python3",
      "display_name": "Python 3"
    },
    "language_info": {
      "name": "python"
    }
  },
  "cells": [
    {
      "cell_type": "markdown",
      "metadata": {
        "id": "view-in-github",
        "colab_type": "text"
      },
      "source": [
        "<a href=\"https://colab.research.google.com/github/mralamdari/Computer-Vision-Projects/blob/main/Objects_Counter.ipynb\" target=\"_parent\"><img src=\"https://colab.research.google.com/assets/colab-badge.svg\" alt=\"Open In Colab\"/></a>"
      ]
    },
    {
      "cell_type": "markdown",
      "source": [
        "In this project, the aim is to create an algorithm to detect objects on the video frames"
      ],
      "metadata": {
        "id": "pQ-N5_m2cFDx"
      }
    },
    {
      "cell_type": "code",
      "execution_count": null,
      "metadata": {
        "id": "bc8u4d-Kb1tm"
      },
      "outputs": [],
      "source": [
        "import os\n",
        "import IPython\n",
        "import numpy as np\n",
        "import pandas as pd\n",
        "import tensorflow as tf\n",
        "IPython.display.clear_output()"
      ]
    },
    {
      "cell_type": "markdown",
      "source": [
        "#1"
      ],
      "metadata": {
        "id": "f8WQmjeZtgE-"
      }
    },
    {
      "cell_type": "code",
      "source": [
        "image_size = (128, 128)\n",
        "data = np.random.randint(5, 100, size=(1000, image_size[0], image_size[1]))\n",
        "data[0]"
      ],
      "metadata": {
        "colab": {
          "base_uri": "https://localhost:8080/"
        },
        "id": "pY3DJE-3Vuis",
        "outputId": "d4abbc6d-5ec1-472b-bb75-fb9473419792"
      },
      "execution_count": null,
      "outputs": [
        {
          "output_type": "execute_result",
          "data": {
            "text/plain": [
              "array([[39,  7, 48, ..., 33, 61, 10],\n",
              "       [47, 18,  5, ..., 36, 30, 79],\n",
              "       [79, 68, 20, ..., 67, 20, 19],\n",
              "       ...,\n",
              "       [40, 34, 11, ..., 92,  9, 21],\n",
              "       [18, 83, 10, ..., 30, 44, 67],\n",
              "       [73, 67, 39, ..., 78, 62, 93]])"
            ]
          },
          "metadata": {},
          "execution_count": 9
        }
      ]
    },
    {
      "cell_type": "code",
      "source": [
        "def generate_synthetic_data(num_samples, image_size=(128, 128), num_objects_range=(5, 20)):\n",
        "    data = []\n",
        "    for _ in range(num_samples):\n",
        "        num_objects = np.random.randint(*num_objects_range)\n",
        "        image = np.zeros(image_size)\n",
        "        for _ in range(num_objects):\n",
        "            object_x = np.random.randint(0, image_size[1])\n",
        "            object_y = np.random.randint(0, image_size[0])\n",
        "            image[object_y, object_x] += 1\n",
        "        data.append(image)\n",
        "    return np.array(data)\n",
        "\n",
        "# Prepare the data\n",
        "num_samples = 1000\n",
        "image_size = (128, 128)\n",
        "input_data = generate_synthetic_data(num_samples, image_size)\n",
        "density_maps = input_data.reshape(num_samples, image_size[0], image_size[1], 1)"
      ],
      "metadata": {
        "id": "nuRLGSsgaYyC"
      },
      "execution_count": null,
      "outputs": []
    },
    {
      "cell_type": "code",
      "source": [
        "input_data.shape, density_maps.shape"
      ],
      "metadata": {
        "id": "ijSdijY7abhi",
        "outputId": "23db72dd-1d8a-47d1-876b-ea323c273d05",
        "colab": {
          "base_uri": "https://localhost:8080/"
        }
      },
      "execution_count": null,
      "outputs": [
        {
          "output_type": "execute_result",
          "data": {
            "text/plain": [
              "((1000, 128, 128), (1000, 128, 128, 1))"
            ]
          },
          "metadata": {},
          "execution_count": 12
        }
      ]
    },
    {
      "cell_type": "code",
      "source": [
        "# Create the density map estimation model\n",
        "def create_density_map_model(input_shape):\n",
        "    inputs = tf.keras.layers.Input(shape=input_shape)\n",
        "    x = tf.keras.layers.Conv2D(64, (3, 3), activation='relu', padding='same')(inputs)\n",
        "    x = tf.keras.layers.Conv2D(64, (3, 3), activation='relu', padding='same')(x)\n",
        "    density_map = tf.keras.layers.Conv2D(1, (1, 1), activation='relu', padding='same')(x)\n",
        "    model = tf.keras.models.Model(inputs=inputs, outputs=density_map)\n",
        "    return model"
      ],
      "metadata": {
        "id": "LufRgBO3VlXY"
      },
      "execution_count": null,
      "outputs": []
    },
    {
      "cell_type": "code",
      "source": [
        "# Create and compile the model\n",
        "input_shape = (image_size[0], image_size[1], 1)\n",
        "model = create_density_map_model(input_shape)\n",
        "model.compile(optimizer='adam', loss=tf.keras.losses.MeanSquaredError())\n",
        "\n",
        "# Train the model\n",
        "model.fit(input_data, density_maps, batch_size=32, epochs=10, validation_split=0.2)\n",
        "\n",
        "# Test the model on a new image\n",
        "test_image = generate_synthetic_data(1, image_size)[0]\n",
        "predicted_density_map = model.predict(test_image.reshape(1, image_size[0], image_size[1], 1))\n",
        "\n",
        "# Perform object counting by summing up the density map values\n",
        "predicted_count = np.sum(predicted_density_map)\n",
        "\n",
        "print(f\"True object count: {test_image.sum()}\")\n",
        "print(f\"Predicted object count: {predicted_count}\")"
      ],
      "metadata": {
        "id": "zzr1ywmUVGxJ"
      },
      "execution_count": null,
      "outputs": []
    },
    {
      "cell_type": "markdown",
      "source": [
        "#2"
      ],
      "metadata": {
        "id": "tHr412wHte9w"
      }
    },
    {
      "cell_type": "code",
      "source": [
        "import numpy as np\n",
        "from collections import OrderedDict\n",
        "from scipy.spatial import distance as dist"
      ],
      "metadata": {
        "id": "y3VsYJO1tnVs"
      },
      "execution_count": 1,
      "outputs": []
    },
    {
      "cell_type": "code",
      "source": [
        "class CentroidTracker:\n",
        "\tdef __init__(self, maxDisappeared=50, maxDistance=50):\n",
        "\t\tself.nextObjectID = 0\n",
        "\t\tself.objects = OrderedDict()\n",
        "\t\tself.disappeared = OrderedDict()\n",
        "\t\tself.maxDisappeared = maxDisappeared\n",
        "\t\tself.maxDistance = maxDistance\n",
        "\n",
        "\tdef register(self, centroid):\n",
        "\t\tself.objects[self.nextObjectID] = centroid\n",
        "\t\tself.disappeared[self.nextObjectID] = 0\n",
        "\t\tself.nextObjectID += 1\n",
        "\n",
        "\tdef deregister(self, objectID):\n",
        "\t\tdel self.objects[objectID]\n",
        "\t\tdel self.disappeared[objectID]\n",
        "\n",
        "\tdef update(self, rects):\n",
        "\t\tif len(rects) == 0:\n",
        "\t\t\tfor objectID in list(self.disappeared.keys()):\n",
        "\t\t\t\tself.disappeared[objectID] += 1\n",
        "\n",
        "\t\t\t\tif self.disappeared[objectID] > self.maxDisappeared:\n",
        "\t\t\t\t\tself.deregister(objectID)\n",
        "\n",
        "\t\t\treturn self.objects\n",
        "\n",
        "\t\tinputCentroids = np.zeros((len(rects), 2), dtype=\"int\")\n",
        "\n",
        "\t\tfor (i, (startX, startY, endX, endY)) in enumerate(rects):\n",
        "\t\t\tcX = int((startX + endX) / 2.0)\n",
        "\t\t\tcY = int((startY + endY) / 2.0)\n",
        "\t\t\tinputCentroids[i] = (cX, cY)\n",
        "\n",
        "\t\tif len(self.objects) == 0:\n",
        "\t\t\tfor i in range(0, len(inputCentroids)):\n",
        "\t\t\t\tself.register(inputCentroids[i])\n",
        "\n",
        "\t\telse:\n",
        "\t\t\tobjectIDs = list(self.objects.keys())\n",
        "\t\t\tobjectCentroids = list(self.objects.values())\n",
        "\n",
        "\t\t\tD = dist.cdist(np.array(objectCentroids), inputCentroids)\n",
        "\n",
        "\t\t\trows = D.min(axis=1).argsort()\n",
        "\n",
        "\t\t\tcols = D.argmin(axis=1)[rows]\n",
        "\n",
        "\t\t\tusedRows = set()\n",
        "\t\t\tusedCols = set()\n",
        "\n",
        "\t\t\tfor (row, col) in zip(rows, cols):\n",
        "\t\t\t\tif row in usedRows or col in usedCols:\n",
        "\t\t\t\t\tcontinue\n",
        "\n",
        "\t\t\t\tif D[row, col] > self.maxDistance:\n",
        "\t\t\t\t\tcontinue\n",
        "\n",
        "\t\t\t\tobjectID = objectIDs[row]\n",
        "\t\t\t\tself.objects[objectID] = inputCentroids[col]\n",
        "\t\t\t\tself.disappeared[objectID] = 0\n",
        "\n",
        "\t\t\t\tusedRows.add(row)\n",
        "\t\t\t\tusedCols.add(col)\n",
        "\n",
        "\t\t\tunusedRows = set(range(0, D.shape[0])).difference(usedRows)\n",
        "\t\t\tunusedCols = set(range(0, D.shape[1])).difference(usedCols)\n",
        "\n",
        "\t\t\tif D.shape[0] >= D.shape[1]:\n",
        "\t\t\t\tfor row in unusedRows:\n",
        "\t\t\t\t\tobjectID = objectIDs[row]\n",
        "\t\t\t\t\tself.disappeared[objectID] += 1\n",
        "\n",
        "\t\t\t\t\tif self.disappeared[objectID] > self.maxDisappeared:\n",
        "\t\t\t\t\t\tself.deregister(objectID)\n",
        "\n",
        "\t\t\telse:\n",
        "\t\t\t\tfor col in unusedCols:\n",
        "\t\t\t\t\tself.register(inputCentroids[col])\n",
        "\n",
        "\t\treturn self.objects"
      ],
      "metadata": {
        "id": "hwcoZPbutfjA"
      },
      "execution_count": null,
      "outputs": []
    }
  ]
}