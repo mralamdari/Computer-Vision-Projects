{
  "nbformat": 4,
  "nbformat_minor": 0,
  "metadata": {
    "colab": {
      "provenance": [],
      "authorship_tag": "ABX9TyMGaDACiNxwfceaBmDVNyHb",
      "include_colab_link": true
    },
    "kernelspec": {
      "name": "python3",
      "display_name": "Python 3"
    },
    "language_info": {
      "name": "python"
    }
  },
  "cells": [
    {
      "cell_type": "markdown",
      "metadata": {
        "id": "view-in-github",
        "colab_type": "text"
      },
      "source": [
        "<a href=\"https://colab.research.google.com/github/mralamdari/Computer-Vision-Projects/blob/main/Objects_Counter.ipynb\" target=\"_parent\"><img src=\"https://colab.research.google.com/assets/colab-badge.svg\" alt=\"Open In Colab\"/></a>"
      ]
    },
    {
      "cell_type": "markdown",
      "source": [
        "In this project, the aim is to create an algorithm to detect objects on the video frames"
      ],
      "metadata": {
        "id": "pQ-N5_m2cFDx"
      }
    },
    {
      "cell_type": "code",
      "execution_count": 10,
      "metadata": {
        "id": "bc8u4d-Kb1tm"
      },
      "outputs": [],
      "source": [
        "import os\n",
        "import IPython\n",
        "import numpy as np\n",
        "import pandas as pd\n",
        "import tensorflow as tf\n",
        "IPython.display.clear_output()"
      ]
    },
    {
      "cell_type": "code",
      "source": [
        "data = np.random.randint(5, 100, size=(1000, 128, 128))\n",
        "data[0]"
      ],
      "metadata": {
        "colab": {
          "base_uri": "https://localhost:8080/"
        },
        "id": "pY3DJE-3Vuis",
        "outputId": "d4abbc6d-5ec1-472b-bb75-fb9473419792"
      },
      "execution_count": 9,
      "outputs": [
        {
          "output_type": "execute_result",
          "data": {
            "text/plain": [
              "array([[39,  7, 48, ..., 33, 61, 10],\n",
              "       [47, 18,  5, ..., 36, 30, 79],\n",
              "       [79, 68, 20, ..., 67, 20, 19],\n",
              "       ...,\n",
              "       [40, 34, 11, ..., 92,  9, 21],\n",
              "       [18, 83, 10, ..., 30, 44, 67],\n",
              "       [73, 67, 39, ..., 78, 62, 93]])"
            ]
          },
          "metadata": {},
          "execution_count": 9
        }
      ]
    },
    {
      "cell_type": "code",
      "source": [
        "# Create the density map estimation model\n",
        "def create_density_map_model(input_shape):\n",
        "    inputs = tf.keras.layers.Input(shape=input_shape)\n",
        "    x = tf.keras.layers.Conv2D(64, (3, 3), activation='relu', padding='same')(inputs)\n",
        "    x = tf.keras.layers.Conv2D(64, (3, 3), activation='relu', padding='same')(x)\n",
        "    density_map = tf.keras.layers.Conv2D(1, (1, 1), activation='relu', padding='same')(x)\n",
        "    model = tf.keras.models.Model(inputs=inputs, outputs=density_map)\n",
        "    return model"
      ],
      "metadata": {
        "id": "LufRgBO3VlXY"
      },
      "execution_count": 4,
      "outputs": []
    },
    {
      "cell_type": "code",
      "source": [
        "# Create and compile the model\n",
        "input_shape = (image_size[0], image_size[1], 1)\n",
        "model = create_density_map_model(input_shape)\n",
        "model.compile(optimizer='adam', loss=tf.keras.losses.MeanSquaredError())\n",
        "\n",
        "# Train the model\n",
        "model.fit(input_data, density_maps, batch_size=32, epochs=10, validation_split=0.2)\n",
        "\n",
        "# Test the model on a new image\n",
        "test_image = generate_synthetic_data(1, image_size)[0]\n",
        "predicted_density_map = model.predict(test_image.reshape(1, image_size[0], image_size[1], 1))\n",
        "\n",
        "# Perform object counting by summing up the density map values\n",
        "predicted_count = np.sum(predicted_density_map)\n",
        "\n",
        "print(f\"True object count: {test_image.sum()}\")\n",
        "print(f\"Predicted object count: {predicted_count}\")"
      ],
      "metadata": {
        "id": "zzr1ywmUVGxJ"
      },
      "execution_count": null,
      "outputs": []
    }
  ]
}