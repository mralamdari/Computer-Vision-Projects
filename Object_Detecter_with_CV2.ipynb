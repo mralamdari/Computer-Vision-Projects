{
  "nbformat": 4,
  "nbformat_minor": 0,
  "metadata": {
    "colab": {
      "provenance": [],
      "authorship_tag": "ABX9TyNfhkKwWeKYaL0iVLdz8fU4",
      "include_colab_link": true
    },
    "kernelspec": {
      "name": "python3",
      "display_name": "Python 3"
    },
    "language_info": {
      "name": "python"
    }
  },
  "cells": [
    {
      "cell_type": "markdown",
      "metadata": {
        "id": "view-in-github",
        "colab_type": "text"
      },
      "source": [
        "<a href=\"https://colab.research.google.com/github/mralamdari/Computer-Vision-Projects/blob/main/Object_Detecter_with_CV2.ipynb\" target=\"_parent\"><img src=\"https://colab.research.google.com/assets/colab-badge.svg\" alt=\"Open In Colab\"/></a>"
      ]
    },
    {
      "cell_type": "markdown",
      "source": [
        "[CV2 Source](https://github.com/opencv/opencv/tree/master/data)"
      ],
      "metadata": {
        "id": "Jyr_fU9QWMTF"
      }
    },
    {
      "cell_type": "code",
      "execution_count": 2,
      "metadata": {
        "id": "GMoTrY63VXVx"
      },
      "outputs": [],
      "source": [
        "cv2_clf = ['haarcascade_eye.xml',\n",
        "'haarcascade_eye_tree_eyeglasses.xml',\n",
        "'haarcascade_frontalcatface.xml',\n",
        "'haarcascade_frontalcatface_extended.xml',\n",
        "'haarcascade_frontalface_alt.xml',\n",
        "'haarcascade_frontalface_alt2.xml',\n",
        "'haarcascade_frontalface_alt_tree.xml',\n",
        "'haarcascade_frontalface_default.xml',\n",
        "'haarcascade_fullbody.xml',\n",
        "'haarcascade_lefteye_2splits.xml',\n",
        "'haarcascade_license_plate_rus_16stages.xml',\n",
        "'haarcascade_lowerbody.xml',\n",
        "'haarcascade_profileface.xml',\n",
        "'haarcascade_righteye_2splits.xml',\n",
        "'haarcascade_russian_plate_number.xml',\n",
        "'haarcascade_upperbody.xml']"
      ]
    },
    {
      "cell_type": "code",
      "source": [
        "path = cv2_clf[0]\n",
        "!wget https://raw.githubusercontent.com/opencv/opencv/master/data/haarcascades/{path}"
      ],
      "metadata": {
        "id": "zL6egzJwX4K1"
      },
      "execution_count": null,
      "outputs": []
    },
    {
      "cell_type": "code",
      "source": [],
      "metadata": {
        "id": "3PmyTtW0Yfhq"
      },
      "execution_count": 12,
      "outputs": []
    },
    {
      "cell_type": "code",
      "source": [],
      "metadata": {
        "id": "oOjNIYtMaqY7"
      },
      "execution_count": null,
      "outputs": []
    }
  ]
}