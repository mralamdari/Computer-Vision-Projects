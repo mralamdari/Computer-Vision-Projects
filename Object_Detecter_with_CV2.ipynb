{
  "nbformat": 4,
  "nbformat_minor": 0,
  "metadata": {
    "colab": {
      "provenance": [],
      "authorship_tag": "ABX9TyOq392knCMZZkZ0hwvfcxs2",
      "include_colab_link": true
    },
    "kernelspec": {
      "name": "python3",
      "display_name": "Python 3"
    },
    "language_info": {
      "name": "python"
    }
  },
  "cells": [
    {
      "cell_type": "markdown",
      "metadata": {
        "id": "view-in-github",
        "colab_type": "text"
      },
      "source": [
        "<a href=\"https://colab.research.google.com/github/mralamdari/Computer-Vision-Projects/blob/main/Object_Detecter_with_CV2.ipynb\" target=\"_parent\"><img src=\"https://colab.research.google.com/assets/colab-badge.svg\" alt=\"Open In Colab\"/></a>"
      ]
    },
    {
      "cell_type": "markdown",
      "source": [
        "[CV2 Source](https://github.com/opencv/opencv/tree/master/data)"
      ],
      "metadata": {
        "id": "Jyr_fU9QWMTF"
      }
    },
    {
      "cell_type": "code",
      "source": [
        "import os\n",
        "import cv2\n",
        "import numpy as np\n",
        "import pandas as pd\n",
        "\n",
        "from google.colab.patches import cv2_imshow"
      ],
      "metadata": {
        "id": "PtWHN6l5nHnz"
      },
      "execution_count": 58,
      "outputs": []
    },
    {
      "cell_type": "code",
      "execution_count": 2,
      "metadata": {
        "id": "GMoTrY63VXVx"
      },
      "outputs": [],
      "source": [
        "cv2_clf = ['haarcascade_eye.xml',\n",
        "'haarcascade_eye_tree_eyeglasses.xml',\n",
        "'haarcascade_frontalcatface.xml',\n",
        "'haarcascade_frontalcatface_extended.xml',\n",
        "'haarcascade_frontalface_alt.xml',\n",
        "'haarcascade_frontalface_alt2.xml',\n",
        "'haarcascade_frontalface_alt_tree.xml',\n",
        "'haarcascade_frontalface_default.xml',\n",
        "'haarcascade_fullbody.xml',\n",
        "'haarcascade_lefteye_2splits.xml',\n",
        "'haarcascade_license_plate_rus_16stages.xml',\n",
        "'haarcascade_lowerbody.xml',\n",
        "'haarcascade_profileface.xml',\n",
        "'haarcascade_righteye_2splits.xml',\n",
        "'haarcascade_russian_plate_number.xml',\n",
        "'haarcascade_upperbody.xml']"
      ]
    },
    {
      "cell_type": "code",
      "source": [
        "path = cv2_clf[0]\n",
        "!wget https://raw.githubusercontent.com/opencv/opencv/master/data/haarcascades/{path}"
      ],
      "metadata": {
        "id": "zL6egzJwX4K1"
      },
      "execution_count": null,
      "outputs": []
    },
    {
      "cell_type": "markdown",
      "source": [
        "#Get some sample images from UnSplash"
      ],
      "metadata": {
        "id": "wrWXAtZXzGoY"
      }
    },
    {
      "cell_type": "code",
      "source": [
        "cascade = cv2.CascadeClassifier(path)"
      ],
      "metadata": {
        "id": "3PmyTtW0Yfhq"
      },
      "execution_count": 48,
      "outputs": []
    },
    {
      "cell_type": "code",
      "source": [
        "pred = cascade.detectMultiScale(small_img, scaleFactor=1.1)\n",
        "pred"
      ],
      "metadata": {
        "colab": {
          "base_uri": "https://localhost:8080/"
        },
        "id": "Mi77b8kOogui",
        "outputId": "8d3af736-956d-4777-866d-a9e06845866b"
      },
      "execution_count": 53,
      "outputs": [
        {
          "output_type": "execute_result",
          "data": {
            "text/plain": [
              "array([[74, 39, 50, 50]], dtype=int32)"
            ]
          },
          "metadata": {},
          "execution_count": 53
        }
      ]
    },
    {
      "cell_type": "code",
      "source": [
        "N=0\n",
        "N += 1\n",
        "img_list = []\n",
        "img_path = ['/photo-1532635241-17e820acc59f',\n",
        "            '/photo-1501386761578-eac5c94b800a',\n",
        "            '/photo-1484353371297-d8cfd2895020',\n",
        "            '/photo-1543269865-cbf427effbad']\n",
        "\n",
        "!wget https://images.unsplash.com{img_path[N]}\n",
        "\n",
        "os.rename(f'/content/{img_path[N]}', f'/content/img_{N}.jpg')\n",
        "\n",
        "img_list.append(cv2.imread(f'/content/img_{N}.jpg'))"
      ],
      "metadata": {
        "id": "J86Mcrf8uHHQ"
      },
      "execution_count": null,
      "outputs": []
    },
    {
      "cell_type": "code",
      "source": [],
      "metadata": {
        "id": "Ni6hhOreydSU"
      },
      "execution_count": 93,
      "outputs": []
    },
    {
      "cell_type": "code",
      "source": [],
      "metadata": {
        "id": "6vtlgJJ90S5M"
      },
      "execution_count": null,
      "outputs": []
    }
  ]
}