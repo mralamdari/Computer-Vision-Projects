{
  "nbformat": 4,
  "nbformat_minor": 0,
  "metadata": {
    "colab": {
      "provenance": [],
      "authorship_tag": "ABX9TyOKGPRlRbxYmH4kWw774y14",
      "include_colab_link": true
    },
    "kernelspec": {
      "name": "python3",
      "display_name": "Python 3"
    },
    "language_info": {
      "name": "python"
    }
  },
  "cells": [
    {
      "cell_type": "markdown",
      "metadata": {
        "id": "view-in-github",
        "colab_type": "text"
      },
      "source": [
        "<a href=\"https://colab.research.google.com/github/mralamdari/Computer-Vision-Projects/blob/main/Object_Detecter_with_CV2.ipynb\" target=\"_parent\"><img src=\"https://colab.research.google.com/assets/colab-badge.svg\" alt=\"Open In Colab\"/></a>"
      ]
    },
    {
      "cell_type": "markdown",
      "source": [
        "[CV2 Source](https://github.com/opencv/opencv/tree/master/data)"
      ],
      "metadata": {
        "id": "Jyr_fU9QWMTF"
      }
    },
    {
      "cell_type": "code",
      "source": [
        "import os\n",
        "import cv2\n",
        "import numpy as np\n",
        "import pandas as pd\n",
        "\n",
        "from google.colab.patches import cv2_imshow"
      ],
      "metadata": {
        "id": "PtWHN6l5nHnz"
      },
      "execution_count": 58,
      "outputs": []
    },
    {
      "cell_type": "code",
      "execution_count": 2,
      "metadata": {
        "id": "GMoTrY63VXVx"
      },
      "outputs": [],
      "source": [
        "cv2_clf = ['haarcascade_eye.xml',\n",
        "'haarcascade_eye_tree_eyeglasses.xml',\n",
        "'haarcascade_frontalcatface.xml',\n",
        "'haarcascade_frontalcatface_extended.xml',\n",
        "'haarcascade_frontalface_alt.xml',\n",
        "'haarcascade_frontalface_alt2.xml',\n",
        "'haarcascade_frontalface_alt_tree.xml',\n",
        "'haarcascade_frontalface_default.xml',\n",
        "'haarcascade_fullbody.xml',\n",
        "'haarcascade_lefteye_2splits.xml',\n",
        "'haarcascade_license_plate_rus_16stages.xml',\n",
        "'haarcascade_lowerbody.xml',\n",
        "'haarcascade_profileface.xml',\n",
        "'haarcascade_righteye_2splits.xml',\n",
        "'haarcascade_russian_plate_number.xml',\n",
        "'haarcascade_upperbody.xml']"
      ]
    },
    {
      "cell_type": "code",
      "source": [
        "path = cv2_clf[0]\n",
        "!wget https://raw.githubusercontent.com/opencv/opencv/master/data/haarcascades/{path}"
      ],
      "metadata": {
        "id": "zL6egzJwX4K1"
      },
      "execution_count": null,
      "outputs": []
    },
    {
      "cell_type": "markdown",
      "source": [
        "#Get some sample images from UnSplash"
      ],
      "metadata": {
        "id": "wrWXAtZXzGoY"
      }
    },
    {
      "cell_type": "code",
      "source": [
        "N=0\n",
        "N += 1\n",
        "img_list = []\n",
        "img_path = ['/photo-1532635241-17e820acc59f',\n",
        "            '/photo-1501386761578-eac5c94b800a',\n",
        "            '/photo-1484353371297-d8cfd2895020',\n",
        "            '/photo-1543269865-cbf427effbad']\n",
        "\n",
        "!wget https://images.unsplash.com{img_path[N]}\n",
        "\n",
        "os.rename(f'/content/{img_path[N]}', f'/content/img_{N}.jpg')\n",
        "\n",
        "img_list.append(cv2.imread(f'/content/img_{N}.jpg'))"
      ],
      "metadata": {
        "id": "J86Mcrf8uHHQ"
      },
      "execution_count": null,
      "outputs": []
    },
    {
      "cell_type": "code",
      "source": [
        "cascade = cv2.CascadeClassifier(path)"
      ],
      "metadata": {
        "id": "Ni6hhOreydSU"
      },
      "execution_count": 94,
      "outputs": []
    },
    {
      "cell_type": "code",
      "source": [
        "pred = cascade.detectMultiScale(img_list[0], scaleFactor=1.1)\n",
        "pred"
      ],
      "metadata": {
        "colab": {
          "base_uri": "https://localhost:8080/"
        },
        "id": "6vtlgJJ90S5M",
        "outputId": "0406893b-abf2-4b4a-ac1a-9fe47aa8e74e"
      },
      "execution_count": 95,
      "outputs": [
        {
          "output_type": "execute_result",
          "data": {
            "text/plain": [
              "array([[2764,  162,   24,   24],\n",
              "       [2811,  194,   20,   20],\n",
              "       [2007,  481,   23,   23],\n",
              "       [2951,   56,   54,   54],\n",
              "       [1845,  506,   40,   40],\n",
              "       [2023,  275,   81,   81],\n",
              "       [ 516,  519,   76,   76],\n",
              "       [1850,  768,   31,   31],\n",
              "       [1118,  894,   52,   52],\n",
              "       [1835,  712,   72,   72],\n",
              "       [1122,  867,  106,  106],\n",
              "       [2130, 1066,   27,   27],\n",
              "       [ 689, 1203,   23,   23],\n",
              "       [1363, 1201,   24,   24],\n",
              "       [ 484, 1156,   57,   57],\n",
              "       [1904, 1314,   24,   24],\n",
              "       [1892, 1430,   25,   25],\n",
              "       [1926, 1440,   22,   22],\n",
              "       [ 592, 1453,   45,   45],\n",
              "       [2633, 1947,   24,   24]], dtype=int32)"
            ]
          },
          "metadata": {},
          "execution_count": 95
        }
      ]
    },
    {
      "cell_type": "code",
      "source": [
        "for x, y, w, h in pred:\n",
        "  cv2.rectangle(img_list[0], (x, y), (x+w, y+h), (0, 0, 255), thickness=2)\n",
        "cv2_imshow(img_list[0])\n",
        "cv2.waitKey(0)"
      ],
      "metadata": {
        "id": "04nWXDYg2iPr"
      },
      "execution_count": null,
      "outputs": []
    },
    {
      "cell_type": "code",
      "source": [],
      "metadata": {
        "id": "ErY40Dz52xqS"
      },
      "execution_count": null,
      "outputs": []
    }
  ]
}