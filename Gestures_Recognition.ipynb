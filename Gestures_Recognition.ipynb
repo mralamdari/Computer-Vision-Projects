{
  "nbformat": 4,
  "nbformat_minor": 0,
  "metadata": {
    "colab": {
      "provenance": [],
      "authorship_tag": "ABX9TyM5jw4nqlzwc0h5ztBsIMta",
      "include_colab_link": true
    },
    "kernelspec": {
      "name": "python3",
      "display_name": "Python 3"
    },
    "language_info": {
      "name": "python"
    }
  },
  "cells": [
    {
      "cell_type": "markdown",
      "metadata": {
        "id": "view-in-github",
        "colab_type": "text"
      },
      "source": [
        "<a href=\"https://colab.research.google.com/github/mralamdari/Computer-Vision-Projects/blob/main/Gestures_Recognition.ipynb\" target=\"_parent\"><img src=\"https://colab.research.google.com/assets/colab-badge.svg\" alt=\"Open In Colab\"/></a>"
      ]
    },
    {
      "cell_type": "code",
      "execution_count": null,
      "metadata": {
        "id": "nzjElyZRPT9H"
      },
      "outputs": [],
      "source": [
        "import cv2\n",
        "import numpy as np\n",
        "import pandas as pd"
      ]
    },
    {
      "cell_type": "code",
      "source": [
        "img_blob = cv2.dnn.blobFromImage(image=img,\n",
        "                                 scalfactor= 1/255,\n",
        "                                 size=(img.shape[1], img.shape[0]))"
      ],
      "metadata": {
        "id": "VgVjHCqSPhtE"
      },
      "execution_count": null,
      "outputs": []
    }
  ]
}