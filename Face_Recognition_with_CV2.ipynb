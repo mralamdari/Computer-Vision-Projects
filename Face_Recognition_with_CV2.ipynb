{
  "nbformat": 4,
  "nbformat_minor": 0,
  "metadata": {
    "colab": {
      "provenance": [],
      "mount_file_id": "1ddOtisxRYE2FpF4qmpfpykrP42oShXYp",
      "authorship_tag": "ABX9TyNgjHSNatsPNQwPU/0S6vNC",
      "include_colab_link": true
    },
    "kernelspec": {
      "name": "python3",
      "display_name": "Python 3"
    },
    "language_info": {
      "name": "python"
    }
  },
  "cells": [
    {
      "cell_type": "markdown",
      "metadata": {
        "id": "view-in-github",
        "colab_type": "text"
      },
      "source": [
        "<a href=\"https://colab.research.google.com/github/mralamdari/Computer-Vision-Projects/blob/main/Face_Recognition_with_CV2.ipynb\" target=\"_parent\"><img src=\"https://colab.research.google.com/assets/colab-badge.svg\" alt=\"Open In Colab\"/></a>"
      ]
    },
    {
      "cell_type": "code",
      "source": [
        "import os\n",
        "import cv2\n",
        "import collections\n",
        "import numpy as np\n",
        "import pandas as pd\n",
        "from PIL import Image\n",
        "from sklearn import metrics\n",
        "from google.colab.patches import cv2_imshow"
      ],
      "metadata": {
        "id": "tpy-74wiz6Mg"
      },
      "execution_count": 26,
      "outputs": []
    },
    {
      "cell_type": "code",
      "execution_count": 16,
      "metadata": {
        "id": "p9eIU7Pxewdk"
      },
      "outputs": [],
      "source": [
        "os.environ['KAGGLE_CONFIG_DIR'] = '/content/drive/MyDrive/'\n",
        "!kaggle datasets download -d olgabelitskaya/yale-face-database\n",
        "os.makedirs('/content/data/', exist_ok=True)\n",
        "os.rename('/content/yale-face-database.zip', '/content/data/yale-face-database.zip')\n",
        "!unzip /content/data/yale-face-database.zip && rm /content/data/yale-face-database.zip\n",
        "os.rename('/content/data/Readme.txt', '/content/Readme.txt')\n",
        "os.rename('/content/data/.ipynb_checkpoints', '/content/.ipynb_checkpoints')"
      ]
    },
    {
      "cell_type": "code",
      "source": [
        "def data_loader(path):\n",
        "\n",
        "  faces, ids = [], []\n",
        "  for p in os.listdir(path):\n",
        "    img = Image.open(os.path.join(path, p)).convert('L')\n",
        "    faces.append(np.array(img, 'uint8'))\n",
        "    id = int(p.split('.')[0].replace('subject', ''))\n",
        "    ids.append(id)\n",
        "  \n",
        "  return faces, np.array(ids)"
      ],
      "metadata": {
        "id": "vXbYkkXR09f4"
      },
      "execution_count": 68,
      "outputs": []
    },
    {
      "cell_type": "code",
      "source": [
        "faces, labels = data_loader('/content/data/')"
      ],
      "metadata": {
        "id": "HguSkqji1ebo"
      },
      "execution_count": 69,
      "outputs": []
    },
    {
      "cell_type": "code",
      "source": [
        "collections.Counter(labels)"
      ],
      "metadata": {
        "colab": {
          "base_uri": "https://localhost:8080/"
        },
        "id": "ugANutYtxjRI",
        "outputId": "20805789-3a14-49f4-d370-9d87cc714f91"
      },
      "execution_count": 70,
      "outputs": [
        {
          "output_type": "execute_result",
          "data": {
            "text/plain": [
              "Counter({15: 11,\n",
              "         14: 11,\n",
              "         5: 11,\n",
              "         8: 11,\n",
              "         9: 11,\n",
              "         12: 11,\n",
              "         3: 11,\n",
              "         10: 11,\n",
              "         11: 11,\n",
              "         4: 11,\n",
              "         6: 11,\n",
              "         7: 11,\n",
              "         2: 11,\n",
              "         1: 11,\n",
              "         13: 11})"
            ]
          },
          "metadata": {},
          "execution_count": 70
        }
      ]
    },
    {
      "cell_type": "code",
      "source": [
        "#dataset is balanced, so lets split it to train/test\n",
        "\n",
        "arr = [0]*16\n",
        "test_x, train_x = [], []\n",
        "test_y, train_y = [], []\n",
        "\n",
        "for f, l in zip(faces, labels):\n",
        "  if arr[l] < 1:\n",
        "    arr[l]+= 1\n",
        "    test_x.append(f)\n",
        "    test_y.append(l)\n",
        "  else:\n",
        "    train_x.append(f)\n",
        "    train_y.append(l)"
      ],
      "metadata": {
        "id": "dH9U9htBx4Qq"
      },
      "execution_count": 71,
      "outputs": []
    },
    {
      "cell_type": "code",
      "source": [
        "lbph_clf = cv2.face.LBPHFaceRecognizer_create()\n",
        "lbph_clf.train(np.array(train_x), np.array(train_y))\n",
        "lbph_clf.write('libph_clf.yml')"
      ],
      "metadata": {
        "id": "fguo4I3tmng2"
      },
      "execution_count": 72,
      "outputs": []
    },
    {
      "cell_type": "code",
      "source": [
        "lbph_clf = cv2.face.LBPHFaceRecognizer_create()\n",
        "lbph_clf.read('libph_clf.yml')"
      ],
      "metadata": {
        "id": "fIwJqtXCuJQP"
      },
      "execution_count": 73,
      "outputs": []
    },
    {
      "cell_type": "code",
      "source": [
        "N=6\n",
        "test = np.array(test_x[N])\n",
        "pred = lbph_clf.predict(test)\n",
        "cv2.putText(test, f'Pred: {pred[0]}', (10, 30), cv2.FONT_HERSHEY_COMPLEX_SMALL, 1, (0, 255, 0))\n",
        "cv2.putText(test, f'Exp: {test_y[N]}', (10, 50), cv2.FONT_HERSHEY_COMPLEX_SMALL, 1, (0, 255, 0))\n",
        "cv2_imshow(test)"
      ],
      "metadata": {
        "colab": {
          "base_uri": "https://localhost:8080/",
          "height": 260
        },
        "id": "AjsV1FmH7TkC",
        "outputId": "11dd3352-f4e3-483f-be11-a780f7af87bd"
      },
      "execution_count": 85,
      "outputs": [
        {
          "output_type": "display_data",
          "data": {
            "text/plain": [
              "<PIL.Image.Image image mode=L size=320x243 at 0x7FB90947EF10>"
            ],
            "image/png": "[encoded data removed]"
          },
          "metadata": {}
        }
      ]
    },
    {
      "cell_type": "code",
      "source": [
        "preds = []\n",
        "for n in range(len(test_y)):\n",
        "  test = np.array(test_x[N])\n",
        "  pred = lbph_clf.predict(test)\n",
        "  preds.append(pred)"
      ],
      "metadata": {
        "id": "XTjD2bx07igB"
      },
      "execution_count": 86,
      "outputs": []
    },
    {
      "cell_type": "code",
      "source": [
        "print(f'Accuracy: %{100*metrics.accuracy_score(preds, test_y)}')"
      ],
      "metadata": {
        "colab": {
          "base_uri": "https://localhost:8080/"
        },
        "id": "9Lon94Jj_D9_",
        "outputId": "0607a875-8fb9-4815-8baa-e29829694ba1"
      },
      "execution_count": 99,
      "outputs": [
        {
          "output_type": "stream",
          "name": "stdout",
          "text": [
            "Accuracy: %100.0\n"
          ]
        }
      ]
    },
    {
      "cell_type": "code",
      "source": [],
      "metadata": {
        "id": "vq6l1oUEB2lt"
      },
      "execution_count": null,
      "outputs": []
    }
  ]
}