{
  "nbformat": 4,
  "nbformat_minor": 0,
  "metadata": {
    "colab": {
      "provenance": [],
      "mount_file_id": "1cil40auqMxAgw9agCKGFwu_9FGE_d117",
      "authorship_tag": "ABX9TyO6oiHw5I/WHE7ouczSXKPk",
      "include_colab_link": true
    },
    "kernelspec": {
      "name": "python3",
      "display_name": "Python 3"
    },
    "language_info": {
      "name": "python"
    }
  },
  "cells": [
    {
      "cell_type": "markdown",
      "metadata": {
        "id": "view-in-github",
        "colab_type": "text"
      },
      "source": [
        "<a href=\"https://colab.research.google.com/github/mralamdari/Computer-Vision-Projects/blob/main/Emotion_Detection_tf.ipynb\" target=\"_parent\"><img src=\"https://colab.research.google.com/assets/colab-badge.svg\" alt=\"Open In Colab\"/></a>"
      ]
    },
    {
      "cell_type": "code",
      "source": [
        "import os\n",
        "import cv2\n",
        "import numpy as np\n",
        "import pandas as pd\n",
        "import seaborn as sns\n",
        "import tensorflow as tf"
      ],
      "metadata": {
        "id": "f8Y7HROmw_82"
      },
      "execution_count": 1,
      "outputs": []
    },
    {
      "cell_type": "code",
      "execution_count": null,
      "metadata": {
        "id": "5-ivAkFyw1J3"
      },
      "outputs": [],
      "source": [
        "os.environ['KAGGLE_CONFIG_DIR'] = '/content/drive/MyDrive'\n",
        "!kaggle datasets download -d msambare/fer2013\n",
        "!unzip \\*.zip && rm *.zip"
      ]
    },
    {
      "cell_type": "code",
      "source": [
        "tf.keras.preprocessing.image.load_img('/content/train/happy/Training_10239785.jpg')"
      ],
      "metadata": {
        "colab": {
          "base_uri": "https://localhost:8080/",
          "height": 65
        },
        "id": "oZSBsQGrjdDW",
        "outputId": "74298a0a-b8d1-4b2f-9b08-e32a703226b1"
      },
      "execution_count": 3,
      "outputs": [
        {
          "output_type": "execute_result",
          "data": {
            "text/plain": [
              "<PIL.Image.Image image mode=RGB size=48x48 at 0x7FA3B7EEFE80>"
            ],
            "image/png": "[encoded data removed]"
          },
          "metadata": {},
          "execution_count": 3
        }
      ]
    },
    {
      "cell_type": "code",
      "source": [
        "train_generator = tf.keras.preprocessing.image.ImageDataGenerator(rescale=1/255,\n",
        "                                                                  horizontal_flip=True,\n",
        "                                                                  zoom_range=0.2)\n",
        "\n",
        "train_dataset = train_generator.flow_from_directory('/content/train',\n",
        "                                                   target_size=(48, 48),\n",
        "                                                   class_mode='categorical',\n",
        "                                                   batch_size=32, \n",
        "                                                   shuffle=True)"
      ],
      "metadata": {
        "colab": {
          "base_uri": "https://localhost:8080/"
        },
        "id": "-iAM07cOkNJe",
        "outputId": "7dab9eb9-084e-4af8-e082-be5c6aee0afb"
      },
      "execution_count": 4,
      "outputs": [
        {
          "output_type": "stream",
          "name": "stdout",
          "text": [
            "Found 28709 images belonging to 7 classes.\n"
          ]
        }
      ]
    },
    {
      "cell_type": "code",
      "source": [
        "test_generator = tf.keras.preprocessing.image.ImageDataGenerator(rescale=1/255)\n",
        "\n",
        "test_dataset = test_generator.flow_from_directory('/content/test/',\n",
        "                                                 target_size=(48, 48),\n",
        "                                                 class_mode='categorical',\n",
        "                                                 batch_size=1,\n",
        "                                                 shuffle=False)"
      ],
      "metadata": {
        "colab": {
          "base_uri": "https://localhost:8080/"
        },
        "id": "hBlZBxmlpEB6",
        "outputId": "dc7751b1-e58f-4e64-db4d-71974459c04a"
      },
      "execution_count": 5,
      "outputs": [
        {
          "output_type": "stream",
          "name": "stdout",
          "text": [
            "Found 7178 images belonging to 7 classes.\n"
          ]
        }
      ]
    },
    {
      "cell_type": "code",
      "source": [
        "x = np.unique(train_dataset.classes, return_counts=True)"
      ],
      "metadata": {
        "id": "5w3FGn7ppziF"
      },
      "execution_count": 6,
      "outputs": []
    },
    {
      "cell_type": "code",
      "source": [
        "sns.countplot(x=train_dataset.classes)"
      ],
      "metadata": {
        "colab": {
          "base_uri": "https://localhost:8080/",
          "height": 282
        },
        "id": "LgkgI8ieu76n",
        "outputId": "54388ce9-5cc1-48a9-9e15-9e7b444108f8"
      },
      "execution_count": 7,
      "outputs": [
        {
          "output_type": "execute_result",
          "data": {
            "text/plain": [
              "<matplotlib.axes._subplots.AxesSubplot at 0x7fa3b6b47370>"
            ]
          },
          "metadata": {},
          "execution_count": 7
        },
        {
          "output_type": "display_data",
          "data": {
            "text/plain": [
              "<Figure size 432x288 with 1 Axes>"
            ],
            "image/png": "[encoded data removed]"
          },
          "metadata": {
            "needs_background": "light"
          }
        }
      ]
    },
    {
      "cell_type": "code",
      "source": [
        "class Network(tf.keras.Model):\n",
        "  def __init__(self, classes, chanDim=-1):\n",
        "    super(Network, self).__init__()\n",
        "    \n",
        "    self.conv1 = tf.keras.layers.Conv2D(32, 3, padding='same')\n",
        "    self.bn1 = tf.keras.layers.BatchNormalization()\n",
        "    self.activation = tf.keras.layers.Activation('relu')\n",
        "    self.conv2 = tf.keras.layers.Conv2D(64, 3, padding='same')\n",
        "    self.bn2 = tf.keras.layers.BatchNormalization()\n",
        "    self.pool1 = tf.keras.layers.MaxPooling2D(pool_size=2)\n",
        "    self.pool2 = tf.keras.layers.MaxPooling2D(pool_size=2)\n",
        "    self.flatten = tf.keras.layers.Flatten()\n",
        "    self.dense1 = tf.keras.layers.Dense(64)\n",
        "    self.drop = tf.keras.layers.Dropout(0.5)\n",
        "    self.softmax = tf.keras.layers.Activation('softmax')\n",
        "    self.dense2 = tf.keras.layers.Dense(classes)\n",
        "\n",
        "  def call(self, inputs):\n",
        "    x = self.conv1(inputs)\n",
        "    x = self.activation(x)\n",
        "    x = self.bn1(x)\n",
        "    x = self.pool1(x)\n",
        "    x = self.conv2(x)\n",
        "    x = self.activation(x)\n",
        "    x = self.bn2(x)\n",
        "    x = self.pool2(x)\n",
        "    x = self.flatten(x)\n",
        "    x = self.dense1(x)\n",
        "    x = self.drop(x)\n",
        "    x = self.dense2(x)\n",
        "    x = self.softmax(x)\n",
        "    return x"
      ],
      "metadata": {
        "id": "HNPgGbCO4UgD"
      },
      "execution_count": 66,
      "outputs": []
    },
    {
      "cell_type": "code",
      "source": [
        "model = Network(len(train_dataset.class_indices))"
      ],
      "metadata": {
        "id": "2yq1qTOivKCe"
      },
      "execution_count": 67,
      "outputs": []
    },
    {
      "cell_type": "code",
      "source": [
        "model.compile(loss='categorical_crossentropy', \n",
        "              optimizer='adam',\n",
        "              metrics=['accuracy'])"
      ],
      "metadata": {
        "id": "Y173Sguc9bYk"
      },
      "execution_count": 68,
      "outputs": []
    },
    {
      "cell_type": "code",
      "source": [
        "# model.summary()"
      ],
      "metadata": {
        "id": "rrbmTsmZXPS6"
      },
      "execution_count": 69,
      "outputs": []
    },
    {
      "cell_type": "code",
      "source": [
        "model.fit(train_dataset, epochs=20)"
      ],
      "metadata": {
        "colab": {
          "base_uri": "https://localhost:8080/"
        },
        "id": "nM2EvAnw9cJ4",
        "outputId": "da1a7752-f4a5-452c-e8e1-98dfe64d46de"
      },
      "execution_count": null,
      "outputs": [
        {
          "output_type": "stream",
          "name": "stdout",
          "text": [
            "Epoch 1/20\n",
            "898/898 [==============================] - 162s 181ms/step - loss: 1.4849 - accuracy: 0.4329\n",
            "Epoch 2/20\n",
            "898/898 [==============================] - 161s 180ms/step - loss: 1.4470 - accuracy: 0.4501\n",
            "Epoch 3/20\n",
            "898/898 [==============================] - 165s 183ms/step - loss: 1.4112 - accuracy: 0.4635\n",
            "Epoch 4/20\n",
            "898/898 [==============================] - 163s 181ms/step - loss: 1.3777 - accuracy: 0.4798\n",
            "Epoch 5/20\n",
            "898/898 [==============================] - 163s 182ms/step - loss: 1.3505 - accuracy: 0.4893\n",
            "Epoch 6/20\n",
            "898/898 [==============================] - 164s 183ms/step - loss: 1.3290 - accuracy: 0.4982\n",
            "Epoch 7/20\n",
            "898/898 [==============================] - 162s 180ms/step - loss: 1.3118 - accuracy: 0.5059\n",
            "Epoch 8/20\n",
            "112/898 [==>...........................] - ETA: 2:20 - loss: 1.2691 - accuracy: 0.5268"
          ]
        }
      ]
    },
    {
      "cell_type": "code",
      "source": [],
      "metadata": {
        "id": "-ZXip-gc_lVM"
      },
      "execution_count": null,
      "outputs": []
    }
  ]
}