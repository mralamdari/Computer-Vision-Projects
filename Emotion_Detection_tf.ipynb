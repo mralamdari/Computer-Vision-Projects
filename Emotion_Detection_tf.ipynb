{
  "nbformat": 4,
  "nbformat_minor": 0,
  "metadata": {
    "colab": {
      "provenance": [],
      "mount_file_id": "1cil40auqMxAgw9agCKGFwu_9FGE_d117",
      "authorship_tag": "ABX9TyP03HRTu6/uN8GDbNGX3Hib",
      "include_colab_link": true
    },
    "kernelspec": {
      "name": "python3",
      "display_name": "Python 3"
    },
    "language_info": {
      "name": "python"
    }
  },
  "cells": [
    {
      "cell_type": "markdown",
      "metadata": {
        "id": "view-in-github",
        "colab_type": "text"
      },
      "source": [
        "<a href=\"https://colab.research.google.com/github/mralamdari/Computer-Vision-Projects/blob/main/Emotion_Detection_tf.ipynb\" target=\"_parent\"><img src=\"https://colab.research.google.com/assets/colab-badge.svg\" alt=\"Open In Colab\"/></a>"
      ]
    },
    {
      "cell_type": "code",
      "source": [
        "import os\n",
        "import cv2\n",
        "import numpy as np\n",
        "import pandas as pd\n",
        "import tensorflow as tf"
      ],
      "metadata": {
        "id": "f8Y7HROmw_82"
      },
      "execution_count": 1,
      "outputs": []
    },
    {
      "cell_type": "code",
      "execution_count": null,
      "metadata": {
        "id": "5-ivAkFyw1J3"
      },
      "outputs": [],
      "source": [
        "os.environ['KAGGLE_CONFIG_DIR'] = '/content/drive/MyDrive'\n",
        "!kaggle datasets download -d msambare/fer2013\n",
        "!unzip \\*.zip && rm *.zip"
      ]
    },
    {
      "cell_type": "code",
      "source": [
        "tf.keras.preprocessing.image.load_img('/content/train/happy/Training_10239785.jpg')"
      ],
      "metadata": {
        "colab": {
          "base_uri": "https://localhost:8080/",
          "height": 65
        },
        "id": "oZSBsQGrjdDW",
        "outputId": "3c2bb8ee-45a5-4f68-9dcd-f48c2a8ef9ae"
      },
      "execution_count": 3,
      "outputs": [
        {
          "output_type": "execute_result",
          "data": {
            "text/plain": [
              "<PIL.Image.Image image mode=RGB size=48x48 at 0x7FED79648850>"
            ],
            "image/png": "[encoded data removed]"
          },
          "metadata": {},
          "execution_count": 3
        }
      ]
    },
    {
      "cell_type": "code",
      "source": [
        "train_generator = tf.keras.preprocessing.image.ImageDataGenerator(rescale=1/255,\n",
        "                                                                  horizontal_flip=True,\n",
        "                                                                  zoom_range=0.2)\n",
        "\n",
        "train_loader = train_generator.flow_from_directory('/content/train',\n",
        "                                                   target_size=(48, 48),\n",
        "                                                   class_mode='categorical',\n",
        "                                                   batch_size=32, \n",
        "                                                   shuffle=True)"
      ],
      "metadata": {
        "colab": {
          "base_uri": "https://localhost:8080/"
        },
        "id": "-iAM07cOkNJe",
        "outputId": "4be5fc0a-b2bc-4b5a-eec1-29bdc5245844"
      },
      "execution_count": 6,
      "outputs": [
        {
          "output_type": "stream",
          "name": "stdout",
          "text": [
            "Found 28709 images belonging to 7 classes.\n"
          ]
        }
      ]
    },
    {
      "cell_type": "code",
      "source": [
        "test_generator = tf.keras.preprocessing.image.ImageDataGenerator(rescale=1/255)\n",
        "\n",
        "test_loader = test_generator.flow_from_directory('/content/test/',\n",
        "                                                 target_size=(48, 48),\n",
        "                                                 class_mode='categorical',\n",
        "                                                 batch_size=1,\n",
        "                                                 shuffle=False)"
      ],
      "metadata": {
        "colab": {
          "base_uri": "https://localhost:8080/"
        },
        "id": "hBlZBxmlpEB6",
        "outputId": "f761872f-9180-424f-86b2-ad5b25962b8f"
      },
      "execution_count": 7,
      "outputs": [
        {
          "output_type": "stream",
          "name": "stdout",
          "text": [
            "Found 7178 images belonging to 7 classes.\n"
          ]
        }
      ]
    },
    {
      "cell_type": "code",
      "source": [],
      "metadata": {
        "id": "5w3FGn7ppziF"
      },
      "execution_count": null,
      "outputs": []
    }
  ]
}