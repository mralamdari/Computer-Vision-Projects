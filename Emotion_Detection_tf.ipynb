{
  "nbformat": 4,
  "nbformat_minor": 0,
  "metadata": {
    "colab": {
      "provenance": [],
      "mount_file_id": "1cil40auqMxAgw9agCKGFwu_9FGE_d117",
      "authorship_tag": "ABX9TyMMWv6+kYBjZXF2AaoczBxs",
      "include_colab_link": true
    },
    "kernelspec": {
      "name": "python3",
      "display_name": "Python 3"
    },
    "language_info": {
      "name": "python"
    }
  },
  "cells": [
    {
      "cell_type": "markdown",
      "metadata": {
        "id": "view-in-github",
        "colab_type": "text"
      },
      "source": [
        "<a href=\"https://colab.research.google.com/github/mralamdari/Computer-Vision-Projects/blob/main/Emotion_Detection_tf.ipynb\" target=\"_parent\"><img src=\"https://colab.research.google.com/assets/colab-badge.svg\" alt=\"Open In Colab\"/></a>"
      ]
    },
    {
      "cell_type": "code",
      "source": [
        "import os\n",
        "import cv2\n",
        "import numpy as np\n",
        "import pandas as pd\n",
        "import seaborn as sns\n",
        "import tensorflow as tf\n",
        "from sklearn import metrics\n",
        "from google.colab.patches import cv2_imshow"
      ],
      "metadata": {
        "id": "f8Y7HROmw_82"
      },
      "execution_count": 43,
      "outputs": []
    },
    {
      "cell_type": "code",
      "execution_count": null,
      "metadata": {
        "id": "5-ivAkFyw1J3"
      },
      "outputs": [],
      "source": [
        "os.environ['KAGGLE_CONFIG_DIR'] = '/content/drive/MyDrive'\n",
        "!kaggle datasets download -d msambare/fer2013\n",
        "!unzip \\*.zip && rm *.zip"
      ]
    },
    {
      "cell_type": "code",
      "source": [
        "tf.keras.preprocessing.image.load_img('/content/train/happy/Training_10239785.jpg')"
      ],
      "metadata": {
        "colab": {
          "base_uri": "https://localhost:8080/",
          "height": 65
        },
        "id": "oZSBsQGrjdDW",
        "outputId": "6a809fe7-3b9a-4c65-91d7-3b4f1cae04e9"
      },
      "execution_count": 3,
      "outputs": [
        {
          "output_type": "execute_result",
          "data": {
            "text/plain": [
              "<PIL.Image.Image image mode=RGB size=48x48 at 0x7FD4B4E7FA90>"
            ],
            "image/png": "[encoded data removed]"
          },
          "metadata": {},
          "execution_count": 3
        }
      ]
    },
    {
      "cell_type": "code",
      "source": [
        "train_generator = tf.keras.preprocessing.image.ImageDataGenerator(rescale=1/255,\n",
        "                                                                  horizontal_flip=True,\n",
        "                                                                  zoom_range=0.2)\n",
        "\n",
        "train_dataset = train_generator.flow_from_directory('/content/train',\n",
        "                                                   target_size=(48, 48),\n",
        "                                                   class_mode='categorical',\n",
        "                                                   batch_size=32, \n",
        "                                                   shuffle=True)"
      ],
      "metadata": {
        "colab": {
          "base_uri": "https://localhost:8080/"
        },
        "id": "-iAM07cOkNJe",
        "outputId": "05e12878-8090-4f28-e153-af0e2d86084e"
      },
      "execution_count": 4,
      "outputs": [
        {
          "output_type": "stream",
          "name": "stdout",
          "text": [
            "Found 28709 images belonging to 7 classes.\n"
          ]
        }
      ]
    },
    {
      "cell_type": "code",
      "source": [
        "test_generator = tf.keras.preprocessing.image.ImageDataGenerator(rescale=1/255)\n",
        "\n",
        "test_dataset = test_generator.flow_from_directory('/content/test/',\n",
        "                                                 target_size=(48, 48),\n",
        "                                                 class_mode='categorical',\n",
        "                                                 batch_size=1,\n",
        "                                                 shuffle=False)"
      ],
      "metadata": {
        "colab": {
          "base_uri": "https://localhost:8080/"
        },
        "id": "hBlZBxmlpEB6",
        "outputId": "84842a3d-0e00-44f3-c16c-ca54f593d4ff"
      },
      "execution_count": 5,
      "outputs": [
        {
          "output_type": "stream",
          "name": "stdout",
          "text": [
            "Found 7178 images belonging to 7 classes.\n"
          ]
        }
      ]
    },
    {
      "cell_type": "code",
      "source": [
        "x = np.unique(train_dataset.classes, return_counts=True)"
      ],
      "metadata": {
        "id": "5w3FGn7ppziF"
      },
      "execution_count": 6,
      "outputs": []
    },
    {
      "cell_type": "code",
      "source": [
        "sns.countplot(x=train_dataset.classes)"
      ],
      "metadata": {
        "colab": {
          "base_uri": "https://localhost:8080/",
          "height": 282
        },
        "id": "LgkgI8ieu76n",
        "outputId": "48a1c891-0a10-468f-9d2c-7d9735908d27"
      },
      "execution_count": 7,
      "outputs": [
        {
          "output_type": "execute_result",
          "data": {
            "text/plain": [
              "<matplotlib.axes._subplots.AxesSubplot at 0x7fd4b4ea1730>"
            ]
          },
          "metadata": {},
          "execution_count": 7
        },
        {
          "output_type": "display_data",
          "data": {
            "text/plain": [
              "<Figure size 432x288 with 1 Axes>"
            ],
            "image/png": "[encoded data removed]"
          },
          "metadata": {
            "needs_background": "light"
          }
        }
      ]
    },
    {
      "cell_type": "code",
      "source": [
        "class Network(tf.keras.Model):\n",
        "  def __init__(self, classes, chanDim=-1):\n",
        "    super(Network, self).__init__()\n",
        "    \n",
        "    self.conv1 = tf.keras.layers.Conv2D(32, 3, padding='same')\n",
        "    self.bn1 = tf.keras.layers.BatchNormalization()\n",
        "    self.activation = tf.keras.layers.Activation('relu')\n",
        "    self.conv2 = tf.keras.layers.Conv2D(64, 3, padding='same')\n",
        "    self.bn2 = tf.keras.layers.BatchNormalization()\n",
        "    self.pool1 = tf.keras.layers.MaxPooling2D(pool_size=2)\n",
        "    self.pool2 = tf.keras.layers.MaxPooling2D(pool_size=2)\n",
        "    self.flatten = tf.keras.layers.Flatten()\n",
        "    self.dense1 = tf.keras.layers.Dense(64)\n",
        "    self.drop = tf.keras.layers.Dropout(0.5)\n",
        "    self.softmax = tf.keras.layers.Activation('softmax')\n",
        "    self.dense2 = tf.keras.layers.Dense(classes)\n",
        "\n",
        "  def call(self, inputs):\n",
        "    x = self.conv1(inputs)\n",
        "    x = self.activation(x)\n",
        "    x = self.bn1(x)\n",
        "    x = self.pool1(x)\n",
        "    x = self.conv2(x)\n",
        "    x = self.activation(x)\n",
        "    x = self.bn2(x)\n",
        "    x = self.pool2(x)\n",
        "    x = self.flatten(x)\n",
        "    x = self.dense1(x)\n",
        "    x = self.drop(x)\n",
        "    x = self.dense2(x)\n",
        "    x = self.softmax(x)\n",
        "    return x"
      ],
      "metadata": {
        "id": "HNPgGbCO4UgD"
      },
      "execution_count": 8,
      "outputs": []
    },
    {
      "cell_type": "code",
      "source": [
        "model = Network(len(train_dataset.class_indices))"
      ],
      "metadata": {
        "id": "2yq1qTOivKCe"
      },
      "execution_count": 9,
      "outputs": []
    },
    {
      "cell_type": "code",
      "source": [
        "model.compile(loss='categorical_crossentropy', \n",
        "              optimizer='adam',\n",
        "              metrics=['accuracy'])"
      ],
      "metadata": {
        "id": "Y173Sguc9bYk"
      },
      "execution_count": 10,
      "outputs": []
    },
    {
      "cell_type": "code",
      "source": [
        "# model.summary()"
      ],
      "metadata": {
        "id": "rrbmTsmZXPS6"
      },
      "execution_count": 11,
      "outputs": []
    },
    {
      "cell_type": "code",
      "source": [
        "model.fit(train_dataset, epochs=20)"
      ],
      "metadata": {
        "colab": {
          "base_uri": "https://localhost:8080/"
        },
        "id": "nM2EvAnw9cJ4",
        "outputId": "4ba72667-2c39-4cbb-846a-30b48edc93cf"
      },
      "execution_count": 12,
      "outputs": [
        {
          "output_type": "stream",
          "name": "stdout",
          "text": [
            "Epoch 1/20\n",
            "898/898 [==============================] - 184s 204ms/step - loss: 3.8348 - accuracy: 0.2760\n",
            "Epoch 2/20\n",
            "898/898 [==============================] - 202s 225ms/step - loss: 1.5849 - accuracy: 0.3925\n",
            "Epoch 3/20\n",
            "898/898 [==============================] - 182s 202ms/step - loss: 1.5167 - accuracy: 0.4175\n",
            "Epoch 4/20\n",
            "898/898 [==============================] - 202s 225ms/step - loss: 1.4754 - accuracy: 0.4366\n",
            "Epoch 5/20\n",
            "898/898 [==============================] - 169s 188ms/step - loss: 1.4342 - accuracy: 0.4538\n",
            "Epoch 6/20\n",
            "898/898 [==============================] - 162s 181ms/step - loss: 1.3857 - accuracy: 0.4733\n",
            "Epoch 7/20\n",
            "898/898 [==============================] - 162s 180ms/step - loss: 1.3636 - accuracy: 0.4849\n",
            "Epoch 8/20\n",
            "898/898 [==============================] - 162s 180ms/step - loss: 1.3394 - accuracy: 0.4960\n",
            "Epoch 9/20\n",
            "898/898 [==============================] - 186s 208ms/step - loss: 1.3227 - accuracy: 0.4997\n",
            "Epoch 10/20\n",
            "898/898 [==============================] - 184s 205ms/step - loss: 1.3038 - accuracy: 0.5113\n",
            "Epoch 11/20\n",
            "898/898 [==============================] - 162s 180ms/step - loss: 1.2911 - accuracy: 0.5137\n",
            "Epoch 12/20\n",
            "898/898 [==============================] - 158s 176ms/step - loss: 1.2715 - accuracy: 0.5210\n",
            "Epoch 13/20\n",
            "898/898 [==============================] - 159s 177ms/step - loss: 1.2577 - accuracy: 0.5264\n",
            "Epoch 14/20\n",
            "898/898 [==============================] - 161s 179ms/step - loss: 1.2451 - accuracy: 0.5336\n",
            "Epoch 15/20\n",
            "898/898 [==============================] - 160s 178ms/step - loss: 1.2302 - accuracy: 0.5388\n",
            "Epoch 16/20\n",
            "898/898 [==============================] - 160s 179ms/step - loss: 1.2240 - accuracy: 0.5404\n",
            "Epoch 17/20\n",
            "898/898 [==============================] - 160s 178ms/step - loss: 1.2151 - accuracy: 0.5458\n",
            "Epoch 18/20\n",
            "898/898 [==============================] - 160s 178ms/step - loss: 1.2109 - accuracy: 0.5479\n",
            "Epoch 19/20\n",
            "898/898 [==============================] - 156s 174ms/step - loss: 1.2012 - accuracy: 0.5482\n",
            "Epoch 20/20\n",
            "898/898 [==============================] - 157s 175ms/step - loss: 1.1994 - accuracy: 0.5508\n"
          ]
        },
        {
          "output_type": "execute_result",
          "data": {
            "text/plain": [
              "<keras.callbacks.History at 0x7fd4b421d040>"
            ]
          },
          "metadata": {},
          "execution_count": 12
        }
      ]
    },
    {
      "cell_type": "code",
      "source": [
        "model.evaluate(test_dataset)"
      ],
      "metadata": {
        "id": "-ZXip-gc_lVM",
        "colab": {
          "base_uri": "https://localhost:8080/"
        },
        "outputId": "24097647-ae14-44a4-e7c5-bc6bf12fa59c"
      },
      "execution_count": 13,
      "outputs": [
        {
          "output_type": "stream",
          "name": "stdout",
          "text": [
            "7178/7178 [==============================] - 32s 4ms/step - loss: 1.2687 - accuracy: 0.5389\n"
          ]
        },
        {
          "output_type": "execute_result",
          "data": {
            "text/plain": [
              "[1.2687082290649414, 0.53886878490448]"
            ]
          },
          "metadata": {},
          "execution_count": 13
        }
      ]
    },
    {
      "cell_type": "code",
      "source": [
        "pred = model.predict(test_dataset)\n",
        "pred"
      ],
      "metadata": {
        "colab": {
          "base_uri": "https://localhost:8080/"
        },
        "id": "9H6aELYl6Gil",
        "outputId": "c88392e5-b387-4800-c013-72a4e71e8ca1"
      },
      "execution_count": 14,
      "outputs": [
        {
          "output_type": "stream",
          "name": "stdout",
          "text": [
            "7178/7178 [==============================] - 32s 4ms/step\n"
          ]
        },
        {
          "output_type": "execute_result",
          "data": {
            "text/plain": [
              "array([[1.7169730e-01, 1.0862484e-03, 1.2469755e-02, ..., 2.4987575e-01,\n",
              "        9.5578521e-02, 8.5691194e-04],\n",
              "       [3.0335075e-01, 4.3874909e-04, 4.0308696e-01, ..., 1.3294150e-01,\n",
              "        9.0219654e-02, 4.2619884e-02],\n",
              "       [6.6807427e-02, 1.6471498e-03, 6.7544892e-02, ..., 1.6071388e-01,\n",
              "        6.8358433e-01, 2.0837260e-03],\n",
              "       ...,\n",
              "       [2.4806284e-03, 5.2634175e-07, 1.5430190e-02, ..., 8.3509181e-03,\n",
              "        1.3418555e-03, 9.5937979e-01],\n",
              "       [4.4347368e-02, 8.4973540e-04, 2.3235355e-02, ..., 1.3347635e-02,\n",
              "        1.8694091e-03, 9.0597701e-01],\n",
              "       [2.3754777e-03, 1.0227612e-05, 1.7671157e-02, ..., 7.0153922e-04,\n",
              "        1.8420687e-04, 9.7691512e-01]], dtype=float32)"
            ]
          },
          "metadata": {},
          "execution_count": 14
        }
      ]
    },
    {
      "cell_type": "code",
      "source": [
        "pred_labels = np.argmax(pred, axis=-1)\n",
        "pred_labels "
      ],
      "metadata": {
        "colab": {
          "base_uri": "https://localhost:8080/"
        },
        "id": "042cIEPG-_Vm",
        "outputId": "662db984-1605-4ce0-acf5-2e9cc3ee8130"
      },
      "execution_count": 15,
      "outputs": [
        {
          "output_type": "execute_result",
          "data": {
            "text/plain": [
              "array([3, 2, 5, ..., 6, 6, 6])"
            ]
          },
          "metadata": {},
          "execution_count": 15
        }
      ]
    },
    {
      "cell_type": "code",
      "source": [
        "metrics.accuracy_score(test_dataset.labels, pred_labels)"
      ],
      "metadata": {
        "colab": {
          "base_uri": "https://localhost:8080/"
        },
        "id": "KX6JNik_BZiv",
        "outputId": "fade3814-5747-46e0-bd0a-fc1b93504cba"
      },
      "execution_count": 17,
      "outputs": [
        {
          "output_type": "execute_result",
          "data": {
            "text/plain": [
              "0.5388687656728894"
            ]
          },
          "metadata": {},
          "execution_count": 17
        }
      ]
    },
    {
      "cell_type": "code",
      "source": [
        "metrics.confusion_matrix( test_dataset.labels, pred_labels)"
      ],
      "metadata": {
        "colab": {
          "base_uri": "https://localhost:8080/"
        },
        "id": "qWcju6BXCqy1",
        "outputId": "62604459-eb34-4acb-fda2-acbadc0bb3f3"
      },
      "execution_count": 18,
      "outputs": [
        {
          "output_type": "execute_result",
          "data": {
            "text/plain": [
              "array([[ 304,    3,  111,  142,  222,  127,   49],\n",
              "       [  26,   20,   16,   18,   11,   16,    4],\n",
              "       [  87,    0,  283,  159,  220,  139,  136],\n",
              "       [  41,    0,   37, 1509,   89,   51,   47],\n",
              "       [  51,    0,   71,  206,  749,  129,   27],\n",
              "       [  98,    2,  131,  220,  378,  399,   19],\n",
              "       [  12,    0,   81,   71,   50,   13,  604]])"
            ]
          },
          "metadata": {},
          "execution_count": 18
        }
      ]
    },
    {
      "cell_type": "markdown",
      "source": [
        "#Evaluating"
      ],
      "metadata": {
        "id": "FsypnPEqwTAg"
      }
    },
    {
      "cell_type": "code",
      "source": [
        "!wget https://raw.githubusercontent.com/opencv/opencv/master/data/haarcascades/haarcascade_frontalcatface.xml"
      ],
      "metadata": {
        "id": "elobiINjDLQ7",
        "colab": {
          "base_uri": "https://localhost:8080/"
        },
        "outputId": "bf2be754-8e23-40c4-f244-b6bc1e295435"
      },
      "execution_count": 19,
      "outputs": [
        {
          "output_type": "stream",
          "name": "stdout",
          "text": [
            "--2023-01-28 15:43:50--  https://raw.githubusercontent.com/opencv/opencv/master/data/haarcascades/haarcascade_frontalcatface.xml\n",
            "Resolving raw.githubusercontent.com (raw.githubusercontent.com)... 185.199.111.133, 185.199.110.133, 185.199.109.133, ...\n",
            "Connecting to raw.githubusercontent.com (raw.githubusercontent.com)|185.199.111.133|:443... connected.\n",
            "HTTP request sent, awaiting response... 200 OK\n",
            "Length: 411388 (402K) [text/plain]\n",
            "Saving to: ‘haarcascade_frontalcatface.xml’\n",
            "\n",
            "haarcascade_frontal 100%[===================>] 401.75K  --.-KB/s    in 0.04s   \n",
            "\n",
            "2023-01-28 15:43:50 (10.9 MB/s) - ‘haarcascade_frontalcatface.xml’ saved [411388/411388]\n",
            "\n"
          ]
        }
      ]
    },
    {
      "cell_type": "code",
      "source": [
        "cascade = cv2.CascadeClassifier('haarcascade_frontalcatface.xml')"
      ],
      "metadata": {
        "id": "A8CktfA8xc4A"
      },
      "execution_count": 20,
      "outputs": []
    },
    {
      "cell_type": "code",
      "source": [
        "img_1 = cv2.imread('1.jpg')\n",
        "img_2 = cv2.imread('2.jpg')\n",
        "img_3 = cv2.imread('3.jpg')"
      ],
      "metadata": {
        "id": "NG1Sy7cC26ww"
      },
      "execution_count": 21,
      "outputs": []
    },
    {
      "cell_type": "code",
      "source": [
        "img = img_1\n",
        "pred = cascade.detectMultiScale(img, scaleFactor=1.009, minNeighbors=4)\n",
        "\n",
        "for x, y, w, h  in pred:\n",
        "  roi = img[y: y+h, x: x+w]\n",
        "  cv2.rectangle(img, (x, y), (x+w, y+h), (255, 0, 0), 1)\n",
        "  roi = cv2.resize(roi, (48, 48)) / 255\n",
        "  roi = np.expand_dims(roi, axis=0)\n",
        "  pred = model.predict(roi)\n",
        "  index = np.argmax(pred, axis=-1)[0]\n",
        "  name = list(train_dataset.class_indices.keys())[index]\n",
        "  cv2.putText(img, name, (x, y-10), cv2.FONT_HERSHEY_SIMPLEX, 0.6, (255, 0, 0), 2, cv2.LINE_AA)\n",
        "  print(f'The Image is: {name}')\n",
        "\n",
        "cv2_imshow(img)"
      ],
      "metadata": {
        "colab": {
          "base_uri": "https://localhost:8080/",
          "height": 269
        },
        "id": "Gqqau8khxloZ",
        "outputId": "bdd5024c-02cf-431a-c63c-88dc5f727773"
      },
      "execution_count": 42,
      "outputs": [
        {
          "output_type": "stream",
          "name": "stdout",
          "text": [
            "1/1 [==============================] - 0s 19ms/step\n",
            "The Image is: neutral\n",
            "1/1 [==============================] - 0s 20ms/step\n",
            "The Image is: sad\n"
          ]
        },
        {
          "output_type": "error",
          "ename": "NameError",
          "evalue": "ignored",
          "traceback": [
            "\u001b[0;31m---------------------------------------------------------------------------\u001b[0m",
            "\u001b[0;31mNameError\u001b[0m                                 Traceback (most recent call last)",
            "\u001b[0;32m<ipython-input-42-95676b9e097f>\u001b[0m in \u001b[0;36m<module>\u001b[0;34m\u001b[0m\n\u001b[1;32m     13\u001b[0m   \u001b[0mprint\u001b[0m\u001b[0;34m(\u001b[0m\u001b[0;34mf'The Image is: {name}'\u001b[0m\u001b[0;34m)\u001b[0m\u001b[0;34m\u001b[0m\u001b[0;34m\u001b[0m\u001b[0m\n\u001b[1;32m     14\u001b[0m \u001b[0;34m\u001b[0m\u001b[0m\n\u001b[0;32m---> 15\u001b[0;31m \u001b[0mcv2_imshow\u001b[0m\u001b[0;34m(\u001b[0m\u001b[0mimg\u001b[0m\u001b[0;34m)\u001b[0m\u001b[0;34m\u001b[0m\u001b[0;34m\u001b[0m\u001b[0m\n\u001b[0m",
            "\u001b[0;31mNameError\u001b[0m: name 'cv2_imshow' is not defined"
          ]
        }
      ]
    },
    {
      "cell_type": "code",
      "source": [],
      "metadata": {
        "id": "qKMY3nqvGkIA"
      },
      "execution_count": null,
      "outputs": []
    },
    {
      "cell_type": "code",
      "source": [],
      "metadata": {
        "id": "jaJ2dkI-GkR6"
      },
      "execution_count": null,
      "outputs": []
    }
  ]
}