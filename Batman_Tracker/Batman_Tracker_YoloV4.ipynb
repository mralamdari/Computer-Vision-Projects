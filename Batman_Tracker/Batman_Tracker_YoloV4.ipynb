{
  "cells": [
    {
      "cell_type": "markdown",
      "metadata": {
        "id": "view-in-github",
        "colab_type": "text"
      },
      "source": [
        "<a href=\"https://colab.research.google.com/github/mralamdari/Computer-Vision-Projects/blob/main/Batman_Tracker_YoloV4.ipynb\" target=\"_parent\"><img src=\"https://colab.research.google.com/assets/colab-badge.svg\" alt=\"Open In Colab\"/></a>"
      ]
    },
    {
      "cell_type": "markdown",
      "metadata": {
        "id": "grnWUzQfFxkV"
      },
      "source": [
        "#Step 0: Essentials"
      ]
    },
    {
      "cell_type": "code",
      "execution_count": null,
      "metadata": {
        "id": "523UhaY12ulJ"
      },
      "outputs": [],
      "source": [
        "import os\n",
        "import cv2\n",
        "import matplotlib.pyplot as plt\n",
        "%matplotlib inline"
      ]
    },
    {
      "cell_type": "code",
      "execution_count": null,
      "metadata": {
        "id": "HLz8Z45NH_0v"
      },
      "outputs": [],
      "source": [
        "def imShow(path):\n",
        "  image = cv2.imread(path)\n",
        "  height, width = image.shape[:2]\n",
        "  resized_image = cv2.resize(image,(3*width, 3*height), interpolation = cv2.INTER_CUBIC)\n",
        "\n",
        "  fig = plt.gcf()\n",
        "  fig.set_size_inches(18, 10)\n",
        "  plt.axis(\"off\")\n",
        "  plt.imshow(cv2.cvtColor(resized_image, cv2.COLOR_BGR2RGB))\n",
        "  plt.show()"
      ]
    },
    {
      "cell_type": "markdown",
      "metadata": {
        "id": "LWuJqsot1Efh"
      },
      "source": [
        "##Download Some Video Clips of Batman from this [Source](https://lyricslive24.com/superman-action-scene/)"
      ]
    },
    {
      "cell_type": "code",
      "execution_count": null,
      "metadata": {
        "id": "p_-N3c4hFxOv"
      },
      "outputs": [],
      "source": [
        "#Sample Videos\n",
        "!wget https://lived2.lyricslive24.com/mp4regular/play/eDdtQk1BNzNoRlgxcjk4dFdzUTEwUT09/Superman-vs-Wonder-women-fight-scene-WhatsApp-status---justice-league--Superman.mp4\n",
        "!wget https://lived2.lyricslive24.com/mp4regular/play/VVZjNlFoZEJOaHk2Y0U5cUFjNWVmUT09/SuperMan-Returns---WhatsApp-Status--Fight-Scene-.mp4\n",
        "!wget https://vfss.b-cdn.net/library/S/Superman-Status-Video/Superman-attitude-full-screen-Shorts.mp4\n",
        "!wget https://lived2.lyricslive24.com/mp4regular/play/T0dLK3ZOTXllVW5IMVJqMUtNZzNXZz09/Whatsapp-Superman-Status-Scene-Fight.mp4\n",
        "!wget https://lived2.lyricslive24.com/mp4regular/play/S0J1WVVIV3A3R1ZJN3hZeDRMb3dNZz09/superman-amazing-fighting-scene-whatsApp-status-short.mp4\n",
        "!wget https://lived2.lyricslive24.com/mp4regular/play/SXpXaGFxZy8wTlVxS3lGRUNvZldZUT09/Superman-Superman-whatsapp-Trinity-wonder-Batman-status-Batman-woman-scene-from-v.mp4"
      ]
    },
    {
      "cell_type": "markdown",
      "metadata": {
        "id": "8XkV6HJHICn8"
      },
      "source": [
        "#Step 1: Darknet\n",
        "To use yolo v4 model, you can get it easily from darknet or you can create a yolo v4 model from scratch"
      ]
    },
    {
      "cell_type": "code",
      "execution_count": null,
      "metadata": {
        "colab": {
          "base_uri": "https://localhost:8080/"
        },
        "id": "M7cX9jioD5X7",
        "outputId": "56d16237-c9b0-415e-d9b6-ec265f05c771"
      },
      "outputs": [
        {
          "name": "stdout",
          "output_type": "stream",
          "text": [
            "Cloning into 'darknet'...\n",
            "remote: Enumerating objects: 15494, done.\u001b[K\n",
            "remote: Counting objects: 100% (4/4), done.\u001b[K\n",
            "remote: Compressing objects: 100% (4/4), done.\u001b[K\n",
            "remote: Total 15494 (delta 0), reused 2 (delta 0), pack-reused 15490\u001b[K\n",
            "Receiving objects: 100% (15494/15494), 14.11 MiB | 11.15 MiB/s, done.\n",
            "Resolving deltas: 100% (10408/10408), done.\n"
          ]
        }
      ],
      "source": [
        "#clone Darknet\n",
        "!git clone https://github.com/AlexeyAB/darknet"
      ]
    },
    {
      "cell_type": "code",
      "execution_count": null,
      "metadata": {
        "colab": {
          "base_uri": "https://localhost:8080/"
        },
        "id": "s3MLksE5HneT",
        "outputId": "690d747a-c3e5-4bd7-e6fd-c847caa826d1"
      },
      "outputs": [
        {
          "name": "stdout",
          "output_type": "stream",
          "text": [
            "/content/darknet\n"
          ]
        }
      ],
      "source": [
        "# change makefile to have gpu and opencv enabled\n",
        "%cd darknet\n",
        "!sed -i 's/OPENCV=0/OPENCV=1/' Makefile\n",
        "!sed -i 's/GPU=0/GPU=1/' Makefile\n",
        "!sed -i 's/CUDNN=0/CUDNN=1/' Makefile"
      ]
    },
    {
      "cell_type": "code",
      "execution_count": null,
      "metadata": {
        "id": "VEb5zPkuHn7F"
      },
      "outputs": [],
      "source": [
        "#Build(make) Darknet\n",
        "!make"
      ]
    },
    {
      "cell_type": "markdown",
      "metadata": {
        "id": "iW3usiP5WAmu"
      },
      "source": [
        "#Step 2: Dataset\n",
        "you can get The Dataset From [Kaggle](https://www.kaggle.com/datasets/mralamdari/superman-or-batman)"
      ]
    },
    {
      "cell_type": "code",
      "execution_count": null,
      "metadata": {
        "id": "LY_C0LTrL3M-"
      },
      "outputs": [],
      "source": [
        "%cd /content/\n",
        "os.environ['KAGGLE_CONFIG_DIR'] = '/content/drive/MyDrive/'\n",
        "!kaggle datasets download -d mralamdari/batman-images-dataset\n",
        "!unzip \\*.zip && rm *.zip"
      ]
    },
    {
      "cell_type": "markdown",
      "metadata": {
        "id": "6b7xzjuiHXuf"
      },
      "source": [
        "1. Create obj.names\n",
        "2. Move images to /content/darknet/\n",
        "3. Create train.txt in /content/darknet/data/obj folder"
      ]
    },
    {
      "cell_type": "code",
      "execution_count": null,
      "metadata": {
        "id": "n9uB1x9d-AVD"
      },
      "outputs": [],
      "source": [
        "NUM_CLASSES = 1\n",
        "picture_folder='Batman'\n",
        "\n",
        "os.rename(f'/content/{picture_folder}/classes.txt', '/content/darknet/data/obj.names')\n",
        "\n",
        "os.rename(f'/content/{picture_folder}', '/content/darknet/data/obj/')\n",
        "\n",
        "data_path='/content/darknet/data/'\n",
        "with open(f'{data_path}train.txt', 'w+') as data_file:\n",
        "      for image_file in os.listdir(f'{data_path}obj'):\n",
        "          if image_file.endswith('.jpg'):\n",
        "              data_file.write(f'{os.path.join(f\"{data_path}obj\", image_file)}\\n')\n",
        "data_file.close()    "
      ]
    },
    {
      "cell_type": "markdown",
      "metadata": {
        "id": "hFINImwexB9D"
      },
      "source": [
        "Adjust yolov4-custom to trainning\n"
      ]
    },
    {
      "cell_type": "code",
      "execution_count": null,
      "metadata": {
        "id": "a2ryAhF9v5OU"
      },
      "outputs": [],
      "source": [
        "with open('/content/darknet/cfg/yolov4.cfg', 'r+') as f:\n",
        "    config_files = f.readlines()\n",
        "\n",
        "config_files[1] = 'batch=64\\n'\n",
        "config_files[2] = 'subdivisions=64\\n'\n",
        "\n",
        "\n",
        "max_batches = 4000 if NUM_CLASSES==1 else NUM_CLASSES*2000\n",
        "config_files[18] = f'max_batches={max_batches}\\n'\n",
        "config_files[20] = f'steps={max_batches*8//10},{max_batches*9//10}\\n'\n",
        "\n",
        "\n",
        "for i, line in enumerate(config_files):\n",
        "    if line == '[yolo]\\n':\n",
        "        config_files[i-4] = f\"filters={3*(5+NUM_CLASSES)}\\n\" # convolutional filters\n",
        "        config_files[i+3] = f\"classes={NUM_CLASSES}\\n\"       # yolo_classes\n",
        "\n",
        "\n",
        "with open('/content/darknet/cfg/yolov4-custom.cfg', 'w+') as f:\n",
        "    f.writelines(config_files)"
      ]
    },
    {
      "cell_type": "markdown",
      "metadata": {
        "id": "F-Af5IJtzaqm"
      },
      "source": [
        "Create Obj.data"
      ]
    },
    {
      "cell_type": "code",
      "execution_count": null,
      "metadata": {
        "id": "YuqcQ-4Vw9g5"
      },
      "outputs": [],
      "source": [
        "with open('/content/darknet/data/obj.data', 'w+') as obj_data:\n",
        "  odata = f\"\"\"classes={NUM_CLASSES}\n",
        "  train=/content/darknet/data/train.txt\n",
        "  valid=/content/darknet/data/test.txt\n",
        "  names=/content/darknet/data/obj.names\n",
        "  backup=/content/drive/MyDrive/Batman_Tracker_YoloV4_backup\n",
        "  \"\"\"\n",
        "  obj_data.write(odata)"
      ]
    },
    {
      "cell_type": "markdown",
      "metadata": {
        "id": "gGwv8tjr0lIw"
      },
      "source": [
        "#Step 3: Model"
      ]
    },
    {
      "cell_type": "markdown",
      "metadata": {
        "id": "f1bE1YAp0CDf"
      },
      "source": [
        "Get pre-trained weights for yolo"
      ]
    },
    {
      "cell_type": "code",
      "execution_count": null,
      "metadata": {
        "id": "XjO4xQa_ztOx"
      },
      "outputs": [],
      "source": [
        "%cd /content/darknet\n",
        "!wget https://github.com/AlexeyAB/darknet/releases/download/darknet_yolo_v3_optimal/yolov4.conv.137"
      ]
    },
    {
      "cell_type": "markdown",
      "metadata": {
        "id": "Zgc7eIru0WjS"
      },
      "source": [
        "### Train from scratch\n",
        "\n",
        "#####Use this code, so colab won't crash after being inactive for more than 10 mins;\n",
        "\n",
        "    function ClickConnect(){\n",
        "    console.log(\"Working\"); \n",
        "    document.querySelector(\"colab-toolbar-button#connect\").click() \n",
        "    }\n",
        "    setInterval(ClickConnect,60000)"
      ]
    },
    {
      "cell_type": "code",
      "execution_count": null,
      "metadata": {
        "id": "oKckwB460Oow"
      },
      "outputs": [],
      "source": [
        "!./darknet detector train /content/darknet/data/obj.data /content/darknet/cfg/yolov4-custom.cfg /content/darknet/yolov4.conv.137 -dont_show"
      ]
    },
    {
      "cell_type": "code",
      "execution_count": null,
      "metadata": {
        "id": "Y1Fyw03vJCRA"
      },
      "outputs": [],
      "source": [
        "imShow('chart.png')"
      ]
    },
    {
      "cell_type": "markdown",
      "metadata": {
        "id": "DjMOmig300LD"
      },
      "source": [
        "### Train from where you ceased training with saved weights."
      ]
    },
    {
      "cell_type": "code",
      "execution_count": null,
      "metadata": {
        "id": "z_UAqYnN01A8"
      },
      "outputs": [],
      "source": [
        "%cd /content/darknet\n",
        "!./darknet detector train /content/darknet/data/obj.data /content/darknet/cfg/yolov4-custom.cfg /content/drive/MyDrive/Batman_Tracker_YoloV4_backup/yolov4-custom_last.weights -dont_show"
      ]
    },
    {
      "cell_type": "code",
      "execution_count": null,
      "metadata": {
        "id": "DWaPlkcp1RZn"
      },
      "outputs": [],
      "source": [
        "imShow('chart.png')"
      ]
    },
    {
      "cell_type": "markdown",
      "metadata": {
        "id": "SItOpUeE1X6B"
      },
      "source": [
        "Adjust yolov4-custom.cfg for testing\n"
      ]
    },
    {
      "cell_type": "code",
      "execution_count": null,
      "metadata": {
        "id": "r1HwYbCi1ZEq"
      },
      "outputs": [],
      "source": [
        "with open('/content/darknet/cfg/yolov4-custom.cfg', 'r+') as f:\n",
        "    config_files = f.readlines()\n",
        "\n",
        "config_files[1] = 'batch=1\\n'\n",
        "config_files[2] = 'subdivisions=1\\n'\n",
        "\n",
        "with open('/content/darknet/cfg/yolov4-custom.cfg', 'w+') as f:\n",
        "    f.writelines(config_files)"
      ]
    },
    {
      "cell_type": "markdown",
      "metadata": {
        "id": "y01RFbRG2tBr"
      },
      "source": [
        "##Predict "
      ]
    },
    {
      "cell_type": "markdown",
      "metadata": {
        "id": "77iZhE4E21ad"
      },
      "source": [
        "###Image Prediction"
      ]
    },
    {
      "cell_type": "code",
      "execution_count": null,
      "metadata": {
        "id": "vrugUOvh2W8a"
      },
      "outputs": [],
      "source": [
        "%cd /content/darknet\n",
        "!./darknet detector test /content/darknet/data/obj.data /content/darknet/cfg/yolov4-custom.cfg /content/drive/MyDrive/Batman_Tracker_YoloV4_backup/yolov4-custom_last.weights /content/darknet/data/obj/11aSUPERMANBATMAN.jpg -thresh 0.2 -dont_show"
      ]
    },
    {
      "cell_type": "code",
      "execution_count": null,
      "metadata": {
        "id": "nvrPh6CY21C8"
      },
      "outputs": [],
      "source": [
        "imShow('predictions.jpg')"
      ]
    },
    {
      "cell_type": "markdown",
      "metadata": {
        "id": "TD2ntEEU239M"
      },
      "source": [
        "###Video Prediction"
      ]
    },
    {
      "cell_type": "code",
      "execution_count": null,
      "metadata": {
        "id": "J4TNDn4G25kM"
      },
      "outputs": [],
      "source": [
        "%cd /content/darknet\n",
        "output_video = '/content/results.avi'\n",
        "\n",
        "!./darknet detector demo /content/darknet/data/obj.data /content/darknet/cfg/yolov4-custom.cfg /content/drive/MyDrive/Batman_Tracker_YoloV4_backup/yolov4-custom_last.weights /content/6.mp4 -dont_show -i 0 -out_filename $output_video"
      ]
    }
  ],
  "metadata": {
    "accelerator": "GPU",
    "colab": {
      "collapsed_sections": [
        "8XkV6HJHICn8"
      ],
      "provenance": [],
      "include_colab_link": true
    },
    "gpuClass": "standard",
    "kernelspec": {
      "display_name": "Python 3",
      "name": "python3"
    },
    "language_info": {
      "name": "python"
    }
  },
  "nbformat": 4,
  "nbformat_minor": 0
}
