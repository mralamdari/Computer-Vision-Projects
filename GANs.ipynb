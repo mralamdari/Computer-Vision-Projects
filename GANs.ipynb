{
  "nbformat": 4,
  "nbformat_minor": 0,
  "metadata": {
    "colab": {
      "provenance": [],
      "authorship_tag": "ABX9TyOnwT64ik93E6xA7BtopXLi",
      "include_colab_link": true
    },
    "kernelspec": {
      "name": "python3",
      "display_name": "Python 3"
    },
    "language_info": {
      "name": "python"
    }
  },
  "cells": [
    {
      "cell_type": "markdown",
      "metadata": {
        "id": "view-in-github",
        "colab_type": "text"
      },
      "source": [
        "<a href=\"https://colab.research.google.com/github/mralamdari/Computer-Vision-Projects/blob/main/GANs.ipynb\" target=\"_parent\"><img src=\"https://colab.research.google.com/assets/colab-badge.svg\" alt=\"Open In Colab\"/></a>"
      ]
    },
    {
      "cell_type": "code",
      "execution_count": 2,
      "metadata": {
        "id": "ndsrCb_ei4d-"
      },
      "outputs": [],
      "source": [
        "import os\n",
        "import numpy as np\n",
        "import pandas as pd\n",
        "import tensorflow as tf\n",
        "import matplotlib.pyplot as plt"
      ]
    },
    {
      "cell_type": "code",
      "source": [
        "(x, y), (_, _) = tf.keras.datasets.mnist.load_data()"
      ],
      "metadata": {
        "id": "NJxNxL89jEu4"
      },
      "execution_count": 10,
      "outputs": []
    },
    {
      "cell_type": "code",
      "source": [
        "x = np.expand_dims(x, axis=-1)\n",
        "x = (x - 127.5) / 127.5\n",
        "x.shape, x.min(), x.max()"
      ],
      "metadata": {
        "colab": {
          "base_uri": "https://localhost:8080/"
        },
        "id": "kjbRjOxNnZWy",
        "outputId": "4b4cf5ea-3e12-4e00-9318-75698ce6967a"
      },
      "execution_count": 11,
      "outputs": [
        {
          "output_type": "execute_result",
          "data": {
            "text/plain": [
              "((60000, 28, 28, 1), -1.0, 1.0)"
            ]
          },
          "metadata": {},
          "execution_count": 11
        }
      ]
    },
    {
      "cell_type": "code",
      "source": [
        "buffer_size=x.shape[0]\n",
        "batch_size=256"
      ],
      "metadata": {
        "id": "kcjX985Knn2J"
      },
      "execution_count": 12,
      "outputs": []
    },
    {
      "cell_type": "code",
      "source": [
        "x = tf.data.Dataset.from_tensor_slices(x).shuffle(buffer_size).batch(batch_size)"
      ],
      "metadata": {
        "id": "oxdbKD97n44p"
      },
      "execution_count": 13,
      "outputs": []
    },
    {
      "cell_type": "code",
      "source": [
        "x"
      ],
      "metadata": {
        "colab": {
          "base_uri": "https://localhost:8080/"
        },
        "id": "OyY3L3JsoKRu",
        "outputId": "84d217ad-be0e-4b06-a3e8-8b8f0d254bb7"
      },
      "execution_count": 14,
      "outputs": [
        {
          "output_type": "execute_result",
          "data": {
            "text/plain": [
              "<BatchDataset element_spec=TensorSpec(shape=(None, 28, 28, 1), dtype=tf.float64, name=None)>"
            ]
          },
          "metadata": {},
          "execution_count": 14
        }
      ]
    },
    {
      "cell_type": "code",
      "source": [
        "def build_generator():\n",
        "  network = tf.keras.Sequential()\n",
        "\n",
        "  network.add(tf.keras.layers.Dense(7*7*256, use_bias=False, input_shape=(100, )))\n",
        "  network.add(tf.keras.layers.BatchNormalization())\n",
        "  network.add(tf.keras.layers.LeakyReLU())\n",
        "\n",
        "\n",
        "  network.add(tf.keras.layers.Reshape(7, 7, 256))\n",
        "\n",
        "  network.add(tf.keras.layers.Conv2DTranspose(128, 5, padding='same', use_bias=False))\n",
        "  network.add(tf.keras.layers.BatchNormalization())\n",
        "  network.add(tf.keras.layers.LeakyReLU())\n",
        "\n",
        "\n",
        "  network.add(tf.keras.layers.Conv2DTranspose(64, 5, strides=2, padding='same', use_bias=False))\n",
        "  network.add(tf.keras.layers.BatchNormalization())\n",
        "  network.add(tf.keras.layers.LeakyReLU())\n",
        "\n",
        "\n",
        "  network.add(tf.keras.layers.Conv2DTranspose(1, 5, strides=2, padding='same', use_bias=False, activation='tanh'))\n",
        "\n",
        "  return network"
      ],
      "metadata": {
        "id": "UiPcyOproLnA"
      },
      "execution_count": 16,
      "outputs": []
    },
    {
      "cell_type": "code",
      "source": [],
      "metadata": {
        "id": "9USOlQnlzvov"
      },
      "execution_count": null,
      "outputs": []
    }
  ]
}