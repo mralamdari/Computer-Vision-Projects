{
  "nbformat": 4,
  "nbformat_minor": 0,
  "metadata": {
    "colab": {
      "provenance": [],
      "authorship_tag": "ABX9TyOfpMFYyfewHWKhOfedBp0L",
      "include_colab_link": true
    },
    "kernelspec": {
      "name": "python3",
      "display_name": "Python 3"
    },
    "language_info": {
      "name": "python"
    }
  },
  "cells": [
    {
      "cell_type": "markdown",
      "metadata": {
        "id": "view-in-github",
        "colab_type": "text"
      },
      "source": [
        "<a href=\"https://colab.research.google.com/github/mralamdari/Computer-Vision-Projects/blob/main/GANs.ipynb\" target=\"_parent\"><img src=\"https://colab.research.google.com/assets/colab-badge.svg\" alt=\"Open In Colab\"/></a>"
      ]
    },
    {
      "cell_type": "code",
      "execution_count": 2,
      "metadata": {
        "id": "ndsrCb_ei4d-"
      },
      "outputs": [],
      "source": [
        "import os\n",
        "import numpy as np\n",
        "import pandas as pd\n",
        "import tensorflow as tf\n",
        "import matplotlib.pyplot as plt"
      ]
    },
    {
      "cell_type": "code",
      "source": [
        "(x, y), (_, _) = tf.keras.datasets.mnist.load_data()"
      ],
      "metadata": {
        "id": "NJxNxL89jEu4"
      },
      "execution_count": 10,
      "outputs": []
    },
    {
      "cell_type": "code",
      "source": [
        "x = np.expand_dims(x, axis=-1)\n",
        "x = (x - 127.5) / 127.5\n",
        "x.shape, x.min(), x.max()"
      ],
      "metadata": {
        "colab": {
          "base_uri": "https://localhost:8080/"
        },
        "id": "kjbRjOxNnZWy",
        "outputId": "4b4cf5ea-3e12-4e00-9318-75698ce6967a"
      },
      "execution_count": 11,
      "outputs": [
        {
          "output_type": "execute_result",
          "data": {
            "text/plain": [
              "((60000, 28, 28, 1), -1.0, 1.0)"
            ]
          },
          "metadata": {},
          "execution_count": 11
        }
      ]
    },
    {
      "cell_type": "code",
      "source": [
        "buffer_size=x.shape[0]\n",
        "batch_size=256"
      ],
      "metadata": {
        "id": "kcjX985Knn2J"
      },
      "execution_count": 12,
      "outputs": []
    },
    {
      "cell_type": "code",
      "source": [
        "x = tf.data.Dataset.from_tensor_slices(x).shuffle(buffer_size).batch(batch_size)"
      ],
      "metadata": {
        "id": "oxdbKD97n44p"
      },
      "execution_count": 13,
      "outputs": []
    },
    {
      "cell_type": "code",
      "source": [
        "x"
      ],
      "metadata": {
        "colab": {
          "base_uri": "https://localhost:8080/"
        },
        "id": "OyY3L3JsoKRu",
        "outputId": "84d217ad-be0e-4b06-a3e8-8b8f0d254bb7"
      },
      "execution_count": 14,
      "outputs": [
        {
          "output_type": "execute_result",
          "data": {
            "text/plain": [
              "<BatchDataset element_spec=TensorSpec(shape=(None, 28, 28, 1), dtype=tf.float64, name=None)>"
            ]
          },
          "metadata": {},
          "execution_count": 14
        }
      ]
    },
    {
      "cell_type": "code",
      "source": [
        "def build_generator():\n",
        "  network = tf.keras.Sequential()\n",
        "\n",
        "  network.add(tf.keras.layers.Dense(7*7*256, use_bias=False, input_shape=(100, )))\n",
        "  network.add(tf.keras.layers.BatchNormalization())\n",
        "  network.add(tf.keras.layers.LeakyReLU())\n",
        "\n",
        "\n",
        "  network.add(tf.keras.layers.Reshape((7, 7, 256)))\n",
        "\n",
        "  network.add(tf.keras.layers.Conv2DTranspose(128, 5, padding='same', use_bias=False))\n",
        "  network.add(tf.keras.layers.BatchNormalization())\n",
        "  network.add(tf.keras.layers.LeakyReLU())\n",
        "\n",
        "\n",
        "  network.add(tf.keras.layers.Conv2DTranspose(64, 5, strides=2, padding='same', use_bias=False))\n",
        "  network.add(tf.keras.layers.BatchNormalization())\n",
        "  network.add(tf.keras.layers.LeakyReLU())\n",
        "\n",
        "\n",
        "  network.add(tf.keras.layers.Conv2DTranspose(1, 5, strides=2, padding='same', use_bias=False, activation='tanh'))\n",
        "\n",
        "  network.summary()\n",
        "  return network"
      ],
      "metadata": {
        "id": "UiPcyOproLnA"
      },
      "execution_count": 20,
      "outputs": []
    },
    {
      "cell_type": "code",
      "source": [
        "generator = build_generator()"
      ],
      "metadata": {
        "colab": {
          "base_uri": "https://localhost:8080/"
        },
        "id": "9USOlQnlzvov",
        "outputId": "067612d5-f708-4f8a-ade8-7524f089c580"
      },
      "execution_count": 21,
      "outputs": [
        {
          "output_type": "stream",
          "name": "stdout",
          "text": [
            "Model: \"sequential_1\"\n",
            "_________________________________________________________________\n",
            " Layer (type)                Output Shape              Param #   \n",
            "=================================================================\n",
            " dense_1 (Dense)             (None, 12544)             1254400   \n",
            "                                                                 \n",
            " batch_normalization_1 (Batc  (None, 12544)            50176     \n",
            " hNormalization)                                                 \n",
            "                                                                 \n",
            " leaky_re_lu_1 (LeakyReLU)   (None, 12544)             0         \n",
            "                                                                 \n",
            " reshape (Reshape)           (None, 7, 7, 256)         0         \n",
            "                                                                 \n",
            " conv2d_transpose (Conv2DTra  (None, 7, 7, 128)        819200    \n",
            " nspose)                                                         \n",
            "                                                                 \n",
            " batch_normalization_2 (Batc  (None, 7, 7, 128)        512       \n",
            " hNormalization)                                                 \n",
            "                                                                 \n",
            " leaky_re_lu_2 (LeakyReLU)   (None, 7, 7, 128)         0         \n",
            "                                                                 \n",
            " conv2d_transpose_1 (Conv2DT  (None, 14, 14, 64)       204800    \n",
            " ranspose)                                                       \n",
            "                                                                 \n",
            " batch_normalization_3 (Batc  (None, 14, 14, 64)       256       \n",
            " hNormalization)                                                 \n",
            "                                                                 \n",
            " leaky_re_lu_3 (LeakyReLU)   (None, 14, 14, 64)        0         \n",
            "                                                                 \n",
            " conv2d_transpose_2 (Conv2DT  (None, 28, 28, 1)        1600      \n",
            " ranspose)                                                       \n",
            "                                                                 \n",
            "=================================================================\n",
            "Total params: 2,330,944\n",
            "Trainable params: 2,305,472\n",
            "Non-trainable params: 25,472\n",
            "_________________________________________________________________\n"
          ]
        }
      ]
    },
    {
      "cell_type": "code",
      "source": [
        "noise = tf.random.normal((1, 100))"
      ],
      "metadata": {
        "id": "wOMXwg8mz6oL"
      },
      "execution_count": 22,
      "outputs": []
    },
    {
      "cell_type": "code",
      "source": [
        "noise"
      ],
      "metadata": {
        "colab": {
          "base_uri": "https://localhost:8080/"
        },
        "id": "xm2lOI810RBk",
        "outputId": "3ceb0571-b033-48c4-b7f2-7f74f60ddba1"
      },
      "execution_count": 23,
      "outputs": [
        {
          "output_type": "execute_result",
          "data": {
            "text/plain": [
              "<tf.Tensor: shape=(1, 100), dtype=float32, numpy=\n",
              "array([[ 1.1135519 , -1.8026693 , -0.14461099, -1.1236316 ,  0.37338278,\n",
              "        -0.9130582 ,  0.44810486,  1.8999417 , -0.19320573, -0.68791217,\n",
              "        -0.7820962 , -2.3990161 , -0.4321758 , -0.14107254, -0.02363138,\n",
              "        -1.7201878 , -0.44618022, -0.6414451 ,  0.07569852, -1.0495553 ,\n",
              "        -0.87089354, -0.26070902,  0.45454738, -1.0191498 , -3.2249906 ,\n",
              "         1.241475  , -0.767997  ,  0.1660599 ,  0.8393945 ,  0.31004748,\n",
              "        -0.07403222,  0.28840336,  0.98822236, -1.6156868 ,  1.4529847 ,\n",
              "         0.85981333, -0.475735  , -0.5871571 ,  0.23134612,  0.7826554 ,\n",
              "        -0.8326037 , -0.94829404,  0.76414007, -1.2163076 ,  0.3776317 ,\n",
              "        -0.76867133,  0.47202745, -0.86645186, -0.02533073, -0.29835132,\n",
              "         0.2155981 , -0.81308603, -1.2564131 ,  0.24190849, -0.7660533 ,\n",
              "         1.2441278 ,  0.11248816, -0.40669313, -0.7926386 , -0.5502796 ,\n",
              "        -0.34174946,  1.1293796 , -0.06790449, -1.050346  , -0.70403606,\n",
              "         1.4062877 ,  0.28128085, -0.3691822 , -0.03547719,  1.0662175 ,\n",
              "        -0.21210599,  0.651404  ,  0.68794817, -1.3315023 , -0.21528311,\n",
              "         0.2877988 ,  1.2069572 , -0.08170751, -0.5981813 ,  0.05483784,\n",
              "        -1.6777462 , -1.8180337 , -0.78115356,  0.32271612,  0.71305543,\n",
              "         1.0400807 ,  0.31178457, -0.6476175 , -1.9477602 , -1.2403513 ,\n",
              "         0.31238806,  0.94981176,  0.95729756, -0.31409782, -0.27264687,\n",
              "         0.91672444,  0.74770045, -0.4131637 , -0.19023035,  1.3634789 ]],\n",
              "      dtype=float32)>"
            ]
          },
          "metadata": {},
          "execution_count": 23
        }
      ]
    },
    {
      "cell_type": "code",
      "source": [
        "generated_img = generator(noise, training=False)\n",
        "generated_img.shape"
      ],
      "metadata": {
        "colab": {
          "base_uri": "https://localhost:8080/"
        },
        "id": "g07Urih40SXH",
        "outputId": "81c58320-5257-415b-e7f1-9bc92b8f97f9"
      },
      "execution_count": 27,
      "outputs": [
        {
          "output_type": "execute_result",
          "data": {
            "text/plain": [
              "TensorShape([1, 28, 28, 1])"
            ]
          },
          "metadata": {},
          "execution_count": 27
        }
      ]
    },
    {
      "cell_type": "code",
      "source": [
        "plt.imshow(generated_img[0, :, :, 0], cmap='gray')"
      ],
      "metadata": {
        "colab": {
          "base_uri": "https://localhost:8080/",
          "height": 282
        },
        "id": "uWUi9sD70YlC",
        "outputId": "8f08315f-85c0-4234-cbd8-5c2934dcd430"
      },
      "execution_count": 35,
      "outputs": [
        {
          "output_type": "execute_result",
          "data": {
            "text/plain": [
              "<matplotlib.image.AxesImage at 0x7f690d69f880>"
            ]
          },
          "metadata": {},
          "execution_count": 35
        },
        {
          "output_type": "display_data",
          "data": {
            "text/plain": [
              "<Figure size 432x288 with 1 Axes>"
            ],
            "image/png": "[encoded data removed]"
          },
          "metadata": {
            "needs_background": "light"
          }
        }
      ]
    },
    {
      "cell_type": "code",
      "source": [],
      "metadata": {
        "id": "OoVp8Ns60qbz"
      },
      "execution_count": null,
      "outputs": []
    }
  ]
}