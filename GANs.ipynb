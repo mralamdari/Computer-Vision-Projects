{
  "nbformat": 4,
  "nbformat_minor": 0,
  "metadata": {
    "colab": {
      "provenance": [],
      "collapsed_sections": [
        "uFB-BgzQ4kDI",
        "oE08GaVr4mIf",
        "soLw64W_6nqA"
      ],
      "authorship_tag": "ABX9TyOUZZ7N2Yab3KfwwkM5I1MJ",
      "include_colab_link": true
    },
    "kernelspec": {
      "name": "python3",
      "display_name": "Python 3"
    },
    "language_info": {
      "name": "python"
    }
  },
  "cells": [
    {
      "cell_type": "markdown",
      "metadata": {
        "id": "view-in-github",
        "colab_type": "text"
      },
      "source": [
        "<a href=\"https://colab.research.google.com/github/mralamdari/Computer-Vision-Projects/blob/main/GANs.ipynb\" target=\"_parent\"><img src=\"https://colab.research.google.com/assets/colab-badge.svg\" alt=\"Open In Colab\"/></a>"
      ]
    },
    {
      "cell_type": "code",
      "execution_count": 5,
      "metadata": {
        "id": "ndsrCb_ei4d-"
      },
      "outputs": [],
      "source": [
        "import os\n",
        "import numpy as np\n",
        "import pandas as pd\n",
        "import tensorflow as tf\n",
        "import matplotlib.pyplot as plt"
      ]
    },
    {
      "cell_type": "code",
      "source": [
        "(x, y), (_, _) = tf.keras.datasets.mnist.load_data()"
      ],
      "metadata": {
        "id": "NJxNxL89jEu4"
      },
      "execution_count": 6,
      "outputs": []
    },
    {
      "cell_type": "code",
      "source": [
        "x = np.expand_dims(x, axis=-1)\n",
        "x = (x - 127.5) / 127.5\n",
        "x.shape, x.min(), x.max()"
      ],
      "metadata": {
        "colab": {
          "base_uri": "https://localhost:8080/"
        },
        "id": "kjbRjOxNnZWy",
        "outputId": "db5e2534-66c7-48e5-df05-f00152a9b83c"
      },
      "execution_count": 7,
      "outputs": [
        {
          "output_type": "execute_result",
          "data": {
            "text/plain": [
              "((60000, 28, 28, 1), -1.0, 1.0)"
            ]
          },
          "metadata": {},
          "execution_count": 7
        }
      ]
    },
    {
      "cell_type": "code",
      "source": [
        "buffer_size=x.shape[0]\n",
        "batch_size=256"
      ],
      "metadata": {
        "id": "kcjX985Knn2J"
      },
      "execution_count": 8,
      "outputs": []
    },
    {
      "cell_type": "code",
      "source": [
        "x = tf.data.Dataset.from_tensor_slices(x).shuffle(buffer_size).batch(batch_size)"
      ],
      "metadata": {
        "id": "oxdbKD97n44p"
      },
      "execution_count": 9,
      "outputs": []
    },
    {
      "cell_type": "code",
      "source": [
        "x"
      ],
      "metadata": {
        "colab": {
          "base_uri": "https://localhost:8080/"
        },
        "id": "OyY3L3JsoKRu",
        "outputId": "24674936-ba03-4d0e-f7d2-73cc287fc046"
      },
      "execution_count": 10,
      "outputs": [
        {
          "output_type": "execute_result",
          "data": {
            "text/plain": [
              "<BatchDataset element_spec=TensorSpec(shape=(None, 28, 28, 1), dtype=tf.float64, name=None)>"
            ]
          },
          "metadata": {},
          "execution_count": 10
        }
      ]
    },
    {
      "cell_type": "markdown",
      "source": [
        "#Generator"
      ],
      "metadata": {
        "id": "uFB-BgzQ4kDI"
      }
    },
    {
      "cell_type": "code",
      "source": [
        "def build_generator():\n",
        "  network = tf.keras.Sequential()\n",
        "\n",
        "  network.add(tf.keras.layers.Dense(7*7*256, use_bias=False, input_shape=(100, )))\n",
        "  network.add(tf.keras.layers.BatchNormalization())\n",
        "  network.add(tf.keras.layers.LeakyReLU())\n",
        "\n",
        "\n",
        "  network.add(tf.keras.layers.Reshape((7, 7, 256)))\n",
        "\n",
        "  network.add(tf.keras.layers.Conv2DTranspose(128, 5, padding='same', use_bias=False))\n",
        "  network.add(tf.keras.layers.BatchNormalization())\n",
        "  network.add(tf.keras.layers.LeakyReLU())\n",
        "\n",
        "\n",
        "  network.add(tf.keras.layers.Conv2DTranspose(64, 5, strides=2, padding='same', use_bias=False))\n",
        "  network.add(tf.keras.layers.BatchNormalization())\n",
        "  network.add(tf.keras.layers.LeakyReLU())\n",
        "\n",
        "\n",
        "  network.add(tf.keras.layers.Conv2DTranspose(1, 5, strides=2, padding='same', use_bias=False, activation='tanh'))\n",
        "\n",
        "  network.summary()\n",
        "  return network"
      ],
      "metadata": {
        "id": "UiPcyOproLnA"
      },
      "execution_count": 11,
      "outputs": []
    },
    {
      "cell_type": "code",
      "source": [
        "generator = build_generator()"
      ],
      "metadata": {
        "colab": {
          "base_uri": "https://localhost:8080/"
        },
        "id": "9USOlQnlzvov",
        "outputId": "496e5361-281c-4511-cba3-06b47cd1eb31"
      },
      "execution_count": 12,
      "outputs": [
        {
          "output_type": "stream",
          "name": "stdout",
          "text": [
            "Model: \"sequential\"\n",
            "_________________________________________________________________\n",
            " Layer (type)                Output Shape              Param #   \n",
            "=================================================================\n",
            " dense (Dense)               (None, 12544)             1254400   \n",
            "                                                                 \n",
            " batch_normalization (BatchN  (None, 12544)            50176     \n",
            " ormalization)                                                   \n",
            "                                                                 \n",
            " leaky_re_lu (LeakyReLU)     (None, 12544)             0         \n",
            "                                                                 \n",
            " reshape (Reshape)           (None, 7, 7, 256)         0         \n",
            "                                                                 \n",
            " conv2d_transpose (Conv2DTra  (None, 7, 7, 128)        819200    \n",
            " nspose)                                                         \n",
            "                                                                 \n",
            " batch_normalization_1 (Batc  (None, 7, 7, 128)        512       \n",
            " hNormalization)                                                 \n",
            "                                                                 \n",
            " leaky_re_lu_1 (LeakyReLU)   (None, 7, 7, 128)         0         \n",
            "                                                                 \n",
            " conv2d_transpose_1 (Conv2DT  (None, 14, 14, 64)       204800    \n",
            " ranspose)                                                       \n",
            "                                                                 \n",
            " batch_normalization_2 (Batc  (None, 14, 14, 64)       256       \n",
            " hNormalization)                                                 \n",
            "                                                                 \n",
            " leaky_re_lu_2 (LeakyReLU)   (None, 14, 14, 64)        0         \n",
            "                                                                 \n",
            " conv2d_transpose_2 (Conv2DT  (None, 28, 28, 1)        1600      \n",
            " ranspose)                                                       \n",
            "                                                                 \n",
            "=================================================================\n",
            "Total params: 2,330,944\n",
            "Trainable params: 2,305,472\n",
            "Non-trainable params: 25,472\n",
            "_________________________________________________________________\n"
          ]
        }
      ]
    },
    {
      "cell_type": "code",
      "source": [
        "noise = tf.random.normal((1, 100))"
      ],
      "metadata": {
        "id": "wOMXwg8mz6oL"
      },
      "execution_count": 13,
      "outputs": []
    },
    {
      "cell_type": "code",
      "source": [
        "noise"
      ],
      "metadata": {
        "colab": {
          "base_uri": "https://localhost:8080/"
        },
        "id": "xm2lOI810RBk",
        "outputId": "2a770d0a-9bdc-49d0-babc-9d2ca5d1b2e3"
      },
      "execution_count": 14,
      "outputs": [
        {
          "output_type": "execute_result",
          "data": {
            "text/plain": [
              "<tf.Tensor: shape=(1, 100), dtype=float32, numpy=\n",
              "array([[ 0.30782148,  0.7302129 , -1.1990811 , -0.4213277 ,  1.1100484 ,\n",
              "         1.4224571 ,  0.6566732 ,  0.7504005 ,  0.07845496, -1.8497941 ,\n",
              "        -0.19773577, -0.67803085,  0.7665721 , -0.63106817,  0.64483756,\n",
              "        -1.3666557 , -2.1427672 , -0.06148845,  0.79017055, -0.95017993,\n",
              "         0.67751974,  0.9430464 , -1.7420646 , -1.0147426 ,  1.1689572 ,\n",
              "        -0.41500115,  0.90472704, -0.44750273,  1.593575  ,  0.67036825,\n",
              "        -0.43121153,  0.7057064 ,  1.0637403 , -0.5193298 ,  0.8256245 ,\n",
              "         2.8866136 , -0.8847381 ,  0.17457849, -1.0577023 , -1.0284861 ,\n",
              "        -0.37535992,  0.13101518, -0.40291867,  0.3586956 , -0.6170585 ,\n",
              "         0.9170026 ,  0.8063689 ,  0.24600103,  0.22891487,  1.2850709 ,\n",
              "         0.47793564, -0.9463882 ,  0.91291946,  0.78941786, -1.0202273 ,\n",
              "        -1.8001038 , -1.7347554 , -0.84458035,  0.596528  ,  2.1509054 ,\n",
              "         0.1405076 ,  0.36249968,  0.03729421,  0.7170112 ,  0.31567374,\n",
              "        -0.407168  , -0.66375995, -1.138566  ,  0.94954103,  0.26133293,\n",
              "         0.11833014, -0.75201386,  1.0296011 , -0.9365105 ,  0.71618813,\n",
              "        -0.5352669 , -0.45988533, -1.1920321 ,  0.80137914, -1.4464877 ,\n",
              "         1.5672473 ,  1.5840936 ,  0.54381096, -0.33261153,  0.3513904 ,\n",
              "        -0.01273188, -0.34998783,  0.2922988 , -0.6136386 , -0.25440314,\n",
              "         0.79859126, -0.85390675,  1.7948273 , -0.0290997 , -0.67581207,\n",
              "         0.6220718 ,  0.7746365 , -0.47655374,  0.9933548 , -0.6078343 ]],\n",
              "      dtype=float32)>"
            ]
          },
          "metadata": {},
          "execution_count": 14
        }
      ]
    },
    {
      "cell_type": "code",
      "source": [
        "generated_img = generator(noise, training=False)\n",
        "generated_img.shape"
      ],
      "metadata": {
        "colab": {
          "base_uri": "https://localhost:8080/"
        },
        "id": "g07Urih40SXH",
        "outputId": "e38d23f1-506d-4747-a898-fc3e1a81a150"
      },
      "execution_count": 15,
      "outputs": [
        {
          "output_type": "execute_result",
          "data": {
            "text/plain": [
              "TensorShape([1, 28, 28, 1])"
            ]
          },
          "metadata": {},
          "execution_count": 15
        }
      ]
    },
    {
      "cell_type": "code",
      "source": [
        "plt.imshow(generated_img[0, :, :, 0], cmap='gray')"
      ],
      "metadata": {
        "colab": {
          "base_uri": "https://localhost:8080/",
          "height": 0
        },
        "id": "uWUi9sD70YlC",
        "outputId": "02803fef-0ad2-40cd-e611-9947a7f8bdb1"
      },
      "execution_count": 16,
      "outputs": [
        {
          "output_type": "execute_result",
          "data": {
            "text/plain": [
              "<matplotlib.image.AxesImage at 0x7fb6f3251e50>"
            ]
          },
          "metadata": {},
          "execution_count": 16
        },
        {
          "output_type": "display_data",
          "data": {
            "text/plain": [
              "<Figure size 432x288 with 1 Axes>"
            ],
            "image/png": "[encoded data removed]"
          },
          "metadata": {
            "needs_background": "light"
          }
        }
      ]
    },
    {
      "cell_type": "markdown",
      "source": [
        "#Discriminator"
      ],
      "metadata": {
        "id": "oE08GaVr4mIf"
      }
    },
    {
      "cell_type": "code",
      "source": [
        "def build_discriminator():\n",
        "  network = tf.keras.Sequential()\n",
        "\n",
        "  network.add(tf.keras.layers.Conv2D(64, 5, strides=2, padding='same', input_shape=(28, 28, 1)))\n",
        "  network.add(tf.keras.layers.Dropout(0.3))\n",
        "  network.add(tf.keras.layers.LeakyReLU())\n",
        "\n",
        "  network.add(tf.keras.layers.Conv2D(128, 5, padding='same'))\n",
        "  network.add(tf.keras.layers.Dropout(0.3))\n",
        "  network.add(tf.keras.layers.LeakyReLU())\n",
        "\n",
        "  network.add(tf.keras.layers.Flatten())\n",
        "  network.add(tf.keras.layers.Dense(1))\n",
        "\n",
        "  network.summary()\n",
        "\n",
        "  return network"
      ],
      "metadata": {
        "id": "OoVp8Ns60qbz"
      },
      "execution_count": 17,
      "outputs": []
    },
    {
      "cell_type": "code",
      "source": [
        "discriminator = build_discriminator()"
      ],
      "metadata": {
        "colab": {
          "base_uri": "https://localhost:8080/"
        },
        "id": "TJ9eYr7m4rfW",
        "outputId": "79601c92-a74b-4c9a-8f3b-dee4afda9f00"
      },
      "execution_count": 18,
      "outputs": [
        {
          "output_type": "stream",
          "name": "stdout",
          "text": [
            "Model: \"sequential_1\"\n",
            "_________________________________________________________________\n",
            " Layer (type)                Output Shape              Param #   \n",
            "=================================================================\n",
            " conv2d (Conv2D)             (None, 14, 14, 64)        1664      \n",
            "                                                                 \n",
            " dropout (Dropout)           (None, 14, 14, 64)        0         \n",
            "                                                                 \n",
            " leaky_re_lu_3 (LeakyReLU)   (None, 14, 14, 64)        0         \n",
            "                                                                 \n",
            " conv2d_1 (Conv2D)           (None, 14, 14, 128)       204928    \n",
            "                                                                 \n",
            " dropout_1 (Dropout)         (None, 14, 14, 128)       0         \n",
            "                                                                 \n",
            " leaky_re_lu_4 (LeakyReLU)   (None, 14, 14, 128)       0         \n",
            "                                                                 \n",
            " flatten (Flatten)           (None, 25088)             0         \n",
            "                                                                 \n",
            " dense_1 (Dense)             (None, 1)                 25089     \n",
            "                                                                 \n",
            "=================================================================\n",
            "Total params: 231,681\n",
            "Trainable params: 231,681\n",
            "Non-trainable params: 0\n",
            "_________________________________________________________________\n"
          ]
        }
      ]
    },
    {
      "cell_type": "code",
      "source": [
        "discriminator(generated_img, training=False)"
      ],
      "metadata": {
        "colab": {
          "base_uri": "https://localhost:8080/"
        },
        "id": "yp2o5y_C5OfZ",
        "outputId": "d1b14cf9-face-48bc-cfea-53de90ffe66a"
      },
      "execution_count": 19,
      "outputs": [
        {
          "output_type": "execute_result",
          "data": {
            "text/plain": [
              "<tf.Tensor: shape=(1, 1), dtype=float32, numpy=array([[0.00139575]], dtype=float32)>"
            ]
          },
          "metadata": {},
          "execution_count": 19
        }
      ]
    },
    {
      "cell_type": "markdown",
      "source": [
        "#Loss"
      ],
      "metadata": {
        "id": "soLw64W_6nqA"
      }
    },
    {
      "cell_type": "code",
      "source": [
        "cross_entropy = tf.keras.losses.BinaryCrossentropy(from_logits=True)"
      ],
      "metadata": {
        "id": "Meks37ga5SpW"
      },
      "execution_count": 20,
      "outputs": []
    },
    {
      "cell_type": "code",
      "source": [
        "def discriminator_loss(expected_output, fake_output):\n",
        "  real_loss = cross_entropy(tf.ones_like(expected_output), expected_output)\n",
        "  fake_loss = cross_entropy(tf.zeros_like(fake_output), fake_output)\n",
        "  return real_loss + fake_loss"
      ],
      "metadata": {
        "id": "FvUJaMTt6vxs"
      },
      "execution_count": 21,
      "outputs": []
    },
    {
      "cell_type": "code",
      "source": [
        "def generator_loss(fake_output):\n",
        "  return cross_entropy(tf.ones_like(fake_output), fake_output)"
      ],
      "metadata": {
        "id": "XxitTJxt7CtB"
      },
      "execution_count": 22,
      "outputs": []
    },
    {
      "cell_type": "code",
      "source": [
        "generator_optimizer = tf.keras.optimizers.Adam(learning_rate=0.00001)\n",
        "discriminator_optimizer = tf.keras.optimizers.Adam(learning_rate=0.00001)"
      ],
      "metadata": {
        "id": "Nsa7FkhO7OcC"
      },
      "execution_count": 23,
      "outputs": []
    },
    {
      "cell_type": "markdown",
      "source": [
        "#Train"
      ],
      "metadata": {
        "id": "raFeAWMzDpFz"
      }
    },
    {
      "cell_type": "code",
      "source": [
        "epochs = 10\n",
        "noise_dim = 100\n",
        "num_image_to_generate = 16\n",
        "batch_size = 256"
      ],
      "metadata": {
        "id": "E6ACXdci7g5F"
      },
      "execution_count": 30,
      "outputs": []
    },
    {
      "cell_type": "code",
      "source": [
        "@tf.function\n",
        "def train_steps(images):\n",
        "  noise = tf.random.normal([batch_size, noise_dim])\n",
        "  with tf.GradientTape() as gen_tape, tf.GradientTape() as disc_tape:\n",
        "    \n",
        "    generated_images = generator(noise, training=True)\n",
        "\n",
        "    expected_output = discriminator(images, training=True)\n",
        "    fake_output = discriminator(generated_images, training=True)\n",
        "    \n",
        "    gen_loss = generator_loss(fake_output)\n",
        "    disc_loss = discriminator_loss(expected_output, fake_output)\n",
        "  \n",
        "  gradients_of_generator = gen_tape.gradient(gen_loss, generator.trainable_variables)\n",
        "  gradients_of_discriminator = disc_tape.gradient(disc_loss, discriminator.trainable_variables)\n",
        "\n",
        "\n",
        "  generator_optimizer.apply_gradients(zip(gradients_of_generator, generator.trainable_variables))\n",
        "  discriminator_optimizer.apply_gradients(zip(gradients_of_discriminator, discriminator.trainable_variables))"
      ],
      "metadata": {
        "id": "IeIL564IDzSu"
      },
      "execution_count": 25,
      "outputs": []
    },
    {
      "cell_type": "code",
      "source": [
        "def train(dataset, epochs, test_images):\n",
        "  for epoch in range(epochs):\n",
        "    for i, image_batch in enumerate(dataset):\n",
        "      print(i)\n",
        "      train_steps(image_batch)\n",
        "    \n",
        "    print(f'Epoch --- {epoch}')\n",
        "    generated_images = generator(test_images, training=False)\n",
        "    fog = plt.figure(figsize=(10, 10))\n",
        "    for i in range(generated_images.shape[0]):\n",
        "      plt.subplot(4, 4, i+1)\n",
        "      plt.imshow(generated_images[i, :, :, 0] * 127.5 + 127.5, cmap='gray')\n",
        "      plt.axis('off')\n",
        "    plt.show()"
      ],
      "metadata": {
        "id": "NRnYCYcaD3TX"
      },
      "execution_count": 31,
      "outputs": []
    },
    {
      "cell_type": "code",
      "source": [
        "test_images = tf.random.normal([batch_size, noise_dim])\n",
        "train(x, epochs, test_images)"
      ],
      "metadata": {
        "colab": {
          "base_uri": "https://localhost:8080/"
        },
        "id": "U5-It-mZGQbe",
        "outputId": "25f65407-972f-4f47-aa3f-3b25c14109ea"
      },
      "execution_count": null,
      "outputs": [
        {
          "output_type": "stream",
          "name": "stdout",
          "text": [
            "0\n",
            "1\n",
            "2\n",
            "3\n",
            "4\n",
            "5\n",
            "6\n",
            "7\n",
            "8\n",
            "9\n",
            "10\n",
            "11\n",
            "12\n",
            "13\n",
            "14\n",
            "15\n",
            "16\n",
            "17\n",
            "18\n",
            "19\n",
            "20\n",
            "21\n",
            "22\n",
            "23\n",
            "24\n",
            "25\n",
            "26\n",
            "27\n",
            "28\n"
          ]
        }
      ]
    },
    {
      "cell_type": "code",
      "source": [],
      "metadata": {
        "id": "lDY3GFb5I9EF"
      },
      "execution_count": null,
      "outputs": []
    }
  ]
}