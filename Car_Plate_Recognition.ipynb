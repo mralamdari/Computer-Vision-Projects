{
  "nbformat": 4,
  "nbformat_minor": 0,
  "metadata": {
    "colab": {
      "provenance": [],
      "mount_file_id": "1fjUo9sB1Ryirj8NXd42FXqz_HJYyh2F6",
      "authorship_tag": "ABX9TyNXKuHCnTcgz8nJH0z0eObO",
      "include_colab_link": true
    },
    "kernelspec": {
      "name": "python3",
      "display_name": "Python 3"
    },
    "language_info": {
      "name": "python"
    },
    "gpuClass": "standard",
    "accelerator": "GPU"
  },
  "cells": [
    {
      "cell_type": "markdown",
      "metadata": {
        "id": "view-in-github",
        "colab_type": "text"
      },
      "source": [
        "<a href=\"https://colab.research.google.com/github/mralamdari/Computer-Vision-Projects/blob/main/Car_Plate_Recognition.ipynb\" target=\"_parent\"><img src=\"https://colab.research.google.com/assets/colab-badge.svg\" alt=\"Open In Colab\"/></a>"
      ]
    },
    {
      "cell_type": "code",
      "source": [
        "import os\n",
        "import glob\n",
        "import matplotlib\n",
        "import numpy as np\n",
        "import pandas as pd\n",
        "import tensorflow as tf\n",
        "import matplotlib.pyplot as plt\n",
        "import xml.etree.ElementTree as ET\n",
        "from sklearn import model_selection\n",
        "\n",
        "tf.__version__"
      ],
      "metadata": {
        "id": "wZ_-2cnjgFEL"
      },
      "execution_count": null,
      "outputs": []
    },
    {
      "cell_type": "code",
      "source": [
        "os.environ['KAGGLE_CONFIG_DIR'] = '/content/drive/MyDrive'\n",
        "!kaggle datasets download -d andrewmvd/car-plate-detection\n",
        "!unzip \\*.zip && rm *.zip"
      ],
      "metadata": {
        "id": "kl93Gk7NgFBa"
      },
      "execution_count": null,
      "outputs": []
    },
    {
      "cell_type": "code",
      "source": [
        "os.makedirs('/content/data/', exist_ok=True)\n",
        "os.replace('/content/images', '/content/data/images')\n",
        "os.replace('/content/annotations', '/content/data/annotations')"
      ],
      "metadata": {
        "id": "GK34bCgTVfso"
      },
      "execution_count": null,
      "outputs": []
    },
    {
      "cell_type": "code",
      "source": [
        "IMAGE_PATH = '/content/data/images/'\n",
        "ANNOTATION_PATH =  '/content/data/annotations/'"
      ],
      "metadata": {
        "id": "BwsIcn12WfMy"
      },
      "execution_count": null,
      "outputs": []
    },
    {
      "cell_type": "code",
      "source": [
        "def xml_to_XY(path, img_path):\n",
        "  Y = []\n",
        "  X = []\n",
        "  for xml_file in glob.glob(path+'*.xml'):\n",
        "    tree = ET.parse(xml_file)\n",
        "    root = tree.getroot()\n",
        "    img_name = img_path + xml_file.replace(path, '')[:-4]+'.png'\n",
        "\n",
        "    h, w, d = plt.imread(img_name).shape\n",
        "\n",
        "    img = tf.keras.preprocessing.image.load_img(img_name, target_size=(320, 320))\n",
        "    img_arr = tf.keras.preprocessing.image.img_to_array(img) / 255.0\n",
        "\n",
        "\n",
        "    for children in root.findall('object'):\n",
        "      bndbox = children[5]\n",
        "      xmin = float(bndbox[0].text) / w\n",
        "      ymin = float(bndbox[1].text) / h\n",
        "      xmax = float(bndbox[2].text) / w\n",
        "      ymax = float(bndbox[3].text) / h\n",
        "      width  = xmax - xmin\n",
        "      height = ymax - ymin\n",
        "      \n",
        "      X.append(img_arr)\n",
        "      Y.append([xmin, ymin, width, height])\n",
        "\n",
        "  return X, Y"
      ],
      "metadata": {
        "id": "mE53o49dLTlS"
      },
      "execution_count": null,
      "outputs": []
    },
    {
      "cell_type": "code",
      "source": [
        "x, y = xml_to_XY(ANNOTATION_PATH, IMAGE_PATH)"
      ],
      "metadata": {
        "id": "rhtW54HL9CO6"
      },
      "execution_count": null,
      "outputs": []
    },
    {
      "cell_type": "code",
      "source": [
        "x = np.array(x)\n",
        "y = np.array(y)"
      ],
      "metadata": {
        "id": "tXACErNgQxDN"
      },
      "execution_count": null,
      "outputs": []
    },
    {
      "cell_type": "code",
      "source": [
        "x.shape, y.shape"
      ],
      "metadata": {
        "colab": {
          "base_uri": "https://localhost:8080/"
        },
        "id": "JnsQKFUZPQcH",
        "outputId": "88d71d7c-670e-489b-bc6e-bc1bb2fff794"
      },
      "execution_count": null,
      "outputs": [
        {
          "output_type": "execute_result",
          "data": {
            "text/plain": [
              "((471, 320, 320, 3), (471, 4))"
            ]
          },
          "metadata": {},
          "execution_count": 6
        }
      ]
    },
    {
      "cell_type": "code",
      "source": [
        "def IOU(bbox1, bbox2):\n",
        "  x1, y1, w1, h1 = bbox1\n",
        "  x2, y2, w2, h2 = bbox2\n",
        "\n",
        "  I_w = min(x1 + w1, x2 + w2) - max(x1, x2)\n",
        "  I_h = min(y1 + h1, y2 + h2) - max(y1, y2)\n",
        "\n",
        "  if I_w <= 0 or I_h <=0:\n",
        "    return 0.0\n",
        "  \n",
        "  I = I_w * I_h\n",
        "  U = w1*h1 + w2*h2 - I\n",
        "  return I/U"
      ],
      "metadata": {
        "id": "WP7hXdZtv0rm"
      },
      "execution_count": null,
      "outputs": []
    },
    {
      "cell_type": "code",
      "source": [
        "dist = lambda bbox1, bbox2 : np.sqrt(np.sum(np.square(bbox1[:2] - bbox2[:2])))"
      ],
      "metadata": {
        "id": "YVYAFABZzpug"
      },
      "execution_count": null,
      "outputs": []
    },
    {
      "cell_type": "code",
      "source": [
        "vgg16 = tf.keras.applications.VGG16(include_top=False, weights='imagenet', input_shape=(320, 320, 3))"
      ],
      "metadata": {
        "id": "Y2J0w3fvrFpx"
      },
      "execution_count": null,
      "outputs": []
    },
    {
      "cell_type": "code",
      "source": [
        "model = tf.keras.Sequential([vgg16, \n",
        "                            tf.keras.layers.Conv2D(filters=4, kernel_size=3, activation='relu', padding='same'),\n",
        "                            tf.keras.layers.BatchNormalization(),\n",
        "                            tf.keras.layers.Conv2D(filters=4, kernel_size=3, activation='relu', padding='same'),\n",
        "                            tf.keras.layers.BatchNormalization(),\n",
        "                            tf.keras.layers.GlobalMaxPooling2D(),\n",
        "                            tf.keras.layers.Dense(units=4, activation='sigmoid')])"
      ],
      "metadata": {
        "id": "pCLS83Z9LsKR"
      },
      "execution_count": null,
      "outputs": []
    },
    {
      "cell_type": "code",
      "source": [
        "model.compile(optimizer='adam',\n",
        "              loss='mse',\n",
        "              metrics=['accuracy'])\n",
        "model.summary()"
      ],
      "metadata": {
        "colab": {
          "base_uri": "https://localhost:8080/"
        },
        "id": "rFlKeNwHr5Di",
        "outputId": "f02d6acc-3169-4556-9321-c9f41f05d93b"
      },
      "execution_count": null,
      "outputs": [
        {
          "output_type": "stream",
          "name": "stdout",
          "text": [
            "Model: \"sequential\"\n",
            "_________________________________________________________________\n",
            " Layer (type)                Output Shape              Param #   \n",
            "=================================================================\n",
            " vgg16 (Functional)          (None, 10, 10, 512)       14714688  \n",
            "                                                                 \n",
            " conv2d (Conv2D)             (None, 10, 10, 4)         18436     \n",
            "                                                                 \n",
            " batch_normalization (BatchN  (None, 10, 10, 4)        16        \n",
            " ormalization)                                                   \n",
            "                                                                 \n",
            " conv2d_1 (Conv2D)           (None, 10, 10, 4)         148       \n",
            "                                                                 \n",
            " batch_normalization_1 (Batc  (None, 10, 10, 4)        16        \n",
            " hNormalization)                                                 \n",
            "                                                                 \n",
            " global_max_pooling2d (Globa  (None, 4)                0         \n",
            " lMaxPooling2D)                                                  \n",
            "                                                                 \n",
            " dense (Dense)               (None, 4)                 20        \n",
            "                                                                 \n",
            "=================================================================\n",
            "Total params: 14,733,324\n",
            "Trainable params: 14,733,308\n",
            "Non-trainable params: 16\n",
            "_________________________________________________________________\n"
          ]
        }
      ]
    },
    {
      "cell_type": "code",
      "source": [
        "train_x, test_x, train_y, test_y = model_selection.train_test_split(x, y, test_size=0.2, random_state=26)"
      ],
      "metadata": {
        "id": "UXl_9hF2rFnR"
      },
      "execution_count": null,
      "outputs": []
    },
    {
      "cell_type": "code",
      "source": [
        "train_x.shape, test_x.shape, train_y.shape, test_y.shape"
      ],
      "metadata": {
        "colab": {
          "base_uri": "https://localhost:8080/"
        },
        "id": "mn96IBFxrFkj",
        "outputId": "c5ecb0aa-8895-419e-db19-f764fa05d15b"
      },
      "execution_count": null,
      "outputs": [
        {
          "output_type": "execute_result",
          "data": {
            "text/plain": [
              "((376, 320, 320, 3), (95, 320, 320, 3), (376, 4), (95, 4))"
            ]
          },
          "metadata": {},
          "execution_count": 13
        }
      ]
    },
    {
      "cell_type": "code",
      "source": [
        "# history = model.fit(x=train_x,\n",
        "#                     y=train_y,\n",
        "#                     batch_size=32,\n",
        "#                     epochs=100,\n",
        "#                     validation_data=(test_x, test_y))"
      ],
      "metadata": {
        "id": "Rl-W6RdIfFIQ"
      },
      "execution_count": null,
      "outputs": []
    },
    {
      "cell_type": "code",
      "source": [
        "num_epochs = 30\n",
        "# train_scores = np.zeros((num_epochs, train_x.shape[0], 3))\n",
        "val_scores = np.zeros((num_epochs, test_x.shape[0], 3))\n",
        "\n",
        "hist = np.zeros((num_epochs, 4))\n",
        "for epoch in range(num_epochs):\n",
        "  history = model.fit(x=train_x, y=train_y, epochs=1, batch_size=32, validation_data=(test_x, test_y), verbose=2)\n",
        "  # pred = model.predict(train_x)\n",
        "\n",
        "  hist[epoch, 0]=np.mean(history.history['loss'])\n",
        "  hist[epoch, 1]=np.mean(history.history['val_loss'])\n",
        "  hist[epoch, 2]=np.mean(history.history['accuracy'])\n",
        "  hist[epoch, 3]=np.mean(history.history['val_accuracy'])\n",
        "  \n",
        "  # for ind, (pred_y, y) in enumerate(zip(pred, train_y)):\n",
        "  #   train_scores[epoch, ind, 0] = IOU(y, pred_y)\n",
        "  #   train_scores[epoch, ind, 1] = dist(y, pred_y) \n",
        "  #   train_scores[epoch, ind, 2] = np.mean(np.square(y - pred_y)) \n",
        "  \n",
        "  # print(f'Epoch: {epoch} TRAIN ==> IOU: {np.mean(train_scores[epoch, :, 0])}, Dist: {np.mean(train_scores[epoch, :, 1])}, MSE: {np.mean(train_scores[epoch, :, 2])}')\n",
        "\n",
        "\n",
        "  pred = model.predict(test_x)\n",
        "  for ind, (pred_y, y) in enumerate(zip(pred, test_y)):\n",
        "    val_scores[epoch, ind, 0] = IOU(y, pred_y)\n",
        "    val_scores[epoch, ind, 1] = dist(y, pred_y) \n",
        "    val_scores[epoch, ind, 2] = np.mean(np.square(y - pred_y)) \n",
        "  print(f'Epoch: {epoch} VAL ==> IOU: {np.mean(val_scores[epoch, :, 0])}, Dist: {np.mean(val_scores[epoch, :, 1])}, MSE: {np.mean(val_scores[epoch, :, 2])}')"
      ],
      "metadata": {
        "colab": {
          "base_uri": "https://localhost:8080/"
        },
        "id": "rzb0TiPz0z1m",
        "outputId": "013dcd5f-99d6-47b9-f8a2-8c82c3fe23d2"
      },
      "execution_count": null,
      "outputs": [
        {
          "output_type": "stream",
          "name": "stdout",
          "text": [
            "12/12 - 46s - loss: 0.1984 - accuracy: 0.3191 - val_loss: 0.2881 - val_accuracy: 0.7895 - 46s/epoch - 4s/step\n",
            "3/3 [==============================] - 1s 238ms/step\n",
            "Epoch: 0 VAL ==> IOU: 0.0, Dist: 0.5317524164109075, MSE: 0.28810775325127747\n",
            "12/12 - 11s - loss: 0.1758 - accuracy: 0.3830 - val_loss: 0.2459 - val_accuracy: 0.7895 - 11s/epoch - 942ms/step\n",
            "3/3 [==============================] - 1s 256ms/step\n",
            "Epoch: 1 VAL ==> IOU: 0.0, Dist: 0.5173019678443734, MSE: 0.24589600396249794\n",
            "12/12 - 11s - loss: 0.1098 - accuracy: 0.7048 - val_loss: 0.1692 - val_accuracy: 0.7895 - 11s/epoch - 925ms/step\n",
            "3/3 [==============================] - 1s 259ms/step\n",
            "Epoch: 2 VAL ==> IOU: 0.0, Dist: 0.48202460169679545, MSE: 0.16916518421642252\n",
            "12/12 - 11s - loss: 0.0854 - accuracy: 0.7128 - val_loss: 0.1387 - val_accuracy: 0.7895 - 11s/epoch - 938ms/step\n",
            "3/3 [==============================] - 1s 234ms/step\n",
            "Epoch: 3 VAL ==> IOU: 0.0, Dist: 0.47594612096292094, MSE: 0.1387363452509621\n",
            "12/12 - 11s - loss: 0.0697 - accuracy: 0.7128 - val_loss: 0.1261 - val_accuracy: 0.7895 - 11s/epoch - 914ms/step\n",
            "3/3 [==============================] - 1s 269ms/step\n",
            "Epoch: 4 VAL ==> IOU: 0.0, Dist: 0.46479636399279556, MSE: 0.12605541892936414\n",
            "12/12 - 11s - loss: 0.0591 - accuracy: 0.7128 - val_loss: 0.1168 - val_accuracy: 0.7895 - 11s/epoch - 941ms/step\n",
            "3/3 [==============================] - 1s 254ms/step\n",
            "Epoch: 5 VAL ==> IOU: 0.0, Dist: 0.4553021112339489, MSE: 0.11684222214276774\n",
            "12/12 - 11s - loss: 0.0506 - accuracy: 0.7128 - val_loss: 0.1079 - val_accuracy: 0.7895 - 11s/epoch - 934ms/step\n",
            "3/3 [==============================] - 1s 252ms/step\n",
            "Epoch: 6 VAL ==> IOU: 0.00012602040274405435, Dist: 0.42939205651901774, MSE: 0.10787967316581264\n",
            "12/12 - 11s - loss: 0.0448 - accuracy: 0.7128 - val_loss: 0.0945 - val_accuracy: 0.7895 - 11s/epoch - 947ms/step\n",
            "3/3 [==============================] - 1s 270ms/step\n",
            "Epoch: 7 VAL ==> IOU: 0.0010322775008474567, Dist: 0.37275922771565956, MSE: 0.09447302957699732\n",
            "12/12 - 11s - loss: 0.0410 - accuracy: 0.7154 - val_loss: 0.0805 - val_accuracy: 0.7895 - 11s/epoch - 943ms/step\n",
            "3/3 [==============================] - 1s 273ms/step\n",
            "Epoch: 8 VAL ==> IOU: 0.003889748352312472, Dist: 0.30808403406399903, MSE: 0.0805348886879024\n",
            "12/12 - 11s - loss: 0.0385 - accuracy: 0.7128 - val_loss: 0.0737 - val_accuracy: 0.7895 - 11s/epoch - 935ms/step\n",
            "3/3 [==============================] - 1s 257ms/step\n",
            "Epoch: 9 VAL ==> IOU: 0.00781433700617828, Dist: 0.2818293114545804, MSE: 0.07373794584841652\n",
            "12/12 - 11s - loss: 0.0365 - accuracy: 0.7101 - val_loss: 0.0636 - val_accuracy: 0.7895 - 11s/epoch - 902ms/step\n",
            "3/3 [==============================] - 1s 265ms/step\n",
            "Epoch: 10 VAL ==> IOU: 0.023611241048162528, Dist: 0.24515084021871486, MSE: 0.06359611973298046\n",
            "12/12 - 11s - loss: 0.0348 - accuracy: 0.7128 - val_loss: 0.0677 - val_accuracy: 0.7895 - 11s/epoch - 945ms/step\n",
            "3/3 [==============================] - 1s 256ms/step\n",
            "Epoch: 11 VAL ==> IOU: 0.006889198806785647, Dist: 0.2901592459623858, MSE: 0.06767611343445261\n",
            "12/12 - 11s - loss: 0.0327 - accuracy: 0.7154 - val_loss: 0.0544 - val_accuracy: 0.7895 - 11s/epoch - 899ms/step\n",
            "3/3 [==============================] - 1s 256ms/step\n",
            "Epoch: 12 VAL ==> IOU: 0.043686264047515126, Dist: 0.22261805505463464, MSE: 0.05435721977314124\n",
            "12/12 - 11s - loss: 0.0307 - accuracy: 0.7101 - val_loss: 0.0541 - val_accuracy: 0.7684 - 11s/epoch - 939ms/step\n",
            "3/3 [==============================] - 1s 258ms/step\n",
            "Epoch: 13 VAL ==> IOU: 0.07477679719876339, Dist: 0.2196392120432197, MSE: 0.054123184863923916\n",
            "12/12 - 11s - loss: 0.0291 - accuracy: 0.7128 - val_loss: 0.0661 - val_accuracy: 0.0105 - 11s/epoch - 943ms/step\n",
            "3/3 [==============================] - 1s 263ms/step\n",
            "Epoch: 14 VAL ==> IOU: 0.09308537692783202, Dist: 0.26545021569488614, MSE: 0.06607295857054493\n",
            "12/12 - 11s - loss: 0.0280 - accuracy: 0.7074 - val_loss: 0.0555 - val_accuracy: 0.5158 - 11s/epoch - 940ms/step\n",
            "3/3 [==============================] - 1s 243ms/step\n",
            "Epoch: 15 VAL ==> IOU: 0.09290334417386702, Dist: 0.23260767933430532, MSE: 0.05549337005173953\n",
            "12/12 - 11s - loss: 0.0259 - accuracy: 0.7154 - val_loss: 0.0869 - val_accuracy: 0.0000e+00 - 11s/epoch - 952ms/step\n",
            "3/3 [==============================] - 1s 235ms/step\n",
            "Epoch: 16 VAL ==> IOU: 0.09234560066539842, Dist: 0.27549439868680475, MSE: 0.08694773199507136\n",
            "12/12 - 11s - loss: 0.0247 - accuracy: 0.7048 - val_loss: 0.0892 - val_accuracy: 0.0000e+00 - 11s/epoch - 944ms/step\n",
            "3/3 [==============================] - 1s 266ms/step\n",
            "Epoch: 17 VAL ==> IOU: 0.09150813379287778, Dist: 0.2904845647796713, MSE: 0.08923699736352168\n",
            "12/12 - 11s - loss: 0.0237 - accuracy: 0.7128 - val_loss: 0.0791 - val_accuracy: 0.2000 - 11s/epoch - 928ms/step\n",
            "3/3 [==============================] - 1s 265ms/step\n",
            "Epoch: 18 VAL ==> IOU: 0.09479499963905162, Dist: 0.25110202493861383, MSE: 0.07910348873464025\n",
            "12/12 - 11s - loss: 0.0227 - accuracy: 0.7128 - val_loss: 0.0599 - val_accuracy: 0.2211 - 11s/epoch - 902ms/step\n",
            "3/3 [==============================] - 1s 241ms/step\n",
            "Epoch: 19 VAL ==> IOU: 0.10447192766381141, Dist: 0.24862510809431712, MSE: 0.059937388730157165\n",
            "12/12 - 11s - loss: 0.0221 - accuracy: 0.7128 - val_loss: 0.0685 - val_accuracy: 0.5684 - 11s/epoch - 919ms/step\n",
            "3/3 [==============================] - 1s 255ms/step\n",
            "Epoch: 20 VAL ==> IOU: 0.09248723804844633, Dist: 0.2477672691131135, MSE: 0.06846742530936553\n",
            "12/12 - 11s - loss: 0.0225 - accuracy: 0.7101 - val_loss: 0.0495 - val_accuracy: 0.7895 - 11s/epoch - 943ms/step\n",
            "3/3 [==============================] - 1s 254ms/step\n",
            "Epoch: 21 VAL ==> IOU: 0.010484977655177178, Dist: 0.36209976610841293, MSE: 0.049458151866377136\n",
            "12/12 - 11s - loss: 0.0221 - accuracy: 0.7181 - val_loss: 0.0364 - val_accuracy: 0.7895 - 11s/epoch - 927ms/step\n",
            "3/3 [==============================] - 1s 234ms/step\n",
            "Epoch: 22 VAL ==> IOU: 0.01579576450239324, Dist: 0.30186044280691393, MSE: 0.03641592880549911\n",
            "12/12 - 11s - loss: 0.0210 - accuracy: 0.7207 - val_loss: 0.0351 - val_accuracy: 0.7895 - 11s/epoch - 904ms/step\n",
            "3/3 [==============================] - 1s 258ms/step\n",
            "Epoch: 23 VAL ==> IOU: 0.09572877683527528, Dist: 0.2046716392903294, MSE: 0.035052326728014276\n",
            "12/12 - 11s - loss: 0.0206 - accuracy: 0.7074 - val_loss: 0.0556 - val_accuracy: 0.4526 - 11s/epoch - 952ms/step\n",
            "3/3 [==============================] - 1s 239ms/step\n",
            "Epoch: 24 VAL ==> IOU: 0.11593621682918522, Dist: 0.24323037671079395, MSE: 0.05564453624286393\n",
            "12/12 - 12s - loss: 0.0200 - accuracy: 0.7101 - val_loss: 0.0858 - val_accuracy: 0.0842 - 12s/epoch - 1s/step\n",
            "3/3 [==============================] - 1s 258ms/step\n",
            "Epoch: 25 VAL ==> IOU: 0.09702704931302578, Dist: 0.27304371952752493, MSE: 0.08577740774688197\n",
            "12/12 - 11s - loss: 0.0195 - accuracy: 0.7048 - val_loss: 0.0816 - val_accuracy: 0.2211 - 11s/epoch - 888ms/step\n",
            "3/3 [==============================] - 1s 253ms/step\n",
            "Epoch: 26 VAL ==> IOU: 0.0916295532252568, Dist: 0.2698632375371788, MSE: 0.0816429115676632\n",
            "12/12 - 11s - loss: 0.0206 - accuracy: 0.7101 - val_loss: 0.0712 - val_accuracy: 0.1579 - 11s/epoch - 899ms/step\n",
            "3/3 [==============================] - 1s 273ms/step\n",
            "Epoch: 27 VAL ==> IOU: 0.10867612457276016, Dist: 0.27753141141008403, MSE: 0.07123986067054387\n",
            "12/12 - 11s - loss: 0.0197 - accuracy: 0.7048 - val_loss: 0.0764 - val_accuracy: 0.2632 - 11s/epoch - 951ms/step\n",
            "3/3 [==============================] - 1s 239ms/step\n",
            "Epoch: 28 VAL ==> IOU: 0.09571626081595129, Dist: 0.268604441643163, MSE: 0.07638092992751336\n",
            "12/12 - 12s - loss: 0.0189 - accuracy: 0.7154 - val_loss: 0.0614 - val_accuracy: 0.3474 - 12s/epoch - 985ms/step\n",
            "3/3 [==============================] - 1s 238ms/step\n",
            "Epoch: 29 VAL ==> IOU: 0.11086836062783155, Dist: 0.25168646568047476, MSE: 0.061370435176152\n"
          ]
        }
      ]
    },
    {
      "cell_type": "code",
      "source": [
        "pd.DataFrame(hist, columns=['loss', 'val_loss', 'accuracy', 'val_accuracy'])"
      ],
      "metadata": {
        "colab": {
          "base_uri": "https://localhost:8080/",
          "height": 990
        },
        "id": "R8ykhzenzaMT",
        "outputId": "59c32279-3602-4d78-ff4b-3658c99bca59"
      },
      "execution_count": null,
      "outputs": [
        {
          "output_type": "execute_result",
          "data": {
            "text/plain": [
              "        loss  val_loss  accuracy  val_accuracy\n",
              "0   0.198398  0.288108  0.319149      0.789474\n",
              "1   0.175766  0.245896  0.382979      0.789474\n",
              "2   0.109847  0.169165  0.704787      0.789474\n",
              "3   0.085431  0.138736  0.712766      0.789474\n",
              "4   0.069683  0.126055  0.712766      0.789474\n",
              "5   0.059091  0.116842  0.712766      0.789474\n",
              "6   0.050611  0.107880  0.712766      0.789474\n",
              "7   0.044801  0.094473  0.712766      0.789474\n",
              "8   0.041024  0.080535  0.715426      0.789474\n",
              "9   0.038493  0.073738  0.712766      0.789474\n",
              "10  0.036516  0.063596  0.710106      0.789474\n",
              "11  0.034760  0.067676  0.712766      0.789474\n",
              "12  0.032727  0.054357  0.715426      0.789474\n",
              "13  0.030701  0.054123  0.710106      0.768421\n",
              "14  0.029147  0.066073  0.712766      0.010526\n",
              "15  0.027962  0.055493  0.707447      0.515789\n",
              "16  0.025946  0.086948  0.715426      0.000000\n",
              "17  0.024684  0.089237  0.704787      0.000000\n",
              "18  0.023679  0.079103  0.712766      0.200000\n",
              "19  0.022709  0.059937  0.712766      0.221053\n",
              "20  0.022146  0.068467  0.712766      0.568421\n",
              "21  0.022546  0.049458  0.710106      0.789474\n",
              "22  0.022053  0.036416  0.718085      0.789474\n",
              "23  0.021028  0.035052  0.720745      0.789474\n",
              "24  0.020640  0.055645  0.707447      0.452632\n",
              "25  0.020021  0.085777  0.710106      0.084211\n",
              "26  0.019497  0.081643  0.704787      0.221053\n",
              "27  0.020633  0.071240  0.710106      0.157895\n",
              "28  0.019696  0.076381  0.704787      0.263158\n",
              "29  0.018918  0.061370  0.715426      0.347368"
            ],
            "text/html": [
              "\n",
              "  <div id=\"df-69c77a0f-6d04-4dfc-853a-d699f9a5eaae\">\n",
              "    <div class=\"colab-df-container\">\n",
              "      <div>\n",
              "<style scoped>\n",
              "    .dataframe tbody tr th:only-of-type {\n",
              "        vertical-align: middle;\n",
              "    }\n",
              "\n",
              "    .dataframe tbody tr th {\n",
              "        vertical-align: top;\n",
              "    }\n",
              "\n",
              "    .dataframe thead th {\n",
              "        text-align: right;\n",
              "    }\n",
              "</style>\n",
              "<table border=\"1\" class=\"dataframe\">\n",
              "  <thead>\n",
              "    <tr style=\"text-align: right;\">\n",
              "      <th></th>\n",
              "      <th>loss</th>\n",
              "      <th>val_loss</th>\n",
              "      <th>accuracy</th>\n",
              "      <th>val_accuracy</th>\n",
              "    </tr>\n",
              "  </thead>\n",
              "  <tbody>\n",
              "    <tr>\n",
              "      <th>0</th>\n",
              "      <td>0.198398</td>\n",
              "      <td>0.288108</td>\n",
              "      <td>0.319149</td>\n",
              "      <td>0.789474</td>\n",
              "    </tr>\n",
              "    <tr>\n",
              "      <th>1</th>\n",
              "      <td>0.175766</td>\n",
              "      <td>0.245896</td>\n",
              "      <td>0.382979</td>\n",
              "      <td>0.789474</td>\n",
              "    </tr>\n",
              "    <tr>\n",
              "      <th>2</th>\n",
              "      <td>0.109847</td>\n",
              "      <td>0.169165</td>\n",
              "      <td>0.704787</td>\n",
              "      <td>0.789474</td>\n",
              "    </tr>\n",
              "    <tr>\n",
              "      <th>3</th>\n",
              "      <td>0.085431</td>\n",
              "      <td>0.138736</td>\n",
              "      <td>0.712766</td>\n",
              "      <td>0.789474</td>\n",
              "    </tr>\n",
              "    <tr>\n",
              "      <th>4</th>\n",
              "      <td>0.069683</td>\n",
              "      <td>0.126055</td>\n",
              "      <td>0.712766</td>\n",
              "      <td>0.789474</td>\n",
              "    </tr>\n",
              "    <tr>\n",
              "      <th>5</th>\n",
              "      <td>0.059091</td>\n",
              "      <td>0.116842</td>\n",
              "      <td>0.712766</td>\n",
              "      <td>0.789474</td>\n",
              "    </tr>\n",
              "    <tr>\n",
              "      <th>6</th>\n",
              "      <td>0.050611</td>\n",
              "      <td>0.107880</td>\n",
              "      <td>0.712766</td>\n",
              "      <td>0.789474</td>\n",
              "    </tr>\n",
              "    <tr>\n",
              "      <th>7</th>\n",
              "      <td>0.044801</td>\n",
              "      <td>0.094473</td>\n",
              "      <td>0.712766</td>\n",
              "      <td>0.789474</td>\n",
              "    </tr>\n",
              "    <tr>\n",
              "      <th>8</th>\n",
              "      <td>0.041024</td>\n",
              "      <td>0.080535</td>\n",
              "      <td>0.715426</td>\n",
              "      <td>0.789474</td>\n",
              "    </tr>\n",
              "    <tr>\n",
              "      <th>9</th>\n",
              "      <td>0.038493</td>\n",
              "      <td>0.073738</td>\n",
              "      <td>0.712766</td>\n",
              "      <td>0.789474</td>\n",
              "    </tr>\n",
              "    <tr>\n",
              "      <th>10</th>\n",
              "      <td>0.036516</td>\n",
              "      <td>0.063596</td>\n",
              "      <td>0.710106</td>\n",
              "      <td>0.789474</td>\n",
              "    </tr>\n",
              "    <tr>\n",
              "      <th>11</th>\n",
              "      <td>0.034760</td>\n",
              "      <td>0.067676</td>\n",
              "      <td>0.712766</td>\n",
              "      <td>0.789474</td>\n",
              "    </tr>\n",
              "    <tr>\n",
              "      <th>12</th>\n",
              "      <td>0.032727</td>\n",
              "      <td>0.054357</td>\n",
              "      <td>0.715426</td>\n",
              "      <td>0.789474</td>\n",
              "    </tr>\n",
              "    <tr>\n",
              "      <th>13</th>\n",
              "      <td>0.030701</td>\n",
              "      <td>0.054123</td>\n",
              "      <td>0.710106</td>\n",
              "      <td>0.768421</td>\n",
              "    </tr>\n",
              "    <tr>\n",
              "      <th>14</th>\n",
              "      <td>0.029147</td>\n",
              "      <td>0.066073</td>\n",
              "      <td>0.712766</td>\n",
              "      <td>0.010526</td>\n",
              "    </tr>\n",
              "    <tr>\n",
              "      <th>15</th>\n",
              "      <td>0.027962</td>\n",
              "      <td>0.055493</td>\n",
              "      <td>0.707447</td>\n",
              "      <td>0.515789</td>\n",
              "    </tr>\n",
              "    <tr>\n",
              "      <th>16</th>\n",
              "      <td>0.025946</td>\n",
              "      <td>0.086948</td>\n",
              "      <td>0.715426</td>\n",
              "      <td>0.000000</td>\n",
              "    </tr>\n",
              "    <tr>\n",
              "      <th>17</th>\n",
              "      <td>0.024684</td>\n",
              "      <td>0.089237</td>\n",
              "      <td>0.704787</td>\n",
              "      <td>0.000000</td>\n",
              "    </tr>\n",
              "    <tr>\n",
              "      <th>18</th>\n",
              "      <td>0.023679</td>\n",
              "      <td>0.079103</td>\n",
              "      <td>0.712766</td>\n",
              "      <td>0.200000</td>\n",
              "    </tr>\n",
              "    <tr>\n",
              "      <th>19</th>\n",
              "      <td>0.022709</td>\n",
              "      <td>0.059937</td>\n",
              "      <td>0.712766</td>\n",
              "      <td>0.221053</td>\n",
              "    </tr>\n",
              "    <tr>\n",
              "      <th>20</th>\n",
              "      <td>0.022146</td>\n",
              "      <td>0.068467</td>\n",
              "      <td>0.712766</td>\n",
              "      <td>0.568421</td>\n",
              "    </tr>\n",
              "    <tr>\n",
              "      <th>21</th>\n",
              "      <td>0.022546</td>\n",
              "      <td>0.049458</td>\n",
              "      <td>0.710106</td>\n",
              "      <td>0.789474</td>\n",
              "    </tr>\n",
              "    <tr>\n",
              "      <th>22</th>\n",
              "      <td>0.022053</td>\n",
              "      <td>0.036416</td>\n",
              "      <td>0.718085</td>\n",
              "      <td>0.789474</td>\n",
              "    </tr>\n",
              "    <tr>\n",
              "      <th>23</th>\n",
              "      <td>0.021028</td>\n",
              "      <td>0.035052</td>\n",
              "      <td>0.720745</td>\n",
              "      <td>0.789474</td>\n",
              "    </tr>\n",
              "    <tr>\n",
              "      <th>24</th>\n",
              "      <td>0.020640</td>\n",
              "      <td>0.055645</td>\n",
              "      <td>0.707447</td>\n",
              "      <td>0.452632</td>\n",
              "    </tr>\n",
              "    <tr>\n",
              "      <th>25</th>\n",
              "      <td>0.020021</td>\n",
              "      <td>0.085777</td>\n",
              "      <td>0.710106</td>\n",
              "      <td>0.084211</td>\n",
              "    </tr>\n",
              "    <tr>\n",
              "      <th>26</th>\n",
              "      <td>0.019497</td>\n",
              "      <td>0.081643</td>\n",
              "      <td>0.704787</td>\n",
              "      <td>0.221053</td>\n",
              "    </tr>\n",
              "    <tr>\n",
              "      <th>27</th>\n",
              "      <td>0.020633</td>\n",
              "      <td>0.071240</td>\n",
              "      <td>0.710106</td>\n",
              "      <td>0.157895</td>\n",
              "    </tr>\n",
              "    <tr>\n",
              "      <th>28</th>\n",
              "      <td>0.019696</td>\n",
              "      <td>0.076381</td>\n",
              "      <td>0.704787</td>\n",
              "      <td>0.263158</td>\n",
              "    </tr>\n",
              "    <tr>\n",
              "      <th>29</th>\n",
              "      <td>0.018918</td>\n",
              "      <td>0.061370</td>\n",
              "      <td>0.715426</td>\n",
              "      <td>0.347368</td>\n",
              "    </tr>\n",
              "  </tbody>\n",
              "</table>\n",
              "</div>\n",
              "      <button class=\"colab-df-convert\" onclick=\"convertToInteractive('df-69c77a0f-6d04-4dfc-853a-d699f9a5eaae')\"\n",
              "              title=\"Convert this dataframe to an interactive table.\"\n",
              "              style=\"display:none;\">\n",
              "        \n",
              "  <svg xmlns=\"http://www.w3.org/2000/svg\" height=\"24px\"viewBox=\"0 0 24 24\"\n",
              "       width=\"24px\">\n",
              "    <path d=\"M0 0h24v24H0V0z\" fill=\"none\"/>\n",
              "    <path d=\"M18.56 5.44l.94 2.06.94-2.06 2.06-.94-2.06-.94-.94-2.06-.94 2.06-2.06.94zm-11 1L8.5 8.5l.94-2.06 2.06-.94-2.06-.94L8.5 2.5l-.94 2.06-2.06.94zm10 10l.94 2.06.94-2.06 2.06-.94-2.06-.94-.94-2.06-.94 2.06-2.06.94z\"/><path d=\"M17.41 7.96l-1.37-1.37c-.4-.4-.92-.59-1.43-.59-.52 0-1.04.2-1.43.59L10.3 9.45l-7.72 7.72c-.78.78-.78 2.05 0 2.83L4 21.41c.39.39.9.59 1.41.59.51 0 1.02-.2 1.41-.59l7.78-7.78 2.81-2.81c.8-.78.8-2.07 0-2.86zM5.41 20L4 18.59l7.72-7.72 1.47 1.35L5.41 20z\"/>\n",
              "  </svg>\n",
              "      </button>\n",
              "      \n",
              "  <style>\n",
              "    .colab-df-container {\n",
              "      display:flex;\n",
              "      flex-wrap:wrap;\n",
              "      gap: 12px;\n",
              "    }\n",
              "\n",
              "    .colab-df-convert {\n",
              "      background-color: #E8F0FE;\n",
              "      border: none;\n",
              "      border-radius: 50%;\n",
              "      cursor: pointer;\n",
              "      display: none;\n",
              "      fill: #1967D2;\n",
              "      height: 32px;\n",
              "      padding: 0 0 0 0;\n",
              "      width: 32px;\n",
              "    }\n",
              "\n",
              "    .colab-df-convert:hover {\n",
              "      background-color: #E2EBFA;\n",
              "      box-shadow: 0px 1px 2px rgba(60, 64, 67, 0.3), 0px 1px 3px 1px rgba(60, 64, 67, 0.15);\n",
              "      fill: #174EA6;\n",
              "    }\n",
              "\n",
              "    [theme=dark] .colab-df-convert {\n",
              "      background-color: #3B4455;\n",
              "      fill: #D2E3FC;\n",
              "    }\n",
              "\n",
              "    [theme=dark] .colab-df-convert:hover {\n",
              "      background-color: #434B5C;\n",
              "      box-shadow: 0px 1px 3px 1px rgba(0, 0, 0, 0.15);\n",
              "      filter: drop-shadow(0px 1px 2px rgba(0, 0, 0, 0.3));\n",
              "      fill: #FFFFFF;\n",
              "    }\n",
              "  </style>\n",
              "\n",
              "      <script>\n",
              "        const buttonEl =\n",
              "          document.querySelector('#df-69c77a0f-6d04-4dfc-853a-d699f9a5eaae button.colab-df-convert');\n",
              "        buttonEl.style.display =\n",
              "          google.colab.kernel.accessAllowed ? 'block' : 'none';\n",
              "\n",
              "        async function convertToInteractive(key) {\n",
              "          const element = document.querySelector('#df-69c77a0f-6d04-4dfc-853a-d699f9a5eaae');\n",
              "          const dataTable =\n",
              "            await google.colab.kernel.invokeFunction('convertToInteractive',\n",
              "                                                     [key], {});\n",
              "          if (!dataTable) return;\n",
              "\n",
              "          const docLinkHtml = 'Like what you see? Visit the ' +\n",
              "            '<a target=\"_blank\" href=https://colab.research.google.com/notebooks/data_table.ipynb>data table notebook</a>'\n",
              "            + ' to learn more about interactive tables.';\n",
              "          element.innerHTML = '';\n",
              "          dataTable['output_type'] = 'display_data';\n",
              "          await google.colab.output.renderOutput(dataTable, element);\n",
              "          const docLink = document.createElement('div');\n",
              "          docLink.innerHTML = docLinkHtml;\n",
              "          element.appendChild(docLink);\n",
              "        }\n",
              "      </script>\n",
              "    </div>\n",
              "  </div>\n",
              "  "
            ]
          },
          "metadata": {},
          "execution_count": 19
        }
      ]
    },
    {
      "cell_type": "code",
      "source": [
        "pd.DataFrame(np.mean(val_scores, axis=1), columns=['IOU', 'Dist', 'MSE'])"
      ],
      "metadata": {
        "colab": {
          "base_uri": "https://localhost:8080/",
          "height": 990
        },
        "id": "LArwJNXbrICb",
        "outputId": "7083b33f-7892-4f5b-ca06-8dee997d1fda"
      },
      "execution_count": null,
      "outputs": [
        {
          "output_type": "execute_result",
          "data": {
            "text/plain": [
              "         IOU      Dist       MSE\n",
              "0   0.000000  0.531752  0.288108\n",
              "1   0.000000  0.517302  0.245896\n",
              "2   0.000000  0.482025  0.169165\n",
              "3   0.000000  0.475946  0.138736\n",
              "4   0.000000  0.464796  0.126055\n",
              "5   0.000000  0.455302  0.116842\n",
              "6   0.000126  0.429392  0.107880\n",
              "7   0.001032  0.372759  0.094473\n",
              "8   0.003890  0.308084  0.080535\n",
              "9   0.007814  0.281829  0.073738\n",
              "10  0.023611  0.245151  0.063596\n",
              "11  0.006889  0.290159  0.067676\n",
              "12  0.043686  0.222618  0.054357\n",
              "13  0.074777  0.219639  0.054123\n",
              "14  0.093085  0.265450  0.066073\n",
              "15  0.092903  0.232608  0.055493\n",
              "16  0.092346  0.275494  0.086948\n",
              "17  0.091508  0.290485  0.089237\n",
              "18  0.094795  0.251102  0.079103\n",
              "19  0.104472  0.248625  0.059937\n",
              "20  0.092487  0.247767  0.068467\n",
              "21  0.010485  0.362100  0.049458\n",
              "22  0.015796  0.301860  0.036416\n",
              "23  0.095729  0.204672  0.035052\n",
              "24  0.115936  0.243230  0.055645\n",
              "25  0.097027  0.273044  0.085777\n",
              "26  0.091630  0.269863  0.081643\n",
              "27  0.108676  0.277531  0.071240\n",
              "28  0.095716  0.268604  0.076381\n",
              "29  0.110868  0.251686  0.061370"
            ],
            "text/html": [
              "\n",
              "  <div id=\"df-07d44b70-eeaf-4723-b189-4fa14902ae06\">\n",
              "    <div class=\"colab-df-container\">\n",
              "      <div>\n",
              "<style scoped>\n",
              "    .dataframe tbody tr th:only-of-type {\n",
              "        vertical-align: middle;\n",
              "    }\n",
              "\n",
              "    .dataframe tbody tr th {\n",
              "        vertical-align: top;\n",
              "    }\n",
              "\n",
              "    .dataframe thead th {\n",
              "        text-align: right;\n",
              "    }\n",
              "</style>\n",
              "<table border=\"1\" class=\"dataframe\">\n",
              "  <thead>\n",
              "    <tr style=\"text-align: right;\">\n",
              "      <th></th>\n",
              "      <th>IOU</th>\n",
              "      <th>Dist</th>\n",
              "      <th>MSE</th>\n",
              "    </tr>\n",
              "  </thead>\n",
              "  <tbody>\n",
              "    <tr>\n",
              "      <th>0</th>\n",
              "      <td>0.000000</td>\n",
              "      <td>0.531752</td>\n",
              "      <td>0.288108</td>\n",
              "    </tr>\n",
              "    <tr>\n",
              "      <th>1</th>\n",
              "      <td>0.000000</td>\n",
              "      <td>0.517302</td>\n",
              "      <td>0.245896</td>\n",
              "    </tr>\n",
              "    <tr>\n",
              "      <th>2</th>\n",
              "      <td>0.000000</td>\n",
              "      <td>0.482025</td>\n",
              "      <td>0.169165</td>\n",
              "    </tr>\n",
              "    <tr>\n",
              "      <th>3</th>\n",
              "      <td>0.000000</td>\n",
              "      <td>0.475946</td>\n",
              "      <td>0.138736</td>\n",
              "    </tr>\n",
              "    <tr>\n",
              "      <th>4</th>\n",
              "      <td>0.000000</td>\n",
              "      <td>0.464796</td>\n",
              "      <td>0.126055</td>\n",
              "    </tr>\n",
              "    <tr>\n",
              "      <th>5</th>\n",
              "      <td>0.000000</td>\n",
              "      <td>0.455302</td>\n",
              "      <td>0.116842</td>\n",
              "    </tr>\n",
              "    <tr>\n",
              "      <th>6</th>\n",
              "      <td>0.000126</td>\n",
              "      <td>0.429392</td>\n",
              "      <td>0.107880</td>\n",
              "    </tr>\n",
              "    <tr>\n",
              "      <th>7</th>\n",
              "      <td>0.001032</td>\n",
              "      <td>0.372759</td>\n",
              "      <td>0.094473</td>\n",
              "    </tr>\n",
              "    <tr>\n",
              "      <th>8</th>\n",
              "      <td>0.003890</td>\n",
              "      <td>0.308084</td>\n",
              "      <td>0.080535</td>\n",
              "    </tr>\n",
              "    <tr>\n",
              "      <th>9</th>\n",
              "      <td>0.007814</td>\n",
              "      <td>0.281829</td>\n",
              "      <td>0.073738</td>\n",
              "    </tr>\n",
              "    <tr>\n",
              "      <th>10</th>\n",
              "      <td>0.023611</td>\n",
              "      <td>0.245151</td>\n",
              "      <td>0.063596</td>\n",
              "    </tr>\n",
              "    <tr>\n",
              "      <th>11</th>\n",
              "      <td>0.006889</td>\n",
              "      <td>0.290159</td>\n",
              "      <td>0.067676</td>\n",
              "    </tr>\n",
              "    <tr>\n",
              "      <th>12</th>\n",
              "      <td>0.043686</td>\n",
              "      <td>0.222618</td>\n",
              "      <td>0.054357</td>\n",
              "    </tr>\n",
              "    <tr>\n",
              "      <th>13</th>\n",
              "      <td>0.074777</td>\n",
              "      <td>0.219639</td>\n",
              "      <td>0.054123</td>\n",
              "    </tr>\n",
              "    <tr>\n",
              "      <th>14</th>\n",
              "      <td>0.093085</td>\n",
              "      <td>0.265450</td>\n",
              "      <td>0.066073</td>\n",
              "    </tr>\n",
              "    <tr>\n",
              "      <th>15</th>\n",
              "      <td>0.092903</td>\n",
              "      <td>0.232608</td>\n",
              "      <td>0.055493</td>\n",
              "    </tr>\n",
              "    <tr>\n",
              "      <th>16</th>\n",
              "      <td>0.092346</td>\n",
              "      <td>0.275494</td>\n",
              "      <td>0.086948</td>\n",
              "    </tr>\n",
              "    <tr>\n",
              "      <th>17</th>\n",
              "      <td>0.091508</td>\n",
              "      <td>0.290485</td>\n",
              "      <td>0.089237</td>\n",
              "    </tr>\n",
              "    <tr>\n",
              "      <th>18</th>\n",
              "      <td>0.094795</td>\n",
              "      <td>0.251102</td>\n",
              "      <td>0.079103</td>\n",
              "    </tr>\n",
              "    <tr>\n",
              "      <th>19</th>\n",
              "      <td>0.104472</td>\n",
              "      <td>0.248625</td>\n",
              "      <td>0.059937</td>\n",
              "    </tr>\n",
              "    <tr>\n",
              "      <th>20</th>\n",
              "      <td>0.092487</td>\n",
              "      <td>0.247767</td>\n",
              "      <td>0.068467</td>\n",
              "    </tr>\n",
              "    <tr>\n",
              "      <th>21</th>\n",
              "      <td>0.010485</td>\n",
              "      <td>0.362100</td>\n",
              "      <td>0.049458</td>\n",
              "    </tr>\n",
              "    <tr>\n",
              "      <th>22</th>\n",
              "      <td>0.015796</td>\n",
              "      <td>0.301860</td>\n",
              "      <td>0.036416</td>\n",
              "    </tr>\n",
              "    <tr>\n",
              "      <th>23</th>\n",
              "      <td>0.095729</td>\n",
              "      <td>0.204672</td>\n",
              "      <td>0.035052</td>\n",
              "    </tr>\n",
              "    <tr>\n",
              "      <th>24</th>\n",
              "      <td>0.115936</td>\n",
              "      <td>0.243230</td>\n",
              "      <td>0.055645</td>\n",
              "    </tr>\n",
              "    <tr>\n",
              "      <th>25</th>\n",
              "      <td>0.097027</td>\n",
              "      <td>0.273044</td>\n",
              "      <td>0.085777</td>\n",
              "    </tr>\n",
              "    <tr>\n",
              "      <th>26</th>\n",
              "      <td>0.091630</td>\n",
              "      <td>0.269863</td>\n",
              "      <td>0.081643</td>\n",
              "    </tr>\n",
              "    <tr>\n",
              "      <th>27</th>\n",
              "      <td>0.108676</td>\n",
              "      <td>0.277531</td>\n",
              "      <td>0.071240</td>\n",
              "    </tr>\n",
              "    <tr>\n",
              "      <th>28</th>\n",
              "      <td>0.095716</td>\n",
              "      <td>0.268604</td>\n",
              "      <td>0.076381</td>\n",
              "    </tr>\n",
              "    <tr>\n",
              "      <th>29</th>\n",
              "      <td>0.110868</td>\n",
              "      <td>0.251686</td>\n",
              "      <td>0.061370</td>\n",
              "    </tr>\n",
              "  </tbody>\n",
              "</table>\n",
              "</div>\n",
              "      <button class=\"colab-df-convert\" onclick=\"convertToInteractive('df-07d44b70-eeaf-4723-b189-4fa14902ae06')\"\n",
              "              title=\"Convert this dataframe to an interactive table.\"\n",
              "              style=\"display:none;\">\n",
              "        \n",
              "  <svg xmlns=\"http://www.w3.org/2000/svg\" height=\"24px\"viewBox=\"0 0 24 24\"\n",
              "       width=\"24px\">\n",
              "    <path d=\"M0 0h24v24H0V0z\" fill=\"none\"/>\n",
              "    <path d=\"M18.56 5.44l.94 2.06.94-2.06 2.06-.94-2.06-.94-.94-2.06-.94 2.06-2.06.94zm-11 1L8.5 8.5l.94-2.06 2.06-.94-2.06-.94L8.5 2.5l-.94 2.06-2.06.94zm10 10l.94 2.06.94-2.06 2.06-.94-2.06-.94-.94-2.06-.94 2.06-2.06.94z\"/><path d=\"M17.41 7.96l-1.37-1.37c-.4-.4-.92-.59-1.43-.59-.52 0-1.04.2-1.43.59L10.3 9.45l-7.72 7.72c-.78.78-.78 2.05 0 2.83L4 21.41c.39.39.9.59 1.41.59.51 0 1.02-.2 1.41-.59l7.78-7.78 2.81-2.81c.8-.78.8-2.07 0-2.86zM5.41 20L4 18.59l7.72-7.72 1.47 1.35L5.41 20z\"/>\n",
              "  </svg>\n",
              "      </button>\n",
              "      \n",
              "  <style>\n",
              "    .colab-df-container {\n",
              "      display:flex;\n",
              "      flex-wrap:wrap;\n",
              "      gap: 12px;\n",
              "    }\n",
              "\n",
              "    .colab-df-convert {\n",
              "      background-color: #E8F0FE;\n",
              "      border: none;\n",
              "      border-radius: 50%;\n",
              "      cursor: pointer;\n",
              "      display: none;\n",
              "      fill: #1967D2;\n",
              "      height: 32px;\n",
              "      padding: 0 0 0 0;\n",
              "      width: 32px;\n",
              "    }\n",
              "\n",
              "    .colab-df-convert:hover {\n",
              "      background-color: #E2EBFA;\n",
              "      box-shadow: 0px 1px 2px rgba(60, 64, 67, 0.3), 0px 1px 3px 1px rgba(60, 64, 67, 0.15);\n",
              "      fill: #174EA6;\n",
              "    }\n",
              "\n",
              "    [theme=dark] .colab-df-convert {\n",
              "      background-color: #3B4455;\n",
              "      fill: #D2E3FC;\n",
              "    }\n",
              "\n",
              "    [theme=dark] .colab-df-convert:hover {\n",
              "      background-color: #434B5C;\n",
              "      box-shadow: 0px 1px 3px 1px rgba(0, 0, 0, 0.15);\n",
              "      filter: drop-shadow(0px 1px 2px rgba(0, 0, 0, 0.3));\n",
              "      fill: #FFFFFF;\n",
              "    }\n",
              "  </style>\n",
              "\n",
              "      <script>\n",
              "        const buttonEl =\n",
              "          document.querySelector('#df-07d44b70-eeaf-4723-b189-4fa14902ae06 button.colab-df-convert');\n",
              "        buttonEl.style.display =\n",
              "          google.colab.kernel.accessAllowed ? 'block' : 'none';\n",
              "\n",
              "        async function convertToInteractive(key) {\n",
              "          const element = document.querySelector('#df-07d44b70-eeaf-4723-b189-4fa14902ae06');\n",
              "          const dataTable =\n",
              "            await google.colab.kernel.invokeFunction('convertToInteractive',\n",
              "                                                     [key], {});\n",
              "          if (!dataTable) return;\n",
              "\n",
              "          const docLinkHtml = 'Like what you see? Visit the ' +\n",
              "            '<a target=\"_blank\" href=https://colab.research.google.com/notebooks/data_table.ipynb>data table notebook</a>'\n",
              "            + ' to learn more about interactive tables.';\n",
              "          element.innerHTML = '';\n",
              "          dataTable['output_type'] = 'display_data';\n",
              "          await google.colab.output.renderOutput(dataTable, element);\n",
              "          const docLink = document.createElement('div');\n",
              "          docLink.innerHTML = docLinkHtml;\n",
              "          element.appendChild(docLink);\n",
              "        }\n",
              "      </script>\n",
              "    </div>\n",
              "  </div>\n",
              "  "
            ]
          },
          "metadata": {},
          "execution_count": 21
        }
      ]
    },
    {
      "cell_type": "code",
      "source": [
        "plt.plot(hist[0])"
      ],
      "metadata": {
        "colab": {
          "base_uri": "https://localhost:8080/",
          "height": 282
        },
        "id": "VFEaqmBFUg3C",
        "outputId": "43050e7a-6c05-466d-e118-130e200e993c"
      },
      "execution_count": null,
      "outputs": [
        {
          "output_type": "execute_result",
          "data": {
            "text/plain": [
              "[<matplotlib.lines.Line2D at 0x7fc2bf7ada90>]"
            ]
          },
          "metadata": {},
          "execution_count": 33
        },
        {
          "output_type": "display_data",
          "data": {
            "text/plain": [
              "<Figure size 432x288 with 1 Axes>"
            ],
            "image/png": "[encoded data removed]"
          },
          "metadata": {
            "needs_background": "light"
          }
        }
      ]
    },
    {
      "cell_type": "code",
      "source": [
        "plt.plot(hist[1])"
      ],
      "metadata": {
        "colab": {
          "base_uri": "https://localhost:8080/",
          "height": 282
        },
        "id": "n0u1E8wtUbU1",
        "outputId": "8e81431b-8577-4141-b8cc-e58181a1618e"
      },
      "execution_count": null,
      "outputs": [
        {
          "output_type": "execute_result",
          "data": {
            "text/plain": [
              "[<matplotlib.lines.Line2D at 0x7fc260404f70>]"
            ]
          },
          "metadata": {},
          "execution_count": 23
        },
        {
          "output_type": "display_data",
          "data": {
            "text/plain": [
              "<Figure size 432x288 with 1 Axes>"
            ],
            "image/png": "[encoded data removed]"
          },
          "metadata": {
            "needs_background": "light"
          }
        }
      ]
    },
    {
      "cell_type": "code",
      "source": [
        "plt.plot(hist[2])"
      ],
      "metadata": {
        "colab": {
          "base_uri": "https://localhost:8080/",
          "height": 282
        },
        "id": "tgOqk7VmrwQl",
        "outputId": "61bb02c5-25b5-4a87-90e8-a9a3c61e3928"
      },
      "execution_count": null,
      "outputs": [
        {
          "output_type": "execute_result",
          "data": {
            "text/plain": [
              "[<matplotlib.lines.Line2D at 0x7fc26037b2e0>]"
            ]
          },
          "metadata": {},
          "execution_count": 24
        },
        {
          "output_type": "display_data",
          "data": {
            "text/plain": [
              "<Figure size 432x288 with 1 Axes>"
            ],
            "image/png": "[encoded data removed]"
          },
          "metadata": {
            "needs_background": "light"
          }
        }
      ]
    },
    {
      "cell_type": "code",
      "source": [
        "plt.plot(hist[3])"
      ],
      "metadata": {
        "colab": {
          "base_uri": "https://localhost:8080/",
          "height": 282
        },
        "id": "eZIzbrg4rwL-",
        "outputId": "146651dd-431e-4fab-b6b5-3e054710bf53"
      },
      "execution_count": null,
      "outputs": [
        {
          "output_type": "execute_result",
          "data": {
            "text/plain": [
              "[<matplotlib.lines.Line2D at 0x7fc2602e8460>]"
            ]
          },
          "metadata": {},
          "execution_count": 25
        },
        {
          "output_type": "display_data",
          "data": {
            "text/plain": [
              "<Figure size 432x288 with 1 Axes>"
            ],
            "image/png": "[encoded data removed]"
          },
          "metadata": {
            "needs_background": "light"
          }
        }
      ]
    },
    {
      "cell_type": "code",
      "source": [
        "plt.plot(np.mean(val_scores, axis=1)[:, 0])"
      ],
      "metadata": {
        "colab": {
          "base_uri": "https://localhost:8080/",
          "height": 283
        },
        "id": "woLOU2E8rwJL",
        "outputId": "3cca4d3e-97ff-46c6-8504-eb3f23c11695"
      },
      "execution_count": null,
      "outputs": [
        {
          "output_type": "execute_result",
          "data": {
            "text/plain": [
              "[<matplotlib.lines.Line2D at 0x7fc2bf16d8b0>]"
            ]
          },
          "metadata": {},
          "execution_count": 34
        },
        {
          "output_type": "display_data",
          "data": {
            "text/plain": [
              "<Figure size 432x288 with 1 Axes>"
            ],
            "image/png": "[encoded data removed]"
          },
          "metadata": {
            "needs_background": "light"
          }
        }
      ]
    },
    {
      "cell_type": "code",
      "source": [
        "plt.plot(np.mean(val_scores, axis=1)[:, 1])"
      ],
      "metadata": {
        "colab": {
          "base_uri": "https://localhost:8080/",
          "height": 282
        },
        "id": "RtEPGrgtr_OV",
        "outputId": "f39b6eb0-a06e-4ba5-bc19-5a8820f982bf"
      },
      "execution_count": null,
      "outputs": [
        {
          "output_type": "execute_result",
          "data": {
            "text/plain": [
              "[<matplotlib.lines.Line2D at 0x7fc2bf2fe310>]"
            ]
          },
          "metadata": {},
          "execution_count": 35
        },
        {
          "output_type": "display_data",
          "data": {
            "text/plain": [
              "<Figure size 432x288 with 1 Axes>"
            ],
            "image/png": "[encoded data removed]"
          },
          "metadata": {
            "needs_background": "light"
          }
        }
      ]
    },
    {
      "cell_type": "code",
      "source": [
        "plt.plot(np.mean(val_scores, axis=1)[:, 2])"
      ],
      "metadata": {
        "colab": {
          "base_uri": "https://localhost:8080/",
          "height": 286
        },
        "id": "PAIwDzbsr--m",
        "outputId": "8f9bb565-f4c4-4b1d-cacc-f3e82f8438b7"
      },
      "execution_count": null,
      "outputs": [
        {
          "output_type": "execute_result",
          "data": {
            "text/plain": [
              "[<matplotlib.lines.Line2D at 0x7fc2bf3f70d0>]"
            ]
          },
          "metadata": {},
          "execution_count": 36
        },
        {
          "output_type": "display_data",
          "data": {
            "text/plain": [
              "<Figure size 432x288 with 1 Axes>"
            ],
            "image/png": "[encoded data removed]"
          },
          "metadata": {
            "needs_background": "light"
          }
        }
      ]
    },
    {
      "cell_type": "markdown",
      "source": [
        "#ddd"
      ],
      "metadata": {
        "id": "QlYN-oUj9aZV"
      }
    },
    {
      "cell_type": "code",
      "source": [
        "num_imgs = 50000\n",
        "\n",
        "img_size = 16\n",
        "min_rect_size = 3\n",
        "max_rect_size = 8\n",
        "num_objects = 2\n",
        "\n",
        "bboxes = np.zeros((num_imgs, num_objects, 4))\n",
        "imgs = np.zeros((num_imgs, img_size, img_size))\n",
        "shapes = np.zeros((num_imgs, num_objects, 1))\n",
        "\n",
        "for i_img in range(num_imgs):\n",
        "    for i_object in range(num_objects):\n",
        "        if np.random.choice([True, False]):\n",
        "            width, height = np.random.randint(min_rect_size, max_rect_size, size=2)\n",
        "            x = np.random.randint(0, img_size - width)\n",
        "            y = np.random.randint(0, img_size - height)\n",
        "            imgs[i_img, x:x+width, y:y+height] = 1.\n",
        "            bboxes[i_img, i_object] = [x, y, width, height]\n",
        "            shapes[i_img, i_object] = [0]\n",
        "        else:\n",
        "            size = np.random.randint(min_rect_size, max_rect_size)\n",
        "            x, y = np.random.randint(0, img_size - size, size=2)\n",
        "            mask = np.tril_indices(size)\n",
        "            imgs[i_img, x + mask[0], y + mask[1]] = 1.\n",
        "            bboxes[i_img, i_object] = [x, y, size, size]\n",
        "            shapes[i_img, i_object] = [1]\n",
        "            \n",
        "imgs.shape, bboxes.shape"
      ],
      "metadata": {
        "colab": {
          "base_uri": "https://localhost:8080/"
        },
        "id": "MU2n-KEkXFRT",
        "outputId": "1ffa4c99-d262-40b4-e700-956a5bc0aa7e"
      },
      "execution_count": null,
      "outputs": [
        {
          "output_type": "execute_result",
          "data": {
            "text/plain": [
              "((50000, 16, 16), (50000, 2, 4))"
            ]
          },
          "metadata": {},
          "execution_count": 12
        }
      ]
    },
    {
      "cell_type": "code",
      "source": [
        "# i = 0\n",
        "plt.imshow(imgs[i].T, cmap='Greys', interpolation='none', origin='lower', extent=[0, img_size, 0, img_size])\n",
        "for bbox, shape in zip(bboxes[i], shapes[i]):\n",
        "    plt.gca().add_patch(matplotlib.patches.Rectangle((bbox[0], bbox[1]), bbox[2], bbox[3], ec='r' if shape[0] == 0 else 'y', fc='none'))\n"
      ],
      "metadata": {
        "colab": {
          "base_uri": "https://localhost:8080/",
          "height": 269
        },
        "id": "LSQJOklogE-s",
        "outputId": "8bcf832c-9c6a-42f6-df31-2fe5521645b4"
      },
      "execution_count": null,
      "outputs": [
        {
          "output_type": "display_data",
          "data": {
            "text/plain": [
              "<Figure size 432x288 with 1 Axes>"
            ],
            "image/png": "[encoded data removed]"
          },
          "metadata": {
            "needs_background": "light"
          }
        }
      ]
    },
    {
      "cell_type": "code",
      "source": [
        "X = (imgs.reshape(num_imgs, -1) - np.mean(imgs)) / np.std(imgs)\n",
        "X.shape, np.mean(X), np.std(X)\n",
        "\n",
        "y = np.concatenate([bboxes / img_size, shapes], axis=-1).reshape(num_imgs, -1)\n",
        "y.shape"
      ],
      "metadata": {
        "id": "WKks-DEDv9YX"
      },
      "execution_count": null,
      "outputs": []
    },
    {
      "cell_type": "code",
      "source": [
        "print(bboxes.shape, shapes.shape, y.shape)\n",
        "bboxes[0], shapes[0], y[0]"
      ],
      "metadata": {
        "id": "Y-60H62hMZ_v"
      },
      "execution_count": null,
      "outputs": []
    },
    {
      "cell_type": "code",
      "source": [
        "i = int(0.8 * num_imgs)\n",
        "train_X = X[:i]\n",
        "test_X = X[i:]\n",
        "train_y = y[:i]\n",
        "test_y = y[i:]\n",
        "test_imgs = imgs[i:]\n",
        "test_bboxes = bboxes[i:]"
      ],
      "metadata": {
        "id": "u2IPJMU_MNl_"
      },
      "execution_count": null,
      "outputs": []
    },
    {
      "cell_type": "code",
      "source": [
        "\n",
        "from keras.models import Sequential\n",
        "from keras.layers import Dense, Activation, Dropout\n",
        "from keras.optimizers import SGD\n",
        "model = tf.keras.models.Sequential([\n",
        "        tf.keras.layers.Dense(256, input_dim=X.shape[-1], activation='relu'), \n",
        "        tf.keras.layers.Dropout(0.5),\n",
        "        tf.keras.layers.Dense(y.shape[-1])\n",
        "    ])\n",
        "\n",
        "model.compile(omptimizer='adadelta',\n",
        "              loss='mse',\n",
        "              metrics=['accuracy'])"
      ],
      "metadata": {
        "id": "exKa0DQgwAhh"
      },
      "execution_count": null,
      "outputs": []
    },
    {
      "cell_type": "code",
      "source": [
        "\n",
        "# Flip bboxes during training.\n",
        "# Note: The validation loss is always quite big here because we don't flip the bounding boxes for the validation data. \n",
        "def IOU(bbox1, bbox2):\n",
        "    '''Calculate overlap between two bounding boxes [x, y, w, h] as the area of intersection over the area of unity'''\n",
        "    x1, y1, w1, h1 = bbox1[0], bbox1[1], bbox1[2], bbox1[3]  # TODO: Check if its more performant if tensor elements are accessed directly below.\n",
        "    x2, y2, w2, h2 = bbox2[0], bbox2[1], bbox2[2], bbox2[3]\n",
        "\n",
        "    w_I = min(x1 + w1, x2 + w2) - max(x1, x2)\n",
        "    h_I = min(y1 + h1, y2 + h2) - max(y1, y2)\n",
        "    if w_I <= 0 or h_I <= 0:  # no overlap\n",
        "        return 0\n",
        "    I = w_I * h_I\n",
        "\n",
        "    U = w1 * h1 + w2 * h2 - I\n",
        "\n",
        "    return I / U"
      ],
      "metadata": {
        "id": "v_J-8uIcwDeO"
      },
      "execution_count": null,
      "outputs": []
    },
    {
      "cell_type": "code",
      "source": [
        "def dist(bbox1, bbox2):\n",
        "    return np.sqrt(np.sum(np.square(bbox1[:2] - bbox2[:2])))"
      ],
      "metadata": {
        "id": "xiXzY_KRwEZw"
      },
      "execution_count": null,
      "outputs": []
    },
    {
      "cell_type": "code",
      "execution_count": null,
      "metadata": {
        "colab": {
          "base_uri": "https://localhost:8080/"
        },
        "id": "NCBkMsWdek5J",
        "outputId": "7a8da37e-7bb8-40f6-9778-3c58e84bfc1a"
      },
      "outputs": [
        {
          "output_type": "stream",
          "name": "stdout",
          "text": [
            "Epoch 0\n",
            "1250/1250 - 5s - loss: 1.2512 - val_loss: 0.6032 - 5s/epoch - 4ms/step\n",
            "1250/1250 [==============================] - 2s 2ms/step\n",
            "Flipped 49.769999999999996 % of all elements\n",
            "Mean IOU: 0.007859193352009687\n",
            "Mean dist: 0.8797448999706355\n",
            "Mean mse: 0.51864670046129\n",
            "Epoch 1\n",
            "1250/1250 - 5s - loss: 1.0567 - val_loss: 0.4950 - 5s/epoch - 4ms/step\n",
            "1250/1250 [==============================] - 3s 2ms/step\n",
            "Flipped 8.434999999999999 % of all elements\n",
            "Mean IOU: 0.01126615508267084\n",
            "Mean dist: 0.7987428326355115\n",
            "Mean mse: 0.41814962263317496\n",
            "Epoch 2\n",
            "1250/1250 - 7s - loss: 0.9446 - val_loss: 0.4278 - 7s/epoch - 6ms/step\n",
            "1250/1250 [==============================] - 8s 7ms/step\n",
            "Flipped 6.08 % of all elements\n",
            "Mean IOU: 0.014347690264117656\n",
            "Mean dist: 0.7398230211061122\n",
            "Mean mse: 0.3565922847082358\n",
            "Epoch 3\n",
            "1250/1250 - 8s - loss: 0.8574 - val_loss: 0.3808 - 8s/epoch - 6ms/step\n",
            "1250/1250 [==============================] - 5s 4ms/step\n",
            "Flipped 4.625 % of all elements\n",
            "Mean IOU: 0.017053951856157455\n",
            "Mean dist: 0.6936163739841937\n",
            "Mean mse: 0.3139086888926488\n",
            "Epoch 4\n",
            "1250/1250 - 9s - loss: 0.7972 - val_loss: 0.3453 - 9s/epoch - 7ms/step\n",
            "1250/1250 [==============================] - 2s 2ms/step\n",
            "Flipped 3.8975000000000004 % of all elements\n",
            "Mean IOU: 0.01958615239771235\n",
            "Mean dist: 0.655367594627621\n",
            "Mean mse: 0.28141002491405853\n"
          ]
        }
      ],
      "source": [
        "num_epochs_flipping = 5\n",
        "num_epochs_no_flipping = 0  # has no significant effect\n",
        "flipped_train_y = np.array(train_y)\n",
        "flipped = np.zeros((len(flipped_train_y), num_epochs_flipping + num_epochs_no_flipping))\n",
        "ious_epoch = np.zeros((len(flipped_train_y), num_epochs_flipping + num_epochs_no_flipping))\n",
        "dists_epoch = np.zeros((len(flipped_train_y), num_epochs_flipping + num_epochs_no_flipping))\n",
        "mses_epoch = np.zeros((len(flipped_train_y), num_epochs_flipping + num_epochs_no_flipping))\n",
        "\n",
        "# TODO: Calculate ious directly for all samples (using slices of the array pred_y for x, y, w, h).\n",
        "for epoch in range(num_epochs_flipping):\n",
        "    print ('Epoch', epoch)\n",
        "    model.fit(train_X, flipped_train_y, epochs=1, validation_data=(test_X, test_y), verbose=2)\n",
        "    pred_y = model.predict(train_X)\n",
        "\n",
        "    for sample, (pred, exp) in enumerate(zip(pred_y, flipped_train_y)):\n",
        "        \n",
        "        # TODO: Make this simpler.\n",
        "        pred = pred.reshape(num_objects, -1)\n",
        "        exp = exp.reshape(num_objects, -1)\n",
        "        \n",
        "        pred_bboxes = pred[:, :4]\n",
        "        exp_bboxes = exp[:, :4]\n",
        "        \n",
        "        # TODO: Try flipping array and see if results differ.\n",
        "        ious = np.zeros((num_objects, num_objects))\n",
        "        dists = np.zeros((num_objects, num_objects))\n",
        "        mses = np.zeros((num_objects, num_objects))\n",
        "        for i, exp_bbox in enumerate(exp_bboxes):\n",
        "            for j, pred_bbox in enumerate(pred_bboxes):\n",
        "                ious[i, j] = IOU(exp_bbox, pred_bbox)\n",
        "                dists[i, j] = dist(exp_bbox, pred_bbox)\n",
        "                mses[i, j] = np.mean(np.square(exp_bbox - pred_bbox))\n",
        "                \n",
        "        new_order = np.zeros(num_objects, dtype=int)\n",
        "        \n",
        "        for i in range(num_objects):\n",
        "            # Find pred and exp bbox with maximum iou and assign them to each other (i.e. switch the positions of the exp bboxes in y).\n",
        "            ind_exp_bbox, ind_pred_bbox = np.unravel_index(mses.argmin(), mses.shape)\n",
        "            ious_epoch[sample, epoch] += ious[ind_exp_bbox, ind_pred_bbox]\n",
        "            dists_epoch[sample, epoch] += dists[ind_exp_bbox, ind_pred_bbox]\n",
        "            mses_epoch[sample, epoch] += mses[ind_exp_bbox, ind_pred_bbox]\n",
        "            mses[ind_exp_bbox] = 1000000#-1  # set iou of assigned bboxes to -1, so they don't get assigned again\n",
        "            mses[:, ind_pred_bbox] = 10000000#-1\n",
        "            new_order[ind_pred_bbox] = ind_exp_bbox\n",
        "        \n",
        "        flipped_train_y[sample] = exp[new_order].flatten()\n",
        "        \n",
        "        flipped[sample, epoch] = 1. - np.mean(new_order == np.arange(num_objects, dtype=int))#np.array_equal(new_order, np.arange(num_objects, dtype=int))  # TODO: Change this to reflect the number of flips.\n",
        "        ious_epoch[sample, epoch] /= num_objects\n",
        "        dists_epoch[sample, epoch] /= num_objects\n",
        "        mses_epoch[sample, epoch] /= num_objects\n",
        "        \n",
        "            \n",
        "    print ('Flipped {} % of all elements'.format(np.mean(flipped[:, epoch]) * 100.))\n",
        "    print ('Mean IOU: {}'.format(np.mean(ious_epoch[:, epoch])))\n",
        "    print ('Mean dist: {}'.format(np.mean(dists_epoch[:, epoch])))\n",
        "    print ('Mean mse: {}'.format(np.mean(mses_epoch[:, epoch])))\n",
        "    \n",
        "# print '------------------------------------'\n",
        "# print 'Training now without flipping bboxes'\n",
        "# print '------------------------------------'\n",
        "    \n",
        "# for epoch in range(num_epochs_flipping, num_epochs_flipping + num_epochs_no_flipping):\n",
        "#     print 'Epoch', epoch\n",
        "#     model.fit(train_X, flipped_train_y, nb_epoch=1, validation_data=(test_X, test_y), verbose=2)\n",
        "#     pred_y = model.predict(train_X)\n",
        "\n",
        "#     # Calculate iou/dist, but don't flip.\n",
        "#     for sample, (pred_bboxes, exp_bboxes) in enumerate(zip(pred_y, flipped_train_y)):\n",
        "        \n",
        "#         pred_bboxes = pred_bboxes.reshape(num_objects, -1)\n",
        "#         exp_bboxes = exp_bboxes.reshape(num_objects, -1)        \n",
        "        \n",
        "#         for exp_bbox, pred_bbox in zip(exp_bboxes, pred_bboxes):\n",
        "#             ious_epoch[sample, epoch] += IOU(exp_bbox, pred_bbox)\n",
        "#             dists_epoch[sample, epoch] += dist(exp_bbox, pred_bbox)\n",
        "#             mses_epoch[sample, epoch] += np.mean(np.square(exp_bbox - pred_bbox))\n",
        "            \n",
        "#         ious_epoch[sample, epoch] /= num_objects\n",
        "#         dists_epoch[sample, epoch] /= num_objects \n",
        "#         mses_epoch[sample, epoch] /= num_objects \n",
        "            \n",
        "# #     print 'Flipped {} % of all elements'.format(np.mean(flipped[:, epoch]) * 100.)\n",
        "#     print 'Mean IOU: {}'.format(np.mean(ious_epoch[:, epoch]))\n",
        "#     print 'Mean dist: {}'.format(np.mean(dists_epoch[:, epoch]))\n",
        "#     print 'Mean mse: {}'.format(np.mean(mses_epoch[:, epoch]))\n",
        "#     print\n",
        "    \n",
        "# TODO: Calculate IOU and dist for validation data during training."
      ]
    },
    {
      "cell_type": "code",
      "source": [
        "plt.pcolor(flipped[:1000], cmap='Greys', vmax=1.)\n",
        "# plt.axvline(num_epochs_flipping, c='r')\n",
        "plt.xlabel('Epoch')\n",
        "plt.ylabel('Training sample')"
      ],
      "metadata": {
        "colab": {
          "base_uri": "https://localhost:8080/",
          "height": 300
        },
        "id": "32Zh8QPnf_VN",
        "outputId": "76dde4df-b21b-4074-e402-2134f83c1300"
      },
      "execution_count": null,
      "outputs": [
        {
          "output_type": "execute_result",
          "data": {
            "text/plain": [
              "Text(0, 0.5, 'Training sample')"
            ]
          },
          "metadata": {},
          "execution_count": 25
        },
        {
          "output_type": "display_data",
          "data": {
            "text/plain": [
              "<Figure size 432x288 with 1 Axes>"
            ],
            "image/png": "[encoded data removed]"
          },
          "metadata": {
            "needs_background": "light"
          }
        }
      ]
    },
    {
      "cell_type": "code",
      "source": [
        "mean_ious_epoch = np.mean(ious_epoch, axis=0)\n",
        "mean_dists_epoch = np.mean(dists_epoch, axis=0)\n",
        "mean_mses_epoch = np.mean(mses_epoch, axis=0)\n",
        "plt.plot(mean_ious_epoch, label='Mean IOU')  # between predicted and assigned true bboxes\n",
        "plt.plot(mean_dists_epoch, label='Mean distance')  # relative to image size\n",
        "plt.plot(mean_mses_epoch, label='Mean mse')  # relative to image size\n",
        "plt.annotate(np.round(np.max(mean_ious_epoch), 3), (len(mean_ious_epoch)-1, mean_ious_epoch[-1]+0.03), horizontalalignment='right', color='b')\n",
        "plt.annotate(np.round(np.min(mean_dists_epoch), 3), (len(mean_dists_epoch)-1, mean_dists_epoch[-1]+0.03), horizontalalignment='right', color='g')\n",
        "plt.annotate(np.round(np.min(mean_mses_epoch), 3), (len(mean_mses_epoch)-1, mean_mses_epoch[-1]+0.03), horizontalalignment='right', color='r')\n",
        "# plt.axvline(num_epochs_flipping, c='r')\n",
        "plt.xlabel('Epoch')\n",
        "plt.legend()\n",
        "plt.ylim(0, 1)\n",
        "\n",
        "# plt.savefig('plots/bw-multiple-rectangles-mse.png', dpi=300)"
      ],
      "metadata": {
        "colab": {
          "base_uri": "https://localhost:8080/",
          "height": 300
        },
        "id": "U0sS_r-cwgTg",
        "outputId": "bb83acb9-acd5-4dab-e46f-4f160cd063ed"
      },
      "execution_count": null,
      "outputs": [
        {
          "output_type": "execute_result",
          "data": {
            "text/plain": [
              "(0.0, 1.0)"
            ]
          },
          "metadata": {},
          "execution_count": 26
        },
        {
          "output_type": "display_data",
          "data": {
            "text/plain": [
              "<Figure size 432x288 with 1 Axes>"
            ],
            "image/png": "[encoded data removed]"
          },
          "metadata": {
            "needs_background": "light"
          }
        }
      ]
    },
    {
      "cell_type": "code",
      "source": [
        "pred_y = model.predict(test_X)\n",
        "pred_y = pred_y.reshape(len(pred_y), num_objects, -1)\n",
        "pred_bboxes = pred_y[..., :4] * img_size\n",
        "pred_shapes = pred_y[..., 4:5]\n",
        "pred_bboxes.shape, pred_shapes.shape"
      ],
      "metadata": {
        "colab": {
          "base_uri": "https://localhost:8080/"
        },
        "id": "yAsgCI_vwhyR",
        "outputId": "25906db1-4657-4a33-f497-614af6f683a6"
      },
      "execution_count": null,
      "outputs": [
        {
          "output_type": "stream",
          "name": "stdout",
          "text": [
            "313/313 [==============================] - 1s 2ms/step\n"
          ]
        },
        {
          "output_type": "execute_result",
          "data": {
            "text/plain": [
              "((10000, 2, 4), (10000, 2, 1))"
            ]
          },
          "metadata": {},
          "execution_count": 27
        }
      ]
    },
    {
      "cell_type": "code",
      "source": [
        "plt.figure(figsize=(16, 8))\n",
        "for i_subplot in range(1, 9):\n",
        "    plt.subplot(2, 4, i_subplot)\n",
        "    i = np.random.randint(len(test_X))\n",
        "    plt.imshow(test_imgs[i].T, cmap='Greys', interpolation='none', origin='lower', extent=[0, img_size, 0, img_size])\n",
        "    for pred_bbox, exp_bbox, pred_shape in zip(pred_bboxes[i], test_bboxes[i], pred_shapes[i]):\n",
        "        plt.gca().add_patch(matplotlib.patches.Rectangle((pred_bbox[0], pred_bbox[1]), pred_bbox[2], pred_bbox[3], ec='r' if pred_shape[0] <= 0.5 else 'y', fc='none'))\n",
        "        # TODO: Calculate max IOU with all expected bounding boxes.\n",
        "        plt.annotate('IOU: {:.2f}'.format(IOU(pred_bbox, exp_bbox)), (pred_bbox[0], pred_bbox[1]+pred_bbox[3]+0.4), color='r')\n"
      ],
      "metadata": {
        "colab": {
          "base_uri": "https://localhost:8080/",
          "height": 483
        },
        "id": "1GUozAGfwi0p",
        "outputId": "960305d1-48c7-4824-f1c1-60e7aab5147f"
      },
      "execution_count": null,
      "outputs": [
        {
          "output_type": "display_data",
          "data": {
            "text/plain": [
              "<Figure size 1152x576 with 8 Axes>"
            ],
            "image/png": "[encoded data removed]"
          },
          "metadata": {
            "needs_background": "light"
          }
        }
      ]
    },
    {
      "cell_type": "code",
      "source": [],
      "metadata": {
        "id": "ITHqDE-61qOf"
      },
      "execution_count": null,
      "outputs": []
    }
  ]
}