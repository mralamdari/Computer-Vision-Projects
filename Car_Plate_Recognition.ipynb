{
  "nbformat": 4,
  "nbformat_minor": 0,
  "metadata": {
    "colab": {
      "provenance": [],
      "mount_file_id": "1fjUo9sB1Ryirj8NXd42FXqz_HJYyh2F6",
      "authorship_tag": "ABX9TyNc2yLQ7J/4YoDEKpQEANRK",
      "include_colab_link": true
    },
    "kernelspec": {
      "name": "python3",
      "display_name": "Python 3"
    },
    "language_info": {
      "name": "python"
    }
  },
  "cells": [
    {
      "cell_type": "markdown",
      "metadata": {
        "id": "view-in-github",
        "colab_type": "text"
      },
      "source": [
        "<a href=\"https://colab.research.google.com/github/mralamdari/Computer-Vision-Projects/blob/main/Car_Plate_Recognition.ipynb\" target=\"_parent\"><img src=\"https://colab.research.google.com/assets/colab-badge.svg\" alt=\"Open In Colab\"/></a>"
      ]
    },
    {
      "cell_type": "code",
      "source": [
        "import os\n",
        "import glob\n",
        "import matplotlib\n",
        "import numpy as np\n",
        "import pandas as pd\n",
        "import tensorflow as tf\n",
        "import matplotlib.pyplot as plt\n",
        "import xml.etree.ElementTree as ET\n",
        "from sklearn import model_selection\n",
        "\n",
        "tf.__version__"
      ],
      "metadata": {
        "colab": {
          "base_uri": "https://localhost:8080/",
          "height": 36
        },
        "id": "wZ_-2cnjgFEL",
        "outputId": "53dda188-5718-48cb-d6a8-bf4f07eff2fc"
      },
      "execution_count": 58,
      "outputs": [
        {
          "output_type": "execute_result",
          "data": {
            "text/plain": [
              "'2.11.0'"
            ],
            "application/vnd.google.colaboratory.intrinsic+json": {
              "type": "string"
            }
          },
          "metadata": {},
          "execution_count": 58
        }
      ]
    },
    {
      "cell_type": "code",
      "source": [
        "os.environ['KAGGLE_CONFIG_DIR'] = '/content/drive/MyDrive'\n",
        "!kaggle datasets download -d andrewmvd/car-plate-detection\n",
        "!unzip \\*.zip && rm *.zip"
      ],
      "metadata": {
        "id": "kl93Gk7NgFBa"
      },
      "execution_count": null,
      "outputs": []
    },
    {
      "cell_type": "code",
      "source": [
        "os.makedirs('/content/data/', exist_ok=True)\n",
        "os.replace('/content/images', '/content/data/images')\n",
        "os.replace('/content/annotations', '/content/data/annotations')"
      ],
      "metadata": {
        "id": "GK34bCgTVfso"
      },
      "execution_count": 3,
      "outputs": []
    },
    {
      "cell_type": "code",
      "source": [
        "IMAGE_PATH = '/content/data/images/'\n",
        "ANNOTATION_PATH =  '/content/data/annotations/'"
      ],
      "metadata": {
        "id": "BwsIcn12WfMy"
      },
      "execution_count": 4,
      "outputs": []
    },
    {
      "cell_type": "code",
      "source": [
        "def xml_to_yolo(path, img_path):\n",
        "  Y = []\n",
        "  X = []\n",
        "  for xml_file in glob.glob(path+'*.xml'):\n",
        "    tree = ET.parse(xml_file)\n",
        "    root = tree.getroot()\n",
        "    img_name = img_path + xml_file.replace(path, '')[:-4]+'.png'\n",
        "\n",
        "    h, w, d = plt.imread(img_name).shape\n",
        "\n",
        "    img = tf.keras.preprocessing.image.load_img(img_name, target_size=(320, 320))\n",
        "    img_arr = tf.keras.preprocessing.image.img_to_array(img) / 255.0\n",
        "\n",
        "    X.append(img_arr)\n",
        "\n",
        "    for children in root.findall('object'):\n",
        "      bndbox = children[5]\n",
        "      xmin = float(bndbox[0].text) / w\n",
        "      ymin = float(bndbox[1].text) / h\n",
        "      xmax = float(bndbox[2].text) / w\n",
        "      ymax = float(bndbox[3].text) / h\n",
        "      \n",
        "      Y.append([xmin, xmax, ymin, ymax])\n",
        "\n",
        "  return X, Y"
      ],
      "metadata": {
        "id": "mE53o49dLTlS"
      },
      "execution_count": 76,
      "outputs": []
    },
    {
      "cell_type": "code",
      "source": [
        "x, y = xml_to_yolo(ANNOTATION_PATH, IMAGE_PATH)"
      ],
      "metadata": {
        "id": "rhtW54HL9CO6"
      },
      "execution_count": null,
      "outputs": []
    },
    {
      "cell_type": "code",
      "source": [
        "vgg16 = tf.keras.applications.VGG16()"
      ],
      "metadata": {
        "id": "Y2J0w3fvrFpx"
      },
      "execution_count": null,
      "outputs": []
    },
    {
      "cell_type": "code",
      "source": [
        "vgg16.compile(optimizer='adam',\n",
        "              loss='categorical',\n",
        "              metrics=['metrics'])"
      ],
      "metadata": {
        "id": "rFlKeNwHr5Di"
      },
      "execution_count": null,
      "outputs": []
    },
    {
      "cell_type": "code",
      "source": [
        "train_x, test_x, train_y, test_y = model_selection.train_test_split(X, y)"
      ],
      "metadata": {
        "id": "UXl_9hF2rFnR"
      },
      "execution_count": null,
      "outputs": []
    },
    {
      "cell_type": "code",
      "source": [],
      "metadata": {
        "id": "mn96IBFxrFkj"
      },
      "execution_count": null,
      "outputs": []
    },
    {
      "cell_type": "markdown",
      "source": [
        "#ddd"
      ],
      "metadata": {
        "id": "QlYN-oUj9aZV"
      }
    },
    {
      "cell_type": "code",
      "source": [
        "num_imgs = 50000\n",
        "\n",
        "img_size = 16\n",
        "min_rect_size = 3\n",
        "max_rect_size = 8\n",
        "num_objects = 2\n",
        "\n",
        "bboxes = np.zeros((num_imgs, num_objects, 4))\n",
        "imgs = np.zeros((num_imgs, img_size, img_size))\n",
        "shapes = np.zeros((num_imgs, num_objects, 1))\n",
        "\n",
        "for i_img in range(num_imgs):\n",
        "    for i_object in range(num_objects):\n",
        "        if np.random.choice([True, False]):\n",
        "            width, height = np.random.randint(min_rect_size, max_rect_size, size=2)\n",
        "            x = np.random.randint(0, img_size - width)\n",
        "            y = np.random.randint(0, img_size - height)\n",
        "            imgs[i_img, x:x+width, y:y+height] = 1.\n",
        "            bboxes[i_img, i_object] = [x, y, width, height]\n",
        "            shapes[i_img, i_object] = [0]\n",
        "        else:\n",
        "            size = np.random.randint(min_rect_size, max_rect_size)\n",
        "            x, y = np.random.randint(0, img_size - size, size=2)\n",
        "            mask = np.tril_indices(size)\n",
        "            imgs[i_img, x + mask[0], y + mask[1]] = 1.\n",
        "            bboxes[i_img, i_object] = [x, y, size, size]\n",
        "            shapes[i_img, i_object] = [1]\n",
        "            \n",
        "imgs.shape, bboxes.shape"
      ],
      "metadata": {
        "colab": {
          "base_uri": "https://localhost:8080/"
        },
        "id": "MU2n-KEkXFRT",
        "outputId": "e9e3cc56-a25e-4934-b521-1f321adbd7be"
      },
      "execution_count": null,
      "outputs": [
        {
          "output_type": "execute_result",
          "data": {
            "text/plain": [
              "((50000, 16, 16), (50000, 2, 4))"
            ]
          },
          "metadata": {},
          "execution_count": 11
        }
      ]
    },
    {
      "cell_type": "code",
      "source": [
        "i = 0\n",
        "# TODO: Why does the array have to be transposed?\n",
        "plt.imshow(imgs[i].T, cmap='Greys', interpolation='none', origin='lower', extent=[0, img_size, 0, img_size])\n",
        "for bbox, shape in zip(bboxes[i], shapes[i]):\n",
        "    plt.gca().add_patch(matplotlib.patches.Rectangle((bbox[0], bbox[1]), bbox[2], bbox[3], ec='r' if shape[0] == 0 else 'y', fc='none'))\n"
      ],
      "metadata": {
        "colab": {
          "base_uri": "https://localhost:8080/",
          "height": 269
        },
        "id": "LSQJOklogE-s",
        "outputId": "673d220e-e8a4-4bf8-dcae-d104ea617403"
      },
      "execution_count": null,
      "outputs": [
        {
          "output_type": "display_data",
          "data": {
            "text/plain": [
              "<Figure size 432x288 with 1 Axes>"
            ],
            "image/png": "[encoded data removed]"
          },
          "metadata": {
            "needs_background": "light"
          }
        }
      ]
    },
    {
      "cell_type": "code",
      "source": [
        "X = (imgs.reshape(num_imgs, -1) - np.mean(imgs)) / np.std(imgs)\n",
        "X.shape, np.mean(X), np.std(X)\n",
        "\n",
        "y = np.concatenate([bboxes / img_size, shapes], axis=-1).reshape(num_imgs, -1)\n",
        "y.shape\n",
        "\n",
        "i = int(0.8 * num_imgs)\n",
        "train_X = X[:i]\n",
        "test_X = X[i:]\n",
        "train_y = y[:i]\n",
        "test_y = y[i:]\n",
        "test_imgs = imgs[i:]\n",
        "test_bboxes = bboxes[i:]\n"
      ],
      "metadata": {
        "id": "WKks-DEDv9YX"
      },
      "execution_count": null,
      "outputs": []
    },
    {
      "cell_type": "code",
      "source": [
        "\n",
        "from keras.models import Sequential\n",
        "from keras.layers import Dense, Activation, Dropout\n",
        "from keras.optimizers import SGD\n",
        "model = tf.keras.models.Sequential([\n",
        "        tf.keras.layers.Dense(256, input_dim=X.shape[-1], activation='relu'), \n",
        "        tf.keras.layers.Dropout(0.5),\n",
        "        tf.keras.layers.Dense(y.shape[-1])\n",
        "    ])\n",
        "\n",
        "model.compile(omptimizer='adadelta',\n",
        "              loss='mse',\n",
        "              metrics=['accuracy'])"
      ],
      "metadata": {
        "id": "exKa0DQgwAhh"
      },
      "execution_count": null,
      "outputs": []
    },
    {
      "cell_type": "code",
      "source": [
        "\n",
        "# Flip bboxes during training.\n",
        "# Note: The validation loss is always quite big here because we don't flip the bounding boxes for the validation data. \n",
        "def IOU(bbox1, bbox2):\n",
        "    '''Calculate overlap between two bounding boxes [x, y, w, h] as the area of intersection over the area of unity'''\n",
        "    x1, y1, w1, h1 = bbox1[0], bbox1[1], bbox1[2], bbox1[3]  # TODO: Check if its more performant if tensor elements are accessed directly below.\n",
        "    x2, y2, w2, h2 = bbox2[0], bbox2[1], bbox2[2], bbox2[3]\n",
        "\n",
        "    w_I = min(x1 + w1, x2 + w2) - max(x1, x2)\n",
        "    h_I = min(y1 + h1, y2 + h2) - max(y1, y2)\n",
        "    if w_I <= 0 or h_I <= 0:  # no overlap\n",
        "        return 0\n",
        "    I = w_I * h_I\n",
        "\n",
        "    U = w1 * h1 + w2 * h2 - I\n",
        "\n",
        "    return I / U"
      ],
      "metadata": {
        "id": "v_J-8uIcwDeO"
      },
      "execution_count": null,
      "outputs": []
    },
    {
      "cell_type": "code",
      "source": [
        "def dist(bbox1, bbox2):\n",
        "    return np.sqrt(np.sum(np.square(bbox1[:2] - bbox2[:2])))"
      ],
      "metadata": {
        "id": "xiXzY_KRwEZw"
      },
      "execution_count": null,
      "outputs": []
    },
    {
      "cell_type": "code",
      "execution_count": null,
      "metadata": {
        "colab": {
          "base_uri": "https://localhost:8080/"
        },
        "id": "NCBkMsWdek5J",
        "outputId": "7a8da37e-7bb8-40f6-9778-3c58e84bfc1a"
      },
      "outputs": [
        {
          "output_type": "stream",
          "name": "stdout",
          "text": [
            "Epoch 0\n",
            "1250/1250 - 5s - loss: 1.2512 - val_loss: 0.6032 - 5s/epoch - 4ms/step\n",
            "1250/1250 [==============================] - 2s 2ms/step\n",
            "Flipped 49.769999999999996 % of all elements\n",
            "Mean IOU: 0.007859193352009687\n",
            "Mean dist: 0.8797448999706355\n",
            "Mean mse: 0.51864670046129\n",
            "Epoch 1\n",
            "1250/1250 - 5s - loss: 1.0567 - val_loss: 0.4950 - 5s/epoch - 4ms/step\n",
            "1250/1250 [==============================] - 3s 2ms/step\n",
            "Flipped 8.434999999999999 % of all elements\n",
            "Mean IOU: 0.01126615508267084\n",
            "Mean dist: 0.7987428326355115\n",
            "Mean mse: 0.41814962263317496\n",
            "Epoch 2\n",
            "1250/1250 - 7s - loss: 0.9446 - val_loss: 0.4278 - 7s/epoch - 6ms/step\n",
            "1250/1250 [==============================] - 8s 7ms/step\n",
            "Flipped 6.08 % of all elements\n",
            "Mean IOU: 0.014347690264117656\n",
            "Mean dist: 0.7398230211061122\n",
            "Mean mse: 0.3565922847082358\n",
            "Epoch 3\n",
            "1250/1250 - 8s - loss: 0.8574 - val_loss: 0.3808 - 8s/epoch - 6ms/step\n",
            "1250/1250 [==============================] - 5s 4ms/step\n",
            "Flipped 4.625 % of all elements\n",
            "Mean IOU: 0.017053951856157455\n",
            "Mean dist: 0.6936163739841937\n",
            "Mean mse: 0.3139086888926488\n",
            "Epoch 4\n",
            "1250/1250 - 9s - loss: 0.7972 - val_loss: 0.3453 - 9s/epoch - 7ms/step\n",
            "1250/1250 [==============================] - 2s 2ms/step\n",
            "Flipped 3.8975000000000004 % of all elements\n",
            "Mean IOU: 0.01958615239771235\n",
            "Mean dist: 0.655367594627621\n",
            "Mean mse: 0.28141002491405853\n"
          ]
        }
      ],
      "source": [
        "num_epochs_flipping = 5\n",
        "num_epochs_no_flipping = 0  # has no significant effect\n",
        "flipped_train_y = np.array(train_y)\n",
        "flipped = np.zeros((len(flipped_train_y), num_epochs_flipping + num_epochs_no_flipping))\n",
        "ious_epoch = np.zeros((len(flipped_train_y), num_epochs_flipping + num_epochs_no_flipping))\n",
        "dists_epoch = np.zeros((len(flipped_train_y), num_epochs_flipping + num_epochs_no_flipping))\n",
        "mses_epoch = np.zeros((len(flipped_train_y), num_epochs_flipping + num_epochs_no_flipping))\n",
        "\n",
        "# TODO: Calculate ious directly for all samples (using slices of the array pred_y for x, y, w, h).\n",
        "for epoch in range(num_epochs_flipping):\n",
        "    print ('Epoch', epoch)\n",
        "    model.fit(train_X, flipped_train_y, epochs=1, validation_data=(test_X, test_y), verbose=2)\n",
        "    pred_y = model.predict(train_X)\n",
        "\n",
        "    for sample, (pred, exp) in enumerate(zip(pred_y, flipped_train_y)):\n",
        "        \n",
        "        # TODO: Make this simpler.\n",
        "        pred = pred.reshape(num_objects, -1)\n",
        "        exp = exp.reshape(num_objects, -1)\n",
        "        \n",
        "        pred_bboxes = pred[:, :4]\n",
        "        exp_bboxes = exp[:, :4]\n",
        "        \n",
        "        # TODO: Try flipping array and see if results differ.\n",
        "        ious = np.zeros((num_objects, num_objects))\n",
        "        dists = np.zeros((num_objects, num_objects))\n",
        "        mses = np.zeros((num_objects, num_objects))\n",
        "        for i, exp_bbox in enumerate(exp_bboxes):\n",
        "            for j, pred_bbox in enumerate(pred_bboxes):\n",
        "                ious[i, j] = IOU(exp_bbox, pred_bbox)\n",
        "                dists[i, j] = dist(exp_bbox, pred_bbox)\n",
        "                mses[i, j] = np.mean(np.square(exp_bbox - pred_bbox))\n",
        "                \n",
        "        new_order = np.zeros(num_objects, dtype=int)\n",
        "        \n",
        "        for i in range(num_objects):\n",
        "            # Find pred and exp bbox with maximum iou and assign them to each other (i.e. switch the positions of the exp bboxes in y).\n",
        "            ind_exp_bbox, ind_pred_bbox = np.unravel_index(mses.argmin(), mses.shape)\n",
        "            ious_epoch[sample, epoch] += ious[ind_exp_bbox, ind_pred_bbox]\n",
        "            dists_epoch[sample, epoch] += dists[ind_exp_bbox, ind_pred_bbox]\n",
        "            mses_epoch[sample, epoch] += mses[ind_exp_bbox, ind_pred_bbox]\n",
        "            mses[ind_exp_bbox] = 1000000#-1  # set iou of assigned bboxes to -1, so they don't get assigned again\n",
        "            mses[:, ind_pred_bbox] = 10000000#-1\n",
        "            new_order[ind_pred_bbox] = ind_exp_bbox\n",
        "        \n",
        "        flipped_train_y[sample] = exp[new_order].flatten()\n",
        "        \n",
        "        flipped[sample, epoch] = 1. - np.mean(new_order == np.arange(num_objects, dtype=int))#np.array_equal(new_order, np.arange(num_objects, dtype=int))  # TODO: Change this to reflect the number of flips.\n",
        "        ious_epoch[sample, epoch] /= num_objects\n",
        "        dists_epoch[sample, epoch] /= num_objects\n",
        "        mses_epoch[sample, epoch] /= num_objects\n",
        "        \n",
        "            \n",
        "    print ('Flipped {} % of all elements'.format(np.mean(flipped[:, epoch]) * 100.))\n",
        "    print ('Mean IOU: {}'.format(np.mean(ious_epoch[:, epoch])))\n",
        "    print ('Mean dist: {}'.format(np.mean(dists_epoch[:, epoch])))\n",
        "    print ('Mean mse: {}'.format(np.mean(mses_epoch[:, epoch])))\n",
        "    \n",
        "# print '------------------------------------'\n",
        "# print 'Training now without flipping bboxes'\n",
        "# print '------------------------------------'\n",
        "    \n",
        "# for epoch in range(num_epochs_flipping, num_epochs_flipping + num_epochs_no_flipping):\n",
        "#     print 'Epoch', epoch\n",
        "#     model.fit(train_X, flipped_train_y, nb_epoch=1, validation_data=(test_X, test_y), verbose=2)\n",
        "#     pred_y = model.predict(train_X)\n",
        "\n",
        "#     # Calculate iou/dist, but don't flip.\n",
        "#     for sample, (pred_bboxes, exp_bboxes) in enumerate(zip(pred_y, flipped_train_y)):\n",
        "        \n",
        "#         pred_bboxes = pred_bboxes.reshape(num_objects, -1)\n",
        "#         exp_bboxes = exp_bboxes.reshape(num_objects, -1)        \n",
        "        \n",
        "#         for exp_bbox, pred_bbox in zip(exp_bboxes, pred_bboxes):\n",
        "#             ious_epoch[sample, epoch] += IOU(exp_bbox, pred_bbox)\n",
        "#             dists_epoch[sample, epoch] += dist(exp_bbox, pred_bbox)\n",
        "#             mses_epoch[sample, epoch] += np.mean(np.square(exp_bbox - pred_bbox))\n",
        "            \n",
        "#         ious_epoch[sample, epoch] /= num_objects\n",
        "#         dists_epoch[sample, epoch] /= num_objects \n",
        "#         mses_epoch[sample, epoch] /= num_objects \n",
        "            \n",
        "# #     print 'Flipped {} % of all elements'.format(np.mean(flipped[:, epoch]) * 100.)\n",
        "#     print 'Mean IOU: {}'.format(np.mean(ious_epoch[:, epoch]))\n",
        "#     print 'Mean dist: {}'.format(np.mean(dists_epoch[:, epoch]))\n",
        "#     print 'Mean mse: {}'.format(np.mean(mses_epoch[:, epoch]))\n",
        "#     print\n",
        "    \n",
        "# TODO: Calculate IOU and dist for validation data during training."
      ]
    },
    {
      "cell_type": "code",
      "source": [
        "plt.pcolor(flipped[:1000], cmap='Greys', vmax=1.)\n",
        "# plt.axvline(num_epochs_flipping, c='r')\n",
        "plt.xlabel('Epoch')\n",
        "plt.ylabel('Training sample')"
      ],
      "metadata": {
        "colab": {
          "base_uri": "https://localhost:8080/",
          "height": 300
        },
        "id": "32Zh8QPnf_VN",
        "outputId": "76dde4df-b21b-4074-e402-2134f83c1300"
      },
      "execution_count": null,
      "outputs": [
        {
          "output_type": "execute_result",
          "data": {
            "text/plain": [
              "Text(0, 0.5, 'Training sample')"
            ]
          },
          "metadata": {},
          "execution_count": 25
        },
        {
          "output_type": "display_data",
          "data": {
            "text/plain": [
              "<Figure size 432x288 with 1 Axes>"
            ],
            "image/png": "[encoded data removed]"
          },
          "metadata": {
            "needs_background": "light"
          }
        }
      ]
    },
    {
      "cell_type": "code",
      "source": [
        "mean_ious_epoch = np.mean(ious_epoch, axis=0)\n",
        "mean_dists_epoch = np.mean(dists_epoch, axis=0)\n",
        "mean_mses_epoch = np.mean(mses_epoch, axis=0)\n",
        "plt.plot(mean_ious_epoch, label='Mean IOU')  # between predicted and assigned true bboxes\n",
        "plt.plot(mean_dists_epoch, label='Mean distance')  # relative to image size\n",
        "plt.plot(mean_mses_epoch, label='Mean mse')  # relative to image size\n",
        "plt.annotate(np.round(np.max(mean_ious_epoch), 3), (len(mean_ious_epoch)-1, mean_ious_epoch[-1]+0.03), horizontalalignment='right', color='b')\n",
        "plt.annotate(np.round(np.min(mean_dists_epoch), 3), (len(mean_dists_epoch)-1, mean_dists_epoch[-1]+0.03), horizontalalignment='right', color='g')\n",
        "plt.annotate(np.round(np.min(mean_mses_epoch), 3), (len(mean_mses_epoch)-1, mean_mses_epoch[-1]+0.03), horizontalalignment='right', color='r')\n",
        "# plt.axvline(num_epochs_flipping, c='r')\n",
        "plt.xlabel('Epoch')\n",
        "plt.legend()\n",
        "plt.ylim(0, 1)\n",
        "\n",
        "# plt.savefig('plots/bw-multiple-rectangles-mse.png', dpi=300)"
      ],
      "metadata": {
        "colab": {
          "base_uri": "https://localhost:8080/",
          "height": 300
        },
        "id": "U0sS_r-cwgTg",
        "outputId": "bb83acb9-acd5-4dab-e46f-4f160cd063ed"
      },
      "execution_count": null,
      "outputs": [
        {
          "output_type": "execute_result",
          "data": {
            "text/plain": [
              "(0.0, 1.0)"
            ]
          },
          "metadata": {},
          "execution_count": 26
        },
        {
          "output_type": "display_data",
          "data": {
            "text/plain": [
              "<Figure size 432x288 with 1 Axes>"
            ],
            "image/png": "[encoded data removed]"
          },
          "metadata": {
            "needs_background": "light"
          }
        }
      ]
    },
    {
      "cell_type": "code",
      "source": [
        "pred_y = model.predict(test_X)\n",
        "pred_y = pred_y.reshape(len(pred_y), num_objects, -1)\n",
        "pred_bboxes = pred_y[..., :4] * img_size\n",
        "pred_shapes = pred_y[..., 4:5]\n",
        "pred_bboxes.shape, pred_shapes.shape"
      ],
      "metadata": {
        "colab": {
          "base_uri": "https://localhost:8080/"
        },
        "id": "yAsgCI_vwhyR",
        "outputId": "25906db1-4657-4a33-f497-614af6f683a6"
      },
      "execution_count": null,
      "outputs": [
        {
          "output_type": "stream",
          "name": "stdout",
          "text": [
            "313/313 [==============================] - 1s 2ms/step\n"
          ]
        },
        {
          "output_type": "execute_result",
          "data": {
            "text/plain": [
              "((10000, 2, 4), (10000, 2, 1))"
            ]
          },
          "metadata": {},
          "execution_count": 27
        }
      ]
    },
    {
      "cell_type": "code",
      "source": [
        "plt.figure(figsize=(16, 8))\n",
        "for i_subplot in range(1, 9):\n",
        "    plt.subplot(2, 4, i_subplot)\n",
        "    i = np.random.randint(len(test_X))\n",
        "    plt.imshow(test_imgs[i].T, cmap='Greys', interpolation='none', origin='lower', extent=[0, img_size, 0, img_size])\n",
        "    for pred_bbox, exp_bbox, pred_shape in zip(pred_bboxes[i], test_bboxes[i], pred_shapes[i]):\n",
        "        plt.gca().add_patch(matplotlib.patches.Rectangle((pred_bbox[0], pred_bbox[1]), pred_bbox[2], pred_bbox[3], ec='r' if pred_shape[0] <= 0.5 else 'y', fc='none'))\n",
        "        # TODO: Calculate max IOU with all expected bounding boxes.\n",
        "        plt.annotate('IOU: {:.2f}'.format(IOU(pred_bbox, exp_bbox)), (pred_bbox[0], pred_bbox[1]+pred_bbox[3]+0.4), color='r')\n"
      ],
      "metadata": {
        "colab": {
          "base_uri": "https://localhost:8080/",
          "height": 483
        },
        "id": "1GUozAGfwi0p",
        "outputId": "960305d1-48c7-4824-f1c1-60e7aab5147f"
      },
      "execution_count": null,
      "outputs": [
        {
          "output_type": "display_data",
          "data": {
            "text/plain": [
              "<Figure size 1152x576 with 8 Axes>"
            ],
            "image/png": "[encoded data removed]"
          },
          "metadata": {
            "needs_background": "light"
          }
        }
      ]
    },
    {
      "cell_type": "code",
      "source": [],
      "metadata": {
        "id": "ITHqDE-61qOf"
      },
      "execution_count": null,
      "outputs": []
    }
  ]
}