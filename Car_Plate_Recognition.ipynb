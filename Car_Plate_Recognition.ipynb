{
  "nbformat": 4,
  "nbformat_minor": 0,
  "metadata": {
    "colab": {
      "provenance": [],
      "mount_file_id": "1fjUo9sB1Ryirj8NXd42FXqz_HJYyh2F6",
      "authorship_tag": "ABX9TyPnD5DmwFNH1G+xuvMChM0J",
      "include_colab_link": true
    },
    "kernelspec": {
      "name": "python3",
      "display_name": "Python 3"
    },
    "language_info": {
      "name": "python"
    }
  },
  "cells": [
    {
      "cell_type": "markdown",
      "metadata": {
        "id": "view-in-github",
        "colab_type": "text"
      },
      "source": [
        "<a href=\"https://colab.research.google.com/github/mralamdari/Computer-Vision-Projects/blob/main/Car_Plate_Recognition.ipynb\" target=\"_parent\"><img src=\"https://colab.research.google.com/assets/colab-badge.svg\" alt=\"Open In Colab\"/></a>"
      ]
    },
    {
      "cell_type": "code",
      "source": [
        "import os\n",
        "import numpy as np\n",
        "import pandas as pd\n",
        "import tensorflow as tf\n",
        "import matplotlib.pyplot as plt\n",
        "\n",
        "tf.__version__"
      ],
      "metadata": {
        "colab": {
          "base_uri": "https://localhost:8080/",
          "height": 36
        },
        "id": "wZ_-2cnjgFEL",
        "outputId": "5982c22f-242a-42b1-8ffe-a1e74f3e7178"
      },
      "execution_count": 1,
      "outputs": [
        {
          "output_type": "execute_result",
          "data": {
            "text/plain": [
              "'2.11.0'"
            ],
            "application/vnd.google.colaboratory.intrinsic+json": {
              "type": "string"
            }
          },
          "metadata": {},
          "execution_count": 1
        }
      ]
    },
    {
      "cell_type": "code",
      "source": [
        "os.environ['KAGGLE_CONFIG_DIR'] = '/content/drive/MyDrive'\n",
        "!kaggle datasets download -d andrewmvd/car-plate-detection\n",
        "!unzip \\*.zip && rm *.zip"
      ],
      "metadata": {
        "id": "kl93Gk7NgFBa"
      },
      "execution_count": 10,
      "outputs": []
    },
    {
      "cell_type": "code",
      "source": [
        "os.makedirs('/content/data/', exist_ok=True)\n",
        "os.replace('/content/images', '/content/data/images')\n",
        "os.replace('/content/annotations', '/content/data/annotations')"
      ],
      "metadata": {
        "id": "GK34bCgTVfso"
      },
      "execution_count": 7,
      "outputs": []
    },
    {
      "cell_type": "code",
      "source": [
        "train_ds = tf.keras.preprocessing.image_dataset_from_directory(\n",
        "    directory  = '/content/Plants_2/train/',\n",
        "    label_mode = 'categorical',\n",
        "    image_size = (224, 224),\n",
        "    color_mode = 'rgb',\n",
        "    batch_size = 32,\n",
        "    shuffle    = True\n",
        ")\n",
        "\n",
        "\n",
        "valid_ds = tf.keras.preprocessing.image_dataset_from_directory(\n",
        "    directory  = '/content/Plants_2/valid/',\n",
        "    label_mode = 'categorical',\n",
        "    image_size = (224, 224),\n",
        "    color_mode = 'rgb',\n",
        "    batch_size = 32,\n",
        "    shuffle    = True\n",
        ")\n",
        "\n",
        "\n",
        "test_ds = tf.keras.preprocessing.image_dataset_from_directory(\n",
        "    directory  = '/content/Plants_2/test/',\n",
        "    label_mode = 'categorical',\n",
        "    image_size = (224, 224),\n",
        "    color_mode = 'rgb',\n",
        "    batch_size = 32,\n",
        "    shuffle    = True\n",
        ")"
      ],
      "metadata": {
        "id": "LSQJOklogE-s"
      },
      "execution_count": null,
      "outputs": []
    },
    {
      "cell_type": "code",
      "execution_count": null,
      "metadata": {
        "id": "NCBkMsWdek5J"
      },
      "outputs": [],
      "source": [
        "input_x = tf.keras.Input(shape=(224, 224, 3))\n",
        "\n",
        "x_1  = vgg16.get_layer('input_1')(input_x)\n",
        "\n",
        "x_2  = vgg16.get_layer('block1_conv1')(x_1)\n",
        "x_3  = vgg16.get_layer('block1_conv2')(x_2)\n",
        "x_4  = vgg16.get_layer('block1_pool')(x_3)\n",
        "\n",
        "\n",
        "x_5  = vgg16.get_layer('block2_conv1')(x_4)\n",
        "x_6  = vgg16.get_layer('block2_conv2')(x_5)\n",
        "x_7  = vgg16.get_layer('block2_pool')(x_6)\n",
        "\n",
        "\n",
        "x_8  = vgg16.get_layer('block3_conv1')(x_7)\n",
        "x_9  = vgg16.get_layer('block3_conv2')(x_8)\n",
        "x_10 = vgg16.get_layer('block3_conv3')(x_9)\n",
        "x_11 = vgg16.get_layer('block3_pool')(x_10)\n",
        "\n",
        "\n",
        "x_12 = vgg16.get_layer('block4_conv1')(x_11)\n",
        "x_13 = vgg16.get_layer('block4_conv2')(x_12)\n",
        "x_14 = vgg16.get_layer('block4_conv3')(x_13)\n",
        "x_15 = vgg16.get_layer('block4_pool')(x_14)\n",
        "\n",
        "X1   = vgg16.get_layer('block4_conv3')(rfem(x_13))\n",
        "\n",
        "x_16 = vgg16.get_layer('block5_conv1')(x_15)\n",
        "x_17 = vgg16.get_layer('block5_conv2')(x_16)\n",
        "x_18 = vgg16.get_layer('block5_conv3')(x_17)\n",
        "x_19 = vgg16.get_layer('block5_pool')(x_18)\n",
        "\n",
        "X2   = vgg16.get_layer('block5_conv3')(rfem(X1))\n",
        "\n",
        "x_20 = tf.keras.layers.Conv2D(filters=1024, kernel_size=3, padding='same', activation='relu', name='block6_conv1')(x_19)\n",
        "x_21 = tf.keras.layers.MaxPool2D(pool_size=2, name='block6_pool')(x_20)\n",
        "\n",
        "X3   = tf.keras.layers.Conv2D(filters=1024, kernel_size=3, padding='same', activation='relu', name='block6_conv1')(rfem(X2))\n",
        "\n",
        "\n",
        "x_22 = tf.keras.layers.Conv2D(filters=512, kernel_size=3, strides=2, padding='same', activation='relu', name='block7_conv1')(x_21)\n",
        "x_23 = tf.keras.layers.MaxPool2D(pool_size=2, name='block7_pool')(x_22)\n",
        "\n",
        "X4   = tf.keras.layers.Conv2D(filters=512, kernel_size=3, strides=2, padding='same', activation='relu', name='block7_conv1')(rfem(X3))\n",
        "\n",
        "x_24 = tf.keras.layers.Flatten()(x_23)\n",
        "x_25 = tf.keras.layers.Dense(units=4096, activation='relu', name='dense_layer')(x_24)\n",
        "x_26 = tf.keras.layers.Dense(units=7, activation='softmax', name='final_layer')(x_25)\n",
        "\n",
        "\n",
        "X41  = ftb(X4)\n",
        "X42  = rfem(X41)\n",
        "\n",
        "X31  = ftb(X3, X41)\n",
        "X32  = rfem(X31)\n",
        "\n",
        "X21  = ftb(X2, X31)\n",
        "X22  = rfem(X21)\n",
        "\n",
        "X11  = ftb(X1, X21)\n",
        "X12  = rfem(X11)\n",
        "\n",
        "\n",
        "# PDM\n",
        "X4 + X42\n",
        "X3 + X32\n",
        "X2 + X22\n",
        "X1 + X12"
      ]
    },
    {
      "cell_type": "code",
      "source": [
        "model.compile(optimizer=tf.keras.optimizers.Adam(),\n",
        "              loss=tf.keras.losses.CategoricalCrossentropy(),\n",
        "              metrics=['accuracy'])\n",
        "model.fit(train_ds, batch_size=32, epochs=2, steps_per_epoch=len(train_ds), validation_data=valid_ds, validation_steps=len(valid_ds))"
      ],
      "metadata": {
        "id": "32Zh8QPnf_VN"
      },
      "execution_count": null,
      "outputs": []
    }
  ]
}