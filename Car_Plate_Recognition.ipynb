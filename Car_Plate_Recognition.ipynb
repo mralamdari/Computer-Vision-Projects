{
  "nbformat": 4,
  "nbformat_minor": 0,
  "metadata": {
    "colab": {
      "provenance": [],
      "collapsed_sections": [
        "QlYN-oUj9aZV"
      ],
      "mount_file_id": "1fjUo9sB1Ryirj8NXd42FXqz_HJYyh2F6",
      "authorship_tag": "ABX9TyPw1s+UanLU+zp1S6jwFM5b",
      "include_colab_link": true
    },
    "kernelspec": {
      "name": "python3",
      "display_name": "Python 3"
    },
    "language_info": {
      "name": "python"
    }
  },
  "cells": [
    {
      "cell_type": "markdown",
      "metadata": {
        "id": "view-in-github",
        "colab_type": "text"
      },
      "source": [
        "<a href=\"https://colab.research.google.com/github/mralamdari/Computer-Vision-Projects/blob/main/Car_Plate_Recognition.ipynb\" target=\"_parent\"><img src=\"https://colab.research.google.com/assets/colab-badge.svg\" alt=\"Open In Colab\"/></a>"
      ]
    },
    {
      "cell_type": "code",
      "source": [
        "import os\n",
        "import glob\n",
        "import matplotlib\n",
        "import numpy as np\n",
        "import pandas as pd\n",
        "import tensorflow as tf\n",
        "import matplotlib.pyplot as plt\n",
        "import xml.etree.ElementTree as ET\n",
        "from sklearn import model_selection\n",
        "\n",
        "tf.__version__"
      ],
      "metadata": {
        "colab": {
          "base_uri": "https://localhost:8080/",
          "height": 36
        },
        "id": "wZ_-2cnjgFEL",
        "outputId": "2008504d-9963-4fa7-e62d-c908473c7e2b"
      },
      "execution_count": 1,
      "outputs": [
        {
          "output_type": "execute_result",
          "data": {
            "text/plain": [
              "'2.11.0'"
            ],
            "application/vnd.google.colaboratory.intrinsic+json": {
              "type": "string"
            }
          },
          "metadata": {},
          "execution_count": 1
        }
      ]
    },
    {
      "cell_type": "code",
      "source": [
        "os.environ['KAGGLE_CONFIG_DIR'] = '/content/drive/MyDrive'\n",
        "!kaggle datasets download -d andrewmvd/car-plate-detection\n",
        "!unzip \\*.zip && rm *.zip"
      ],
      "metadata": {
        "id": "kl93Gk7NgFBa",
        "colab": {
          "base_uri": "https://localhost:8080/"
        },
        "outputId": "71079661-3f17-4734-dd2c-d17f86a08755"
      },
      "execution_count": 2,
      "outputs": [
        {
          "output_type": "stream",
          "name": "stdout",
          "text": [
            "Downloading car-plate-detection.zip to /content\n",
            " 98% 200M/203M [00:07<00:00, 32.3MB/s]\n",
            "100% 203M/203M [00:07<00:00, 28.8MB/s]\n",
            "Archive:  car-plate-detection.zip\n",
            "  inflating: annotations/Cars0.xml   \n",
            "  inflating: annotations/Cars1.xml   \n",
            "  inflating: annotations/Cars10.xml  \n",
            "  inflating: annotations/Cars100.xml  \n",
            "  inflating: annotations/Cars101.xml  \n",
            "  inflating: annotations/Cars102.xml  \n",
            "  inflating: annotations/Cars103.xml  \n",
            "  inflating: annotations/Cars104.xml  \n",
            "  inflating: annotations/Cars105.xml  \n",
            "  inflating: annotations/Cars106.xml  \n",
            "  inflating: annotations/Cars107.xml  \n",
            "  inflating: annotations/Cars108.xml  \n",
            "  inflating: annotations/Cars109.xml  \n",
            "  inflating: annotations/Cars11.xml  \n",
            "  inflating: annotations/Cars110.xml  \n",
            "  inflating: annotations/Cars111.xml  \n",
            "  inflating: annotations/Cars112.xml  \n",
            "  inflating: annotations/Cars113.xml  \n",
            "  inflating: annotations/Cars114.xml  \n",
            "  inflating: annotations/Cars115.xml  \n",
            "  inflating: annotations/Cars116.xml  \n",
            "  inflating: annotations/Cars117.xml  \n",
            "  inflating: annotations/Cars118.xml  \n",
            "  inflating: annotations/Cars119.xml  \n",
            "  inflating: annotations/Cars12.xml  \n",
            "  inflating: annotations/Cars120.xml  \n",
            "  inflating: annotations/Cars121.xml  \n",
            "  inflating: annotations/Cars122.xml  \n",
            "  inflating: annotations/Cars123.xml  \n",
            "  inflating: annotations/Cars124.xml  \n",
            "  inflating: annotations/Cars125.xml  \n",
            "  inflating: annotations/Cars126.xml  \n",
            "  inflating: annotations/Cars127.xml  \n",
            "  inflating: annotations/Cars128.xml  \n",
            "  inflating: annotations/Cars129.xml  \n",
            "  inflating: annotations/Cars13.xml  \n",
            "  inflating: annotations/Cars130.xml  \n",
            "  inflating: annotations/Cars131.xml  \n",
            "  inflating: annotations/Cars132.xml  \n",
            "  inflating: annotations/Cars133.xml  \n",
            "  inflating: annotations/Cars134.xml  \n",
            "  inflating: annotations/Cars135.xml  \n",
            "  inflating: annotations/Cars136.xml  \n",
            "  inflating: annotations/Cars137.xml  \n",
            "  inflating: annotations/Cars138.xml  \n",
            "  inflating: annotations/Cars139.xml  \n",
            "  inflating: annotations/Cars14.xml  \n",
            "  inflating: annotations/Cars140.xml  \n",
            "  inflating: annotations/Cars141.xml  \n",
            "  inflating: annotations/Cars142.xml  \n",
            "  inflating: annotations/Cars143.xml  \n",
            "  inflating: annotations/Cars144.xml  \n",
            "  inflating: annotations/Cars145.xml  \n",
            "  inflating: annotations/Cars146.xml  \n",
            "  inflating: annotations/Cars147.xml  \n",
            "  inflating: annotations/Cars148.xml  \n",
            "  inflating: annotations/Cars149.xml  \n",
            "  inflating: annotations/Cars15.xml  \n",
            "  inflating: annotations/Cars150.xml  \n",
            "  inflating: annotations/Cars151.xml  \n",
            "  inflating: annotations/Cars152.xml  \n",
            "  inflating: annotations/Cars153.xml  \n",
            "  inflating: annotations/Cars154.xml  \n",
            "  inflating: annotations/Cars155.xml  \n",
            "  inflating: annotations/Cars156.xml  \n",
            "  inflating: annotations/Cars157.xml  \n",
            "  inflating: annotations/Cars158.xml  \n",
            "  inflating: annotations/Cars159.xml  \n",
            "  inflating: annotations/Cars16.xml  \n",
            "  inflating: annotations/Cars160.xml  \n",
            "  inflating: annotations/Cars161.xml  \n",
            "  inflating: annotations/Cars162.xml  \n",
            "  inflating: annotations/Cars163.xml  \n",
            "  inflating: annotations/Cars164.xml  \n",
            "  inflating: annotations/Cars165.xml  \n",
            "  inflating: annotations/Cars166.xml  \n",
            "  inflating: annotations/Cars167.xml  \n",
            "  inflating: annotations/Cars168.xml  \n",
            "  inflating: annotations/Cars169.xml  \n",
            "  inflating: annotations/Cars17.xml  \n",
            "  inflating: annotations/Cars170.xml  \n",
            "  inflating: annotations/Cars171.xml  \n",
            "  inflating: annotations/Cars172.xml  \n",
            "  inflating: annotations/Cars173.xml  \n",
            "  inflating: annotations/Cars174.xml  \n",
            "  inflating: annotations/Cars175.xml  \n",
            "  inflating: annotations/Cars176.xml  \n",
            "  inflating: annotations/Cars177.xml  \n",
            "  inflating: annotations/Cars178.xml  \n",
            "  inflating: annotations/Cars179.xml  \n",
            "  inflating: annotations/Cars18.xml  \n",
            "  inflating: annotations/Cars180.xml  \n",
            "  inflating: annotations/Cars181.xml  \n",
            "  inflating: annotations/Cars182.xml  \n",
            "  inflating: annotations/Cars183.xml  \n",
            "  inflating: annotations/Cars184.xml  \n",
            "  inflating: annotations/Cars185.xml  \n",
            "  inflating: annotations/Cars186.xml  \n",
            "  inflating: annotations/Cars187.xml  \n",
            "  inflating: annotations/Cars188.xml  \n",
            "  inflating: annotations/Cars189.xml  \n",
            "  inflating: annotations/Cars19.xml  \n",
            "  inflating: annotations/Cars190.xml  \n",
            "  inflating: annotations/Cars191.xml  \n",
            "  inflating: annotations/Cars192.xml  \n",
            "  inflating: annotations/Cars193.xml  \n",
            "  inflating: annotations/Cars194.xml  \n",
            "  inflating: annotations/Cars195.xml  \n",
            "  inflating: annotations/Cars196.xml  \n",
            "  inflating: annotations/Cars197.xml  \n",
            "  inflating: annotations/Cars198.xml  \n",
            "  inflating: annotations/Cars199.xml  \n",
            "  inflating: annotations/Cars2.xml   \n",
            "  inflating: annotations/Cars20.xml  \n",
            "  inflating: annotations/Cars200.xml  \n",
            "  inflating: annotations/Cars201.xml  \n",
            "  inflating: annotations/Cars202.xml  \n",
            "  inflating: annotations/Cars203.xml  \n",
            "  inflating: annotations/Cars204.xml  \n",
            "  inflating: annotations/Cars205.xml  \n",
            "  inflating: annotations/Cars206.xml  \n",
            "  inflating: annotations/Cars207.xml  \n",
            "  inflating: annotations/Cars208.xml  \n",
            "  inflating: annotations/Cars209.xml  \n",
            "  inflating: annotations/Cars21.xml  \n",
            "  inflating: annotations/Cars210.xml  \n",
            "  inflating: annotations/Cars211.xml  \n",
            "  inflating: annotations/Cars212.xml  \n",
            "  inflating: annotations/Cars213.xml  \n",
            "  inflating: annotations/Cars214.xml  \n",
            "  inflating: annotations/Cars215.xml  \n",
            "  inflating: annotations/Cars216.xml  \n",
            "  inflating: annotations/Cars217.xml  \n",
            "  inflating: annotations/Cars218.xml  \n",
            "  inflating: annotations/Cars219.xml  \n",
            "  inflating: annotations/Cars22.xml  \n",
            "  inflating: annotations/Cars220.xml  \n",
            "  inflating: annotations/Cars221.xml  \n",
            "  inflating: annotations/Cars222.xml  \n",
            "  inflating: annotations/Cars223.xml  \n",
            "  inflating: annotations/Cars224.xml  \n",
            "  inflating: annotations/Cars225.xml  \n",
            "  inflating: annotations/Cars226.xml  \n",
            "  inflating: annotations/Cars227.xml  \n",
            "  inflating: annotations/Cars228.xml  \n",
            "  inflating: annotations/Cars229.xml  \n",
            "  inflating: annotations/Cars23.xml  \n",
            "  inflating: annotations/Cars230.xml  \n",
            "  inflating: annotations/Cars231.xml  \n",
            "  inflating: annotations/Cars232.xml  \n",
            "  inflating: annotations/Cars233.xml  \n",
            "  inflating: annotations/Cars234.xml  \n",
            "  inflating: annotations/Cars235.xml  \n",
            "  inflating: annotations/Cars236.xml  \n",
            "  inflating: annotations/Cars237.xml  \n",
            "  inflating: annotations/Cars238.xml  \n",
            "  inflating: annotations/Cars239.xml  \n",
            "  inflating: annotations/Cars24.xml  \n",
            "  inflating: annotations/Cars240.xml  \n",
            "  inflating: annotations/Cars241.xml  \n",
            "  inflating: annotations/Cars242.xml  \n",
            "  inflating: annotations/Cars243.xml  \n",
            "  inflating: annotations/Cars244.xml  \n",
            "  inflating: annotations/Cars245.xml  \n",
            "  inflating: annotations/Cars246.xml  \n",
            "  inflating: annotations/Cars247.xml  \n",
            "  inflating: annotations/Cars248.xml  \n",
            "  inflating: annotations/Cars249.xml  \n",
            "  inflating: annotations/Cars25.xml  \n",
            "  inflating: annotations/Cars250.xml  \n",
            "  inflating: annotations/Cars251.xml  \n",
            "  inflating: annotations/Cars252.xml  \n",
            "  inflating: annotations/Cars253.xml  \n",
            "  inflating: annotations/Cars254.xml  \n",
            "  inflating: annotations/Cars255.xml  \n",
            "  inflating: annotations/Cars256.xml  \n",
            "  inflating: annotations/Cars257.xml  \n",
            "  inflating: annotations/Cars258.xml  \n",
            "  inflating: annotations/Cars259.xml  \n",
            "  inflating: annotations/Cars26.xml  \n",
            "  inflating: annotations/Cars260.xml  \n",
            "  inflating: annotations/Cars261.xml  \n",
            "  inflating: annotations/Cars262.xml  \n",
            "  inflating: annotations/Cars263.xml  \n",
            "  inflating: annotations/Cars264.xml  \n",
            "  inflating: annotations/Cars265.xml  \n",
            "  inflating: annotations/Cars266.xml  \n",
            "  inflating: annotations/Cars267.xml  \n",
            "  inflating: annotations/Cars268.xml  \n",
            "  inflating: annotations/Cars269.xml  \n",
            "  inflating: annotations/Cars27.xml  \n",
            "  inflating: annotations/Cars270.xml  \n",
            "  inflating: annotations/Cars271.xml  \n",
            "  inflating: annotations/Cars272.xml  \n",
            "  inflating: annotations/Cars273.xml  \n",
            "  inflating: annotations/Cars274.xml  \n",
            "  inflating: annotations/Cars275.xml  \n",
            "  inflating: annotations/Cars276.xml  \n",
            "  inflating: annotations/Cars277.xml  \n",
            "  inflating: annotations/Cars278.xml  \n",
            "  inflating: annotations/Cars279.xml  \n",
            "  inflating: annotations/Cars28.xml  \n",
            "  inflating: annotations/Cars280.xml  \n",
            "  inflating: annotations/Cars281.xml  \n",
            "  inflating: annotations/Cars282.xml  \n",
            "  inflating: annotations/Cars283.xml  \n",
            "  inflating: annotations/Cars284.xml  \n",
            "  inflating: annotations/Cars285.xml  \n",
            "  inflating: annotations/Cars286.xml  \n",
            "  inflating: annotations/Cars287.xml  \n",
            "  inflating: annotations/Cars288.xml  \n",
            "  inflating: annotations/Cars289.xml  \n",
            "  inflating: annotations/Cars29.xml  \n",
            "  inflating: annotations/Cars290.xml  \n",
            "  inflating: annotations/Cars291.xml  \n",
            "  inflating: annotations/Cars292.xml  \n",
            "  inflating: annotations/Cars293.xml  \n",
            "  inflating: annotations/Cars294.xml  \n",
            "  inflating: annotations/Cars295.xml  \n",
            "  inflating: annotations/Cars296.xml  \n",
            "  inflating: annotations/Cars297.xml  \n",
            "  inflating: annotations/Cars298.xml  \n",
            "  inflating: annotations/Cars299.xml  \n",
            "  inflating: annotations/Cars3.xml   \n",
            "  inflating: annotations/Cars30.xml  \n",
            "  inflating: annotations/Cars300.xml  \n",
            "  inflating: annotations/Cars301.xml  \n",
            "  inflating: annotations/Cars302.xml  \n",
            "  inflating: annotations/Cars303.xml  \n",
            "  inflating: annotations/Cars304.xml  \n",
            "  inflating: annotations/Cars305.xml  \n",
            "  inflating: annotations/Cars306.xml  \n",
            "  inflating: annotations/Cars307.xml  \n",
            "  inflating: annotations/Cars308.xml  \n",
            "  inflating: annotations/Cars309.xml  \n",
            "  inflating: annotations/Cars31.xml  \n",
            "  inflating: annotations/Cars310.xml  \n",
            "  inflating: annotations/Cars311.xml  \n",
            "  inflating: annotations/Cars312.xml  \n",
            "  inflating: annotations/Cars313.xml  \n",
            "  inflating: annotations/Cars314.xml  \n",
            "  inflating: annotations/Cars315.xml  \n",
            "  inflating: annotations/Cars316.xml  \n",
            "  inflating: annotations/Cars317.xml  \n",
            "  inflating: annotations/Cars318.xml  \n",
            "  inflating: annotations/Cars319.xml  \n",
            "  inflating: annotations/Cars32.xml  \n",
            "  inflating: annotations/Cars320.xml  \n",
            "  inflating: annotations/Cars321.xml  \n",
            "  inflating: annotations/Cars322.xml  \n",
            "  inflating: annotations/Cars323.xml  \n",
            "  inflating: annotations/Cars324.xml  \n",
            "  inflating: annotations/Cars325.xml  \n",
            "  inflating: annotations/Cars326.xml  \n",
            "  inflating: annotations/Cars327.xml  \n",
            "  inflating: annotations/Cars328.xml  \n",
            "  inflating: annotations/Cars329.xml  \n",
            "  inflating: annotations/Cars33.xml  \n",
            "  inflating: annotations/Cars330.xml  \n",
            "  inflating: annotations/Cars331.xml  \n",
            "  inflating: annotations/Cars332.xml  \n",
            "  inflating: annotations/Cars333.xml  \n",
            "  inflating: annotations/Cars334.xml  \n",
            "  inflating: annotations/Cars335.xml  \n",
            "  inflating: annotations/Cars336.xml  \n",
            "  inflating: annotations/Cars337.xml  \n",
            "  inflating: annotations/Cars338.xml  \n",
            "  inflating: annotations/Cars339.xml  \n",
            "  inflating: annotations/Cars34.xml  \n",
            "  inflating: annotations/Cars340.xml  \n",
            "  inflating: annotations/Cars341.xml  \n",
            "  inflating: annotations/Cars342.xml  \n",
            "  inflating: annotations/Cars343.xml  \n",
            "  inflating: annotations/Cars344.xml  \n",
            "  inflating: annotations/Cars345.xml  \n",
            "  inflating: annotations/Cars346.xml  \n",
            "  inflating: annotations/Cars347.xml  \n",
            "  inflating: annotations/Cars348.xml  \n",
            "  inflating: annotations/Cars349.xml  \n",
            "  inflating: annotations/Cars35.xml  \n",
            "  inflating: annotations/Cars350.xml  \n",
            "  inflating: annotations/Cars351.xml  \n",
            "  inflating: annotations/Cars352.xml  \n",
            "  inflating: annotations/Cars353.xml  \n",
            "  inflating: annotations/Cars354.xml  \n",
            "  inflating: annotations/Cars355.xml  \n",
            "  inflating: annotations/Cars356.xml  \n",
            "  inflating: annotations/Cars357.xml  \n",
            "  inflating: annotations/Cars358.xml  \n",
            "  inflating: annotations/Cars359.xml  \n",
            "  inflating: annotations/Cars36.xml  \n",
            "  inflating: annotations/Cars360.xml  \n",
            "  inflating: annotations/Cars361.xml  \n",
            "  inflating: annotations/Cars362.xml  \n",
            "  inflating: annotations/Cars363.xml  \n",
            "  inflating: annotations/Cars364.xml  \n",
            "  inflating: annotations/Cars365.xml  \n",
            "  inflating: annotations/Cars366.xml  \n",
            "  inflating: annotations/Cars367.xml  \n",
            "  inflating: annotations/Cars368.xml  \n",
            "  inflating: annotations/Cars369.xml  \n",
            "  inflating: annotations/Cars37.xml  \n",
            "  inflating: annotations/Cars370.xml  \n",
            "  inflating: annotations/Cars371.xml  \n",
            "  inflating: annotations/Cars372.xml  \n",
            "  inflating: annotations/Cars373.xml  \n",
            "  inflating: annotations/Cars374.xml  \n",
            "  inflating: annotations/Cars375.xml  \n",
            "  inflating: annotations/Cars376.xml  \n",
            "  inflating: annotations/Cars377.xml  \n",
            "  inflating: annotations/Cars378.xml  \n",
            "  inflating: annotations/Cars379.xml  \n",
            "  inflating: annotations/Cars38.xml  \n",
            "  inflating: annotations/Cars380.xml  \n",
            "  inflating: annotations/Cars381.xml  \n",
            "  inflating: annotations/Cars382.xml  \n",
            "  inflating: annotations/Cars383.xml  \n",
            "  inflating: annotations/Cars384.xml  \n",
            "  inflating: annotations/Cars385.xml  \n",
            "  inflating: annotations/Cars386.xml  \n",
            "  inflating: annotations/Cars387.xml  \n",
            "  inflating: annotations/Cars388.xml  \n",
            "  inflating: annotations/Cars389.xml  \n",
            "  inflating: annotations/Cars39.xml  \n",
            "  inflating: annotations/Cars390.xml  \n",
            "  inflating: annotations/Cars391.xml  \n",
            "  inflating: annotations/Cars392.xml  \n",
            "  inflating: annotations/Cars393.xml  \n",
            "  inflating: annotations/Cars394.xml  \n",
            "  inflating: annotations/Cars395.xml  \n",
            "  inflating: annotations/Cars396.xml  \n",
            "  inflating: annotations/Cars397.xml  \n",
            "  inflating: annotations/Cars398.xml  \n",
            "  inflating: annotations/Cars399.xml  \n",
            "  inflating: annotations/Cars4.xml   \n",
            "  inflating: annotations/Cars40.xml  \n",
            "  inflating: annotations/Cars400.xml  \n",
            "  inflating: annotations/Cars401.xml  \n",
            "  inflating: annotations/Cars402.xml  \n",
            "  inflating: annotations/Cars403.xml  \n",
            "  inflating: annotations/Cars404.xml  \n",
            "  inflating: annotations/Cars405.xml  \n",
            "  inflating: annotations/Cars406.xml  \n",
            "  inflating: annotations/Cars407.xml  \n",
            "  inflating: annotations/Cars408.xml  \n",
            "  inflating: annotations/Cars409.xml  \n",
            "  inflating: annotations/Cars41.xml  \n",
            "  inflating: annotations/Cars410.xml  \n",
            "  inflating: annotations/Cars411.xml  \n",
            "  inflating: annotations/Cars412.xml  \n",
            "  inflating: annotations/Cars413.xml  \n",
            "  inflating: annotations/Cars414.xml  \n",
            "  inflating: annotations/Cars415.xml  \n",
            "  inflating: annotations/Cars416.xml  \n",
            "  inflating: annotations/Cars417.xml  \n",
            "  inflating: annotations/Cars418.xml  \n",
            "  inflating: annotations/Cars419.xml  \n",
            "  inflating: annotations/Cars42.xml  \n",
            "  inflating: annotations/Cars420.xml  \n",
            "  inflating: annotations/Cars421.xml  \n",
            "  inflating: annotations/Cars422.xml  \n",
            "  inflating: annotations/Cars423.xml  \n",
            "  inflating: annotations/Cars424.xml  \n",
            "  inflating: annotations/Cars425.xml  \n",
            "  inflating: annotations/Cars426.xml  \n",
            "  inflating: annotations/Cars427.xml  \n",
            "  inflating: annotations/Cars428.xml  \n",
            "  inflating: annotations/Cars429.xml  \n",
            "  inflating: annotations/Cars43.xml  \n",
            "  inflating: annotations/Cars430.xml  \n",
            "  inflating: annotations/Cars431.xml  \n",
            "  inflating: annotations/Cars432.xml  \n",
            "  inflating: annotations/Cars44.xml  \n",
            "  inflating: annotations/Cars45.xml  \n",
            "  inflating: annotations/Cars46.xml  \n",
            "  inflating: annotations/Cars47.xml  \n",
            "  inflating: annotations/Cars48.xml  \n",
            "  inflating: annotations/Cars49.xml  \n",
            "  inflating: annotations/Cars5.xml   \n",
            "  inflating: annotations/Cars50.xml  \n",
            "  inflating: annotations/Cars51.xml  \n",
            "  inflating: annotations/Cars52.xml  \n",
            "  inflating: annotations/Cars53.xml  \n",
            "  inflating: annotations/Cars54.xml  \n",
            "  inflating: annotations/Cars55.xml  \n",
            "  inflating: annotations/Cars56.xml  \n",
            "  inflating: annotations/Cars57.xml  \n",
            "  inflating: annotations/Cars58.xml  \n",
            "  inflating: annotations/Cars59.xml  \n",
            "  inflating: annotations/Cars6.xml   \n",
            "  inflating: annotations/Cars60.xml  \n",
            "  inflating: annotations/Cars61.xml  \n",
            "  inflating: annotations/Cars62.xml  \n",
            "  inflating: annotations/Cars63.xml  \n",
            "  inflating: annotations/Cars64.xml  \n",
            "  inflating: annotations/Cars65.xml  \n",
            "  inflating: annotations/Cars66.xml  \n",
            "  inflating: annotations/Cars67.xml  \n",
            "  inflating: annotations/Cars68.xml  \n",
            "  inflating: annotations/Cars69.xml  \n",
            "  inflating: annotations/Cars7.xml   \n",
            "  inflating: annotations/Cars70.xml  \n",
            "  inflating: annotations/Cars71.xml  \n",
            "  inflating: annotations/Cars72.xml  \n",
            "  inflating: annotations/Cars73.xml  \n",
            "  inflating: annotations/Cars74.xml  \n",
            "  inflating: annotations/Cars75.xml  \n",
            "  inflating: annotations/Cars76.xml  \n",
            "  inflating: annotations/Cars77.xml  \n",
            "  inflating: annotations/Cars78.xml  \n",
            "  inflating: annotations/Cars79.xml  \n",
            "  inflating: annotations/Cars8.xml   \n",
            "  inflating: annotations/Cars80.xml  \n",
            "  inflating: annotations/Cars81.xml  \n",
            "  inflating: annotations/Cars82.xml  \n",
            "  inflating: annotations/Cars83.xml  \n",
            "  inflating: annotations/Cars84.xml  \n",
            "  inflating: annotations/Cars85.xml  \n",
            "  inflating: annotations/Cars86.xml  \n",
            "  inflating: annotations/Cars87.xml  \n",
            "  inflating: annotations/Cars88.xml  \n",
            "  inflating: annotations/Cars89.xml  \n",
            "  inflating: annotations/Cars9.xml   \n",
            "  inflating: annotations/Cars90.xml  \n",
            "  inflating: annotations/Cars91.xml  \n",
            "  inflating: annotations/Cars92.xml  \n",
            "  inflating: annotations/Cars93.xml  \n",
            "  inflating: annotations/Cars94.xml  \n",
            "  inflating: annotations/Cars95.xml  \n",
            "  inflating: annotations/Cars96.xml  \n",
            "  inflating: annotations/Cars97.xml  \n",
            "  inflating: annotations/Cars98.xml  \n",
            "  inflating: annotations/Cars99.xml  \n",
            "  inflating: images/Cars0.png        \n",
            "  inflating: images/Cars1.png        \n",
            "  inflating: images/Cars10.png       \n",
            "  inflating: images/Cars100.png      \n",
            "  inflating: images/Cars101.png      \n",
            "  inflating: images/Cars102.png      \n",
            "  inflating: images/Cars103.png      \n",
            "  inflating: images/Cars104.png      \n",
            "  inflating: images/Cars105.png      \n",
            "  inflating: images/Cars106.png      \n",
            "  inflating: images/Cars107.png      \n",
            "  inflating: images/Cars108.png      \n",
            "  inflating: images/Cars109.png      \n",
            "  inflating: images/Cars11.png       \n",
            "  inflating: images/Cars110.png      \n",
            "  inflating: images/Cars111.png      \n",
            "  inflating: images/Cars112.png      \n",
            "  inflating: images/Cars113.png      \n",
            "  inflating: images/Cars114.png      \n",
            "  inflating: images/Cars115.png      \n",
            "  inflating: images/Cars116.png      \n",
            "  inflating: images/Cars117.png      \n",
            "  inflating: images/Cars118.png      \n",
            "  inflating: images/Cars119.png      \n",
            "  inflating: images/Cars12.png       \n",
            "  inflating: images/Cars120.png      \n",
            "  inflating: images/Cars121.png      \n",
            "  inflating: images/Cars122.png      \n",
            "  inflating: images/Cars123.png      \n",
            "  inflating: images/Cars124.png      \n",
            "  inflating: images/Cars125.png      \n",
            "  inflating: images/Cars126.png      \n",
            "  inflating: images/Cars127.png      \n",
            "  inflating: images/Cars128.png      \n",
            "  inflating: images/Cars129.png      \n",
            "  inflating: images/Cars13.png       \n",
            "  inflating: images/Cars130.png      \n",
            "  inflating: images/Cars131.png      \n",
            "  inflating: images/Cars132.png      \n",
            "  inflating: images/Cars133.png      \n",
            "  inflating: images/Cars134.png      \n",
            "  inflating: images/Cars135.png      \n",
            "  inflating: images/Cars136.png      \n",
            "  inflating: images/Cars137.png      \n",
            "  inflating: images/Cars138.png      \n",
            "  inflating: images/Cars139.png      \n",
            "  inflating: images/Cars14.png       \n",
            "  inflating: images/Cars140.png      \n",
            "  inflating: images/Cars141.png      \n",
            "  inflating: images/Cars142.png      \n",
            "  inflating: images/Cars143.png      \n",
            "  inflating: images/Cars144.png      \n",
            "  inflating: images/Cars145.png      \n",
            "  inflating: images/Cars146.png      \n",
            "  inflating: images/Cars147.png      \n",
            "  inflating: images/Cars148.png      \n",
            "  inflating: images/Cars149.png      \n",
            "  inflating: images/Cars15.png       \n",
            "  inflating: images/Cars150.png      \n",
            "  inflating: images/Cars151.png      \n",
            "  inflating: images/Cars152.png      \n",
            "  inflating: images/Cars153.png      \n",
            "  inflating: images/Cars154.png      \n",
            "  inflating: images/Cars155.png      \n",
            "  inflating: images/Cars156.png      \n",
            "  inflating: images/Cars157.png      \n",
            "  inflating: images/Cars158.png      \n",
            "  inflating: images/Cars159.png      \n",
            "  inflating: images/Cars16.png       \n",
            "  inflating: images/Cars160.png      \n",
            "  inflating: images/Cars161.png      \n",
            "  inflating: images/Cars162.png      \n",
            "  inflating: images/Cars163.png      \n",
            "  inflating: images/Cars164.png      \n",
            "  inflating: images/Cars165.png      \n",
            "  inflating: images/Cars166.png      \n",
            "  inflating: images/Cars167.png      \n",
            "  inflating: images/Cars168.png      \n",
            "  inflating: images/Cars169.png      \n",
            "  inflating: images/Cars17.png       \n",
            "  inflating: images/Cars170.png      \n",
            "  inflating: images/Cars171.png      \n",
            "  inflating: images/Cars172.png      \n",
            "  inflating: images/Cars173.png      \n",
            "  inflating: images/Cars174.png      \n",
            "  inflating: images/Cars175.png      \n",
            "  inflating: images/Cars176.png      \n",
            "  inflating: images/Cars177.png      \n",
            "  inflating: images/Cars178.png      \n",
            "  inflating: images/Cars179.png      \n",
            "  inflating: images/Cars18.png       \n",
            "  inflating: images/Cars180.png      \n",
            "  inflating: images/Cars181.png      \n",
            "  inflating: images/Cars182.png      \n",
            "  inflating: images/Cars183.png      \n",
            "  inflating: images/Cars184.png      \n",
            "  inflating: images/Cars185.png      \n",
            "  inflating: images/Cars186.png      \n",
            "  inflating: images/Cars187.png      \n",
            "  inflating: images/Cars188.png      \n",
            "  inflating: images/Cars189.png      \n",
            "  inflating: images/Cars19.png       \n",
            "  inflating: images/Cars190.png      \n",
            "  inflating: images/Cars191.png      \n",
            "  inflating: images/Cars192.png      \n",
            "  inflating: images/Cars193.png      \n",
            "  inflating: images/Cars194.png      \n",
            "  inflating: images/Cars195.png      \n",
            "  inflating: images/Cars196.png      \n",
            "  inflating: images/Cars197.png      \n",
            "  inflating: images/Cars198.png      \n",
            "  inflating: images/Cars199.png      \n",
            "  inflating: images/Cars2.png        \n",
            "  inflating: images/Cars20.png       \n",
            "  inflating: images/Cars200.png      \n",
            "  inflating: images/Cars201.png      \n",
            "  inflating: images/Cars202.png      \n",
            "  inflating: images/Cars203.png      \n",
            "  inflating: images/Cars204.png      \n",
            "  inflating: images/Cars205.png      \n",
            "  inflating: images/Cars206.png      \n",
            "  inflating: images/Cars207.png      \n",
            "  inflating: images/Cars208.png      \n",
            "  inflating: images/Cars209.png      \n",
            "  inflating: images/Cars21.png       \n",
            "  inflating: images/Cars210.png      \n",
            "  inflating: images/Cars211.png      \n",
            "  inflating: images/Cars212.png      \n",
            "  inflating: images/Cars213.png      \n",
            "  inflating: images/Cars214.png      \n",
            "  inflating: images/Cars215.png      \n",
            "  inflating: images/Cars216.png      \n",
            "  inflating: images/Cars217.png      \n",
            "  inflating: images/Cars218.png      \n",
            "  inflating: images/Cars219.png      \n",
            "  inflating: images/Cars22.png       \n",
            "  inflating: images/Cars220.png      \n",
            "  inflating: images/Cars221.png      \n",
            "  inflating: images/Cars222.png      \n",
            "  inflating: images/Cars223.png      \n",
            "  inflating: images/Cars224.png      \n",
            "  inflating: images/Cars225.png      \n",
            "  inflating: images/Cars226.png      \n",
            "  inflating: images/Cars227.png      \n",
            "  inflating: images/Cars228.png      \n",
            "  inflating: images/Cars229.png      \n",
            "  inflating: images/Cars23.png       \n",
            "  inflating: images/Cars230.png      \n",
            "  inflating: images/Cars231.png      \n",
            "  inflating: images/Cars232.png      \n",
            "  inflating: images/Cars233.png      \n",
            "  inflating: images/Cars234.png      \n",
            "  inflating: images/Cars235.png      \n",
            "  inflating: images/Cars236.png      \n",
            "  inflating: images/Cars237.png      \n",
            "  inflating: images/Cars238.png      \n",
            "  inflating: images/Cars239.png      \n",
            "  inflating: images/Cars24.png       \n",
            "  inflating: images/Cars240.png      \n",
            "  inflating: images/Cars241.png      \n",
            "  inflating: images/Cars242.png      \n",
            "  inflating: images/Cars243.png      \n",
            "  inflating: images/Cars244.png      \n",
            "  inflating: images/Cars245.png      \n",
            "  inflating: images/Cars246.png      \n",
            "  inflating: images/Cars247.png      \n",
            "  inflating: images/Cars248.png      \n",
            "  inflating: images/Cars249.png      \n",
            "  inflating: images/Cars25.png       \n",
            "  inflating: images/Cars250.png      \n",
            "  inflating: images/Cars251.png      \n",
            "  inflating: images/Cars252.png      \n",
            "  inflating: images/Cars253.png      \n",
            "  inflating: images/Cars254.png      \n",
            "  inflating: images/Cars255.png      \n",
            "  inflating: images/Cars256.png      \n",
            "  inflating: images/Cars257.png      \n",
            "  inflating: images/Cars258.png      \n",
            "  inflating: images/Cars259.png      \n",
            "  inflating: images/Cars26.png       \n",
            "  inflating: images/Cars260.png      \n",
            "  inflating: images/Cars261.png      \n",
            "  inflating: images/Cars262.png      \n",
            "  inflating: images/Cars263.png      \n",
            "  inflating: images/Cars264.png      \n",
            "  inflating: images/Cars265.png      \n",
            "  inflating: images/Cars266.png      \n",
            "  inflating: images/Cars267.png      \n",
            "  inflating: images/Cars268.png      \n",
            "  inflating: images/Cars269.png      \n",
            "  inflating: images/Cars27.png       \n",
            "  inflating: images/Cars270.png      \n",
            "  inflating: images/Cars271.png      \n",
            "  inflating: images/Cars272.png      \n",
            "  inflating: images/Cars273.png      \n",
            "  inflating: images/Cars274.png      \n",
            "  inflating: images/Cars275.png      \n",
            "  inflating: images/Cars276.png      \n",
            "  inflating: images/Cars277.png      \n",
            "  inflating: images/Cars278.png      \n",
            "  inflating: images/Cars279.png      \n",
            "  inflating: images/Cars28.png       \n",
            "  inflating: images/Cars280.png      \n",
            "  inflating: images/Cars281.png      \n",
            "  inflating: images/Cars282.png      \n",
            "  inflating: images/Cars283.png      \n",
            "  inflating: images/Cars284.png      \n",
            "  inflating: images/Cars285.png      \n",
            "  inflating: images/Cars286.png      \n",
            "  inflating: images/Cars287.png      \n",
            "  inflating: images/Cars288.png      \n",
            "  inflating: images/Cars289.png      \n",
            "  inflating: images/Cars29.png       \n",
            "  inflating: images/Cars290.png      \n",
            "  inflating: images/Cars291.png      \n",
            "  inflating: images/Cars292.png      \n",
            "  inflating: images/Cars293.png      \n",
            "  inflating: images/Cars294.png      \n",
            "  inflating: images/Cars295.png      \n",
            "  inflating: images/Cars296.png      \n",
            "  inflating: images/Cars297.png      \n",
            "  inflating: images/Cars298.png      \n",
            "  inflating: images/Cars299.png      \n",
            "  inflating: images/Cars3.png        \n",
            "  inflating: images/Cars30.png       \n",
            "  inflating: images/Cars300.png      \n",
            "  inflating: images/Cars301.png      \n",
            "  inflating: images/Cars302.png      \n",
            "  inflating: images/Cars303.png      \n",
            "  inflating: images/Cars304.png      \n",
            "  inflating: images/Cars305.png      \n",
            "  inflating: images/Cars306.png      \n",
            "  inflating: images/Cars307.png      \n",
            "  inflating: images/Cars308.png      \n",
            "  inflating: images/Cars309.png      \n",
            "  inflating: images/Cars31.png       \n",
            "  inflating: images/Cars310.png      \n",
            "  inflating: images/Cars311.png      \n",
            "  inflating: images/Cars312.png      \n",
            "  inflating: images/Cars313.png      \n",
            "  inflating: images/Cars314.png      \n",
            "  inflating: images/Cars315.png      \n",
            "  inflating: images/Cars316.png      \n",
            "  inflating: images/Cars317.png      \n",
            "  inflating: images/Cars318.png      \n",
            "  inflating: images/Cars319.png      \n",
            "  inflating: images/Cars32.png       \n",
            "  inflating: images/Cars320.png      \n",
            "  inflating: images/Cars321.png      \n",
            "  inflating: images/Cars322.png      \n",
            "  inflating: images/Cars323.png      \n",
            "  inflating: images/Cars324.png      \n",
            "  inflating: images/Cars325.png      \n",
            "  inflating: images/Cars326.png      \n",
            "  inflating: images/Cars327.png      \n",
            "  inflating: images/Cars328.png      \n",
            "  inflating: images/Cars329.png      \n",
            "  inflating: images/Cars33.png       \n",
            "  inflating: images/Cars330.png      \n",
            "  inflating: images/Cars331.png      \n",
            "  inflating: images/Cars332.png      \n",
            "  inflating: images/Cars333.png      \n",
            "  inflating: images/Cars334.png      \n",
            "  inflating: images/Cars335.png      \n",
            "  inflating: images/Cars336.png      \n",
            "  inflating: images/Cars337.png      \n",
            "  inflating: images/Cars338.png      \n",
            "  inflating: images/Cars339.png      \n",
            "  inflating: images/Cars34.png       \n",
            "  inflating: images/Cars340.png      \n",
            "  inflating: images/Cars341.png      \n",
            "  inflating: images/Cars342.png      \n",
            "  inflating: images/Cars343.png      \n",
            "  inflating: images/Cars344.png      \n",
            "  inflating: images/Cars345.png      \n",
            "  inflating: images/Cars346.png      \n",
            "  inflating: images/Cars347.png      \n",
            "  inflating: images/Cars348.png      \n",
            "  inflating: images/Cars349.png      \n",
            "  inflating: images/Cars35.png       \n",
            "  inflating: images/Cars350.png      \n",
            "  inflating: images/Cars351.png      \n",
            "  inflating: images/Cars352.png      \n",
            "  inflating: images/Cars353.png      \n",
            "  inflating: images/Cars354.png      \n",
            "  inflating: images/Cars355.png      \n",
            "  inflating: images/Cars356.png      \n",
            "  inflating: images/Cars357.png      \n",
            "  inflating: images/Cars358.png      \n",
            "  inflating: images/Cars359.png      \n",
            "  inflating: images/Cars36.png       \n",
            "  inflating: images/Cars360.png      \n",
            "  inflating: images/Cars361.png      \n",
            "  inflating: images/Cars362.png      \n",
            "  inflating: images/Cars363.png      \n",
            "  inflating: images/Cars364.png      \n",
            "  inflating: images/Cars365.png      \n",
            "  inflating: images/Cars366.png      \n",
            "  inflating: images/Cars367.png      \n",
            "  inflating: images/Cars368.png      \n",
            "  inflating: images/Cars369.png      \n",
            "  inflating: images/Cars37.png       \n",
            "  inflating: images/Cars370.png      \n",
            "  inflating: images/Cars371.png      \n",
            "  inflating: images/Cars372.png      \n",
            "  inflating: images/Cars373.png      \n",
            "  inflating: images/Cars374.png      \n",
            "  inflating: images/Cars375.png      \n",
            "  inflating: images/Cars376.png      \n",
            "  inflating: images/Cars377.png      \n",
            "  inflating: images/Cars378.png      \n",
            "  inflating: images/Cars379.png      \n",
            "  inflating: images/Cars38.png       \n",
            "  inflating: images/Cars380.png      \n",
            "  inflating: images/Cars381.png      \n",
            "  inflating: images/Cars382.png      \n",
            "  inflating: images/Cars383.png      \n",
            "  inflating: images/Cars384.png      \n",
            "  inflating: images/Cars385.png      \n",
            "  inflating: images/Cars386.png      \n",
            "  inflating: images/Cars387.png      \n",
            "  inflating: images/Cars388.png      \n",
            "  inflating: images/Cars389.png      \n",
            "  inflating: images/Cars39.png       \n",
            "  inflating: images/Cars390.png      \n",
            "  inflating: images/Cars391.png      \n",
            "  inflating: images/Cars392.png      \n",
            "  inflating: images/Cars393.png      \n",
            "  inflating: images/Cars394.png      \n",
            "  inflating: images/Cars395.png      \n",
            "  inflating: images/Cars396.png      \n",
            "  inflating: images/Cars397.png      \n",
            "  inflating: images/Cars398.png      \n",
            "  inflating: images/Cars399.png      \n",
            "  inflating: images/Cars4.png        \n",
            "  inflating: images/Cars40.png       \n",
            "  inflating: images/Cars400.png      \n",
            "  inflating: images/Cars401.png      \n",
            "  inflating: images/Cars402.png      \n",
            "  inflating: images/Cars403.png      \n",
            "  inflating: images/Cars404.png      \n",
            "  inflating: images/Cars405.png      \n",
            "  inflating: images/Cars406.png      \n",
            "  inflating: images/Cars407.png      \n",
            "  inflating: images/Cars408.png      \n",
            "  inflating: images/Cars409.png      \n",
            "  inflating: images/Cars41.png       \n",
            "  inflating: images/Cars410.png      \n",
            "  inflating: images/Cars411.png      \n",
            "  inflating: images/Cars412.png      \n",
            "  inflating: images/Cars413.png      \n",
            "  inflating: images/Cars414.png      \n",
            "  inflating: images/Cars415.png      \n",
            "  inflating: images/Cars416.png      \n",
            "  inflating: images/Cars417.png      \n",
            "  inflating: images/Cars418.png      \n",
            "  inflating: images/Cars419.png      \n",
            "  inflating: images/Cars42.png       \n",
            "  inflating: images/Cars420.png      \n",
            "  inflating: images/Cars421.png      \n",
            "  inflating: images/Cars422.png      \n",
            "  inflating: images/Cars423.png      \n",
            "  inflating: images/Cars424.png      \n",
            "  inflating: images/Cars425.png      \n",
            "  inflating: images/Cars426.png      \n",
            "  inflating: images/Cars427.png      \n",
            "  inflating: images/Cars428.png      \n",
            "  inflating: images/Cars429.png      \n",
            "  inflating: images/Cars43.png       \n",
            "  inflating: images/Cars430.png      \n",
            "  inflating: images/Cars431.png      \n",
            "  inflating: images/Cars432.png      \n",
            "  inflating: images/Cars44.png       \n",
            "  inflating: images/Cars45.png       \n",
            "  inflating: images/Cars46.png       \n",
            "  inflating: images/Cars47.png       \n",
            "  inflating: images/Cars48.png       \n",
            "  inflating: images/Cars49.png       \n",
            "  inflating: images/Cars5.png        \n",
            "  inflating: images/Cars50.png       \n",
            "  inflating: images/Cars51.png       \n",
            "  inflating: images/Cars52.png       \n",
            "  inflating: images/Cars53.png       \n",
            "  inflating: images/Cars54.png       \n",
            "  inflating: images/Cars55.png       \n",
            "  inflating: images/Cars56.png       \n",
            "  inflating: images/Cars57.png       \n",
            "  inflating: images/Cars58.png       \n",
            "  inflating: images/Cars59.png       \n",
            "  inflating: images/Cars6.png        \n",
            "  inflating: images/Cars60.png       \n",
            "  inflating: images/Cars61.png       \n",
            "  inflating: images/Cars62.png       \n",
            "  inflating: images/Cars63.png       \n",
            "  inflating: images/Cars64.png       \n",
            "  inflating: images/Cars65.png       \n",
            "  inflating: images/Cars66.png       \n",
            "  inflating: images/Cars67.png       \n",
            "  inflating: images/Cars68.png       \n",
            "  inflating: images/Cars69.png       \n",
            "  inflating: images/Cars7.png        \n",
            "  inflating: images/Cars70.png       \n",
            "  inflating: images/Cars71.png       \n",
            "  inflating: images/Cars72.png       \n",
            "  inflating: images/Cars73.png       \n",
            "  inflating: images/Cars74.png       \n",
            "  inflating: images/Cars75.png       \n",
            "  inflating: images/Cars76.png       \n",
            "  inflating: images/Cars77.png       \n",
            "  inflating: images/Cars78.png       \n",
            "  inflating: images/Cars79.png       \n",
            "  inflating: images/Cars8.png        \n",
            "  inflating: images/Cars80.png       \n",
            "  inflating: images/Cars81.png       \n",
            "  inflating: images/Cars82.png       \n",
            "  inflating: images/Cars83.png       \n",
            "  inflating: images/Cars84.png       \n",
            "  inflating: images/Cars85.png       \n",
            "  inflating: images/Cars86.png       \n",
            "  inflating: images/Cars87.png       \n",
            "  inflating: images/Cars88.png       \n",
            "  inflating: images/Cars89.png       \n",
            "  inflating: images/Cars9.png        \n",
            "  inflating: images/Cars90.png       \n",
            "  inflating: images/Cars91.png       \n",
            "  inflating: images/Cars92.png       \n",
            "  inflating: images/Cars93.png       \n",
            "  inflating: images/Cars94.png       \n",
            "  inflating: images/Cars95.png       \n",
            "  inflating: images/Cars96.png       \n",
            "  inflating: images/Cars97.png       \n",
            "  inflating: images/Cars98.png       \n",
            "  inflating: images/Cars99.png       \n"
          ]
        }
      ]
    },
    {
      "cell_type": "code",
      "source": [
        "os.makedirs('/content/data/', exist_ok=True)\n",
        "os.replace('/content/images', '/content/data/images')\n",
        "os.replace('/content/annotations', '/content/data/annotations')"
      ],
      "metadata": {
        "id": "GK34bCgTVfso"
      },
      "execution_count": 3,
      "outputs": []
    },
    {
      "cell_type": "code",
      "source": [
        "IMAGE_PATH = '/content/data/images/'\n",
        "ANNOTATION_PATH =  '/content/data/annotations/'"
      ],
      "metadata": {
        "id": "BwsIcn12WfMy"
      },
      "execution_count": 4,
      "outputs": []
    },
    {
      "cell_type": "code",
      "source": [
        "def xml_to_XY(path, img_path):\n",
        "  Y = []\n",
        "  X = []\n",
        "  for xml_file in glob.glob(path+'*.xml'):\n",
        "    tree = ET.parse(xml_file)\n",
        "    root = tree.getroot()\n",
        "    img_name = img_path + xml_file.replace(path, '')[:-4]+'.png'\n",
        "\n",
        "    h, w, d = plt.imread(img_name).shape\n",
        "\n",
        "    img = tf.keras.preprocessing.image.load_img(img_name, target_size=(320, 320))\n",
        "    img_arr = tf.keras.preprocessing.image.img_to_array(img) / 255.0\n",
        "\n",
        "\n",
        "    for children in root.findall('object'):\n",
        "      bndbox = children[5]\n",
        "      xmin = float(bndbox[0].text) / w\n",
        "      ymin = float(bndbox[1].text) / h\n",
        "      xmax = float(bndbox[2].text) / w\n",
        "      ymax = float(bndbox[3].text) / h\n",
        "      \n",
        "      X.append(img_arr)\n",
        "      Y.append([xmin, xmax, ymin, ymax])\n",
        "\n",
        "  return X, Y"
      ],
      "metadata": {
        "id": "mE53o49dLTlS"
      },
      "execution_count": 32,
      "outputs": []
    },
    {
      "cell_type": "code",
      "source": [
        "x, y = xml_to_XY(ANNOTATION_PATH, IMAGE_PATH)"
      ],
      "metadata": {
        "id": "rhtW54HL9CO6"
      },
      "execution_count": 33,
      "outputs": []
    },
    {
      "cell_type": "code",
      "source": [
        "x = np.array(x)\n",
        "y = np.array(y)"
      ],
      "metadata": {
        "id": "tXACErNgQxDN"
      },
      "execution_count": 34,
      "outputs": []
    },
    {
      "cell_type": "code",
      "source": [
        "x.shape, y.shape"
      ],
      "metadata": {
        "colab": {
          "base_uri": "https://localhost:8080/"
        },
        "id": "JnsQKFUZPQcH",
        "outputId": "9c166ee9-4e45-42cf-82e6-36530f6efc4b"
      },
      "execution_count": 35,
      "outputs": [
        {
          "output_type": "execute_result",
          "data": {
            "text/plain": [
              "((471, 320, 320, 3), (471, 4))"
            ]
          },
          "metadata": {},
          "execution_count": 35
        }
      ]
    },
    {
      "cell_type": "code",
      "source": [
        "vgg16 = tf.keras.applications.VGG16(include_top=False, weights='imagenet', input_shape=(320, 320, 3))"
      ],
      "metadata": {
        "id": "Y2J0w3fvrFpx"
      },
      "execution_count": null,
      "outputs": []
    },
    {
      "cell_type": "code",
      "source": [
        "model = tf.keras.Sequential([vgg16, \n",
        "                            tf.keras.layers.Conv2D(filters=4, kernel_size=3, activation='relu', padding='same'),\n",
        "                            tf.keras.layers.BatchNormalization(),\n",
        "                            tf.keras.layers.Conv2D(filters=4, kernel_size=3, activation='relu', padding='same'),\n",
        "                            tf.keras.layers.BatchNormalization(),\n",
        "                            tf.keras.layers.GlobalMaxPooling2D(),\n",
        "                            tf.keras.layers.Dense(units=4, activation='sigmoid')])"
      ],
      "metadata": {
        "id": "pCLS83Z9LsKR"
      },
      "execution_count": 40,
      "outputs": []
    },
    {
      "cell_type": "code",
      "source": [
        "model.compile(optimizer='adam',\n",
        "              loss='mse',\n",
        "              metrics=['accuracy'])\n",
        "model.summary()"
      ],
      "metadata": {
        "id": "rFlKeNwHr5Di"
      },
      "execution_count": 46,
      "outputs": []
    },
    {
      "cell_type": "code",
      "source": [
        "train_x, test_x, train_y, test_y = model_selection.train_test_split(x, y)"
      ],
      "metadata": {
        "id": "UXl_9hF2rFnR"
      },
      "execution_count": 42,
      "outputs": []
    },
    {
      "cell_type": "code",
      "source": [
        "train_x.shape, test_x.shape, train_y.shape, test_y.shape"
      ],
      "metadata": {
        "colab": {
          "base_uri": "https://localhost:8080/"
        },
        "id": "mn96IBFxrFkj",
        "outputId": "3671dcc5-3fcc-4858-bce2-66530e6548c7"
      },
      "execution_count": 43,
      "outputs": [
        {
          "output_type": "execute_result",
          "data": {
            "text/plain": [
              "((353, 320, 320, 3), (118, 320, 320, 3), (353, 4), (118, 4))"
            ]
          },
          "metadata": {},
          "execution_count": 43
        }
      ]
    },
    {
      "cell_type": "code",
      "source": [
        "model.fit(x=train_x,\n",
        "          y=train_y,\n",
        "          batch_size=32,\n",
        "          epochs=2,\n",
        "          validation_data=(test_x, test_y),\n",
        "          steps_per_epoch=train_x.shape[0]//10, \n",
        "          validation_steps=test_x.shape[0]//10)"
      ],
      "metadata": {
        "colab": {
          "base_uri": "https://localhost:8080/"
        },
        "id": "Rl-W6RdIfFIQ",
        "outputId": "b6e1c5dc-a885-4ae6-c5b9-5313a94f8fd2"
      },
      "execution_count": null,
      "outputs": [
        {
          "output_type": "stream",
          "name": "stdout",
          "text": [
            "Epoch 1/2\n"
          ]
        }
      ]
    },
    {
      "cell_type": "markdown",
      "source": [
        "#ddd"
      ],
      "metadata": {
        "id": "QlYN-oUj9aZV"
      }
    },
    {
      "cell_type": "code",
      "source": [
        "num_imgs = 50000\n",
        "\n",
        "img_size = 16\n",
        "min_rect_size = 3\n",
        "max_rect_size = 8\n",
        "num_objects = 2\n",
        "\n",
        "bboxes = np.zeros((num_imgs, num_objects, 4))\n",
        "imgs = np.zeros((num_imgs, img_size, img_size))\n",
        "shapes = np.zeros((num_imgs, num_objects, 1))\n",
        "\n",
        "for i_img in range(num_imgs):\n",
        "    for i_object in range(num_objects):\n",
        "        if np.random.choice([True, False]):\n",
        "            width, height = np.random.randint(min_rect_size, max_rect_size, size=2)\n",
        "            x = np.random.randint(0, img_size - width)\n",
        "            y = np.random.randint(0, img_size - height)\n",
        "            imgs[i_img, x:x+width, y:y+height] = 1.\n",
        "            bboxes[i_img, i_object] = [x, y, width, height]\n",
        "            shapes[i_img, i_object] = [0]\n",
        "        else:\n",
        "            size = np.random.randint(min_rect_size, max_rect_size)\n",
        "            x, y = np.random.randint(0, img_size - size, size=2)\n",
        "            mask = np.tril_indices(size)\n",
        "            imgs[i_img, x + mask[0], y + mask[1]] = 1.\n",
        "            bboxes[i_img, i_object] = [x, y, size, size]\n",
        "            shapes[i_img, i_object] = [1]\n",
        "            \n",
        "imgs.shape, bboxes.shape"
      ],
      "metadata": {
        "colab": {
          "base_uri": "https://localhost:8080/"
        },
        "id": "MU2n-KEkXFRT",
        "outputId": "1ffa4c99-d262-40b4-e700-956a5bc0aa7e"
      },
      "execution_count": 12,
      "outputs": [
        {
          "output_type": "execute_result",
          "data": {
            "text/plain": [
              "((50000, 16, 16), (50000, 2, 4))"
            ]
          },
          "metadata": {},
          "execution_count": 12
        }
      ]
    },
    {
      "cell_type": "code",
      "source": [
        "# i = 0\n",
        "i+=1\n",
        "# TODO: Why does the array have to be transposed?\n",
        "plt.imshow(imgs[i].T, cmap='Greys', interpolation='none', origin='lower', extent=[0, img_size, 0, img_size])\n",
        "for bbox, shape in zip(bboxes[i], shapes[i]):\n",
        "    plt.gca().add_patch(matplotlib.patches.Rectangle((bbox[0], bbox[1]), bbox[2], bbox[3], ec='r' if shape[0] == 0 else 'y', fc='none'))\n"
      ],
      "metadata": {
        "colab": {
          "base_uri": "https://localhost:8080/",
          "height": 269
        },
        "id": "LSQJOklogE-s",
        "outputId": "8bcf832c-9c6a-42f6-df31-2fe5521645b4"
      },
      "execution_count": 16,
      "outputs": [
        {
          "output_type": "display_data",
          "data": {
            "text/plain": [
              "<Figure size 432x288 with 1 Axes>"
            ],
            "image/png": "[encoded data removed]"
          },
          "metadata": {
            "needs_background": "light"
          }
        }
      ]
    },
    {
      "cell_type": "code",
      "source": [
        "X = (imgs.reshape(num_imgs, -1) - np.mean(imgs)) / np.std(imgs)\n",
        "X.shape, np.mean(X), np.std(X)\n",
        "\n",
        "y = np.concatenate([bboxes / img_size, shapes], axis=-1).reshape(num_imgs, -1)\n",
        "y.shape"
      ],
      "metadata": {
        "id": "WKks-DEDv9YX",
        "colab": {
          "base_uri": "https://localhost:8080/"
        },
        "outputId": "01d6250f-5474-4b2b-f84d-853f6d7a2491"
      },
      "execution_count": 17,
      "outputs": [
        {
          "output_type": "execute_result",
          "data": {
            "text/plain": [
              "(50000, 10)"
            ]
          },
          "metadata": {},
          "execution_count": 17
        }
      ]
    },
    {
      "cell_type": "code",
      "source": [
        "print(bboxes.shape, shapes.shape, y.shape)\n",
        "bboxes[0], shapes[0], y[0]"
      ],
      "metadata": {
        "colab": {
          "base_uri": "https://localhost:8080/"
        },
        "id": "Y-60H62hMZ_v",
        "outputId": "4a886e60-99ed-461d-fb2e-1b22c3c313f4"
      },
      "execution_count": 30,
      "outputs": [
        {
          "output_type": "stream",
          "name": "stdout",
          "text": [
            "(50000, 2, 4) (50000, 2, 1) (50000, 10)\n"
          ]
        },
        {
          "output_type": "execute_result",
          "data": {
            "text/plain": [
              "(array([[3., 1., 7., 5.],\n",
              "        [7., 1., 6., 6.]]), array([[0.],\n",
              "        [1.]]), array([0.1875, 0.0625, 0.4375, 0.3125, 0.    , 0.4375, 0.0625, 0.375 ,\n",
              "        0.375 , 1.    ]))"
            ]
          },
          "metadata": {},
          "execution_count": 30
        }
      ]
    },
    {
      "cell_type": "code",
      "source": [
        "i = int(0.8 * num_imgs)\n",
        "train_X = X[:i]\n",
        "test_X = X[i:]\n",
        "train_y = y[:i]\n",
        "test_y = y[i:]\n",
        "test_imgs = imgs[i:]\n",
        "test_bboxes = bboxes[i:]"
      ],
      "metadata": {
        "id": "u2IPJMU_MNl_"
      },
      "execution_count": null,
      "outputs": []
    },
    {
      "cell_type": "code",
      "source": [
        "\n",
        "from keras.models import Sequential\n",
        "from keras.layers import Dense, Activation, Dropout\n",
        "from keras.optimizers import SGD\n",
        "model = tf.keras.models.Sequential([\n",
        "        tf.keras.layers.Dense(256, input_dim=X.shape[-1], activation='relu'), \n",
        "        tf.keras.layers.Dropout(0.5),\n",
        "        tf.keras.layers.Dense(y.shape[-1])\n",
        "    ])\n",
        "\n",
        "model.compile(omptimizer='adadelta',\n",
        "              loss='mse',\n",
        "              metrics=['accuracy'])"
      ],
      "metadata": {
        "id": "exKa0DQgwAhh"
      },
      "execution_count": null,
      "outputs": []
    },
    {
      "cell_type": "code",
      "source": [
        "\n",
        "# Flip bboxes during training.\n",
        "# Note: The validation loss is always quite big here because we don't flip the bounding boxes for the validation data. \n",
        "def IOU(bbox1, bbox2):\n",
        "    '''Calculate overlap between two bounding boxes [x, y, w, h] as the area of intersection over the area of unity'''\n",
        "    x1, y1, w1, h1 = bbox1[0], bbox1[1], bbox1[2], bbox1[3]  # TODO: Check if its more performant if tensor elements are accessed directly below.\n",
        "    x2, y2, w2, h2 = bbox2[0], bbox2[1], bbox2[2], bbox2[3]\n",
        "\n",
        "    w_I = min(x1 + w1, x2 + w2) - max(x1, x2)\n",
        "    h_I = min(y1 + h1, y2 + h2) - max(y1, y2)\n",
        "    if w_I <= 0 or h_I <= 0:  # no overlap\n",
        "        return 0\n",
        "    I = w_I * h_I\n",
        "\n",
        "    U = w1 * h1 + w2 * h2 - I\n",
        "\n",
        "    return I / U"
      ],
      "metadata": {
        "id": "v_J-8uIcwDeO"
      },
      "execution_count": null,
      "outputs": []
    },
    {
      "cell_type": "code",
      "source": [
        "def dist(bbox1, bbox2):\n",
        "    return np.sqrt(np.sum(np.square(bbox1[:2] - bbox2[:2])))"
      ],
      "metadata": {
        "id": "xiXzY_KRwEZw"
      },
      "execution_count": null,
      "outputs": []
    },
    {
      "cell_type": "code",
      "execution_count": null,
      "metadata": {
        "colab": {
          "base_uri": "https://localhost:8080/"
        },
        "id": "NCBkMsWdek5J",
        "outputId": "7a8da37e-7bb8-40f6-9778-3c58e84bfc1a"
      },
      "outputs": [
        {
          "output_type": "stream",
          "name": "stdout",
          "text": [
            "Epoch 0\n",
            "1250/1250 - 5s - loss: 1.2512 - val_loss: 0.6032 - 5s/epoch - 4ms/step\n",
            "1250/1250 [==============================] - 2s 2ms/step\n",
            "Flipped 49.769999999999996 % of all elements\n",
            "Mean IOU: 0.007859193352009687\n",
            "Mean dist: 0.8797448999706355\n",
            "Mean mse: 0.51864670046129\n",
            "Epoch 1\n",
            "1250/1250 - 5s - loss: 1.0567 - val_loss: 0.4950 - 5s/epoch - 4ms/step\n",
            "1250/1250 [==============================] - 3s 2ms/step\n",
            "Flipped 8.434999999999999 % of all elements\n",
            "Mean IOU: 0.01126615508267084\n",
            "Mean dist: 0.7987428326355115\n",
            "Mean mse: 0.41814962263317496\n",
            "Epoch 2\n",
            "1250/1250 - 7s - loss: 0.9446 - val_loss: 0.4278 - 7s/epoch - 6ms/step\n",
            "1250/1250 [==============================] - 8s 7ms/step\n",
            "Flipped 6.08 % of all elements\n",
            "Mean IOU: 0.014347690264117656\n",
            "Mean dist: 0.7398230211061122\n",
            "Mean mse: 0.3565922847082358\n",
            "Epoch 3\n",
            "1250/1250 - 8s - loss: 0.8574 - val_loss: 0.3808 - 8s/epoch - 6ms/step\n",
            "1250/1250 [==============================] - 5s 4ms/step\n",
            "Flipped 4.625 % of all elements\n",
            "Mean IOU: 0.017053951856157455\n",
            "Mean dist: 0.6936163739841937\n",
            "Mean mse: 0.3139086888926488\n",
            "Epoch 4\n",
            "1250/1250 - 9s - loss: 0.7972 - val_loss: 0.3453 - 9s/epoch - 7ms/step\n",
            "1250/1250 [==============================] - 2s 2ms/step\n",
            "Flipped 3.8975000000000004 % of all elements\n",
            "Mean IOU: 0.01958615239771235\n",
            "Mean dist: 0.655367594627621\n",
            "Mean mse: 0.28141002491405853\n"
          ]
        }
      ],
      "source": [
        "num_epochs_flipping = 5\n",
        "num_epochs_no_flipping = 0  # has no significant effect\n",
        "flipped_train_y = np.array(train_y)\n",
        "flipped = np.zeros((len(flipped_train_y), num_epochs_flipping + num_epochs_no_flipping))\n",
        "ious_epoch = np.zeros((len(flipped_train_y), num_epochs_flipping + num_epochs_no_flipping))\n",
        "dists_epoch = np.zeros((len(flipped_train_y), num_epochs_flipping + num_epochs_no_flipping))\n",
        "mses_epoch = np.zeros((len(flipped_train_y), num_epochs_flipping + num_epochs_no_flipping))\n",
        "\n",
        "# TODO: Calculate ious directly for all samples (using slices of the array pred_y for x, y, w, h).\n",
        "for epoch in range(num_epochs_flipping):\n",
        "    print ('Epoch', epoch)\n",
        "    model.fit(train_X, flipped_train_y, epochs=1, validation_data=(test_X, test_y), verbose=2)\n",
        "    pred_y = model.predict(train_X)\n",
        "\n",
        "    for sample, (pred, exp) in enumerate(zip(pred_y, flipped_train_y)):\n",
        "        \n",
        "        # TODO: Make this simpler.\n",
        "        pred = pred.reshape(num_objects, -1)\n",
        "        exp = exp.reshape(num_objects, -1)\n",
        "        \n",
        "        pred_bboxes = pred[:, :4]\n",
        "        exp_bboxes = exp[:, :4]\n",
        "        \n",
        "        # TODO: Try flipping array and see if results differ.\n",
        "        ious = np.zeros((num_objects, num_objects))\n",
        "        dists = np.zeros((num_objects, num_objects))\n",
        "        mses = np.zeros((num_objects, num_objects))\n",
        "        for i, exp_bbox in enumerate(exp_bboxes):\n",
        "            for j, pred_bbox in enumerate(pred_bboxes):\n",
        "                ious[i, j] = IOU(exp_bbox, pred_bbox)\n",
        "                dists[i, j] = dist(exp_bbox, pred_bbox)\n",
        "                mses[i, j] = np.mean(np.square(exp_bbox - pred_bbox))\n",
        "                \n",
        "        new_order = np.zeros(num_objects, dtype=int)\n",
        "        \n",
        "        for i in range(num_objects):\n",
        "            # Find pred and exp bbox with maximum iou and assign them to each other (i.e. switch the positions of the exp bboxes in y).\n",
        "            ind_exp_bbox, ind_pred_bbox = np.unravel_index(mses.argmin(), mses.shape)\n",
        "            ious_epoch[sample, epoch] += ious[ind_exp_bbox, ind_pred_bbox]\n",
        "            dists_epoch[sample, epoch] += dists[ind_exp_bbox, ind_pred_bbox]\n",
        "            mses_epoch[sample, epoch] += mses[ind_exp_bbox, ind_pred_bbox]\n",
        "            mses[ind_exp_bbox] = 1000000#-1  # set iou of assigned bboxes to -1, so they don't get assigned again\n",
        "            mses[:, ind_pred_bbox] = 10000000#-1\n",
        "            new_order[ind_pred_bbox] = ind_exp_bbox\n",
        "        \n",
        "        flipped_train_y[sample] = exp[new_order].flatten()\n",
        "        \n",
        "        flipped[sample, epoch] = 1. - np.mean(new_order == np.arange(num_objects, dtype=int))#np.array_equal(new_order, np.arange(num_objects, dtype=int))  # TODO: Change this to reflect the number of flips.\n",
        "        ious_epoch[sample, epoch] /= num_objects\n",
        "        dists_epoch[sample, epoch] /= num_objects\n",
        "        mses_epoch[sample, epoch] /= num_objects\n",
        "        \n",
        "            \n",
        "    print ('Flipped {} % of all elements'.format(np.mean(flipped[:, epoch]) * 100.))\n",
        "    print ('Mean IOU: {}'.format(np.mean(ious_epoch[:, epoch])))\n",
        "    print ('Mean dist: {}'.format(np.mean(dists_epoch[:, epoch])))\n",
        "    print ('Mean mse: {}'.format(np.mean(mses_epoch[:, epoch])))\n",
        "    \n",
        "# print '------------------------------------'\n",
        "# print 'Training now without flipping bboxes'\n",
        "# print '------------------------------------'\n",
        "    \n",
        "# for epoch in range(num_epochs_flipping, num_epochs_flipping + num_epochs_no_flipping):\n",
        "#     print 'Epoch', epoch\n",
        "#     model.fit(train_X, flipped_train_y, nb_epoch=1, validation_data=(test_X, test_y), verbose=2)\n",
        "#     pred_y = model.predict(train_X)\n",
        "\n",
        "#     # Calculate iou/dist, but don't flip.\n",
        "#     for sample, (pred_bboxes, exp_bboxes) in enumerate(zip(pred_y, flipped_train_y)):\n",
        "        \n",
        "#         pred_bboxes = pred_bboxes.reshape(num_objects, -1)\n",
        "#         exp_bboxes = exp_bboxes.reshape(num_objects, -1)        \n",
        "        \n",
        "#         for exp_bbox, pred_bbox in zip(exp_bboxes, pred_bboxes):\n",
        "#             ious_epoch[sample, epoch] += IOU(exp_bbox, pred_bbox)\n",
        "#             dists_epoch[sample, epoch] += dist(exp_bbox, pred_bbox)\n",
        "#             mses_epoch[sample, epoch] += np.mean(np.square(exp_bbox - pred_bbox))\n",
        "            \n",
        "#         ious_epoch[sample, epoch] /= num_objects\n",
        "#         dists_epoch[sample, epoch] /= num_objects \n",
        "#         mses_epoch[sample, epoch] /= num_objects \n",
        "            \n",
        "# #     print 'Flipped {} % of all elements'.format(np.mean(flipped[:, epoch]) * 100.)\n",
        "#     print 'Mean IOU: {}'.format(np.mean(ious_epoch[:, epoch]))\n",
        "#     print 'Mean dist: {}'.format(np.mean(dists_epoch[:, epoch]))\n",
        "#     print 'Mean mse: {}'.format(np.mean(mses_epoch[:, epoch]))\n",
        "#     print\n",
        "    \n",
        "# TODO: Calculate IOU and dist for validation data during training."
      ]
    },
    {
      "cell_type": "code",
      "source": [
        "plt.pcolor(flipped[:1000], cmap='Greys', vmax=1.)\n",
        "# plt.axvline(num_epochs_flipping, c='r')\n",
        "plt.xlabel('Epoch')\n",
        "plt.ylabel('Training sample')"
      ],
      "metadata": {
        "colab": {
          "base_uri": "https://localhost:8080/",
          "height": 300
        },
        "id": "32Zh8QPnf_VN",
        "outputId": "76dde4df-b21b-4074-e402-2134f83c1300"
      },
      "execution_count": null,
      "outputs": [
        {
          "output_type": "execute_result",
          "data": {
            "text/plain": [
              "Text(0, 0.5, 'Training sample')"
            ]
          },
          "metadata": {},
          "execution_count": 25
        },
        {
          "output_type": "display_data",
          "data": {
            "text/plain": [
              "<Figure size 432x288 with 1 Axes>"
            ],
            "image/png": "[encoded data removed]"
          },
          "metadata": {
            "needs_background": "light"
          }
        }
      ]
    },
    {
      "cell_type": "code",
      "source": [
        "mean_ious_epoch = np.mean(ious_epoch, axis=0)\n",
        "mean_dists_epoch = np.mean(dists_epoch, axis=0)\n",
        "mean_mses_epoch = np.mean(mses_epoch, axis=0)\n",
        "plt.plot(mean_ious_epoch, label='Mean IOU')  # between predicted and assigned true bboxes\n",
        "plt.plot(mean_dists_epoch, label='Mean distance')  # relative to image size\n",
        "plt.plot(mean_mses_epoch, label='Mean mse')  # relative to image size\n",
        "plt.annotate(np.round(np.max(mean_ious_epoch), 3), (len(mean_ious_epoch)-1, mean_ious_epoch[-1]+0.03), horizontalalignment='right', color='b')\n",
        "plt.annotate(np.round(np.min(mean_dists_epoch), 3), (len(mean_dists_epoch)-1, mean_dists_epoch[-1]+0.03), horizontalalignment='right', color='g')\n",
        "plt.annotate(np.round(np.min(mean_mses_epoch), 3), (len(mean_mses_epoch)-1, mean_mses_epoch[-1]+0.03), horizontalalignment='right', color='r')\n",
        "# plt.axvline(num_epochs_flipping, c='r')\n",
        "plt.xlabel('Epoch')\n",
        "plt.legend()\n",
        "plt.ylim(0, 1)\n",
        "\n",
        "# plt.savefig('plots/bw-multiple-rectangles-mse.png', dpi=300)"
      ],
      "metadata": {
        "colab": {
          "base_uri": "https://localhost:8080/",
          "height": 300
        },
        "id": "U0sS_r-cwgTg",
        "outputId": "bb83acb9-acd5-4dab-e46f-4f160cd063ed"
      },
      "execution_count": null,
      "outputs": [
        {
          "output_type": "execute_result",
          "data": {
            "text/plain": [
              "(0.0, 1.0)"
            ]
          },
          "metadata": {},
          "execution_count": 26
        },
        {
          "output_type": "display_data",
          "data": {
            "text/plain": [
              "<Figure size 432x288 with 1 Axes>"
            ],
            "image/png": "[encoded data removed]"
          },
          "metadata": {
            "needs_background": "light"
          }
        }
      ]
    },
    {
      "cell_type": "code",
      "source": [
        "pred_y = model.predict(test_X)\n",
        "pred_y = pred_y.reshape(len(pred_y), num_objects, -1)\n",
        "pred_bboxes = pred_y[..., :4] * img_size\n",
        "pred_shapes = pred_y[..., 4:5]\n",
        "pred_bboxes.shape, pred_shapes.shape"
      ],
      "metadata": {
        "colab": {
          "base_uri": "https://localhost:8080/"
        },
        "id": "yAsgCI_vwhyR",
        "outputId": "25906db1-4657-4a33-f497-614af6f683a6"
      },
      "execution_count": null,
      "outputs": [
        {
          "output_type": "stream",
          "name": "stdout",
          "text": [
            "313/313 [==============================] - 1s 2ms/step\n"
          ]
        },
        {
          "output_type": "execute_result",
          "data": {
            "text/plain": [
              "((10000, 2, 4), (10000, 2, 1))"
            ]
          },
          "metadata": {},
          "execution_count": 27
        }
      ]
    },
    {
      "cell_type": "code",
      "source": [
        "plt.figure(figsize=(16, 8))\n",
        "for i_subplot in range(1, 9):\n",
        "    plt.subplot(2, 4, i_subplot)\n",
        "    i = np.random.randint(len(test_X))\n",
        "    plt.imshow(test_imgs[i].T, cmap='Greys', interpolation='none', origin='lower', extent=[0, img_size, 0, img_size])\n",
        "    for pred_bbox, exp_bbox, pred_shape in zip(pred_bboxes[i], test_bboxes[i], pred_shapes[i]):\n",
        "        plt.gca().add_patch(matplotlib.patches.Rectangle((pred_bbox[0], pred_bbox[1]), pred_bbox[2], pred_bbox[3], ec='r' if pred_shape[0] <= 0.5 else 'y', fc='none'))\n",
        "        # TODO: Calculate max IOU with all expected bounding boxes.\n",
        "        plt.annotate('IOU: {:.2f}'.format(IOU(pred_bbox, exp_bbox)), (pred_bbox[0], pred_bbox[1]+pred_bbox[3]+0.4), color='r')\n"
      ],
      "metadata": {
        "colab": {
          "base_uri": "https://localhost:8080/",
          "height": 483
        },
        "id": "1GUozAGfwi0p",
        "outputId": "960305d1-48c7-4824-f1c1-60e7aab5147f"
      },
      "execution_count": null,
      "outputs": [
        {
          "output_type": "display_data",
          "data": {
            "text/plain": [
              "<Figure size 1152x576 with 8 Axes>"
            ],
            "image/png": "[encoded data removed]"
          },
          "metadata": {
            "needs_background": "light"
          }
        }
      ]
    },
    {
      "cell_type": "code",
      "source": [],
      "metadata": {
        "id": "ITHqDE-61qOf"
      },
      "execution_count": null,
      "outputs": []
    }
  ]
}