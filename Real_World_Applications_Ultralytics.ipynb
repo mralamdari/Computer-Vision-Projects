{
  "cells": [
    {
      "cell_type": "markdown",
      "metadata": {
        "id": "view-in-github",
        "colab_type": "text"
      },
      "source": [
        "<a href=\"https://colab.research.google.com/github/mralamdari/Computer-Vision-Projects/blob/main/Real_World_Applications_Ultralytics.ipynb\" target=\"_parent\"><img src=\"https://colab.research.google.com/assets/colab-badge.svg\" alt=\"Open In Colab\"/></a>"
      ]
    },
    {
      "cell_type": "markdown",
      "metadata": {
        "id": "dmbypW8gifjd"
      },
      "source": [
        "[Source code](https://docs.ultralytics.com/guides/object-counting/#real-world-applications)"
      ]
    },
    {
      "cell_type": "code",
      "execution_count": null,
      "metadata": {
        "id": "hqVTJKUSYl3m"
      },
      "outputs": [],
      "source": [
        "import os\n",
        "import cv2\n",
        "import shutil\n",
        "import numpy as np\n",
        "import pandas as pd\n",
        "import matplotlib.pyplot as plt\n",
        "from IPython.display import clear_output\n",
        "from google.colab.patches import cv2_imshow"
      ]
    },
    {
      "cell_type": "code",
      "execution_count": null,
      "metadata": {
        "id": "gzRJo4NmjH6N"
      },
      "outputs": [],
      "source": [
        "!pip install ultralytics\n",
        "clear_output()"
      ]
    },
    {
      "cell_type": "code",
      "execution_count": null,
      "metadata": {
        "id": "WBzTB3d7i3WM"
      },
      "outputs": [],
      "source": [
        "import ultralytics\n",
        "from ultralytics.solutions import object_counter\n",
        "import os\n",
        "import cv2\n",
        "import shutil\n",
        "import numpy as np\n",
        "import pandas as pd\n",
        "import matplotlib.pyplot as plt\n",
        "from IPython.display import clear_output\n",
        "from google.colab.patches import cv2_imshow"
      ]
    },
    {
      "cell_type": "code",
      "source": [],
      "metadata": {
        "id": "VrzMrurRF7BJ"
      },
      "execution_count": null,
      "outputs": []
    },
    {
      "cell_type": "code",
      "execution_count": null,
      "metadata": {
        "id": "MIRCu1t5eRtm"
      },
      "outputs": [],
      "source": []
    },
    {
      "cell_type": "code",
      "execution_count": null,
      "metadata": {
        "id": "TkQK8UFEeRig"
      },
      "outputs": [],
      "source": []
    },
    {
      "cell_type": "markdown",
      "metadata": {
        "id": "Wk-yR13vivcK"
      },
      "source": [
        "#Object Counting using YOLOv8\n",
        "[Video source](https://mixkit.co/free-stock-video/fox-hunting-birds-in-a-pond-11380/)"
      ]
    },
    {
      "cell_type": "code",
      "execution_count": null,
      "metadata": {
        "colab": {
          "base_uri": "https://localhost:8080/"
        },
        "id": "4GV_C4SUgGaj",
        "outputId": "2fc3a9f4-cba6-4588-acd0-6795efc8dfd3"
      },
      "outputs": [
        {
          "output_type": "stream",
          "name": "stdout",
          "text": [
            "Downloading https://github.com/ultralytics/assets/releases/download/v0.0.0/yolov8n.pt to 'yolov8n.pt'...\n"
          ]
        },
        {
          "output_type": "stream",
          "name": "stderr",
          "text": [
            "100%|██████████| 6.23M/6.23M [00:00<00:00, 103MB/s]\n"
          ]
        },
        {
          "output_type": "stream",
          "name": "stdout",
          "text": [
            "WARNING ⚠️ Environment does not support cv2.imshow() or PIL Image.show()\n",
            "\n",
            "Line Counter Initiated.\n",
            "\u001b[31m\u001b[1mrequirements:\u001b[0m Ultralytics requirement ['lapx>=0.5.2'] not found, attempting AutoUpdate...\n",
            "Collecting lapx>=0.5.2\n",
            "  Downloading lapx-0.5.5-cp310-cp310-manylinux_2_5_x86_64.manylinux1_x86_64.manylinux_2_17_x86_64.manylinux2014_x86_64.whl (1.7 MB)\n",
            "     ━━━━━━━━━━━━━━━━━━━━━━━━━━━━━━━━━━━━━━━━ 1.7/1.7 MB 11.3 MB/s eta 0:00:00\n",
            "Requirement already satisfied: Cython>=0.29.32 in /usr/local/lib/python3.10/dist-packages (from lapx>=0.5.2) (3.0.6)\n",
            "Requirement already satisfied: numpy>=1.21.6 in /usr/local/lib/python3.10/dist-packages (from lapx>=0.5.2) (1.23.5)\n",
            "Installing collected packages: lapx\n",
            "Successfully installed lapx-0.5.5\n",
            "\n",
            "\u001b[31m\u001b[1mrequirements:\u001b[0m AutoUpdate success ✅ 7.9s, installed 1 package: ['lapx>=0.5.2']\n",
            "\u001b[31m\u001b[1mrequirements:\u001b[0m ⚠️ \u001b[1mRestart runtime or rerun command for updates to take effect\u001b[0m\n",
            "\n",
            "WARNING ⚠️ Environment does not support cv2.imshow() or PIL Image.show()\n",
            "\n",
            "\n",
            "0: 384x640 (no detections), 310.2ms\n",
            "Speed: 17.8ms preprocess, 310.2ms inference, 17.6ms postprocess per image at shape (1, 3, 384, 640)\n",
            "\n"
          ]
        }
      ],
      "source": [
        "model = ultralytics.YOLO(\"yolov8n.pt\")\n",
        "cap = cv2.VideoCapture(\"/content/drive/MyDrive/DATA/Numbers/Fox hunting birds in a pond - Free Stock Video.mp4\")\n",
        "assert cap.isOpened(), \"Error reading video file\"\n",
        "\n",
        "# Define line/Region points\n",
        "points = [(20, 400), (1080, 400)]                         # Line Points\n",
        "# points = [(20, 400), (1080, 404), (1080, 360), (20, 360)] # Region Points\n",
        "\n",
        "# classes_to_count = [0, 2]  # person and car classes for count\n",
        "classes_to_count = [0]  # person\n",
        "\n",
        "\n",
        "# Video writer\n",
        "video_writer = cv2.VideoWriter(\"object_counting_output.avi\",\n",
        "                              cv2.VideoWriter_fourcc(*'mp4v'),\n",
        "                              int(cap.get(5)),\n",
        "                              (int(cap.get(3)), int(cap.get(4))))\n",
        "\n",
        "# Init Object Counter\n",
        "counter = object_counter.ObjectCounter()\n",
        "counter.set_args(view_img=True,\n",
        "                 reg_pts=points,\n",
        "                 classes_names=model.names,\n",
        "                 draw_tracks=True)\n",
        "\n",
        "while cap.isOpened():\n",
        "    success, im0 = cap.read()\n",
        "    if not success:\n",
        "        print(\"Video frame is empty or video processing has been successfully completed.\")\n",
        "        break\n",
        "    tracks = model.track(im0, persist=True, show=True, classes=classes_to_count)\n",
        "\n",
        "    # im0 = tracks[0].plot()\n",
        "    # cv2_imshow(im0)\n",
        "    im0 = counter.start_counting(im0, tracks)\n",
        "    # cv2_imshow(frame_)\n",
        "\n",
        "    video_writer.write(im0)\n",
        "\n",
        "cap.release()\n",
        "video_writer.release()\n",
        "cv2.destroyAllWindows()"
      ]
    },
    {
      "cell_type": "code",
      "execution_count": 1,
      "metadata": {
        "id": "U_OvCTEKkLRI",
        "colab": {
          "base_uri": "https://localhost:8080/"
        },
        "outputId": "418d5e48-c95b-45ff-a97a-e82a96e46365"
      },
      "outputs": [
        {
          "output_type": "stream",
          "name": "stdout",
          "text": [
            "Ultralytics YOLOv8.0.230 🚀 Python-3.10.12 torch-2.1.0+cu121 CPU (Intel Xeon 2.20GHz)\n",
            "Setup complete ✅ (2 CPUs, 12.7 GB RAM, 27.2/107.7 GB disk)\n",
            "Downloading https://github.com/ultralytics/assets/releases/download/v0.0.0/yolov8m.pt to 'yolov8m.pt'...\n"
          ]
        },
        {
          "output_type": "stream",
          "name": "stderr",
          "text": [
            "100%|██████████| 49.7M/49.7M [00:00<00:00, 184MB/s]\n"
          ]
        },
        {
          "output_type": "stream",
          "name": "stdout",
          "text": [
            "Downloading https://github.com/ultralytics/assets/releases/download/v0.0.0/yolov8s.pt to 'yolov8s.pt'...\n"
          ]
        },
        {
          "output_type": "stream",
          "name": "stderr",
          "text": [
            "100%|██████████| 21.5M/21.5M [00:00<00:00, 153MB/s]\n"
          ]
        },
        {
          "output_type": "stream",
          "name": "stdout",
          "text": [
            "Downloading https://github.com/ultralytics/assets/releases/download/v0.0.0/yolov8l.pt to 'yolov8l.pt'...\n"
          ]
        },
        {
          "output_type": "stream",
          "name": "stderr",
          "text": [
            "100%|██████████| 83.7M/83.7M [00:00<00:00, 148MB/s]\n"
          ]
        },
        {
          "output_type": "stream",
          "name": "stdout",
          "text": [
            "----------------------------\n",
            "DETECTING OBJECTS IN : traffic 2.mp4 : \n",
            "RESOLUTION : 1280x720\n",
            "SAVING TO :/content/video_object_detection_results/yolov8n -- traffic 2.avi\n",
            "Error reading frame\n",
            "26\n",
            "[8, 7, 6, 5, 4, 3, 2, 1, 9, 10, 12, 11, 13, 15, 17, 18, 19, 21, 22, 26, 27, 25, 29, 30, 32, 33]\n",
            "----------------------------\n",
            "DETECTING OBJECTS IN : traffic 2.mp4 : \n",
            "RESOLUTION : 1280x720\n",
            "SAVING TO :/content/video_object_detection_results/yolov8m -- traffic 2.avi\n",
            "Error reading frame\n",
            "25\n",
            "[43, 42, 41, 40, 39, 38, 44, 45, 46, 47, 48, 49, 55, 56, 58, 61, 60, 62, 57, 66, 69, 64, 70, 73, 74]\n",
            "----------------------------\n",
            "DETECTING OBJECTS IN : traffic 2.mp4 : \n",
            "RESOLUTION : 1280x720\n",
            "SAVING TO :/content/video_object_detection_results/yolov8s -- traffic 2.avi\n",
            "Error reading frame\n",
            "20\n",
            "[85, 84, 83, 82, 81, 80, 86, 89, 87, 90, 96, 99, 103, 105, 108, 112, 111, 113, 118, 119]\n",
            "----------------------------\n",
            "DETECTING OBJECTS IN : traffic 2.mp4 : \n",
            "RESOLUTION : 1280x720\n",
            "SAVING TO :/content/video_object_detection_results/yolov8l -- traffic 2.avi\n",
            "Error reading frame\n",
            "29\n",
            "[130, 129, 128, 127, 126, 125, 124, 123, 131, 132, 133, 135, 136, 141, 144, 145, 142, 147, 146, 149, 150, 151, 157, 159, 160, 156, 164, 167, 166]\n",
            "  adding: content/video_object_detection_results/ (stored 0%)\n",
            "  adding: content/video_object_detection_results/yolov8l -- traffic 2.avi (deflated 0%)\n",
            "  adding: content/video_object_detection_results/yolov8n -- traffic 2.avi (deflated 0%)\n",
            "  adding: content/video_object_detection_results/yolov8m -- traffic 2.avi (deflated 0%)\n",
            "  adding: content/video_object_detection_results/yolov8s -- traffic 2.avi (deflated 0%)\n"
          ]
        }
      ],
      "source": [
        "!git clone https://github.com/mohamedamine99/Object-tracking-and-counting-using-YOLOV8\n",
        "\n",
        "import shutil\n",
        "import os\n",
        "\n",
        "src_path = \"/content/Object-tracking-and-counting-using-YOLOV8/sort.py\"\n",
        "dest_path = \"/content\"\n",
        "\n",
        "# copy file from source to destination\n",
        "shutil.copy(src_path, dest_path)\n",
        "\n",
        "src_path = \"/content/Object-tracking-and-counting-using-YOLOV8/requirements.txt\"\n",
        "shutil.copy(src_path, dest_path)\n",
        "\n",
        "src_path = \"/content/Object-tracking-and-counting-using-YOLOV8/yolo_detect_and_count.py\"\n",
        "shutil.copy(src_path, dest_path)\n",
        "\n",
        "!pip install -r /content/requirements.txt\n",
        "\n",
        "\n",
        "import numpy as np\n",
        "import random\n",
        "import cv2\n",
        "import sort\n",
        "import time\n",
        "\n",
        "\n",
        "%pip install ultralytics\n",
        "import ultralytics\n",
        "ultralytics.checks()\n",
        "from ultralytics import YOLO\n",
        "\n",
        "\n",
        "from yolo_detect_and_count import YOLOv8_ObjectDetector, YOLOv8_ObjectCounter\n",
        "\n",
        "\n",
        "vid_results_path = '/content/video_object_detection_results'\n",
        "test_vids_path = '/content/Object-tracking-and-counting-using-YOLOV8/test vids'\n",
        "\n",
        "\n",
        "if not os.path.isdir(vid_results_path):\n",
        "    os.makedirs(vid_results_path)\n",
        "\n",
        "\n",
        "yolo_names = ['yolov8n.pt', 'yolov8m.pt', 'yolov8s.pt',  'yolov8l.pt']\n",
        "colors = []\n",
        "for _ in range(80):\n",
        "    rand_tuple = (random.randint(50, 255), random.randint(50, 255), random.randint(50, 255))\n",
        "    colors.append(rand_tuple)\n",
        "\n",
        "\n",
        "\n",
        "counters = []\n",
        "for yolo_name in yolo_names:\n",
        "    counter = YOLOv8_ObjectCounter(yolo_name, conf = 0.60 )\n",
        "    counters.append(counter)\n",
        "\n",
        "\n",
        "for counter in counters:\n",
        "    counter.predict_video(video_path= '/content/Object-tracking-and-counting-using-YOLOV8/test vids/traffic 2.mp4'\n",
        ", save_dir = vid_results_path, save_format = \"avi\", display = 'custom', colors = colors)\n",
        "\n",
        "\n",
        "!zip -r vid_results.zip /content/video_object_detection_results\n"
      ]
    },
    {
      "cell_type": "code",
      "source": [],
      "metadata": {
        "id": "nK65pi0b1dgh"
      },
      "execution_count": null,
      "outputs": []
    }
  ],
  "metadata": {
    "colab": {
      "provenance": [],
      "mount_file_id": "1Va3MZiwJdjz1jrJyHeN98yPGlimwnbDR",
      "authorship_tag": "ABX9TyOaZ+KLrwTsVwT6qDRJrT2q",
      "include_colab_link": true
    },
    "kernelspec": {
      "display_name": "Python 3",
      "name": "python3"
    },
    "language_info": {
      "name": "python"
    }
  },
  "nbformat": 4,
  "nbformat_minor": 0
}