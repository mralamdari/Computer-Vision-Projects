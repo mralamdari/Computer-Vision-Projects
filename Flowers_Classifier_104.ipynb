{
  "nbformat": 4,
  "nbformat_minor": 0,
  "metadata": {
    "colab": {
      "provenance": [],
      "collapsed_sections": [],
      "authorship_tag": "ABX9TyMGoEmODkJCDvrpDQfL2bGj",
      "include_colab_link": true
    },
    "kernelspec": {
      "name": "python3",
      "display_name": "Python 3"
    },
    "language_info": {
      "name": "python"
    }
  },
  "cells": [
    {
      "cell_type": "markdown",
      "metadata": {
        "id": "view-in-github",
        "colab_type": "text"
      },
      "source": [
        "<a href=\"https://colab.research.google.com/github/mralamdari/Computer-Vision-Projects/blob/main/Machine_Perception_with_Flowers_Classifier.ipynb\" target=\"_parent\"><img src=\"https://colab.research.google.com/assets/colab-badge.svg\" alt=\"Open In Colab\"/></a>"
      ]
    },
    {
      "cell_type": "markdown",
      "source": [
        "###Hello 🙌\n",
        "In this Notebook, A Classifier is implemented in TensorFlow to classify images of [Flowers dataset](https://www.tensorflow.org/datasets/catalog/tf_flowers) from tensorflow, It contains 3670 images falling into 5 categories:\n",
        "\n",
        "\n",
        "*   Daisy 💐\n",
        "*   Roses 🌹\n",
        "*   Dandelion 💮\n",
        "*   SunFlower 🌻\n",
        "*   Tulip 🌷\n",
        "\n",
        "you can access it from here:\n",
        "\n",
        "```gs://practical-ml-vision-book/flowers_5_jpeg/flower_photos/```\n",
        "\n"
      ],
      "metadata": {
        "id": "6Ohxs5wsLjS0"
      }
    },
    {
      "cell_type": "markdown",
      "source": [
        "### Import Neccessary Libraries 🐾"
      ],
      "metadata": {
        "id": "zc3bL53sOi9H"
      }
    },
    {
      "cell_type": "code",
      "execution_count": null,
      "metadata": {
        "id": "Tmw9hJYxLG4Y"
      },
      "outputs": [],
      "source": [
        "import numpy as np\n",
        "import tensorflow as tf\n",
        "import matplotlib.pyplot as plt"
      ]
    },
    {
      "cell_type": "code",
      "source": [
        "print(tf.version.VERSION)"
      ],
      "metadata": {
        "colab": {
          "base_uri": "https://localhost:8080/"
        },
        "id": "K_Mj5o_FN21P",
        "outputId": "79be2f03-b300-4ff0-8849-253eb199d1b5"
      },
      "execution_count": null,
      "outputs": [
        {
          "output_type": "stream",
          "name": "stdout",
          "text": [
            "2.9.2\n"
          ]
        }
      ]
    },
    {
      "cell_type": "code",
      "source": [
        "gpu_name = tf.test.gpu_device_name()\n",
        "print(f'The GPU found at: {gpu_name}')"
      ],
      "metadata": {
        "colab": {
          "base_uri": "https://localhost:8080/"
        },
        "id": "Y0vOsX8mN8zS",
        "outputId": "2f36882b-57ae-45aa-d7a2-e2708722fd9f"
      },
      "execution_count": null,
      "outputs": [
        {
          "output_type": "stream",
          "name": "stdout",
          "text": [
            "The GPU found at: \n"
          ]
        }
      ]
    },
    {
      "cell_type": "markdown",
      "source": [
        "### Get Data ⚓"
      ],
      "metadata": {
        "id": "Yg7-0Lg-Ooj2"
      }
    },
    {
      "cell_type": "code",
      "source": [
        "path = 'gs://practical-ml-vision-book/flowers_5_jpeg/flower_photos/'\n",
        "\n",
        "!gsutil cat gs://practical-ml-vision-book/flowers_5_jpeg/flower_photos/train_set.csv | head -50"
      ],
      "metadata": {
        "id": "B1tMwvlGODaD"
      },
      "execution_count": null,
      "outputs": []
    },
    {
      "cell_type": "markdown",
      "source": [
        "As tou can see, data \"\"TRAIN_SET\"\" has a path to each Image and It's type as well.\n",
        "\n",
        "For Example:\n",
        "\n",
        "```\n",
        "gs://practical-ml-vision-book/flowers_5_jpeg/flower_photos/daisy/10712722853_5632165b04.jpg,daisy\n",
        "```\n",
        "\n",
        "Has the Format:\n",
        "\n",
        "\n",
        "```\n",
        "PATH, Flower_Type\n",
        "```\n",
        "\n",
        "\n"
      ],
      "metadata": {
        "id": "cRp16tnsOwvn"
      }
    },
    {
      "cell_type": "markdown",
      "source": [
        "### Reading the Images 📖"
      ],
      "metadata": {
        "id": "8o2L-nRHPvc0"
      }
    },
    {
      "cell_type": "code",
      "source": [
        "def Image_read_decoder(filename, reshape_dims=(224, 224)):\n",
        "  img = tf.io.read_file(filename) #Read the Image as a compressed String.\n",
        "  img = tf.image.decode_jpeg(img, channels=3) #Decode The Compressed String to a 3-D unit8 Tensor.\n",
        "  img = tf.image.convert_image_dtype(img, tf.float32) #Normalize the Tensors in to [0, 1] Range\n",
        "  img = tf.image.resize(img, reshape_dims)\n",
        "  return img"
      ],
      "metadata": {
        "id": "YpRShaaTOth3"
      },
      "execution_count": null,
      "outputs": []
    },
    {
      "cell_type": "code",
      "source": [
        "sample_img = f\"{path}dandelion/18089878729_907ed2c7cd_m.jpg\"\n",
        "Image_read_decoder(sample_img, (224, 224))"
      ],
      "metadata": {
        "id": "4JB9feihRVKF"
      },
      "execution_count": null,
      "outputs": []
    },
    {
      "cell_type": "code",
      "source": [
        "all_paths = tf.io.gfile.glob(f'{path}*')\n",
        "path_names = tf.strings.regex_replace(all_paths, path, \"\")\n",
        "class_names = list()\n",
        "for p in path_names:\n",
        "  decoded_name = p.numpy().decode('utf-8')\n",
        "  if decoded_name.find('.') < 0:\n",
        "    class_names.append(decoded_name)\n",
        "print(class_names)"
      ],
      "metadata": {
        "colab": {
          "base_uri": "https://localhost:8080/"
        },
        "id": "3eLj8fCSVEG1",
        "outputId": "f1ab1bc2-af73-47e4-d0e7-e6c161c13975"
      },
      "execution_count": null,
      "outputs": [
        {
          "output_type": "stream",
          "name": "stdout",
          "text": [
            "['daisy', 'dandelion', 'roses', 'sunflowers', 'tulips']\n"
          ]
        }
      ]
    },
    {
      "cell_type": "markdown",
      "source": [
        "#### So All the images are in 5 categories:\n",
        "\n",
        "\n",
        "```\n",
        "'daisy', 'dandelion', 'roses', 'sunflowers', 'tulips'\n",
        "```\n",
        "\n"
      ],
      "metadata": {
        "id": "7giAnPolnYLU"
      }
    },
    {
      "cell_type": "markdown",
      "source": [
        "### Image Visualization 👀"
      ],
      "metadata": {
        "id": "sI7HXXkGd_Ju"
      }
    },
    {
      "cell_type": "code",
      "source": [
        "def show_img(img_path):\n",
        "  img = Image_read_decoder(img_path)\n",
        "  plt.imshow(img.numpy())"
      ],
      "metadata": {
        "id": "HlXZFEYNVfDk"
      },
      "execution_count": null,
      "outputs": []
    },
    {
      "cell_type": "code",
      "source": [
        "show_img(sample_img)"
      ],
      "metadata": {
        "id": "ptA3jm5ie-88"
      },
      "execution_count": null,
      "outputs": []
    },
    {
      "cell_type": "markdown",
      "source": [
        "Did you enjoy it? 🙂 let's Visualize more images 🥳 🥳 🥳"
      ],
      "metadata": {
        "id": "AybcrDbOflCK"
      }
    },
    {
      "cell_type": "markdown",
      "source": [
        "Look at These Lovely Daisies 💐"
      ],
      "metadata": {
        "id": "rs7lWwtInQem"
      }
    },
    {
      "cell_type": "code",
      "source": [
        "fig, ax = plt.subplots(1, 5, figsize=(10, 10))\n",
        "files_path = tf.io.gfile.glob(f'{path}{class_names[0]}/*.jpg')[:5]\n",
        "for ind, img_path in enumerate(files_path):\n",
        "    img = Image_read_decoder(img_path)\n",
        "    ax[ind].imshow((img.numpy()))\n",
        "    ax[ind].axis('off')"
      ],
      "metadata": {
        "id": "haj84KrhfIaW"
      },
      "execution_count": null,
      "outputs": []
    },
    {
      "cell_type": "markdown",
      "source": [
        "Do you love dandelions? 💮"
      ],
      "metadata": {
        "id": "sauvx0_tntmw"
      }
    },
    {
      "cell_type": "code",
      "source": [
        "fig, ax = plt.subplots(1, 5, figsize=(10, 10))\n",
        "files_path = tf.io.gfile.glob(f'{path}{class_names[1]}/*.jpg')[:5]\n",
        "for ind, img_path in enumerate(files_path):\n",
        "    img = Image_read_decoder(img_path)\n",
        "    ax[ind].imshow((img.numpy()))\n",
        "    ax[ind].axis('off')"
      ],
      "metadata": {
        "id": "3fKKiYnCkXsG"
      },
      "execution_count": null,
      "outputs": []
    },
    {
      "cell_type": "markdown",
      "source": [
        "I know The Roses 🌹 are the most favorite ones"
      ],
      "metadata": {
        "id": "-Kd34oJIoPE2"
      }
    },
    {
      "cell_type": "code",
      "source": [
        "fig, ax = plt.subplots(1, 5, figsize=(10, 10))\n",
        "files_path = tf.io.gfile.glob(f'{path}{class_names[2]}/*.jpg')[:5]\n",
        "for ind, img_path in enumerate(files_path):\n",
        "    img = Image_read_decoder(img_path)\n",
        "    ax[ind].imshow((img.numpy()))\n",
        "    ax[ind].axis('off')"
      ],
      "metadata": {
        "id": "ZheuSgB5nD7r"
      },
      "execution_count": null,
      "outputs": []
    },
    {
      "cell_type": "markdown",
      "source": [
        "Do you Love SunFlower 🌻 for Itself or It's achene?"
      ],
      "metadata": {
        "id": "lXQBrclQolyb"
      }
    },
    {
      "cell_type": "code",
      "source": [
        "fig, ax = plt.subplots(1, 5, figsize=(10, 10))\n",
        "files_path = tf.io.gfile.glob(f'{path}{class_names[3]}/*.jpg')[:5]\n",
        "for ind, img_path in enumerate(files_path):\n",
        "    img = Image_read_decoder(img_path)\n",
        "    ax[ind].imshow((img.numpy()))\n",
        "    ax[ind].axis('off')"
      ],
      "metadata": {
        "id": "tR4D4DM4nFzH"
      },
      "execution_count": null,
      "outputs": []
    },
    {
      "cell_type": "markdown",
      "source": [
        "Tulips 🌷 are my favorites"
      ],
      "metadata": {
        "id": "Nz7rQRkKo-SC"
      }
    },
    {
      "cell_type": "code",
      "source": [
        "fig, ax = plt.subplots(1, 5, figsize=(10, 10))\n",
        "files_path = tf.io.gfile.glob(f'{path}{class_names[4]}/*.jpg')[:5]\n",
        "for ind, img_path in enumerate(files_path):\n",
        "    img = Image_read_decoder(img_path)\n",
        "    ax[ind].imshow((img.numpy()))\n",
        "    ax[ind].axis('off')"
      ],
      "metadata": {
        "id": "DwYIbsYInKC7"
      },
      "execution_count": null,
      "outputs": []
    },
    {
      "cell_type": "code",
      "source": [],
      "metadata": {
        "id": "cgxD7Q1FpEA-"
      },
      "execution_count": null,
      "outputs": []
    }
  ]
}
