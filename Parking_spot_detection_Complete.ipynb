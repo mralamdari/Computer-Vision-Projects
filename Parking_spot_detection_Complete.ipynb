{
  "cells": [
    {
      "cell_type": "markdown",
      "metadata": {
        "id": "view-in-github",
        "colab_type": "text"
      },
      "source": [
        "<a href=\"https://colab.research.google.com/github/mralamdari/Computer-Vision-Projects/blob/main/Parking_spot_detection_Complete.ipynb\" target=\"_parent\"><img src=\"https://colab.research.google.com/assets/colab-badge.svg\" alt=\"Open In Colab\"/></a>"
      ]
    },
    {
      "cell_type": "code",
      "execution_count": 1,
      "metadata": {
        "id": "-y3mBR5vuiw_"
      },
      "outputs": [],
      "source": [
        "import os\n",
        "import cv2\n",
        "import pickle\n",
        "import shutil\n",
        "import sklearn\n",
        "import skimage\n",
        "import zipfile\n",
        "import IPython\n",
        "import scipy.io\n",
        "import numpy as np\n",
        "import pandas as pd\n",
        "from tqdm import tqdm\n",
        "import tensorflow as tf\n",
        "from sklearn import svm\n",
        "import tensorflow_datasets\n",
        "from sklearn import metrics\n",
        "import matplotlib.pyplot as plt\n",
        "import xml.etree.ElementTree as ET\n",
        "from sklearn import model_selection"
      ]
    },
    {
      "cell_type": "code",
      "source": [
        "os.environ['KAGGLE_CONFIG_DIR'] = '/content/drive/MyDrive'\n",
        "!kaggle datasets download -d blanderbuss/parking-lot-dataset\n",
        "!unzip \\*.zip && rm *.zip\n",
        "IPython.display.clear_output()"
      ],
      "metadata": {
        "id": "nem2BExslcqu"
      },
      "execution_count": 2,
      "outputs": []
    },
    {
      "cell_type": "markdown",
      "metadata": {
        "id": "TsQYxqEyaaj7"
      },
      "source": [
        "#Image Classifier\n",
        "At first we need to create a model to predict if a spot shown in the image is Empty or Occupied.\n",
        "\n",
        "We use the [**parking lot dataset**](https://www.kaggle.com/datasets/blanderbuss/parking-lot-dataset) from kaggle for both classification and detection tasks."
      ]
    },
    {
      "cell_type": "markdown",
      "source": [
        "###Data"
      ],
      "metadata": {
        "id": "8Cpg_eJmyMXZ"
      }
    },
    {
      "cell_type": "code",
      "execution_count": null,
      "metadata": {
        "id": "su8_6GkGZtml"
      },
      "outputs": [],
      "source": [
        "cls_data = './PKLot/PKLotSegmented'\n",
        "train_path = './data/train'\n",
        "val_path   = './data/validation'\n",
        "os.makedirs(train_path, exist_ok=True)\n",
        "os.makedirs(val_path, exist_ok=True)\n",
        "\n",
        "VAL_THRESHOLD = 0.2"
      ]
    },
    {
      "cell_type": "code",
      "execution_count": null,
      "metadata": {
        "colab": {
          "base_uri": "https://localhost:8080/",
          "height": 423
        },
        "id": "8cb7RSFnYIZL",
        "outputId": "722c7675-d7df-483c-8933-7e67a6caa679"
      },
      "outputs": [
        {
          "output_type": "execute_result",
          "data": {
            "text/plain": [
              "                                                path  label\n",
              "0      ./data/validation/2013-03-14_06_55_01#024.jpg      0\n",
              "1           ./data/train/2013-03-14_06_50_01#012.jpg      0\n",
              "2           ./data/train/2013-03-14_18_31_06#028.jpg      0\n",
              "3      ./data/validation/2013-03-14_06_40_00#033.jpg      0\n",
              "4      ./data/validation/2013-03-14_18_11_06#002.jpg      0\n",
              "...                                              ...    ...\n",
              "19981       ./data/train/2012-12-15_17_10_14#002.jpg      0\n",
              "19982       ./data/train/2012-12-15_16_55_14#011.jpg      0\n",
              "19983       ./data/train/2012-12-15_17_05_14#003.jpg      0\n",
              "19984  ./data/validation/2012-12-15_17_20_14#015.jpg      0\n",
              "19985       ./data/train/2012-12-15_16_30_13#010.jpg      1\n",
              "\n",
              "[19986 rows x 2 columns]"
            ],
            "text/html": [
              "\n",
              "  <div id=\"df-4bc69613-0f73-415e-8b5e-7776f676aa09\" class=\"colab-df-container\">\n",
              "    <div>\n",
              "<style scoped>\n",
              "    .dataframe tbody tr th:only-of-type {\n",
              "        vertical-align: middle;\n",
              "    }\n",
              "\n",
              "    .dataframe tbody tr th {\n",
              "        vertical-align: top;\n",
              "    }\n",
              "\n",
              "    .dataframe thead th {\n",
              "        text-align: right;\n",
              "    }\n",
              "</style>\n",
              "<table border=\"1\" class=\"dataframe\">\n",
              "  <thead>\n",
              "    <tr style=\"text-align: right;\">\n",
              "      <th></th>\n",
              "      <th>path</th>\n",
              "      <th>label</th>\n",
              "    </tr>\n",
              "  </thead>\n",
              "  <tbody>\n",
              "    <tr>\n",
              "      <th>0</th>\n",
              "      <td>./data/validation/2013-03-14_06_55_01#024.jpg</td>\n",
              "      <td>0</td>\n",
              "    </tr>\n",
              "    <tr>\n",
              "      <th>1</th>\n",
              "      <td>./data/train/2013-03-14_06_50_01#012.jpg</td>\n",
              "      <td>0</td>\n",
              "    </tr>\n",
              "    <tr>\n",
              "      <th>2</th>\n",
              "      <td>./data/train/2013-03-14_18_31_06#028.jpg</td>\n",
              "      <td>0</td>\n",
              "    </tr>\n",
              "    <tr>\n",
              "      <th>3</th>\n",
              "      <td>./data/validation/2013-03-14_06_40_00#033.jpg</td>\n",
              "      <td>0</td>\n",
              "    </tr>\n",
              "    <tr>\n",
              "      <th>4</th>\n",
              "      <td>./data/validation/2013-03-14_18_11_06#002.jpg</td>\n",
              "      <td>0</td>\n",
              "    </tr>\n",
              "    <tr>\n",
              "      <th>...</th>\n",
              "      <td>...</td>\n",
              "      <td>...</td>\n",
              "    </tr>\n",
              "    <tr>\n",
              "      <th>19981</th>\n",
              "      <td>./data/train/2012-12-15_17_10_14#002.jpg</td>\n",
              "      <td>0</td>\n",
              "    </tr>\n",
              "    <tr>\n",
              "      <th>19982</th>\n",
              "      <td>./data/train/2012-12-15_16_55_14#011.jpg</td>\n",
              "      <td>0</td>\n",
              "    </tr>\n",
              "    <tr>\n",
              "      <th>19983</th>\n",
              "      <td>./data/train/2012-12-15_17_05_14#003.jpg</td>\n",
              "      <td>0</td>\n",
              "    </tr>\n",
              "    <tr>\n",
              "      <th>19984</th>\n",
              "      <td>./data/validation/2012-12-15_17_20_14#015.jpg</td>\n",
              "      <td>0</td>\n",
              "    </tr>\n",
              "    <tr>\n",
              "      <th>19985</th>\n",
              "      <td>./data/train/2012-12-15_16_30_13#010.jpg</td>\n",
              "      <td>1</td>\n",
              "    </tr>\n",
              "  </tbody>\n",
              "</table>\n",
              "<p>19986 rows × 2 columns</p>\n",
              "</div>\n",
              "    <div class=\"colab-df-buttons\">\n",
              "\n",
              "  <div class=\"colab-df-container\">\n",
              "    <button class=\"colab-df-convert\" onclick=\"convertToInteractive('df-4bc69613-0f73-415e-8b5e-7776f676aa09')\"\n",
              "            title=\"Convert this dataframe to an interactive table.\"\n",
              "            style=\"display:none;\">\n",
              "\n",
              "  <svg xmlns=\"http://www.w3.org/2000/svg\" height=\"24px\" viewBox=\"0 -960 960 960\">\n",
              "    <path d=\"M120-120v-720h720v720H120Zm60-500h600v-160H180v160Zm220 220h160v-160H400v160Zm0 220h160v-160H400v160ZM180-400h160v-160H180v160Zm440 0h160v-160H620v160ZM180-180h160v-160H180v160Zm440 0h160v-160H620v160Z\"/>\n",
              "  </svg>\n",
              "    </button>\n",
              "\n",
              "  <style>\n",
              "    .colab-df-container {\n",
              "      display:flex;\n",
              "      gap: 12px;\n",
              "    }\n",
              "\n",
              "    .colab-df-convert {\n",
              "      background-color: #E8F0FE;\n",
              "      border: none;\n",
              "      border-radius: 50%;\n",
              "      cursor: pointer;\n",
              "      display: none;\n",
              "      fill: #1967D2;\n",
              "      height: 32px;\n",
              "      padding: 0 0 0 0;\n",
              "      width: 32px;\n",
              "    }\n",
              "\n",
              "    .colab-df-convert:hover {\n",
              "      background-color: #E2EBFA;\n",
              "      box-shadow: 0px 1px 2px rgba(60, 64, 67, 0.3), 0px 1px 3px 1px rgba(60, 64, 67, 0.15);\n",
              "      fill: #174EA6;\n",
              "    }\n",
              "\n",
              "    .colab-df-buttons div {\n",
              "      margin-bottom: 4px;\n",
              "    }\n",
              "\n",
              "    [theme=dark] .colab-df-convert {\n",
              "      background-color: #3B4455;\n",
              "      fill: #D2E3FC;\n",
              "    }\n",
              "\n",
              "    [theme=dark] .colab-df-convert:hover {\n",
              "      background-color: #434B5C;\n",
              "      box-shadow: 0px 1px 3px 1px rgba(0, 0, 0, 0.15);\n",
              "      filter: drop-shadow(0px 1px 2px rgba(0, 0, 0, 0.3));\n",
              "      fill: #FFFFFF;\n",
              "    }\n",
              "  </style>\n",
              "\n",
              "    <script>\n",
              "      const buttonEl =\n",
              "        document.querySelector('#df-4bc69613-0f73-415e-8b5e-7776f676aa09 button.colab-df-convert');\n",
              "      buttonEl.style.display =\n",
              "        google.colab.kernel.accessAllowed ? 'block' : 'none';\n",
              "\n",
              "      async function convertToInteractive(key) {\n",
              "        const element = document.querySelector('#df-4bc69613-0f73-415e-8b5e-7776f676aa09');\n",
              "        const dataTable =\n",
              "          await google.colab.kernel.invokeFunction('convertToInteractive',\n",
              "                                                    [key], {});\n",
              "        if (!dataTable) return;\n",
              "\n",
              "        const docLinkHtml = 'Like what you see? Visit the ' +\n",
              "          '<a target=\"_blank\" href=https://colab.research.google.com/notebooks/data_table.ipynb>data table notebook</a>'\n",
              "          + ' to learn more about interactive tables.';\n",
              "        element.innerHTML = '';\n",
              "        dataTable['output_type'] = 'display_data';\n",
              "        await google.colab.output.renderOutput(dataTable, element);\n",
              "        const docLink = document.createElement('div');\n",
              "        docLink.innerHTML = docLinkHtml;\n",
              "        element.appendChild(docLink);\n",
              "      }\n",
              "    </script>\n",
              "  </div>\n",
              "\n",
              "\n",
              "<div id=\"df-00af6cf9-d4c5-437a-9bc3-2420be832741\">\n",
              "  <button class=\"colab-df-quickchart\" onclick=\"quickchart('df-00af6cf9-d4c5-437a-9bc3-2420be832741')\"\n",
              "            title=\"Suggest charts.\"\n",
              "            style=\"display:none;\">\n",
              "\n",
              "<svg xmlns=\"http://www.w3.org/2000/svg\" height=\"24px\"viewBox=\"0 0 24 24\"\n",
              "     width=\"24px\">\n",
              "    <g>\n",
              "        <path d=\"M19 3H5c-1.1 0-2 .9-2 2v14c0 1.1.9 2 2 2h14c1.1 0 2-.9 2-2V5c0-1.1-.9-2-2-2zM9 17H7v-7h2v7zm4 0h-2V7h2v10zm4 0h-2v-4h2v4z\"/>\n",
              "    </g>\n",
              "</svg>\n",
              "  </button>\n",
              "\n",
              "<style>\n",
              "  .colab-df-quickchart {\n",
              "      --bg-color: #E8F0FE;\n",
              "      --fill-color: #1967D2;\n",
              "      --hover-bg-color: #E2EBFA;\n",
              "      --hover-fill-color: #174EA6;\n",
              "      --disabled-fill-color: #AAA;\n",
              "      --disabled-bg-color: #DDD;\n",
              "  }\n",
              "\n",
              "  [theme=dark] .colab-df-quickchart {\n",
              "      --bg-color: #3B4455;\n",
              "      --fill-color: #D2E3FC;\n",
              "      --hover-bg-color: #434B5C;\n",
              "      --hover-fill-color: #FFFFFF;\n",
              "      --disabled-bg-color: #3B4455;\n",
              "      --disabled-fill-color: #666;\n",
              "  }\n",
              "\n",
              "  .colab-df-quickchart {\n",
              "    background-color: var(--bg-color);\n",
              "    border: none;\n",
              "    border-radius: 50%;\n",
              "    cursor: pointer;\n",
              "    display: none;\n",
              "    fill: var(--fill-color);\n",
              "    height: 32px;\n",
              "    padding: 0;\n",
              "    width: 32px;\n",
              "  }\n",
              "\n",
              "  .colab-df-quickchart:hover {\n",
              "    background-color: var(--hover-bg-color);\n",
              "    box-shadow: 0 1px 2px rgba(60, 64, 67, 0.3), 0 1px 3px 1px rgba(60, 64, 67, 0.15);\n",
              "    fill: var(--button-hover-fill-color);\n",
              "  }\n",
              "\n",
              "  .colab-df-quickchart-complete:disabled,\n",
              "  .colab-df-quickchart-complete:disabled:hover {\n",
              "    background-color: var(--disabled-bg-color);\n",
              "    fill: var(--disabled-fill-color);\n",
              "    box-shadow: none;\n",
              "  }\n",
              "\n",
              "  .colab-df-spinner {\n",
              "    border: 2px solid var(--fill-color);\n",
              "    border-color: transparent;\n",
              "    border-bottom-color: var(--fill-color);\n",
              "    animation:\n",
              "      spin 1s steps(1) infinite;\n",
              "  }\n",
              "\n",
              "  @keyframes spin {\n",
              "    0% {\n",
              "      border-color: transparent;\n",
              "      border-bottom-color: var(--fill-color);\n",
              "      border-left-color: var(--fill-color);\n",
              "    }\n",
              "    20% {\n",
              "      border-color: transparent;\n",
              "      border-left-color: var(--fill-color);\n",
              "      border-top-color: var(--fill-color);\n",
              "    }\n",
              "    30% {\n",
              "      border-color: transparent;\n",
              "      border-left-color: var(--fill-color);\n",
              "      border-top-color: var(--fill-color);\n",
              "      border-right-color: var(--fill-color);\n",
              "    }\n",
              "    40% {\n",
              "      border-color: transparent;\n",
              "      border-right-color: var(--fill-color);\n",
              "      border-top-color: var(--fill-color);\n",
              "    }\n",
              "    60% {\n",
              "      border-color: transparent;\n",
              "      border-right-color: var(--fill-color);\n",
              "    }\n",
              "    80% {\n",
              "      border-color: transparent;\n",
              "      border-right-color: var(--fill-color);\n",
              "      border-bottom-color: var(--fill-color);\n",
              "    }\n",
              "    90% {\n",
              "      border-color: transparent;\n",
              "      border-bottom-color: var(--fill-color);\n",
              "    }\n",
              "  }\n",
              "</style>\n",
              "\n",
              "  <script>\n",
              "    async function quickchart(key) {\n",
              "      const quickchartButtonEl =\n",
              "        document.querySelector('#' + key + ' button');\n",
              "      quickchartButtonEl.disabled = true;  // To prevent multiple clicks.\n",
              "      quickchartButtonEl.classList.add('colab-df-spinner');\n",
              "      try {\n",
              "        const charts = await google.colab.kernel.invokeFunction(\n",
              "            'suggestCharts', [key], {});\n",
              "      } catch (error) {\n",
              "        console.error('Error during call to suggestCharts:', error);\n",
              "      }\n",
              "      quickchartButtonEl.classList.remove('colab-df-spinner');\n",
              "      quickchartButtonEl.classList.add('colab-df-quickchart-complete');\n",
              "    }\n",
              "    (() => {\n",
              "      let quickchartButtonEl =\n",
              "        document.querySelector('#df-00af6cf9-d4c5-437a-9bc3-2420be832741 button');\n",
              "      quickchartButtonEl.style.display =\n",
              "        google.colab.kernel.accessAllowed ? 'block' : 'none';\n",
              "    })();\n",
              "  </script>\n",
              "</div>\n",
              "    </div>\n",
              "  </div>\n"
            ]
          },
          "metadata": {},
          "execution_count": 4
        }
      ],
      "source": [
        "#since the models are big so we need to select only a portion of the data so the ram won't get fulled\n",
        "limit = 80\n",
        "data_arr = []\n",
        "\n",
        "for cat in os.listdir(cls_data):\n",
        "  for crs in os.listdir(cls_data+'/'+cat):\n",
        "    for day in os.listdir(cls_data+'/'+cat+'/'+crs):\n",
        "      for E_O in os.listdir(cls_data+'/'+cat+'/'+crs+'/'+day):\n",
        "        for img in os.listdir(cls_data+'/'+cat+'/'+crs+'/'+day+'/'+E_O)[:limit]:\n",
        "          path = os.path.join(cls_data, cat, crs, day, E_O, img)\n",
        "          folder_name = train_path if np.random.randn()<VAL_THRESHOLD else val_path\n",
        "          target = os.path.join(folder_name, img)\n",
        "          label = 0 if E_O == 'Empty' else 1\n",
        "          data_arr.append([target, label])\n",
        "          os.replace(path, target)\n",
        "\n",
        "\n",
        "data = pd.DataFrame(data_arr, columns=['path', 'label'])\n",
        "data"
      ]
    },
    {
      "cell_type": "code",
      "execution_count": null,
      "metadata": {
        "colab": {
          "base_uri": "https://localhost:8080/",
          "height": 143
        },
        "id": "M5NVbBbcFWdQ",
        "outputId": "5231b29f-9f0e-44a6-fabb-0c6e701c9150"
      },
      "outputs": [
        {
          "output_type": "execute_result",
          "data": {
            "text/plain": [
              "        path\n",
              "label       \n",
              "0      10280\n",
              "1       9706"
            ],
            "text/html": [
              "\n",
              "  <div id=\"df-b9c4ab18-f47e-4c95-ba8b-c54f29a1b822\" class=\"colab-df-container\">\n",
              "    <div>\n",
              "<style scoped>\n",
              "    .dataframe tbody tr th:only-of-type {\n",
              "        vertical-align: middle;\n",
              "    }\n",
              "\n",
              "    .dataframe tbody tr th {\n",
              "        vertical-align: top;\n",
              "    }\n",
              "\n",
              "    .dataframe thead th {\n",
              "        text-align: right;\n",
              "    }\n",
              "</style>\n",
              "<table border=\"1\" class=\"dataframe\">\n",
              "  <thead>\n",
              "    <tr style=\"text-align: right;\">\n",
              "      <th></th>\n",
              "      <th>path</th>\n",
              "    </tr>\n",
              "    <tr>\n",
              "      <th>label</th>\n",
              "      <th></th>\n",
              "    </tr>\n",
              "  </thead>\n",
              "  <tbody>\n",
              "    <tr>\n",
              "      <th>0</th>\n",
              "      <td>10280</td>\n",
              "    </tr>\n",
              "    <tr>\n",
              "      <th>1</th>\n",
              "      <td>9706</td>\n",
              "    </tr>\n",
              "  </tbody>\n",
              "</table>\n",
              "</div>\n",
              "    <div class=\"colab-df-buttons\">\n",
              "\n",
              "  <div class=\"colab-df-container\">\n",
              "    <button class=\"colab-df-convert\" onclick=\"convertToInteractive('df-b9c4ab18-f47e-4c95-ba8b-c54f29a1b822')\"\n",
              "            title=\"Convert this dataframe to an interactive table.\"\n",
              "            style=\"display:none;\">\n",
              "\n",
              "  <svg xmlns=\"http://www.w3.org/2000/svg\" height=\"24px\" viewBox=\"0 -960 960 960\">\n",
              "    <path d=\"M120-120v-720h720v720H120Zm60-500h600v-160H180v160Zm220 220h160v-160H400v160Zm0 220h160v-160H400v160ZM180-400h160v-160H180v160Zm440 0h160v-160H620v160ZM180-180h160v-160H180v160Zm440 0h160v-160H620v160Z\"/>\n",
              "  </svg>\n",
              "    </button>\n",
              "\n",
              "  <style>\n",
              "    .colab-df-container {\n",
              "      display:flex;\n",
              "      gap: 12px;\n",
              "    }\n",
              "\n",
              "    .colab-df-convert {\n",
              "      background-color: #E8F0FE;\n",
              "      border: none;\n",
              "      border-radius: 50%;\n",
              "      cursor: pointer;\n",
              "      display: none;\n",
              "      fill: #1967D2;\n",
              "      height: 32px;\n",
              "      padding: 0 0 0 0;\n",
              "      width: 32px;\n",
              "    }\n",
              "\n",
              "    .colab-df-convert:hover {\n",
              "      background-color: #E2EBFA;\n",
              "      box-shadow: 0px 1px 2px rgba(60, 64, 67, 0.3), 0px 1px 3px 1px rgba(60, 64, 67, 0.15);\n",
              "      fill: #174EA6;\n",
              "    }\n",
              "\n",
              "    .colab-df-buttons div {\n",
              "      margin-bottom: 4px;\n",
              "    }\n",
              "\n",
              "    [theme=dark] .colab-df-convert {\n",
              "      background-color: #3B4455;\n",
              "      fill: #D2E3FC;\n",
              "    }\n",
              "\n",
              "    [theme=dark] .colab-df-convert:hover {\n",
              "      background-color: #434B5C;\n",
              "      box-shadow: 0px 1px 3px 1px rgba(0, 0, 0, 0.15);\n",
              "      filter: drop-shadow(0px 1px 2px rgba(0, 0, 0, 0.3));\n",
              "      fill: #FFFFFF;\n",
              "    }\n",
              "  </style>\n",
              "\n",
              "    <script>\n",
              "      const buttonEl =\n",
              "        document.querySelector('#df-b9c4ab18-f47e-4c95-ba8b-c54f29a1b822 button.colab-df-convert');\n",
              "      buttonEl.style.display =\n",
              "        google.colab.kernel.accessAllowed ? 'block' : 'none';\n",
              "\n",
              "      async function convertToInteractive(key) {\n",
              "        const element = document.querySelector('#df-b9c4ab18-f47e-4c95-ba8b-c54f29a1b822');\n",
              "        const dataTable =\n",
              "          await google.colab.kernel.invokeFunction('convertToInteractive',\n",
              "                                                    [key], {});\n",
              "        if (!dataTable) return;\n",
              "\n",
              "        const docLinkHtml = 'Like what you see? Visit the ' +\n",
              "          '<a target=\"_blank\" href=https://colab.research.google.com/notebooks/data_table.ipynb>data table notebook</a>'\n",
              "          + ' to learn more about interactive tables.';\n",
              "        element.innerHTML = '';\n",
              "        dataTable['output_type'] = 'display_data';\n",
              "        await google.colab.output.renderOutput(dataTable, element);\n",
              "        const docLink = document.createElement('div');\n",
              "        docLink.innerHTML = docLinkHtml;\n",
              "        element.appendChild(docLink);\n",
              "      }\n",
              "    </script>\n",
              "  </div>\n",
              "\n",
              "\n",
              "<div id=\"df-2049b773-4916-46d8-b85e-d9dc1d556363\">\n",
              "  <button class=\"colab-df-quickchart\" onclick=\"quickchart('df-2049b773-4916-46d8-b85e-d9dc1d556363')\"\n",
              "            title=\"Suggest charts.\"\n",
              "            style=\"display:none;\">\n",
              "\n",
              "<svg xmlns=\"http://www.w3.org/2000/svg\" height=\"24px\"viewBox=\"0 0 24 24\"\n",
              "     width=\"24px\">\n",
              "    <g>\n",
              "        <path d=\"M19 3H5c-1.1 0-2 .9-2 2v14c0 1.1.9 2 2 2h14c1.1 0 2-.9 2-2V5c0-1.1-.9-2-2-2zM9 17H7v-7h2v7zm4 0h-2V7h2v10zm4 0h-2v-4h2v4z\"/>\n",
              "    </g>\n",
              "</svg>\n",
              "  </button>\n",
              "\n",
              "<style>\n",
              "  .colab-df-quickchart {\n",
              "      --bg-color: #E8F0FE;\n",
              "      --fill-color: #1967D2;\n",
              "      --hover-bg-color: #E2EBFA;\n",
              "      --hover-fill-color: #174EA6;\n",
              "      --disabled-fill-color: #AAA;\n",
              "      --disabled-bg-color: #DDD;\n",
              "  }\n",
              "\n",
              "  [theme=dark] .colab-df-quickchart {\n",
              "      --bg-color: #3B4455;\n",
              "      --fill-color: #D2E3FC;\n",
              "      --hover-bg-color: #434B5C;\n",
              "      --hover-fill-color: #FFFFFF;\n",
              "      --disabled-bg-color: #3B4455;\n",
              "      --disabled-fill-color: #666;\n",
              "  }\n",
              "\n",
              "  .colab-df-quickchart {\n",
              "    background-color: var(--bg-color);\n",
              "    border: none;\n",
              "    border-radius: 50%;\n",
              "    cursor: pointer;\n",
              "    display: none;\n",
              "    fill: var(--fill-color);\n",
              "    height: 32px;\n",
              "    padding: 0;\n",
              "    width: 32px;\n",
              "  }\n",
              "\n",
              "  .colab-df-quickchart:hover {\n",
              "    background-color: var(--hover-bg-color);\n",
              "    box-shadow: 0 1px 2px rgba(60, 64, 67, 0.3), 0 1px 3px 1px rgba(60, 64, 67, 0.15);\n",
              "    fill: var(--button-hover-fill-color);\n",
              "  }\n",
              "\n",
              "  .colab-df-quickchart-complete:disabled,\n",
              "  .colab-df-quickchart-complete:disabled:hover {\n",
              "    background-color: var(--disabled-bg-color);\n",
              "    fill: var(--disabled-fill-color);\n",
              "    box-shadow: none;\n",
              "  }\n",
              "\n",
              "  .colab-df-spinner {\n",
              "    border: 2px solid var(--fill-color);\n",
              "    border-color: transparent;\n",
              "    border-bottom-color: var(--fill-color);\n",
              "    animation:\n",
              "      spin 1s steps(1) infinite;\n",
              "  }\n",
              "\n",
              "  @keyframes spin {\n",
              "    0% {\n",
              "      border-color: transparent;\n",
              "      border-bottom-color: var(--fill-color);\n",
              "      border-left-color: var(--fill-color);\n",
              "    }\n",
              "    20% {\n",
              "      border-color: transparent;\n",
              "      border-left-color: var(--fill-color);\n",
              "      border-top-color: var(--fill-color);\n",
              "    }\n",
              "    30% {\n",
              "      border-color: transparent;\n",
              "      border-left-color: var(--fill-color);\n",
              "      border-top-color: var(--fill-color);\n",
              "      border-right-color: var(--fill-color);\n",
              "    }\n",
              "    40% {\n",
              "      border-color: transparent;\n",
              "      border-right-color: var(--fill-color);\n",
              "      border-top-color: var(--fill-color);\n",
              "    }\n",
              "    60% {\n",
              "      border-color: transparent;\n",
              "      border-right-color: var(--fill-color);\n",
              "    }\n",
              "    80% {\n",
              "      border-color: transparent;\n",
              "      border-right-color: var(--fill-color);\n",
              "      border-bottom-color: var(--fill-color);\n",
              "    }\n",
              "    90% {\n",
              "      border-color: transparent;\n",
              "      border-bottom-color: var(--fill-color);\n",
              "    }\n",
              "  }\n",
              "</style>\n",
              "\n",
              "  <script>\n",
              "    async function quickchart(key) {\n",
              "      const quickchartButtonEl =\n",
              "        document.querySelector('#' + key + ' button');\n",
              "      quickchartButtonEl.disabled = true;  // To prevent multiple clicks.\n",
              "      quickchartButtonEl.classList.add('colab-df-spinner');\n",
              "      try {\n",
              "        const charts = await google.colab.kernel.invokeFunction(\n",
              "            'suggestCharts', [key], {});\n",
              "      } catch (error) {\n",
              "        console.error('Error during call to suggestCharts:', error);\n",
              "      }\n",
              "      quickchartButtonEl.classList.remove('colab-df-spinner');\n",
              "      quickchartButtonEl.classList.add('colab-df-quickchart-complete');\n",
              "    }\n",
              "    (() => {\n",
              "      let quickchartButtonEl =\n",
              "        document.querySelector('#df-2049b773-4916-46d8-b85e-d9dc1d556363 button');\n",
              "      quickchartButtonEl.style.display =\n",
              "        google.colab.kernel.accessAllowed ? 'block' : 'none';\n",
              "    })();\n",
              "  </script>\n",
              "</div>\n",
              "    </div>\n",
              "  </div>\n"
            ]
          },
          "metadata": {},
          "execution_count": 5
        }
      ],
      "source": [
        "data.groupby(['label']).count()"
      ]
    },
    {
      "cell_type": "code",
      "execution_count": null,
      "metadata": {
        "colab": {
          "base_uri": "https://localhost:8080/"
        },
        "id": "vuwluNC08Eu8",
        "outputId": "c03946af-41c1-484c-922d-310e738ee468"
      },
      "outputs": [
        {
          "output_type": "stream",
          "name": "stdout",
          "text": [
            "Found 19986 files belonging to 2 classes.\n",
            "Using 15989 files for training.\n",
            "Using 3997 files for validation.\n"
          ]
        }
      ],
      "source": [
        "train_ds, val_ds = tf.keras.utils.image_dataset_from_directory('./data',\n",
        "                                                               validation_split=0.2,\n",
        "                                                               subset='both',\n",
        "                                                               seed=32,\n",
        "                                                               image_size=(150, 150),\n",
        "                                                               batch_size=32)"
      ]
    },
    {
      "cell_type": "markdown",
      "source": [
        "### Visualization"
      ],
      "metadata": {
        "id": "ObbGp_rJyj4l"
      }
    },
    {
      "cell_type": "code",
      "execution_count": null,
      "metadata": {
        "id": "YzhBDCfZbvqn"
      },
      "outputs": [],
      "source": [
        "def show_images(ds, augmentation=False):\n",
        "  plt.figure(figsize=(3, 3))\n",
        "  for images, labels in ds.take(1):\n",
        "      for i in range(9):\n",
        "          ax = plt.subplot(3, 3, i + 1)\n",
        "          if augmentation:\n",
        "            images = data_augmentation(images)\n",
        "            i = 0\n",
        "          plt.imshow(images[i].numpy().astype(\"uint8\"))\n",
        "          plt.title(int(labels[i]))\n",
        "          plt.axis(\"off\")"
      ]
    },
    {
      "cell_type": "code",
      "execution_count": null,
      "metadata": {
        "colab": {
          "base_uri": "https://localhost:8080/",
          "height": 290
        },
        "id": "Md4P_O2EytfB",
        "outputId": "c8432d22-e1e5-436d-a616-26da3cadc679"
      },
      "outputs": [
        {
          "data": {
            "image/png": "[encoded data removed]",
            "text/plain": [
              "<Figure size 300x300 with 9 Axes>"
            ]
          },
          "metadata": {},
          "output_type": "display_data"
        }
      ],
      "source": [
        "show_images(train_ds)"
      ]
    },
    {
      "cell_type": "code",
      "execution_count": null,
      "metadata": {
        "id": "dm9kAKrAw9-K"
      },
      "outputs": [],
      "source": [
        "data_augmentation = tf.keras.Sequential([\n",
        "    tf.keras.layers.RandomRotation(factor=0.15),\n",
        "    tf.keras.layers.RandomTranslation(height_factor=0.1, width_factor=0.1),\n",
        "    tf.keras.layers.RandomFlip(),\n",
        "    tf.keras.layers.RandomContrast(factor=0.1),\n",
        "    ], name=\"img_augmentation\")"
      ]
    },
    {
      "cell_type": "code",
      "execution_count": null,
      "metadata": {
        "colab": {
          "base_uri": "https://localhost:8080/",
          "height": 290
        },
        "id": "pPQ2vpFy8Ixa",
        "outputId": "53d74bb6-907e-4bb8-c2b0-2cca71b96f14"
      },
      "outputs": [
        {
          "data": {
            "image/png": "[encoded data removed]",
            "text/plain": [
              "<Figure size 300x300 with 9 Axes>"
            ]
          },
          "metadata": {},
          "output_type": "display_data"
        }
      ],
      "source": [
        "show_images(train_ds, augmentation=True)"
      ]
    },
    {
      "cell_type": "code",
      "execution_count": null,
      "metadata": {
        "id": "b-qWux7zzd4c"
      },
      "outputs": [],
      "source": [
        "augmented_train_ds = train_ds.map(lambda img, label : (data_augmentation(img), label),\n",
        "                                  num_parallel_calls=tf.data.AUTOTUNE)\n",
        "\n",
        "#(buffered) Prefetching samples in GPU memory helps maximize GPU utilization.\n",
        "train_ds = train_ds.prefetch(tf.data.AUTOTUNE)\n",
        "val_ds   = val_ds.prefetch(tf.data.AUTOTUNE)"
      ]
    },
    {
      "cell_type": "code",
      "source": [
        "def plot_hist(hist, acc='binary_accuracy'):\n",
        "    plt.plot(hist.history[f\"{acc}\"])\n",
        "    plt.plot(hist.history[f\"val_{acc}\"])\n",
        "    plt.title(\"model accuracy\")\n",
        "    plt.ylabel(\"accuracy\")\n",
        "    plt.xlabel(\"epoch\")\n",
        "    plt.legend([\"train\", \"validation\"], loc=\"upper left\")\n",
        "    plt.show()"
      ],
      "metadata": {
        "id": "82fpyxDitmFu"
      },
      "execution_count": null,
      "outputs": []
    },
    {
      "cell_type": "markdown",
      "metadata": {
        "id": "g7fN7PFLtXMW"
      },
      "source": [
        "### Model 1:\n",
        "**Yolo V8**\n",
        "\n",
        "Since the Yolo model needs some special data directory order, we need to change the data directory\n"
      ]
    },
    {
      "cell_type": "code",
      "execution_count": null,
      "metadata": {
        "id": "JQD0RsSAtX9w"
      },
      "outputs": [],
      "source": [
        "#install necessary libraries\n",
        "!pip install awscli\n",
        "!pip install ultralytics\n",
        "\n",
        "import ultralytics\n",
        "IPython.display.clear_output()"
      ]
    },
    {
      "cell_type": "code",
      "execution_count": null,
      "metadata": {
        "id": "wtsqY1intX6o"
      },
      "outputs": [],
      "source": [
        "cls_data = './PKLot/PKLotSegmented'\n",
        "train_path_1 = './data/train/Empty/'\n",
        "train_path_2 = './data/train/Occupied/'\n",
        "val_path_1   = './data/validation/Empty/'\n",
        "val_path_2   = './data/validation/Occupied/'\n",
        "\n",
        "os.makedirs(train_path_1, exist_ok=True)\n",
        "os.makedirs(val_path_1, exist_ok=True)\n",
        "os.makedirs(train_path_2, exist_ok=True)\n",
        "os.makedirs(val_path_2, exist_ok=True)\n",
        "\n",
        "VAL_THRESHOLD = 0.2\n",
        "data_arr = []\n",
        "limit = 40\n",
        "\n",
        "\n",
        "data = pd.DataFrame(data_arr, columns=['path', 'label'])\n",
        "for cat in os.listdir(cls_data):\n",
        "  for crs in os.listdir(cls_data+'/'+cat):\n",
        "    for day in os.listdir(cls_data+'/'+cat+'/'+crs):\n",
        "      for E_O in os.listdir(cls_data+'/'+cat+'/'+crs+'/'+day):\n",
        "        for img in os.listdir(cls_data+'/'+cat+'/'+crs+'/'+day+'/'+E_O)[:limit]:\n",
        "          path = os.path.join(cls_data, cat, crs, day, E_O, img)\n",
        "          folder_name = 'train' if np.random.randn()<VAL_THRESHOLD else 'validation'\n",
        "          target = os.path.join('./data', folder_name, E_O, img)\n",
        "          label = 0 if E_O == 'Empty' else 1\n",
        "          data_arr.append([target, label])\n",
        "          os.replace(path, target)\n",
        "          break\n",
        "\n",
        "data = pd.DataFrame(data_arr, columns=['path', 'label'])\n",
        "data"
      ]
    },
    {
      "cell_type": "code",
      "execution_count": null,
      "metadata": {
        "id": "8unddyQCte7x"
      },
      "outputs": [],
      "source": [
        "# model = YOLO('yolov8n.yaml').load('yolov8n-cls.pt')  # build from YAML and transfer weights\n",
        "model = ultralytics.YOLO('yolov8n-cls.pt')\n",
        "model.train(data='./data', epochs = 10, device='cpu', seed=32)"
      ]
    },
    {
      "cell_type": "markdown",
      "metadata": {
        "id": "oxh8L4jCH4LB"
      },
      "source": [
        "### model 2:\n",
        "SVC model from sklearn since our data is so simple that CNN can't detect any patterns we can get a simpler model like SVC to handle this problem."
      ]
    },
    {
      "cell_type": "code",
      "execution_count": null,
      "metadata": {
        "colab": {
          "base_uri": "https://localhost:8080/"
        },
        "id": "iettHd-_Kl1E",
        "outputId": "db633a6f-64ca-487a-cb03-f10c2fb2a971"
      },
      "outputs": [
        {
          "output_type": "stream",
          "name": "stdout",
          "text": [
            "(11584, 1200) (11584,)\n",
            "(8402, 1200) (8402,)\n"
          ]
        }
      ],
      "source": [
        "x_train = []\n",
        "y_train = []\n",
        "x_test = []\n",
        "y_test = []\n",
        "\n",
        "for path, label in data_arr:\n",
        "  folder = path.split('/')[2]\n",
        "  img = skimage.io.imread(path)\n",
        "  img = skimage.transform.resize(img, (20, 20))\n",
        "\n",
        "  if folder == 'validation':\n",
        "    x_test.append(img.flatten())\n",
        "    y_test.append(label)\n",
        "  else:\n",
        "    x_train.append(img.flatten())\n",
        "    y_train.append(label)\n",
        "\n",
        "\n",
        "x_test = np.asarray(x_test)\n",
        "y_test = np.asarray(y_test)\n",
        "x_train = np.asarray(x_train)\n",
        "y_train = np.asarray(y_train)\n",
        "\n",
        "print(x_train.shape,y_train.shape)\n",
        "print(x_test.shape,y_test.shape)"
      ]
    },
    {
      "cell_type": "code",
      "execution_count": null,
      "metadata": {
        "id": "WLdj4dyEKNsk"
      },
      "outputs": [],
      "source": [
        "clf = svm.SVC()\n",
        "\n",
        "parameters = [{'gamma': [0.01, 0.001, 0.0001], 'C': [1, 10, 100, 1000]}]\n",
        "\n",
        "grid_search = model_selection.GridSearchCV(clf, parameters)"
      ]
    },
    {
      "cell_type": "code",
      "source": [
        "grid_search.best_estimator_"
      ],
      "metadata": {
        "colab": {
          "base_uri": "https://localhost:8080/",
          "height": 74
        },
        "id": "CNsUiWGZc4CC",
        "outputId": "b25b5ee6-5658-43e5-c0ed-103564c770d5"
      },
      "execution_count": null,
      "outputs": [
        {
          "output_type": "execute_result",
          "data": {
            "text/plain": [
              "SVC(C=10, gamma=0.01)"
            ],
            "text/html": [
              "<style>#sk-container-id-1 {color: black;background-color: white;}#sk-container-id-1 pre{padding: 0;}#sk-container-id-1 div.sk-toggleable {background-color: white;}#sk-container-id-1 label.sk-toggleable__label {cursor: pointer;display: block;width: 100%;margin-bottom: 0;padding: 0.3em;box-sizing: border-box;text-align: center;}#sk-container-id-1 label.sk-toggleable__label-arrow:before {content: \"▸\";float: left;margin-right: 0.25em;color: #696969;}#sk-container-id-1 label.sk-toggleable__label-arrow:hover:before {color: black;}#sk-container-id-1 div.sk-estimator:hover label.sk-toggleable__label-arrow:before {color: black;}#sk-container-id-1 div.sk-toggleable__content {max-height: 0;max-width: 0;overflow: hidden;text-align: left;background-color: #f0f8ff;}#sk-container-id-1 div.sk-toggleable__content pre {margin: 0.2em;color: black;border-radius: 0.25em;background-color: #f0f8ff;}#sk-container-id-1 input.sk-toggleable__control:checked~div.sk-toggleable__content {max-height: 200px;max-width: 100%;overflow: auto;}#sk-container-id-1 input.sk-toggleable__control:checked~label.sk-toggleable__label-arrow:before {content: \"▾\";}#sk-container-id-1 div.sk-estimator input.sk-toggleable__control:checked~label.sk-toggleable__label {background-color: #d4ebff;}#sk-container-id-1 div.sk-label input.sk-toggleable__control:checked~label.sk-toggleable__label {background-color: #d4ebff;}#sk-container-id-1 input.sk-hidden--visually {border: 0;clip: rect(1px 1px 1px 1px);clip: rect(1px, 1px, 1px, 1px);height: 1px;margin: -1px;overflow: hidden;padding: 0;position: absolute;width: 1px;}#sk-container-id-1 div.sk-estimator {font-family: monospace;background-color: #f0f8ff;border: 1px dotted black;border-radius: 0.25em;box-sizing: border-box;margin-bottom: 0.5em;}#sk-container-id-1 div.sk-estimator:hover {background-color: #d4ebff;}#sk-container-id-1 div.sk-parallel-item::after {content: \"\";width: 100%;border-bottom: 1px solid gray;flex-grow: 1;}#sk-container-id-1 div.sk-label:hover label.sk-toggleable__label {background-color: #d4ebff;}#sk-container-id-1 div.sk-serial::before {content: \"\";position: absolute;border-left: 1px solid gray;box-sizing: border-box;top: 0;bottom: 0;left: 50%;z-index: 0;}#sk-container-id-1 div.sk-serial {display: flex;flex-direction: column;align-items: center;background-color: white;padding-right: 0.2em;padding-left: 0.2em;position: relative;}#sk-container-id-1 div.sk-item {position: relative;z-index: 1;}#sk-container-id-1 div.sk-parallel {display: flex;align-items: stretch;justify-content: center;background-color: white;position: relative;}#sk-container-id-1 div.sk-item::before, #sk-container-id-1 div.sk-parallel-item::before {content: \"\";position: absolute;border-left: 1px solid gray;box-sizing: border-box;top: 0;bottom: 0;left: 50%;z-index: -1;}#sk-container-id-1 div.sk-parallel-item {display: flex;flex-direction: column;z-index: 1;position: relative;background-color: white;}#sk-container-id-1 div.sk-parallel-item:first-child::after {align-self: flex-end;width: 50%;}#sk-container-id-1 div.sk-parallel-item:last-child::after {align-self: flex-start;width: 50%;}#sk-container-id-1 div.sk-parallel-item:only-child::after {width: 0;}#sk-container-id-1 div.sk-dashed-wrapped {border: 1px dashed gray;margin: 0 0.4em 0.5em 0.4em;box-sizing: border-box;padding-bottom: 0.4em;background-color: white;}#sk-container-id-1 div.sk-label label {font-family: monospace;font-weight: bold;display: inline-block;line-height: 1.2em;}#sk-container-id-1 div.sk-label-container {text-align: center;}#sk-container-id-1 div.sk-container {/* jupyter's `normalize.less` sets `[hidden] { display: none; }` but bootstrap.min.css set `[hidden] { display: none !important; }` so we also need the `!important` here to be able to override the default hidden behavior on the sphinx rendered scikit-learn.org. See: https://github.com/scikit-learn/scikit-learn/issues/21755 */display: inline-block !important;position: relative;}#sk-container-id-1 div.sk-text-repr-fallback {display: none;}</style><div id=\"sk-container-id-1\" class=\"sk-top-container\"><div class=\"sk-text-repr-fallback\"><pre>SVC(C=10, gamma=0.01)</pre><b>In a Jupyter environment, please rerun this cell to show the HTML representation or trust the notebook. <br />On GitHub, the HTML representation is unable to render, please try loading this page with nbviewer.org.</b></div><div class=\"sk-container\" hidden><div class=\"sk-item\"><div class=\"sk-estimator sk-toggleable\"><input class=\"sk-toggleable__control sk-hidden--visually\" id=\"sk-estimator-id-1\" type=\"checkbox\" checked><label for=\"sk-estimator-id-1\" class=\"sk-toggleable__label sk-toggleable__label-arrow\">SVC</label><div class=\"sk-toggleable__content\"><pre>SVC(C=10, gamma=0.01)</pre></div></div></div></div></div>"
            ]
          },
          "metadata": {},
          "execution_count": 11
        }
      ]
    },
    {
      "cell_type": "code",
      "execution_count": null,
      "metadata": {
        "colab": {
          "base_uri": "https://localhost:8080/"
        },
        "id": "5IMRAQtYKNje",
        "outputId": "9293772a-0487-4ea8-ae98-5651c87941a8"
      },
      "outputs": [
        {
          "output_type": "stream",
          "name": "stdout",
          "text": [
            "98.92882646988812% of samples were correctly classified\n"
          ]
        }
      ],
      "source": [
        "grid_search.fit(x_train, y_train)\n",
        "\n",
        "# test performance\n",
        "best_estimator = grid_search.best_estimator_\n",
        "\n",
        "y_prediction = best_estimator.predict(x_test)\n",
        "\n",
        "score = metrics.accuracy_score(y_prediction, y_test)\n",
        "\n",
        "print(f'{score * 100}% of samples were correctly classified')\n",
        "\n",
        "pickle.dump(best_estimator, open('./drive/MyDrive/DATA/car_spot_model.p', 'wb'))"
      ]
    },
    {
      "cell_type": "code",
      "source": [
        "test_data = []\n",
        "test_label = []\n",
        "\n",
        "for cat in os.listdir(cls_data):\n",
        "  for crs in os.listdir(cls_data+'/'+cat):\n",
        "    for day in os.listdir(cls_data+'/'+cat+'/'+crs):\n",
        "      for E_O in os.listdir(cls_data+'/'+cat+'/'+crs+'/'+day):\n",
        "        for img in os.listdir(cls_data+'/'+cat+'/'+crs+'/'+day+'/'+E_O):\n",
        "          path = os.path.join(cls_data, cat, crs, day, E_O, img)\n",
        "          folder_name = train_path if np.random.randn()<VAL_THRESHOLD else val_path\n",
        "          target = os.path.join(folder_name, img)\n",
        "          label = 0 if E_O == 'Empty' else 1\n",
        "          test_data.append(path)\n",
        "          test_label.append(label)\n",
        "\n",
        "\n",
        "test = pd.DataFrame(test_data, columns=['path'])\n",
        "test"
      ],
      "metadata": {
        "colab": {
          "base_uri": "https://localhost:8080/",
          "height": 423
        },
        "id": "3bMI8tGDXP-2",
        "outputId": "23670fd2-bb14-464e-c898-a8499a9f0ff7"
      },
      "execution_count": null,
      "outputs": [
        {
          "output_type": "execute_result",
          "data": {
            "text/plain": [
              "                                                     path\n",
              "0       ./PKLot/PKLotSegmented/UFPR04/Cloudy/2013-01-2...\n",
              "1       ./PKLot/PKLotSegmented/UFPR04/Cloudy/2013-01-2...\n",
              "2       ./PKLot/PKLotSegmented/UFPR04/Cloudy/2013-01-2...\n",
              "3       ./PKLot/PKLotSegmented/UFPR04/Cloudy/2013-01-2...\n",
              "4       ./PKLot/PKLotSegmented/UFPR04/Cloudy/2013-01-2...\n",
              "...                                                   ...\n",
              "695846  ./PKLot/PKLotSegmented/UFPR05/Sunny/2013-04-10...\n",
              "695847  ./PKLot/PKLotSegmented/UFPR05/Sunny/2013-04-10...\n",
              "695848  ./PKLot/PKLotSegmented/UFPR05/Sunny/2013-04-10...\n",
              "695849  ./PKLot/PKLotSegmented/UFPR05/Sunny/2013-04-10...\n",
              "695850  ./PKLot/PKLotSegmented/UFPR05/Sunny/2013-04-10...\n",
              "\n",
              "[695851 rows x 1 columns]"
            ],
            "text/html": [
              "\n",
              "  <div id=\"df-c3903969-f726-4bc3-8a68-73bd3f23888d\" class=\"colab-df-container\">\n",
              "    <div>\n",
              "<style scoped>\n",
              "    .dataframe tbody tr th:only-of-type {\n",
              "        vertical-align: middle;\n",
              "    }\n",
              "\n",
              "    .dataframe tbody tr th {\n",
              "        vertical-align: top;\n",
              "    }\n",
              "\n",
              "    .dataframe thead th {\n",
              "        text-align: right;\n",
              "    }\n",
              "</style>\n",
              "<table border=\"1\" class=\"dataframe\">\n",
              "  <thead>\n",
              "    <tr style=\"text-align: right;\">\n",
              "      <th></th>\n",
              "      <th>path</th>\n",
              "    </tr>\n",
              "  </thead>\n",
              "  <tbody>\n",
              "    <tr>\n",
              "      <th>0</th>\n",
              "      <td>./PKLot/PKLotSegmented/UFPR04/Cloudy/2013-01-2...</td>\n",
              "    </tr>\n",
              "    <tr>\n",
              "      <th>1</th>\n",
              "      <td>./PKLot/PKLotSegmented/UFPR04/Cloudy/2013-01-2...</td>\n",
              "    </tr>\n",
              "    <tr>\n",
              "      <th>2</th>\n",
              "      <td>./PKLot/PKLotSegmented/UFPR04/Cloudy/2013-01-2...</td>\n",
              "    </tr>\n",
              "    <tr>\n",
              "      <th>3</th>\n",
              "      <td>./PKLot/PKLotSegmented/UFPR04/Cloudy/2013-01-2...</td>\n",
              "    </tr>\n",
              "    <tr>\n",
              "      <th>4</th>\n",
              "      <td>./PKLot/PKLotSegmented/UFPR04/Cloudy/2013-01-2...</td>\n",
              "    </tr>\n",
              "    <tr>\n",
              "      <th>...</th>\n",
              "      <td>...</td>\n",
              "    </tr>\n",
              "    <tr>\n",
              "      <th>695846</th>\n",
              "      <td>./PKLot/PKLotSegmented/UFPR05/Sunny/2013-04-10...</td>\n",
              "    </tr>\n",
              "    <tr>\n",
              "      <th>695847</th>\n",
              "      <td>./PKLot/PKLotSegmented/UFPR05/Sunny/2013-04-10...</td>\n",
              "    </tr>\n",
              "    <tr>\n",
              "      <th>695848</th>\n",
              "      <td>./PKLot/PKLotSegmented/UFPR05/Sunny/2013-04-10...</td>\n",
              "    </tr>\n",
              "    <tr>\n",
              "      <th>695849</th>\n",
              "      <td>./PKLot/PKLotSegmented/UFPR05/Sunny/2013-04-10...</td>\n",
              "    </tr>\n",
              "    <tr>\n",
              "      <th>695850</th>\n",
              "      <td>./PKLot/PKLotSegmented/UFPR05/Sunny/2013-04-10...</td>\n",
              "    </tr>\n",
              "  </tbody>\n",
              "</table>\n",
              "<p>695851 rows × 1 columns</p>\n",
              "</div>\n",
              "    <div class=\"colab-df-buttons\">\n",
              "\n",
              "  <div class=\"colab-df-container\">\n",
              "    <button class=\"colab-df-convert\" onclick=\"convertToInteractive('df-c3903969-f726-4bc3-8a68-73bd3f23888d')\"\n",
              "            title=\"Convert this dataframe to an interactive table.\"\n",
              "            style=\"display:none;\">\n",
              "\n",
              "  <svg xmlns=\"http://www.w3.org/2000/svg\" height=\"24px\" viewBox=\"0 -960 960 960\">\n",
              "    <path d=\"M120-120v-720h720v720H120Zm60-500h600v-160H180v160Zm220 220h160v-160H400v160Zm0 220h160v-160H400v160ZM180-400h160v-160H180v160Zm440 0h160v-160H620v160ZM180-180h160v-160H180v160Zm440 0h160v-160H620v160Z\"/>\n",
              "  </svg>\n",
              "    </button>\n",
              "\n",
              "  <style>\n",
              "    .colab-df-container {\n",
              "      display:flex;\n",
              "      gap: 12px;\n",
              "    }\n",
              "\n",
              "    .colab-df-convert {\n",
              "      background-color: #E8F0FE;\n",
              "      border: none;\n",
              "      border-radius: 50%;\n",
              "      cursor: pointer;\n",
              "      display: none;\n",
              "      fill: #1967D2;\n",
              "      height: 32px;\n",
              "      padding: 0 0 0 0;\n",
              "      width: 32px;\n",
              "    }\n",
              "\n",
              "    .colab-df-convert:hover {\n",
              "      background-color: #E2EBFA;\n",
              "      box-shadow: 0px 1px 2px rgba(60, 64, 67, 0.3), 0px 1px 3px 1px rgba(60, 64, 67, 0.15);\n",
              "      fill: #174EA6;\n",
              "    }\n",
              "\n",
              "    .colab-df-buttons div {\n",
              "      margin-bottom: 4px;\n",
              "    }\n",
              "\n",
              "    [theme=dark] .colab-df-convert {\n",
              "      background-color: #3B4455;\n",
              "      fill: #D2E3FC;\n",
              "    }\n",
              "\n",
              "    [theme=dark] .colab-df-convert:hover {\n",
              "      background-color: #434B5C;\n",
              "      box-shadow: 0px 1px 3px 1px rgba(0, 0, 0, 0.15);\n",
              "      filter: drop-shadow(0px 1px 2px rgba(0, 0, 0, 0.3));\n",
              "      fill: #FFFFFF;\n",
              "    }\n",
              "  </style>\n",
              "\n",
              "    <script>\n",
              "      const buttonEl =\n",
              "        document.querySelector('#df-c3903969-f726-4bc3-8a68-73bd3f23888d button.colab-df-convert');\n",
              "      buttonEl.style.display =\n",
              "        google.colab.kernel.accessAllowed ? 'block' : 'none';\n",
              "\n",
              "      async function convertToInteractive(key) {\n",
              "        const element = document.querySelector('#df-c3903969-f726-4bc3-8a68-73bd3f23888d');\n",
              "        const dataTable =\n",
              "          await google.colab.kernel.invokeFunction('convertToInteractive',\n",
              "                                                    [key], {});\n",
              "        if (!dataTable) return;\n",
              "\n",
              "        const docLinkHtml = 'Like what you see? Visit the ' +\n",
              "          '<a target=\"_blank\" href=https://colab.research.google.com/notebooks/data_table.ipynb>data table notebook</a>'\n",
              "          + ' to learn more about interactive tables.';\n",
              "        element.innerHTML = '';\n",
              "        dataTable['output_type'] = 'display_data';\n",
              "        await google.colab.output.renderOutput(dataTable, element);\n",
              "        const docLink = document.createElement('div');\n",
              "        docLink.innerHTML = docLinkHtml;\n",
              "        element.appendChild(docLink);\n",
              "      }\n",
              "    </script>\n",
              "  </div>\n",
              "\n",
              "\n",
              "<div id=\"df-1503d78f-6de2-44f6-b2c2-a7e895c03020\">\n",
              "  <button class=\"colab-df-quickchart\" onclick=\"quickchart('df-1503d78f-6de2-44f6-b2c2-a7e895c03020')\"\n",
              "            title=\"Suggest charts.\"\n",
              "            style=\"display:none;\">\n",
              "\n",
              "<svg xmlns=\"http://www.w3.org/2000/svg\" height=\"24px\"viewBox=\"0 0 24 24\"\n",
              "     width=\"24px\">\n",
              "    <g>\n",
              "        <path d=\"M19 3H5c-1.1 0-2 .9-2 2v14c0 1.1.9 2 2 2h14c1.1 0 2-.9 2-2V5c0-1.1-.9-2-2-2zM9 17H7v-7h2v7zm4 0h-2V7h2v10zm4 0h-2v-4h2v4z\"/>\n",
              "    </g>\n",
              "</svg>\n",
              "  </button>\n",
              "\n",
              "<style>\n",
              "  .colab-df-quickchart {\n",
              "      --bg-color: #E8F0FE;\n",
              "      --fill-color: #1967D2;\n",
              "      --hover-bg-color: #E2EBFA;\n",
              "      --hover-fill-color: #174EA6;\n",
              "      --disabled-fill-color: #AAA;\n",
              "      --disabled-bg-color: #DDD;\n",
              "  }\n",
              "\n",
              "  [theme=dark] .colab-df-quickchart {\n",
              "      --bg-color: #3B4455;\n",
              "      --fill-color: #D2E3FC;\n",
              "      --hover-bg-color: #434B5C;\n",
              "      --hover-fill-color: #FFFFFF;\n",
              "      --disabled-bg-color: #3B4455;\n",
              "      --disabled-fill-color: #666;\n",
              "  }\n",
              "\n",
              "  .colab-df-quickchart {\n",
              "    background-color: var(--bg-color);\n",
              "    border: none;\n",
              "    border-radius: 50%;\n",
              "    cursor: pointer;\n",
              "    display: none;\n",
              "    fill: var(--fill-color);\n",
              "    height: 32px;\n",
              "    padding: 0;\n",
              "    width: 32px;\n",
              "  }\n",
              "\n",
              "  .colab-df-quickchart:hover {\n",
              "    background-color: var(--hover-bg-color);\n",
              "    box-shadow: 0 1px 2px rgba(60, 64, 67, 0.3), 0 1px 3px 1px rgba(60, 64, 67, 0.15);\n",
              "    fill: var(--button-hover-fill-color);\n",
              "  }\n",
              "\n",
              "  .colab-df-quickchart-complete:disabled,\n",
              "  .colab-df-quickchart-complete:disabled:hover {\n",
              "    background-color: var(--disabled-bg-color);\n",
              "    fill: var(--disabled-fill-color);\n",
              "    box-shadow: none;\n",
              "  }\n",
              "\n",
              "  .colab-df-spinner {\n",
              "    border: 2px solid var(--fill-color);\n",
              "    border-color: transparent;\n",
              "    border-bottom-color: var(--fill-color);\n",
              "    animation:\n",
              "      spin 1s steps(1) infinite;\n",
              "  }\n",
              "\n",
              "  @keyframes spin {\n",
              "    0% {\n",
              "      border-color: transparent;\n",
              "      border-bottom-color: var(--fill-color);\n",
              "      border-left-color: var(--fill-color);\n",
              "    }\n",
              "    20% {\n",
              "      border-color: transparent;\n",
              "      border-left-color: var(--fill-color);\n",
              "      border-top-color: var(--fill-color);\n",
              "    }\n",
              "    30% {\n",
              "      border-color: transparent;\n",
              "      border-left-color: var(--fill-color);\n",
              "      border-top-color: var(--fill-color);\n",
              "      border-right-color: var(--fill-color);\n",
              "    }\n",
              "    40% {\n",
              "      border-color: transparent;\n",
              "      border-right-color: var(--fill-color);\n",
              "      border-top-color: var(--fill-color);\n",
              "    }\n",
              "    60% {\n",
              "      border-color: transparent;\n",
              "      border-right-color: var(--fill-color);\n",
              "    }\n",
              "    80% {\n",
              "      border-color: transparent;\n",
              "      border-right-color: var(--fill-color);\n",
              "      border-bottom-color: var(--fill-color);\n",
              "    }\n",
              "    90% {\n",
              "      border-color: transparent;\n",
              "      border-bottom-color: var(--fill-color);\n",
              "    }\n",
              "  }\n",
              "</style>\n",
              "\n",
              "  <script>\n",
              "    async function quickchart(key) {\n",
              "      const quickchartButtonEl =\n",
              "        document.querySelector('#' + key + ' button');\n",
              "      quickchartButtonEl.disabled = true;  // To prevent multiple clicks.\n",
              "      quickchartButtonEl.classList.add('colab-df-spinner');\n",
              "      try {\n",
              "        const charts = await google.colab.kernel.invokeFunction(\n",
              "            'suggestCharts', [key], {});\n",
              "      } catch (error) {\n",
              "        console.error('Error during call to suggestCharts:', error);\n",
              "      }\n",
              "      quickchartButtonEl.classList.remove('colab-df-spinner');\n",
              "      quickchartButtonEl.classList.add('colab-df-quickchart-complete');\n",
              "    }\n",
              "    (() => {\n",
              "      let quickchartButtonEl =\n",
              "        document.querySelector('#df-1503d78f-6de2-44f6-b2c2-a7e895c03020 button');\n",
              "      quickchartButtonEl.style.display =\n",
              "        google.colab.kernel.accessAllowed ? 'block' : 'none';\n",
              "    })();\n",
              "  </script>\n",
              "</div>\n",
              "    </div>\n",
              "  </div>\n"
            ]
          },
          "metadata": {},
          "execution_count": 8
        }
      ]
    },
    {
      "cell_type": "code",
      "source": [
        "scores = []\n",
        "for path, label in zip(test_data, test_label):\n",
        "  folder = path.split('/')[2]\n",
        "  img = skimage.io.imread(path)\n",
        "  img = skimage.transform.resize(img, (20, 20))\n",
        "  img = np.asarray(img.flatten())\n",
        "  img = np.expand_dims(img, 0)\n",
        "  pred = model.predict(img)\n",
        "  score = metrics.accuracy_score(pred, [label])\n",
        "  scores.append(score)"
      ],
      "metadata": {
        "id": "8Fl2dBQ8e36S"
      },
      "execution_count": null,
      "outputs": []
    },
    {
      "cell_type": "code",
      "source": [
        "totall_score = np.sum(scores) / len(scores)\n",
        "print(f'{totall_score * 100:.4f}% of samples were correctly classified, from {len(scores)}')\n",
        "print(f'In totall, The model got {int(np.sum(scores))} / {len(scores)} Right answer')\n",
        "print(f'In totall, The model got {len(scores) - int(np.sum(scores))} / {len(scores)} Wrong answer')"
      ],
      "metadata": {
        "colab": {
          "base_uri": "https://localhost:8080/"
        },
        "id": "IvMnr8lsgIGd",
        "outputId": "aae4ac3f-cbce-41e3-cdac-e52857593f47"
      },
      "execution_count": null,
      "outputs": [
        {
          "output_type": "stream",
          "name": "stdout",
          "text": [
            "99.3211% of samples were correctly classified, from 695851\n",
            "In totall, The model got 691127 / 695851 Right answer\n",
            "In totall, The model got 4724 / 695851 Wrong answer\n"
          ]
        }
      ]
    },
    {
      "cell_type": "markdown",
      "metadata": {
        "id": "sNa1JXN2eOiD"
      },
      "source": [
        "#Parking Spot Detector\n",
        "\n",
        "Efficient Object Detection with YOLOV8 and KerasCV\n",
        "\n",
        "[kerasCV](https://keras.io/examples/vision/yolov8/)"
      ]
    },
    {
      "cell_type": "code",
      "source": [
        "train_path = './data/train'\n",
        "val_path   = './data/validation'\n",
        "os.makedirs(train_path, exist_ok=True)\n",
        "os.makedirs(val_path, exist_ok=True)\n",
        "\n",
        "VAL_THRESHOLD = 0.2"
      ],
      "metadata": {
        "id": "gQKHuhjroudm"
      },
      "execution_count": 3,
      "outputs": []
    },
    {
      "cell_type": "code",
      "source": [
        "xml_files = []\n",
        "jpg_files = []\n",
        "data_path = '/content/PKLot/PKLot/'\n",
        "\n",
        "for root, dirs, files in os.walk(data_path):\n",
        "  for my_file in files:\n",
        "    if my_file.endswith('.jpg') and os.path.exists(os.path.join(root,my_file[:-4]+'.xml')):\n",
        "      jpg_files.append(os.path.join(root, my_file))\n",
        "      xml_files.append(os.path.join(root, my_file[:-4]+'.xml'))\n",
        "\n",
        "xml_files.sort()\n",
        "jpg_files.sort()\n",
        "\n",
        "len(xml_files), len(jpg_files)"
      ],
      "metadata": {
        "colab": {
          "base_uri": "https://localhost:8080/"
        },
        "id": "sDas_FZ4o7Qv",
        "outputId": "dba31d69-23b8-418b-afce-5535bbf3e232"
      },
      "execution_count": 4,
      "outputs": [
        {
          "output_type": "execute_result",
          "data": {
            "text/plain": [
              "(12416, 12416)"
            ]
          },
          "metadata": {},
          "execution_count": 4
        }
      ]
    },
    {
      "cell_type": "code",
      "source": [
        "class_ids = ['Occupied', 'Empty']\n",
        "class_mapping = dict(zip(range(len(class_ids)), class_ids))\n",
        "class_mapping"
      ],
      "metadata": {
        "colab": {
          "base_uri": "https://localhost:8080/"
        },
        "id": "OIxWeXh9xVcq",
        "outputId": "72c62603-7a1a-4e7f-d524-18c0c268824f"
      },
      "execution_count": 5,
      "outputs": [
        {
          "output_type": "execute_result",
          "data": {
            "text/plain": [
              "{0: 'Occupied', 1: 'Empty'}"
            ]
          },
          "metadata": {},
          "execution_count": 5
        }
      ]
    },
    {
      "cell_type": "code",
      "source": [
        "data = []\n",
        "labels = []\n",
        "coordinates = []\n",
        "for xml, jpg in zip(xml_files, jpg_files):\n",
        "\n",
        "  tree = ET.parse(xml)\n",
        "  root = tree.getroot()\n",
        "  root.attrib['id']\n",
        "  coord = []\n",
        "  coord_labels = []\n",
        "\n",
        "  for space in  root.findall('space'):\n",
        "    label = int(space.attrib['occupied'])\n",
        "    for child in space:\n",
        "      if child.tag == 'contour':\n",
        "        x_y = []\n",
        "        for point in child:\n",
        "          x = int(point.attrib['x'])\n",
        "          y = int(point.attrib['y'])\n",
        "          x_y.append((x, y))\n",
        "\n",
        "        coord.append(x_y)\n",
        "        coord_labels.append(label)\n",
        "\n",
        "\n",
        "  data.append()\n",
        "  labels.appened(coord_labels)\n",
        "  coordinates.append(coord)"
      ],
      "metadata": {
        "id": "V_g71DUvtOW4",
        "colab": {
          "base_uri": "https://localhost:8080/",
          "height": 245
        },
        "outputId": "2fdb8c8d-5761-4e40-994a-253fc5c83b85"
      },
      "execution_count": 6,
      "outputs": [
        {
          "output_type": "error",
          "ename": "TypeError",
          "evalue": "ignored",
          "traceback": [
            "\u001b[0;31m---------------------------------------------------------------------------\u001b[0m",
            "\u001b[0;31mTypeError\u001b[0m                                 Traceback (most recent call last)",
            "\u001b[0;32m<ipython-input-6-1ccc3fb18bd6>\u001b[0m in \u001b[0;36m<cell line: 4>\u001b[0;34m()\u001b[0m\n\u001b[1;32m     23\u001b[0m \u001b[0;34m\u001b[0m\u001b[0m\n\u001b[1;32m     24\u001b[0m \u001b[0;34m\u001b[0m\u001b[0m\n\u001b[0;32m---> 25\u001b[0;31m   \u001b[0mdata\u001b[0m\u001b[0;34m.\u001b[0m\u001b[0mappend\u001b[0m\u001b[0;34m(\u001b[0m\u001b[0;34m)\u001b[0m\u001b[0;34m\u001b[0m\u001b[0;34m\u001b[0m\u001b[0m\n\u001b[0m\u001b[1;32m     26\u001b[0m   \u001b[0mlabels\u001b[0m\u001b[0;34m.\u001b[0m\u001b[0mappened\u001b[0m\u001b[0;34m(\u001b[0m\u001b[0mcoord_labels\u001b[0m\u001b[0;34m)\u001b[0m\u001b[0;34m\u001b[0m\u001b[0;34m\u001b[0m\u001b[0m\n\u001b[1;32m     27\u001b[0m   \u001b[0mcoordinates\u001b[0m\u001b[0;34m.\u001b[0m\u001b[0mappend\u001b[0m\u001b[0;34m(\u001b[0m\u001b[0mcoord\u001b[0m\u001b[0;34m)\u001b[0m\u001b[0;34m\u001b[0m\u001b[0;34m\u001b[0m\u001b[0m\n",
            "\u001b[0;31mTypeError\u001b[0m: list.append() takes exactly one argument (0 given)"
          ]
        }
      ]
    },
    {
      "cell_type": "code",
      "source": [
        "import xml.etree.ElementTree as ET\n",
        "import cv2\n",
        "import numpy as np\n",
        "import os\n",
        "\n",
        "def extract_parking_spaces(image_path, xml_path, save_dir='cropped_images', display_results=True, return_contours=False):\n",
        "    # Load the image\n",
        "    img = cv2.imread(image_path)\n",
        "    img_contours = img.copy()\n",
        "    # Load the XML file\n",
        "    tree = ET.parse(xml_path)\n",
        "    root = tree.getroot()\n",
        "\n",
        "    # Define a list to store the cropped images\n",
        "    cropped_images = []\n",
        "    contours = []\n",
        "    # Define a list of colors for the contours\n",
        "    colors = [(0, 0, 255), (0, 255, 0), (255, 0, 0)]\n",
        "\n",
        "    # Create save directory if it doesn't exist\n",
        "    if not os.path.exists(save_dir):\n",
        "        os.makedirs(save_dir)\n",
        "\n",
        "    # Iterate over the spaces in the XML file\n",
        "    for i, space in enumerate(root.iter('space')):\n",
        "        # Extract the rotated rectangle and contour from the XML file\n",
        "        rotated_rect = space.find('rotatedRect')\n",
        "        contour = space.find('contour')\n",
        "        center = rotated_rect.find('center')\n",
        "        size = rotated_rect.find('size')\n",
        "        angle = rotated_rect.find('angle')\n",
        "\n",
        "        # Extract the values from the XML elements\n",
        "        cx, cy = int(center.attrib['x']), int(center.attrib['y'])\n",
        "        w, h = int(size.attrib['w']), int(size.attrib['h'])\n",
        "        angle_deg = float(angle.attrib['d'])\n",
        "\n",
        "        # Convert the angle to radians\n",
        "        angle_rad = angle_deg * (3.14159 / 180)\n",
        "\n",
        "        # Extract the points from the contour\n",
        "        pts = []\n",
        "        for point in contour.iter('point'):\n",
        "            x, y = int(point.attrib['x']), int(point.attrib['y'])\n",
        "            pts.append((x, y))\n",
        "\n",
        "        # Create a mask for the polygon\n",
        "        mask = np.zeros(img.shape[:2], dtype=np.uint8)\n",
        "        cv2.fillPoly(mask, [np.array(pts)], (255, 255, 255))\n",
        "\n",
        "        # Rotate the mask by the angle\n",
        "        M = cv2.getRotationMatrix2D((cx, cy), angle_deg, 1)\n",
        "        rotated_mask = cv2.warpAffine(mask, M, (img.shape[1], img.shape[0]))\n",
        "\n",
        "        # Crop the region from the image\n",
        "        cropped = cv2.bitwise_and(img, img, mask=rotated_mask)\n",
        "\n",
        "        # Find the bounding box of the contour\n",
        "        x, y, w, h = cv2.boundingRect(np.array(pts))\n",
        "        # Crop the region of interest from the cropped image\n",
        "        roi = img[y:y+h, x:x+w]\n",
        "\n",
        "        # Resize the region of interest to 100x100\n",
        "        resized_roi = cv2.resize(roi, (100, 100))\n",
        "\n",
        "        # Append the cropped image to the list\n",
        "        cropped_images.append(resized_roi)\n",
        "\n",
        "        # Draw the contour on the image\n",
        "        cv2.drawContours(img_contours, [np.array(pts)], 0, colors[i % len(colors)], 2)\n",
        "\n",
        "        contours.append(np.array(pts))\n",
        "\n",
        "    if display_results:\n",
        "        plt.grid(linewidth=0)\n",
        "        plt.imshow(img_contours)\n",
        "        plt.show()\n",
        "\n",
        "    # Convert the list of cropped images to a numpy array\n",
        "    cropped_images_array = np.array(cropped_images)\n",
        "\n",
        "    contours = np.array(contours)\n",
        "\n",
        "    if return_contours:\n",
        "            return cropped_images_array, contours\n",
        "\n",
        "    return cropped_images_array"
      ],
      "metadata": {
        "id": "Sq-ijBdy-dYA"
      },
      "execution_count": 7,
      "outputs": []
    },
    {
      "cell_type": "code",
      "source": [
        "res = extract_parking_spaces(jpg_files[0], xml_files[0], display_results=True)\n",
        "res.shape"
      ],
      "metadata": {
        "colab": {
          "base_uri": "https://localhost:8080/"
        },
        "id": "KTcf4K-l1Rrs",
        "outputId": "0b6e7e22-b838-4760-a64e-95362f5d290a"
      },
      "execution_count": 10,
      "outputs": [
        {
          "output_type": "execute_result",
          "data": {
            "text/plain": [
              "(100, 100, 100, 3)"
            ]
          },
          "metadata": {},
          "execution_count": 10
        }
      ]
    },
    {
      "cell_type": "code",
      "source": [
        "def make_predictions(image_path, xml_path, classifier=None, display_results=True):\n",
        "    lots, contours = extract_parking_spaces(image_path, xml_path, display_results=True, return_contours=True)\n",
        "    img = cv2.imread(image_path)\n",
        "    # Draw a green box if label is occupied, red if it's not\n",
        "    if classifier is not None:\n",
        "        for i, lot in enumerate(lots):\n",
        "            # Use the classifier to make a prediction on the input image\n",
        "            lot = np.expand_dims(lot, axis=0)\n",
        "            prediction = classifier.predict(lot, verbose=0)\n",
        "            prediction = np.argmax(prediction)\n",
        "\n",
        "            # Draw a green box if label is occupied, red if it's not\n",
        "            color = (0, 255, 0) if prediction == 1 else (0, 0, 255)\n",
        "            cv2.drawContours(img, [contours[i]], 0, color, 2)\n",
        "\n",
        "    if display_results:\n",
        "        plt.grid(linewidth=0)\n",
        "        plt.imshow(img)\n",
        "        plt.show()"
      ],
      "metadata": {
        "id": "LWiBpohl7MyL"
      },
      "execution_count": 11,
      "outputs": []
    },
    {
      "cell_type": "code",
      "source": [
        "make_predictions(jpg_files[0], xml_files[0], classifier=model)"
      ],
      "metadata": {
        "id": "DD7nAoYr7Mtj"
      },
      "execution_count": null,
      "outputs": []
    },
    {
      "cell_type": "code",
      "source": [
        "def parse_annotation(xml_f):\n",
        "    tree = ET.parse(xml_f)\n",
        "    root = tree.getroot()\n",
        "\n",
        "    boxes = []\n",
        "    classes = []\n",
        "    for obj in root.iter(\"object\"):\n",
        "        cls = obj.find(\"name\").text\n",
        "        classes.append(cls)\n",
        "\n",
        "        bbox = obj.find(\"bndbox\")\n",
        "        xmin = float(bbox.find(\"xmin\").text)\n",
        "        ymin = float(bbox.find(\"ymin\").text)\n",
        "        xmax = float(bbox.find(\"xmax\").text)\n",
        "        ymax = float(bbox.find(\"ymax\").text)\n",
        "        boxes.append([xmin, ymin, xmax, ymax])\n",
        "\n",
        "    class_ids = [list(class_mapping.keys())[list(class_mapping.values()).index(cls)] for cls in classes]\n",
        "    return boxes, class_ids\n",
        "\n",
        "\n",
        "image_paths = []\n",
        "bbox = []\n",
        "classes = []\n",
        "for xml_f, jpg_f in zip(xml_files, jpg_files):\n",
        "    boxes, class_ids = parse_annotation(xml_f)\n",
        "    image_paths.append(jpg_f)\n",
        "    bbox.append(boxes)\n",
        "    classes.append(class_ids)"
      ],
      "metadata": {
        "id": "l1UM03AHyqUa"
      },
      "execution_count": null,
      "outputs": []
    },
    {
      "cell_type": "code",
      "source": [
        "print(classes[:4])\n",
        "bbox[:4]"
      ],
      "metadata": {
        "colab": {
          "base_uri": "https://localhost:8080/"
        },
        "id": "kJr7zr59xuWT",
        "outputId": "483685f7-9f8c-4711-d7d8-292a719c95ef"
      },
      "execution_count": null,
      "outputs": [
        {
          "output_type": "stream",
          "name": "stdout",
          "text": [
            "[[], [], [], []]\n"
          ]
        },
        {
          "output_type": "execute_result",
          "data": {
            "text/plain": [
              "[[], [], [], []]"
            ]
          },
          "metadata": {},
          "execution_count": 14
        }
      ]
    },
    {
      "cell_type": "code",
      "source": [
        "SPLIT_RATIO = 0.2\n",
        "BATCH_SIZE = 4\n",
        "LEARNING_RATE = 0.001\n",
        "EPOCH = 5\n",
        "GLOBAL_CLIPNORM = 10.0"
      ],
      "metadata": {
        "id": "z2V7bFa2v5Bu"
      },
      "execution_count": null,
      "outputs": []
    },
    {
      "cell_type": "code",
      "source": [
        "augmenter = tf.keras.Sequential(\n",
        "    layers=[\n",
        "        keras_cv.layers.RandomFlip(mode=\"horizontal\", bounding_box_format=\"xyxy\"),\n",
        "        keras_cv.layers.RandomShear(x_factor=0.2, y_factor=0.2, bounding_box_format=\"xyxy\"),\n",
        "        keras_cv.layers.JitteredResize(target_size=(640, 640), scale_factor=(0.75, 1.3), bounding_box_format=\"xyxy\"),\n",
        "          ]\n",
        "      )"
      ],
      "metadata": {
        "id": "6UTAeKQdt84S"
      },
      "execution_count": null,
      "outputs": []
    },
    {
      "cell_type": "code",
      "source": [
        "bbox = tf.ragged.constant(bbox)\n",
        "classes = tf.ragged.constant(classes)\n",
        "image_paths = tf.ragged.constant(image_paths)\n",
        "\n",
        "data = tf.data.Dataset.from_tensor_slices((image_paths, classes, bbox))\n",
        "\n",
        "# Determine the number of validation samples\n",
        "num_val = int(len(xml_files) * SPLIT_RATIO)\n",
        "print(len(xml_files), num_val, len(xml_files)-num_val)\n",
        "\n",
        "# Split the dataset into train and validation sets\n",
        "val_data = data.take(num_val)\n",
        "train_data = data.skip(num_val)"
      ],
      "metadata": {
        "id": "KcCnb1Q1tNsD",
        "colab": {
          "base_uri": "https://localhost:8080/"
        },
        "outputId": "aaa600ee-12fc-4681-a646-2136158aa58f"
      },
      "execution_count": null,
      "outputs": [
        {
          "output_type": "stream",
          "name": "stdout",
          "text": [
            "2682 536 2146\n"
          ]
        }
      ]
    },
    {
      "cell_type": "code",
      "source": [
        "def load_dataset(image_path, classes, bbox):\n",
        "    # Read Image\n",
        "    image = tf.io.read_file(image_path)\n",
        "    image = tf.image.decode_jpeg(image, channels=3)\n",
        "    bounding_boxes = {\"classes\": tf.cast(classes, dtype=tf.float32), \"boxes\": bbox}\n",
        "    return {\"images\": tf.cast(image, tf.float32), \"bounding_boxes\": bounding_boxes}"
      ],
      "metadata": {
        "id": "-4NgKwOltgRA"
      },
      "execution_count": null,
      "outputs": []
    },
    {
      "cell_type": "markdown",
      "source": [
        "Creating Training Dataset\n"
      ],
      "metadata": {
        "id": "vO18ynmot95-"
      }
    },
    {
      "cell_type": "code",
      "source": [
        "train_ds = train_data.map(load_dataset, num_parallel_calls=tf.data.AUTOTUNE)\n",
        "train_ds = train_ds.shuffle(BATCH_SIZE * 4)\n",
        "train_ds = train_ds.ragged_batch(BATCH_SIZE, drop_remainder=True)\n",
        "train_ds = train_ds.map(augmenter, num_parallel_calls=tf.data.AUTOTUNE)\n",
        "\n",
        "resizing = keras_cv.layers.JitteredResize(\n",
        "    target_size=(640, 640),\n",
        "    scale_factor=(0.75, 1.3),\n",
        "    bounding_box_format=\"xyxy\")\n",
        "\n",
        "val_ds = val_data.map(load_dataset, num_parallel_calls=tf.data.AUTOTUNE)\n",
        "val_ds = val_ds.shuffle(BATCH_SIZE * 4)\n",
        "val_ds = val_ds.ragged_batch(BATCH_SIZE, drop_remainder=True)\n",
        "val_ds = val_ds.map(resizing, num_parallel_calls=tf.data.AUTOTUNE)"
      ],
      "metadata": {
        "id": "tH9r0cont_df"
      },
      "execution_count": null,
      "outputs": []
    },
    {
      "cell_type": "markdown",
      "source": [
        "### Generate Images to predict"
      ],
      "metadata": {
        "id": "hzqxrueUaEW0"
      }
    },
    {
      "cell_type": "code",
      "source": [
        "stable_diffusion = keras_cv.models.StableDiffusionV2(512, 512)\n",
        "images = stable_diffusion.text_to_image(\n",
        "    prompt=\"A zoomed out photograph of a cool looking cat.  The cat stands in a beautiful forest\",\n",
        "    negative_prompt=\"unrealistic, bad looking, malformed\",\n",
        "    batch_size=4,\n",
        "    seed=1231,\n",
        ")\n",
        "y_pred = model.predict(images)\n",
        "visualization.plot_bounding_box_gallery(\n",
        "    images,\n",
        "    value_range=(0, 255),\n",
        "    y_pred=y_pred,\n",
        "    rows=2,\n",
        "    cols=2,\n",
        "    scale=5,\n",
        "    font_scale=0.7,\n",
        "    bounding_box_format=\"xywh\",\n",
        "    class_mapping=class_mapping,\n",
        ")"
      ],
      "metadata": {
        "id": "uIU2qQxAqM5g"
      },
      "execution_count": null,
      "outputs": []
    },
    {
      "cell_type": "code",
      "source": [],
      "metadata": {
        "id": "Mn8TRL5KqM28"
      },
      "execution_count": null,
      "outputs": []
    }
  ],
  "metadata": {
    "colab": {
      "collapsed_sections": [
        "TsQYxqEyaaj7"
      ],
      "provenance": [],
      "mount_file_id": "1sOK_wd99XKJk3hBZZjQWMMAf0WnI6p4B",
      "authorship_tag": "ABX9TyO2VW7ziWv6bKrjWDSdqtMN",
      "include_colab_link": true
    },
    "kernelspec": {
      "display_name": "Python 3",
      "name": "python3"
    },
    "language_info": {
      "name": "python"
    }
  },
  "nbformat": 4,
  "nbformat_minor": 0
}