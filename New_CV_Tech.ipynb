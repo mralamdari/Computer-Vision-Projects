{
  "nbformat": 4,
  "nbformat_minor": 0,
  "metadata": {
    "colab": {
      "provenance": [],
      "authorship_tag": "ABX9TyP7HaBHQSxvhhBZdZYxLnTL",
      "include_colab_link": true
    },
    "kernelspec": {
      "name": "python3",
      "display_name": "Python 3"
    },
    "language_info": {
      "name": "python"
    }
  },
  "cells": [
    {
      "cell_type": "markdown",
      "metadata": {
        "id": "view-in-github",
        "colab_type": "text"
      },
      "source": [
        "<a href=\"https://colab.research.google.com/github/mralamdari/Computer-Vision-Projects/blob/main/New_CV_Tech.ipynb\" target=\"_parent\"><img src=\"https://colab.research.google.com/assets/colab-badge.svg\" alt=\"Open In Colab\"/></a>"
      ]
    },
    {
      "cell_type": "markdown",
      "source": [
        "#[CVlib](https://www.analyticsvidhya.com/blog/2021/06/yolo-object-detection-in-seconds-cvlib/)\n",
        "\n",
        "[Github](https://github.com/arunponnusamy/cvlib)"
      ],
      "metadata": {
        "id": "13_l3PuEQNMy"
      }
    },
    {
      "cell_type": "code",
      "execution_count": null,
      "metadata": {
        "id": "9GzN7N8-9PB2"
      },
      "outputs": [],
      "source": [
        "!pip install cvlib\n",
        "import cvlib as cv"
      ]
    },
    {
      "cell_type": "code",
      "source": [
        "import cv2\n",
        "import cvlib as cv\n",
        "from cvlib.object_detection import draw_bbox\n",
        "def detect_and_draw_box(filename, model=\"yolov3-tiny\", confidence=0.6):\n",
        "    \"\"\"Detects common objects on an image and creates a new image with bounding boxes.\n",
        "    Args:\n",
        "        filename (str): Filename of the image.\n",
        "        model (str): Either \"yolov3\" or \"yolov3-tiny\". Defaults to \"yolov3-tiny\".\n",
        "        confidence (float, optional): Desired confidence level. Defaults to 0.6.\n",
        "    \"\"\"\n",
        "    img = cv2.imread( f'images/{filename}')\n",
        "    # Perform the object detection\n",
        "    bbox, label, conf = cv.detect_common_objects(img, confidence=confidence, model=model)\n",
        "    # Print current image's filename\n",
        "    print(f\"========================nImage processed: {filename}n\")\n",
        "    # Print detected objects with confidence level\n",
        "    for l, c in zip(label, conf):\n",
        "        print(f\"Detected object: {l} with confidence level of {c}n\")\n",
        "    # Create a new image that includes the bounding boxes\n",
        "    output_image = draw_bbox(img, bbox, label, conf)\n",
        "    # Save the image in the directory images_with_boxes\n",
        "    cv2.imwrite(f'images_with_boxes/{filename}', output_image)\n",
        "    # Display the image with bounding boxes\n",
        "    display(Image(f'images_with_boxes/{filename}'))"
      ],
      "metadata": {
        "id": "W1U3jevr-Nd7"
      },
      "execution_count": null,
      "outputs": []
    },
    {
      "cell_type": "code",
      "source": [
        "for image_file in image_files:\n",
        "    detect_and_draw_box(image_file)"
      ],
      "metadata": {
        "id": "RqZQPYnrQuEB"
      },
      "execution_count": null,
      "outputs": []
    }
  ]
}