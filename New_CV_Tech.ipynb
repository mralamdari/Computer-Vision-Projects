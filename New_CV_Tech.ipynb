{
  "nbformat": 4,
  "nbformat_minor": 0,
  "metadata": {
    "colab": {
      "provenance": [],
      "authorship_tag": "ABX9TyMvtCmbBTfafdgBdXhMtBt8",
      "include_colab_link": true
    },
    "kernelspec": {
      "name": "python3",
      "display_name": "Python 3"
    },
    "language_info": {
      "name": "python"
    }
  },
  "cells": [
    {
      "cell_type": "markdown",
      "metadata": {
        "id": "view-in-github",
        "colab_type": "text"
      },
      "source": [
        "<a href=\"https://colab.research.google.com/github/mralamdari/Computer-Vision-Projects/blob/main/New_CV_Tech.ipynb\" target=\"_parent\"><img src=\"https://colab.research.google.com/assets/colab-badge.svg\" alt=\"Open In Colab\"/></a>"
      ]
    },
    {
      "cell_type": "markdown",
      "source": [
        "#[CVlib](https://www.analyticsvidhya.com/blog/2021/06/yolo-object-detection-in-seconds-cvlib/)\n",
        "\n",
        "[Github](https://github.com/arunponnusamy/cvlib)"
      ],
      "metadata": {
        "id": "13_l3PuEQNMy"
      }
    },
    {
      "cell_type": "code",
      "source": [
        "!pip install cvlib"
      ],
      "metadata": {
        "id": "DxKRyOwh_v-d"
      },
      "execution_count": null,
      "outputs": []
    },
    {
      "cell_type": "code",
      "execution_count": 15,
      "metadata": {
        "id": "9GzN7N8-9PB2"
      },
      "outputs": [],
      "source": [
        "import os\n",
        "import cv2\n",
        "import cvlib as cv\n",
        "from cvlib.object_detection import draw_bbox\n",
        "from PIL import Image\n",
        "from google.colab.patches import cv2_imshow"
      ]
    },
    {
      "cell_type": "code",
      "source": [
        "def detect_and_draw_box(filename, model=\"yolov3-tiny\", confidence=0.6):\n",
        "    img = cv2.imread( f'/content/{filename}')\n",
        "    bbox, label, conf = cv.detect_common_objects(img, confidence=confidence, model=model)\n",
        "    print(f\"========================nImage processed: {filename}n\")\n",
        "    # Print detected objects with confidence level\n",
        "    for l, c in zip(label, conf):\n",
        "        print(f\"Detected object: {l} with confidence level of {c}n\")\n",
        "\n",
        "    output_image = draw_bbox(img, bbox, label, conf)\n",
        "    cv2.imwrite(f'/content/images_with_boxes/{filename}', output_image)\n",
        "    # Image(f'/content/images_with_boxes/{filename}')\n",
        "    # cv2_imshow()\n",
        "detect_and_draw_box('img.jpg')\n"
      ],
      "metadata": {
        "id": "W1U3jevr-Nd7",
        "colab": {
          "base_uri": "https://localhost:8080/"
        },
        "outputId": "faf669a5-8bd6-4fba-b775-db1a6c8c2032"
      },
      "execution_count": 14,
      "outputs": [
        {
          "output_type": "stream",
          "name": "stdout",
          "text": [
            "========================nImage processed: img.jpgn\n",
            "Detected object: person with confidence level of 0.9232693314552307n\n",
            "Detected object: person with confidence level of 0.7795315980911255n\n"
          ]
        }
      ]
    },
    {
      "cell_type": "code",
      "source": [
        "# for image_file in image_files:\n",
        "#     detect_and_draw_box('image_file')"
      ],
      "metadata": {
        "id": "RqZQPYnrQuEB"
      },
      "execution_count": 10,
      "outputs": []
    },
    {
      "cell_type": "code",
      "source": [],
      "metadata": {
        "id": "zr0A7VsD_tkK"
      },
      "execution_count": null,
      "outputs": []
    }
  ]
}