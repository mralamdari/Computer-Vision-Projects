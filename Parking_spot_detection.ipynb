{
  "cells": [
    {
      "cell_type": "markdown",
      "metadata": {
        "id": "view-in-github",
        "colab_type": "text"
      },
      "source": [
        "<a href=\"https://colab.research.google.com/github/mralamdari/Computer-Vision-Projects/blob/main/Parking_spot_detection.ipynb\" target=\"_parent\"><img src=\"https://colab.research.google.com/assets/colab-badge.svg\" alt=\"Open In Colab\"/></a>"
      ]
    },
    {
      "cell_type": "markdown",
      "metadata": {
        "id": "TsQYxqEyaaj7"
      },
      "source": [
        "#Image Classifier\n",
        "\n",
        "We buid a modelto predict the parking spots, if they are empty or not.\n",
        "\n",
        "[Data](https://drive.google.com/file/d/11DyZ165lZGzULEZSQNofyy9A8xaYgFJ2)"
      ]
    },
    {
      "cell_type": "code",
      "execution_count": null,
      "metadata": {
        "id": "-y3mBR5vuiw_"
      },
      "outputs": [],
      "source": [
        "import os\n",
        "import cv2\n",
        "import pickle\n",
        "import shutil\n",
        "import sklearn\n",
        "import skimage\n",
        "import numpy as np\n",
        "import pandas as pd\n",
        "\n",
        "from sklearn import svm\n",
        "from sklearn import metrics\n",
        "from sklearn import model_selection"
      ]
    },
    {
      "cell_type": "code",
      "execution_count": null,
      "metadata": {
        "id": "1o0hyJwgfP2z"
      },
      "outputs": [],
      "source": [
        "zip_folder = '/content/drive/MyDrive/DATA/car-parking-slot-empty-notempty.zip'\n",
        "shutil.copyfile(zip_folder, '/content/data.zip')\n",
        "!unzip \\*.zip && rm *.zip"
      ]
    },
    {
      "cell_type": "code",
      "execution_count": null,
      "metadata": {
        "colab": {
          "base_uri": "https://localhost:8080/"
        },
        "id": "Yn5QkPWzuxAz",
        "outputId": "d9e6edd9-c7ba-4709-f138-f9dde2ff655e"
      },
      "outputs": [
        {
          "data": {
            "text/plain": [
              "((6090, 675), (6090,))"
            ]
          },
          "execution_count": 29,
          "metadata": {},
          "output_type": "execute_result"
        }
      ],
      "source": [
        "data = []\n",
        "labels = []\n",
        "for id, cat in enumerate(['empty', 'not_empty']):\n",
        "  path = f'./clf-data/{cat}/'\n",
        "  for img in os.listdir(path):\n",
        "    img = skimage.io.imread(path+img)\n",
        "    img = skimage.transform.resize(img, (15, 15))\n",
        "    data.append(img.flatten())\n",
        "    labels.append(id)\n",
        "\n",
        "data = np.asarray(data)\n",
        "labels = np.asarray(labels)\n",
        "\n",
        "data.shape,labels.shape"
      ]
    },
    {
      "cell_type": "code",
      "execution_count": null,
      "metadata": {
        "id": "z23BY9DIIycu"
      },
      "outputs": [],
      "source": [
        "x_train, x_test, y_train, y_test = model_selection.train_test_split(data, labels, test_size=0.2, random_state=32)\n",
        "x_train.shape, x_test.shape"
      ]
    },
    {
      "cell_type": "code",
      "execution_count": null,
      "metadata": {
        "id": "mWwdSCD2JywS"
      },
      "outputs": [],
      "source": [
        "clf = svm.SVC()\n",
        "\n",
        "parameters = [{'gamma': [0.01, 0.001, 0.0001], 'C': [1, 10, 100, 1000]}]\n",
        "\n",
        "grid_search = model_selection.GridSearchCV(clf, parameters)"
      ]
    },
    {
      "cell_type": "code",
      "execution_count": null,
      "metadata": {
        "colab": {
          "base_uri": "https://localhost:8080/"
        },
        "id": "CL49JZHuKpNL",
        "outputId": "e557ad36-f313-415a-80fd-9a3273df848e"
      },
      "outputs": [
        {
          "name": "stdout",
          "output_type": "stream",
          "text": [
            "100.0% of samples were correctly classified\n"
          ]
        }
      ],
      "source": [
        "# grid_search.fit(x_train, y_train)\n",
        "\n",
        "# # test performance\n",
        "# best_estimator = grid_search.best_estimator_\n",
        "\n",
        "# y_prediction = best_estimator.predict(x_test)\n",
        "\n",
        "# score = metrics.accuracy_score(y_prediction, y_test)\n",
        "\n",
        "# print('{}% of samples were correctly classified'.format(str(score * 100)))\n",
        "\n",
        "# pickle.dump(best_estimator, open('./model.p', 'wb'))"
      ]
    },
    {
      "cell_type": "markdown",
      "metadata": {
        "id": "sNa1JXN2eOiD"
      },
      "source": [
        "#Parking Spot Detector"
      ]
    },
    {
      "cell_type": "code",
      "execution_count": null,
      "metadata": {
        "id": "ql613_LCeRyH"
      },
      "outputs": [],
      "source": [
        "MODEL = pickle.load(open(\"./drive/MyDrive/DATA/model.p\", \"rb\"))"
      ]
    },
    {
      "cell_type": "code",
      "execution_count": null,
      "metadata": {
        "id": "V1n1spMQeaZo"
      },
      "outputs": [],
      "source": [
        "def empty_or_not(spot_bgr):\n",
        "\n",
        "    img_resized = skimage.transform.resize(spot_bgr, (15, 15, 3))\n",
        "    pred = MODEL.predict(np.array([img_resized.flatten()]))\n",
        "    return True if pred == 0 else False"
      ]
    },
    {
      "cell_type": "code",
      "execution_count": null,
      "metadata": {
        "id": "TJnT64bUeY88"
      },
      "outputs": [],
      "source": [
        "def get_parking_spots_bboxes(connected_components, coef=1):\n",
        "    (totalLabels, label_ids, values, centroid) = connected_components\n",
        "\n",
        "    slots = []\n",
        "    for i in range(1, totalLabels):\n",
        "\n",
        "        # Now extract the coordinate points\n",
        "        x1 = int(values[i, cv2.CC_STAT_LEFT] * coef)\n",
        "        y1 = int(values[i, cv2.CC_STAT_TOP] * coef)\n",
        "        w = int(values[i, cv2.CC_STAT_WIDTH] * coef)\n",
        "        h = int(values[i, cv2.CC_STAT_HEIGHT] * coef)\n",
        "\n",
        "        slots.append([x1, y1, w, h])\n",
        "\n",
        "    return slots"
      ]
    },
    {
      "cell_type": "code",
      "execution_count": null,
      "metadata": {
        "id": "WK2bG3kHedLJ"
      },
      "outputs": [],
      "source": [
        "calc_diff = lambda im1, im2: np.abs(np.mean(im1) - np.mean(im2))"
      ]
    },
    {
      "cell_type": "code",
      "execution_count": null,
      "metadata": {
        "id": "V7V19EZ6bxxD"
      },
      "outputs": [],
      "source": [
        "mask = './mask_1920_1080.png'\n",
        "video_path = './samples/parking_1920_1080_loop.mp4'\n",
        "\n",
        "\n",
        "mask = cv2.imread(mask, 0)\n",
        "\n",
        "cap = cv2.VideoCapture(video_path)\n",
        "\n",
        "connected_components = cv2.connectedComponentsWithStats(mask, 4, cv2.CV_32S)\n",
        "\n",
        "spots = get_parking_spots_bboxes(connected_components)\n",
        "\n",
        "spots_status = [None for j in spots]\n",
        "diffs = [None for j in spots]\n",
        "\n",
        "previous_frame = None\n",
        "\n",
        "frame_nmr = 0\n",
        "ret = True\n",
        "step = 30\n",
        "while ret:\n",
        "    ret, frame = cap.read()\n",
        "\n",
        "    if frame_nmr % step == 0 and previous_frame is not None:\n",
        "        for spot_indx, spot in enumerate(spots):\n",
        "            x1, y1, w, h = spot\n",
        "\n",
        "            spot_crop = frame[y1:y1 + h, x1:x1 + w, :]\n",
        "\n",
        "            diffs[spot_indx] = calc_diff(spot_crop, previous_frame[y1:y1 + h, x1:x1 + w, :])\n",
        "\n",
        "        print([diffs[j] for j in np.argsort(diffs)][::-1])\n",
        "\n",
        "    if frame_nmr % step == 0:\n",
        "        if previous_frame is None:\n",
        "            arr_ = range(len(spots))\n",
        "        else:\n",
        "            arr_ = [j for j in np.argsort(diffs) if diffs[j] / np.amax(diffs) > 0.4]\n",
        "        for spot_indx in arr_:\n",
        "            spot = spots[spot_indx]\n",
        "            x1, y1, w, h = spot\n",
        "\n",
        "            spot_crop = frame[y1:y1 + h, x1:x1 + w, :]\n",
        "\n",
        "            spot_status = empty_or_not(spot_crop)\n",
        "\n",
        "            spots_status[spot_indx] = spot_status\n",
        "\n",
        "    if frame_nmr % step == 0:\n",
        "        previous_frame = frame.copy()\n",
        "\n",
        "    for spot_indx, spot in enumerate(spots):\n",
        "        spot_status = spots_status[spot_indx]\n",
        "        x1, y1, w, h = spots[spot_indx]\n",
        "\n",
        "        if spot_status:\n",
        "            frame = cv2.rectangle(frame, (x1, y1), (x1 + w, y1 + h), (0, 255, 0), 2)\n",
        "        else:\n",
        "            frame = cv2.rectangle(frame, (x1, y1), (x1 + w, y1 + h), (0, 0, 255), 2)\n",
        "\n",
        "    cv2.rectangle(frame, (80, 20), (550, 80), (0, 0, 0), -1)\n",
        "    cv2.putText(frame, 'Available spots: {} / {}'.format(str(sum(spots_status)), str(len(spots_status))), (100, 60),\n",
        "                cv2.FONT_HERSHEY_SIMPLEX, 1, (255, 255, 255), 2)\n",
        "\n",
        "    cv2.namedWindow('frame', cv2.WINDOW_NORMAL)\n",
        "    cv2.imshow('frame', frame)\n",
        "    if cv2.waitKey(25) & 0xFF == ord('q'):\n",
        "        break\n",
        "\n",
        "    frame_nmr += 1\n",
        "\n",
        "cap.release()\n",
        "cv2.destroyAllWindows()"
      ]
    },
    {
      "cell_type": "markdown",
      "metadata": {
        "id": "-cuS8uFAtd_U"
      },
      "source": [
        "#New\n",
        "[pklotsdbs](https://www.kaggle.com/datasets/blanderbuss/parking-lot-dataset)"
      ]
    },
    {
      "cell_type": "code",
      "execution_count": 1,
      "metadata": {
        "id": "QHJabRqJupxe"
      },
      "outputs": [],
      "source": [
        "import os\n",
        "import cv2\n",
        "import numpy as np\n",
        "import pandas as pd\n",
        "import tensorflow as tf\n",
        "import matplotlib.pyplot as plt\n",
        "from sklearn import model_selection\n",
        "from IPython.display import clear_output"
      ]
    },
    {
      "cell_type": "code",
      "execution_count": 2,
      "metadata": {
        "id": "WDrjvopEteZy"
      },
      "outputs": [],
      "source": [
        "os.environ['KAGGLE_CONFIG_DIR'] = '/content/drive/MyDrive'\n",
        "!kaggle datasets download -d blanderbuss/parking-lot-dataset\n",
        "!unzip \\*.zip && rm *.zip\n",
        "clear_output()"
      ]
    },
    {
      "cell_type": "markdown",
      "metadata": {
        "id": "g7fN7PFLtXMW"
      },
      "source": [
        "#Yolo V8"
      ]
    },
    {
      "cell_type": "code",
      "execution_count": null,
      "metadata": {
        "id": "JQD0RsSAtX9w"
      },
      "outputs": [],
      "source": [
        "#install necessary libraries\n",
        "!pip install awscli\n",
        "!pip install ultralytics\n",
        "clear_output()"
      ]
    },
    {
      "cell_type": "code",
      "execution_count": null,
      "metadata": {
        "colab": {
          "base_uri": "https://localhost:8080/",
          "height": 423
        },
        "id": "wtsqY1intX6o",
        "outputId": "14791f48-c652-4fc7-b6de-2b535224c579"
      },
      "outputs": [
        {
          "data": {
            "text/html": [
              "\n",
              "  <div id=\"df-52832f57-690f-4064-98e5-b3920b555ddf\" class=\"colab-df-container\">\n",
              "    <div>\n",
              "<style scoped>\n",
              "    .dataframe tbody tr th:only-of-type {\n",
              "        vertical-align: middle;\n",
              "    }\n",
              "\n",
              "    .dataframe tbody tr th {\n",
              "        vertical-align: top;\n",
              "    }\n",
              "\n",
              "    .dataframe thead th {\n",
              "        text-align: right;\n",
              "    }\n",
              "</style>\n",
              "<table border=\"1\" class=\"dataframe\">\n",
              "  <thead>\n",
              "    <tr style=\"text-align: right;\">\n",
              "      <th></th>\n",
              "      <th>path</th>\n",
              "      <th>label</th>\n",
              "    </tr>\n",
              "  </thead>\n",
              "  <tbody>\n",
              "    <tr>\n",
              "      <th>0</th>\n",
              "      <td>./data/train/Empty/2013-03-16_11_45_06#017.jpg</td>\n",
              "      <td>0</td>\n",
              "    </tr>\n",
              "    <tr>\n",
              "      <th>1</th>\n",
              "      <td>./data/train/Occupied/2013-03-16_13_20_08#023.jpg</td>\n",
              "      <td>1</td>\n",
              "    </tr>\n",
              "    <tr>\n",
              "      <th>2</th>\n",
              "      <td>./data/train/Empty/2013-02-26_15_54_36#009.jpg</td>\n",
              "      <td>0</td>\n",
              "    </tr>\n",
              "    <tr>\n",
              "      <th>3</th>\n",
              "      <td>./data/validation/Occupied/2013-02-26_15_09_35...</td>\n",
              "      <td>1</td>\n",
              "    </tr>\n",
              "    <tr>\n",
              "      <th>4</th>\n",
              "      <td>./data/validation/Empty/2013-03-02_12_55_08#03...</td>\n",
              "      <td>0</td>\n",
              "    </tr>\n",
              "    <tr>\n",
              "      <th>...</th>\n",
              "      <td>...</td>\n",
              "      <td>...</td>\n",
              "    </tr>\n",
              "    <tr>\n",
              "      <th>257</th>\n",
              "      <td>./data/train/Occupied/2012-11-10_10_42_50#039.jpg</td>\n",
              "      <td>1</td>\n",
              "    </tr>\n",
              "    <tr>\n",
              "      <th>258</th>\n",
              "      <td>./data/train/Empty/2012-10-25_17_38_48#004.jpg</td>\n",
              "      <td>0</td>\n",
              "    </tr>\n",
              "    <tr>\n",
              "      <th>259</th>\n",
              "      <td>./data/train/Occupied/2012-10-25_15_33_41#022.jpg</td>\n",
              "      <td>1</td>\n",
              "    </tr>\n",
              "    <tr>\n",
              "      <th>260</th>\n",
              "      <td>./data/train/Empty/2012-09-16_07_12_57#076.jpg</td>\n",
              "      <td>0</td>\n",
              "    </tr>\n",
              "    <tr>\n",
              "      <th>261</th>\n",
              "      <td>./data/train/Occupied/2012-09-16_07_47_58#052.jpg</td>\n",
              "      <td>1</td>\n",
              "    </tr>\n",
              "  </tbody>\n",
              "</table>\n",
              "<p>262 rows × 2 columns</p>\n",
              "</div>\n",
              "    <div class=\"colab-df-buttons\">\n",
              "\n",
              "  <div class=\"colab-df-container\">\n",
              "    <button class=\"colab-df-convert\" onclick=\"convertToInteractive('df-52832f57-690f-4064-98e5-b3920b555ddf')\"\n",
              "            title=\"Convert this dataframe to an interactive table.\"\n",
              "            style=\"display:none;\">\n",
              "\n",
              "  <svg xmlns=\"http://www.w3.org/2000/svg\" height=\"24px\" viewBox=\"0 -960 960 960\">\n",
              "    <path d=\"M120-120v-720h720v720H120Zm60-500h600v-160H180v160Zm220 220h160v-160H400v160Zm0 220h160v-160H400v160ZM180-400h160v-160H180v160Zm440 0h160v-160H620v160ZM180-180h160v-160H180v160Zm440 0h160v-160H620v160Z\"/>\n",
              "  </svg>\n",
              "    </button>\n",
              "\n",
              "  <style>\n",
              "    .colab-df-container {\n",
              "      display:flex;\n",
              "      gap: 12px;\n",
              "    }\n",
              "\n",
              "    .colab-df-convert {\n",
              "      background-color: #E8F0FE;\n",
              "      border: none;\n",
              "      border-radius: 50%;\n",
              "      cursor: pointer;\n",
              "      display: none;\n",
              "      fill: #1967D2;\n",
              "      height: 32px;\n",
              "      padding: 0 0 0 0;\n",
              "      width: 32px;\n",
              "    }\n",
              "\n",
              "    .colab-df-convert:hover {\n",
              "      background-color: #E2EBFA;\n",
              "      box-shadow: 0px 1px 2px rgba(60, 64, 67, 0.3), 0px 1px 3px 1px rgba(60, 64, 67, 0.15);\n",
              "      fill: #174EA6;\n",
              "    }\n",
              "\n",
              "    .colab-df-buttons div {\n",
              "      margin-bottom: 4px;\n",
              "    }\n",
              "\n",
              "    [theme=dark] .colab-df-convert {\n",
              "      background-color: #3B4455;\n",
              "      fill: #D2E3FC;\n",
              "    }\n",
              "\n",
              "    [theme=dark] .colab-df-convert:hover {\n",
              "      background-color: #434B5C;\n",
              "      box-shadow: 0px 1px 3px 1px rgba(0, 0, 0, 0.15);\n",
              "      filter: drop-shadow(0px 1px 2px rgba(0, 0, 0, 0.3));\n",
              "      fill: #FFFFFF;\n",
              "    }\n",
              "  </style>\n",
              "\n",
              "    <script>\n",
              "      const buttonEl =\n",
              "        document.querySelector('#df-52832f57-690f-4064-98e5-b3920b555ddf button.colab-df-convert');\n",
              "      buttonEl.style.display =\n",
              "        google.colab.kernel.accessAllowed ? 'block' : 'none';\n",
              "\n",
              "      async function convertToInteractive(key) {\n",
              "        const element = document.querySelector('#df-52832f57-690f-4064-98e5-b3920b555ddf');\n",
              "        const dataTable =\n",
              "          await google.colab.kernel.invokeFunction('convertToInteractive',\n",
              "                                                    [key], {});\n",
              "        if (!dataTable) return;\n",
              "\n",
              "        const docLinkHtml = 'Like what you see? Visit the ' +\n",
              "          '<a target=\"_blank\" href=https://colab.research.google.com/notebooks/data_table.ipynb>data table notebook</a>'\n",
              "          + ' to learn more about interactive tables.';\n",
              "        element.innerHTML = '';\n",
              "        dataTable['output_type'] = 'display_data';\n",
              "        await google.colab.output.renderOutput(dataTable, element);\n",
              "        const docLink = document.createElement('div');\n",
              "        docLink.innerHTML = docLinkHtml;\n",
              "        element.appendChild(docLink);\n",
              "      }\n",
              "    </script>\n",
              "  </div>\n",
              "\n",
              "\n",
              "<div id=\"df-f9be4162-e1d1-49b2-b8d9-329a485bc1c2\">\n",
              "  <button class=\"colab-df-quickchart\" onclick=\"quickchart('df-f9be4162-e1d1-49b2-b8d9-329a485bc1c2')\"\n",
              "            title=\"Suggest charts.\"\n",
              "            style=\"display:none;\">\n",
              "\n",
              "<svg xmlns=\"http://www.w3.org/2000/svg\" height=\"24px\"viewBox=\"0 0 24 24\"\n",
              "     width=\"24px\">\n",
              "    <g>\n",
              "        <path d=\"M19 3H5c-1.1 0-2 .9-2 2v14c0 1.1.9 2 2 2h14c1.1 0 2-.9 2-2V5c0-1.1-.9-2-2-2zM9 17H7v-7h2v7zm4 0h-2V7h2v10zm4 0h-2v-4h2v4z\"/>\n",
              "    </g>\n",
              "</svg>\n",
              "  </button>\n",
              "\n",
              "<style>\n",
              "  .colab-df-quickchart {\n",
              "      --bg-color: #E8F0FE;\n",
              "      --fill-color: #1967D2;\n",
              "      --hover-bg-color: #E2EBFA;\n",
              "      --hover-fill-color: #174EA6;\n",
              "      --disabled-fill-color: #AAA;\n",
              "      --disabled-bg-color: #DDD;\n",
              "  }\n",
              "\n",
              "  [theme=dark] .colab-df-quickchart {\n",
              "      --bg-color: #3B4455;\n",
              "      --fill-color: #D2E3FC;\n",
              "      --hover-bg-color: #434B5C;\n",
              "      --hover-fill-color: #FFFFFF;\n",
              "      --disabled-bg-color: #3B4455;\n",
              "      --disabled-fill-color: #666;\n",
              "  }\n",
              "\n",
              "  .colab-df-quickchart {\n",
              "    background-color: var(--bg-color);\n",
              "    border: none;\n",
              "    border-radius: 50%;\n",
              "    cursor: pointer;\n",
              "    display: none;\n",
              "    fill: var(--fill-color);\n",
              "    height: 32px;\n",
              "    padding: 0;\n",
              "    width: 32px;\n",
              "  }\n",
              "\n",
              "  .colab-df-quickchart:hover {\n",
              "    background-color: var(--hover-bg-color);\n",
              "    box-shadow: 0 1px 2px rgba(60, 64, 67, 0.3), 0 1px 3px 1px rgba(60, 64, 67, 0.15);\n",
              "    fill: var(--button-hover-fill-color);\n",
              "  }\n",
              "\n",
              "  .colab-df-quickchart-complete:disabled,\n",
              "  .colab-df-quickchart-complete:disabled:hover {\n",
              "    background-color: var(--disabled-bg-color);\n",
              "    fill: var(--disabled-fill-color);\n",
              "    box-shadow: none;\n",
              "  }\n",
              "\n",
              "  .colab-df-spinner {\n",
              "    border: 2px solid var(--fill-color);\n",
              "    border-color: transparent;\n",
              "    border-bottom-color: var(--fill-color);\n",
              "    animation:\n",
              "      spin 1s steps(1) infinite;\n",
              "  }\n",
              "\n",
              "  @keyframes spin {\n",
              "    0% {\n",
              "      border-color: transparent;\n",
              "      border-bottom-color: var(--fill-color);\n",
              "      border-left-color: var(--fill-color);\n",
              "    }\n",
              "    20% {\n",
              "      border-color: transparent;\n",
              "      border-left-color: var(--fill-color);\n",
              "      border-top-color: var(--fill-color);\n",
              "    }\n",
              "    30% {\n",
              "      border-color: transparent;\n",
              "      border-left-color: var(--fill-color);\n",
              "      border-top-color: var(--fill-color);\n",
              "      border-right-color: var(--fill-color);\n",
              "    }\n",
              "    40% {\n",
              "      border-color: transparent;\n",
              "      border-right-color: var(--fill-color);\n",
              "      border-top-color: var(--fill-color);\n",
              "    }\n",
              "    60% {\n",
              "      border-color: transparent;\n",
              "      border-right-color: var(--fill-color);\n",
              "    }\n",
              "    80% {\n",
              "      border-color: transparent;\n",
              "      border-right-color: var(--fill-color);\n",
              "      border-bottom-color: var(--fill-color);\n",
              "    }\n",
              "    90% {\n",
              "      border-color: transparent;\n",
              "      border-bottom-color: var(--fill-color);\n",
              "    }\n",
              "  }\n",
              "</style>\n",
              "\n",
              "  <script>\n",
              "    async function quickchart(key) {\n",
              "      const quickchartButtonEl =\n",
              "        document.querySelector('#' + key + ' button');\n",
              "      quickchartButtonEl.disabled = true;  // To prevent multiple clicks.\n",
              "      quickchartButtonEl.classList.add('colab-df-spinner');\n",
              "      try {\n",
              "        const charts = await google.colab.kernel.invokeFunction(\n",
              "            'suggestCharts', [key], {});\n",
              "      } catch (error) {\n",
              "        console.error('Error during call to suggestCharts:', error);\n",
              "      }\n",
              "      quickchartButtonEl.classList.remove('colab-df-spinner');\n",
              "      quickchartButtonEl.classList.add('colab-df-quickchart-complete');\n",
              "    }\n",
              "    (() => {\n",
              "      let quickchartButtonEl =\n",
              "        document.querySelector('#df-f9be4162-e1d1-49b2-b8d9-329a485bc1c2 button');\n",
              "      quickchartButtonEl.style.display =\n",
              "        google.colab.kernel.accessAllowed ? 'block' : 'none';\n",
              "    })();\n",
              "  </script>\n",
              "</div>\n",
              "    </div>\n",
              "  </div>\n"
            ],
            "text/plain": [
              "                                                  path  label\n",
              "0       ./data/train/Empty/2013-03-16_11_45_06#017.jpg      0\n",
              "1    ./data/train/Occupied/2013-03-16_13_20_08#023.jpg      1\n",
              "2       ./data/train/Empty/2013-02-26_15_54_36#009.jpg      0\n",
              "3    ./data/validation/Occupied/2013-02-26_15_09_35...      1\n",
              "4    ./data/validation/Empty/2013-03-02_12_55_08#03...      0\n",
              "..                                                 ...    ...\n",
              "257  ./data/train/Occupied/2012-11-10_10_42_50#039.jpg      1\n",
              "258     ./data/train/Empty/2012-10-25_17_38_48#004.jpg      0\n",
              "259  ./data/train/Occupied/2012-10-25_15_33_41#022.jpg      1\n",
              "260     ./data/train/Empty/2012-09-16_07_12_57#076.jpg      0\n",
              "261  ./data/train/Occupied/2012-09-16_07_47_58#052.jpg      1\n",
              "\n",
              "[262 rows x 2 columns]"
            ]
          },
          "execution_count": 18,
          "metadata": {},
          "output_type": "execute_result"
        }
      ],
      "source": [
        "cls_data = './PKLot/PKLotSegmented'\n",
        "train_path_1 = './data/train/Empty/'\n",
        "train_path_2 = './data/train/Occupied/'\n",
        "val_path_1   = './data/validation/Empty/'\n",
        "val_path_2   = './data/validation/Occupied/'\n",
        "\n",
        "os.makedirs(train_path_1, exist_ok=True)\n",
        "os.makedirs(val_path_1, exist_ok=True)\n",
        "os.makedirs(train_path_2, exist_ok=True)\n",
        "os.makedirs(val_path_2, exist_ok=True)\n",
        "\n",
        "VAL_THRESHOLD = 0.2\n",
        "data_arr = []\n",
        "\n",
        "for cat in os.listdir(cls_data):\n",
        "  for crs in os.listdir(cls_data+'/'+cat):\n",
        "    for day in os.listdir(cls_data+'/'+cat+'/'+crs):\n",
        "      for E_O in os.listdir(cls_data+'/'+cat+'/'+crs+'/'+day):\n",
        "        for img in os.listdir(cls_data+'/'+cat+'/'+crs+'/'+day+'/'+E_O):\n",
        "          path = os.path.join(cls_data, cat, crs, day, E_O, img)\n",
        "          folder_name = 'train' if np.random.randn()<VAL_THRESHOLD else 'validation'\n",
        "          target = os.path.join('./data', folder_name, E_O, img)\n",
        "          label = 0 if E_O == 'Empty' else 1\n",
        "          data_arr.append([target, label])\n",
        "          os.replace(path, target)\n",
        "          break\n",
        "\n",
        "data = pd.DataFrame(data_arr, columns=['path', 'label'])\n",
        "data"
      ]
    },
    {
      "cell_type": "code",
      "execution_count": null,
      "metadata": {
        "id": "f1TFzh4btXzl"
      },
      "outputs": [],
      "source": [
        "from ultralytics import YOLO\n",
        "\n",
        "model = YOLO('yolov8n.yaml')\n",
        "model.train(data='./data', epochs = 10, device='cpu', seed=32)"
      ]
    },
    {
      "cell_type": "code",
      "execution_count": null,
      "metadata": {
        "id": "8unddyQCte7x"
      },
      "outputs": [],
      "source": [
        "from ultralytics import YOLO\n",
        "\n",
        "# model = YOLO('yolov8n.yaml').load('yolov8n-cls.pt')  # build from YAML and transfer weights\n",
        "model = YOLO('yolov8n-cls.pt')\n",
        "model.train(data='./data', epochs = 10, device='cpu', seed=32)"
      ]
    },
    {
      "cell_type": "markdown",
      "metadata": {
        "id": "GXy-F-NjbKMb"
      },
      "source": [
        "#Classification"
      ]
    },
    {
      "cell_type": "code",
      "execution_count": 3,
      "metadata": {
        "id": "su8_6GkGZtml"
      },
      "outputs": [],
      "source": [
        "cls_data = './PKLot/PKLotSegmented'\n",
        "train_path = './data/train'\n",
        "val_path   = './data/validation'\n",
        "os.makedirs(train_path, exist_ok=True)\n",
        "os.makedirs(val_path, exist_ok=True)\n",
        "\n",
        "VAL_THRESHOLD = 0.2"
      ]
    },
    {
      "cell_type": "code",
      "execution_count": 4,
      "metadata": {
        "colab": {
          "base_uri": "https://localhost:8080/",
          "height": 423
        },
        "id": "8cb7RSFnYIZL",
        "outputId": "4cdba191-6ceb-4154-9cec-649a2df92ac4"
      },
      "outputs": [
        {
          "output_type": "execute_result",
          "data": {
            "text/plain": [
              "                                                path  label\n",
              "0           ./data/train/2013-01-20_14_25_10#005.jpg      0\n",
              "1           ./data/train/2013-01-20_10_50_06#015.jpg      0\n",
              "2      ./data/validation/2013-01-20_08_25_03#006.jpg      0\n",
              "3           ./data/train/2013-01-20_16_45_12#013.jpg      0\n",
              "4           ./data/train/2013-01-20_16_55_12#004.jpg      0\n",
              "...                                              ...    ...\n",
              "19981  ./data/validation/2013-04-10_17_25_12#005.jpg      1\n",
              "19982  ./data/validation/2013-04-10_10_15_04#031.jpg      1\n",
              "19983       ./data/train/2013-04-10_07_50_02#007.jpg      1\n",
              "19984  ./data/validation/2013-04-10_08_15_02#012.jpg      1\n",
              "19985       ./data/train/2013-04-10_15_20_10#012.jpg      1\n",
              "\n",
              "[19986 rows x 2 columns]"
            ],
            "text/html": [
              "\n",
              "  <div id=\"df-6e93641b-b6f4-4b38-bf8c-93ca93c0552d\" class=\"colab-df-container\">\n",
              "    <div>\n",
              "<style scoped>\n",
              "    .dataframe tbody tr th:only-of-type {\n",
              "        vertical-align: middle;\n",
              "    }\n",
              "\n",
              "    .dataframe tbody tr th {\n",
              "        vertical-align: top;\n",
              "    }\n",
              "\n",
              "    .dataframe thead th {\n",
              "        text-align: right;\n",
              "    }\n",
              "</style>\n",
              "<table border=\"1\" class=\"dataframe\">\n",
              "  <thead>\n",
              "    <tr style=\"text-align: right;\">\n",
              "      <th></th>\n",
              "      <th>path</th>\n",
              "      <th>label</th>\n",
              "    </tr>\n",
              "  </thead>\n",
              "  <tbody>\n",
              "    <tr>\n",
              "      <th>0</th>\n",
              "      <td>./data/train/2013-01-20_14_25_10#005.jpg</td>\n",
              "      <td>0</td>\n",
              "    </tr>\n",
              "    <tr>\n",
              "      <th>1</th>\n",
              "      <td>./data/train/2013-01-20_10_50_06#015.jpg</td>\n",
              "      <td>0</td>\n",
              "    </tr>\n",
              "    <tr>\n",
              "      <th>2</th>\n",
              "      <td>./data/validation/2013-01-20_08_25_03#006.jpg</td>\n",
              "      <td>0</td>\n",
              "    </tr>\n",
              "    <tr>\n",
              "      <th>3</th>\n",
              "      <td>./data/train/2013-01-20_16_45_12#013.jpg</td>\n",
              "      <td>0</td>\n",
              "    </tr>\n",
              "    <tr>\n",
              "      <th>4</th>\n",
              "      <td>./data/train/2013-01-20_16_55_12#004.jpg</td>\n",
              "      <td>0</td>\n",
              "    </tr>\n",
              "    <tr>\n",
              "      <th>...</th>\n",
              "      <td>...</td>\n",
              "      <td>...</td>\n",
              "    </tr>\n",
              "    <tr>\n",
              "      <th>19981</th>\n",
              "      <td>./data/validation/2013-04-10_17_25_12#005.jpg</td>\n",
              "      <td>1</td>\n",
              "    </tr>\n",
              "    <tr>\n",
              "      <th>19982</th>\n",
              "      <td>./data/validation/2013-04-10_10_15_04#031.jpg</td>\n",
              "      <td>1</td>\n",
              "    </tr>\n",
              "    <tr>\n",
              "      <th>19983</th>\n",
              "      <td>./data/train/2013-04-10_07_50_02#007.jpg</td>\n",
              "      <td>1</td>\n",
              "    </tr>\n",
              "    <tr>\n",
              "      <th>19984</th>\n",
              "      <td>./data/validation/2013-04-10_08_15_02#012.jpg</td>\n",
              "      <td>1</td>\n",
              "    </tr>\n",
              "    <tr>\n",
              "      <th>19985</th>\n",
              "      <td>./data/train/2013-04-10_15_20_10#012.jpg</td>\n",
              "      <td>1</td>\n",
              "    </tr>\n",
              "  </tbody>\n",
              "</table>\n",
              "<p>19986 rows × 2 columns</p>\n",
              "</div>\n",
              "    <div class=\"colab-df-buttons\">\n",
              "\n",
              "  <div class=\"colab-df-container\">\n",
              "    <button class=\"colab-df-convert\" onclick=\"convertToInteractive('df-6e93641b-b6f4-4b38-bf8c-93ca93c0552d')\"\n",
              "            title=\"Convert this dataframe to an interactive table.\"\n",
              "            style=\"display:none;\">\n",
              "\n",
              "  <svg xmlns=\"http://www.w3.org/2000/svg\" height=\"24px\" viewBox=\"0 -960 960 960\">\n",
              "    <path d=\"M120-120v-720h720v720H120Zm60-500h600v-160H180v160Zm220 220h160v-160H400v160Zm0 220h160v-160H400v160ZM180-400h160v-160H180v160Zm440 0h160v-160H620v160ZM180-180h160v-160H180v160Zm440 0h160v-160H620v160Z\"/>\n",
              "  </svg>\n",
              "    </button>\n",
              "\n",
              "  <style>\n",
              "    .colab-df-container {\n",
              "      display:flex;\n",
              "      gap: 12px;\n",
              "    }\n",
              "\n",
              "    .colab-df-convert {\n",
              "      background-color: #E8F0FE;\n",
              "      border: none;\n",
              "      border-radius: 50%;\n",
              "      cursor: pointer;\n",
              "      display: none;\n",
              "      fill: #1967D2;\n",
              "      height: 32px;\n",
              "      padding: 0 0 0 0;\n",
              "      width: 32px;\n",
              "    }\n",
              "\n",
              "    .colab-df-convert:hover {\n",
              "      background-color: #E2EBFA;\n",
              "      box-shadow: 0px 1px 2px rgba(60, 64, 67, 0.3), 0px 1px 3px 1px rgba(60, 64, 67, 0.15);\n",
              "      fill: #174EA6;\n",
              "    }\n",
              "\n",
              "    .colab-df-buttons div {\n",
              "      margin-bottom: 4px;\n",
              "    }\n",
              "\n",
              "    [theme=dark] .colab-df-convert {\n",
              "      background-color: #3B4455;\n",
              "      fill: #D2E3FC;\n",
              "    }\n",
              "\n",
              "    [theme=dark] .colab-df-convert:hover {\n",
              "      background-color: #434B5C;\n",
              "      box-shadow: 0px 1px 3px 1px rgba(0, 0, 0, 0.15);\n",
              "      filter: drop-shadow(0px 1px 2px rgba(0, 0, 0, 0.3));\n",
              "      fill: #FFFFFF;\n",
              "    }\n",
              "  </style>\n",
              "\n",
              "    <script>\n",
              "      const buttonEl =\n",
              "        document.querySelector('#df-6e93641b-b6f4-4b38-bf8c-93ca93c0552d button.colab-df-convert');\n",
              "      buttonEl.style.display =\n",
              "        google.colab.kernel.accessAllowed ? 'block' : 'none';\n",
              "\n",
              "      async function convertToInteractive(key) {\n",
              "        const element = document.querySelector('#df-6e93641b-b6f4-4b38-bf8c-93ca93c0552d');\n",
              "        const dataTable =\n",
              "          await google.colab.kernel.invokeFunction('convertToInteractive',\n",
              "                                                    [key], {});\n",
              "        if (!dataTable) return;\n",
              "\n",
              "        const docLinkHtml = 'Like what you see? Visit the ' +\n",
              "          '<a target=\"_blank\" href=https://colab.research.google.com/notebooks/data_table.ipynb>data table notebook</a>'\n",
              "          + ' to learn more about interactive tables.';\n",
              "        element.innerHTML = '';\n",
              "        dataTable['output_type'] = 'display_data';\n",
              "        await google.colab.output.renderOutput(dataTable, element);\n",
              "        const docLink = document.createElement('div');\n",
              "        docLink.innerHTML = docLinkHtml;\n",
              "        element.appendChild(docLink);\n",
              "      }\n",
              "    </script>\n",
              "  </div>\n",
              "\n",
              "\n",
              "<div id=\"df-2640a4b7-91ae-4062-96bd-c814f84176f3\">\n",
              "  <button class=\"colab-df-quickchart\" onclick=\"quickchart('df-2640a4b7-91ae-4062-96bd-c814f84176f3')\"\n",
              "            title=\"Suggest charts.\"\n",
              "            style=\"display:none;\">\n",
              "\n",
              "<svg xmlns=\"http://www.w3.org/2000/svg\" height=\"24px\"viewBox=\"0 0 24 24\"\n",
              "     width=\"24px\">\n",
              "    <g>\n",
              "        <path d=\"M19 3H5c-1.1 0-2 .9-2 2v14c0 1.1.9 2 2 2h14c1.1 0 2-.9 2-2V5c0-1.1-.9-2-2-2zM9 17H7v-7h2v7zm4 0h-2V7h2v10zm4 0h-2v-4h2v4z\"/>\n",
              "    </g>\n",
              "</svg>\n",
              "  </button>\n",
              "\n",
              "<style>\n",
              "  .colab-df-quickchart {\n",
              "      --bg-color: #E8F0FE;\n",
              "      --fill-color: #1967D2;\n",
              "      --hover-bg-color: #E2EBFA;\n",
              "      --hover-fill-color: #174EA6;\n",
              "      --disabled-fill-color: #AAA;\n",
              "      --disabled-bg-color: #DDD;\n",
              "  }\n",
              "\n",
              "  [theme=dark] .colab-df-quickchart {\n",
              "      --bg-color: #3B4455;\n",
              "      --fill-color: #D2E3FC;\n",
              "      --hover-bg-color: #434B5C;\n",
              "      --hover-fill-color: #FFFFFF;\n",
              "      --disabled-bg-color: #3B4455;\n",
              "      --disabled-fill-color: #666;\n",
              "  }\n",
              "\n",
              "  .colab-df-quickchart {\n",
              "    background-color: var(--bg-color);\n",
              "    border: none;\n",
              "    border-radius: 50%;\n",
              "    cursor: pointer;\n",
              "    display: none;\n",
              "    fill: var(--fill-color);\n",
              "    height: 32px;\n",
              "    padding: 0;\n",
              "    width: 32px;\n",
              "  }\n",
              "\n",
              "  .colab-df-quickchart:hover {\n",
              "    background-color: var(--hover-bg-color);\n",
              "    box-shadow: 0 1px 2px rgba(60, 64, 67, 0.3), 0 1px 3px 1px rgba(60, 64, 67, 0.15);\n",
              "    fill: var(--button-hover-fill-color);\n",
              "  }\n",
              "\n",
              "  .colab-df-quickchart-complete:disabled,\n",
              "  .colab-df-quickchart-complete:disabled:hover {\n",
              "    background-color: var(--disabled-bg-color);\n",
              "    fill: var(--disabled-fill-color);\n",
              "    box-shadow: none;\n",
              "  }\n",
              "\n",
              "  .colab-df-spinner {\n",
              "    border: 2px solid var(--fill-color);\n",
              "    border-color: transparent;\n",
              "    border-bottom-color: var(--fill-color);\n",
              "    animation:\n",
              "      spin 1s steps(1) infinite;\n",
              "  }\n",
              "\n",
              "  @keyframes spin {\n",
              "    0% {\n",
              "      border-color: transparent;\n",
              "      border-bottom-color: var(--fill-color);\n",
              "      border-left-color: var(--fill-color);\n",
              "    }\n",
              "    20% {\n",
              "      border-color: transparent;\n",
              "      border-left-color: var(--fill-color);\n",
              "      border-top-color: var(--fill-color);\n",
              "    }\n",
              "    30% {\n",
              "      border-color: transparent;\n",
              "      border-left-color: var(--fill-color);\n",
              "      border-top-color: var(--fill-color);\n",
              "      border-right-color: var(--fill-color);\n",
              "    }\n",
              "    40% {\n",
              "      border-color: transparent;\n",
              "      border-right-color: var(--fill-color);\n",
              "      border-top-color: var(--fill-color);\n",
              "    }\n",
              "    60% {\n",
              "      border-color: transparent;\n",
              "      border-right-color: var(--fill-color);\n",
              "    }\n",
              "    80% {\n",
              "      border-color: transparent;\n",
              "      border-right-color: var(--fill-color);\n",
              "      border-bottom-color: var(--fill-color);\n",
              "    }\n",
              "    90% {\n",
              "      border-color: transparent;\n",
              "      border-bottom-color: var(--fill-color);\n",
              "    }\n",
              "  }\n",
              "</style>\n",
              "\n",
              "  <script>\n",
              "    async function quickchart(key) {\n",
              "      const quickchartButtonEl =\n",
              "        document.querySelector('#' + key + ' button');\n",
              "      quickchartButtonEl.disabled = true;  // To prevent multiple clicks.\n",
              "      quickchartButtonEl.classList.add('colab-df-spinner');\n",
              "      try {\n",
              "        const charts = await google.colab.kernel.invokeFunction(\n",
              "            'suggestCharts', [key], {});\n",
              "      } catch (error) {\n",
              "        console.error('Error during call to suggestCharts:', error);\n",
              "      }\n",
              "      quickchartButtonEl.classList.remove('colab-df-spinner');\n",
              "      quickchartButtonEl.classList.add('colab-df-quickchart-complete');\n",
              "    }\n",
              "    (() => {\n",
              "      let quickchartButtonEl =\n",
              "        document.querySelector('#df-2640a4b7-91ae-4062-96bd-c814f84176f3 button');\n",
              "      quickchartButtonEl.style.display =\n",
              "        google.colab.kernel.accessAllowed ? 'block' : 'none';\n",
              "    })();\n",
              "  </script>\n",
              "</div>\n",
              "    </div>\n",
              "  </div>\n"
            ]
          },
          "metadata": {},
          "execution_count": 4
        }
      ],
      "source": [
        "limit = 80\n",
        "data_arr = []\n",
        "\n",
        "for cat in os.listdir(cls_data):\n",
        "  for crs in os.listdir(cls_data+'/'+cat):\n",
        "    for day in os.listdir(cls_data+'/'+cat+'/'+crs):\n",
        "      for E_O in os.listdir(cls_data+'/'+cat+'/'+crs+'/'+day):\n",
        "        for img in os.listdir(cls_data+'/'+cat+'/'+crs+'/'+day+'/'+E_O)[:limit]:\n",
        "          path = os.path.join(cls_data, cat, crs, day, E_O, img)\n",
        "          folder_name = train_path if np.random.randn()<VAL_THRESHOLD else val_path\n",
        "          target = os.path.join(folder_name, img)\n",
        "          label = 0 if E_O == 'Empty' else 1\n",
        "          data_arr.append([target, label])\n",
        "          os.replace(path, target)\n",
        "\n",
        "\n",
        "data = pd.DataFrame(data_arr, columns=['path', 'label'])\n",
        "data"
      ]
    },
    {
      "cell_type": "code",
      "execution_count": 5,
      "metadata": {
        "colab": {
          "base_uri": "https://localhost:8080/",
          "height": 143
        },
        "id": "M5NVbBbcFWdQ",
        "outputId": "786c2de8-5f80-4914-c8ea-381d294a5191"
      },
      "outputs": [
        {
          "output_type": "execute_result",
          "data": {
            "text/plain": [
              "        path\n",
              "label       \n",
              "0      10280\n",
              "1       9706"
            ],
            "text/html": [
              "\n",
              "  <div id=\"df-f9882a7b-704d-4386-a312-b0535cc17913\" class=\"colab-df-container\">\n",
              "    <div>\n",
              "<style scoped>\n",
              "    .dataframe tbody tr th:only-of-type {\n",
              "        vertical-align: middle;\n",
              "    }\n",
              "\n",
              "    .dataframe tbody tr th {\n",
              "        vertical-align: top;\n",
              "    }\n",
              "\n",
              "    .dataframe thead th {\n",
              "        text-align: right;\n",
              "    }\n",
              "</style>\n",
              "<table border=\"1\" class=\"dataframe\">\n",
              "  <thead>\n",
              "    <tr style=\"text-align: right;\">\n",
              "      <th></th>\n",
              "      <th>path</th>\n",
              "    </tr>\n",
              "    <tr>\n",
              "      <th>label</th>\n",
              "      <th></th>\n",
              "    </tr>\n",
              "  </thead>\n",
              "  <tbody>\n",
              "    <tr>\n",
              "      <th>0</th>\n",
              "      <td>10280</td>\n",
              "    </tr>\n",
              "    <tr>\n",
              "      <th>1</th>\n",
              "      <td>9706</td>\n",
              "    </tr>\n",
              "  </tbody>\n",
              "</table>\n",
              "</div>\n",
              "    <div class=\"colab-df-buttons\">\n",
              "\n",
              "  <div class=\"colab-df-container\">\n",
              "    <button class=\"colab-df-convert\" onclick=\"convertToInteractive('df-f9882a7b-704d-4386-a312-b0535cc17913')\"\n",
              "            title=\"Convert this dataframe to an interactive table.\"\n",
              "            style=\"display:none;\">\n",
              "\n",
              "  <svg xmlns=\"http://www.w3.org/2000/svg\" height=\"24px\" viewBox=\"0 -960 960 960\">\n",
              "    <path d=\"M120-120v-720h720v720H120Zm60-500h600v-160H180v160Zm220 220h160v-160H400v160Zm0 220h160v-160H400v160ZM180-400h160v-160H180v160Zm440 0h160v-160H620v160ZM180-180h160v-160H180v160Zm440 0h160v-160H620v160Z\"/>\n",
              "  </svg>\n",
              "    </button>\n",
              "\n",
              "  <style>\n",
              "    .colab-df-container {\n",
              "      display:flex;\n",
              "      gap: 12px;\n",
              "    }\n",
              "\n",
              "    .colab-df-convert {\n",
              "      background-color: #E8F0FE;\n",
              "      border: none;\n",
              "      border-radius: 50%;\n",
              "      cursor: pointer;\n",
              "      display: none;\n",
              "      fill: #1967D2;\n",
              "      height: 32px;\n",
              "      padding: 0 0 0 0;\n",
              "      width: 32px;\n",
              "    }\n",
              "\n",
              "    .colab-df-convert:hover {\n",
              "      background-color: #E2EBFA;\n",
              "      box-shadow: 0px 1px 2px rgba(60, 64, 67, 0.3), 0px 1px 3px 1px rgba(60, 64, 67, 0.15);\n",
              "      fill: #174EA6;\n",
              "    }\n",
              "\n",
              "    .colab-df-buttons div {\n",
              "      margin-bottom: 4px;\n",
              "    }\n",
              "\n",
              "    [theme=dark] .colab-df-convert {\n",
              "      background-color: #3B4455;\n",
              "      fill: #D2E3FC;\n",
              "    }\n",
              "\n",
              "    [theme=dark] .colab-df-convert:hover {\n",
              "      background-color: #434B5C;\n",
              "      box-shadow: 0px 1px 3px 1px rgba(0, 0, 0, 0.15);\n",
              "      filter: drop-shadow(0px 1px 2px rgba(0, 0, 0, 0.3));\n",
              "      fill: #FFFFFF;\n",
              "    }\n",
              "  </style>\n",
              "\n",
              "    <script>\n",
              "      const buttonEl =\n",
              "        document.querySelector('#df-f9882a7b-704d-4386-a312-b0535cc17913 button.colab-df-convert');\n",
              "      buttonEl.style.display =\n",
              "        google.colab.kernel.accessAllowed ? 'block' : 'none';\n",
              "\n",
              "      async function convertToInteractive(key) {\n",
              "        const element = document.querySelector('#df-f9882a7b-704d-4386-a312-b0535cc17913');\n",
              "        const dataTable =\n",
              "          await google.colab.kernel.invokeFunction('convertToInteractive',\n",
              "                                                    [key], {});\n",
              "        if (!dataTable) return;\n",
              "\n",
              "        const docLinkHtml = 'Like what you see? Visit the ' +\n",
              "          '<a target=\"_blank\" href=https://colab.research.google.com/notebooks/data_table.ipynb>data table notebook</a>'\n",
              "          + ' to learn more about interactive tables.';\n",
              "        element.innerHTML = '';\n",
              "        dataTable['output_type'] = 'display_data';\n",
              "        await google.colab.output.renderOutput(dataTable, element);\n",
              "        const docLink = document.createElement('div');\n",
              "        docLink.innerHTML = docLinkHtml;\n",
              "        element.appendChild(docLink);\n",
              "      }\n",
              "    </script>\n",
              "  </div>\n",
              "\n",
              "\n",
              "<div id=\"df-e621e34b-e520-46dd-ae7a-e4d12beb46aa\">\n",
              "  <button class=\"colab-df-quickchart\" onclick=\"quickchart('df-e621e34b-e520-46dd-ae7a-e4d12beb46aa')\"\n",
              "            title=\"Suggest charts.\"\n",
              "            style=\"display:none;\">\n",
              "\n",
              "<svg xmlns=\"http://www.w3.org/2000/svg\" height=\"24px\"viewBox=\"0 0 24 24\"\n",
              "     width=\"24px\">\n",
              "    <g>\n",
              "        <path d=\"M19 3H5c-1.1 0-2 .9-2 2v14c0 1.1.9 2 2 2h14c1.1 0 2-.9 2-2V5c0-1.1-.9-2-2-2zM9 17H7v-7h2v7zm4 0h-2V7h2v10zm4 0h-2v-4h2v4z\"/>\n",
              "    </g>\n",
              "</svg>\n",
              "  </button>\n",
              "\n",
              "<style>\n",
              "  .colab-df-quickchart {\n",
              "      --bg-color: #E8F0FE;\n",
              "      --fill-color: #1967D2;\n",
              "      --hover-bg-color: #E2EBFA;\n",
              "      --hover-fill-color: #174EA6;\n",
              "      --disabled-fill-color: #AAA;\n",
              "      --disabled-bg-color: #DDD;\n",
              "  }\n",
              "\n",
              "  [theme=dark] .colab-df-quickchart {\n",
              "      --bg-color: #3B4455;\n",
              "      --fill-color: #D2E3FC;\n",
              "      --hover-bg-color: #434B5C;\n",
              "      --hover-fill-color: #FFFFFF;\n",
              "      --disabled-bg-color: #3B4455;\n",
              "      --disabled-fill-color: #666;\n",
              "  }\n",
              "\n",
              "  .colab-df-quickchart {\n",
              "    background-color: var(--bg-color);\n",
              "    border: none;\n",
              "    border-radius: 50%;\n",
              "    cursor: pointer;\n",
              "    display: none;\n",
              "    fill: var(--fill-color);\n",
              "    height: 32px;\n",
              "    padding: 0;\n",
              "    width: 32px;\n",
              "  }\n",
              "\n",
              "  .colab-df-quickchart:hover {\n",
              "    background-color: var(--hover-bg-color);\n",
              "    box-shadow: 0 1px 2px rgba(60, 64, 67, 0.3), 0 1px 3px 1px rgba(60, 64, 67, 0.15);\n",
              "    fill: var(--button-hover-fill-color);\n",
              "  }\n",
              "\n",
              "  .colab-df-quickchart-complete:disabled,\n",
              "  .colab-df-quickchart-complete:disabled:hover {\n",
              "    background-color: var(--disabled-bg-color);\n",
              "    fill: var(--disabled-fill-color);\n",
              "    box-shadow: none;\n",
              "  }\n",
              "\n",
              "  .colab-df-spinner {\n",
              "    border: 2px solid var(--fill-color);\n",
              "    border-color: transparent;\n",
              "    border-bottom-color: var(--fill-color);\n",
              "    animation:\n",
              "      spin 1s steps(1) infinite;\n",
              "  }\n",
              "\n",
              "  @keyframes spin {\n",
              "    0% {\n",
              "      border-color: transparent;\n",
              "      border-bottom-color: var(--fill-color);\n",
              "      border-left-color: var(--fill-color);\n",
              "    }\n",
              "    20% {\n",
              "      border-color: transparent;\n",
              "      border-left-color: var(--fill-color);\n",
              "      border-top-color: var(--fill-color);\n",
              "    }\n",
              "    30% {\n",
              "      border-color: transparent;\n",
              "      border-left-color: var(--fill-color);\n",
              "      border-top-color: var(--fill-color);\n",
              "      border-right-color: var(--fill-color);\n",
              "    }\n",
              "    40% {\n",
              "      border-color: transparent;\n",
              "      border-right-color: var(--fill-color);\n",
              "      border-top-color: var(--fill-color);\n",
              "    }\n",
              "    60% {\n",
              "      border-color: transparent;\n",
              "      border-right-color: var(--fill-color);\n",
              "    }\n",
              "    80% {\n",
              "      border-color: transparent;\n",
              "      border-right-color: var(--fill-color);\n",
              "      border-bottom-color: var(--fill-color);\n",
              "    }\n",
              "    90% {\n",
              "      border-color: transparent;\n",
              "      border-bottom-color: var(--fill-color);\n",
              "    }\n",
              "  }\n",
              "</style>\n",
              "\n",
              "  <script>\n",
              "    async function quickchart(key) {\n",
              "      const quickchartButtonEl =\n",
              "        document.querySelector('#' + key + ' button');\n",
              "      quickchartButtonEl.disabled = true;  // To prevent multiple clicks.\n",
              "      quickchartButtonEl.classList.add('colab-df-spinner');\n",
              "      try {\n",
              "        const charts = await google.colab.kernel.invokeFunction(\n",
              "            'suggestCharts', [key], {});\n",
              "      } catch (error) {\n",
              "        console.error('Error during call to suggestCharts:', error);\n",
              "      }\n",
              "      quickchartButtonEl.classList.remove('colab-df-spinner');\n",
              "      quickchartButtonEl.classList.add('colab-df-quickchart-complete');\n",
              "    }\n",
              "    (() => {\n",
              "      let quickchartButtonEl =\n",
              "        document.querySelector('#df-e621e34b-e520-46dd-ae7a-e4d12beb46aa button');\n",
              "      quickchartButtonEl.style.display =\n",
              "        google.colab.kernel.accessAllowed ? 'block' : 'none';\n",
              "    })();\n",
              "  </script>\n",
              "</div>\n",
              "    </div>\n",
              "  </div>\n"
            ]
          },
          "metadata": {},
          "execution_count": 5
        }
      ],
      "source": [
        "data.groupby(['label']).count()"
      ]
    },
    {
      "cell_type": "code",
      "execution_count": null,
      "metadata": {
        "colab": {
          "base_uri": "https://localhost:8080/"
        },
        "id": "vuwluNC08Eu8",
        "outputId": "08292083-ec0c-40be-9f64-0000cbd9e3be"
      },
      "outputs": [
        {
          "name": "stdout",
          "output_type": "stream",
          "text": [
            "Found 5249 files belonging to 2 classes.\n",
            "Using 4200 files for training.\n",
            "Using 1049 files for validation.\n"
          ]
        }
      ],
      "source": [
        "train_ds, val_ds = tf.keras.utils.image_dataset_from_directory('./data',\n",
        "                                                               validation_split=0.2,\n",
        "                                                               subset='both',\n",
        "                                                               seed=32,\n",
        "                                                               image_size=(150, 150),\n",
        "                                                               batch_size=32)"
      ]
    },
    {
      "cell_type": "code",
      "execution_count": null,
      "metadata": {
        "id": "YzhBDCfZbvqn"
      },
      "outputs": [],
      "source": [
        "def show_images(ds, augmentation=False):\n",
        "  plt.figure(figsize=(3, 3))\n",
        "  for images, labels in ds.take(1):\n",
        "      for i in range(9):\n",
        "          ax = plt.subplot(3, 3, i + 1)\n",
        "          if augmentation:\n",
        "            images = data_augmentation(images)\n",
        "            i = 0\n",
        "          plt.imshow(images[i].numpy().astype(\"uint8\"))\n",
        "          plt.title(int(labels[i]))\n",
        "          plt.axis(\"off\")"
      ]
    },
    {
      "cell_type": "code",
      "execution_count": null,
      "metadata": {
        "colab": {
          "base_uri": "https://localhost:8080/",
          "height": 290
        },
        "id": "Md4P_O2EytfB",
        "outputId": "c8432d22-e1e5-436d-a616-26da3cadc679"
      },
      "outputs": [
        {
          "data": {
            "image/png": "[encoded data removed]",
            "text/plain": [
              "<Figure size 300x300 with 9 Axes>"
            ]
          },
          "metadata": {},
          "output_type": "display_data"
        }
      ],
      "source": [
        "show_images(train_ds)"
      ]
    },
    {
      "cell_type": "code",
      "execution_count": null,
      "metadata": {
        "id": "dm9kAKrAw9-K"
      },
      "outputs": [],
      "source": [
        "data_augmentation = tf.keras.Sequential([\n",
        "    tf.keras.layers.RandomRotation(factor=0.15),\n",
        "    tf.keras.layers.RandomTranslation(height_factor=0.1, width_factor=0.1),\n",
        "    tf.keras.layers.RandomFlip(),\n",
        "    tf.keras.layers.RandomContrast(factor=0.1),\n",
        "    ], name=\"img_augmentation\")"
      ]
    },
    {
      "cell_type": "code",
      "execution_count": null,
      "metadata": {
        "colab": {
          "base_uri": "https://localhost:8080/",
          "height": 290
        },
        "id": "pPQ2vpFy8Ixa",
        "outputId": "53d74bb6-907e-4bb8-c2b0-2cca71b96f14"
      },
      "outputs": [
        {
          "data": {
            "image/png": "[encoded data removed]",
            "text/plain": [
              "<Figure size 300x300 with 9 Axes>"
            ]
          },
          "metadata": {},
          "output_type": "display_data"
        }
      ],
      "source": [
        "show_images(train_ds, augmentation=True)"
      ]
    },
    {
      "cell_type": "markdown",
      "metadata": {
        "id": "jQaasBfb4pn7"
      },
      "source": [
        "###model 1"
      ]
    },
    {
      "cell_type": "code",
      "execution_count": null,
      "metadata": {
        "id": "b-qWux7zzd4c"
      },
      "outputs": [],
      "source": [
        "augmented_train_ds = train_ds.map(lambda img, label : (data_augmentation(img), label),\n",
        "                                  num_parallel_calls=tf.data.AUTOTUNE)\n",
        "\n",
        "#(buffered) Prefetching samples in GPU memory helps maximize GPU utilization.\n",
        "train_ds = train_ds.prefetch(tf.data.AUTOTUNE)\n",
        "val_ds   = val_ds.prefetch(tf.data.AUTOTUNE)"
      ]
    },
    {
      "cell_type": "code",
      "execution_count": null,
      "metadata": {
        "id": "91mYPVKsAAqM"
      },
      "outputs": [],
      "source": [
        "def Model(input_shape, num_cls):\n",
        "  inputs = tf.keras.Input(shape=input_shape)\n",
        "  x = tf.keras.layers.Rescaling(1/255)(inputs)\n",
        "  x = layers = tf.keras.layers.Conv2D(128, 3, strides=3, padding='same')(x)\n",
        "  x = tf.keras.layers.BatchNormalization()(x)\n",
        "  x = tf.keras.layers.Activation('relu')(x)\n",
        "\n",
        "  #Set Aside residual\n",
        "  previous_block_activation = x\n",
        "\n",
        "  for size in [256, 512, 728]:\n",
        "    x = tf.keras.layers.Activation('relu')(x)\n",
        "    x = tf.keras.layers.SeparableConv2D(size, 3, padding='same')(x)\n",
        "    x = tf.keras.layers.BatchNormalization()(x)\n",
        "\n",
        "    x = tf.keras.layers.Activation('relu')(x)\n",
        "    x = tf.keras.layers.SeparableConv2D(size, 3, padding='same')(x)\n",
        "    x = tf.keras.layers.BatchNormalization()(x)\n",
        "\n",
        "    x = tf.keras.layers.MaxPooling2D(3, strides=2, padding='same')(x)\n",
        "\n",
        "    residual = tf.keras.layers.Conv2D(size, 1, strides=2, padding='same')(previous_block_activation)\n",
        "\n",
        "    x = tf.keras.layers.add([x, residual])\n",
        "    previous_block_activation = x\n",
        "\n",
        "  x = tf.keras.layers.SeparableConv2D(1024, 3, padding='same')(x)\n",
        "  x = tf.keras.layers.BatchNormalization()(x)\n",
        "  x = tf.keras.layers.Activation('relu')(x)\n",
        "  x = tf.keras.layers.GlobalAveragePooling2D()(x)\n",
        "\n",
        "  if num_cls == 2:\n",
        "    activation = 'sigmoid'\n",
        "    units = 1\n",
        "  else:\n",
        "    activation = 'softmax'\n",
        "    units = num_cls\n",
        "\n",
        "  x  = tf.keras.layers.Dropout(0.5)(x)\n",
        "  outputs = tf.keras.layers.Dense(units, activation=activation)(x)\n",
        "  return tf.keras.Model(inputs, outputs)"
      ]
    },
    {
      "cell_type": "code",
      "execution_count": null,
      "metadata": {
        "id": "rBHjFuV3FkF0"
      },
      "outputs": [],
      "source": [
        "model = Model(input_shape=train_ds.take(1).element_spec[0].shape[1:], num_cls=2)\n",
        "tf.keras.utils.plot_model(model, show_shapes=True)"
      ]
    },
    {
      "cell_type": "code",
      "execution_count": null,
      "metadata": {
        "colab": {
          "base_uri": "https://localhost:8080/"
        },
        "id": "wxz5770Zl1Qi",
        "outputId": "5ffb9ba5-dea1-45a9-afb4-5ae2c137cd47"
      },
      "outputs": [
        {
          "name": "stdout",
          "output_type": "stream",
          "text": [
            "Epoch 1/2\n"
          ]
        }
      ],
      "source": [
        "# Compile\n",
        "epochs = 2\n",
        "num_cls = 2\n",
        "IMG_SIZE = 528\n",
        "to_Dropout_rate = 0.2\n",
        "callbacks = [tf.keras.callbacks.ModelCheckpoint('save_at_{epoch}.keras')]\n",
        "\n",
        "model.compile(optimizer=tf.keras.optimizers.Adam(1e-3),\n",
        "              loss = 'binary_crossentropy',\n",
        "              metrics=['accuracy'])\n",
        "\n",
        "model.fit(train_ds,\n",
        "          epochs=epochs,\n",
        "          callbacks=callbacks,\n",
        "          validation_data=val_ds)"
      ]
    },
    {
      "cell_type": "markdown",
      "metadata": {
        "id": "7FaghQOl4mLG"
      },
      "source": [
        "###model 2"
      ]
    },
    {
      "cell_type": "code",
      "execution_count": null,
      "metadata": {
        "colab": {
          "background_save": true
        },
        "id": "aKKNKVml5m2L",
        "outputId": "fd77176a-9fa5-4007-c981-692a22d7cd55"
      },
      "outputs": [
        {
          "data": {
            "image/png": "[encoded data removed]",
            "text/plain": [
              "<IPython.core.display.Image object>"
            ]
          },
          "execution_count": 66,
          "metadata": {},
          "output_type": "execute_result"
        }
      ],
      "source": [
        "# EfficientNetB6 input dim = 528\n",
        "# EfficientNetB0 input dim = 224\n",
        "# EfficientNetB3 input dim = 300\n",
        "# VGG16 input dim = 224\n",
        "\n",
        "epochs = 10\n",
        "num_cls = 1\n",
        "IMG_SIZE = 224\n",
        "to_Dropout_rate = 0.2\n",
        "callbacks = [tf.keras.callbacks.ModelCheckpoint('save_at_{epoch}.keras')]\n",
        "\n",
        "inputs = tf.keras.layers.Input((IMG_SIZE, IMG_SIZE, 3))\n",
        "# x = inputs.copy()\n",
        "x = data_augmentation(inputs)\n",
        "model = tf.keras.applications.ResNet50V2(include_top=True, input_tensor=x, weights='imagenet')\n",
        "\n",
        "model.trainable=False\n",
        "\n",
        "# Rebuild top\n",
        "x = tf.keras.layers.GlobalAveragePooling2D(name='avg_pool')(model.input)\n",
        "x = tf.keras.layers.BatchNormalization()(x)\n",
        "x = tf.keras.layers.Dropout(to_Dropout_rate, name='top_dropout')(x)\n",
        "outputs = tf.keras.layers.Dense(num_cls, activation='softmax', name='pred')(x)\n",
        "\n",
        "model = tf.keras.Model(inputs, outputs, name='model')\n",
        "tf.keras.utils.plot_model(model, show_shapes=True)"
      ]
    },
    {
      "cell_type": "code",
      "execution_count": null,
      "metadata": {
        "colab": {
          "base_uri": "https://localhost:8080/"
        },
        "id": "b6GbnxBUWgkY",
        "outputId": "9c6c168c-96c8-4a05-9c61-89183fd3ec4e"
      },
      "outputs": [
        {
          "name": "stdout",
          "output_type": "stream",
          "text": [
            "Epoch 1/4\n",
            "67/67 [==============================] - 5s 55ms/step - loss: 0.8226 - binary_accuracy: 0.4282 - auc: 0.5000 - precision: 0.4282 - val_loss: 1.2340 - val_binary_accuracy: 0.4135 - val_auc: 0.5000 - val_precision: 0.4135\n",
            "Epoch 2/4\n",
            "67/67 [==============================] - 5s 69ms/step - loss: 0.7893 - binary_accuracy: 0.4282 - auc: 0.5000 - precision: 0.4282 - val_loss: 0.8331 - val_binary_accuracy: 0.4135 - val_auc: 0.5000 - val_precision: 0.4135\n",
            "Epoch 3/4\n",
            "67/67 [==============================] - 4s 59ms/step - loss: 0.7692 - binary_accuracy: 0.4282 - auc: 0.5000 - precision: 0.4282 - val_loss: 0.7441 - val_binary_accuracy: 0.4135 - val_auc: 0.5000 - val_precision: 0.4135\n",
            "Epoch 4/4\n",
            "67/67 [==============================] - 5s 67ms/step - loss: 0.7661 - binary_accuracy: 0.4282 - auc: 0.5000 - precision: 0.4282 - val_loss: 0.7124 - val_binary_accuracy: 0.4135 - val_auc: 0.5000 - val_precision: 0.4135\n"
          ]
        }
      ],
      "source": [
        "# Compile\n",
        "model.compile(optimizer=tf.keras.optimizers.Adamax(),\n",
        "              loss = tf.keras.losses.BinaryCrossentropy(\n",
        "              from_logits=False,\n",
        "              label_smoothing=0.0,\n",
        "              axis=-1,\n",
        "              reduction=\"auto\",\n",
        "              name=\"binary_crossentropy\"),\n",
        "              metrics=[tf.keras.metrics.BinaryAccuracy(),\n",
        "                       tf.keras.metrics.AUC(\n",
        "                                            num_thresholds=200,\n",
        "                                            curve=\"ROC\",\n",
        "                                            summation_method=\"interpolation\",\n",
        "                                            name=None,\n",
        "                                            dtype=None,\n",
        "                                            thresholds=None,\n",
        "                                            multi_label=False,\n",
        "                                            num_labels=None,\n",
        "                                            label_weights=None,\n",
        "                                            from_logits=False),\n",
        "                        tf.keras.metrics.Precision(thresholds=None, top_k=None, class_id=None, name=None, dtype=None)])\n",
        "\n",
        "hist = model.fit(train_ds,\n",
        "          epochs=4,\n",
        "          callbacks=callbacks,\n",
        "          validation_data=val_ds)\n"
      ]
    },
    {
      "cell_type": "markdown",
      "metadata": {
        "id": "2B3Co8J7hwKf"
      },
      "source": [
        "### model 3"
      ]
    },
    {
      "cell_type": "code",
      "execution_count": null,
      "metadata": {
        "colab": {
          "background_save": true
        },
        "id": "BM-wV78vkMU_"
      },
      "outputs": [],
      "source": [
        "def Model(input_shape, num_cls=2):\n",
        "\n",
        "  inputs = tf.keras.Input(shape=input_shape)\n",
        "  x = tf.keras.layers.Rescaling(1/255)(inputs)\n",
        "  # x = layers = tf.keras.layers.Conv2D(128, 3, strides=3, padding='same')(x)\n",
        "  # x = tf.keras.layers.BatchNormalization()(x)\n",
        "  # x = tf.keras.layers.Activation('relu')(x)\n",
        "\n",
        "  x = layers = tf.keras.layers.Conv2D(128, 3, strides=3, padding='same')(x)\n",
        "  x = layers = tf.keras.layers.Conv2D(128, 3, strides=3, padding='same')(x)\n",
        "  x = tf.keras.layers.BatchNormalization()(x)\n",
        "  x = tf.keras.layers.Activation('relu')(x)\n",
        "\n",
        "  x = layers = tf.keras.layers.Conv2D(64, 3, strides=3, padding='same')(x)\n",
        "  x = layers = tf.keras.layers.Conv2D(64, 3, strides=3, padding='same')(x)\n",
        "  x = tf.keras.layers.BatchNormalization()(x)\n",
        "  x = tf.keras.layers.Activation('relu')(x)\n",
        "\n",
        "  x = layers = tf.keras.layers.Conv2D(32, 3, strides=3, padding='same')(x)\n",
        "  x = layers = tf.keras.layers.Conv2D(32, 3, strides=3, padding='same')(x)\n",
        "  x = tf.keras.layers.BatchNormalization()(x)\n",
        "  x = tf.keras.layers.Activation('relu')(x)\n",
        "\n",
        "  x = layers = tf.keras.layers.Conv2D(16, 3, strides=3, padding='same')(x)\n",
        "  x = layers = tf.keras.layers.Conv2D(16, 3, strides=3, padding='same')(x)\n",
        "  x = tf.keras.layers.BatchNormalization()(x)\n",
        "  x = tf.keras.layers.Activation('relu')(x)\n",
        "\n",
        "  # x = tf.keras.layers.Activation('relu')(x)\n",
        "  # x = tf.keras.layers.SeparableConv2D(128, 3, padding='same')(x)\n",
        "  # x = tf.keras.layers.BatchNormalization()(x)\n",
        "\n",
        "  # x = tf.keras.layers.Activation('relu')(x)\n",
        "  # x = tf.keras.layers.SeparableConv2D(256, 3, padding='same')(x)\n",
        "  # x = tf.keras.layers.BatchNormalization()(x)\n",
        "\n",
        "  # x = tf.keras.layers.Activation('relu')(x)\n",
        "  # x = tf.keras.layers.SeparableConv2D(256, 3, padding='same')(x)\n",
        "  # x = tf.keras.layers.BatchNormalization()(x)\n",
        "\n",
        "  # x = tf.keras.layers.MaxPooling2D(3, strides=2, padding='same')(x)\n",
        "  # residual = tf.keras.layers.Conv2D(256, 1, strides=2, padding='same')(previous_block_activation)\n",
        "\n",
        "  # x = tf.keras.layers.SeparableConv2D(1024, 3, padding='same')(x)\n",
        "  # x = tf.keras.layers.BatchNormalization()(x)\n",
        "  # x = tf.keras.layers.Activation('relu')(x)\n",
        "  # x = tf.keras.layers.GlobalAveragePooling2D()(x)\n",
        "  x = tf.keras.layers.Flatten()(x)\n",
        "  # x  = tf.keras.layers.Dropout(0.5)(x)\n",
        "  outputs = tf.keras.layers.Dense(1, activation='sigmoid')(x)\n",
        "  return tf.keras.Model(inputs, outputs)"
      ]
    },
    {
      "cell_type": "code",
      "execution_count": null,
      "metadata": {
        "colab": {
          "background_save": true,
          "base_uri": "https://localhost:8080/",
          "height": 1000
        },
        "id": "Z_9s5jgQkMSC",
        "outputId": "a04ad4aa-775f-4c2b-b21c-2915095dfc1d"
      },
      "outputs": [
        {
          "data": {
            "image/png": "[encoded data removed]",
            "text/plain": [
              "<IPython.core.display.Image object>"
            ]
          },
          "execution_count": 24,
          "metadata": {},
          "output_type": "execute_result"
        }
      ],
      "source": [
        "model = Model(input_shape=train_ds.take(1).element_spec[0].shape[1:], num_cls=2)\n",
        "tf.keras.utils.plot_model(model, show_shapes=True)"
      ]
    },
    {
      "cell_type": "code",
      "execution_count": null,
      "metadata": {
        "colab": {
          "base_uri": "https://localhost:8080/"
        },
        "id": "DQF_Z7GMlLEr",
        "outputId": "0f7438df-6484-4b7f-f0d3-ad9de3e8c66c"
      },
      "outputs": [
        {
          "name": "stdout",
          "output_type": "stream",
          "text": [
            "Epoch 1/2\n",
            "256/256 [==============================] - 558s 2s/step - loss: 0.7233 - accuracy: 0.5418 - val_loss: 0.6756 - val_accuracy: 0.5953\n",
            "Epoch 2/2\n",
            "256/256 [==============================] - 530s 2s/step - loss: 0.6873 - accuracy: 0.5696 - val_loss: 0.6767 - val_accuracy: 0.5953\n"
          ]
        },
        {
          "data": {
            "text/plain": [
              "<keras.src.callbacks.History at 0x798e03510af0>"
            ]
          },
          "execution_count": 28,
          "metadata": {},
          "output_type": "execute_result"
        }
      ],
      "source": [
        "# Compile\n",
        "epochs = 2\n",
        "to_Dropout_rate = 0.2\n",
        "callbacks = [tf.keras.callbacks.ModelCheckpoint('save_at_{epoch}.keras')]\n",
        "\n",
        "model.compile(optimizer=tf.keras.optimizers.Adam(1e-3),\n",
        "              loss = 'binary_crossentropy',\n",
        "              metrics=['accuracy'])\n",
        "\n",
        "model.fit(train_ds,\n",
        "          epochs=epochs,\n",
        "          callbacks=callbacks,\n",
        "          validation_data=val_ds)"
      ]
    },
    {
      "cell_type": "code",
      "execution_count": null,
      "metadata": {
        "id": "xUFgiZCHnTgB"
      },
      "outputs": [],
      "source": [
        "def plot_hist(hist, acc='binary_accuracy'):\n",
        "    plt.plot(hist.history[f\"{acc}\"])\n",
        "    plt.plot(hist.history[f\"val_{acc}\"])\n",
        "    plt.title(\"model accuracy\")\n",
        "    plt.ylabel(\"accuracy\")\n",
        "    plt.xlabel(\"epoch\")\n",
        "    plt.legend([\"train\", \"validation\"], loc=\"upper left\")\n",
        "    plt.show()\n",
        "\n",
        "\n",
        "plot_hist(hist)"
      ]
    },
    {
      "cell_type": "code",
      "execution_count": null,
      "metadata": {
        "colab": {
          "background_save": true,
          "base_uri": "https://localhost:8080/"
        },
        "id": "yJfMZhyVlLBE",
        "outputId": "9975faa5-fc83-44e1-d270-7a0477b91d27"
      },
      "outputs": [
        {
          "name": "stdout",
          "output_type": "stream",
          "text": [
            "Epoch 1/10\n",
            "56/56 [==============================] - 53s 843ms/step - loss: 0.7091 - binary_accuracy: 0.5278 - auc_5: 0.4884 - precision_5: 0.4175 - val_loss: 0.6895 - val_binary_accuracy: 0.5500 - val_auc_5: 0.4917 - val_precision_5: 0.4310\n",
            "Epoch 2/10\n",
            "56/56 [==============================] - 48s 850ms/step - loss: 0.6849 - binary_accuracy: 0.5545 - auc_5: 0.5139 - precision_5: 0.3924 - val_loss: 0.6819 - val_binary_accuracy: 0.5864 - val_auc_5: 0.4944 - val_precision_5: 0.0000e+00\n",
            "Epoch 3/10\n",
            "56/56 [==============================] - 46s 815ms/step - loss: 0.6785 - binary_accuracy: 0.5823 - auc_5: 0.5474 - precision_5: 0.4957 - val_loss: 0.6818 - val_binary_accuracy: 0.5864 - val_auc_5: 0.4876 - val_precision_5: 0.0000e+00\n",
            "Epoch 4/10\n",
            "56/56 [==============================] - 48s 853ms/step - loss: 0.6775 - binary_accuracy: 0.5789 - auc_5: 0.5471 - precision_5: 0.4815 - val_loss: 0.6827 - val_binary_accuracy: 0.5795 - val_auc_5: 0.5095 - val_precision_5: 0.0000e+00\n",
            "Epoch 5/10\n",
            "56/56 [==============================] - 44s 791ms/step - loss: 0.6756 - binary_accuracy: 0.5863 - auc_5: 0.5641 - precision_5: 0.5111 - val_loss: 0.6824 - val_binary_accuracy: 0.5864 - val_auc_5: 0.5209 - val_precision_5: 0.5000\n",
            "Epoch 6/10\n",
            "56/56 [==============================] - 44s 781ms/step - loss: 0.6665 - binary_accuracy: 0.5953 - auc_5: 0.5903 - precision_5: 0.5331 - val_loss: 0.6866 - val_binary_accuracy: 0.5659 - val_auc_5: 0.4942 - val_precision_5: 0.4471\n",
            "Epoch 7/10\n",
            "56/56 [==============================] - 46s 824ms/step - loss: 0.6594 - binary_accuracy: 0.6090 - auc_5: 0.6156 - precision_5: 0.5941 - val_loss: 0.6848 - val_binary_accuracy: 0.5750 - val_auc_5: 0.5172 - val_precision_5: 0.4545\n",
            "Epoch 8/10\n",
            "56/56 [==============================] - 46s 816ms/step - loss: 0.6669 - binary_accuracy: 0.5942 - auc_5: 0.5903 - precision_5: 0.5343 - val_loss: 0.6886 - val_binary_accuracy: 0.5614 - val_auc_5: 0.4814 - val_precision_5: 0.4068\n",
            "Epoch 9/10\n",
            "56/56 [==============================] - 46s 826ms/step - loss: 0.6444 - binary_accuracy: 0.6277 - auc_5: 0.6472 - precision_5: 0.5951 - val_loss: 0.7136 - val_binary_accuracy: 0.5159 - val_auc_5: 0.5040 - val_precision_5: 0.4197\n",
            "Epoch 10/10\n",
            "56/56 [==============================] - 44s 780ms/step - loss: 0.6573 - binary_accuracy: 0.5999 - auc_5: 0.6190 - precision_5: 0.5383 - val_loss: 0.7255 - val_binary_accuracy: 0.5045 - val_auc_5: 0.5055 - val_precision_5: 0.4082\n"
          ]
        }
      ],
      "source": [
        "# Compile\n",
        "model.compile(optimizer=tf.keras.optimizers.Adamax(),\n",
        "              loss = tf.keras.losses.BinaryCrossentropy(\n",
        "              from_logits=False,\n",
        "              label_smoothing=0.0,\n",
        "              axis=-1,\n",
        "              reduction=\"auto\",\n",
        "              name=\"binary_crossentropy\"),\n",
        "              metrics=[tf.keras.metrics.BinaryAccuracy(),\n",
        "                       tf.keras.metrics.AUC(\n",
        "                                            num_thresholds=200,\n",
        "                                            curve=\"ROC\",\n",
        "                                            summation_method=\"interpolation\",\n",
        "                                            name=None,\n",
        "                                            dtype=None,\n",
        "                                            thresholds=None,\n",
        "                                            multi_label=False,\n",
        "                                            num_labels=None,\n",
        "                                            label_weights=None,\n",
        "                                            from_logits=False),\n",
        "                        tf.keras.metrics.Precision(thresholds=None, top_k=None, class_id=None, name=None, dtype=None)])\n",
        "\n",
        "hist = model.fit(train_ds,\n",
        "          epochs=10,\n",
        "          callbacks=callbacks,\n",
        "          validation_data=val_ds)"
      ]
    },
    {
      "cell_type": "code",
      "execution_count": null,
      "metadata": {
        "colab": {
          "base_uri": "https://localhost:8080/",
          "height": 472
        },
        "id": "Bskn1W5mnSQZ",
        "outputId": "ab2ad127-caab-425c-ff46-39da627b5173"
      },
      "outputs": [
        {
          "data": {
            "image/png": "[encoded data removed]",
            "text/plain": [
              "<Figure size 640x480 with 1 Axes>"
            ]
          },
          "metadata": {},
          "output_type": "display_data"
        }
      ],
      "source": [
        "def plot_hist(hist, acc='binary_accuracy'):\n",
        "    plt.plot(hist.history[f\"{acc}\"])\n",
        "    plt.plot(hist.history[f\"val_{acc}\"])\n",
        "    plt.title(\"model accuracy\")\n",
        "    plt.ylabel(\"accuracy\")\n",
        "    plt.xlabel(\"epoch\")\n",
        "    plt.legend([\"train\", \"validation\"], loc=\"upper left\")\n",
        "    plt.show()\n",
        "\n",
        "\n",
        "plot_hist(hist)"
      ]
    },
    {
      "cell_type": "markdown",
      "metadata": {
        "id": "oxh8L4jCH4LB"
      },
      "source": [
        "### model4"
      ]
    },
    {
      "cell_type": "code",
      "execution_count": 6,
      "metadata": {
        "id": "P4ZqmtdJIeAB"
      },
      "outputs": [],
      "source": [
        "import os\n",
        "import cv2\n",
        "import pickle\n",
        "import shutil\n",
        "import sklearn\n",
        "import skimage\n",
        "import numpy as np\n",
        "import pandas as pd\n",
        "\n",
        "from sklearn import svm\n",
        "from sklearn import metrics\n",
        "from sklearn import model_selection"
      ]
    },
    {
      "cell_type": "code",
      "execution_count": 7,
      "metadata": {
        "colab": {
          "base_uri": "https://localhost:8080/"
        },
        "id": "iettHd-_Kl1E",
        "outputId": "db633a6f-64ca-487a-cb03-f10c2fb2a971"
      },
      "outputs": [
        {
          "output_type": "stream",
          "name": "stdout",
          "text": [
            "(11584, 1200) (11584,)\n",
            "(8402, 1200) (8402,)\n"
          ]
        }
      ],
      "source": [
        "x_train = []\n",
        "y_train = []\n",
        "x_test = []\n",
        "y_test = []\n",
        "\n",
        "for path, label in data_arr:\n",
        "  folder = path.split('/')[2]\n",
        "  img = skimage.io.imread(path)\n",
        "  img = skimage.transform.resize(img, (20, 20))\n",
        "\n",
        "  if folder == 'validation':\n",
        "    x_test.append(img.flatten())\n",
        "    y_test.append(label)\n",
        "  else:\n",
        "    x_train.append(img.flatten())\n",
        "    y_train.append(label)\n",
        "\n",
        "\n",
        "x_test = np.asarray(x_test)\n",
        "y_test = np.asarray(y_test)\n",
        "x_train = np.asarray(x_train)\n",
        "y_train = np.asarray(y_train)\n",
        "\n",
        "print(x_train.shape,y_train.shape)\n",
        "print(x_test.shape,y_test.shape)"
      ]
    },
    {
      "cell_type": "code",
      "execution_count": 8,
      "metadata": {
        "id": "WLdj4dyEKNsk"
      },
      "outputs": [],
      "source": [
        "clf = svm.SVC()\n",
        "\n",
        "parameters = [{'gamma': [0.01, 0.001, 0.0001], 'C': [1, 10, 100, 1000]}]\n",
        "\n",
        "grid_search = model_selection.GridSearchCV(clf, parameters)"
      ]
    },
    {
      "cell_type": "code",
      "source": [
        "grid_search.best_estimator_"
      ],
      "metadata": {
        "colab": {
          "base_uri": "https://localhost:8080/",
          "height": 74
        },
        "id": "CNsUiWGZc4CC",
        "outputId": "b25b5ee6-5658-43e5-c0ed-103564c770d5"
      },
      "execution_count": 11,
      "outputs": [
        {
          "output_type": "execute_result",
          "data": {
            "text/plain": [
              "SVC(C=10, gamma=0.01)"
            ],
            "text/html": [
              "<style>#sk-container-id-1 {color: black;background-color: white;}#sk-container-id-1 pre{padding: 0;}#sk-container-id-1 div.sk-toggleable {background-color: white;}#sk-container-id-1 label.sk-toggleable__label {cursor: pointer;display: block;width: 100%;margin-bottom: 0;padding: 0.3em;box-sizing: border-box;text-align: center;}#sk-container-id-1 label.sk-toggleable__label-arrow:before {content: \"▸\";float: left;margin-right: 0.25em;color: #696969;}#sk-container-id-1 label.sk-toggleable__label-arrow:hover:before {color: black;}#sk-container-id-1 div.sk-estimator:hover label.sk-toggleable__label-arrow:before {color: black;}#sk-container-id-1 div.sk-toggleable__content {max-height: 0;max-width: 0;overflow: hidden;text-align: left;background-color: #f0f8ff;}#sk-container-id-1 div.sk-toggleable__content pre {margin: 0.2em;color: black;border-radius: 0.25em;background-color: #f0f8ff;}#sk-container-id-1 input.sk-toggleable__control:checked~div.sk-toggleable__content {max-height: 200px;max-width: 100%;overflow: auto;}#sk-container-id-1 input.sk-toggleable__control:checked~label.sk-toggleable__label-arrow:before {content: \"▾\";}#sk-container-id-1 div.sk-estimator input.sk-toggleable__control:checked~label.sk-toggleable__label {background-color: #d4ebff;}#sk-container-id-1 div.sk-label input.sk-toggleable__control:checked~label.sk-toggleable__label {background-color: #d4ebff;}#sk-container-id-1 input.sk-hidden--visually {border: 0;clip: rect(1px 1px 1px 1px);clip: rect(1px, 1px, 1px, 1px);height: 1px;margin: -1px;overflow: hidden;padding: 0;position: absolute;width: 1px;}#sk-container-id-1 div.sk-estimator {font-family: monospace;background-color: #f0f8ff;border: 1px dotted black;border-radius: 0.25em;box-sizing: border-box;margin-bottom: 0.5em;}#sk-container-id-1 div.sk-estimator:hover {background-color: #d4ebff;}#sk-container-id-1 div.sk-parallel-item::after {content: \"\";width: 100%;border-bottom: 1px solid gray;flex-grow: 1;}#sk-container-id-1 div.sk-label:hover label.sk-toggleable__label {background-color: #d4ebff;}#sk-container-id-1 div.sk-serial::before {content: \"\";position: absolute;border-left: 1px solid gray;box-sizing: border-box;top: 0;bottom: 0;left: 50%;z-index: 0;}#sk-container-id-1 div.sk-serial {display: flex;flex-direction: column;align-items: center;background-color: white;padding-right: 0.2em;padding-left: 0.2em;position: relative;}#sk-container-id-1 div.sk-item {position: relative;z-index: 1;}#sk-container-id-1 div.sk-parallel {display: flex;align-items: stretch;justify-content: center;background-color: white;position: relative;}#sk-container-id-1 div.sk-item::before, #sk-container-id-1 div.sk-parallel-item::before {content: \"\";position: absolute;border-left: 1px solid gray;box-sizing: border-box;top: 0;bottom: 0;left: 50%;z-index: -1;}#sk-container-id-1 div.sk-parallel-item {display: flex;flex-direction: column;z-index: 1;position: relative;background-color: white;}#sk-container-id-1 div.sk-parallel-item:first-child::after {align-self: flex-end;width: 50%;}#sk-container-id-1 div.sk-parallel-item:last-child::after {align-self: flex-start;width: 50%;}#sk-container-id-1 div.sk-parallel-item:only-child::after {width: 0;}#sk-container-id-1 div.sk-dashed-wrapped {border: 1px dashed gray;margin: 0 0.4em 0.5em 0.4em;box-sizing: border-box;padding-bottom: 0.4em;background-color: white;}#sk-container-id-1 div.sk-label label {font-family: monospace;font-weight: bold;display: inline-block;line-height: 1.2em;}#sk-container-id-1 div.sk-label-container {text-align: center;}#sk-container-id-1 div.sk-container {/* jupyter's `normalize.less` sets `[hidden] { display: none; }` but bootstrap.min.css set `[hidden] { display: none !important; }` so we also need the `!important` here to be able to override the default hidden behavior on the sphinx rendered scikit-learn.org. See: https://github.com/scikit-learn/scikit-learn/issues/21755 */display: inline-block !important;position: relative;}#sk-container-id-1 div.sk-text-repr-fallback {display: none;}</style><div id=\"sk-container-id-1\" class=\"sk-top-container\"><div class=\"sk-text-repr-fallback\"><pre>SVC(C=10, gamma=0.01)</pre><b>In a Jupyter environment, please rerun this cell to show the HTML representation or trust the notebook. <br />On GitHub, the HTML representation is unable to render, please try loading this page with nbviewer.org.</b></div><div class=\"sk-container\" hidden><div class=\"sk-item\"><div class=\"sk-estimator sk-toggleable\"><input class=\"sk-toggleable__control sk-hidden--visually\" id=\"sk-estimator-id-1\" type=\"checkbox\" checked><label for=\"sk-estimator-id-1\" class=\"sk-toggleable__label sk-toggleable__label-arrow\">SVC</label><div class=\"sk-toggleable__content\"><pre>SVC(C=10, gamma=0.01)</pre></div></div></div></div></div>"
            ]
          },
          "metadata": {},
          "execution_count": 11
        }
      ]
    },
    {
      "cell_type": "code",
      "execution_count": 9,
      "metadata": {
        "colab": {
          "base_uri": "https://localhost:8080/"
        },
        "id": "5IMRAQtYKNje",
        "outputId": "9293772a-0487-4ea8-ae98-5651c87941a8"
      },
      "outputs": [
        {
          "output_type": "stream",
          "name": "stdout",
          "text": [
            "98.92882646988812% of samples were correctly classified\n"
          ]
        }
      ],
      "source": [
        "grid_search.fit(x_train, y_train)\n",
        "\n",
        "# test performance\n",
        "best_estimator = grid_search.best_estimator_\n",
        "\n",
        "y_prediction = best_estimator.predict(x_test)\n",
        "\n",
        "score = metrics.accuracy_score(y_prediction, y_test)\n",
        "\n",
        "print(f'{score * 100}% of samples were correctly classified')\n",
        "\n",
        "pickle.dump(best_estimator, open('./model.p', 'wb'))"
      ]
    },
    {
      "cell_type": "code",
      "source": [
        "test_data = []\n",
        "test_label = []\n",
        "\n",
        "for cat in os.listdir(cls_data):\n",
        "  for crs in os.listdir(cls_data+'/'+cat):\n",
        "    for day in os.listdir(cls_data+'/'+cat+'/'+crs):\n",
        "      for E_O in os.listdir(cls_data+'/'+cat+'/'+crs+'/'+day):\n",
        "        for img in os.listdir(cls_data+'/'+cat+'/'+crs+'/'+day+'/'+E_O):\n",
        "          path = os.path.join(cls_data, cat, crs, day, E_O, img)\n",
        "          folder_name = train_path if np.random.randn()<VAL_THRESHOLD else val_path\n",
        "          target = os.path.join(folder_name, img)\n",
        "          label = 0 if E_O == 'Empty' else 1\n",
        "          test_data.append(path)\n",
        "          test_label.append(label)\n",
        "\n",
        "\n",
        "test = pd.DataFrame(test_data, columns=['path'])\n",
        "test"
      ],
      "metadata": {
        "colab": {
          "base_uri": "https://localhost:8080/",
          "height": 423
        },
        "id": "3bMI8tGDXP-2",
        "outputId": "1322e0cd-ffcb-489a-9dca-d5f6c93b6a50"
      },
      "execution_count": 14,
      "outputs": [
        {
          "output_type": "execute_result",
          "data": {
            "text/plain": [
              "                                                     path\n",
              "0       ./PKLot/PKLotSegmented/UFPR04/Cloudy/2013-01-2...\n",
              "1       ./PKLot/PKLotSegmented/UFPR04/Cloudy/2013-01-2...\n",
              "2       ./PKLot/PKLotSegmented/UFPR04/Cloudy/2013-01-2...\n",
              "3       ./PKLot/PKLotSegmented/UFPR04/Cloudy/2013-01-2...\n",
              "4       ./PKLot/PKLotSegmented/UFPR04/Cloudy/2013-01-2...\n",
              "...                                                   ...\n",
              "675860  ./PKLot/PKLotSegmented/UFPR05/Sunny/2013-04-10...\n",
              "675861  ./PKLot/PKLotSegmented/UFPR05/Sunny/2013-04-10...\n",
              "675862  ./PKLot/PKLotSegmented/UFPR05/Sunny/2013-04-10...\n",
              "675863  ./PKLot/PKLotSegmented/UFPR05/Sunny/2013-04-10...\n",
              "675864  ./PKLot/PKLotSegmented/UFPR05/Sunny/2013-04-10...\n",
              "\n",
              "[675865 rows x 1 columns]"
            ],
            "text/html": [
              "\n",
              "  <div id=\"df-c71c529f-a0db-463e-b6c6-203ef771b8cf\" class=\"colab-df-container\">\n",
              "    <div>\n",
              "<style scoped>\n",
              "    .dataframe tbody tr th:only-of-type {\n",
              "        vertical-align: middle;\n",
              "    }\n",
              "\n",
              "    .dataframe tbody tr th {\n",
              "        vertical-align: top;\n",
              "    }\n",
              "\n",
              "    .dataframe thead th {\n",
              "        text-align: right;\n",
              "    }\n",
              "</style>\n",
              "<table border=\"1\" class=\"dataframe\">\n",
              "  <thead>\n",
              "    <tr style=\"text-align: right;\">\n",
              "      <th></th>\n",
              "      <th>path</th>\n",
              "    </tr>\n",
              "  </thead>\n",
              "  <tbody>\n",
              "    <tr>\n",
              "      <th>0</th>\n",
              "      <td>./PKLot/PKLotSegmented/UFPR04/Cloudy/2013-01-2...</td>\n",
              "    </tr>\n",
              "    <tr>\n",
              "      <th>1</th>\n",
              "      <td>./PKLot/PKLotSegmented/UFPR04/Cloudy/2013-01-2...</td>\n",
              "    </tr>\n",
              "    <tr>\n",
              "      <th>2</th>\n",
              "      <td>./PKLot/PKLotSegmented/UFPR04/Cloudy/2013-01-2...</td>\n",
              "    </tr>\n",
              "    <tr>\n",
              "      <th>3</th>\n",
              "      <td>./PKLot/PKLotSegmented/UFPR04/Cloudy/2013-01-2...</td>\n",
              "    </tr>\n",
              "    <tr>\n",
              "      <th>4</th>\n",
              "      <td>./PKLot/PKLotSegmented/UFPR04/Cloudy/2013-01-2...</td>\n",
              "    </tr>\n",
              "    <tr>\n",
              "      <th>...</th>\n",
              "      <td>...</td>\n",
              "    </tr>\n",
              "    <tr>\n",
              "      <th>675860</th>\n",
              "      <td>./PKLot/PKLotSegmented/UFPR05/Sunny/2013-04-10...</td>\n",
              "    </tr>\n",
              "    <tr>\n",
              "      <th>675861</th>\n",
              "      <td>./PKLot/PKLotSegmented/UFPR05/Sunny/2013-04-10...</td>\n",
              "    </tr>\n",
              "    <tr>\n",
              "      <th>675862</th>\n",
              "      <td>./PKLot/PKLotSegmented/UFPR05/Sunny/2013-04-10...</td>\n",
              "    </tr>\n",
              "    <tr>\n",
              "      <th>675863</th>\n",
              "      <td>./PKLot/PKLotSegmented/UFPR05/Sunny/2013-04-10...</td>\n",
              "    </tr>\n",
              "    <tr>\n",
              "      <th>675864</th>\n",
              "      <td>./PKLot/PKLotSegmented/UFPR05/Sunny/2013-04-10...</td>\n",
              "    </tr>\n",
              "  </tbody>\n",
              "</table>\n",
              "<p>675865 rows × 1 columns</p>\n",
              "</div>\n",
              "    <div class=\"colab-df-buttons\">\n",
              "\n",
              "  <div class=\"colab-df-container\">\n",
              "    <button class=\"colab-df-convert\" onclick=\"convertToInteractive('df-c71c529f-a0db-463e-b6c6-203ef771b8cf')\"\n",
              "            title=\"Convert this dataframe to an interactive table.\"\n",
              "            style=\"display:none;\">\n",
              "\n",
              "  <svg xmlns=\"http://www.w3.org/2000/svg\" height=\"24px\" viewBox=\"0 -960 960 960\">\n",
              "    <path d=\"M120-120v-720h720v720H120Zm60-500h600v-160H180v160Zm220 220h160v-160H400v160Zm0 220h160v-160H400v160ZM180-400h160v-160H180v160Zm440 0h160v-160H620v160ZM180-180h160v-160H180v160Zm440 0h160v-160H620v160Z\"/>\n",
              "  </svg>\n",
              "    </button>\n",
              "\n",
              "  <style>\n",
              "    .colab-df-container {\n",
              "      display:flex;\n",
              "      gap: 12px;\n",
              "    }\n",
              "\n",
              "    .colab-df-convert {\n",
              "      background-color: #E8F0FE;\n",
              "      border: none;\n",
              "      border-radius: 50%;\n",
              "      cursor: pointer;\n",
              "      display: none;\n",
              "      fill: #1967D2;\n",
              "      height: 32px;\n",
              "      padding: 0 0 0 0;\n",
              "      width: 32px;\n",
              "    }\n",
              "\n",
              "    .colab-df-convert:hover {\n",
              "      background-color: #E2EBFA;\n",
              "      box-shadow: 0px 1px 2px rgba(60, 64, 67, 0.3), 0px 1px 3px 1px rgba(60, 64, 67, 0.15);\n",
              "      fill: #174EA6;\n",
              "    }\n",
              "\n",
              "    .colab-df-buttons div {\n",
              "      margin-bottom: 4px;\n",
              "    }\n",
              "\n",
              "    [theme=dark] .colab-df-convert {\n",
              "      background-color: #3B4455;\n",
              "      fill: #D2E3FC;\n",
              "    }\n",
              "\n",
              "    [theme=dark] .colab-df-convert:hover {\n",
              "      background-color: #434B5C;\n",
              "      box-shadow: 0px 1px 3px 1px rgba(0, 0, 0, 0.15);\n",
              "      filter: drop-shadow(0px 1px 2px rgba(0, 0, 0, 0.3));\n",
              "      fill: #FFFFFF;\n",
              "    }\n",
              "  </style>\n",
              "\n",
              "    <script>\n",
              "      const buttonEl =\n",
              "        document.querySelector('#df-c71c529f-a0db-463e-b6c6-203ef771b8cf button.colab-df-convert');\n",
              "      buttonEl.style.display =\n",
              "        google.colab.kernel.accessAllowed ? 'block' : 'none';\n",
              "\n",
              "      async function convertToInteractive(key) {\n",
              "        const element = document.querySelector('#df-c71c529f-a0db-463e-b6c6-203ef771b8cf');\n",
              "        const dataTable =\n",
              "          await google.colab.kernel.invokeFunction('convertToInteractive',\n",
              "                                                    [key], {});\n",
              "        if (!dataTable) return;\n",
              "\n",
              "        const docLinkHtml = 'Like what you see? Visit the ' +\n",
              "          '<a target=\"_blank\" href=https://colab.research.google.com/notebooks/data_table.ipynb>data table notebook</a>'\n",
              "          + ' to learn more about interactive tables.';\n",
              "        element.innerHTML = '';\n",
              "        dataTable['output_type'] = 'display_data';\n",
              "        await google.colab.output.renderOutput(dataTable, element);\n",
              "        const docLink = document.createElement('div');\n",
              "        docLink.innerHTML = docLinkHtml;\n",
              "        element.appendChild(docLink);\n",
              "      }\n",
              "    </script>\n",
              "  </div>\n",
              "\n",
              "\n",
              "<div id=\"df-4536259d-30e3-4b47-9ee0-add7c3e9d477\">\n",
              "  <button class=\"colab-df-quickchart\" onclick=\"quickchart('df-4536259d-30e3-4b47-9ee0-add7c3e9d477')\"\n",
              "            title=\"Suggest charts.\"\n",
              "            style=\"display:none;\">\n",
              "\n",
              "<svg xmlns=\"http://www.w3.org/2000/svg\" height=\"24px\"viewBox=\"0 0 24 24\"\n",
              "     width=\"24px\">\n",
              "    <g>\n",
              "        <path d=\"M19 3H5c-1.1 0-2 .9-2 2v14c0 1.1.9 2 2 2h14c1.1 0 2-.9 2-2V5c0-1.1-.9-2-2-2zM9 17H7v-7h2v7zm4 0h-2V7h2v10zm4 0h-2v-4h2v4z\"/>\n",
              "    </g>\n",
              "</svg>\n",
              "  </button>\n",
              "\n",
              "<style>\n",
              "  .colab-df-quickchart {\n",
              "      --bg-color: #E8F0FE;\n",
              "      --fill-color: #1967D2;\n",
              "      --hover-bg-color: #E2EBFA;\n",
              "      --hover-fill-color: #174EA6;\n",
              "      --disabled-fill-color: #AAA;\n",
              "      --disabled-bg-color: #DDD;\n",
              "  }\n",
              "\n",
              "  [theme=dark] .colab-df-quickchart {\n",
              "      --bg-color: #3B4455;\n",
              "      --fill-color: #D2E3FC;\n",
              "      --hover-bg-color: #434B5C;\n",
              "      --hover-fill-color: #FFFFFF;\n",
              "      --disabled-bg-color: #3B4455;\n",
              "      --disabled-fill-color: #666;\n",
              "  }\n",
              "\n",
              "  .colab-df-quickchart {\n",
              "    background-color: var(--bg-color);\n",
              "    border: none;\n",
              "    border-radius: 50%;\n",
              "    cursor: pointer;\n",
              "    display: none;\n",
              "    fill: var(--fill-color);\n",
              "    height: 32px;\n",
              "    padding: 0;\n",
              "    width: 32px;\n",
              "  }\n",
              "\n",
              "  .colab-df-quickchart:hover {\n",
              "    background-color: var(--hover-bg-color);\n",
              "    box-shadow: 0 1px 2px rgba(60, 64, 67, 0.3), 0 1px 3px 1px rgba(60, 64, 67, 0.15);\n",
              "    fill: var(--button-hover-fill-color);\n",
              "  }\n",
              "\n",
              "  .colab-df-quickchart-complete:disabled,\n",
              "  .colab-df-quickchart-complete:disabled:hover {\n",
              "    background-color: var(--disabled-bg-color);\n",
              "    fill: var(--disabled-fill-color);\n",
              "    box-shadow: none;\n",
              "  }\n",
              "\n",
              "  .colab-df-spinner {\n",
              "    border: 2px solid var(--fill-color);\n",
              "    border-color: transparent;\n",
              "    border-bottom-color: var(--fill-color);\n",
              "    animation:\n",
              "      spin 1s steps(1) infinite;\n",
              "  }\n",
              "\n",
              "  @keyframes spin {\n",
              "    0% {\n",
              "      border-color: transparent;\n",
              "      border-bottom-color: var(--fill-color);\n",
              "      border-left-color: var(--fill-color);\n",
              "    }\n",
              "    20% {\n",
              "      border-color: transparent;\n",
              "      border-left-color: var(--fill-color);\n",
              "      border-top-color: var(--fill-color);\n",
              "    }\n",
              "    30% {\n",
              "      border-color: transparent;\n",
              "      border-left-color: var(--fill-color);\n",
              "      border-top-color: var(--fill-color);\n",
              "      border-right-color: var(--fill-color);\n",
              "    }\n",
              "    40% {\n",
              "      border-color: transparent;\n",
              "      border-right-color: var(--fill-color);\n",
              "      border-top-color: var(--fill-color);\n",
              "    }\n",
              "    60% {\n",
              "      border-color: transparent;\n",
              "      border-right-color: var(--fill-color);\n",
              "    }\n",
              "    80% {\n",
              "      border-color: transparent;\n",
              "      border-right-color: var(--fill-color);\n",
              "      border-bottom-color: var(--fill-color);\n",
              "    }\n",
              "    90% {\n",
              "      border-color: transparent;\n",
              "      border-bottom-color: var(--fill-color);\n",
              "    }\n",
              "  }\n",
              "</style>\n",
              "\n",
              "  <script>\n",
              "    async function quickchart(key) {\n",
              "      const quickchartButtonEl =\n",
              "        document.querySelector('#' + key + ' button');\n",
              "      quickchartButtonEl.disabled = true;  // To prevent multiple clicks.\n",
              "      quickchartButtonEl.classList.add('colab-df-spinner');\n",
              "      try {\n",
              "        const charts = await google.colab.kernel.invokeFunction(\n",
              "            'suggestCharts', [key], {});\n",
              "      } catch (error) {\n",
              "        console.error('Error during call to suggestCharts:', error);\n",
              "      }\n",
              "      quickchartButtonEl.classList.remove('colab-df-spinner');\n",
              "      quickchartButtonEl.classList.add('colab-df-quickchart-complete');\n",
              "    }\n",
              "    (() => {\n",
              "      let quickchartButtonEl =\n",
              "        document.querySelector('#df-4536259d-30e3-4b47-9ee0-add7c3e9d477 button');\n",
              "      quickchartButtonEl.style.display =\n",
              "        google.colab.kernel.accessAllowed ? 'block' : 'none';\n",
              "    })();\n",
              "  </script>\n",
              "</div>\n",
              "    </div>\n",
              "  </div>\n"
            ]
          },
          "metadata": {},
          "execution_count": 14
        }
      ]
    },
    {
      "cell_type": "code",
      "source": [
        "scores = []\n",
        "for path, label in zip(test_data, test_label):\n",
        "  folder = path.split('/')[2]\n",
        "  img = skimage.io.imread(path)\n",
        "  img = skimage.transform.resize(img, (20, 20))\n",
        "  img = np.asarray(img.flatten())\n",
        "  img = np.expand_dims(img, 0)\n",
        "  pred = best_estimator.predict(img)\n",
        "  score = metrics.accuracy_score(pred, [label])\n",
        "  scores.append(score)"
      ],
      "metadata": {
        "id": "8Fl2dBQ8e36S"
      },
      "execution_count": 51,
      "outputs": []
    },
    {
      "cell_type": "code",
      "source": [
        "totall_score = np.sum(scores) / len(scores)\n",
        "print(f'{totall_score * 100}% of samples were correctly classified, from {len(scores)}')"
      ],
      "metadata": {
        "colab": {
          "base_uri": "https://localhost:8080/"
        },
        "id": "IvMnr8lsgIGd",
        "outputId": "ab30e253-6c5e-4669-b79b-c76c9034fcb7"
      },
      "execution_count": 52,
      "outputs": [
        {
          "output_type": "stream",
          "name": "stdout",
          "text": [
            "99.31791112130381% of samples were correctly classified, from 675865\n"
          ]
        }
      ]
    },
    {
      "cell_type": "markdown",
      "metadata": {
        "id": "AhVIv20YlHCl"
      },
      "source": [
        "### res"
      ]
    },
    {
      "cell_type": "code",
      "execution_count": null,
      "metadata": {
        "id": "XbkuMWDwT7Jp"
      },
      "outputs": [],
      "source": [
        "# hist = model.fit(train_ds, epochs=epochs, validation_data=val_ds, verbose=2)\n",
        "# hist.history"
      ]
    },
    {
      "cell_type": "code",
      "execution_count": null,
      "metadata": {
        "colab": {
          "base_uri": "https://localhost:8080/",
          "height": 472
        },
        "id": "Rk9BTKeOF4sr",
        "outputId": "a9f92a92-b60f-4f05-b33c-add29070ebea"
      },
      "outputs": [
        {
          "data": {
            "image/png": "[encoded data removed]",
            "text/plain": [
              "<Figure size 640x480 with 1 Axes>"
            ]
          },
          "metadata": {},
          "output_type": "display_data"
        }
      ],
      "source": [
        "def plot_hist(hist, acc='binary_accuracy'):\n",
        "    plt.plot(hist.history[f\"{acc}\"])\n",
        "    plt.plot(hist.history[f\"val_{acc}\"])\n",
        "    plt.title(\"model accuracy\")\n",
        "    plt.ylabel(\"accuracy\")\n",
        "    plt.xlabel(\"epoch\")\n",
        "    plt.legend([\"train\", \"validation\"], loc=\"upper left\")\n",
        "    plt.show()\n",
        "\n",
        "\n",
        "plot_hist(hist)"
      ]
    },
    {
      "cell_type": "code",
      "execution_count": null,
      "metadata": {
        "id": "oCsGmgSt1NgG"
      },
      "outputs": [],
      "source": [
        "# from cloud_tpu_client import Client\n",
        "# c = Client()\n",
        "# c.configure_tpu_version(tf.__version__, restart_type=\"always\")\n",
        "# import tensorflow as tf\n",
        "\n",
        "# try:\n",
        "#     tpu = tf.distribute.cluster_resolver.TPUClusterResolver.connect()\n",
        "#     print(\"Device:\", tpu.master())\n",
        "#     strategy = tf.distribute.TPUStrategy(tpu)\n",
        "# except ValueError:\n",
        "#     print(\"Not connected to a TPU runtime. Using CPU/GPU strategy\")\n",
        "#     strategy = tf.distribute.MirroredStrategy()"
      ]
    },
    {
      "cell_type": "code",
      "execution_count": null,
      "metadata": {
        "id": "P4k3BXeQVKpb"
      },
      "outputs": [],
      "source": [
        "img = tf.keras.utils.load_img('./dfdf.jpg', target_size=(IMG_SIZE, IMG_SIZE, 3))\n",
        "plt.imshow(img)\n",
        "\n",
        "img_arr = tf.keras.utils.img_to_array(img)\n",
        "img_arr = tf.expand_dims(img_arr, 0) # Create batch axis\n",
        "\n",
        "pred = model.predict(img_arr)\n",
        "score = float(pred[0])\n",
        "print(f\"This image is {100 * (1 - score):.2f}% cat and {100 * score:.2f}% dog.\")"
      ]
    },
    {
      "cell_type": "code",
      "execution_count": null,
      "metadata": {
        "id": "Hk8fuYD5YJAR"
      },
      "outputs": [],
      "source": [
        "#Unfreeze some layers\n",
        "for layer in model.layers[-20:]:\n",
        "  if not isinstance(layer, tf.keras.layers.BatchNormalization):\n",
        "    layer.trainable = True\n",
        "\n",
        "epochs = 10\n",
        "hist = model.fit(train_ds, epochs=epochs, validation_data=test_ds, verbose=2)\n",
        "plot_hist(hist)"
      ]
    }
  ],
  "metadata": {
    "colab": {
      "collapsed_sections": [
        "TsQYxqEyaaj7",
        "sNa1JXN2eOiD",
        "g7fN7PFLtXMW",
        "jQaasBfb4pn7",
        "7FaghQOl4mLG",
        "2B3Co8J7hwKf",
        "AhVIv20YlHCl"
      ],
      "provenance": [],
      "mount_file_id": "1KVRbBvKz6JbCOIpxUHPj6mLS7G9fcJ0j",
      "authorship_tag": "ABX9TyNsIccSON16lIp4Jhkdd9IM",
      "include_colab_link": true
    },
    "kernelspec": {
      "display_name": "Python 3",
      "name": "python3"
    },
    "language_info": {
      "name": "python"
    }
  },
  "nbformat": 4,
  "nbformat_minor": 0
}