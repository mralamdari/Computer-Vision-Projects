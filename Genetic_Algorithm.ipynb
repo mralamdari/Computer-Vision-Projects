{
  "nbformat": 4,
  "nbformat_minor": 0,
  "metadata": {
    "colab": {
      "provenance": [],
      "authorship_tag": "ABX9TyP8qDfieVOeeX9oXXTH+5KS",
      "include_colab_link": true
    },
    "kernelspec": {
      "name": "python3",
      "display_name": "Python 3"
    },
    "language_info": {
      "name": "python"
    }
  },
  "cells": [
    {
      "cell_type": "markdown",
      "metadata": {
        "id": "view-in-github",
        "colab_type": "text"
      },
      "source": [
        "<a href=\"https://colab.research.google.com/github/mralamdari/Computer-Vision-Projects/blob/main/Genetic_Algorithm.ipynb\" target=\"_parent\"><img src=\"https://colab.research.google.com/assets/colab-badge.svg\" alt=\"Open In Colab\"/></a>"
      ]
    },
    {
      "cell_type": "code",
      "execution_count": 1,
      "metadata": {
        "id": "hnLh9fe98O99"
      },
      "outputs": [],
      "source": [
        "def trans(x):\n",
        "    if x == 0: return [0]\n",
        "    bit = []\n",
        "    while x:\n",
        "        bit.append(x % 2)\n",
        "        x >>= 1\n",
        "    return bit[::-1]"
      ]
    },
    {
      "cell_type": "code",
      "source": [
        "def tobin(x):\n",
        "    return tobin(x/2) + [x%2] if x > 1 else [x]"
      ],
      "metadata": {
        "id": "QA5iQVUY_zQp"
      },
      "execution_count": null,
      "outputs": []
    }
  ]
}