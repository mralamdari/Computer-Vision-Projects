{
  "nbformat": 4,
  "nbformat_minor": 0,
  "metadata": {
    "colab": {
      "provenance": [],
      "collapsed_sections": [],
      "authorship_tag": "ABX9TyNQ7fvbXVxO8x3XhnO3yYOV",
      "include_colab_link": true
    },
    "kernelspec": {
      "name": "python3",
      "display_name": "Python 3"
    },
    "language_info": {
      "name": "python"
    }
  },
  "cells": [
    {
      "cell_type": "markdown",
      "metadata": {
        "id": "view-in-github",
        "colab_type": "text"
      },
      "source": [
        "<a href=\"https://colab.research.google.com/github/mralamdari/Computer-Vision-Projects/blob/main/Machine_Perception_with_Flowers_Classifier.ipynb\" target=\"_parent\"><img src=\"https://colab.research.google.com/assets/colab-badge.svg\" alt=\"Open In Colab\"/></a>"
      ]
    },
    {
      "cell_type": "markdown",
      "source": [
        "###Hello 🙌\n",
        "In this Notebook, A Classifier is implemented in TensorFlow to classify images of [Flowers dataset](https://www.tensorflow.org/datasets/catalog/tf_flowers) from tensorflow, It contains 3670 images falling into 5 categories:\n",
        "\n",
        "\n",
        "*   Daisy 💐\n",
        "*   Roses 🌹\n",
        "*   Dandelion 🥀\n",
        "*   SunFlower 🌻\n",
        "*   Tulip 🌷\n",
        "\n",
        "you can access it from here:\n",
        "\n",
        "```gs://practical-ml-vision-book/flowers_5_jpeg/flower_photos/```\n",
        "\n"
      ],
      "metadata": {
        "id": "6Ohxs5wsLjS0"
      }
    },
    {
      "cell_type": "markdown",
      "source": [
        "### Import Neccessary Libraries"
      ],
      "metadata": {
        "id": "zc3bL53sOi9H"
      }
    },
    {
      "cell_type": "code",
      "execution_count": 7,
      "metadata": {
        "id": "Tmw9hJYxLG4Y"
      },
      "outputs": [],
      "source": [
        "import numpy as np\n",
        "import tensorflow as tf\n",
        "import matplotlib.pyplot as plt"
      ]
    },
    {
      "cell_type": "code",
      "source": [
        "print(tf.version.VERSION)"
      ],
      "metadata": {
        "colab": {
          "base_uri": "https://localhost:8080/"
        },
        "id": "K_Mj5o_FN21P",
        "outputId": "79be2f03-b300-4ff0-8849-253eb199d1b5"
      },
      "execution_count": 2,
      "outputs": [
        {
          "output_type": "stream",
          "name": "stdout",
          "text": [
            "2.9.2\n"
          ]
        }
      ]
    },
    {
      "cell_type": "code",
      "source": [
        "gpu_name = tf.test.gpu_device_name()\n",
        "print(f'The GPU found at: {gpu_name}')"
      ],
      "metadata": {
        "colab": {
          "base_uri": "https://localhost:8080/"
        },
        "id": "Y0vOsX8mN8zS",
        "outputId": "2f36882b-57ae-45aa-d7a2-e2708722fd9f"
      },
      "execution_count": 5,
      "outputs": [
        {
          "output_type": "stream",
          "name": "stdout",
          "text": [
            "The GPU found at: \n"
          ]
        }
      ]
    },
    {
      "cell_type": "markdown",
      "source": [
        "### Get Data"
      ],
      "metadata": {
        "id": "Yg7-0Lg-Ooj2"
      }
    },
    {
      "cell_type": "code",
      "source": [
        "path = 'gs://practical-ml-vision-book/flowers_5_jpeg/flower_photos'\n",
        "\n",
        "!gsutil cat gs://practical-ml-vision-book/flowers_5_jpeg/flower_photos/train_set.csv | head -50"
      ],
      "metadata": {
        "colab": {
          "base_uri": "https://localhost:8080/"
        },
        "id": "B1tMwvlGODaD",
        "outputId": "df74f882-91ba-4f72-bba0-361edb2a548d"
      },
      "execution_count": 37,
      "outputs": [
        {
          "output_type": "stream",
          "name": "stdout",
          "text": [
            "gs://practical-ml-vision-book/flowers_5_jpeg/flower_photos/daisy/754296579_30a9ae018c_n.jpg,daisy\n",
            "gs://practical-ml-vision-book/flowers_5_jpeg/flower_photos/dandelion/18089878729_907ed2c7cd_m.jpg,dandelion\n",
            "gs://practical-ml-vision-book/flowers_5_jpeg/flower_photos/dandelion/284497199_93a01f48f6.jpg,dandelion\n",
            "gs://practical-ml-vision-book/flowers_5_jpeg/flower_photos/dandelion/3554992110_81d8c9b0bd_m.jpg,dandelion\n",
            "gs://practical-ml-vision-book/flowers_5_jpeg/flower_photos/daisy/4065883015_4bb6010cb7_n.jpg,daisy\n",
            "gs://practical-ml-vision-book/flowers_5_jpeg/flower_photos/roses/7420699022_60fa574524_m.jpg,roses\n",
            "gs://practical-ml-vision-book/flowers_5_jpeg/flower_photos/dandelion/4558536575_d43a611bd4_n.jpg,dandelion\n",
            "gs://practical-ml-vision-book/flowers_5_jpeg/flower_photos/daisy/7568630428_8cf0fc16ff_n.jpg,daisy\n",
            "gs://practical-ml-vision-book/flowers_5_jpeg/flower_photos/tulips/7064813645_f7f48fb527.jpg,tulips\n",
            "gs://practical-ml-vision-book/flowers_5_jpeg/flower_photos/sunflowers/4933229095_f7e4218b28.jpg,sunflowers\n",
            "gs://practical-ml-vision-book/flowers_5_jpeg/flower_photos/daisy/14523675369_97c31d0b5b.jpg,daisy\n",
            "gs://practical-ml-vision-book/flowers_5_jpeg/flower_photos/sunflowers/21518663809_3d69f5b995_n.jpg,sunflowers\n",
            "gs://practical-ml-vision-book/flowers_5_jpeg/flower_photos/dandelion/15782158700_3b9bf7d33e_m.jpg,dandelion\n",
            "gs://practical-ml-vision-book/flowers_5_jpeg/flower_photos/tulips/8713398906_28e59a225a_n.jpg,tulips\n",
            "gs://practical-ml-vision-book/flowers_5_jpeg/flower_photos/tulips/6770436217_281da51e49_n.jpg,tulips\n",
            "gs://practical-ml-vision-book/flowers_5_jpeg/flower_photos/dandelion/8754822932_948afc7cef.jpg,dandelion\n",
            "gs://practical-ml-vision-book/flowers_5_jpeg/flower_photos/daisy/22873310415_3a5674ec10_m.jpg,daisy\n",
            "gs://practical-ml-vision-book/flowers_5_jpeg/flower_photos/sunflowers/5967283168_90dd4daf28_n.jpg,sunflowers\n",
            "gs://practical-ml-vision-book/flowers_5_jpeg/flower_photos/roses/483444865_65962cea07_m.jpg,roses\n",
            "gs://practical-ml-vision-book/flowers_5_jpeg/flower_photos/dandelion/2229906591_e953785d13.jpg,dandelion\n",
            "gs://practical-ml-vision-book/flowers_5_jpeg/flower_photos/daisy/2520369272_1dcdb5a892_m.jpg,daisy\n",
            "gs://practical-ml-vision-book/flowers_5_jpeg/flower_photos/tulips/6903831250_a2757fff82_m.jpg,tulips\n",
            "gs://practical-ml-vision-book/flowers_5_jpeg/flower_photos/roses/22679076_bdb4c24401_m.jpg,roses\n",
            "gs://practical-ml-vision-book/flowers_5_jpeg/flower_photos/daisy/7227973870_806d9d3e42_n.jpg,daisy\n",
            "gs://practical-ml-vision-book/flowers_5_jpeg/flower_photos/roses/6016195304_75306bb79a.jpg,roses\n",
            "gs://practical-ml-vision-book/flowers_5_jpeg/flower_photos/roses/18389368680_91c24a2087_z.jpg,roses\n",
            "gs://practical-ml-vision-book/flowers_5_jpeg/flower_photos/dandelion/3991962484_085ba2da94.jpg,dandelion\n",
            "gs://practical-ml-vision-book/flowers_5_jpeg/flower_photos/sunflowers/4932736308_827012cff2.jpg,sunflowers\n",
            "gs://practical-ml-vision-book/flowers_5_jpeg/flower_photos/sunflowers/4933230247_a0432f01da.jpg,sunflowers\n",
            "gs://practical-ml-vision-book/flowers_5_jpeg/flower_photos/roses/8050213579_48e1e7109f.jpg,roses\n",
            "gs://practical-ml-vision-book/flowers_5_jpeg/flower_photos/dandelion/4500964841_b1142b50fb_n.jpg,dandelion\n",
            "gs://practical-ml-vision-book/flowers_5_jpeg/flower_photos/daisy/2838487505_6c3b48efa5_m.jpg,daisy\n",
            "gs://practical-ml-vision-book/flowers_5_jpeg/flower_photos/sunflowers/877083343_e3338c4125.jpg,sunflowers\n",
            "gs://practical-ml-vision-book/flowers_5_jpeg/flower_photos/dandelion/7808545612_546cfca610_m.jpg,dandelion\n",
            "gs://practical-ml-vision-book/flowers_5_jpeg/flower_photos/dandelion/19440660848_c789227129_m.jpg,dandelion\n",
            "gs://practical-ml-vision-book/flowers_5_jpeg/flower_photos/dandelion/2540640433_dedd577263.jpg,dandelion\n",
            "gs://practical-ml-vision-book/flowers_5_jpeg/flower_photos/dandelion/129019877_8eea2978ca_m.jpg,dandelion\n",
            "gs://practical-ml-vision-book/flowers_5_jpeg/flower_photos/daisy/18203367608_07a04e98a4_n.jpg,daisy\n",
            "gs://practical-ml-vision-book/flowers_5_jpeg/flower_photos/dandelion/7132677385_bcbdcc6001.jpg,dandelion\n",
            "gs://practical-ml-vision-book/flowers_5_jpeg/flower_photos/roses/15202632426_d88efb321a_n.jpg,roses\n",
            "gs://practical-ml-vision-book/flowers_5_jpeg/flower_photos/tulips/13542672763_20c3cb9272.jpg,tulips\n",
            "gs://practical-ml-vision-book/flowers_5_jpeg/flower_photos/sunflowers/5020805619_6c710793f7.jpg,sunflowers\n",
            "gs://practical-ml-vision-book/flowers_5_jpeg/flower_photos/sunflowers/20704967595_a9c9b8d431.jpg,sunflowers\n",
            "gs://practical-ml-vision-book/flowers_5_jpeg/flower_photos/roses/9609569441_eeb8566e94.jpg,roses\n",
            "gs://practical-ml-vision-book/flowers_5_jpeg/flower_photos/daisy/10712722853_5632165b04.jpg,daisy\n",
            "gs://practical-ml-vision-book/flowers_5_jpeg/flower_photos/dandelion/2479491210_98e41c4e7d_m.jpg,dandelion\n",
            "gs://practical-ml-vision-book/flowers_5_jpeg/flower_photos/tulips/2481827798_6087d71134.jpg,tulips\n",
            "gs://practical-ml-vision-book/flowers_5_jpeg/flower_photos/daisy/18684594849_7dd3634f5e_n.jpg,daisy\n",
            "gs://practical-ml-vision-book/flowers_5_jpeg/flower_photos/daisy/13977181862_f8237b6b52.jpg,daisy\n",
            "gs://practical-ml-vision-book/flowers_5_jpeg/flower_photos/sunflowers/22686342422_c0b9e2f38e.jpg,sunflowers\n"
          ]
        }
      ]
    },
    {
      "cell_type": "markdown",
      "source": [
        "As tou can see, data \"\"TRAIN_SET\"\" has a path to each Image and It's type as well.\n",
        "\n",
        "For Example:\n",
        "\n",
        "```\n",
        "gs://practical-ml-vision-book/flowers_5_jpeg/flower_photos/daisy/10712722853_5632165b04.jpg,daisy\n",
        "```\n",
        "\n",
        "Has the Format:\n",
        "\n",
        "\n",
        "```\n",
        "PATH, Flower_Type\n",
        "```\n",
        "\n",
        "\n"
      ],
      "metadata": {
        "id": "cRp16tnsOwvn"
      }
    },
    {
      "cell_type": "markdown",
      "source": [
        "### Reading the Image"
      ],
      "metadata": {
        "id": "8o2L-nRHPvc0"
      }
    },
    {
      "cell_type": "code",
      "source": [
        "def Image_read_decoder(filename, reshape_dims):\n",
        "  img = tf.io.read_file(filename) #Read the Image as a compressed String.\n",
        "  img = tf.image.decode_jpeg(img, channels=3) #Decode The Compressed String to a 3-D unit8 Tensor.\n",
        "  img = tf.image.convert_image_dtype(img, tf.float32) #Normalize the Tensors in to [0, 1] Range\n",
        "  img = tf.image.resize(img, reshape_dims)\n",
        "  return img"
      ],
      "metadata": {
        "id": "YpRShaaTOth3"
      },
      "execution_count": 38,
      "outputs": []
    },
    {
      "cell_type": "code",
      "source": [
        "Image_read_decoder(f\"{path}/dandelion/18089878729_907ed2c7cd_m.jpg\", (224, 224))"
      ],
      "metadata": {
        "colab": {
          "base_uri": "https://localhost:8080/"
        },
        "id": "4JB9feihRVKF",
        "outputId": "1483a30f-557e-4820-d891-145d32183824"
      },
      "execution_count": 39,
      "outputs": [
        {
          "output_type": "execute_result",
          "data": {
            "text/plain": [
              "<tf.Tensor: shape=(224, 224, 3), dtype=float32, numpy=\n",
              "array([[[0.0000000e+00, 0.0000000e+00, 0.0000000e+00],\n",
              "        [0.0000000e+00, 0.0000000e+00, 0.0000000e+00],\n",
              "        [0.0000000e+00, 0.0000000e+00, 0.0000000e+00],\n",
              "        ...,\n",
              "        [1.1648739e-03, 1.1648739e-03, 1.1648739e-03],\n",
              "        [0.0000000e+00, 0.0000000e+00, 0.0000000e+00],\n",
              "        [0.0000000e+00, 0.0000000e+00, 0.0000000e+00]],\n",
              "\n",
              "       [[0.0000000e+00, 0.0000000e+00, 0.0000000e+00],\n",
              "        [0.0000000e+00, 0.0000000e+00, 0.0000000e+00],\n",
              "        [0.0000000e+00, 0.0000000e+00, 0.0000000e+00],\n",
              "        ...,\n",
              "        [0.0000000e+00, 0.0000000e+00, 0.0000000e+00],\n",
              "        [0.0000000e+00, 0.0000000e+00, 0.0000000e+00],\n",
              "        [0.0000000e+00, 0.0000000e+00, 0.0000000e+00]],\n",
              "\n",
              "       [[7.0027937e-04, 7.0027937e-04, 7.0027937e-04],\n",
              "        [2.9074095e-04, 2.9074095e-04, 2.9074095e-04],\n",
              "        [0.0000000e+00, 0.0000000e+00, 0.0000000e+00],\n",
              "        ...,\n",
              "        [4.3143428e-04, 4.3143428e-04, 4.3143428e-04],\n",
              "        [0.0000000e+00, 0.0000000e+00, 0.0000000e+00],\n",
              "        [0.0000000e+00, 0.0000000e+00, 0.0000000e+00]],\n",
              "\n",
              "       ...,\n",
              "\n",
              "       [[2.8011547e-03, 2.8011547e-03, 2.8011547e-03],\n",
              "        [1.1629793e-03, 1.1629793e-03, 1.1629793e-03],\n",
              "        [3.4082348e-03, 3.4082348e-03, 3.4082348e-03],\n",
              "        ...,\n",
              "        [2.5399467e-01, 2.5399467e-01, 2.5399467e-01],\n",
              "        [2.3920615e-01, 2.3920615e-01, 2.3920615e-01],\n",
              "        [2.2913149e-01, 2.2913149e-01, 2.2913149e-01]],\n",
              "\n",
              "       [[1.4005534e-02, 1.4005534e-02, 1.4005534e-02],\n",
              "        [1.1957850e-02, 1.1957850e-02, 1.1957850e-02],\n",
              "        [3.4620568e-02, 3.4620568e-02, 3.4620568e-02],\n",
              "        ...,\n",
              "        [2.9907840e-01, 2.9907840e-01, 2.9907840e-01],\n",
              "        [2.8781626e-01, 2.8781626e-01, 2.8781626e-01],\n",
              "        [2.7815109e-01, 2.7815109e-01, 2.7815109e-01]],\n",
              "\n",
              "       [[1.2913090e-01, 1.2913090e-01, 1.2913090e-01],\n",
              "        [1.4674091e-01, 1.4674091e-01, 1.4674091e-01],\n",
              "        [1.3223600e-01, 1.3223600e-01, 1.3223600e-01],\n",
              "        ...,\n",
              "        [2.0302311e-01, 2.0302311e-01, 2.0302311e-01],\n",
              "        [2.3066829e-01, 2.3066829e-01, 2.3066829e-01],\n",
              "        [2.3697512e-01, 2.3697512e-01, 2.3697512e-01]]], dtype=float32)>"
            ]
          },
          "metadata": {},
          "execution_count": 39
        }
      ]
    },
    {
      "cell_type": "code",
      "source": [
        "CLASS_NAMES = [item.numpy().decode(\"utf-8\") for item in \n",
        "               tf.strings.regex_replace(\n",
        "                 tf.io.gfile.glob(\"gs://practical-ml-vision-book/flowers_5_jpeg/flower_photos/*\"),\n",
        "                 \"gs://practical-ml-vision-book/flowers_5_jpeg/flower_photos/\", \"\")]\n",
        "CLASS_NAMES = [item for item in CLASS_NAMES if item.find(\".\") == -1]\n",
        "print(\"These are the available classes:\", CLASS_NAMES)"
      ],
      "metadata": {
        "colab": {
          "base_uri": "https://localhost:8080/"
        },
        "id": "ZqXNoNDXRu_o",
        "outputId": "fa3928da-4aca-4922-f536-0b988cdb080d"
      },
      "execution_count": 40,
      "outputs": [
        {
          "output_type": "stream",
          "name": "stdout",
          "text": [
            "These are the available classes: ['daisy', 'dandelion', 'roses', 'sunflowers', 'tulips']\n"
          ]
        }
      ]
    },
    {
      "cell_type": "code",
      "source": [
        "tf.io.gfile.glob(f'{path}/*')"
      ],
      "metadata": {
        "colab": {
          "base_uri": "https://localhost:8080/"
        },
        "id": "3eLj8fCSVEG1",
        "outputId": "25d14b77-de22-42b2-d1bf-8d18a7862c2c"
      },
      "execution_count": 43,
      "outputs": [
        {
          "output_type": "execute_result",
          "data": {
            "text/plain": [
              "['gs://practical-ml-vision-book/flowers_5_jpeg/flower_photos/LICENSE.txt',\n",
              " 'gs://practical-ml-vision-book/flowers_5_jpeg/flower_photos/README.txt',\n",
              " 'gs://practical-ml-vision-book/flowers_5_jpeg/flower_photos/all_data.csv',\n",
              " 'gs://practical-ml-vision-book/flowers_5_jpeg/flower_photos/daisy',\n",
              " 'gs://practical-ml-vision-book/flowers_5_jpeg/flower_photos/daisy.zip',\n",
              " 'gs://practical-ml-vision-book/flowers_5_jpeg/flower_photos/dandelion',\n",
              " 'gs://practical-ml-vision-book/flowers_5_jpeg/flower_photos/dandelion.zip',\n",
              " 'gs://practical-ml-vision-book/flowers_5_jpeg/flower_photos/dict.txt',\n",
              " 'gs://practical-ml-vision-book/flowers_5_jpeg/flower_photos/eval_set.csv',\n",
              " 'gs://practical-ml-vision-book/flowers_5_jpeg/flower_photos/flowers_200_csv.zip',\n",
              " 'gs://practical-ml-vision-book/flowers_5_jpeg/flower_photos/flowers_200_folders.zip',\n",
              " 'gs://practical-ml-vision-book/flowers_5_jpeg/flower_photos/flowers_200_presplit.zip',\n",
              " 'gs://practical-ml-vision-book/flowers_5_jpeg/flower_photos/flowers_200_unlabeled.zip',\n",
              " 'gs://practical-ml-vision-book/flowers_5_jpeg/flower_photos/flowers_full_with_csv.zip',\n",
              " 'gs://practical-ml-vision-book/flowers_5_jpeg/flower_photos/inception_v3_2016_08_28.ckpt',\n",
              " 'gs://practical-ml-vision-book/flowers_5_jpeg/flower_photos/open_image_inception_v3.ckpt',\n",
              " 'gs://practical-ml-vision-book/flowers_5_jpeg/flower_photos/roses',\n",
              " 'gs://practical-ml-vision-book/flowers_5_jpeg/flower_photos/roses.zip',\n",
              " 'gs://practical-ml-vision-book/flowers_5_jpeg/flower_photos/sunflowers',\n",
              " 'gs://practical-ml-vision-book/flowers_5_jpeg/flower_photos/sunflowers.zip',\n",
              " 'gs://practical-ml-vision-book/flowers_5_jpeg/flower_photos/train_set.csv',\n",
              " 'gs://practical-ml-vision-book/flowers_5_jpeg/flower_photos/tulips',\n",
              " 'gs://practical-ml-vision-book/flowers_5_jpeg/flower_photos/tulips.zip']"
            ]
          },
          "metadata": {},
          "execution_count": 43
        }
      ]
    },
    {
      "cell_type": "code",
      "source": [],
      "metadata": {
        "id": "HlXZFEYNVfDk"
      },
      "execution_count": null,
      "outputs": []
    }
  ]
}