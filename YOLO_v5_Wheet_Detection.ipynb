{
  "nbformat": 4,
  "nbformat_minor": 0,
  "metadata": {
    "colab": {
      "provenance": [],
      "mount_file_id": "1Z_rpO7sX1a0L7XqXkgjDQJa93limDY6M",
      "authorship_tag": "ABX9TyN3hTK5YYAHkMNH+DezlhuH",
      "include_colab_link": true
    },
    "kernelspec": {
      "name": "python3",
      "display_name": "Python 3"
    },
    "language_info": {
      "name": "python"
    }
  },
  "cells": [
    {
      "cell_type": "markdown",
      "metadata": {
        "id": "view-in-github",
        "colab_type": "text"
      },
      "source": [
        "<a href=\"https://colab.research.google.com/github/mralamdari/Computer-Vision-Projects/blob/main/YOLO_v5_Wheet_Detection.ipynb\" target=\"_parent\"><img src=\"https://colab.research.google.com/assets/colab-badge.svg\" alt=\"Open In Colab\"/></a>"
      ]
    },
    {
      "cell_type": "code",
      "execution_count": 20,
      "metadata": {
        "id": "iiiATdLgeuHj"
      },
      "outputs": [],
      "source": [
        "import os\n",
        "import cv2\n",
        "import tqdm\n",
        "import torch\n",
        "import shutil\n",
        "import numpy as np\n",
        "import pandas as pd\n",
        "import matplotlib.pyplot as plt\n",
        "from IPython.display import clear_output"
      ]
    },
    {
      "cell_type": "markdown",
      "source": [
        "# Clone YOLOv5\n",
        "\n",
        "Clone the YOLOv5 repository, and move all the yolo files to your current working directory"
      ],
      "metadata": {
        "id": "44D6dYOOfils"
      }
    },
    {
      "cell_type": "code",
      "source": [
        "!git clone https://github.com/ultralytics/yolov5\n",
        "!mv yolov5/* ./"
      ],
      "metadata": {
        "colab": {
          "base_uri": "https://localhost:8080/"
        },
        "id": "33iCddyafZmk",
        "outputId": "f262faa0-dc4b-4957-bda2-3fd78aa8cdf7"
      },
      "execution_count": 2,
      "outputs": [
        {
          "output_type": "stream",
          "name": "stdout",
          "text": [
            "Cloning into 'yolov5'...\n",
            "remote: Enumerating objects: 15978, done.\u001b[K\n",
            "remote: Counting objects: 100% (147/147), done.\u001b[K\n",
            "remote: Compressing objects: 100% (72/72), done.\u001b[K\n",
            "remote: Total 15978 (delta 89), reused 118 (delta 75), pack-reused 15831\u001b[K\n",
            "Receiving objects: 100% (15978/15978), 14.61 MiB | 21.49 MiB/s, done.\n",
            "Resolving deltas: 100% (10958/10958), done.\n"
          ]
        }
      ]
    },
    {
      "cell_type": "code",
      "source": [
        "!pip install -r requirements.txt\n",
        "clear_output()"
      ],
      "metadata": {
        "id": "FPTbEpdyfqSN"
      },
      "execution_count": 7,
      "outputs": []
    },
    {
      "cell_type": "code",
      "source": [
        "os.environ['KAGGLE_CONFIG_DIR'] = '/content/drive/MyDrive'\n",
        "!kaggle competitions download global-wheat-detection\n",
        "!unzip \\*.zip && rm *.zip\n",
        "clear_output()"
      ],
      "metadata": {
        "id": "g-qmqkbHgKsz"
      },
      "execution_count": 16,
      "outputs": []
    },
    {
      "cell_type": "code",
      "source": [
        "df = pd.read_csv('/content/train.csv')\n",
        "bboxs = np.stack(df['bbox'].apply(lambda x: np.fromstring(x[1:-1], sep=',')))\n",
        "for i, column in enumerate(['x', 'y', 'w', 'h']):\n",
        "    df[column] = bboxs[:,i]\n",
        "df.drop(columns=['bbox'], inplace=True)\n",
        "df['x_center'] = df['x'] + df['w']/2\n",
        "df['y_center'] = df['y'] + df['h']/2\n",
        "df['classes'] = 0\n",
        "df = df[['image_id','x', 'y', 'w', 'h','x_center','y_center','classes']]\n",
        "df"
      ],
      "metadata": {
        "colab": {
          "base_uri": "https://localhost:8080/",
          "height": 424
        },
        "id": "acVkLNE3hR8h",
        "outputId": "404a4b6b-b4ed-42f1-80d2-d245c467b272"
      },
      "execution_count": 19,
      "outputs": [
        {
          "output_type": "execute_result",
          "data": {
            "text/plain": [
              "         image_id      x      y      w      h  x_center  y_center  classes\n",
              "0       b6ab77fd7  834.0  222.0   56.0   36.0     862.0     240.0        0\n",
              "1       b6ab77fd7  226.0  548.0  130.0   58.0     291.0     577.0        0\n",
              "2       b6ab77fd7  377.0  504.0   74.0  160.0     414.0     584.0        0\n",
              "3       b6ab77fd7  834.0   95.0  109.0  107.0     888.5     148.5        0\n",
              "4       b6ab77fd7   26.0  144.0  124.0  117.0      88.0     202.5        0\n",
              "...           ...    ...    ...    ...    ...       ...       ...      ...\n",
              "147788  5e0747034   64.0  619.0   84.0   95.0     106.0     666.5        0\n",
              "147789  5e0747034  292.0  549.0  107.0   82.0     345.5     590.0        0\n",
              "147790  5e0747034  134.0  228.0  141.0   71.0     204.5     263.5        0\n",
              "147791  5e0747034  430.0   13.0  184.0   79.0     522.0      52.5        0\n",
              "147792  5e0747034  875.0  740.0   94.0   61.0     922.0     770.5        0\n",
              "\n",
              "[147793 rows x 8 columns]"
            ],
            "text/html": [
              "\n",
              "  <div id=\"df-12bf476a-9931-4b19-86fc-e9882f878a08\">\n",
              "    <div class=\"colab-df-container\">\n",
              "      <div>\n",
              "<style scoped>\n",
              "    .dataframe tbody tr th:only-of-type {\n",
              "        vertical-align: middle;\n",
              "    }\n",
              "\n",
              "    .dataframe tbody tr th {\n",
              "        vertical-align: top;\n",
              "    }\n",
              "\n",
              "    .dataframe thead th {\n",
              "        text-align: right;\n",
              "    }\n",
              "</style>\n",
              "<table border=\"1\" class=\"dataframe\">\n",
              "  <thead>\n",
              "    <tr style=\"text-align: right;\">\n",
              "      <th></th>\n",
              "      <th>image_id</th>\n",
              "      <th>x</th>\n",
              "      <th>y</th>\n",
              "      <th>w</th>\n",
              "      <th>h</th>\n",
              "      <th>x_center</th>\n",
              "      <th>y_center</th>\n",
              "      <th>classes</th>\n",
              "    </tr>\n",
              "  </thead>\n",
              "  <tbody>\n",
              "    <tr>\n",
              "      <th>0</th>\n",
              "      <td>b6ab77fd7</td>\n",
              "      <td>834.0</td>\n",
              "      <td>222.0</td>\n",
              "      <td>56.0</td>\n",
              "      <td>36.0</td>\n",
              "      <td>862.0</td>\n",
              "      <td>240.0</td>\n",
              "      <td>0</td>\n",
              "    </tr>\n",
              "    <tr>\n",
              "      <th>1</th>\n",
              "      <td>b6ab77fd7</td>\n",
              "      <td>226.0</td>\n",
              "      <td>548.0</td>\n",
              "      <td>130.0</td>\n",
              "      <td>58.0</td>\n",
              "      <td>291.0</td>\n",
              "      <td>577.0</td>\n",
              "      <td>0</td>\n",
              "    </tr>\n",
              "    <tr>\n",
              "      <th>2</th>\n",
              "      <td>b6ab77fd7</td>\n",
              "      <td>377.0</td>\n",
              "      <td>504.0</td>\n",
              "      <td>74.0</td>\n",
              "      <td>160.0</td>\n",
              "      <td>414.0</td>\n",
              "      <td>584.0</td>\n",
              "      <td>0</td>\n",
              "    </tr>\n",
              "    <tr>\n",
              "      <th>3</th>\n",
              "      <td>b6ab77fd7</td>\n",
              "      <td>834.0</td>\n",
              "      <td>95.0</td>\n",
              "      <td>109.0</td>\n",
              "      <td>107.0</td>\n",
              "      <td>888.5</td>\n",
              "      <td>148.5</td>\n",
              "      <td>0</td>\n",
              "    </tr>\n",
              "    <tr>\n",
              "      <th>4</th>\n",
              "      <td>b6ab77fd7</td>\n",
              "      <td>26.0</td>\n",
              "      <td>144.0</td>\n",
              "      <td>124.0</td>\n",
              "      <td>117.0</td>\n",
              "      <td>88.0</td>\n",
              "      <td>202.5</td>\n",
              "      <td>0</td>\n",
              "    </tr>\n",
              "    <tr>\n",
              "      <th>...</th>\n",
              "      <td>...</td>\n",
              "      <td>...</td>\n",
              "      <td>...</td>\n",
              "      <td>...</td>\n",
              "      <td>...</td>\n",
              "      <td>...</td>\n",
              "      <td>...</td>\n",
              "      <td>...</td>\n",
              "    </tr>\n",
              "    <tr>\n",
              "      <th>147788</th>\n",
              "      <td>5e0747034</td>\n",
              "      <td>64.0</td>\n",
              "      <td>619.0</td>\n",
              "      <td>84.0</td>\n",
              "      <td>95.0</td>\n",
              "      <td>106.0</td>\n",
              "      <td>666.5</td>\n",
              "      <td>0</td>\n",
              "    </tr>\n",
              "    <tr>\n",
              "      <th>147789</th>\n",
              "      <td>5e0747034</td>\n",
              "      <td>292.0</td>\n",
              "      <td>549.0</td>\n",
              "      <td>107.0</td>\n",
              "      <td>82.0</td>\n",
              "      <td>345.5</td>\n",
              "      <td>590.0</td>\n",
              "      <td>0</td>\n",
              "    </tr>\n",
              "    <tr>\n",
              "      <th>147790</th>\n",
              "      <td>5e0747034</td>\n",
              "      <td>134.0</td>\n",
              "      <td>228.0</td>\n",
              "      <td>141.0</td>\n",
              "      <td>71.0</td>\n",
              "      <td>204.5</td>\n",
              "      <td>263.5</td>\n",
              "      <td>0</td>\n",
              "    </tr>\n",
              "    <tr>\n",
              "      <th>147791</th>\n",
              "      <td>5e0747034</td>\n",
              "      <td>430.0</td>\n",
              "      <td>13.0</td>\n",
              "      <td>184.0</td>\n",
              "      <td>79.0</td>\n",
              "      <td>522.0</td>\n",
              "      <td>52.5</td>\n",
              "      <td>0</td>\n",
              "    </tr>\n",
              "    <tr>\n",
              "      <th>147792</th>\n",
              "      <td>5e0747034</td>\n",
              "      <td>875.0</td>\n",
              "      <td>740.0</td>\n",
              "      <td>94.0</td>\n",
              "      <td>61.0</td>\n",
              "      <td>922.0</td>\n",
              "      <td>770.5</td>\n",
              "      <td>0</td>\n",
              "    </tr>\n",
              "  </tbody>\n",
              "</table>\n",
              "<p>147793 rows × 8 columns</p>\n",
              "</div>\n",
              "      <button class=\"colab-df-convert\" onclick=\"convertToInteractive('df-12bf476a-9931-4b19-86fc-e9882f878a08')\"\n",
              "              title=\"Convert this dataframe to an interactive table.\"\n",
              "              style=\"display:none;\">\n",
              "        \n",
              "  <svg xmlns=\"http://www.w3.org/2000/svg\" height=\"24px\"viewBox=\"0 0 24 24\"\n",
              "       width=\"24px\">\n",
              "    <path d=\"M0 0h24v24H0V0z\" fill=\"none\"/>\n",
              "    <path d=\"M18.56 5.44l.94 2.06.94-2.06 2.06-.94-2.06-.94-.94-2.06-.94 2.06-2.06.94zm-11 1L8.5 8.5l.94-2.06 2.06-.94-2.06-.94L8.5 2.5l-.94 2.06-2.06.94zm10 10l.94 2.06.94-2.06 2.06-.94-2.06-.94-.94-2.06-.94 2.06-2.06.94z\"/><path d=\"M17.41 7.96l-1.37-1.37c-.4-.4-.92-.59-1.43-.59-.52 0-1.04.2-1.43.59L10.3 9.45l-7.72 7.72c-.78.78-.78 2.05 0 2.83L4 21.41c.39.39.9.59 1.41.59.51 0 1.02-.2 1.41-.59l7.78-7.78 2.81-2.81c.8-.78.8-2.07 0-2.86zM5.41 20L4 18.59l7.72-7.72 1.47 1.35L5.41 20z\"/>\n",
              "  </svg>\n",
              "      </button>\n",
              "      \n",
              "  <style>\n",
              "    .colab-df-container {\n",
              "      display:flex;\n",
              "      flex-wrap:wrap;\n",
              "      gap: 12px;\n",
              "    }\n",
              "\n",
              "    .colab-df-convert {\n",
              "      background-color: #E8F0FE;\n",
              "      border: none;\n",
              "      border-radius: 50%;\n",
              "      cursor: pointer;\n",
              "      display: none;\n",
              "      fill: #1967D2;\n",
              "      height: 32px;\n",
              "      padding: 0 0 0 0;\n",
              "      width: 32px;\n",
              "    }\n",
              "\n",
              "    .colab-df-convert:hover {\n",
              "      background-color: #E2EBFA;\n",
              "      box-shadow: 0px 1px 2px rgba(60, 64, 67, 0.3), 0px 1px 3px 1px rgba(60, 64, 67, 0.15);\n",
              "      fill: #174EA6;\n",
              "    }\n",
              "\n",
              "    [theme=dark] .colab-df-convert {\n",
              "      background-color: #3B4455;\n",
              "      fill: #D2E3FC;\n",
              "    }\n",
              "\n",
              "    [theme=dark] .colab-df-convert:hover {\n",
              "      background-color: #434B5C;\n",
              "      box-shadow: 0px 1px 3px 1px rgba(0, 0, 0, 0.15);\n",
              "      filter: drop-shadow(0px 1px 2px rgba(0, 0, 0, 0.3));\n",
              "      fill: #FFFFFF;\n",
              "    }\n",
              "  </style>\n",
              "\n",
              "      <script>\n",
              "        const buttonEl =\n",
              "          document.querySelector('#df-12bf476a-9931-4b19-86fc-e9882f878a08 button.colab-df-convert');\n",
              "        buttonEl.style.display =\n",
              "          google.colab.kernel.accessAllowed ? 'block' : 'none';\n",
              "\n",
              "        async function convertToInteractive(key) {\n",
              "          const element = document.querySelector('#df-12bf476a-9931-4b19-86fc-e9882f878a08');\n",
              "          const dataTable =\n",
              "            await google.colab.kernel.invokeFunction('convertToInteractive',\n",
              "                                                     [key], {});\n",
              "          if (!dataTable) return;\n",
              "\n",
              "          const docLinkHtml = 'Like what you see? Visit the ' +\n",
              "            '<a target=\"_blank\" href=https://colab.research.google.com/notebooks/data_table.ipynb>data table notebook</a>'\n",
              "            + ' to learn more about interactive tables.';\n",
              "          element.innerHTML = '';\n",
              "          dataTable['output_type'] = 'display_data';\n",
              "          await google.colab.output.renderOutput(dataTable, element);\n",
              "          const docLink = document.createElement('div');\n",
              "          docLink.innerHTML = docLinkHtml;\n",
              "          element.appendChild(docLink);\n",
              "        }\n",
              "      </script>\n",
              "    </div>\n",
              "  </div>\n",
              "  "
            ]
          },
          "metadata": {},
          "execution_count": 19
        }
      ]
    },
    {
      "cell_type": "code",
      "source": [
        "# index = list(set(df.image_id))\n",
        "# len(index)\n",
        "\n",
        "# source = 'train'\n",
        "# if True:\n",
        "#     for fold in [0]:\n",
        "#         val_index = index[len(index)*fold//5:len(index)*(fold+1)//5]\n",
        "#         for name, mini in tqdm.tqdm(df.groupby('image_id')):\n",
        "#             if name in val_index:\n",
        "#                 path2save = 'val2017/'\n",
        "#             else:\n",
        "#                 path2save = 'train2017/'\n",
        "#             if not os.path.exists('convertor/fold{}/labels/'.format(fold)+path2save):\n",
        "#                 os.makedirs('convertor/fold{}/labels/'.format(fold)+path2save)\n",
        "#             with open('convertor/fold{}/labels/'.format(fold)+path2save+name+\".txt\", 'w+') as f:\n",
        "#                 row = mini[['classes','x_center','y_center','w','h']].astype(float).values\n",
        "#                 row = row/1024\n",
        "#                 row = row.astype(str)\n",
        "#                 for j in range(len(row)):\n",
        "#                     text = ' '.join(row[j])\n",
        "#                     f.write(text)\n",
        "#                     f.write(\"\\n\")\n",
        "#             if not os.path.exists('convertor/fold{}/images/{}'.format(fold,path2save)):\n",
        "#                 os.makedirs('convertor/fold{}/images/{}'.format(fold,path2save))\n",
        "#             shutil.copy(\"/content/{}/{}.jpg\".format(source,name),'convertor/fold{}/images/{}/{}.jpg'.format(fold,path2save,name))\n",
        "\n",
        "\n",
        "index = list(set(df.image_id))  #Each picture contains lots of bounding boxes, so #BBs >> #Img_ids\n",
        "print(f'There are {len(index)} Images with {len(df.image_id)} Bounding Boxes')\n",
        "source = 'train'\n",
        "if True:\n",
        "    for fold in [0]:\n",
        "        val_index = index[len(index)*fold//5:len(index)*(fold+1)//5]\n",
        "        print(len(index)*fold//5, len(index)*(fold+1)//5, val_index)\n",
        "        for name, mini in tqdm.tqdm(df.groupby('image_id')):\n",
        "            if name in val_index:\n",
        "                path2save = 'val2017/'\n",
        "            else:\n",
        "                path2save = 'train2017/'\n",
        "        #     if not os.path.exists('convertor/fold{}/labels/'.format(fold)+path2save):\n",
        "        #         os.makedirs('convertor/fold{}/labels/'.format(fold)+path2save)\n",
        "        #     with open('convertor/fold{}/labels/'.format(fold)+path2save+name+\".txt\", 'w+') as f:\n",
        "        #         row = mini[['classes','x_center','y_center','w','h']].astype(float).values\n",
        "        #         row = row/1024\n",
        "        #         row = row.astype(str)\n",
        "        #         for j in range(len(row)):\n",
        "        #             text = ' '.join(row[j])\n",
        "        #             f.write(text)\n",
        "        #             f.write(\"\\n\")\n",
        "        #     if not os.path.exists('convertor/fold{}/images/{}'.format(fold,path2save)):\n",
        "        #         os.makedirs('convertor/fold{}/images/{}'.format(fold,path2save))\n",
        "        #     shutil.copy(\"/content/{}/{}.jpg\".format(source,name),'convertor/fold{}/images/{}/{}.jpg'.format(fold,path2save,name))"
      ],
      "metadata": {
        "colab": {
          "base_uri": "https://localhost:8080/"
        },
        "id": "iqlkJs8BtfwO",
        "outputId": "c2e01b42-36f1-4401-8640-216cf2734e30"
      },
      "execution_count": 32,
      "outputs": [
        {
          "output_type": "stream",
          "name": "stdout",
          "text": [
            "There are 3373 Images with 147793 Bounding Boxes\n",
            "0 674 ['fe3f956a2', '41457a646', '6f1e9046d', '4ecd10d42', '5b558a4c7', '461d55f4b', '16daa81b4', 'a3bc2d2ec', '9561a71a0', '854b60f75', '86e843e5e', '8201b54e5', '5a77d4b5d', '9f1d83913', 'd2e7465f0', '12f742390', 'a7e2015b3', '8a29ab483', 'e1e3b78ab', '948c989ef', '0435654cd', 'a4b64deca', '8f06b77e5', '07f519e11', '0114c88aa', '89fe13786', 'b30d051ab', '586a28040', '57956c488', '060740e25', 'ecad4b636', '70aff3f9e', 'c88635e09', 'c328e6c68', 'ff5c9104a', '26373af4b', '0e0a0483e', '4759e7258', '029e03e52', '4a06c2f96', '1a39607ca', '7c23b7b20', '4dc07d36a', 'ea3537563', '9a9f42302', 'bfaa92629', '958c0ad3d', 'e2e13ad15', 'd7a02151d', '408013a9d', '530a756df', '086349fe8', '7c79cea8f', '8afea785a', '38dc44b85', '14d856fb1', 'c29961ce8', 'f0a52d979', '2d635716b', 'cea58b404', 'f244c9c23', 'f1a038768', 'bd68a3064', '5498d5aae', '93c9d721e', '16e075fbb', 'f926234d6', 'dc75973ed', '5c64b986e', '229d8a499', 'e5ab88ff3', '6d27a58b7', 'd145202eb', 'd50c71d8c', 'dc2c73c4b', 'd3b4a0cdf', 'ecc61faef', 'bb835a3d2', 'e6989f6c7', '041707ba8', '07479da31', 'a6aeedae1', '4b127eb47', '572a469e9', '044078e70', 'e6e48fa5d', '8f1d02616', 'f3d0759c8', '3d765f241', 'be0fd10b4', 'f355c9fe2', 'd781eb0c1', '901a650fb', 'd7612c04a', '22eabfde5', '4676009a9', 'ab9e2d432', '03448724b', '35b935b6c', '939c5d28b', 'eddff557c', 'c3c8b6aa5', '88114e632', '43bc260d9', 'a28af8f95', '53c5fcf4c', 'c3fa071f6', 'ab026e14a', '15c21964a', 'dc8edd6b7', '643778d09', 'f54dedb60', 'a1321ca95', 'e764fa818', '46727d887', '94e3ee08b', 'c64a4006c', '69595016d', '29ffadaf3', 'da1835099', '6e58d4ea0', 'ba98d009b', '1c90d23fb', '7b7a3b322', '030314634', 'def999c42', '2d3e3f783', '371f6d5b0', '9764d9f54', 'cf870354f', '1b399c9a7', '7b138337f', 'de0f984ca', 'b5e7db94b', '7aef54163', '4341d37a9', '2c5b2cd57', 'd01b29b85', 'bcb8e2fb7', 'dafa14917', '744856d95', '80dbba8a7', '91ef6ef2b', '2ed94451a', '6e6f7dd89', '625c80346', 'fe3d17ee2', '045d846eb', '51544e05c', 'e383c916b', 'ea04b734a', '97851b9c6', 'cabe03050', '0fcdc222b', '70dd6f08f', '8311f2e1f', '64a883d10', '0594af5a7', '3b4f7ba0a', '6c291229f', '64ee2e175', 'edf1fad26', '7aa682e0f', '4a2662fae', '834690a35', '7538c9a97', '0eab04c31', '7a9d28a53', 'ba3404681', '952ce366b', '6b4169a72', '3ce598c96', '01397a84c', 'e60d70a8f', '2b99d68df', '060c572e4', '99886a700', '1ff3f11c4', '7e73872ad', 'ebcd9b081', 'cbab952fe', '4b6281d55', '86b658350', '7220f6fa6', '03a242bd2', '2cc49e1ba', '15f3f1f01', '4132df01d', 'c6d94be4c', '7f01525b1', '3a1f54e49', 'eebbcb229', '1cf002747', '9043b1fcf', '595709e55', '233cb8750', '19ecc4446', '86296fc32', '30bbd3d87', '3ba5d332c', '1f9a8abcd', '6c071b9da', '57393e4e9', '251b2ed74', 'e6cffbb3d', 'ee8c82355', '8d066eb98', '3b6147f4c', '461376287', 'aa171bd87', '029c79463', '6ef6fc905', '9790095bb', '9adca8ff8', 'cf077ea2b', '6284044ed', '3738685a3', 'd8cae4d1b', '7c659d49a', '91b435dbb', 'a5dde818e', '09eb21d04', '5d73dfef2', '7252dabad', '5a9be233e', '9658b9c3c', '0787635a2', '18cefbf07', 'a134e203f', '59664f9a2', '2d9f247fb', '1908103f1', 'f7fceadee', 'a76360ece', '4f5331b7b', '51af1e874', '86a279fe3', '4710cf119', 'c45841e26', 'fe2a54e65', 'b3e72b002', '5fdc74081', 'b5a90214f', '988a60e6e', '696530284', '657f6bf98', '777fa71f7', '0126b7d11', '19f4faf0f', 'a9aabd0c8', '610d45d1e', '0d5525a7b', 'ed168fff1', '9f682802c', 'fae71c97b', '57c9b9982', 'dc9ac3f45', 'efa2ec01b', '773bf9022', 'ab4ff3cfa', 'b40d7ae4e', '0b5b60131', '76e56c0b1', 'bb3df77ab', '56d818688', '38b259a9e', 'e34336025', '311a8b9db', '3ef86180e', '83b801148', '773a616f7', '9386badca', 'd728e2fc2', '475d3a571', '6a62af644', '14783fc8c', '4e2b8a4a6', '4a3f67d2e', '3c6f520ee', '7fc9fe138', 'cf3a2a32d', '3a84eba70', '598e8cea3', 'e6b5e296d', '8417e5762', 'feac3a701', '348059f04', '4227725a7', '427fddfcf', 'b7c9166b6', '0eab1baab', '4e6891a56', '5a3e0c6b5', '0a4408b37', '0429c9ff6', '6b62d8c94', '6e7c6ce51', '8a5741c74', '4f4b7779a', 'ef0a4ba44', 'ac1e7253a', '87a0373b2', '994ec0471', '93ad786cf', 'dae984d6a', 'd9a2181ed', '522edf5c3', '5bf2f5f74', '526a2a9ef', 'e1258e054', '340ac8d52', '0172359d2', '7f4f977bf', '702385560', '768a74e08', '614640a0b', 'b61ff5016', 'df53b43f1', '199350a76', 'b745b9e4d', '36fb90706', 'bd20bc5c9', 'e9ebaec07', '692570572', '0cbb43d45', '9cb0a5504', 'e277cec54', 'a024116dc', '6a8a08409', '82f88bab4', 'f9c577690', '4b3d92c5e', '863e0253e', '68561559e', '71fd03d51', '26871fd54', 'fe125f8a6', '58ac1a399', 'f57f29ac1', '6e69bf773', '2dda3a53d', '2dfd889a2', '4b04d64f9', '4f13bffbc', '84a6298a3', '12e8267b0', '77683d1a4', 'ea74ca09f', '6ce97e05f', 'b47137eb7', 'e4b7e3af6', '2b45c0165', 'f93ef5667', '5a8f53092', '546a0e9fc', '7347e16e8', '303def58d', '09bcc5259', 'ab1bb325c', '78edb3987', 'efb3d3fb9', 'e5c45da08', 'cacd820db', 'f1144b38d', '200b3c316', '3f8f6b1a1', 'ba05c7bde', 'e26eefe0f', 'b4dced91c', '6d262fcb8', '0a73f8a0f', '2c836cccb', 'f9ece438e', 'f43b1b260', 'c1577d6ff', 'a5cb30c38', 'aeb9f155b', '09d50b59d', '1708360c3', '63a5a0d29', '7eb1333b8', 'c682d8c66', '019d1c76a', 'f7d780303', 'ded3279c6', '95ee952ba', 'c8851847c', '06b42df4e', '684dfcf04', '2bfadaa91', 'cd243b0b0', 'ad62f80f2', '0c3d9007c', 'e224a64ba', 'ad94558cf', '34b96b38e', '8a7324c84', '84f805c08', 'e16a9d55e', '88136bbdd', '4be2817ef', 'b2f2a5dfd', '467e7283e', 'd46e680e0', 'fad9380e5', '78b1ea0d6', '4532a128a', '9546777f4', '3834dbe25', 'b922186af', '465a8a521', '4cb33fd6e', 'd781b9195', '13c91a4ed', '69286a6cc', '76f679a5c', '8dd8f0ca6', '3d39ed7cf', '1ae79fd9b', 'e8fb2db93', '1794c0a24', '78cf5b3fd', '8176735c1', '4bb9bab8b', 'eaf18c504', 'f5607392f', 'ba586e514', '33c69a58a', '4caebe5ac', '0b7712f7a', 'b5487f037', 'b69255534', 'f4a36a6fd', 'e91d7c41b', '920d0cdad', '125118d1d', '3e9bf50b6', 'b9d5a380d', '5ab074c28', 'f72cabcea', '832cf59eb', '4fb926950', 'f364d25f0', '28f619dfe', 'b21ca086c', '63c4e8cda', 'f15aa967e', 'c968cffa4', '3b2183a3c', '27ab890c9', 'fe6e2ecbc', '71bd00b15', '0abbdee70', '489706bb1', '699810258', '13395ae85', '76b0b1204', '12786fe3b', '42e247347', '70bc24fa2', '47dcd5b34', '63c658201', '4f9b8d33e', 'f290ed4e6', '57587eaf7', '5dc28374a', 'aa82bfd6a', '45a13cbcd', 'c8927c5e1', 'b45096c1e', 'a886d1e61', '8bd3806b7', 'b1642dc6f', '34f7f196b', 'a6c205e19', 'd6341ae47', 'a77598408', 'ebc1c07c1', 'e0861437e', '9832f05e1', '22cb24fba', 'e11b95f4e', 'ce2e2fe79', '9613afcb6', '7f4d07cc0', '649ba7df7', '04b7f3a15', 'd55c4d4b2', '73ed5eb37', '51f2e0a05', '1e2735260', '58cef5c6c', 'c52f29668', 'd1ff5f449', 'b8ddb6c73', 'a7a86396e', '3a061fb14', 'd4652c53b', '9d78cb5d0', '38eb35232', '56c1bc7f0', '06812a4fc', '3455cbc17', '1118ba1b9', 'cb34f7509', '44a6fa0ce', '8a5658897', '31eb0625d', '91f19054e', '33f469471', '2ccec6dcc', 'e3732d7b7', 'da9b730d9', '1172e0f0a', '41badd217', '4a66347dc', '4e6c05213', '57c1475d8', '058ad1382', 'd0a00b792', '63f63c857', '81020ba1b', 'b79a35c8d', '79c8a1627', '8af3fc5af', '3aea733b5', '582bcd162', '555f4fc58', '09ba65605', '58b3d8b22', '63fe1ddab', 'f3cce7df3', '8083f65f2', '3940de6a5', 'c00c660fc', '19b035d25', 'a18ff674f', 'ecb47fac5', '333d4affe', '31b58b813', '7bf6e7991', '1951b2916', '148075f03', 'c35347675', '59e521267', '398708128', '2629ddf24', '43966050a', 'dc8b73725', 'd3a6e23a3', 'f8e590769', '60913f4db', '2a5be9325', 'd058ee2e2', 'ebbc11f78', '609c993a9', '0afdb91a2', '69f565b5a', '8ad93457c', '1b3376c60', '1970cbf85', '6a2eac670', '713c56d36', '83bfee8fd', '76bd18142', 'e1427550f', 'ad67b76a3', '536ef8d03', 'a5bdccb5f', 'f5e3315ab', 'aa29cef4a', '6246a382c', '69809f5c0', 'd0ee692a0', '399fce7aa', '56cb8b67d', 'ba290b964', '690c7d8f0', 'c85eedb4c', 'e7a1b379d', '848e992bd', 'cc2bbb768', '84c56dc93', '26b7c3188', 'f05830c46', '5dcd02a5e', 'd94f9d8a2', '5df7b74dd', 'b6e406cd1', 'f52ca5892', '2e262da1c', '421657e44', 'decc5459b', 'ea0e9e846', 'a5c5d1e9f', 'b74131d1f', '077c0bddb', '2d65f77fb', '2e867b62b', '51bf3f631', 'c5fe7d000', '3e5845bc4', '37b0d5ea3', '81eb8a758', 'f0508910d', '87c6acaae', '7ec61f6ab', '4b0b5b4bd', 'ab81b2342', '80d3bc82b', '2f2716b45', '7d827f03c', '2e1ed4321', '809f14a6a', '147830115', '05522807e', '0980aa079', '044097f45', 'fcb0f108a', '1a6f43e22', 'f94718a9b', '383817085', '61dcbea57', '4972b9493', '348f3c34b', '93be53f09', '4a609f334', '432d13b1c', 'afb9f53cd', 'ddce42b64', '40cdb5389', '29e44e305', 'a8eb74244', '80f1cb7ee', 'fb5867958', '6298999e6', 'eb3cffc94', 'e290bc809', '2de7cc0c9', 'dfbc049cd', 'b900ef546', '0a181bbb4', '85189f1bf', '6c9cf179f', '58adb478f', '60b440046', 'b13f38e6f', 'cb4d2d66b', 'dac01a162', '25b347123', 'ae5b2d4b3', '9bc09acf1', '24a90b0dd', '84cdd23e4', '02b6f199c', '2277ae74f', '9644dd8a1', '723068e09', '352e238a9', 'c90bf4552', '5e9cd13e4', 'c1279ebc9', 'dd73b74f0', '5a61c3e15', 'feb09b731', 'c022ddc42', 'd89cae86c', '22dccd0b7', '6ab50eedf', 'ff86547fb', '59ab1cdd7', 'f251e40f2', '0e0e3b0b9', 'd2b5895a2']\n"
          ]
        },
        {
          "output_type": "stream",
          "name": "stderr",
          "text": [
            "100%|██████████| 3373/3373 [00:00<00:00, 36106.12it/s]\n"
          ]
        }
      ]
    },
    {
      "cell_type": "code",
      "source": [
        "for i, j in df.groupby('image_id'):\n",
        "  if i != '00333207f':\n",
        "    print(j)\n",
        "    break"
      ],
      "metadata": {
        "colab": {
          "base_uri": "https://localhost:8080/"
        },
        "id": "jIEKeqRvvhwD",
        "outputId": "8ee3cf14-f96e-460f-9f9a-6366ac22d90c"
      },
      "execution_count": 36,
      "outputs": [
        {
          "output_type": "stream",
          "name": "stdout",
          "text": [
            "       image_id      x      y      w      h  x_center  y_center  classes\n",
            "1406  005b0d8bb  765.0  879.0  116.0   79.0     823.0     918.5        0\n",
            "1407  005b0d8bb   84.0  539.0  153.0   96.0     160.5     587.0        0\n",
            "1408  005b0d8bb  855.0  781.0   96.0   76.0     903.0     819.0        0\n",
            "1409  005b0d8bb  798.0  934.0  133.0   88.0     864.5     978.0        0\n",
            "1410  005b0d8bb  330.0  395.0  145.0  215.0     402.5     502.5        0\n",
            "1411  005b0d8bb    0.0    0.0   72.0  106.0      36.0      53.0        0\n",
            "1412  005b0d8bb  711.0   60.0  138.0   97.0     780.0     108.5        0\n",
            "1413  005b0d8bb  157.0  393.0  220.0  108.0     267.0     447.0        0\n",
            "1414  005b0d8bb  967.0  545.0   57.0  139.0     995.5     614.5        0\n",
            "1415  005b0d8bb  305.0  577.0  220.0  103.0     415.0     628.5        0\n",
            "1416  005b0d8bb  562.0  518.0  194.0  110.0     659.0     573.0        0\n",
            "1417  005b0d8bb  737.0  555.0  123.0  181.0     798.5     645.5        0\n",
            "1418  005b0d8bb  212.0  151.0  184.0  116.0     304.0     209.0        0\n",
            "1419  005b0d8bb  606.0  229.0  167.0  150.0     689.5     304.0        0\n",
            "1420  005b0d8bb  322.0  860.0   84.0  164.0     364.0     942.0        0\n",
            "1421  005b0d8bb  933.0   43.0   89.0  232.0     977.5     159.0        0\n",
            "1422  005b0d8bb  192.0  289.0  262.0   98.0     323.0     338.0        0\n",
            "1423  005b0d8bb    1.0  643.0   80.0   88.0      41.0     687.0        0\n",
            "1424  005b0d8bb   97.0  477.0  126.0   56.0     160.0     505.0        0\n",
            "1425  005b0d8bb    1.0  399.0   80.0  108.0      41.0     453.0        0\n"
          ]
        }
      ]
    },
    {
      "cell_type": "code",
      "source": [],
      "metadata": {
        "id": "9oZLVD2vxhGg"
      },
      "execution_count": null,
      "outputs": []
    }
  ]
}