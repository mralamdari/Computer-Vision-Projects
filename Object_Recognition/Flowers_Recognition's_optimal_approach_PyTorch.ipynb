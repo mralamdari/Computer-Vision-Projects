{
  "nbformat": 4,
  "nbformat_minor": 0,
  "metadata": {
    "colab": {
      "provenance": [],
      "collapsed_sections": [
        "hHW7OcjKIzm8",
        "_cRPx7aGEnbI",
        "XCehPDdk5BhW",
        "Y5mMawcD5FQH",
        "LSQM8Dkn5NTu",
        "pUb8PDFb5s40",
        "YyfaIToZA-K8"
      ],
      "mount_file_id": "1Fs7uwsH-s5dBA45deEpwXRAzfyYFUc-O",
      "authorship_tag": "ABX9TyNf3K5rZmZFKjp6o+bqW/uf",
      "include_colab_link": true
    },
    "kernelspec": {
      "name": "python3",
      "display_name": "Python 3"
    },
    "language_info": {
      "name": "python"
    },
    "gpuClass": "standard",
    "widgets": {
      "application/vnd.jupyter.widget-state+json": {
        "81f4b7897924417888d5a03c780a8ea4": {
          "model_module": "@jupyter-widgets/controls",
          "model_name": "HBoxModel",
          "model_module_version": "1.5.0",
          "state": {
            "_dom_classes": [],
            "_model_module": "@jupyter-widgets/controls",
            "_model_module_version": "1.5.0",
            "_model_name": "HBoxModel",
            "_view_count": null,
            "_view_module": "@jupyter-widgets/controls",
            "_view_module_version": "1.5.0",
            "_view_name": "HBoxView",
            "box_style": "",
            "children": [
              "IPY_MODEL_37b0c2f86ff141a085cab546e89d78c8",
              "IPY_MODEL_e924c38777af4380ab4e2e3b5ea46044",
              "IPY_MODEL_34559af7c09a4adf8bae724708990143"
            ],
            "layout": "IPY_MODEL_57c9bfab7a4c420c88024e9b8618e0c3"
          }
        },
        "37b0c2f86ff141a085cab546e89d78c8": {
          "model_module": "@jupyter-widgets/controls",
          "model_name": "HTMLModel",
          "model_module_version": "1.5.0",
          "state": {
            "_dom_classes": [],
            "_model_module": "@jupyter-widgets/controls",
            "_model_module_version": "1.5.0",
            "_model_name": "HTMLModel",
            "_view_count": null,
            "_view_module": "@jupyter-widgets/controls",
            "_view_module_version": "1.5.0",
            "_view_name": "HTMLView",
            "description": "",
            "description_tooltip": null,
            "layout": "IPY_MODEL_43bfc29a38294a0f8d027d0238801a92",
            "placeholder": "​",
            "style": "IPY_MODEL_0ceac3c8b3d04980a006f8af59245741",
            "value": "100%"
          }
        },
        "e924c38777af4380ab4e2e3b5ea46044": {
          "model_module": "@jupyter-widgets/controls",
          "model_name": "FloatProgressModel",
          "model_module_version": "1.5.0",
          "state": {
            "_dom_classes": [],
            "_model_module": "@jupyter-widgets/controls",
            "_model_module_version": "1.5.0",
            "_model_name": "FloatProgressModel",
            "_view_count": null,
            "_view_module": "@jupyter-widgets/controls",
            "_view_module_version": "1.5.0",
            "_view_name": "ProgressView",
            "bar_style": "success",
            "description": "",
            "description_tooltip": null,
            "layout": "IPY_MODEL_86860d7806ec4462bab2e2807116a172",
            "max": 553433881,
            "min": 0,
            "orientation": "horizontal",
            "style": "IPY_MODEL_469595efad604e1881ea5d415563dfee",
            "value": 553433881
          }
        },
        "34559af7c09a4adf8bae724708990143": {
          "model_module": "@jupyter-widgets/controls",
          "model_name": "HTMLModel",
          "model_module_version": "1.5.0",
          "state": {
            "_dom_classes": [],
            "_model_module": "@jupyter-widgets/controls",
            "_model_module_version": "1.5.0",
            "_model_name": "HTMLModel",
            "_view_count": null,
            "_view_module": "@jupyter-widgets/controls",
            "_view_module_version": "1.5.0",
            "_view_name": "HTMLView",
            "description": "",
            "description_tooltip": null,
            "layout": "IPY_MODEL_c07a5db842a048b1bab869a98d3927b8",
            "placeholder": "​",
            "style": "IPY_MODEL_206eba908c594b659dd0fbae2473abbd",
            "value": " 528M/528M [00:04&lt;00:00, 123MB/s]"
          }
        },
        "57c9bfab7a4c420c88024e9b8618e0c3": {
          "model_module": "@jupyter-widgets/base",
          "model_name": "LayoutModel",
          "model_module_version": "1.2.0",
          "state": {
            "_model_module": "@jupyter-widgets/base",
            "_model_module_version": "1.2.0",
            "_model_name": "LayoutModel",
            "_view_count": null,
            "_view_module": "@jupyter-widgets/base",
            "_view_module_version": "1.2.0",
            "_view_name": "LayoutView",
            "align_content": null,
            "align_items": null,
            "align_self": null,
            "border": null,
            "bottom": null,
            "display": null,
            "flex": null,
            "flex_flow": null,
            "grid_area": null,
            "grid_auto_columns": null,
            "grid_auto_flow": null,
            "grid_auto_rows": null,
            "grid_column": null,
            "grid_gap": null,
            "grid_row": null,
            "grid_template_areas": null,
            "grid_template_columns": null,
            "grid_template_rows": null,
            "height": null,
            "justify_content": null,
            "justify_items": null,
            "left": null,
            "margin": null,
            "max_height": null,
            "max_width": null,
            "min_height": null,
            "min_width": null,
            "object_fit": null,
            "object_position": null,
            "order": null,
            "overflow": null,
            "overflow_x": null,
            "overflow_y": null,
            "padding": null,
            "right": null,
            "top": null,
            "visibility": null,
            "width": null
          }
        },
        "43bfc29a38294a0f8d027d0238801a92": {
          "model_module": "@jupyter-widgets/base",
          "model_name": "LayoutModel",
          "model_module_version": "1.2.0",
          "state": {
            "_model_module": "@jupyter-widgets/base",
            "_model_module_version": "1.2.0",
            "_model_name": "LayoutModel",
            "_view_count": null,
            "_view_module": "@jupyter-widgets/base",
            "_view_module_version": "1.2.0",
            "_view_name": "LayoutView",
            "align_content": null,
            "align_items": null,
            "align_self": null,
            "border": null,
            "bottom": null,
            "display": null,
            "flex": null,
            "flex_flow": null,
            "grid_area": null,
            "grid_auto_columns": null,
            "grid_auto_flow": null,
            "grid_auto_rows": null,
            "grid_column": null,
            "grid_gap": null,
            "grid_row": null,
            "grid_template_areas": null,
            "grid_template_columns": null,
            "grid_template_rows": null,
            "height": null,
            "justify_content": null,
            "justify_items": null,
            "left": null,
            "margin": null,
            "max_height": null,
            "max_width": null,
            "min_height": null,
            "min_width": null,
            "object_fit": null,
            "object_position": null,
            "order": null,
            "overflow": null,
            "overflow_x": null,
            "overflow_y": null,
            "padding": null,
            "right": null,
            "top": null,
            "visibility": null,
            "width": null
          }
        },
        "0ceac3c8b3d04980a006f8af59245741": {
          "model_module": "@jupyter-widgets/controls",
          "model_name": "DescriptionStyleModel",
          "model_module_version": "1.5.0",
          "state": {
            "_model_module": "@jupyter-widgets/controls",
            "_model_module_version": "1.5.0",
            "_model_name": "DescriptionStyleModel",
            "_view_count": null,
            "_view_module": "@jupyter-widgets/base",
            "_view_module_version": "1.2.0",
            "_view_name": "StyleView",
            "description_width": ""
          }
        },
        "86860d7806ec4462bab2e2807116a172": {
          "model_module": "@jupyter-widgets/base",
          "model_name": "LayoutModel",
          "model_module_version": "1.2.0",
          "state": {
            "_model_module": "@jupyter-widgets/base",
            "_model_module_version": "1.2.0",
            "_model_name": "LayoutModel",
            "_view_count": null,
            "_view_module": "@jupyter-widgets/base",
            "_view_module_version": "1.2.0",
            "_view_name": "LayoutView",
            "align_content": null,
            "align_items": null,
            "align_self": null,
            "border": null,
            "bottom": null,
            "display": null,
            "flex": null,
            "flex_flow": null,
            "grid_area": null,
            "grid_auto_columns": null,
            "grid_auto_flow": null,
            "grid_auto_rows": null,
            "grid_column": null,
            "grid_gap": null,
            "grid_row": null,
            "grid_template_areas": null,
            "grid_template_columns": null,
            "grid_template_rows": null,
            "height": null,
            "justify_content": null,
            "justify_items": null,
            "left": null,
            "margin": null,
            "max_height": null,
            "max_width": null,
            "min_height": null,
            "min_width": null,
            "object_fit": null,
            "object_position": null,
            "order": null,
            "overflow": null,
            "overflow_x": null,
            "overflow_y": null,
            "padding": null,
            "right": null,
            "top": null,
            "visibility": null,
            "width": null
          }
        },
        "469595efad604e1881ea5d415563dfee": {
          "model_module": "@jupyter-widgets/controls",
          "model_name": "ProgressStyleModel",
          "model_module_version": "1.5.0",
          "state": {
            "_model_module": "@jupyter-widgets/controls",
            "_model_module_version": "1.5.0",
            "_model_name": "ProgressStyleModel",
            "_view_count": null,
            "_view_module": "@jupyter-widgets/base",
            "_view_module_version": "1.2.0",
            "_view_name": "StyleView",
            "bar_color": null,
            "description_width": ""
          }
        },
        "c07a5db842a048b1bab869a98d3927b8": {
          "model_module": "@jupyter-widgets/base",
          "model_name": "LayoutModel",
          "model_module_version": "1.2.0",
          "state": {
            "_model_module": "@jupyter-widgets/base",
            "_model_module_version": "1.2.0",
            "_model_name": "LayoutModel",
            "_view_count": null,
            "_view_module": "@jupyter-widgets/base",
            "_view_module_version": "1.2.0",
            "_view_name": "LayoutView",
            "align_content": null,
            "align_items": null,
            "align_self": null,
            "border": null,
            "bottom": null,
            "display": null,
            "flex": null,
            "flex_flow": null,
            "grid_area": null,
            "grid_auto_columns": null,
            "grid_auto_flow": null,
            "grid_auto_rows": null,
            "grid_column": null,
            "grid_gap": null,
            "grid_row": null,
            "grid_template_areas": null,
            "grid_template_columns": null,
            "grid_template_rows": null,
            "height": null,
            "justify_content": null,
            "justify_items": null,
            "left": null,
            "margin": null,
            "max_height": null,
            "max_width": null,
            "min_height": null,
            "min_width": null,
            "object_fit": null,
            "object_position": null,
            "order": null,
            "overflow": null,
            "overflow_x": null,
            "overflow_y": null,
            "padding": null,
            "right": null,
            "top": null,
            "visibility": null,
            "width": null
          }
        },
        "206eba908c594b659dd0fbae2473abbd": {
          "model_module": "@jupyter-widgets/controls",
          "model_name": "DescriptionStyleModel",
          "model_module_version": "1.5.0",
          "state": {
            "_model_module": "@jupyter-widgets/controls",
            "_model_module_version": "1.5.0",
            "_model_name": "DescriptionStyleModel",
            "_view_count": null,
            "_view_module": "@jupyter-widgets/base",
            "_view_module_version": "1.2.0",
            "_view_name": "StyleView",
            "description_width": ""
          }
        },
        "ce15fe389fd941feb67c4d4b4ea1261c": {
          "model_module": "@jupyter-widgets/controls",
          "model_name": "HBoxModel",
          "model_module_version": "1.5.0",
          "state": {
            "_dom_classes": [],
            "_model_module": "@jupyter-widgets/controls",
            "_model_module_version": "1.5.0",
            "_model_name": "HBoxModel",
            "_view_count": null,
            "_view_module": "@jupyter-widgets/controls",
            "_view_module_version": "1.5.0",
            "_view_name": "HBoxView",
            "box_style": "",
            "children": [
              "IPY_MODEL_a0289a541f6b419fb0348ba2fa76d1f5",
              "IPY_MODEL_74edce79253749ebbe5f3eff5ef4e11b",
              "IPY_MODEL_85520e318fa946eb9c00f01fec4e225b"
            ],
            "layout": "IPY_MODEL_8b20c70d227c4fb282ae93d5d7694d79"
          }
        },
        "a0289a541f6b419fb0348ba2fa76d1f5": {
          "model_module": "@jupyter-widgets/controls",
          "model_name": "HTMLModel",
          "model_module_version": "1.5.0",
          "state": {
            "_dom_classes": [],
            "_model_module": "@jupyter-widgets/controls",
            "_model_module_version": "1.5.0",
            "_model_name": "HTMLModel",
            "_view_count": null,
            "_view_module": "@jupyter-widgets/controls",
            "_view_module_version": "1.5.0",
            "_view_name": "HTMLView",
            "description": "",
            "description_tooltip": null,
            "layout": "IPY_MODEL_50d5f3c1f2b94b2fb662097f845c2873",
            "placeholder": "​",
            "style": "IPY_MODEL_c66293bc89ea47a0aaff340a87381e9f",
            "value": "100%"
          }
        },
        "74edce79253749ebbe5f3eff5ef4e11b": {
          "model_module": "@jupyter-widgets/controls",
          "model_name": "FloatProgressModel",
          "model_module_version": "1.5.0",
          "state": {
            "_dom_classes": [],
            "_model_module": "@jupyter-widgets/controls",
            "_model_module_version": "1.5.0",
            "_model_name": "FloatProgressModel",
            "_view_count": null,
            "_view_module": "@jupyter-widgets/controls",
            "_view_module_version": "1.5.0",
            "_view_name": "ProgressView",
            "bar_style": "success",
            "description": "",
            "description_tooltip": null,
            "layout": "IPY_MODEL_f66ed1d6cb7740efac986d3501c6967b",
            "max": 36882185,
            "min": 0,
            "orientation": "horizontal",
            "style": "IPY_MODEL_13b3e1cc633643e686a69ff0af915bc0",
            "value": 36882185
          }
        },
        "85520e318fa946eb9c00f01fec4e225b": {
          "model_module": "@jupyter-widgets/controls",
          "model_name": "HTMLModel",
          "model_module_version": "1.5.0",
          "state": {
            "_dom_classes": [],
            "_model_module": "@jupyter-widgets/controls",
            "_model_module_version": "1.5.0",
            "_model_name": "HTMLModel",
            "_view_count": null,
            "_view_module": "@jupyter-widgets/controls",
            "_view_module_version": "1.5.0",
            "_view_name": "HTMLView",
            "description": "",
            "description_tooltip": null,
            "layout": "IPY_MODEL_f65bdab8775e4c7aa9169266e2174bab",
            "placeholder": "​",
            "style": "IPY_MODEL_2b2ca61905cf4119b7db7cc9a4cf029e",
            "value": " 35.2M/35.2M [00:00&lt;00:00, 38.8MB/s]"
          }
        },
        "8b20c70d227c4fb282ae93d5d7694d79": {
          "model_module": "@jupyter-widgets/base",
          "model_name": "LayoutModel",
          "model_module_version": "1.2.0",
          "state": {
            "_model_module": "@jupyter-widgets/base",
            "_model_module_version": "1.2.0",
            "_model_name": "LayoutModel",
            "_view_count": null,
            "_view_module": "@jupyter-widgets/base",
            "_view_module_version": "1.2.0",
            "_view_name": "LayoutView",
            "align_content": null,
            "align_items": null,
            "align_self": null,
            "border": null,
            "bottom": null,
            "display": null,
            "flex": null,
            "flex_flow": null,
            "grid_area": null,
            "grid_auto_columns": null,
            "grid_auto_flow": null,
            "grid_auto_rows": null,
            "grid_column": null,
            "grid_gap": null,
            "grid_row": null,
            "grid_template_areas": null,
            "grid_template_columns": null,
            "grid_template_rows": null,
            "height": null,
            "justify_content": null,
            "justify_items": null,
            "left": null,
            "margin": null,
            "max_height": null,
            "max_width": null,
            "min_height": null,
            "min_width": null,
            "object_fit": null,
            "object_position": null,
            "order": null,
            "overflow": null,
            "overflow_x": null,
            "overflow_y": null,
            "padding": null,
            "right": null,
            "top": null,
            "visibility": null,
            "width": null
          }
        },
        "50d5f3c1f2b94b2fb662097f845c2873": {
          "model_module": "@jupyter-widgets/base",
          "model_name": "LayoutModel",
          "model_module_version": "1.2.0",
          "state": {
            "_model_module": "@jupyter-widgets/base",
            "_model_module_version": "1.2.0",
            "_model_name": "LayoutModel",
            "_view_count": null,
            "_view_module": "@jupyter-widgets/base",
            "_view_module_version": "1.2.0",
            "_view_name": "LayoutView",
            "align_content": null,
            "align_items": null,
            "align_self": null,
            "border": null,
            "bottom": null,
            "display": null,
            "flex": null,
            "flex_flow": null,
            "grid_area": null,
            "grid_auto_columns": null,
            "grid_auto_flow": null,
            "grid_auto_rows": null,
            "grid_column": null,
            "grid_gap": null,
            "grid_row": null,
            "grid_template_areas": null,
            "grid_template_columns": null,
            "grid_template_rows": null,
            "height": null,
            "justify_content": null,
            "justify_items": null,
            "left": null,
            "margin": null,
            "max_height": null,
            "max_width": null,
            "min_height": null,
            "min_width": null,
            "object_fit": null,
            "object_position": null,
            "order": null,
            "overflow": null,
            "overflow_x": null,
            "overflow_y": null,
            "padding": null,
            "right": null,
            "top": null,
            "visibility": null,
            "width": null
          }
        },
        "c66293bc89ea47a0aaff340a87381e9f": {
          "model_module": "@jupyter-widgets/controls",
          "model_name": "DescriptionStyleModel",
          "model_module_version": "1.5.0",
          "state": {
            "_model_module": "@jupyter-widgets/controls",
            "_model_module_version": "1.5.0",
            "_model_name": "DescriptionStyleModel",
            "_view_count": null,
            "_view_module": "@jupyter-widgets/base",
            "_view_module_version": "1.2.0",
            "_view_name": "StyleView",
            "description_width": ""
          }
        },
        "f66ed1d6cb7740efac986d3501c6967b": {
          "model_module": "@jupyter-widgets/base",
          "model_name": "LayoutModel",
          "model_module_version": "1.2.0",
          "state": {
            "_model_module": "@jupyter-widgets/base",
            "_model_module_version": "1.2.0",
            "_model_name": "LayoutModel",
            "_view_count": null,
            "_view_module": "@jupyter-widgets/base",
            "_view_module_version": "1.2.0",
            "_view_name": "LayoutView",
            "align_content": null,
            "align_items": null,
            "align_self": null,
            "border": null,
            "bottom": null,
            "display": null,
            "flex": null,
            "flex_flow": null,
            "grid_area": null,
            "grid_auto_columns": null,
            "grid_auto_flow": null,
            "grid_auto_rows": null,
            "grid_column": null,
            "grid_gap": null,
            "grid_row": null,
            "grid_template_areas": null,
            "grid_template_columns": null,
            "grid_template_rows": null,
            "height": null,
            "justify_content": null,
            "justify_items": null,
            "left": null,
            "margin": null,
            "max_height": null,
            "max_width": null,
            "min_height": null,
            "min_width": null,
            "object_fit": null,
            "object_position": null,
            "order": null,
            "overflow": null,
            "overflow_x": null,
            "overflow_y": null,
            "padding": null,
            "right": null,
            "top": null,
            "visibility": null,
            "width": null
          }
        },
        "13b3e1cc633643e686a69ff0af915bc0": {
          "model_module": "@jupyter-widgets/controls",
          "model_name": "ProgressStyleModel",
          "model_module_version": "1.5.0",
          "state": {
            "_model_module": "@jupyter-widgets/controls",
            "_model_module_version": "1.5.0",
            "_model_name": "ProgressStyleModel",
            "_view_count": null,
            "_view_module": "@jupyter-widgets/base",
            "_view_module_version": "1.2.0",
            "_view_name": "StyleView",
            "bar_color": null,
            "description_width": ""
          }
        },
        "f65bdab8775e4c7aa9169266e2174bab": {
          "model_module": "@jupyter-widgets/base",
          "model_name": "LayoutModel",
          "model_module_version": "1.2.0",
          "state": {
            "_model_module": "@jupyter-widgets/base",
            "_model_module_version": "1.2.0",
            "_model_name": "LayoutModel",
            "_view_count": null,
            "_view_module": "@jupyter-widgets/base",
            "_view_module_version": "1.2.0",
            "_view_name": "LayoutView",
            "align_content": null,
            "align_items": null,
            "align_self": null,
            "border": null,
            "bottom": null,
            "display": null,
            "flex": null,
            "flex_flow": null,
            "grid_area": null,
            "grid_auto_columns": null,
            "grid_auto_flow": null,
            "grid_auto_rows": null,
            "grid_column": null,
            "grid_gap": null,
            "grid_row": null,
            "grid_template_areas": null,
            "grid_template_columns": null,
            "grid_template_rows": null,
            "height": null,
            "justify_content": null,
            "justify_items": null,
            "left": null,
            "margin": null,
            "max_height": null,
            "max_width": null,
            "min_height": null,
            "min_width": null,
            "object_fit": null,
            "object_position": null,
            "order": null,
            "overflow": null,
            "overflow_x": null,
            "overflow_y": null,
            "padding": null,
            "right": null,
            "top": null,
            "visibility": null,
            "width": null
          }
        },
        "2b2ca61905cf4119b7db7cc9a4cf029e": {
          "model_module": "@jupyter-widgets/controls",
          "model_name": "DescriptionStyleModel",
          "model_module_version": "1.5.0",
          "state": {
            "_model_module": "@jupyter-widgets/controls",
            "_model_module_version": "1.5.0",
            "_model_name": "DescriptionStyleModel",
            "_view_count": null,
            "_view_module": "@jupyter-widgets/base",
            "_view_module_version": "1.2.0",
            "_view_name": "StyleView",
            "description_width": ""
          }
        }
      }
    }
  },
  "cells": [
    {
      "cell_type": "markdown",
      "metadata": {
        "id": "view-in-github",
        "colab_type": "text"
      },
      "source": [
        "<a href=\"https://colab.research.google.com/github/mralamdari/Computer-Vision-Projects/blob/main/Flowers_Recognition's_optimal_approach_PyTorch.ipynb\" target=\"_parent\"><img src=\"https://colab.research.google.com/assets/colab-badge.svg\" alt=\"Open In Colab\"/></a>"
      ]
    },
    {
      "cell_type": "markdown",
      "source": [
        "#Hello 👋\n",
        "####This repository will give you a simple approach (but an effective one) to code in PyTorch that can be used recursively for any other problems in Machine Learning/Deep Learning Field.\n",
        "\n",
        "\n",
        "#####Unfortunately, the Ram crushes in the Colab, so I can't train it with PyTorch; if you have more ram, feel free to run this code, but if you don't have a powerful system to run it, you can run this code in [My Kaggle Notebook](https://www.kaggle.com/code/mralamdari/flowers-recognition-s-optimal-approach-PyTorch), there are more models with trainning results in this notebook and you can easily edit and run it.\n",
        "#####You can get more details on this project and learn about object recognition on my article on medium; [How to do Object Recognition with PyTorch the Easiest way](https://medium.com/@mr.alamdari/uagehow-to-do-object-recognition-with-pytorch-the-easiest-way-d0a2750f5fe7)"
      ],
      "metadata": {
        "id": "B4InkozPbMUz"
      }
    },
    {
      "cell_type": "markdown",
      "source": [
        "If you are interested in this project and want to learn it by another deep learning api like TensorFlow(keras), feel free to visit my code in [Github](https://github.com/mralamdari/Computer-Vision-Projects/blob/main/Object_Recognition/Flowers_Recognition's_optimal_approach_TensorFlow.ipynb) or [Kaggle](https://www.kaggle.com/code/mralamdari/flowers-recognition-s-optimal-approach-tensorflow); if you are seeking for more information, you can visit my article on medium; [How to do Object Recognition with TensorFlow(Keras) the Easiest way](https://medium.com/@mr.alamdari/imagehow-to-do-object-recognition-with-tensorflow-keras-the-easiest-way-23c7ab9604c7)\n"
      ],
      "metadata": {
        "id": "zF5H6fe3UyN7"
      }
    },
    {
      "cell_type": "markdown",
      "source": [
        "# 1.Import Essential Libraris\n"
      ],
      "metadata": {
        "id": "gJJkAcMiH_uz"
      }
    },
    {
      "cell_type": "code",
      "execution_count": null,
      "metadata": {
        "id": "m-yaX8oXa0Zc"
      },
      "outputs": [],
      "source": [
        "import os\n",
        "import copy\n",
        "import time\n",
        "import torch\n",
        "import warnings\n",
        "import matplotlib\n",
        "import torchvision\n",
        "import pandas as pd\n",
        "import numpy as np\n",
        "from PIL import Image\n",
        "import seaborn as sns\n",
        "import matplotlib.pyplot as plt\n",
        "from sklearn import model_selection, metrics, preprocessing"
      ]
    },
    {
      "cell_type": "code",
      "source": [
        "warnings.filterwarnings('ignore')\n",
        "warnings.filterwarnings('always')"
      ],
      "metadata": {
        "id": "gIRIdfKebJrZ"
      },
      "execution_count": null,
      "outputs": []
    },
    {
      "cell_type": "code",
      "source": [
        "os.environ['KAGGLE_CONFIG_DIR'] = '/content/drive/MyDrive'\n",
        "!kaggle datasets download -d alxmamaev/flowers-recognition\n",
        "!unzip \\*.zip && rm *.zip"
      ],
      "metadata": {
        "id": "pjO6o3X9bLTc"
      },
      "execution_count": null,
      "outputs": []
    },
    {
      "cell_type": "markdown",
      "source": [
        "#2. Data\n",
        "The Dataset in this project contains 4242 images of flowers; the data collection is based on the data Flickr, Google Images, and Yandex images, and it is used to recognize plants from the photo. There are five kinds of flowers: daisy, dandelion, rose, sunflower, and tulip, and each class has about 800 pictures of different sizes but not high resolutions. You can access the dataset here."
      ],
      "metadata": {
        "id": "fyw2zXQCZf_X"
      }
    },
    {
      "cell_type": "markdown",
      "source": [
        "In PyTorch, you can readily do DataAugmentation and grow your dataset's size; since Neural Networks need more data to train, it will enhance the model's performance."
      ],
      "metadata": {
        "id": "2tMuo4SXIJ7E"
      }
    },
    {
      "cell_type": "markdown",
      "source": [
        "### Transformer"
      ],
      "metadata": {
        "id": "hDuXm5QEbPhP"
      }
    },
    {
      "cell_type": "code",
      "source": [
        "path = '/content/flowers'"
      ],
      "metadata": {
        "id": "eRGf8UhVIa38"
      },
      "execution_count": null,
      "outputs": []
    },
    {
      "cell_type": "code",
      "source": [
        "mean = (0.4124234616756439, 0.3674212694168091, 0.2578217089176178)\n",
        "std = (0.3268945515155792, 0.29282665252685547, 0.29053378105163574)"
      ],
      "metadata": {
        "id": "FiNpp5fFIa0-"
      },
      "execution_count": null,
      "outputs": []
    },
    {
      "cell_type": "code",
      "source": [
        "transformer = {\n",
        "    'original': torchvision.transforms.Compose([\n",
        "                                               torchvision.transforms.Resize((220, 220)),\n",
        "                                               torchvision.transforms.ToTensor(),\n",
        "                                               torchvision.transforms.Normalize(mean, std)\n",
        "    ]),\n",
        "    'dataset1': torchvision.transforms.Compose([\n",
        "                                               torchvision.transforms.Resize((220, 220)),\n",
        "                                               torchvision.transforms.ColorJitter(brightness=0.2, contrast=0.2, saturation=0.2),\n",
        "                                               torchvision.transforms.RandomRotation(5),\n",
        "                                               torchvision.transforms.RandomAffine(degrees=11, translate=(0.1, 0.1), scale=(0.8, 0.8)),\n",
        "                                               torchvision.transforms.ToTensor(),\n",
        "                                               torchvision.transforms.Normalize(mean, std)\n",
        "    ]),\n",
        "    'dataset2': torchvision.transforms.Compose([\n",
        "                                               torchvision.transforms.Resize((220, 220)),\n",
        "                                               torchvision.transforms.RandomHorizontalFlip(),\n",
        "                                               torchvision.transforms.RandomRotation(10),\n",
        "                                               torchvision.transforms.RandomAffine(degrees=0, translate=(0.05, 0.05)),\n",
        "                                               torchvision.transforms.ToTensor(),\n",
        "                                               torchvision.transforms.RandomErasing(inplace=True, scale=(0.01,  0.23)),\n",
        "                                               torchvision.transforms.Normalize(mean, std)\n",
        "    ]),\n",
        "    'dataset3': torchvision.transforms.Compose([\n",
        "                                               torchvision.transforms.Resize((220, 220)),\n",
        "                                               torchvision.transforms.RandomHorizontalFlip(p=0.5),\n",
        "                                               torchvision.transforms.RandomRotation(15),\n",
        "                                               torchvision.transforms.RandomAffine(degrees=11, translate=(0.1, 0.1), scale=(0.8, 0.8)),\n",
        "                                               torchvision.transforms.ToTensor(),\n",
        "                                               torchvision.transforms.Normalize(mean, std)\n",
        "    ]),\n",
        "}"
      ],
      "metadata": {
        "id": "f0x_YFWsZl-J"
      },
      "execution_count": null,
      "outputs": []
    },
    {
      "cell_type": "markdown",
      "source": [
        "### Train/Test/Val Split"
      ],
      "metadata": {
        "id": "E_bZHpkLIfqL"
      }
    },
    {
      "cell_type": "code",
      "source": [
        "#all dataset ==> train&val + test\n",
        "original = torchvision.datasets.ImageFolder(path, transform=transformer['original'])"
      ],
      "metadata": {
        "id": "YsWMn0nHZ6i_"
      },
      "execution_count": null,
      "outputs": []
    },
    {
      "cell_type": "code",
      "source": [
        "train_val, test = model_selection.train_test_split(original, test_size=0.2, random_state=32, shuffle=True)"
      ],
      "metadata": {
        "id": "xZiblAcsBUNY"
      },
      "execution_count": null,
      "outputs": []
    },
    {
      "cell_type": "code",
      "source": [
        "# train_val  ==> train + val + dataset1 + dataset2 + dataset3\n",
        "train_val_ds = torch.utils.data.ConcatDataset([train_val,\n",
        "                                torchvision.datasets.ImageFolder(path, transform=transformer['dataset1']),\n",
        "                                torchvision.datasets.ImageFolder(path, transform=transformer['dataset2']),\n",
        "                                torchvision.datasets.ImageFolder(path, transform=transformer['dataset3'])])\n"
      ],
      "metadata": {
        "id": "X37IoxYBh2Yh"
      },
      "execution_count": null,
      "outputs": []
    },
    {
      "cell_type": "code",
      "source": [
        "train, val = model_selection.train_test_split(train_val_ds, test_size=0.1, random_state=32, shuffle=True)"
      ],
      "metadata": {
        "id": "EOvQhx0478K5"
      },
      "execution_count": null,
      "outputs": []
    },
    {
      "cell_type": "markdown",
      "source": [
        "###Notice 1:\n",
        "since there isn't enough ram to support all dataset1 + dataset2 + dataset3, I will only use train_val and test set as my train / val datasets."
      ],
      "metadata": {
        "id": "kjYjm0ymG54D"
      }
    },
    {
      "cell_type": "code",
      "source": [
        "train = train_val\n",
        "val = test"
      ],
      "metadata": {
        "id": "LeXifuVWG3un"
      },
      "execution_count": null,
      "outputs": []
    },
    {
      "cell_type": "markdown",
      "source": [
        "###Notice 2:\n",
        "We need more data so we ignore test data for now and focus only on train/val data"
      ],
      "metadata": {
        "id": "WMIS3VCz9a7_"
      }
    },
    {
      "cell_type": "code",
      "source": [
        "# train_val  ==> Original + dataset1 + dataset2 + dataset3\n",
        "train_val_ds = torch.utils.data.ConcatDataset([\n",
        "                                torchvision.datasets.ImageFolder(path, transform=transformer['original']),\n",
        "                                # torchvision.datasets.ImageFolder(path, transform=transformer['dataset1']),\n",
        "                                torchvision.datasets.ImageFolder(path, transform=transformer['dataset2']),\n",
        "                                torchvision.datasets.ImageFolder(path, transform=transformer['dataset3'])])\n",
        "\n",
        "train, val = model_selection.train_test_split(train_val_ds, test_size=0.1, random_state=32, shuffle=True)\n",
        "\n",
        "batch_size = 32\n",
        "data_loaders = {\n",
        "    'train': torch.utils.data.DataLoader(train, batch_size=batch_size, pin_memory=True, num_workers=2),\n",
        "    'val': torch.utils.data.DataLoader(val, batch_size=batch_size, pin_memory=True, num_workers=2),\n",
        "}"
      ],
      "metadata": {
        "id": "DsydQtkZ9nSY"
      },
      "execution_count": null,
      "outputs": []
    },
    {
      "cell_type": "code",
      "source": [
        "len(train), len(val)"
      ],
      "metadata": {
        "colab": {
          "base_uri": "https://localhost:8080/"
        },
        "id": "q5yC1vqg_Nln",
        "outputId": "468ab977-c5bd-4504-e578-4a41afa2a832"
      },
      "execution_count": null,
      "outputs": [
        {
          "output_type": "execute_result",
          "data": {
            "text/plain": [
              "(11655, 1296)"
            ]
          },
          "metadata": {},
          "execution_count": 8
        }
      ]
    },
    {
      "cell_type": "markdown",
      "source": [
        "### Data Loader"
      ],
      "metadata": {
        "id": "Kt3DEY_mZhRe"
      }
    },
    {
      "cell_type": "code",
      "source": [
        "batch_size=32\n",
        "data_loaders = {\n",
        "    'train': torch.utils.data.DataLoader(train, batch_size=batch_size, num_workers=2, pin_memory=True),\n",
        "    'val': torch.utils.data.DataLoader(val, batch_size=batch_size, num_workers=2, pin_memory=True),\n",
        "    'test': torch.utils.data.DataLoader(test, batch_size=batch_size, num_workers=2, pin_memory=True)\n",
        "}\n",
        "\n",
        "dataset_sizes = {\n",
        "    'train': len(train),\n",
        "    'val': len(val),\n",
        "    'test': len(test)\n",
        "}"
      ],
      "metadata": {
        "id": "GKISSfNM79rz"
      },
      "execution_count": null,
      "outputs": []
    },
    {
      "cell_type": "code",
      "source": [
        "dataset_sizes"
      ],
      "metadata": {
        "id": "jX5C031KBziX",
        "colab": {
          "base_uri": "https://localhost:8080/"
        },
        "outputId": "26d4277f-b5db-4fef-a59f-b5976b76d6a7"
      },
      "execution_count": null,
      "outputs": [
        {
          "output_type": "execute_result",
          "data": {
            "text/plain": [
              "{'test': 864, 'train': 14763, 'val': 1641}"
            ]
          },
          "metadata": {},
          "execution_count": 18
        }
      ]
    },
    {
      "cell_type": "markdown",
      "source": [
        "#### How ImBalance is ourdaset"
      ],
      "metadata": {
        "id": "emWpcyMrI_7q"
      }
    },
    {
      "cell_type": "code",
      "source": [
        "dic = {}\n",
        "for cls in original.classes:\n",
        "  dic[cls] = len(os.listdir(f'{path}/{cls}'))\n",
        "\n",
        "samplesize = pd.DataFrame(dic, index=[0])\n",
        "samplesize"
      ],
      "metadata": {
        "id": "ryH9H0qt8RMt",
        "colab": {
          "base_uri": "https://localhost:8080/",
          "height": 81
        },
        "outputId": "0e8a6f5f-558c-4433-e097-b0b73843cd29"
      },
      "execution_count": null,
      "outputs": [
        {
          "output_type": "execute_result",
          "data": {
            "text/plain": [
              "   daisy  dandelion  rose  sunflower  tulip\n",
              "0    764       1052   784        733    984"
            ],
            "text/html": [
              "\n",
              "  <div id=\"df-87dce93a-b367-407e-95ba-db2273edf9d9\">\n",
              "    <div class=\"colab-df-container\">\n",
              "      <div>\n",
              "<style scoped>\n",
              "    .dataframe tbody tr th:only-of-type {\n",
              "        vertical-align: middle;\n",
              "    }\n",
              "\n",
              "    .dataframe tbody tr th {\n",
              "        vertical-align: top;\n",
              "    }\n",
              "\n",
              "    .dataframe thead th {\n",
              "        text-align: right;\n",
              "    }\n",
              "</style>\n",
              "<table border=\"1\" class=\"dataframe\">\n",
              "  <thead>\n",
              "    <tr style=\"text-align: right;\">\n",
              "      <th></th>\n",
              "      <th>daisy</th>\n",
              "      <th>dandelion</th>\n",
              "      <th>rose</th>\n",
              "      <th>sunflower</th>\n",
              "      <th>tulip</th>\n",
              "    </tr>\n",
              "  </thead>\n",
              "  <tbody>\n",
              "    <tr>\n",
              "      <th>0</th>\n",
              "      <td>764</td>\n",
              "      <td>1052</td>\n",
              "      <td>784</td>\n",
              "      <td>733</td>\n",
              "      <td>984</td>\n",
              "    </tr>\n",
              "  </tbody>\n",
              "</table>\n",
              "</div>\n",
              "      <button class=\"colab-df-convert\" onclick=\"convertToInteractive('df-87dce93a-b367-407e-95ba-db2273edf9d9')\"\n",
              "              title=\"Convert this dataframe to an interactive table.\"\n",
              "              style=\"display:none;\">\n",
              "        \n",
              "  <svg xmlns=\"http://www.w3.org/2000/svg\" height=\"24px\"viewBox=\"0 0 24 24\"\n",
              "       width=\"24px\">\n",
              "    <path d=\"M0 0h24v24H0V0z\" fill=\"none\"/>\n",
              "    <path d=\"M18.56 5.44l.94 2.06.94-2.06 2.06-.94-2.06-.94-.94-2.06-.94 2.06-2.06.94zm-11 1L8.5 8.5l.94-2.06 2.06-.94-2.06-.94L8.5 2.5l-.94 2.06-2.06.94zm10 10l.94 2.06.94-2.06 2.06-.94-2.06-.94-.94-2.06-.94 2.06-2.06.94z\"/><path d=\"M17.41 7.96l-1.37-1.37c-.4-.4-.92-.59-1.43-.59-.52 0-1.04.2-1.43.59L10.3 9.45l-7.72 7.72c-.78.78-.78 2.05 0 2.83L4 21.41c.39.39.9.59 1.41.59.51 0 1.02-.2 1.41-.59l7.78-7.78 2.81-2.81c.8-.78.8-2.07 0-2.86zM5.41 20L4 18.59l7.72-7.72 1.47 1.35L5.41 20z\"/>\n",
              "  </svg>\n",
              "      </button>\n",
              "      \n",
              "  <style>\n",
              "    .colab-df-container {\n",
              "      display:flex;\n",
              "      flex-wrap:wrap;\n",
              "      gap: 12px;\n",
              "    }\n",
              "\n",
              "    .colab-df-convert {\n",
              "      background-color: #E8F0FE;\n",
              "      border: none;\n",
              "      border-radius: 50%;\n",
              "      cursor: pointer;\n",
              "      display: none;\n",
              "      fill: #1967D2;\n",
              "      height: 32px;\n",
              "      padding: 0 0 0 0;\n",
              "      width: 32px;\n",
              "    }\n",
              "\n",
              "    .colab-df-convert:hover {\n",
              "      background-color: #E2EBFA;\n",
              "      box-shadow: 0px 1px 2px rgba(60, 64, 67, 0.3), 0px 1px 3px 1px rgba(60, 64, 67, 0.15);\n",
              "      fill: #174EA6;\n",
              "    }\n",
              "\n",
              "    [theme=dark] .colab-df-convert {\n",
              "      background-color: #3B4455;\n",
              "      fill: #D2E3FC;\n",
              "    }\n",
              "\n",
              "    [theme=dark] .colab-df-convert:hover {\n",
              "      background-color: #434B5C;\n",
              "      box-shadow: 0px 1px 3px 1px rgba(0, 0, 0, 0.15);\n",
              "      filter: drop-shadow(0px 1px 2px rgba(0, 0, 0, 0.3));\n",
              "      fill: #FFFFFF;\n",
              "    }\n",
              "  </style>\n",
              "\n",
              "      <script>\n",
              "        const buttonEl =\n",
              "          document.querySelector('#df-87dce93a-b367-407e-95ba-db2273edf9d9 button.colab-df-convert');\n",
              "        buttonEl.style.display =\n",
              "          google.colab.kernel.accessAllowed ? 'block' : 'none';\n",
              "\n",
              "        async function convertToInteractive(key) {\n",
              "          const element = document.querySelector('#df-87dce93a-b367-407e-95ba-db2273edf9d9');\n",
              "          const dataTable =\n",
              "            await google.colab.kernel.invokeFunction('convertToInteractive',\n",
              "                                                     [key], {});\n",
              "          if (!dataTable) return;\n",
              "\n",
              "          const docLinkHtml = 'Like what you see? Visit the ' +\n",
              "            '<a target=\"_blank\" href=https://colab.research.google.com/notebooks/data_table.ipynb>data table notebook</a>'\n",
              "            + ' to learn more about interactive tables.';\n",
              "          element.innerHTML = '';\n",
              "          dataTable['output_type'] = 'display_data';\n",
              "          await google.colab.output.renderOutput(dataTable, element);\n",
              "          const docLink = document.createElement('div');\n",
              "          docLink.innerHTML = docLinkHtml;\n",
              "          element.appendChild(docLink);\n",
              "        }\n",
              "      </script>\n",
              "    </div>\n",
              "  </div>\n",
              "  "
            ]
          },
          "metadata": {},
          "execution_count": 19
        }
      ]
    },
    {
      "cell_type": "code",
      "source": [
        "sns.barplot(data=samplesize)"
      ],
      "metadata": {
        "id": "vdKBLdj88X-s",
        "colab": {
          "base_uri": "https://localhost:8080/",
          "height": 282
        },
        "outputId": "425985f4-45cd-4bdc-c68a-6cc62b5a6eb7"
      },
      "execution_count": null,
      "outputs": [
        {
          "output_type": "execute_result",
          "data": {
            "text/plain": [
              "<matplotlib.axes._subplots.AxesSubplot at 0x7f6fbbd1d0d0>"
            ]
          },
          "metadata": {},
          "execution_count": 20
        },
        {
          "output_type": "display_data",
          "data": {
            "text/plain": [
              "<Figure size 432x288 with 1 Axes>"
            ],
            "image/png": "[encoded data removed]"
          },
          "metadata": {
            "needs_background": "light"
          }
        }
      ]
    },
    {
      "cell_type": "markdown",
      "source": [
        "# 3.Visualization"
      ],
      "metadata": {
        "id": "hHW7OcjKIzm8"
      }
    },
    {
      "cell_type": "code",
      "source": [
        "z, _ = next(iter(data_loaders['test']))\n",
        "print(z.mean(), z.std())\n",
        "img_norm = z[0].permute(1, 2, 0).numpy()\n",
        "plt.imshow(img_norm)"
      ],
      "metadata": {
        "id": "He4USmY48OdO",
        "colab": {
          "base_uri": "https://localhost:8080/",
          "height": 320
        },
        "outputId": "fed9079d-2a3a-4f61-f5e5-d5bbf240595c"
      },
      "execution_count": null,
      "outputs": [
        {
          "output_type": "stream",
          "name": "stderr",
          "text": [
            "Clipping input data to the valid range for imshow with RGB data ([0..1] for floats or [0..255] for integers).\n"
          ]
        },
        {
          "output_type": "stream",
          "name": "stdout",
          "text": [
            "tensor(0.0876) tensor(0.8731)\n"
          ]
        },
        {
          "output_type": "execute_result",
          "data": {
            "text/plain": [
              "<matplotlib.image.AxesImage at 0x7feda807c710>"
            ]
          },
          "metadata": {},
          "execution_count": 19
        },
        {
          "output_type": "display_data",
          "data": {
            "text/plain": [
              "<Figure size 432x288 with 1 Axes>"
            ],
            "image/png": "[encoded data removed]"
          },
          "metadata": {
            "needs_background": "light"
          }
        }
      ]
    },
    {
      "cell_type": "code",
      "source": [
        "z, _ = next(iter(data_loaders['val']))\n",
        "print(z.mean(), z.std())\n",
        "img_norm = z[0].permute(1, 2, 0).numpy()\n",
        "plt.imshow(img_norm)"
      ],
      "metadata": {
        "id": "Y4YQU2vkFZes",
        "colab": {
          "base_uri": "https://localhost:8080/",
          "height": 320
        },
        "outputId": "1940351e-ec56-46db-f448-efc205d8e49f"
      },
      "execution_count": null,
      "outputs": [
        {
          "output_type": "stream",
          "name": "stderr",
          "text": [
            "Clipping input data to the valid range for imshow with RGB data ([0..1] for floats or [0..255] for integers).\n"
          ]
        },
        {
          "output_type": "stream",
          "name": "stdout",
          "text": [
            "tensor(-0.1441) tensor(0.9451)\n"
          ]
        },
        {
          "output_type": "execute_result",
          "data": {
            "text/plain": [
              "<matplotlib.image.AxesImage at 0x7feda7ffb610>"
            ]
          },
          "metadata": {},
          "execution_count": 20
        },
        {
          "output_type": "display_data",
          "data": {
            "text/plain": [
              "<Figure size 432x288 with 1 Axes>"
            ],
            "image/png": "[encoded data removed]"
          },
          "metadata": {
            "needs_background": "light"
          }
        }
      ]
    },
    {
      "cell_type": "code",
      "source": [
        "def plot_imgs(imgs, nrows=5, ncols=5):\n",
        "  fig, ax = plt.subplots(nrows, ncols, figsize=(nrows*5, ncols*3))\n",
        "  index = 0\n",
        "  for row in range(nrows):\n",
        "    for col in range(ncols):\n",
        "      img = matplotlib.image.imread(imgs[index][0])\n",
        "      ax[row][col].imshow(img)\n",
        "      ax[row][col].axis('off')\n",
        "      ax[row][col].set_title(imgs[index][1], fontsize=15)\n",
        "      index += 1"
      ],
      "metadata": {
        "id": "EdGiBJhu8bWQ"
      },
      "execution_count": null,
      "outputs": []
    },
    {
      "cell_type": "code",
      "source": [
        "def rand_imgs(original, img_folder=path, count=25):\n",
        "  rand_imgs = []\n",
        "  categories = original.classes\n",
        "  for cat in categories:\n",
        "    folder_path = f\"{img_folder}/{cat}\"\n",
        "    imgs_list = os.listdir(folder_path)\n",
        "    selected_imgs = np.random.choice(imgs_list, count//len(categories))\n",
        "    rand_imgs.extend([(f'{folder_path}/{img_path}', cat) for img_path in selected_imgs])\n",
        "  np.random.shuffle(rand_imgs)\n",
        "  return rand_imgs"
      ],
      "metadata": {
        "id": "31Bc5XAR8ed2"
      },
      "execution_count": null,
      "outputs": []
    },
    {
      "cell_type": "code",
      "source": [
        "my_imgs = rand_imgs(original, path, 15)"
      ],
      "metadata": {
        "id": "gpB74zRR8ebN"
      },
      "execution_count": null,
      "outputs": []
    },
    {
      "cell_type": "code",
      "source": [
        "plot_imgs(my_imgs, 5, 3)"
      ],
      "metadata": {
        "id": "gOrTDI708g3d"
      },
      "execution_count": null,
      "outputs": []
    },
    {
      "cell_type": "code",
      "source": [
        "def plot_batch(data_loader):\n",
        "  for imgs, labels in data_loader:\n",
        "    fig, ax = plt.subplots(figsize=(25, 25))\n",
        "    ax.imshow(torchvision.utils.make_grid(imgs[:60], nrow=10).permute(1, 2, 0))\n",
        "    ax.set_title('Augmented Images')\n",
        "    break"
      ],
      "metadata": {
        "id": "pcNCDEsr8inE"
      },
      "execution_count": null,
      "outputs": []
    },
    {
      "cell_type": "code",
      "source": [
        "plot_batch(data_loaders['train'])"
      ],
      "metadata": {
        "id": "0KsaSKoN8iji"
      },
      "execution_count": null,
      "outputs": []
    },
    {
      "cell_type": "code",
      "source": [
        "plot_batch(data_loaders['val'])"
      ],
      "metadata": {
        "id": "U_tu3Zo28iZ4"
      },
      "execution_count": null,
      "outputs": []
    },
    {
      "cell_type": "code",
      "source": [
        "plot_batch(data_loaders['test'])"
      ],
      "metadata": {
        "id": "ldoaOhZX8n7K"
      },
      "execution_count": null,
      "outputs": []
    },
    {
      "cell_type": "markdown",
      "source": [
        "# 4.Loss"
      ],
      "metadata": {
        "id": "PvZeiSKK8r7y"
      }
    },
    {
      "cell_type": "code",
      "source": [
        "device = torch.device(\"cuda\" if torch.cuda.is_available() else \"cpu\")\n",
        "device"
      ],
      "metadata": {
        "colab": {
          "base_uri": "https://localhost:8080/"
        },
        "id": "2ZhPOXBJNFFP",
        "outputId": "226a39bb-c151-44ad-bf73-9de03a29e041"
      },
      "execution_count": null,
      "outputs": [
        {
          "output_type": "execute_result",
          "data": {
            "text/plain": [
              "device(type='cpu')"
            ]
          },
          "metadata": {},
          "execution_count": 9
        }
      ]
    },
    {
      "cell_type": "code",
      "source": [
        "def accuracy(outputs, labels):\n",
        "  _, preds = torch.max(outputs, dim=1)\n",
        "  return torch.tensor(torch.sum(preds==labels).item()/len(preds)), preds"
      ],
      "metadata": {
        "id": "GLQemfWi8tFm"
      },
      "execution_count": null,
      "outputs": []
    },
    {
      "cell_type": "code",
      "source": [
        "path2weights = '/content/models/'\n",
        "os.makedirs(path2weights, exist_ok=True)"
      ],
      "metadata": {
        "id": "AIP9-oOd8uS9"
      },
      "execution_count": null,
      "outputs": []
    },
    {
      "cell_type": "code",
      "source": [
        "def get_lr(opt):\n",
        "  for param_group in opt.param_groups:\n",
        "    return param_group['lr']"
      ],
      "metadata": {
        "id": "WVqyy3O78uQ9"
      },
      "execution_count": null,
      "outputs": []
    },
    {
      "cell_type": "code",
      "source": [
        "def loss_epoch(model, data_loader, criterion, optimizer, scheduler, sanity_check, phase):\n",
        "  epoch_loss = 0.0\n",
        "  epoch_acc = 0.0\n",
        "\n",
        "  for inputs, labels in data_loader:\n",
        "    inputs = inputs.to(device)\n",
        "    labels = labels.to(device)\n",
        "    optimizer.zero_grad()\n",
        "\n",
        "    with torch.set_grad_enabled(phase=='train'):\n",
        "      output = model(inputs)\n",
        "      _, pred = torch.max(output, 1)\n",
        "      loss = criterion(output, labels)\n",
        "\n",
        "    epoch_loss += loss.cpu().detach().numpy().item() / len(labels)\n",
        "    epoch_acc += pred.eq(labels.view_as(pred)).sum().item() / len(labels)\n",
        "\n",
        "    if phase == 'train':\n",
        "      optimizer.zero_grad()\n",
        "      loss.backward()\n",
        "      optimizer.step()\n",
        "      scheduler.step(epoch_acc) \n",
        "\n",
        "    if sanity_check:\n",
        "      break\n",
        "  \n",
        "  return epoch_loss, epoch_acc"
      ],
      "metadata": {
        "id": "fEmFSP5KSCod"
      },
      "execution_count": null,
      "outputs": []
    },
    {
      "cell_type": "code",
      "source": [
        "def train_val(model, params, grad_requires_param=False, trainable_layers=0):\n",
        "  \n",
        "  model_name = params['model_name']\n",
        "  num_epochs = params['epochs']\n",
        "  optimizer = params['optimizer']\n",
        "  criterion = params['criterion']\n",
        "  scheduler = params['scheduler']\n",
        "  data_loaders = params['data_loaders']\n",
        "  path2weights = params['path2weights']\n",
        "  sanity_check = params['sanity_check']\n",
        "    \n",
        "  #A dictionary to save Loss's history and accuracy's history\n",
        "  loss_history = {'train': [], 'val':[]}\n",
        "  accuracy_history = {'train': [], 'val':[]}\n",
        "  lr = [get_lr(optimizer)]\n",
        "    \n",
        "  #Unfreeze the model, with trainable_layers count\n",
        "  if grad_requires_param:\n",
        "      print(f\"Unfreezing model's {trainable_layers} Last Layers\")\n",
        "      model_params_len = len(list(model.parameters()))\n",
        "      for i, param in enumerate(model.parameters()):\n",
        "        if model_params_len - i > trainable_layers:\n",
        "          param.grad_requires == grad_requires_param\n",
        "  \n",
        "  model.to(device) \n",
        "  best_accuracy = 0.0\n",
        "  best_loss = float('inf')\n",
        "  best_model = copy.deepcopy(model.state_dict())\n",
        "\n",
        "  for epoch in range(num_epochs):\n",
        "    \n",
        "    for phase in ['train', 'val']:\n",
        "      start = time.time()  \n",
        "      if phase == 'train':\n",
        "        model.train()\n",
        "      else:\n",
        "        model.eval()\n",
        "\n",
        "      epoch_loss, epoch_acc = loss_epoch(model, data_loaders[phase], criterion, optimizer, scheduler, sanity_check, phase)\n",
        "      my_epoch_loss = epoch_loss / len(data_loaders[phase])\n",
        "      my_epoch_acc = epoch_acc / len(data_loaders[phase])\n",
        "  \n",
        "      loss_history[phase].append(my_epoch_loss)\n",
        "      accuracy_history[phase].append(my_epoch_acc)\n",
        "        \n",
        "      if phase == 'train':  \n",
        "        lr.append(get_lr(optimizer))\n",
        "        \n",
        "        \n",
        "      if phase == 'val' and epoch_acc > best_accuracy:\n",
        "        best_accuracy = epoch_acc\n",
        "        best_model = copy.deepcopy(model.state_dict())\n",
        "        torch.save(best_model, f'{model_name}_wts.h5')\n",
        "\n",
        "\n",
        "      during = time.time() - start\n",
        "      print(f'{phase.upper()} ===> Time: {during//60}m {during%60:.2f}s')\n",
        "    \n",
        "    print(f\"Epoch: {epoch+1}/{num_epochs}, Train Loss: {loss_history['train'][-1]:.4f}, Train Accuracy: %{accuracy_history['train'][-1]:.3f}, Val Loss: {loss_history['val'][-1]:.4f}, Val Accuracy: %{accuracy_history['val'][-1]:.4f}\")\n",
        "    print('===='*10)\n",
        "\n",
        "        \n",
        "  model.load_state_dict(best_model)        \n",
        "  return model, loss_history, accuracy_history"
      ],
      "metadata": {
        "id": "1NfDaSFLSCiT"
      },
      "execution_count": null,
      "outputs": []
    },
    {
      "cell_type": "code",
      "source": [
        "def plot_history(hist, loss='True'):\n",
        "  title = 'loss' if loss else 'accuracy'\n",
        "  plt.plot(hist[f'train'])\n",
        "  plt.plot(hist[f'val'])\n",
        "  plt.title(f'Model {title}')\n",
        "  plt.ylabel(f'{title}')\n",
        "  plt.xlabel('Epochs')\n",
        "  plt.legend(['train', 'test'])\n",
        "  plt.show()"
      ],
      "metadata": {
        "id": "8evPpYxvFJ_J"
      },
      "execution_count": null,
      "outputs": []
    },
    {
      "cell_type": "markdown",
      "source": [
        "# 5.Models"
      ],
      "metadata": {
        "id": "jUxIWPzX832e"
      }
    },
    {
      "cell_type": "markdown",
      "source": [
        "##### sanity_check is used in the model's train function to determin if we want to train the model by all the dataset or just one batch from a dataset is enough for our training because we only want to check if the model is working correctly or not?\n",
        "#### sanity_check == False   ====> Use the whole dataset\n",
        "#### sanity_check == True   ====> Use only one batch of the dataset"
      ],
      "metadata": {
        "id": "_cRPx7aGEnbI"
      }
    },
    {
      "cell_type": "code",
      "source": [
        "sanity_check = False"
      ],
      "metadata": {
        "id": "RVyF2h2bEn1y"
      },
      "execution_count": null,
      "outputs": []
    },
    {
      "cell_type": "markdown",
      "source": [
        "### VGG16"
      ],
      "metadata": {
        "id": "T-qbsawvYipS"
      }
    },
    {
      "cell_type": "code",
      "source": [
        "vgg16 = torchvision.models.vgg16(pretrained=True)\n",
        "\n",
        "for param in vgg16.parameters():\n",
        "    param.grad_requires = False\n",
        "\n",
        "vgg16.classifier[6] = torch.nn.Linear(in_features=vgg16.classifier[6].in_features,\n",
        "                                  out_features=len(original.classes), \n",
        "                                  bias=True)"
      ],
      "metadata": {
        "id": "Kh790ETY80lU",
        "colab": {
          "base_uri": "https://localhost:8080/",
          "height": 156,
          "referenced_widgets": [
            "81f4b7897924417888d5a03c780a8ea4",
            "37b0c2f86ff141a085cab546e89d78c8",
            "e924c38777af4380ab4e2e3b5ea46044",
            "34559af7c09a4adf8bae724708990143",
            "57c9bfab7a4c420c88024e9b8618e0c3",
            "43bfc29a38294a0f8d027d0238801a92",
            "0ceac3c8b3d04980a006f8af59245741",
            "86860d7806ec4462bab2e2807116a172",
            "469595efad604e1881ea5d415563dfee",
            "c07a5db842a048b1bab869a98d3927b8",
            "206eba908c594b659dd0fbae2473abbd"
          ]
        },
        "outputId": "8ec03886-fd5a-4f1b-b50e-eff22fa8e460"
      },
      "execution_count": null,
      "outputs": [
        {
          "output_type": "stream",
          "name": "stderr",
          "text": [
            "/usr/local/lib/python3.7/dist-packages/torchvision/models/_utils.py:209: UserWarning: The parameter 'pretrained' is deprecated since 0.13 and will be removed in 0.15, please use 'weights' instead.\n",
            "  f\"The parameter '{pretrained_param}' is deprecated since 0.13 and will be removed in 0.15, \"\n",
            "/usr/local/lib/python3.7/dist-packages/torchvision/models/_utils.py:223: UserWarning: Arguments other than a weight enum or `None` for 'weights' are deprecated since 0.13 and will be removed in 0.15. The current behavior is equivalent to passing `weights=VGG16_Weights.IMAGENET1K_V1`. You can also use `weights=VGG16_Weights.DEFAULT` to get the most up-to-date weights.\n",
            "  warnings.warn(msg)\n",
            "Downloading: \"https://download.pytorch.org/models/vgg16-397923af.pth\" to /root/.cache/torch/hub/checkpoints/vgg16-397923af.pth\n"
          ]
        },
        {
          "output_type": "display_data",
          "data": {
            "text/plain": [
              "  0%|          | 0.00/528M [00:00<?, ?B/s]"
            ],
            "application/vnd.jupyter.widget-view+json": {
              "version_major": 2,
              "version_minor": 0,
              "model_id": "81f4b7897924417888d5a03c780a8ea4"
            }
          },
          "metadata": {}
        }
      ]
    },
    {
      "cell_type": "code",
      "source": [
        "optimizer_vgg16 = torch.optim.Adam(vgg16.classifier.parameters(), lr=1e-4, betas=(0.9, 0.999), eps=1e-8, weight_decay=0)\n",
        "scheduler_vgg16 = torch.optim.lr_scheduler.ReduceLROnPlateau(optimizer_vgg16, mode='max', patience=3, verbose=1)\n",
        "epochs = 50\n",
        "params_vgg16 = {\n",
        "    'epochs': epochs,\n",
        "    'model_name': 'vgg16',\n",
        "    'data_loaders': data_loaders,\n",
        "    'criterion': torch.nn.CrossEntropyLoss(),\n",
        "    'optimizer': optimizer_vgg16,\n",
        "    'scheduler': scheduler_vgg16,\n",
        "    'path2weights': path2weights,\n",
        "    'sanity_check': sanity_check\n",
        "}"
      ],
      "metadata": {
        "id": "HmX0kTNd_m9S"
      },
      "execution_count": null,
      "outputs": []
    },
    {
      "cell_type": "markdown",
      "source": [
        "### VGG19"
      ],
      "metadata": {
        "id": "lK6qlnOUYjmE"
      }
    },
    {
      "cell_type": "code",
      "source": [
        "vgg19_bn = torchvision.models.vgg19_bn(weights=torchvision.models.VGG19_BN_Weights.IMAGENET1K_V1)\n",
        "\n",
        "for param in vgg19_bn.parameters():\n",
        "    param.grad_requires = False\n",
        "\n",
        "vgg19_bn.classifier[6] = torch.nn.Linear(in_features=vgg19_bn.classifier[6].in_features,\n",
        "                                  out_features=len(original.classes), \n",
        "                                  bias=True)"
      ],
      "metadata": {
        "id": "R8w9L67qYlXR"
      },
      "execution_count": null,
      "outputs": []
    },
    {
      "cell_type": "code",
      "source": [
        "optimizer_vgg19_bn = torch.optim.Adam(vgg19_bn.classifier.parameters(), lr=0.001, betas=(0.9, 0.999), eps=1e-8, weight_decay=0)\n",
        "scheduler_vgg19_bn= torch.optim.lr_scheduler.ReduceLROnPlateau(optimizer_vgg19_bn, mode='max', patience=3, verbose=1)\n",
        "epochs = 30\n",
        "vgg19_bn_params = {\n",
        "    'epochs': epochs,\n",
        "    'model_name': 'vgg19_bn',\n",
        "    'data_loaders': data_loaders,\n",
        "    'criterion': torch.nn.CrossEntropyLoss(),\n",
        "    'optimizer': optimizer_vgg19_bn,\n",
        "    'scheduler': scheduler_vgg19_bn,\n",
        "    'path2weights': path2weights,\n",
        "    'sanity_check': sanity_check\n",
        "}"
      ],
      "metadata": {
        "id": "5BmKpPRyYllZ"
      },
      "execution_count": null,
      "outputs": []
    },
    {
      "cell_type": "markdown",
      "source": [
        "### ResNet50"
      ],
      "metadata": {
        "id": "j7zgXlvXaUFZ"
      }
    },
    {
      "cell_type": "code",
      "source": [
        "resnet50 = torchvision.models.resnet50(torchvision.models.ResNet50_Weights.IMAGENET1K_V1)\n",
        "\n",
        "for param in resnet50.parameters():\n",
        "    param.grad_requires = False\n",
        "\n",
        "resnet50.fc = torch.nn.Linear(in_features=resnet50.fc.in_features,\n",
        "                                  out_features=len(original.classes), \n",
        "                                  bias=True)"
      ],
      "metadata": {
        "id": "Q73jlWsUaHh1",
        "colab": {
          "base_uri": "https://localhost:8080/"
        },
        "outputId": "47166693-ca38-42f7-bfb3-eeb7310740d7"
      },
      "execution_count": null,
      "outputs": [
        {
          "output_type": "stream",
          "name": "stderr",
          "text": [
            "/usr/local/lib/python3.7/dist-packages/torchvision/models/_utils.py:136: UserWarning: Using 'weights' as positional parameter(s) is deprecated since 0.13 and will be removed in 0.15. Please use keyword parameter(s) instead.\n",
            "  f\"Using {sequence_to_str(tuple(keyword_only_kwargs.keys()), separate_last='and ')} as positional \"\n"
          ]
        }
      ]
    },
    {
      "cell_type": "code",
      "source": [
        "optimizer_resnet50 = torch.optim.Adam(resnet50.fc.parameters(), lr=1e-4, betas=(0.9, 0.999), eps=1e-8, weight_decay=0)\n",
        "scheduler_resnet50 = torch.optim.lr_scheduler.ReduceLROnPlateau(optimizer_resnet50, mode='max', patience=3, verbose=1)\n",
        "epochs = 30\n",
        "resnet50_params = {\n",
        "    'epochs': epochs,\n",
        "    'model_name': 'resnet50',\n",
        "    'data_loaders': data_loaders,\n",
        "    'criterion': torch.nn.CrossEntropyLoss(),\n",
        "    'optimizer': optimizer_resnet50,\n",
        "    'scheduler': scheduler_resnet50,\n",
        "    'path2weights': path2weights,\n",
        "    'sanity_check': sanity_check\n",
        "}"
      ],
      "metadata": {
        "id": "h2tWsJ38bFzN"
      },
      "execution_count": null,
      "outputs": []
    },
    {
      "cell_type": "markdown",
      "source": [
        "### EfficientNet B2"
      ],
      "metadata": {
        "id": "wWw4Nu42bwXV"
      }
    },
    {
      "cell_type": "code",
      "source": [
        "efficientnetb2 = torchvision.models.efficientnet_b2(pretrained=True)\n",
        "\n",
        "for param in efficientnetb2.parameters():\n",
        "    param.grad_requires = False\n",
        "\n",
        "efficientnetb2.classifier = torch.nn.Linear(in_features=efficientnetb2.classifier[1].in_features,\n",
        "                                  out_features=len(original.classes), \n",
        "                                  bias=True)"
      ],
      "metadata": {
        "id": "UcD9rAlsbx8Q",
        "colab": {
          "base_uri": "https://localhost:8080/",
          "referenced_widgets": [
            "ce15fe389fd941feb67c4d4b4ea1261c",
            "a0289a541f6b419fb0348ba2fa76d1f5",
            "74edce79253749ebbe5f3eff5ef4e11b",
            "85520e318fa946eb9c00f01fec4e225b",
            "8b20c70d227c4fb282ae93d5d7694d79",
            "50d5f3c1f2b94b2fb662097f845c2873",
            "c66293bc89ea47a0aaff340a87381e9f",
            "f66ed1d6cb7740efac986d3501c6967b",
            "13b3e1cc633643e686a69ff0af915bc0",
            "f65bdab8775e4c7aa9169266e2174bab",
            "2b2ca61905cf4119b7db7cc9a4cf029e"
          ]
        },
        "outputId": "0b6fc2fb-fdf9-424a-81e2-6a46478e1d1d"
      },
      "execution_count": null,
      "outputs": [
        {
          "output_type": "stream",
          "name": "stderr",
          "text": [
            "/usr/local/lib/python3.7/dist-packages/torchvision/models/_utils.py:209: UserWarning: The parameter 'pretrained' is deprecated since 0.13 and will be removed in 0.15, please use 'weights' instead.\n",
            "  f\"The parameter '{pretrained_param}' is deprecated since 0.13 and will be removed in 0.15, \"\n",
            "/usr/local/lib/python3.7/dist-packages/torchvision/models/_utils.py:223: UserWarning: Arguments other than a weight enum or `None` for 'weights' are deprecated since 0.13 and will be removed in 0.15. The current behavior is equivalent to passing `weights=EfficientNet_B2_Weights.IMAGENET1K_V1`. You can also use `weights=EfficientNet_B2_Weights.DEFAULT` to get the most up-to-date weights.\n",
            "  warnings.warn(msg)\n",
            "Downloading: \"https://download.pytorch.org/models/efficientnet_b2_rwightman-bcdf34b7.pth\" to /root/.cache/torch/hub/checkpoints/efficientnet_b2_rwightman-bcdf34b7.pth\n"
          ]
        },
        {
          "output_type": "display_data",
          "data": {
            "text/plain": [
              "  0%|          | 0.00/35.2M [00:00<?, ?B/s]"
            ],
            "application/vnd.jupyter.widget-view+json": {
              "version_major": 2,
              "version_minor": 0,
              "model_id": "ce15fe389fd941feb67c4d4b4ea1261c"
            }
          },
          "metadata": {}
        }
      ]
    },
    {
      "cell_type": "code",
      "source": [
        "optimizer_efficientnetb2 = torch.optim.Adam(efficientnetb2.classifier.parameters(), lr=1e-4, betas=(0.9, 0.999), eps=1e-8, weight_decay=0)\n",
        "scheduler_efficientnetb2 = torch.optim.lr_scheduler.ReduceLROnPlateau(optimizer_efficientnetb2, mode='max', patience=3, verbose=1)\n",
        "epochs = 30\n",
        "efficientnetb2_params = {\n",
        "    'epochs': epochs,\n",
        "    'model_name': 'efficientnetb2',\n",
        "    'data_loaders': data_loaders,\n",
        "    'criterion': torch.nn.CrossEntropyLoss(),\n",
        "    'optimizer': optimizer_efficientnetb2,\n",
        "    'scheduler': scheduler_efficientnetb2,\n",
        "    'path2weights': path2weights,\n",
        "    'sanity_check': sanity_check\n",
        "}"
      ],
      "metadata": {
        "id": "rxnsMkDPcc7_"
      },
      "execution_count": null,
      "outputs": []
    },
    {
      "cell_type": "markdown",
      "source": [
        "### 6.Training"
      ],
      "metadata": {
        "id": "uf2QWwRtRPzh"
      }
    },
    {
      "cell_type": "markdown",
      "source": [
        "#### vgg16"
      ],
      "metadata": {
        "id": "XCehPDdk5BhW"
      }
    },
    {
      "cell_type": "code",
      "source": [
        "model, loss_history, accuracy_history = train_val(vgg16, params_vgg16, grad_requires_param=False, trainable_layers=0)"
      ],
      "metadata": {
        "id": "YI22JSRWQhpf",
        "colab": {
          "base_uri": "https://localhost:8080/"
        },
        "outputId": "f390884f-7320-46ad-cf2c-c3ae6660dbbd"
      },
      "execution_count": null,
      "outputs": [
        {
          "output_type": "stream",
          "name": "stdout",
          "text": [
            "TRAIN ===> Time: 0.0m 24.32s\n",
            "VAL ===> Time: 0.0m 6.14s\n",
            "Epoch: 1/50, Train Loss: 3.8799, Train Accuracy: %62.418, Val Loss: 0.6957, Val Accuracy: %20.6562\n",
            "==============================\n",
            "TRAIN ===> Time: 0.0m 15.49s\n",
            "VAL ===> Time: 0.0m 6.06s\n",
            "Epoch: 2/50, Train Loss: 2.4661, Train Accuracy: %83.640, Val Loss: 0.5356, Val Accuracy: %21.8438\n",
            "==============================\n",
            "TRAIN ===> Time: 0.0m 15.61s\n",
            "VAL ===> Time: 0.0m 6.18s\n",
            "Epoch: 3/50, Train Loss: 2.0494, Train Accuracy: %87.206, Val Loss: 0.4698, Val Accuracy: %22.4375\n",
            "==============================\n",
            "TRAIN ===> Time: 0.0m 15.71s\n",
            "VAL ===> Time: 0.0m 6.14s\n",
            "Epoch: 4/50, Train Loss: 1.8495, Train Accuracy: %88.487, Val Loss: 0.4302, Val Accuracy: %22.5312\n",
            "==============================\n",
            "TRAIN ===> Time: 0.0m 15.74s\n",
            "Epoch 00005: reducing learning rate of group 0 to 1.0000e-05.\n",
            "VAL ===> Time: 0.0m 6.21s\n",
            "Epoch: 5/50, Train Loss: 1.7036, Train Accuracy: %89.990, Val Loss: 0.4034, Val Accuracy: %22.7812\n",
            "==============================\n",
            "TRAIN ===> Time: 0.0m 15.84s\n",
            "VAL ===> Time: 0.0m 6.25s\n",
            "Epoch: 6/50, Train Loss: 1.6305, Train Accuracy: %91.143, Val Loss: 0.4001, Val Accuracy: %22.7500\n",
            "==============================\n",
            "TRAIN ===> Time: 0.0m 16.01s\n",
            "VAL ===> Time: 0.0m 6.35s\n",
            "Epoch: 7/50, Train Loss: 1.6145, Train Accuracy: %90.897, Val Loss: 0.3978, Val Accuracy: %22.7812\n",
            "==============================\n",
            "TRAIN ===> Time: 0.0m 16.09s\n",
            "VAL ===> Time: 0.0m 6.38s\n",
            "Epoch: 8/50, Train Loss: 1.5993, Train Accuracy: %91.306, Val Loss: 0.3955, Val Accuracy: %22.8125\n",
            "==============================\n",
            "TRAIN ===> Time: 0.0m 16.18s\n",
            "Epoch 00009: reducing learning rate of group 0 to 1.0000e-06.\n",
            "VAL ===> Time: 0.0m 6.40s\n",
            "Epoch: 9/50, Train Loss: 1.6302, Train Accuracy: %89.928, Val Loss: 0.3938, Val Accuracy: %22.7812\n",
            "==============================\n",
            "TRAIN ===> Time: 0.0m 16.11s\n",
            "VAL ===> Time: 0.0m 6.41s\n",
            "Epoch: 10/50, Train Loss: 1.6315, Train Accuracy: %90.481, Val Loss: 0.3936, Val Accuracy: %22.8125\n",
            "==============================\n",
            "TRAIN ===> Time: 0.0m 16.27s\n",
            "VAL ===> Time: 0.0m 6.52s\n",
            "Epoch: 11/50, Train Loss: 1.5974, Train Accuracy: %91.484, Val Loss: 0.3933, Val Accuracy: %22.8125\n",
            "==============================\n",
            "TRAIN ===> Time: 0.0m 16.46s\n",
            "VAL ===> Time: 0.0m 6.66s\n",
            "Epoch: 12/50, Train Loss: 1.6005, Train Accuracy: %90.862, Val Loss: 0.3931, Val Accuracy: %22.7812\n",
            "==============================\n",
            "TRAIN ===> Time: 0.0m 16.36s\n",
            "Epoch 00013: reducing learning rate of group 0 to 1.0000e-07.\n",
            "VAL ===> Time: 0.0m 6.61s\n",
            "Epoch: 13/50, Train Loss: 1.6076, Train Accuracy: %91.112, Val Loss: 0.3928, Val Accuracy: %22.7812\n",
            "==============================\n",
            "TRAIN ===> Time: 0.0m 16.43s\n",
            "VAL ===> Time: 0.0m 6.52s\n",
            "Epoch: 14/50, Train Loss: 1.5866, Train Accuracy: %90.800, Val Loss: 0.3928, Val Accuracy: %22.7812\n",
            "==============================\n",
            "TRAIN ===> Time: 0.0m 16.60s\n",
            "VAL ===> Time: 0.0m 6.59s\n",
            "Epoch: 15/50, Train Loss: 1.5862, Train Accuracy: %91.046, Val Loss: 0.3928, Val Accuracy: %22.7812\n",
            "==============================\n",
            "TRAIN ===> Time: 0.0m 16.68s\n",
            "VAL ===> Time: 0.0m 6.78s\n",
            "Epoch: 16/50, Train Loss: 1.5743, Train Accuracy: %90.925, Val Loss: 0.3928, Val Accuracy: %22.7812\n",
            "==============================\n",
            "TRAIN ===> Time: 0.0m 16.78s\n",
            "Epoch 00017: reducing learning rate of group 0 to 1.0000e-08.\n",
            "VAL ===> Time: 0.0m 6.60s\n",
            "Epoch: 17/50, Train Loss: 1.6082, Train Accuracy: %91.337, Val Loss: 0.3927, Val Accuracy: %22.7812\n",
            "==============================\n",
            "TRAIN ===> Time: 0.0m 16.75s\n",
            "VAL ===> Time: 0.0m 6.69s\n",
            "Epoch: 18/50, Train Loss: 1.6083, Train Accuracy: %91.150, Val Loss: 0.3927, Val Accuracy: %22.7812\n",
            "==============================\n",
            "TRAIN ===> Time: 0.0m 16.75s\n",
            "VAL ===> Time: 0.0m 6.66s\n",
            "Epoch: 19/50, Train Loss: 1.6037, Train Accuracy: %90.834, Val Loss: 0.3927, Val Accuracy: %22.7812\n",
            "==============================\n",
            "TRAIN ===> Time: 0.0m 16.72s\n",
            "VAL ===> Time: 0.0m 6.64s\n",
            "Epoch: 20/50, Train Loss: 1.6029, Train Accuracy: %90.487, Val Loss: 0.3927, Val Accuracy: %22.7812\n",
            "==============================\n",
            "TRAIN ===> Time: 0.0m 16.71s\n",
            "VAL ===> Time: 0.0m 6.65s\n",
            "Epoch: 21/50, Train Loss: 1.6159, Train Accuracy: %90.772, Val Loss: 0.3927, Val Accuracy: %22.7812\n",
            "==============================\n",
            "TRAIN ===> Time: 0.0m 16.93s\n",
            "VAL ===> Time: 0.0m 6.70s\n",
            "Epoch: 22/50, Train Loss: 1.6045, Train Accuracy: %90.925, Val Loss: 0.3927, Val Accuracy: %22.7812\n",
            "==============================\n",
            "TRAIN ===> Time: 0.0m 16.85s\n",
            "VAL ===> Time: 0.0m 6.77s\n",
            "Epoch: 23/50, Train Loss: 1.6153, Train Accuracy: %90.484, Val Loss: 0.3927, Val Accuracy: %22.7812\n",
            "==============================\n",
            "TRAIN ===> Time: 0.0m 16.89s\n",
            "VAL ===> Time: 0.0m 6.70s\n",
            "Epoch: 24/50, Train Loss: 1.5821, Train Accuracy: %91.737, Val Loss: 0.3927, Val Accuracy: %22.7812\n",
            "==============================\n",
            "TRAIN ===> Time: 0.0m 16.81s\n",
            "VAL ===> Time: 0.0m 6.77s\n",
            "Epoch: 25/50, Train Loss: 1.6130, Train Accuracy: %90.897, Val Loss: 0.3927, Val Accuracy: %22.7812\n",
            "==============================\n",
            "TRAIN ===> Time: 0.0m 16.76s\n",
            "VAL ===> Time: 0.0m 7.04s\n",
            "Epoch: 26/50, Train Loss: 1.5909, Train Accuracy: %90.703, Val Loss: 0.3927, Val Accuracy: %22.7812\n",
            "==============================\n",
            "TRAIN ===> Time: 0.0m 16.80s\n",
            "VAL ===> Time: 0.0m 6.71s\n",
            "Epoch: 27/50, Train Loss: 1.6117, Train Accuracy: %90.397, Val Loss: 0.3927, Val Accuracy: %22.7812\n",
            "==============================\n",
            "TRAIN ===> Time: 0.0m 16.78s\n",
            "VAL ===> Time: 0.0m 6.79s\n",
            "Epoch: 28/50, Train Loss: 1.6292, Train Accuracy: %90.306, Val Loss: 0.3927, Val Accuracy: %22.7812\n",
            "==============================\n",
            "TRAIN ===> Time: 0.0m 16.76s\n",
            "VAL ===> Time: 0.0m 6.75s\n",
            "Epoch: 29/50, Train Loss: 1.5978, Train Accuracy: %91.175, Val Loss: 0.3927, Val Accuracy: %22.7812\n",
            "==============================\n",
            "TRAIN ===> Time: 0.0m 16.81s\n",
            "VAL ===> Time: 0.0m 6.78s\n",
            "Epoch: 30/50, Train Loss: 1.6084, Train Accuracy: %91.309, Val Loss: 0.3927, Val Accuracy: %22.7812\n",
            "==============================\n",
            "TRAIN ===> Time: 0.0m 16.91s\n",
            "VAL ===> Time: 0.0m 6.82s\n",
            "Epoch: 31/50, Train Loss: 1.6076, Train Accuracy: %90.806, Val Loss: 0.3927, Val Accuracy: %22.7812\n",
            "==============================\n",
            "TRAIN ===> Time: 0.0m 16.80s\n",
            "VAL ===> Time: 0.0m 6.77s\n",
            "Epoch: 32/50, Train Loss: 1.6010, Train Accuracy: %91.522, Val Loss: 0.3927, Val Accuracy: %22.7812\n",
            "==============================\n",
            "TRAIN ===> Time: 0.0m 16.93s\n",
            "VAL ===> Time: 0.0m 6.78s\n",
            "Epoch: 33/50, Train Loss: 1.5963, Train Accuracy: %91.328, Val Loss: 0.3927, Val Accuracy: %22.7812\n",
            "==============================\n",
            "TRAIN ===> Time: 0.0m 16.78s\n",
            "VAL ===> Time: 0.0m 6.81s\n",
            "Epoch: 34/50, Train Loss: 1.6054, Train Accuracy: %90.393, Val Loss: 0.3927, Val Accuracy: %22.7812\n",
            "==============================\n",
            "TRAIN ===> Time: 0.0m 16.81s\n",
            "VAL ===> Time: 0.0m 6.75s\n",
            "Epoch: 35/50, Train Loss: 1.6045, Train Accuracy: %90.865, Val Loss: 0.3927, Val Accuracy: %22.7812\n",
            "==============================\n",
            "TRAIN ===> Time: 0.0m 17.01s\n",
            "VAL ===> Time: 0.0m 6.70s\n",
            "Epoch: 36/50, Train Loss: 1.5931, Train Accuracy: %91.362, Val Loss: 0.3927, Val Accuracy: %22.7812\n",
            "==============================\n",
            "TRAIN ===> Time: 0.0m 16.90s\n",
            "VAL ===> Time: 0.0m 6.73s\n",
            "Epoch: 37/50, Train Loss: 1.5674, Train Accuracy: %91.619, Val Loss: 0.3927, Val Accuracy: %22.7812\n",
            "==============================\n",
            "TRAIN ===> Time: 0.0m 16.83s\n",
            "VAL ===> Time: 0.0m 6.72s\n",
            "Epoch: 38/50, Train Loss: 1.5623, Train Accuracy: %91.553, Val Loss: 0.3927, Val Accuracy: %22.7812\n",
            "==============================\n",
            "TRAIN ===> Time: 0.0m 16.82s\n",
            "VAL ===> Time: 0.0m 6.73s\n",
            "Epoch: 39/50, Train Loss: 1.5904, Train Accuracy: %91.025, Val Loss: 0.3927, Val Accuracy: %22.7812\n",
            "==============================\n",
            "TRAIN ===> Time: 0.0m 16.83s\n",
            "VAL ===> Time: 0.0m 6.87s\n",
            "Epoch: 40/50, Train Loss: 1.5891, Train Accuracy: %91.487, Val Loss: 0.3927, Val Accuracy: %22.7812\n",
            "==============================\n",
            "TRAIN ===> Time: 0.0m 16.94s\n",
            "VAL ===> Time: 0.0m 6.75s\n",
            "Epoch: 41/50, Train Loss: 1.6095, Train Accuracy: %91.056, Val Loss: 0.3927, Val Accuracy: %22.7812\n",
            "==============================\n",
            "TRAIN ===> Time: 0.0m 16.83s\n",
            "VAL ===> Time: 0.0m 6.74s\n",
            "Epoch: 42/50, Train Loss: 1.5836, Train Accuracy: %91.650, Val Loss: 0.3927, Val Accuracy: %22.7812\n",
            "==============================\n",
            "TRAIN ===> Time: 0.0m 16.83s\n",
            "VAL ===> Time: 0.0m 6.77s\n",
            "Epoch: 43/50, Train Loss: 1.5959, Train Accuracy: %90.587, Val Loss: 0.3927, Val Accuracy: %22.7812\n",
            "==============================\n",
            "TRAIN ===> Time: 0.0m 16.80s\n",
            "VAL ===> Time: 0.0m 6.82s\n",
            "Epoch: 44/50, Train Loss: 1.5654, Train Accuracy: %91.337, Val Loss: 0.3927, Val Accuracy: %22.7812\n",
            "==============================\n",
            "TRAIN ===> Time: 0.0m 16.85s\n",
            "VAL ===> Time: 0.0m 7.33s\n",
            "Epoch: 45/50, Train Loss: 1.6017, Train Accuracy: %91.328, Val Loss: 0.3927, Val Accuracy: %22.7812\n",
            "==============================\n",
            "TRAIN ===> Time: 0.0m 16.78s\n",
            "VAL ===> Time: 0.0m 6.79s\n",
            "Epoch: 46/50, Train Loss: 1.5988, Train Accuracy: %91.178, Val Loss: 0.3927, Val Accuracy: %22.7812\n",
            "==============================\n",
            "TRAIN ===> Time: 0.0m 16.81s\n",
            "VAL ===> Time: 0.0m 6.75s\n",
            "Epoch: 47/50, Train Loss: 1.5727, Train Accuracy: %91.615, Val Loss: 0.3927, Val Accuracy: %22.7812\n",
            "==============================\n",
            "TRAIN ===> Time: 0.0m 16.81s\n",
            "VAL ===> Time: 0.0m 6.73s\n",
            "Epoch: 48/50, Train Loss: 1.5985, Train Accuracy: %91.550, Val Loss: 0.3927, Val Accuracy: %22.7812\n",
            "==============================\n",
            "TRAIN ===> Time: 0.0m 16.83s\n",
            "VAL ===> Time: 0.0m 6.71s\n",
            "Epoch: 49/50, Train Loss: 1.6140, Train Accuracy: %90.543, Val Loss: 0.3927, Val Accuracy: %22.7812\n",
            "==============================\n",
            "TRAIN ===> Time: 0.0m 16.97s\n",
            "VAL ===> Time: 0.0m 6.84s\n",
            "Epoch: 50/50, Train Loss: 1.5898, Train Accuracy: %91.459, Val Loss: 0.3927, Val Accuracy: %22.7812\n",
            "==============================\n"
          ]
        }
      ]
    },
    {
      "cell_type": "code",
      "source": [
        "plot_history(loss_history, loss='True')"
      ],
      "metadata": {
        "colab": {
          "base_uri": "https://localhost:8080/",
          "height": 295
        },
        "id": "R3_7CIFmGexK",
        "outputId": "ca70cd34-be0f-45fb-c7b2-77385db70f22"
      },
      "execution_count": null,
      "outputs": [
        {
          "output_type": "display_data",
          "data": {
            "text/plain": [
              "<Figure size 432x288 with 1 Axes>"
            ],
            "image/png": "[encoded data removed]"
          },
          "metadata": {
            "needs_background": "light"
          }
        }
      ]
    },
    {
      "cell_type": "code",
      "source": [
        "plot_history(accuracy_history, loss='False')"
      ],
      "metadata": {
        "colab": {
          "base_uri": "https://localhost:8080/",
          "height": 295
        },
        "id": "QIc50FdGQUXw",
        "outputId": "756051c1-a8d5-497f-d7ca-11268c4dc03a"
      },
      "execution_count": null,
      "outputs": [
        {
          "output_type": "display_data",
          "data": {
            "text/plain": [
              "<Figure size 432x288 with 1 Axes>"
            ],
            "image/png": "[encoded data removed]"
          },
          "metadata": {
            "needs_background": "light"
          }
        }
      ]
    },
    {
      "cell_type": "markdown",
      "source": [
        "#### vgg19"
      ],
      "metadata": {
        "id": "Y5mMawcD5FQH"
      }
    },
    {
      "cell_type": "code",
      "source": [
        "model, loss_history, accuracy_history = train_val(vgg19_bn, vgg19_bn_params, grad_requires_param=False, trainable_layers=0)"
      ],
      "metadata": {
        "id": "vI29lOOPQVYQ"
      },
      "execution_count": null,
      "outputs": []
    },
    {
      "cell_type": "code",
      "source": [
        "plot_history(loss_history, loss='True')"
      ],
      "metadata": {
        "colab": {
          "base_uri": "https://localhost:8080/",
          "height": 295
        },
        "id": "S5-unmUCQwCB",
        "outputId": "2823c00b-a880-486d-e919-8f4d6b53fa2a"
      },
      "execution_count": null,
      "outputs": [
        {
          "output_type": "display_data",
          "data": {
            "text/plain": [
              "<Figure size 432x288 with 1 Axes>"
            ],
            "image/png": "[encoded data removed]"
          },
          "metadata": {
            "needs_background": "light"
          }
        }
      ]
    },
    {
      "cell_type": "code",
      "source": [
        "plot_history(accuracy_history, loss='False')"
      ],
      "metadata": {
        "colab": {
          "base_uri": "https://localhost:8080/",
          "height": 295
        },
        "id": "QoQnRzFfVSip",
        "outputId": "8031cfb6-a641-4c7a-cace-d200ed1c3c35"
      },
      "execution_count": null,
      "outputs": [
        {
          "output_type": "display_data",
          "data": {
            "text/plain": [
              "<Figure size 432x288 with 1 Axes>"
            ],
            "image/png": "[encoded data removed]"
          },
          "metadata": {
            "needs_background": "light"
          }
        }
      ]
    },
    {
      "cell_type": "markdown",
      "source": [
        "#### ResNet50"
      ],
      "metadata": {
        "id": "LSQM8Dkn5NTu"
      }
    },
    {
      "cell_type": "code",
      "source": [
        "model, loss_history, accuracy_history = train_val(resnet50, resnet50_params, grad_requires_param=False, trainable_layers=0)"
      ],
      "metadata": {
        "colab": {
          "base_uri": "https://localhost:8080/"
        },
        "id": "YKDNDhYXV17d",
        "outputId": "f521180e-97a5-4101-bf1e-1aa6c33d5460"
      },
      "execution_count": null,
      "outputs": [
        {
          "output_type": "stream",
          "name": "stdout",
          "text": [
            "TRAIN ===> Time: 0.0m 11.25s\n",
            "VAL ===> Time: 0.0m 2.91s\n",
            "Epoch: 1/30, Train Loss: 4.4410, Train Accuracy: %59.703, Val Loss: 0.8751, Val Accuracy: %19.7500\n",
            "==============================\n",
            "TRAIN ===> Time: 0.0m 10.81s\n",
            "VAL ===> Time: 0.0m 2.91s\n",
            "Epoch: 2/30, Train Loss: 3.0982, Train Accuracy: %84.675, Val Loss: 0.6542, Val Accuracy: %22.3125\n",
            "==============================\n",
            "TRAIN ===> Time: 0.0m 10.89s\n",
            "VAL ===> Time: 0.0m 2.91s\n",
            "Epoch: 3/30, Train Loss: 2.4755, Train Accuracy: %89.365, Val Loss: 0.5431, Val Accuracy: %22.7500\n",
            "==============================\n",
            "TRAIN ===> Time: 0.0m 10.98s\n",
            "VAL ===> Time: 0.0m 2.92s\n",
            "Epoch: 4/30, Train Loss: 2.1282, Train Accuracy: %91.178, Val Loss: 0.4774, Val Accuracy: %22.9688\n",
            "==============================\n",
            "TRAIN ===> Time: 0.0m 11.00s\n",
            "Epoch 00005: reducing learning rate of group 0 to 1.0000e-05.\n",
            "VAL ===> Time: 0.0m 2.97s\n",
            "Epoch: 5/30, Train Loss: 1.9054, Train Accuracy: %92.397, Val Loss: 0.4340, Val Accuracy: %23.2500\n",
            "==============================\n",
            "TRAIN ===> Time: 0.0m 11.09s\n",
            "VAL ===> Time: 0.0m 3.00s\n",
            "Epoch: 6/30, Train Loss: 1.7970, Train Accuracy: %93.303, Val Loss: 0.4218, Val Accuracy: %23.4062\n",
            "==============================\n",
            "TRAIN ===> Time: 0.0m 11.12s\n",
            "VAL ===> Time: 0.0m 3.00s\n",
            "Epoch: 7/30, Train Loss: 1.7724, Train Accuracy: %93.303, Val Loss: 0.4178, Val Accuracy: %23.5312\n",
            "==============================\n",
            "TRAIN ===> Time: 0.0m 11.18s\n",
            "VAL ===> Time: 0.0m 3.00s\n",
            "Epoch: 8/30, Train Loss: 1.7569, Train Accuracy: %93.365, Val Loss: 0.4142, Val Accuracy: %23.5312\n",
            "==============================\n",
            "TRAIN ===> Time: 0.0m 11.20s\n",
            "Epoch 00009: reducing learning rate of group 0 to 1.0000e-06.\n",
            "VAL ===> Time: 0.0m 3.25s\n",
            "Epoch: 9/30, Train Loss: 1.7419, Train Accuracy: %93.459, Val Loss: 0.4108, Val Accuracy: %23.5312\n",
            "==============================\n",
            "TRAIN ===> Time: 0.0m 11.39s\n",
            "VAL ===> Time: 0.0m 3.00s\n",
            "Epoch: 10/30, Train Loss: 1.7307, Train Accuracy: %93.678, Val Loss: 0.4104, Val Accuracy: %23.5312\n",
            "==============================\n",
            "TRAIN ===> Time: 0.0m 11.27s\n",
            "VAL ===> Time: 0.0m 3.03s\n",
            "Epoch: 11/30, Train Loss: 1.7292, Train Accuracy: %93.709, Val Loss: 0.4100, Val Accuracy: %23.5312\n",
            "==============================\n",
            "TRAIN ===> Time: 0.0m 11.27s\n",
            "VAL ===> Time: 0.0m 3.02s\n",
            "Epoch: 12/30, Train Loss: 1.7276, Train Accuracy: %93.740, Val Loss: 0.4097, Val Accuracy: %23.5312\n",
            "==============================\n",
            "TRAIN ===> Time: 0.0m 11.26s\n",
            "Epoch 00013: reducing learning rate of group 0 to 1.0000e-07.\n",
            "VAL ===> Time: 0.0m 3.03s\n",
            "Epoch: 13/30, Train Loss: 1.7261, Train Accuracy: %93.740, Val Loss: 0.4093, Val Accuracy: %23.5312\n",
            "==============================\n",
            "TRAIN ===> Time: 0.0m 11.28s\n",
            "VAL ===> Time: 0.0m 3.06s\n",
            "Epoch: 14/30, Train Loss: 1.7249, Train Accuracy: %93.740, Val Loss: 0.4092, Val Accuracy: %23.5312\n",
            "==============================\n",
            "TRAIN ===> Time: 0.0m 11.34s\n",
            "VAL ===> Time: 0.0m 3.06s\n",
            "Epoch: 15/30, Train Loss: 1.7247, Train Accuracy: %93.740, Val Loss: 0.4092, Val Accuracy: %23.5312\n",
            "==============================\n",
            "TRAIN ===> Time: 0.0m 11.34s\n",
            "VAL ===> Time: 0.0m 3.04s\n",
            "Epoch: 16/30, Train Loss: 1.7245, Train Accuracy: %93.740, Val Loss: 0.4092, Val Accuracy: %23.5312\n",
            "==============================\n",
            "TRAIN ===> Time: 0.0m 11.43s\n",
            "Epoch 00017: reducing learning rate of group 0 to 1.0000e-08.\n",
            "VAL ===> Time: 0.0m 3.06s\n",
            "Epoch: 17/30, Train Loss: 1.7244, Train Accuracy: %93.740, Val Loss: 0.4091, Val Accuracy: %23.5312\n",
            "==============================\n",
            "TRAIN ===> Time: 0.0m 11.57s\n",
            "VAL ===> Time: 0.0m 3.08s\n",
            "Epoch: 18/30, Train Loss: 1.7243, Train Accuracy: %93.740, Val Loss: 0.4091, Val Accuracy: %23.5312\n",
            "==============================\n",
            "TRAIN ===> Time: 0.0m 11.43s\n",
            "VAL ===> Time: 0.0m 3.05s\n",
            "Epoch: 19/30, Train Loss: 1.7242, Train Accuracy: %93.740, Val Loss: 0.4091, Val Accuracy: %23.5312\n",
            "==============================\n",
            "TRAIN ===> Time: 0.0m 11.44s\n",
            "VAL ===> Time: 0.0m 3.09s\n",
            "Epoch: 20/30, Train Loss: 1.7242, Train Accuracy: %93.740, Val Loss: 0.4091, Val Accuracy: %23.5312\n",
            "==============================\n",
            "TRAIN ===> Time: 0.0m 11.49s\n",
            "VAL ===> Time: 0.0m 3.08s\n",
            "Epoch: 21/30, Train Loss: 1.7242, Train Accuracy: %93.740, Val Loss: 0.4091, Val Accuracy: %23.5312\n",
            "==============================\n",
            "TRAIN ===> Time: 0.0m 11.51s\n",
            "VAL ===> Time: 0.0m 3.09s\n",
            "Epoch: 22/30, Train Loss: 1.7242, Train Accuracy: %93.740, Val Loss: 0.4091, Val Accuracy: %23.5312\n",
            "==============================\n",
            "TRAIN ===> Time: 0.0m 11.49s\n",
            "VAL ===> Time: 0.0m 3.08s\n",
            "Epoch: 23/30, Train Loss: 1.7242, Train Accuracy: %93.740, Val Loss: 0.4091, Val Accuracy: %23.5312\n",
            "==============================\n",
            "TRAIN ===> Time: 0.0m 11.46s\n",
            "VAL ===> Time: 0.0m 3.08s\n",
            "Epoch: 24/30, Train Loss: 1.7242, Train Accuracy: %93.740, Val Loss: 0.4091, Val Accuracy: %23.5312\n",
            "==============================\n",
            "TRAIN ===> Time: 0.0m 11.47s\n",
            "VAL ===> Time: 0.0m 3.08s\n",
            "Epoch: 25/30, Train Loss: 1.7241, Train Accuracy: %93.740, Val Loss: 0.4091, Val Accuracy: %23.5312\n",
            "==============================\n",
            "TRAIN ===> Time: 0.0m 11.63s\n",
            "VAL ===> Time: 0.0m 3.10s\n",
            "Epoch: 26/30, Train Loss: 1.7241, Train Accuracy: %93.740, Val Loss: 0.4091, Val Accuracy: %23.5312\n",
            "==============================\n",
            "TRAIN ===> Time: 0.0m 11.46s\n",
            "VAL ===> Time: 0.0m 3.07s\n",
            "Epoch: 27/30, Train Loss: 1.7241, Train Accuracy: %93.740, Val Loss: 0.4091, Val Accuracy: %23.5312\n",
            "==============================\n",
            "TRAIN ===> Time: 0.0m 11.50s\n",
            "VAL ===> Time: 0.0m 3.07s\n",
            "Epoch: 28/30, Train Loss: 1.7241, Train Accuracy: %93.740, Val Loss: 0.4091, Val Accuracy: %23.5312\n",
            "==============================\n",
            "TRAIN ===> Time: 0.0m 11.51s\n",
            "VAL ===> Time: 0.0m 3.08s\n",
            "Epoch: 29/30, Train Loss: 1.7241, Train Accuracy: %93.740, Val Loss: 0.4091, Val Accuracy: %23.5312\n",
            "==============================\n",
            "TRAIN ===> Time: 0.0m 11.50s\n",
            "VAL ===> Time: 0.0m 3.09s\n",
            "Epoch: 30/30, Train Loss: 1.7241, Train Accuracy: %93.740, Val Loss: 0.4091, Val Accuracy: %23.5312\n",
            "==============================\n"
          ]
        }
      ]
    },
    {
      "cell_type": "code",
      "source": [
        "plot_history(loss_history, loss='True')"
      ],
      "metadata": {
        "colab": {
          "base_uri": "https://localhost:8080/",
          "height": 295
        },
        "id": "2np9Rv9HZoc9",
        "outputId": "6903b58f-1228-477e-c990-8b88dfa08094"
      },
      "execution_count": null,
      "outputs": [
        {
          "output_type": "display_data",
          "data": {
            "text/plain": [
              "<Figure size 432x288 with 1 Axes>"
            ],
            "image/png": "[encoded data removed]"
          },
          "metadata": {
            "needs_background": "light"
          }
        }
      ]
    },
    {
      "cell_type": "code",
      "source": [
        "plot_history(accuracy_history, loss='False')"
      ],
      "metadata": {
        "colab": {
          "base_uri": "https://localhost:8080/",
          "height": 295
        },
        "id": "T-JQNOLyejV3",
        "outputId": "da68bf5b-dd94-4714-9bd8-4bd8a4f9343d"
      },
      "execution_count": null,
      "outputs": [
        {
          "output_type": "display_data",
          "data": {
            "text/plain": [
              "<Figure size 432x288 with 1 Axes>"
            ],
            "image/png": "[encoded data removed]"
          },
          "metadata": {
            "needs_background": "light"
          }
        }
      ]
    },
    {
      "cell_type": "markdown",
      "source": [
        "#### EfficentNet B2"
      ],
      "metadata": {
        "id": "pUb8PDFb5s40"
      }
    },
    {
      "cell_type": "code",
      "source": [
        "model, loss_history, accuracy_history = train_val(efficientnetb2, efficientnetb2_params, grad_requires_param=False, trainable_layers=0)"
      ],
      "metadata": {
        "id": "Ei1-pasgelww",
        "colab": {
          "base_uri": "https://localhost:8080/"
        },
        "outputId": "92673ba8-ae77-44ad-e4be-467d6af1a4e5"
      },
      "execution_count": null,
      "outputs": [
        {
          "output_type": "stream",
          "name": "stdout",
          "text": [
            "TRAIN ===> Time: 0.0m 7.79s\n",
            "VAL ===> Time: 0.0m 1.99s\n",
            "Epoch: 1/30, Train Loss: 4.7851, Train Accuracy: %56.324, Val Loss: 1.0655, Val Accuracy: %19.4062\n",
            "==============================\n",
            "TRAIN ===> Time: 0.0m 7.46s\n",
            "VAL ===> Time: 0.0m 1.97s\n",
            "Epoch: 2/30, Train Loss: 3.8505, Train Accuracy: %80.196, Val Loss: 0.8797, Val Accuracy: %21.6250\n",
            "==============================\n",
            "TRAIN ===> Time: 0.0m 7.50s\n",
            "VAL ===> Time: 0.0m 1.98s\n",
            "Epoch: 3/30, Train Loss: 3.2400, Train Accuracy: %86.953, Val Loss: 0.7569, Val Accuracy: %22.4375\n",
            "==============================\n",
            "TRAIN ===> Time: 0.0m 7.51s\n",
            "VAL ===> Time: 0.0m 1.98s\n",
            "Epoch: 4/30, Train Loss: 2.8457, Train Accuracy: %87.543, Val Loss: 0.6704, Val Accuracy: %22.8125\n",
            "==============================\n",
            "TRAIN ===> Time: 0.0m 7.54s\n",
            "Epoch 00005: reducing learning rate of group 0 to 1.0000e-05.\n",
            "VAL ===> Time: 0.0m 2.04s\n",
            "Epoch: 5/30, Train Loss: 2.5556, Train Accuracy: %89.293, Val Loss: 0.6090, Val Accuracy: %23.0000\n",
            "==============================\n",
            "TRAIN ===> Time: 0.0m 7.56s\n",
            "VAL ===> Time: 0.0m 2.03s\n",
            "Epoch: 6/30, Train Loss: 2.4133, Train Accuracy: %90.227, Val Loss: 0.6011, Val Accuracy: %23.0000\n",
            "==============================\n",
            "TRAIN ===> Time: 0.0m 7.56s\n",
            "VAL ===> Time: 0.0m 2.04s\n",
            "Epoch: 7/30, Train Loss: 2.3788, Train Accuracy: %90.456, Val Loss: 0.5999, Val Accuracy: %23.0000\n",
            "==============================\n",
            "TRAIN ===> Time: 0.0m 7.61s\n",
            "VAL ===> Time: 0.0m 2.06s\n",
            "Epoch: 8/30, Train Loss: 2.3866, Train Accuracy: %90.106, Val Loss: 0.5937, Val Accuracy: %23.0312\n",
            "==============================\n",
            "TRAIN ===> Time: 0.0m 7.63s\n",
            "Epoch 00009: reducing learning rate of group 0 to 1.0000e-06.\n",
            "VAL ===> Time: 0.0m 2.04s\n",
            "Epoch: 9/30, Train Loss: 2.3478, Train Accuracy: %90.456, Val Loss: 0.5831, Val Accuracy: %23.0625\n",
            "==============================\n",
            "TRAIN ===> Time: 0.0m 7.65s\n",
            "VAL ===> Time: 0.0m 1.91s\n",
            "Epoch: 10/30, Train Loss: 2.3512, Train Accuracy: %90.206, Val Loss: 0.5868, Val Accuracy: %23.1250\n",
            "==============================\n",
            "TRAIN ===> Time: 0.0m 7.66s\n",
            "VAL ===> Time: 0.0m 1.91s\n",
            "Epoch: 11/30, Train Loss: 2.3405, Train Accuracy: %90.518, Val Loss: 0.5893, Val Accuracy: %23.0625\n",
            "==============================\n",
            "TRAIN ===> Time: 0.0m 7.69s\n",
            "VAL ===> Time: 0.0m 1.92s\n",
            "Epoch: 12/30, Train Loss: 2.3399, Train Accuracy: %91.206, Val Loss: 0.5900, Val Accuracy: %23.1250\n",
            "==============================\n",
            "TRAIN ===> Time: 0.0m 7.92s\n",
            "Epoch 00013: reducing learning rate of group 0 to 1.0000e-07.\n",
            "VAL ===> Time: 0.0m 2.01s\n",
            "Epoch: 13/30, Train Loss: 2.3406, Train Accuracy: %90.237, Val Loss: 0.5871, Val Accuracy: %23.1250\n",
            "==============================\n",
            "TRAIN ===> Time: 0.0m 7.73s\n",
            "VAL ===> Time: 0.0m 1.93s\n",
            "Epoch: 14/30, Train Loss: 2.3323, Train Accuracy: %91.459, Val Loss: 0.5864, Val Accuracy: %23.0938\n",
            "==============================\n",
            "TRAIN ===> Time: 0.0m 7.71s\n",
            "VAL ===> Time: 0.0m 1.93s\n",
            "Epoch: 15/30, Train Loss: 2.3346, Train Accuracy: %90.484, Val Loss: 0.5903, Val Accuracy: %23.0938\n",
            "==============================\n",
            "TRAIN ===> Time: 0.0m 7.72s\n",
            "VAL ===> Time: 0.0m 1.93s\n",
            "Epoch: 16/30, Train Loss: 2.3328, Train Accuracy: %90.856, Val Loss: 0.5892, Val Accuracy: %23.0625\n",
            "==============================\n",
            "TRAIN ===> Time: 0.0m 7.73s\n",
            "Epoch 00017: reducing learning rate of group 0 to 1.0000e-08.\n",
            "VAL ===> Time: 0.0m 1.95s\n",
            "Epoch: 17/30, Train Loss: 2.3292, Train Accuracy: %90.981, Val Loss: 0.5906, Val Accuracy: %23.0625\n",
            "==============================\n",
            "TRAIN ===> Time: 0.0m 7.73s\n",
            "VAL ===> Time: 0.0m 1.94s\n",
            "Epoch: 18/30, Train Loss: 2.3430, Train Accuracy: %90.481, Val Loss: 0.5864, Val Accuracy: %23.0312\n",
            "==============================\n",
            "TRAIN ===> Time: 0.0m 7.75s\n",
            "VAL ===> Time: 0.0m 1.93s\n",
            "Epoch: 19/30, Train Loss: 2.3414, Train Accuracy: %90.640, Val Loss: 0.5864, Val Accuracy: %23.0312\n",
            "==============================\n",
            "TRAIN ===> Time: 0.0m 7.76s\n",
            "VAL ===> Time: 0.0m 1.95s\n",
            "Epoch: 20/30, Train Loss: 2.3311, Train Accuracy: %91.265, Val Loss: 0.5901, Val Accuracy: %23.0625\n",
            "==============================\n",
            "TRAIN ===> Time: 0.0m 7.79s\n",
            "VAL ===> Time: 0.0m 1.93s\n",
            "Epoch: 21/30, Train Loss: 2.3403, Train Accuracy: %90.362, Val Loss: 0.5880, Val Accuracy: %23.0000\n",
            "==============================\n",
            "TRAIN ===> Time: 0.0m 7.81s\n",
            "VAL ===> Time: 0.0m 1.96s\n",
            "Epoch: 22/30, Train Loss: 2.3486, Train Accuracy: %90.675, Val Loss: 0.5884, Val Accuracy: %23.1250\n",
            "==============================\n",
            "TRAIN ===> Time: 0.0m 7.80s\n",
            "VAL ===> Time: 0.0m 1.95s\n",
            "Epoch: 23/30, Train Loss: 2.3425, Train Accuracy: %90.925, Val Loss: 0.5905, Val Accuracy: %23.1250\n",
            "==============================\n",
            "TRAIN ===> Time: 0.0m 7.80s\n",
            "VAL ===> Time: 0.0m 1.95s\n",
            "Epoch: 24/30, Train Loss: 2.3501, Train Accuracy: %90.731, Val Loss: 0.5905, Val Accuracy: %23.0625\n",
            "==============================\n",
            "TRAIN ===> Time: 0.0m 7.80s\n",
            "VAL ===> Time: 0.0m 2.06s\n",
            "Epoch: 25/30, Train Loss: 2.3486, Train Accuracy: %90.262, Val Loss: 0.5896, Val Accuracy: %23.0938\n",
            "==============================\n",
            "TRAIN ===> Time: 0.0m 8.03s\n",
            "VAL ===> Time: 0.0m 1.96s\n",
            "Epoch: 26/30, Train Loss: 2.3407, Train Accuracy: %90.796, Val Loss: 0.5880, Val Accuracy: %23.0938\n",
            "==============================\n",
            "TRAIN ===> Time: 0.0m 7.83s\n",
            "VAL ===> Time: 0.0m 1.95s\n",
            "Epoch: 27/30, Train Loss: 2.3466, Train Accuracy: %90.234, Val Loss: 0.5863, Val Accuracy: %23.1250\n",
            "==============================\n",
            "TRAIN ===> Time: 0.0m 7.81s\n",
            "VAL ===> Time: 0.0m 1.95s\n",
            "Epoch: 28/30, Train Loss: 2.3362, Train Accuracy: %91.300, Val Loss: 0.5885, Val Accuracy: %23.0625\n",
            "==============================\n",
            "TRAIN ===> Time: 0.0m 7.83s\n",
            "VAL ===> Time: 0.0m 1.96s\n",
            "Epoch: 29/30, Train Loss: 2.3384, Train Accuracy: %90.643, Val Loss: 0.5890, Val Accuracy: %23.0625\n",
            "==============================\n",
            "TRAIN ===> Time: 0.0m 7.83s\n",
            "VAL ===> Time: 0.0m 1.97s\n",
            "Epoch: 30/30, Train Loss: 2.3348, Train Accuracy: %91.206, Val Loss: 0.5892, Val Accuracy: %23.0625\n",
            "==============================\n"
          ]
        }
      ]
    },
    {
      "cell_type": "code",
      "source": [
        "plot_history(loss_history, loss='True')"
      ],
      "metadata": {
        "id": "mad_dRys50Aw",
        "colab": {
          "base_uri": "https://localhost:8080/",
          "height": 295
        },
        "outputId": "19dd3be2-f934-4366-fbd1-f6efd9ae4486"
      },
      "execution_count": null,
      "outputs": [
        {
          "output_type": "display_data",
          "data": {
            "text/plain": [
              "<Figure size 432x288 with 1 Axes>"
            ],
            "image/png": "[encoded data removed]"
          },
          "metadata": {
            "needs_background": "light"
          }
        }
      ]
    },
    {
      "cell_type": "code",
      "source": [
        "plot_history(accuracy_history, loss='False')"
      ],
      "metadata": {
        "id": "Igs92NlU5z9o",
        "colab": {
          "base_uri": "https://localhost:8080/",
          "height": 295
        },
        "outputId": "54c5052c-a5a5-4770-f77f-90b73d498e48"
      },
      "execution_count": null,
      "outputs": [
        {
          "output_type": "display_data",
          "data": {
            "text/plain": [
              "<Figure size 432x288 with 1 Axes>"
            ],
            "image/png": "[encoded data removed]"
          },
          "metadata": {
            "needs_background": "light"
          }
        }
      ]
    },
    {
      "cell_type": "markdown",
      "source": [
        "### 7.Fine-Tuning"
      ],
      "metadata": {
        "id": "YyfaIToZA-K8"
      }
    },
    {
      "cell_type": "code",
      "source": [],
      "metadata": {
        "id": "PNrOSbo0DD5X"
      },
      "execution_count": null,
      "outputs": []
    }
  ]
}
