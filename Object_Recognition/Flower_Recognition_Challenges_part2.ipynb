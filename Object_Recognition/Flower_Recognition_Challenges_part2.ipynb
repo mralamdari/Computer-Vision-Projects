{
  "nbformat": 4,
  "nbformat_minor": 0,
  "metadata": {
    "colab": {
      "name": "Flower-Recognition-Challenges_part2.ipynb",
      "provenance": [],
      "collapsed_sections": [],
      "mount_file_id": "1JYkOJWKqlAHYYD2VDx8h6bucd3TnGmjs",
      "authorship_tag": "ABX9TyP1pUQWxV1/aVeFB7x+kZ5N",
      "include_colab_link": true
    },
    "kernelspec": {
      "name": "python3",
      "display_name": "Python 3"
    },
    "language_info": {
      "name": "python"
    }
  },
  "cells": [
    {
      "cell_type": "markdown",
      "metadata": {
        "id": "view-in-github",
        "colab_type": "text"
      },
      "source": [
        "<a href=\"https://colab.research.google.com/github/mralamdari/CV-Object-Detection-Projects/blob/main/Flower_Recognition_Challenges_part2.ipynb\" target=\"_parent\"><img src=\"https://colab.research.google.com/assets/colab-badge.svg\" alt=\"Open In Colab\"/></a>"
      ]
    },
    {
      "cell_type": "code",
      "execution_count": null,
      "metadata": {
        "id": "85Sm9boAMMwO"
      },
      "outputs": [],
      "source": [
        "import os\n",
        "import cv2\n",
        "import tqdm\n",
        "import numpy as np\n",
        "import pandas as pd\n",
        "import seaborn as sns\n",
        "import matplotlib.pyplot as plt\n",
        "\n",
        "from PIL import Image\n",
        "import tensorflow as tf\n",
        "from sklearn import preprocessing, model_selection, metrics, decomposition"
      ]
    },
    {
      "cell_type": "code",
      "source": [
        "os.environ['KAGGLE_CONFIG_DIR'] = '/content/drive/MyDrive/'\n",
        "!kaggle datasets download -d alxmamaev/flowers-recognition\n",
        "!unzip \\*.zip && rm *.zip"
      ],
      "metadata": {
        "id": "QnGAEYmbNeMo"
      },
      "execution_count": null,
      "outputs": []
    },
    {
      "cell_type": "code",
      "source": [
        "path_folder = '/content/flowers'\n",
        "\n",
        "im_size = 224\n",
        "x_train, x_test = [], []\n",
        "y_train, y_test = [], []\n",
        "id = 0\n",
        "for folder in tqdm.tqdm(os.listdir(path_folder)):\n",
        "  for files in tqdm.tqdm(os.listdir(os.path.join(path_folder, folder))):\n",
        "    if files.endswith('jpg'):\n",
        "      img_path = os.path.join(path_folder, folder, files)\n",
        "      img = cv2.imread(img_path, cv2.IMREAD_COLOR)\n",
        "      im = cv2.resize(img, (im_size, im_size))\n",
        "      im = np.array(im) / 255\n",
        "      if np.random.rand() < 0.25:\n",
        "        x_test.append(im)\n",
        "        y_test.append(folder)\n",
        "      else:\n",
        "        x_train.append(im)\n",
        "        y_train.append(folder)\n",
        "\n",
        "      id += 1\n",
        "    else:\n",
        "      continue"
      ],
      "metadata": {
        "id": "WNRCDYqzNy8D"
      },
      "execution_count": null,
      "outputs": []
    },
    {
      "cell_type": "code",
      "source": [
        "encoder = preprocessing.LabelEncoder()\n",
        "y_train = encoder.fit_transform(y_train)\n",
        "y_test = encoder.transform(y_test)\n",
        "y_train = tf.keras.utils.to_categorical(y_train, 5)\n",
        "y_test = tf.keras.utils.to_categorical(y_test, 5)"
      ],
      "metadata": {
        "id": "40nnBgZ6N6B7"
      },
      "execution_count": null,
      "outputs": []
    },
    {
      "cell_type": "code",
      "source": [
        "c = list(zip(x_train, y_train))\n",
        "np.random.shuffle(c)\n",
        "x_train, y_train = zip(*c)"
      ],
      "metadata": {
        "id": "JiypbapyOC6g"
      },
      "execution_count": null,
      "outputs": []
    },
    {
      "cell_type": "code",
      "source": [
        "d = list(zip(x_test, y_test))\n",
        "np.random.shuffle(d)\n",
        "x_test, y_test = zip(*d)"
      ],
      "metadata": {
        "id": "QVGeitZeOEmb"
      },
      "execution_count": null,
      "outputs": []
    },
    {
      "cell_type": "code",
      "source": [
        "x_train = np.array(x_train)\n",
        "x_test = np.array(x_test)\n",
        "\n",
        "# y_train = np.array(y_train)\n",
        "# y_test = np.array(y_test)"
      ],
      "metadata": {
        "id": "W5CSOmK6OGHP"
      },
      "execution_count": null,
      "outputs": []
    },
    {
      "cell_type": "code",
      "source": [
        "x_train[0].shape, x_test[0].shape"
      ],
      "metadata": {
        "colab": {
          "base_uri": "https://localhost:8080/"
        },
        "id": "TSEkPMXiOHiH",
        "outputId": "f948981a-4cb7-4385-9e91-10eea9ae3a7a"
      },
      "execution_count": null,
      "outputs": [
        {
          "output_type": "execute_result",
          "data": {
            "text/plain": [
              "((224, 224, 3), (224, 224, 3))"
            ]
          },
          "metadata": {},
          "execution_count": 7
        }
      ]
    },
    {
      "cell_type": "code",
      "source": [
        "len(y_train), len(y_test) "
      ],
      "metadata": {
        "colab": {
          "base_uri": "https://localhost:8080/"
        },
        "id": "DAXoQwA3VJgN",
        "outputId": "093602e4-0f9d-4469-97e5-bd359f99b1bc"
      },
      "execution_count": null,
      "outputs": [
        {
          "output_type": "execute_result",
          "data": {
            "text/plain": [
              "(3235, 1082)"
            ]
          },
          "metadata": {},
          "execution_count": 9
        }
      ]
    },
    {
      "cell_type": "code",
      "source": [
        "y_test[:10]"
      ],
      "metadata": {
        "colab": {
          "base_uri": "https://localhost:8080/"
        },
        "id": "uopmHSBGOJHj",
        "outputId": "52067453-d23a-4988-ca94-a9b787dccba8"
      },
      "execution_count": null,
      "outputs": [
        {
          "output_type": "execute_result",
          "data": {
            "text/plain": [
              "(array([0., 0., 1., 0., 0.], dtype=float32),\n",
              " array([1., 0., 0., 0., 0.], dtype=float32),\n",
              " array([1., 0., 0., 0., 0.], dtype=float32),\n",
              " array([0., 0., 0., 0., 1.], dtype=float32),\n",
              " array([0., 1., 0., 0., 0.], dtype=float32),\n",
              " array([1., 0., 0., 0., 0.], dtype=float32),\n",
              " array([0., 1., 0., 0., 0.], dtype=float32),\n",
              " array([1., 0., 0., 0., 0.], dtype=float32),\n",
              " array([1., 0., 0., 0., 0.], dtype=float32),\n",
              " array([1., 0., 0., 0., 0.], dtype=float32))"
            ]
          },
          "metadata": {},
          "execution_count": 10
        }
      ]
    },
    {
      "cell_type": "code",
      "source": [
        "fig, ax = plt.subplots(4, 4)\n",
        "fig.set_size_inches(20, 20)\n",
        "for i in range(4):\n",
        "  for j in range(4):\n",
        "    rnd = np.random.randint(0, len(x_train), 1)[0]\n",
        "    ax[i, j].imshow(x_train[rnd])\n",
        "    ax[i, j].set_title(f'Flower {y_train[rnd]}')\n",
        "plt.tight_layout()"
      ],
      "metadata": {
        "id": "hbdisHMVOKg3"
      },
      "execution_count": null,
      "outputs": []
    },
    {
      "cell_type": "markdown",
      "metadata": {
        "id": "Ixl42mCJvuFG"
      },
      "source": [
        "#Flower Recognition CNN Keras\n",
        "[Note Book](https://www.kaggle.com/code/rajmehra03/flower-recognition-cnn-keras)"
      ]
    },
    {
      "cell_type": "code",
      "execution_count": null,
      "metadata": {
        "id": "LCWmR7JmwvYc"
      },
      "outputs": [],
      "source": [
        "datagen = tf.keras.preprocessing.image.ImageDataGenerator(\n",
        "        featurewise_center=False,  # set input mean to 0 over the dataset\n",
        "        samplewise_center=False,  # set each sample mean to 0\n",
        "        featurewise_std_normalization=False,  # divide inputs by std of the dataset\n",
        "        samplewise_std_normalization=False,  # divide each input by its std\n",
        "        zca_whitening=False,  # apply ZCA whitening\n",
        "        rotation_range=10,  # randomly rotate images in the range (degrees, 0 to 180)\n",
        "        zoom_range = 0.1, # Randomly zoom image \n",
        "        width_shift_range=0.2,  # randomly shift images horizontally (fraction of total width)\n",
        "        height_shift_range=0.2,  # randomly shift images vertically (fraction of total height)\n",
        "        horizontal_flip=True,  # randomly flip images\n",
        "        vertical_flip=False)  # randomly flip images\n",
        "\n",
        "datagen.fit(x_train)"
      ]
    },
    {
      "cell_type": "code",
      "source": [
        "model = tf.keras.models.Sequential()\n",
        "model.add(tf.keras.layers.Conv2D(filters=32, kernel_size=5, padding='same',activation='relu', input_shape=(224, 224, 3)))\n",
        "model.add(tf.keras.layers.MaxPooling2D(pool_size=2))\n",
        "\n",
        "model.add(tf.keras.layers.Conv2D(filters=64, kernel_size=5, padding='same',activation='relu'))\n",
        "model.add(tf.keras.layers.MaxPooling2D(pool_size=2))\n",
        "\n",
        "model.add(tf.keras.layers.Conv2D(filters=128, kernel_size=5, padding='same',activation='relu'))\n",
        "model.add(tf.keras.layers.MaxPooling2D(pool_size=2))\n",
        "\n",
        "model.add(tf.keras.layers.Conv2D(filters=128, kernel_size=5, padding='same',activation='relu'))\n",
        "model.add(tf.keras.layers.MaxPooling2D(pool_size=2))\n",
        "\n",
        "model.add(tf.keras.layers.Flatten())\n",
        "model.add(tf.keras.layers.Dense(512, activation='relu'))\n",
        "model.add(tf.keras.layers.Dense(5, activation='softmax'))"
      ],
      "metadata": {
        "id": "f2wI0cWdAhFm"
      },
      "execution_count": null,
      "outputs": []
    },
    {
      "cell_type": "code",
      "source": [
        "lr_callback =  tf.keras.callbacks.ReduceLROnPlateau(monitor='val_acc', pationce=3, verbose=1, factor=0.1)"
      ],
      "metadata": {
        "id": "n2XR4O19Cz32"
      },
      "execution_count": null,
      "outputs": []
    },
    {
      "cell_type": "code",
      "source": [
        "model.compile(optimizer = tf.keras.optimizers.Adam(lr=0.001),\n",
        "              loss = 'categorical_crossentropy',\n",
        "              metrics=['accuracy'])"
      ],
      "metadata": {
        "id": "ucboXSICDETF"
      },
      "execution_count": null,
      "outputs": []
    },
    {
      "cell_type": "code",
      "source": [
        "model.summary()"
      ],
      "metadata": {
        "id": "NNdfE9LeDUHS"
      },
      "execution_count": null,
      "outputs": []
    },
    {
      "cell_type": "code",
      "source": [
        "batch_size = 32\n",
        "history =model.fit(datagen.flow(x_train, y_train, batch_size=batch_size),\n",
        "                   epochs=1, validation_data=(x_test, y_test), verbose=1)"
      ],
      "metadata": {
        "id": "WhhxPg32DVfZ"
      },
      "execution_count": null,
      "outputs": []
    },
    {
      "cell_type": "code",
      "source": [
        "def plot_history(hist, loss='True'):\n",
        "  title = 'loss' if loss else 'accuracy'\n",
        "  plt.plot(hist.history[f'{title}'])\n",
        "  plt.plot(hist.history[f'val_{title}'])\n",
        "  plt.title(f'Model {title}')\n",
        "  plt.ylabel(f'{title}')\n",
        "  plt.xlabel('Epochs')\n",
        "  plt.legend(['train', 'test'])\n",
        "  plt.show()"
      ],
      "metadata": {
        "id": "qc8QdX0SHDnh"
      },
      "execution_count": null,
      "outputs": []
    },
    {
      "cell_type": "code",
      "source": [
        "plot_history(history)"
      ],
      "metadata": {
        "id": "7g2WD2ILHjqq"
      },
      "execution_count": null,
      "outputs": []
    },
    {
      "cell_type": "code",
      "source": [
        "plot_history(history, False)"
      ],
      "metadata": {
        "id": "bV_qeRrqHeFL"
      },
      "execution_count": null,
      "outputs": []
    },
    {
      "cell_type": "code",
      "source": [
        "# getting predictions on val set.\n",
        "pred=model.predict(x_test)\n",
        "pred_digits=np.argmax(pred,axis=1)\n",
        "# now storing some properly as well as misclassified indexes'.\n",
        "i=0\n",
        "prop_class=[]\n",
        "mis_class=[]\n",
        "\n",
        "for i in range(len(y_test)):\n",
        "    if(np.argmax(y_test[i])==pred_digits[i]):\n",
        "        prop_class.append(i)\n",
        "    if(len(prop_class)==8):\n",
        "        break\n",
        "\n",
        "i=0\n",
        "for i in range(len(y_test)):\n",
        "    if(not np.argmax(y_test[i])==pred_digits[i]):\n",
        "        mis_class.append(i)\n",
        "    if(len(mis_class)==8):\n",
        "        break"
      ],
      "metadata": {
        "id": "Z8ARIL7RHyzj"
      },
      "execution_count": null,
      "outputs": []
    },
    {
      "cell_type": "code",
      "source": [
        "count=0\n",
        "fig,ax=plt.subplots(4,2)\n",
        "fig.set_size_inches(15,15)\n",
        "for i in range (4):\n",
        "    for j in range (2):\n",
        "        ax[i,j].imshow(x_test[prop_class[count]])\n",
        "        ax[i,j].set_title(\"Predicted Flower : \"+str(le.inverse_transform([pred_digits[prop_class[count]]]))+\"\\n\"+\"Actual Flower : \"+str(le.inverse_transform(np.argmax([y_test[prop_class[count]]]))))\n",
        "        plt.tight_layout()\n",
        "        count+=1"
      ],
      "metadata": {
        "id": "_U6Q_28HHkhj"
      },
      "execution_count": null,
      "outputs": []
    },
    {
      "cell_type": "code",
      "source": [
        "count=0\n",
        "fig,ax=plt.subplots(4,2)\n",
        "fig.set_size_inches(15,15)\n",
        "for i in range (4):\n",
        "    for j in range (2):\n",
        "        ax[i,j].imshow(x_test[mis_class[count]])\n",
        "        ax[i,j].set_title(\"Predicted Flower : \"+str(le.inverse_transform([pred_digits[mis_class[count]]]))+\"\\n\"+\"Actual Flower : \"+str(le.inverse_transform(np.argmax([y_test[mis_class[count]]]))))\n",
        "        plt.tight_layout()\n",
        "        count+=1"
      ],
      "metadata": {
        "id": "hvIvPxUsHuOQ"
      },
      "execution_count": null,
      "outputs": []
    },
    {
      "cell_type": "code",
      "source": [
        "!wget https://github.com/fchollet/deep-learning-models/releases/download/v0.1/vgg16_weights_tf_dim_ordering_tf_kernels.h5"
      ],
      "metadata": {
        "id": "Sky7KpwrR079"
      },
      "execution_count": null,
      "outputs": []
    },
    {
      "cell_type": "code",
      "source": [
        ""
      ],
      "metadata": {
        "id": "YoKix4NNP_6I"
      },
      "execution_count": null,
      "outputs": []
    }
  ]
}
