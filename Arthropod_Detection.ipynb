{
  "nbformat": 4,
  "nbformat_minor": 0,
  "metadata": {
    "colab": {
      "provenance": [],
      "mount_file_id": "1EkPO3-a7zWEBBox_OayTsTNDMvTNzzuS",
      "authorship_tag": "ABX9TyMNCwMG993nedJA2OtITqr4",
      "include_colab_link": true
    },
    "kernelspec": {
      "name": "python3",
      "display_name": "Python 3"
    },
    "language_info": {
      "name": "python"
    }
  },
  "cells": [
    {
      "cell_type": "markdown",
      "metadata": {
        "id": "view-in-github",
        "colab_type": "text"
      },
      "source": [
        "<a href=\"https://colab.research.google.com/github/mralamdari/Computer-Vision-Projects/blob/main/Arthropod_Detection.ipynb\" target=\"_parent\"><img src=\"https://colab.research.google.com/assets/colab-badge.svg\" alt=\"Open In Colab\"/></a>"
      ]
    },
    {
      "cell_type": "markdown",
      "source": [
        "## [Arthropod Taxonomy Orders Object Detection Dataset](https://www.kaggle.com/datasets/mistag/arthropod-taxonomy-orders-object-detection-dataset/)"
      ],
      "metadata": {
        "id": "O3md6o47lY_f"
      }
    },
    {
      "cell_type": "code",
      "execution_count": 1,
      "metadata": {
        "id": "Jc6VQxrK6Zz3"
      },
      "outputs": [],
      "source": [
        "import os\n",
        "import numpy as np\n",
        "import pandas as pd"
      ]
    },
    {
      "cell_type": "code",
      "source": [
        "os.environ['KAGGLE_CONFIG_DIR']='/content/drive/MyDrive/'\n",
        "!kaggle datasets download -d mistag/arthropod-taxonomy-orders-object-detection-dataset\n",
        "!unzip *.zip && rm *.zip"
      ],
      "metadata": {
        "id": "OEQKeqZl8mgm"
      },
      "execution_count": null,
      "outputs": []
    },
    {
      "cell_type": "code",
      "source": [
        "images_per_shard = 481\n",
        "target_width = 1024\n",
        "\n",
        "CLASSES = ['Lepidoptera', 'Hymenoptera', 'Hemiptera', 'Odonata', 'Diptera', 'Araneae', 'Coleoptera']\n",
        "\n",
        "RAW_CLASSES = CLASSES + ['_truncated', '_blurred', '_occluded']"
      ],
      "metadata": {
        "id": "Msyvk4_ZZPex"
      },
      "execution_count": 5,
      "outputs": []
    },
    {
      "cell_type": "code",
      "source": [
        "class Progress:\n",
        "\n",
        "  def __init__(self, maxi, size=100, msg=''):\n",
        "    self.msg = msg\n",
        "    self.size = size\n",
        "    self.maxi = maxi\n",
        "    self.lock = Lock()\n",
        "    self.header_printed=False\n",
        "    self.p = self.__start_progress(maxi)()# () to get the iterator from the generator\n",
        "\n",
        "  def step(self, reset=False):\n",
        "    with self.lock:\n",
        "      if reset:\n",
        "        self.__init__(self.maxi, self.size, self.msg)\n",
        "      if not self.header_printed:\n",
        "        self.__print_header()\n",
        "      next(self.p)\n",
        "  \n",
        "  def __print__header(self):\n",
        "    print()\n",
        "    print(f'0%{self.msg: ^self.size-6}100%')\n",
        "    self.head_printed = True\n",
        "\n",
        "  def __start_progress(self, maxi):\n",
        "    def print_progress():\n",
        "      dx = maxi\n",
        "      dy = self.size\n",
        "      d = dy - dx\n",
        "      for x in range(maxi):\n",
        "        k = 0\n",
        "        while d >= 0:\n",
        "          print('=', end='', flush=True)\n",
        "          k+=1\n",
        "          d -= dx\n",
        "        d += dy\n",
        "        yield k\n",
        "    return print_progress"
      ],
      "metadata": {
        "id": "w-S7WrgfBJaT"
      },
      "execution_count": null,
      "outputs": []
    },
    {
      "cell_type": "code",
      "source": [
        "def no_decorations(ax):\n",
        "    ax.axes.get_xaxis().set_visible(False)\n",
        "    ax.axes.get_yaxis().set_visible(False)\n",
        "    ax.spines['top'].set_visible(False)\n",
        "    ax.spines['right'].set_visible(False)\n",
        "    ax.spines['bottom'].set_visible(False)\n",
        "    ax.spines['left'].set_visible(False)\n",
        "\n",
        "def display_detections(images, offsets, resizes, detections, classnames, ground_truth_boxes=[]):\n",
        "  classes, boxes, scores = [], [], []\n",
        "  for detection_list in detections:\n",
        "    for boxlist, ofs, rsz in zip(detection_list, offsets, resizes):\n",
        "        _, x, y, w, h, score, cls = boxlist\n",
        "        box = ((x-ofs[1])*rsz, (y-ofs[0])*rsz, w*rsz, h*rsz)\n",
        "        boxes.append(box)\n",
        "        classes.append(int(cls))\n",
        "        scores.append(score)\n",
        "\n",
        "  display_with_boxes(images, boxes, classes, scores, classnames, ground_truth_boxes)"
      ],
      "metadata": {
        "id": "DKYLvqdqUOnJ"
      },
      "execution_count": null,
      "outputs": []
    },
    {
      "cell_type": "code",
      "source": [
        "def display_with_boxes(images, boxes, classes, scores, classnames, ground_truth_boxes=[]):\n",
        "    N = len(images)\n",
        "    sqrtN = int(np.ceil(np.sqrt(N)))    \n",
        "    aspect = sum([im.shape[1]/im.shape[0] for im in images]) / N # mean aspect ratio of images\n",
        "    fig = plt.figure(figsize=(15, 15/aspect), frameon=False)\n",
        "\n",
        "    for k in range(N):\n",
        "      ax = plt.subplot(sqrtN, sqrtN, k+1)\n",
        "      no_decorations(ax)\n",
        "      plt.imshow(images[k])\n",
        "\n",
        "      if ground_truth_boxes:\n",
        "        for box in ground_truth_boxes[k]:\n",
        "          x, y, w, h = (box[0], box[1], box[2]-box[0], box[3]-box[1]) #x1 y1 x2 y2 into xywh\n",
        "          rect = mplr.patches.Rectangle((x, y), w, h, linewidth=4, edgecolor='#FFFFFFA0', facecolor='none')\n",
        "          ax.add_patch(rect)\n",
        "      \n",
        "      for i, (box, cls) in enumerate(zip(boxes[k], classes[k])):\n",
        "        x,y, w, h = (box[0], box[1], box[2]-box[0], box[3]-box[1]) #x1 y1 x2 y2 into xywh\n",
        "        label = classnames[cls]\n",
        "        if scores:\n",
        "          label += f' {int(scores[k][i])*100}%'\n",
        "        \n",
        "        rect = mpl.patches.Rectangle((x, y),w,h,linewidth=4,edgecolor='#00000080',facecolor='none')\n",
        "        ax.add_patch(rect)\n",
        "        rect = mpl.patches.Rectangle((x, y),w,h,linewidth=2,edgecolor='#FFFF00FF',facecolor='none')\n",
        "        ax.add_patch(rect)\n",
        "        plt.text(x, y, label, size=16, ha=\"left\", va=\"top\", color='#FFFF00FF',\n",
        "                  bbox=dict(boxstyle=\"round\", ec='#00000080', fc='#0000004E', linewidth=3) )\n",
        "        plt.text(x, y, label, size=16, ha=\"left\", va=\"top\", color='#FFFF00FF',\n",
        "                  bbox=dict(boxstyle=\"round\", ec='#FFFF00FF', fc='#0000004E', linewidth=1.5) )\n",
        "    plt.tight_layout()\n",
        "    plt.subplots_adjust(wspace=0.02, hspace=0.02)\n",
        "    plt.show()"
      ],
      "metadata": {
        "id": "s5wTcqbncoA_"
      },
      "execution_count": 22,
      "outputs": []
    },
    {
      "cell_type": "code",
      "source": [],
      "metadata": {
        "id": "4tvvJWpPA5-a"
      },
      "execution_count": null,
      "outputs": []
    }
  ]
}