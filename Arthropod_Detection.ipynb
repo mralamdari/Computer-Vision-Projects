{
  "nbformat": 4,
  "nbformat_minor": 0,
  "metadata": {
    "colab": {
      "provenance": [],
      "mount_file_id": "1EkPO3-a7zWEBBox_OayTsTNDMvTNzzuS",
      "authorship_tag": "ABX9TyMwQ8RzIxBukKilRgCltJCQ",
      "include_colab_link": true
    },
    "kernelspec": {
      "name": "python3",
      "display_name": "Python 3"
    },
    "language_info": {
      "name": "python"
    }
  },
  "cells": [
    {
      "cell_type": "markdown",
      "metadata": {
        "id": "view-in-github",
        "colab_type": "text"
      },
      "source": [
        "<a href=\"https://colab.research.google.com/github/mralamdari/Computer-Vision-Projects/blob/main/Arthropod_Detection.ipynb\" target=\"_parent\"><img src=\"https://colab.research.google.com/assets/colab-badge.svg\" alt=\"Open In Colab\"/></a>"
      ]
    },
    {
      "cell_type": "markdown",
      "source": [
        "## [Arthropod Taxonomy Orders Object Detection Dataset](https://www.kaggle.com/datasets/mistag/arthropod-taxonomy-orders-object-detection-dataset/)"
      ],
      "metadata": {
        "id": "O3md6o47lY_f"
      }
    },
    {
      "cell_type": "code",
      "execution_count": 1,
      "metadata": {
        "id": "Jc6VQxrK6Zz3"
      },
      "outputs": [],
      "source": [
        "import os\n",
        "import numpy as np\n",
        "import pandas as pd"
      ]
    },
    {
      "cell_type": "code",
      "source": [
        "os.environ['KAGGLE_CONFIG_DIR']='/content/drive/MyDrive/'\n",
        "!kaggle datasets download -d mistag/arthropod-taxonomy-orders-object-detection-dataset\n",
        "!unzip *.zip && rm *.zip"
      ],
      "metadata": {
        "id": "OEQKeqZl8mgm"
      },
      "execution_count": null,
      "outputs": []
    },
    {
      "cell_type": "code",
      "source": [
        "images_per_shard = 481\n",
        "target_width = 1024\n",
        "\n",
        "CLASSES = ['Lepidoptera', 'Hymenoptera', 'Hemiptera', 'Odonata', 'Diptera', 'Araneae', 'Coleoptera']\n",
        "\n",
        "RAW_CLASSES = CLASSES + ['_truncated', '_blurred', '_occluded']"
      ],
      "metadata": {
        "id": "Msyvk4_ZZPex"
      },
      "execution_count": 5,
      "outputs": []
    },
    {
      "cell_type": "code",
      "source": [
        "class Progress:\n",
        "\n",
        "  def __init__(self, maxi, size=100, msg=''):\n",
        "    self.msg = msg\n",
        "    self.size = size\n",
        "    self.maxi = maxi\n",
        "    self.lock = Lock()\n",
        "    self.header_printed=False\n",
        "    self.p = self.__start_progress(maxi)()# () to get the iterator from the generator\n",
        "\n",
        "  def step(self, reset=False):\n",
        "    with self.lock:\n",
        "      if reset:\n",
        "        self.__init__(self.maxi, self.size, self.msg)\n",
        "      if not self.header_printed:\n",
        "        self.__print_header()\n",
        "      next(self.p)\n",
        "  \n",
        "  def __print__header(self):\n",
        "    print()\n",
        "    print(f'0%{self.msg:^self.size-6}100%')\n",
        "    self.head_printed = True\n",
        "\n",
        "  def __start_progress(self, maxi):\n",
        "    def print_progress():\n",
        "      dx = maxi\n",
        "      dy"
      ],
      "metadata": {
        "id": "w-S7WrgfBJaT"
      },
      "execution_count": null,
      "outputs": []
    },
    {
      "cell_type": "code",
      "source": [],
      "metadata": {
        "id": "NgN_FBeHCX4q"
      },
      "execution_count": 19,
      "outputs": []
    },
    {
      "cell_type": "code",
      "source": [],
      "metadata": {
        "colab": {
          "base_uri": "https://localhost:8080/"
        },
        "id": "9z9P5xnDA1qn",
        "outputId": "e3ae36e2-8fe3-4f90-92f7-0c7dbd25a871"
      },
      "execution_count": 6,
      "outputs": [
        {
          "output_type": "execute_result",
          "data": {
            "text/plain": [
              "['Lepidoptera',\n",
              " 'Hymenoptera',\n",
              " 'Hemiptera',\n",
              " 'Odonata',\n",
              " 'Diptera',\n",
              " 'Araneae',\n",
              " 'Coleoptera',\n",
              " '_truncated',\n",
              " '_blurred',\n",
              " '_occluded']"
            ]
          },
          "metadata": {},
          "execution_count": 6
        }
      ]
    },
    {
      "cell_type": "code",
      "source": [],
      "metadata": {
        "id": "4tvvJWpPA5-a"
      },
      "execution_count": null,
      "outputs": []
    }
  ]
}