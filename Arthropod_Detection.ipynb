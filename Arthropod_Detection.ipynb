{
  "nbformat": 4,
  "nbformat_minor": 0,
  "metadata": {
    "colab": {
      "provenance": [],
      "mount_file_id": "1EkPO3-a7zWEBBox_OayTsTNDMvTNzzuS",
      "authorship_tag": "ABX9TyNVc5J3aa9GtaPEOPV3ddgb",
      "include_colab_link": true
    },
    "kernelspec": {
      "name": "python3",
      "display_name": "Python 3"
    },
    "language_info": {
      "name": "python"
    }
  },
  "cells": [
    {
      "cell_type": "markdown",
      "metadata": {
        "id": "view-in-github",
        "colab_type": "text"
      },
      "source": [
        "<a href=\"https://colab.research.google.com/github/mralamdari/Computer-Vision-Projects/blob/main/Arthropod_Detection.ipynb\" target=\"_parent\"><img src=\"https://colab.research.google.com/assets/colab-badge.svg\" alt=\"Open In Colab\"/></a>"
      ]
    },
    {
      "cell_type": "markdown",
      "source": [
        "## [Arthropod Taxonomy Orders Object Detection Dataset](https://www.kaggle.com/datasets/mistag/arthropod-taxonomy-orders-object-detection-dataset/)"
      ],
      "metadata": {
        "id": "O3md6o47lY_f"
      }
    },
    {
      "cell_type": "code",
      "execution_count": 2,
      "metadata": {
        "id": "Jc6VQxrK6Zz3"
      },
      "outputs": [],
      "source": [
        "import os\n",
        "import sys\n",
        "import json\n",
        "import pprint\n",
        "import numpy as np\n",
        "import pandas as pd\n",
        "import tensorflow as tf\n",
        "import matplotlib as mpl\n",
        "import concurrent.futures\n",
        "from threading import Lock\n",
        "# import json, math, random, os, pprint,sys\n",
        "from matplotlib import pyplot as plt\n",
        "AUTO = tf.data.AUTOTUNE\n",
        "pp = pprint.PrettyPrinter()\n",
        "!pip install --quiet tf-models-official==2.9.2\n",
        "from tensorflow_models.vision import box_ops as box\n",
        "# import boxutils as box\n",
        "\n",
        "sys.path.append('PATH_TO_TENSORFLOW_OBJECT_DETECTION_FOLDER')# load all the metadata"
      ]
    },
    {
      "cell_type": "code",
      "source": [
        "os.environ['KAGGLE_CONFIG_DIR']='/content/drive/MyDrive/'\n",
        "!kaggle datasets download -d mistag/arthropod-taxonomy-orders-object-detection-dataset\n",
        "!unzip *.zip && rm *.zip"
      ],
      "metadata": {
        "id": "OEQKeqZl8mgm"
      },
      "execution_count": null,
      "outputs": []
    },
    {
      "cell_type": "code",
      "source": [
        "IMAGES_PER_SHARD = 481\n",
        "TARGET_WIDTH = 1024\n",
        "\n",
        "CLASSES = ['Lepidoptera', 'Hymenoptera', 'Hemiptera', 'Odonata', 'Diptera', 'Araneae', 'Coleoptera']\n",
        "\n",
        "RAW_CLASSES = CLASSES + ['_truncated', '_blurred', '_occluded']"
      ],
      "metadata": {
        "id": "Msyvk4_ZZPex"
      },
      "execution_count": 4,
      "outputs": []
    },
    {
      "cell_type": "code",
      "source": [
        "class Progress:\n",
        "    \"\"\"Text mode progress bar.\n",
        "    Usage:\n",
        "            p = Progress(30)\n",
        "            p.step()\n",
        "            p.step()\n",
        "            p.step(start=True) # to restart form 0%\n",
        "    The progress bar displays a new header at each restart.\"\"\"\n",
        "    def __init__(self, maxi, size=100, msg=\"\"):\n",
        "        \"\"\"\n",
        "        :param maxi: the number of steps required to reach 100%\n",
        "        :param size: the number of characters taken on the screen by the progress bar\n",
        "        :param msg: the message displayed in the header of the progress bat\n",
        "        \"\"\"\n",
        "        self.maxi = maxi\n",
        "        self.p = self.__start_progress(maxi)()  # () to get the iterator from the generator\n",
        "        self.header_printed = False\n",
        "        self.msg = msg\n",
        "        self.size = size\n",
        "        self.lock = Lock()\n",
        "\n",
        "    def step(self, reset=False):\n",
        "        with self.lock:\n",
        "            if reset:\n",
        "                self.__init__(self.maxi, self.size, self.msg)\n",
        "            if not self.header_printed:\n",
        "                self.__print_header()\n",
        "            next(self.p)\n",
        "\n",
        "    def __print_header(self):\n",
        "        print()\n",
        "        format_string = \"0%{: ^\" + str(self.size - 6) + \"}100%\"\n",
        "        print(format_string.format(self.msg))\n",
        "        self.header_printed = True\n",
        "\n",
        "    def __start_progress(self, maxi):\n",
        "        def print_progress():\n",
        "            # Bresenham's algorithm. Yields the number of dots printed.\n",
        "            # This will always print 100 dots in max invocations.\n",
        "            dx = maxi\n",
        "            dy = self.size\n",
        "            d = dy - dx\n",
        "            for x in range(maxi):\n",
        "                k = 0\n",
        "                while d >= 0:\n",
        "                    print('=', end=\"\", flush=True)\n",
        "                    k += 1\n",
        "                    d -= dx\n",
        "                d += dy\n",
        "                yield k\n",
        "\n",
        "        return print_progress\n",
        "\n",
        "    \n",
        "def no_decorations(ax):\n",
        "    ax.axes.get_xaxis().set_visible(False)\n",
        "    ax.axes.get_yaxis().set_visible(False)\n",
        "    ax.spines['top'].set_visible(False)\n",
        "    ax.spines['right'].set_visible(False)\n",
        "    ax.spines['bottom'].set_visible(False)\n",
        "    ax.spines['left'].set_visible(False)\n",
        "    \n",
        "\n",
        "def display_detections(images, offsets, resizes, detections, classnames, ground_truth_boxes=[]):\n",
        "    # scale and offset the detected boxes back to original image coordinates\n",
        "    boxes   = [[ (x,y,w,h)  for _, x, y, w, h, score, klass in detection_list] for detection_list in detections]\n",
        "    boxes   = [[ (x-ofs[1], y-ofs[0], w, h) for x,y,w,h in boxlist ] for boxlist, ofs in zip(boxes, offsets)]\n",
        "    boxes   = [[ (x*rsz, y*rsz, w*rsz, h*rsz) for x,y,w,h in boxlist ] for boxlist, rsz in zip(boxes, resizes)]\n",
        "    classes = [[ int(klass) for _, x, y, w, h, score, klass in detection_list] for detection_list in detections]\n",
        "    scores  = [[ score      for _, x, y, w, h, score, klass in detection_list] for detection_list in detections]\n",
        "    display_with_boxes(images, boxes, classes, scores, classnames, ground_truth_boxes)\n",
        "    \n",
        "    \n",
        "# images, boxes and classes must have the same number of elements\n",
        "# scores can be en empty list []. If it is not empty, it must also\n",
        "# have the same number of elements.\n",
        "# classnames is the list of possible classes (strings)\n",
        "def display_with_boxes(images, boxes, classes, scores, classnames, ground_truth_boxes=[]):\n",
        "    N = len(images)\n",
        "    sqrtN = int(np.ceil(np.sqrt(N)))\n",
        "    aspect = sum([im.shape[1]/im.shape[0] for im in images])/len(images) # mean aspect ratio of images\n",
        "    fig = plt.figure(figsize=(15,15/aspect), frameon=False)\n",
        "    \n",
        "    for k in range(N):\n",
        "        ax = plt.subplot(sqrtN, sqrtN, k+1)\n",
        "        no_decorations(ax)\n",
        "        plt.imshow(images[k])\n",
        "        \n",
        "        if ground_truth_boxes:\n",
        "            for box in ground_truth_boxes[k]:\n",
        "                x, y, w, h = (box[0], box[1], box[2]-box[0], box[3]-box[1]) # convert x1 y1 x2 y2 into xywh\n",
        "                #x, y, w, h = (box[0], box[1], box[2], box[3])\n",
        "                rect = mpl.patches.Rectangle((x, y),w,h,linewidth=4,edgecolor='#FFFFFFA0',facecolor='none')\n",
        "                ax.add_patch(rect)\n",
        "\n",
        "        for i, (box, klass) in enumerate(zip(boxes[k], classes[k])):\n",
        "            x, y, w, h = (box[0], box[1], box[2]-box[0], box[3]-box[1]) # convert x1 y1 x2 y2 into xywh\n",
        "            #x, y, w, h = (box[0], box[1], box[2], box[3])\n",
        "            #label = classnames[klass-1] # predicted classes are 1-based\n",
        "            label = classnames[klass]\n",
        "            if scores:\n",
        "                label += ' ' + str(int(scores[k][i]*100)) + '%' \n",
        "            rect = mpl.patches.Rectangle((x, y),w,h,linewidth=4,edgecolor='#00000080',facecolor='none')\n",
        "            ax.add_patch(rect)\n",
        "            rect = mpl.patches.Rectangle((x, y),w,h,linewidth=2,edgecolor='#FFFF00FF',facecolor='none')\n",
        "            ax.add_patch(rect)\n",
        "            plt.text(x, y, label, size=16, ha=\"left\", va=\"top\", color='#FFFF00FF',\n",
        "                     bbox=dict(boxstyle=\"round\", ec='#00000080', fc='#0000004E', linewidth=3) )\n",
        "            plt.text(x, y, label, size=16, ha=\"left\", va=\"top\", color='#FFFF00FF',\n",
        "                     bbox=dict(boxstyle=\"round\", ec='#FFFF00FF', fc='#0000004E', linewidth=1.5) )\n",
        "    plt.tight_layout()\n",
        "    plt.subplots_adjust(wspace=0.02, hspace=0.02)\n",
        "    plt.show()"
      ],
      "metadata": {
        "id": "w-S7WrgfBJaT"
      },
      "execution_count": 5,
      "outputs": []
    },
    {
      "cell_type": "code",
      "source": [
        "DATA_PATH = '/content/ArTaxOr/Araneae'\n",
        "json_filename_pattern = '/content/ArTaxOr/Araneae/annotations/*.json'\n",
        "jpeg_filename_pattern = '/content/ArTaxOr/Araneae/*.jpg'\n",
        "\n",
        "def load_json(filename, p):\n",
        "    p.step()\n",
        "    with tf.io.gfile.GFile(filename, 'r') as f:\n",
        "        return json.load(f)\n",
        "    \n",
        "def filename_key(filename):\n",
        "    path, filename = os.path.split(filename)\n",
        "    dirname = os.path.split(path)[1]\n",
        "    return filename\n",
        "    # return os.path.join(dirname, filename)\n",
        "    \n",
        "def load_metadata(filename_pattern, jpeg_filename_pattern):\n",
        "    print(\"Scanning directory...\", end=' ')\n",
        "    json_filenames = tf.io.gfile.glob(json_filename_pattern)\n",
        "    jpeg_filenames = tf.io.gfile.glob(jpeg_filename_pattern)\n",
        "    print(f\"found {len(json_filenames)} metadata files and {len(jpeg_filenames)} image files.\")\n",
        "    print(\"Loading metadata\")\n",
        "    p = Progress(len(json_filenames))\n",
        "    with concurrent.futures.ThreadPoolExecutor() as exe:\n",
        "        data = exe.map(lambda x: load_json(x,p), json_filenames)\n",
        "    # data as a dictionary for easier cross-referencing\n",
        "    data = {filename_key(d['asset']['path']):d for d in data}\n",
        "    return data, jpeg_filenames\n",
        "\n",
        "RAW_METADATA, JPEG_FILENAMES = load_metadata(json_filename_pattern, jpeg_filename_pattern)"
      ],
      "metadata": {
        "colab": {
          "base_uri": "https://localhost:8080/"
        },
        "id": "4tvvJWpPA5-a",
        "outputId": "c9e56e69-8d47-4346-8870-b0328be75684"
      },
      "execution_count": 6,
      "outputs": [
        {
          "output_type": "stream",
          "name": "stdout",
          "text": [
            "Scanning directory... found 2418 metadata files and 2418 image files.\n",
            "Loading metadata\n",
            "\n",
            "0%                                                                                              100%\n",
            "===================================================================================================="
          ]
        }
      ]
    },
    {
      "cell_type": "code",
      "source": [
        "name = JPEG_FILENAMES[0]\n",
        "RAW_METADATA[name[-16:]]"
      ],
      "metadata": {
        "colab": {
          "base_uri": "https://localhost:8080/"
        },
        "id": "31CkjYPus83g",
        "outputId": "5ad66df6-e77b-45f8-bb25-4597c9eac92a"
      },
      "execution_count": 7,
      "outputs": [
        {
          "output_type": "execute_result",
          "data": {
            "text/plain": [
              "{'asset': {'format': 'jpg',\n",
              "  'id': 'b25575a4d90e8922ecb815e684638555',\n",
              "  'name': '9cc9c7842d7b.jpg',\n",
              "  'path': 'file:F:/ArTaxOr/Araneae/9cc9c7842d7b.jpg',\n",
              "  'size': {'width': 5184, 'height': 3456},\n",
              "  'state': 2,\n",
              "  'type': 1},\n",
              " 'regions': [{'id': 'Sojpn0NLA',\n",
              "   'type': 'RECTANGLE',\n",
              "   'tags': ['Araneae'],\n",
              "   'boundingBox': {'height': 1272.3226473629782,\n",
              "    'width': 1848.3641379310345,\n",
              "    'left': 1805.4620689655173,\n",
              "    'top': 1277.1251292657703},\n",
              "   'points': [{'x': 1805.4620689655173, 'y': 1277.1251292657703},\n",
              "    {'x': 3653.826206896552, 'y': 1277.1251292657703},\n",
              "    {'x': 3653.826206896552, 'y': 2549.4477766287487},\n",
              "    {'x': 1805.4620689655173, 'y': 2549.4477766287487}]}],\n",
              " 'version': '2.1.0'}"
            ]
          },
          "metadata": {},
          "execution_count": 7
        }
      ]
    },
    {
      "cell_type": "code",
      "source": [
        "# Check that there is a model garden safe way of computing image ids.\n",
        "# In the end, this does not matter. The ids are never used, but they must still be processed,\n",
        "# otherwise the Model Garden data loader will crash on them.\n",
        "\n",
        "# copied from Model Garden code\n",
        "# = official/vision/beta/dataloaders/utils process_source_id()\n",
        "\n",
        "def model_garden__str_to_int64(s):\n",
        "    return tf.strings.to_number(s, tf.int64).numpy()\n",
        "\n",
        "def compute_id_bytestring(s):\n",
        "    \n",
        "    computed_id = (int('0x' + s[:16], 16) ^ int('0x' + s[16:], 16)) & 0x0FFFFFFFFFFFFFFF\n",
        "    return str(computed_id).encode('utf-8')\n",
        "\n",
        "raw_ids = []\n",
        "cnv_ids = []\n",
        "cnv_cnv_ids = []\n",
        "\n",
        "for i, key in enumerate(RAW_METADATA):\n",
        "    iid = RAW_METADATA[key]['asset']['id']\n",
        "    raw_ids.append(iid)\n",
        "    iid = compute_id_bytestring(iid)\n",
        "    #print(\"computed:\", iid)\n",
        "    cnv_ids.append(iid)\n",
        "    iid = model_garden__str_to_int64(iid)\n",
        "    cnv_cnv_ids.append(iid)\n",
        "\n",
        "print(f\"Original ids: {len(raw_ids)} Uniques:{len(set(raw_ids))} Collisions:{len(raw_ids) - len(set(raw_ids))}\")\n",
        "print(f\"Original ids: {len(cnv_ids)} Uniques:{len(set(cnv_ids))} Collisions:{len(raw_ids) - len(set(cnv_ids))}\")\n",
        "print(f\"Computed ids as converted by Model Garden:{len(cnv_cnv_ids)}, Uniques: {len(set(cnv_cnv_ids))}, Collisions: {len(raw_ids) - len(set(cnv_cnv_ids))}\")"
      ],
      "metadata": {
        "colab": {
          "base_uri": "https://localhost:8080/"
        },
        "id": "a4xyoVqD0tuU",
        "outputId": "02c16080-6266-49c8-fd7c-b5ccc26dae7c"
      },
      "execution_count": 8,
      "outputs": [
        {
          "output_type": "stream",
          "name": "stdout",
          "text": [
            "Original ids: 2418 Uniques:2418 Collisions:0\n",
            "Original ids: 2418 Uniques:2418 Collisions:0\n",
            "Computed ids as converted by Model Garden:2418, Uniques: 2418, Collisions: 0\n"
          ]
        }
      ]
    },
    {
      "cell_type": "code",
      "source": [
        "# collect weird aspec ratio images and very large images\n",
        "oddities = [d['asset']['path'] for k,d in RAW_METADATA.items() if d['asset']['size']['width']>5400]\n",
        "oddities += [d['asset']['path'] for k,d in RAW_METADATA.items() if d['asset']['size']['height']>5000]\n",
        "oddities2 = [d['asset']['path'] for k,d in RAW_METADATA.items() if d['asset']['size']['height']/d['asset']['size']['width']>1.9]\n",
        "oddities2 += [d['asset']['path'] for k,d in RAW_METADATA.items() if d['asset']['size']['width']/d['asset']['size']['height']>2.0]\n",
        "\n",
        "nice_pics = ['/ArTaxOr/Lepidoptera/e7d7b4678088.jpg','/ArTaxOr/Lepidoptera/e74f298859ff.jpg','/ArTaxOr/Coleoptera/92c9a15e7362.jpg',\n",
        "             '/ArTaxOr/Coleoptera/a1824522fddc.jpg','/ArTaxOr/Hymenoptera/7188c0cc8c9d.jpg','/ArTaxOr/Lepidoptera/b7197aead30b.jpg',\n",
        "             '/ArTaxOr/Lepidoptera/dfc9ece476e6.jpg','/ArTaxOr/Araneae/a1488eb130e3.jpg','/ArTaxOr/Coleoptera/39c0eabccc41.jpg']\n",
        "alt_pics = ['/ArTaxOr/Araneae/3c6491416c3f.jpg','/ArTaxOr/Araneae/81ff08857d15.jpg',\n",
        "            '/ArTaxOr/Hymenoptera/f8f10bc28f5b.jpg','/ArTaxOr/Lepidoptera/e314c31efafd.jpg']\n",
        "\n",
        "#filenames = tf.io.gfile.glob('../input/arthropod-taxonomy-orders-object-detection-dataset/ArTaxOr/*/*jpg')\n",
        "#filenames = nice_pics\n",
        "filenames = oddities+oddities2\n",
        "#filenames = alt_pics\n",
        "\n",
        "# display a couple of images from the raw_metadata with their bounding boxes\n",
        "images = []\n",
        "bboxes = []\n",
        "taglists = []\n",
        "np.random.shuffle(filenames)\n",
        "for filename in filenames[:4]:\n",
        "    print(DATA_PATH, filename_key(filename), filename)\n",
        "    filepath = os.path.join(DATA_PATH, filename_key(filename))\n",
        "    d = RAW_METADATA[filename_key(filename)]\n",
        "    images.append(tf.image.decode_jpeg(tf.io.read_file(filepath)))\n",
        "    bbxs = [region['boundingBox'] for region in d['regions']]\n",
        "    # xywh to yxyx conversion\n",
        "    bbxs = [[box['left'],box['top'], box['left']+box['width'], box['top']+box['height']] for box in bbxs]\n",
        "    #tags = [region['tags'] for region in d['regions']] # all tags\n",
        "    tags = [region['tags'][0] for region in d['regions']] # first tag only\n",
        "    tags = [CLASSES.index(t) for t in tags] \n",
        "    bboxes.append(bbxs)\n",
        "    taglists.append(tags)\n",
        "\n",
        "display_with_boxes(images, bboxes, taglists, None, CLASSES, ground_truth_boxes=[])"
      ],
      "metadata": {
        "id": "HOgvmClK27Fq"
      },
      "execution_count": null,
      "outputs": []
    },
    {
      "cell_type": "code",
      "source": [
        "print('Nb entries:', len(RAW_METADATA))\n",
        "print('Nb images:', len(JPEG_FILENAMES))\n",
        "assert(len(RAW_METADATA) == len(JPEG_FILENAMES))\n",
        "\n",
        "formats = set([d['asset']['format'] for k,d in RAW_METADATA.items()])\n",
        "print('Image formats:', formats)\n",
        "assert(len(formats)==1 and list(formats)[0]=='jpg')\n",
        "\n",
        "states = set([d['asset']['state'] for k,d in RAW_METADATA.items()])\n",
        "print('Image states(?):', states)\n",
        "types = set([d['asset']['type'] for k,d in RAW_METADATA.items()])\n",
        "print('Image types(?):', types)\n",
        "\n",
        "widths = [d['asset']['size']['width'] for k,d in RAW_METADATA.items()]\n",
        "print(f'Images widths range from {min(widths)} to {max(widths)}')\n",
        "heights = [d['asset']['size']['height'] for k,d in RAW_METADATA.items()]\n",
        "print(f'Images heights range from {min(heights)} to {max(heights)}')\n",
        "\n",
        "aspect_ratios = [w/h for w,h in zip(widths, heights)]\n",
        "print(f'Images aspect ratios range from {min(aspect_ratios)} to {max(aspect_ratios)}')\n",
        "\n",
        "nbbox = [len(d['regions']) for k,d in RAW_METADATA.items()]\n",
        "print(f'Nb of bounding boxes from {min(nbbox)} to {max(nbbox)}, average {sum(nbbox)/len(nbbox):.3}')\n",
        "\n",
        "region_types = [set([t['type'] for t in d['regions']]) for k,d in RAW_METADATA.items()]\n",
        "region_types = set().union(*region_types)\n",
        "print('Region types:', region_types)\n",
        "assert(len(region_types)==1 and list(region_types)[0]=='RECTANGLE')\n",
        "\n",
        "region_tags = [[t['tags'] for t in d['regions']] for k,d in RAW_METADATA.items()]\n",
        "region_tags = [sum(l,[]) for l in region_tags] # concat lists of tags across multiple regions\n",
        "region_tags = set(sum(region_tags, [])) # concat all and make a set\n",
        "print('Region tags:', region_tags)\n",
        "\n",
        "bbox_width = [[t['boundingBox']['width'] for t in d['regions']] for k,d in RAW_METADATA.items()]\n",
        "bbox_width = sum(bbox_width, []) # flatten the list\n",
        "print(f'Bounding box widths range from {min(bbox_width)} to {max(bbox_width)}')\n",
        "\n",
        "bbox_height = [[t['boundingBox']['height'] for t in d['regions']] for k,d in RAW_METADATA.items()]\n",
        "bbox_height = sum(bbox_height, []) # flatten the list\n",
        "print(f'Bounding box height range from {min(bbox_height)} to {max(bbox_height)}')\n",
        "\n",
        "bbox_left = [[t['boundingBox']['left'] for t in d['regions']] for k,d in RAW_METADATA.items()]\n",
        "bbox_left = sum(bbox_left, []) # flatten the list\n",
        "print(f'Bounding box left range from {min(bbox_left)} to {max(bbox_left)}')\n",
        "\n",
        "bbox_top = [[t['boundingBox']['top'] for t in d['regions']] for k,d in RAW_METADATA.items()]\n",
        "bbox_top = sum(bbox_top, []) # flatten the list\n",
        "print(f'Bounding box top range from {min(bbox_top)} to {max(bbox_top)}')\n",
        "\n",
        "# compute aspect ratios in landscape mode\n",
        "landscape_aspect_ratios = [w/h if w>h else h/w for w,h in zip(widths, heights)]\n",
        "print(f'Images landscape aspect ratios range from {min(landscape_aspect_ratios)} to {max(landscape_aspect_ratios)}')"
      ],
      "metadata": {
        "colab": {
          "base_uri": "https://localhost:8080/"
        },
        "id": "-i33c85W39HQ",
        "outputId": "30ec3286-6fb9-4675-c358-0eca8d9ba857"
      },
      "execution_count": 10,
      "outputs": [
        {
          "output_type": "stream",
          "name": "stdout",
          "text": [
            "Nb entries: 2418\n",
            "Nb images: 2418\n",
            "Image formats: {'jpg'}\n",
            "Image states(?): {2}\n",
            "Image types(?): {1}\n",
            "Images widths range from 500 to 5500\n",
            "Images heights range from 375 to 4272\n",
            "Images aspect ratios range from 0.4044418468731736 to 2.3703703703703702\n",
            "Nb of bounding boxes from 1 to 34, average 1.11\n",
            "Region types: {'RECTANGLE'}\n",
            "Region tags: {'Hemiptera', 'Lepidoptera', 'Coleoptera', 'Hymenoptera', 'Araneae', '_truncated', 'Diptera', '_blurred', '_occluded'}\n",
            "Bounding box widths range from 29.42528735632184 to 3861.1984838042727\n",
            "Bounding box height range from 29.42528735632184 to 3453.654601861427\n",
            "Bounding box left range from 0 to 3980.0137835975193\n",
            "Bounding box top range from 0 to 3089.1127197518094\n",
            "Images landscape aspect ratios range from 1.0 to 2.472543352601156\n"
          ]
        }
      ]
    },
    {
      "cell_type": "code",
      "source": [
        "fig, (ax1, ax2,ax3,ax4) = plt.subplots(1,4, figsize=(15,3))\n",
        "ax1.set_title(\"aspect ratios\")\n",
        "ax1.hist(aspect_ratios)\n",
        "ax2.set_title(\"landscape aspect ratios\")\n",
        "ax2.hist(landscape_aspect_ratios)\n",
        "ax3.set_title(\"widths\")\n",
        "ax3.hist(widths)\n",
        "ax4.set_title(\"heights\")\n",
        "ax4.hist(heights)\n",
        "plt.show()"
      ],
      "metadata": {
        "id": "JjZRmW7L4yKk"
      },
      "execution_count": null,
      "outputs": []
    },
    {
      "cell_type": "code",
      "source": [
        "def metadataset_from_image_filenames(filenames):\n",
        "    values = [RAW_METADATA[filename_key(f)] for f in filenames]\n",
        "\n",
        "    values = {'id': [filename_key(val['asset']['id']) for val in values],\n",
        "              'fname': [os.path.join(DATA_PATH, filename_key(val['asset']['path'])) for val in values],\n",
        "              'width':[val['asset']['size']['width'] for val in values],\n",
        "              'height':[val['asset']['size']['height'] for val in values],\n",
        "              # xywh to yxyx conversion ?\n",
        "              # internal box format: x1 y1 x2 y2 in pixel coordinates\n",
        "              'boxes': tf.ragged.constant([[(item['boundingBox']['left'],\n",
        "                                             item['boundingBox']['top'],\n",
        "                                             item['boundingBox']['left']+item['boundingBox']['width'],\n",
        "                                             item['boundingBox']['top']+item['boundingBox']['height']) \n",
        "                                            for item in val['regions']] for val in values], ragged_rank=1), # must specify ragged rank, othewise tf.ragged.constant\n",
        "                                                                               # does not detect that the last dim is 4 [x1 y1 x2 y2]\n",
        "               'tags': tf.ragged.constant([[item['tags'] for item in val['regions']] for val in values]),\n",
        "               'classes': tf.ragged.constant([[[CLASSES.index(tag) for tag in item['tags'] if tag in CLASSES] for item in val['regions']] for val in values])\n",
        "              }\n",
        "\n",
        "    metadataset = tf.data.Dataset.from_tensor_slices(values)\n",
        "    return metadataset"
      ],
      "metadata": {
        "id": "TROu85Ab6I57"
      },
      "execution_count": 13,
      "outputs": []
    },
    {
      "cell_type": "code",
      "source": [
        "def decode_img(metadata):\n",
        "    compressed_data = tf.io.read_file(metadata['fname'])\n",
        "    image = tf.image.decode_jpeg(compressed_data, channels=3)\n",
        "    image = tf.image.convert_image_dtype(image, tf.float32) # convert from uint8 [0,255] float [0,1)\n",
        "    return image, metadata\n",
        "\n",
        "def keep_one_tag_per_box(tags):\n",
        "    # Keeping first tag only. Other tags are not bug names but qualifiesrs like '_truncated', '_blurred', '_occluded'\n",
        "    # Input: one tag list per box: ex: [['Odonata', '_blurred'], ['Hymenoptera']] for 2 boxes\n",
        "    # This works for 0 boxes (tested)\n",
        "    tags = tags[:, 0:1] # Cannot index into ragged dimension, must do this.\n",
        "    tags = tags.merge_dims(-2,-1) # equivalent to tf.squeeze(tags, axis=-1) for ragged tensor\n",
        "    return tags\n",
        "\n",
        "# Resize images to MAX_WIDTH if they are larger. Adjust bounding boxes accordingly.\n",
        "def resize_image_and_boxes(im, metadata):\n",
        "    boxes = tf.cast(metadata['boxes'], tf.float32) # the number of boxes is ragged but for one image it is constant\n",
        "    image_size = tf.stack([metadata['width'], metadata['height']])\n",
        "    \n",
        "    scale_factor = tf.cast(TARGET_WIDTH, tf.float32) / tf.cast(image_size[0], tf.float32)\n",
        "    scale_factor = tf.math.minimum(scale_factor, 1.0)\n",
        "    new_image_size = tf.stack([tf.math.round(scale_factor * tf.cast(image_size[0], tf.float32)), \n",
        "                                tf.math.round(scale_factor * tf.cast(image_size[1], tf.float32))])\n",
        "    # resize image\n",
        "    im = tf.image.resize(im, tf.stack([image_size[1], TARGET_WIDTH]), preserve_aspect_ratio=True)\n",
        "    \n",
        "    # resize boxes\n",
        "    boxes = box.scale_rois(boxes, tf.math.reciprocal(tf.cast(image_size, tf.float32)))\n",
        "    boxes = box.scale_rois(boxes, new_image_size)\n",
        "    #boxes = tf.cast(tf.round(boxes), tf.int32)\n",
        "    \n",
        "    # metadata\n",
        "    new_image_size = tf.cast(new_image_size, tf.int32)\n",
        "    classes = metadata['classes']\n",
        "    tags = metadata['tags']\n",
        "    ids = metadata['id'] \n",
        "    \n",
        "    return im, new_image_size, ids, boxes, tags, classes"
      ],
      "metadata": {
        "id": "eefp9xig6gWk"
      },
      "execution_count": 14,
      "outputs": []
    },
    {
      "cell_type": "code",
      "source": [
        "#filenames = JPEG_FILENAMES\n",
        "#filenames = alt_pics\n",
        "filenames = (oddities+oddities2).copy()\n",
        "np.random.shuffle(filenames)\n",
        "\n",
        "metadataset = metadataset_from_image_filenames(filenames)\n",
        "dataset = metadataset.map(decode_img, num_parallel_calls=AUTO)\n",
        "dataset = dataset.map(resize_image_and_boxes, num_parallel_calls=AUTO)\n",
        "\n",
        "dataset_iterator = iter(dataset.apply(tf.data.experimental.dense_to_ragged_batch(4)))"
      ],
      "metadata": {
        "id": "4OEPiMtX6k7t",
        "colab": {
          "base_uri": "https://localhost:8080/",
          "height": 536
        },
        "outputId": "95bbc619-75e1-4006-e579-100ee69544a8"
      },
      "execution_count": 15,
      "outputs": [
        {
          "output_type": "error",
          "ename": "AttributeError",
          "evalue": "ignored",
          "traceback": [
            "\u001b[0;31m---------------------------------------------------------------------------\u001b[0m",
            "\u001b[0;31mAttributeError\u001b[0m                            Traceback (most recent call last)",
            "\u001b[0;32m<ipython-input-15-51ed4c4fe757>\u001b[0m in \u001b[0;36m<module>\u001b[0;34m\u001b[0m\n\u001b[1;32m      6\u001b[0m \u001b[0mmetadataset\u001b[0m \u001b[0;34m=\u001b[0m \u001b[0mmetadataset_from_image_filenames\u001b[0m\u001b[0;34m(\u001b[0m\u001b[0mfilenames\u001b[0m\u001b[0;34m)\u001b[0m\u001b[0;34m\u001b[0m\u001b[0;34m\u001b[0m\u001b[0m\n\u001b[1;32m      7\u001b[0m \u001b[0mdataset\u001b[0m \u001b[0;34m=\u001b[0m \u001b[0mmetadataset\u001b[0m\u001b[0;34m.\u001b[0m\u001b[0mmap\u001b[0m\u001b[0;34m(\u001b[0m\u001b[0mdecode_img\u001b[0m\u001b[0;34m,\u001b[0m \u001b[0mnum_parallel_calls\u001b[0m\u001b[0;34m=\u001b[0m\u001b[0mAUTO\u001b[0m\u001b[0;34m)\u001b[0m\u001b[0;34m\u001b[0m\u001b[0;34m\u001b[0m\u001b[0m\n\u001b[0;32m----> 8\u001b[0;31m \u001b[0mdataset\u001b[0m \u001b[0;34m=\u001b[0m \u001b[0mdataset\u001b[0m\u001b[0;34m.\u001b[0m\u001b[0mmap\u001b[0m\u001b[0;34m(\u001b[0m\u001b[0mresize_image_and_boxes\u001b[0m\u001b[0;34m,\u001b[0m \u001b[0mnum_parallel_calls\u001b[0m\u001b[0;34m=\u001b[0m\u001b[0mAUTO\u001b[0m\u001b[0;34m)\u001b[0m\u001b[0;34m\u001b[0m\u001b[0;34m\u001b[0m\u001b[0m\n\u001b[0m\u001b[1;32m      9\u001b[0m \u001b[0;34m\u001b[0m\u001b[0m\n\u001b[1;32m     10\u001b[0m \u001b[0mdataset_iterator\u001b[0m \u001b[0;34m=\u001b[0m \u001b[0miter\u001b[0m\u001b[0;34m(\u001b[0m\u001b[0mdataset\u001b[0m\u001b[0;34m.\u001b[0m\u001b[0mapply\u001b[0m\u001b[0;34m(\u001b[0m\u001b[0mtf\u001b[0m\u001b[0;34m.\u001b[0m\u001b[0mdata\u001b[0m\u001b[0;34m.\u001b[0m\u001b[0mexperimental\u001b[0m\u001b[0;34m.\u001b[0m\u001b[0mdense_to_ragged_batch\u001b[0m\u001b[0;34m(\u001b[0m\u001b[0;36m4\u001b[0m\u001b[0;34m)\u001b[0m\u001b[0;34m)\u001b[0m\u001b[0;34m)\u001b[0m\u001b[0;34m\u001b[0m\u001b[0;34m\u001b[0m\u001b[0m\n",
            "\u001b[0;32m/usr/local/lib/python3.7/dist-packages/tensorflow/python/data/ops/dataset_ops.py\u001b[0m in \u001b[0;36mmap\u001b[0;34m(self, map_func, num_parallel_calls, deterministic, name)\u001b[0m\n\u001b[1;32m   2054\u001b[0m           \u001b[0mdeterministic\u001b[0m\u001b[0;34m,\u001b[0m\u001b[0;34m\u001b[0m\u001b[0;34m\u001b[0m\u001b[0m\n\u001b[1;32m   2055\u001b[0m           \u001b[0mpreserve_cardinality\u001b[0m\u001b[0;34m=\u001b[0m\u001b[0;32mTrue\u001b[0m\u001b[0;34m,\u001b[0m\u001b[0;34m\u001b[0m\u001b[0;34m\u001b[0m\u001b[0m\n\u001b[0;32m-> 2056\u001b[0;31m           name=name)\n\u001b[0m\u001b[1;32m   2057\u001b[0m \u001b[0;34m\u001b[0m\u001b[0m\n\u001b[1;32m   2058\u001b[0m   \u001b[0;32mdef\u001b[0m \u001b[0mflat_map\u001b[0m\u001b[0;34m(\u001b[0m\u001b[0mself\u001b[0m\u001b[0;34m,\u001b[0m \u001b[0mmap_func\u001b[0m\u001b[0;34m,\u001b[0m \u001b[0mname\u001b[0m\u001b[0;34m=\u001b[0m\u001b[0;32mNone\u001b[0m\u001b[0;34m)\u001b[0m\u001b[0;34m:\u001b[0m\u001b[0;34m\u001b[0m\u001b[0;34m\u001b[0m\u001b[0m\n",
            "\u001b[0;32m/usr/local/lib/python3.7/dist-packages/tensorflow/python/data/ops/dataset_ops.py\u001b[0m in \u001b[0;36m__init__\u001b[0;34m(self, input_dataset, map_func, num_parallel_calls, deterministic, use_inter_op_parallelism, preserve_cardinality, use_legacy_function, name)\u001b[0m\n\u001b[1;32m   5286\u001b[0m         \u001b[0mself\u001b[0m\u001b[0;34m.\u001b[0m\u001b[0m_transformation_name\u001b[0m\u001b[0;34m(\u001b[0m\u001b[0;34m)\u001b[0m\u001b[0;34m,\u001b[0m\u001b[0;34m\u001b[0m\u001b[0;34m\u001b[0m\u001b[0m\n\u001b[1;32m   5287\u001b[0m         \u001b[0mdataset\u001b[0m\u001b[0;34m=\u001b[0m\u001b[0minput_dataset\u001b[0m\u001b[0;34m,\u001b[0m\u001b[0;34m\u001b[0m\u001b[0;34m\u001b[0m\u001b[0m\n\u001b[0;32m-> 5288\u001b[0;31m         use_legacy_function=use_legacy_function)\n\u001b[0m\u001b[1;32m   5289\u001b[0m     \u001b[0;32mif\u001b[0m \u001b[0mdeterministic\u001b[0m \u001b[0;32mis\u001b[0m \u001b[0;32mNone\u001b[0m\u001b[0;34m:\u001b[0m\u001b[0;34m\u001b[0m\u001b[0;34m\u001b[0m\u001b[0m\n\u001b[1;32m   5290\u001b[0m       \u001b[0mself\u001b[0m\u001b[0;34m.\u001b[0m\u001b[0m_deterministic\u001b[0m \u001b[0;34m=\u001b[0m \u001b[0;34m\"default\"\u001b[0m\u001b[0;34m\u001b[0m\u001b[0;34m\u001b[0m\u001b[0m\n",
            "\u001b[0;32m/usr/local/lib/python3.7/dist-packages/tensorflow/python/data/ops/structured_function.py\u001b[0m in \u001b[0;36m__init__\u001b[0;34m(self, func, transformation_name, dataset, input_classes, input_shapes, input_types, input_structure, add_to_graph, use_legacy_function, defun_kwargs)\u001b[0m\n\u001b[1;32m    269\u001b[0m         \u001b[0mfn_factory\u001b[0m \u001b[0;34m=\u001b[0m \u001b[0mtrace_tf_function\u001b[0m\u001b[0;34m(\u001b[0m\u001b[0mdefun_kwargs\u001b[0m\u001b[0;34m)\u001b[0m\u001b[0;34m\u001b[0m\u001b[0;34m\u001b[0m\u001b[0m\n\u001b[1;32m    270\u001b[0m \u001b[0;34m\u001b[0m\u001b[0m\n\u001b[0;32m--> 271\u001b[0;31m     \u001b[0mself\u001b[0m\u001b[0;34m.\u001b[0m\u001b[0m_function\u001b[0m \u001b[0;34m=\u001b[0m \u001b[0mfn_factory\u001b[0m\u001b[0;34m(\u001b[0m\u001b[0;34m)\u001b[0m\u001b[0;34m\u001b[0m\u001b[0;34m\u001b[0m\u001b[0m\n\u001b[0m\u001b[1;32m    272\u001b[0m     \u001b[0;31m# There is no graph to add in eager mode.\u001b[0m\u001b[0;34m\u001b[0m\u001b[0;34m\u001b[0m\u001b[0;34m\u001b[0m\u001b[0m\n\u001b[1;32m    273\u001b[0m     \u001b[0madd_to_graph\u001b[0m \u001b[0;34m&=\u001b[0m \u001b[0;32mnot\u001b[0m \u001b[0mcontext\u001b[0m\u001b[0;34m.\u001b[0m\u001b[0mexecuting_eagerly\u001b[0m\u001b[0;34m(\u001b[0m\u001b[0;34m)\u001b[0m\u001b[0;34m\u001b[0m\u001b[0;34m\u001b[0m\u001b[0m\n",
            "\u001b[0;32m/usr/local/lib/python3.7/dist-packages/tensorflow/python/eager/function.py\u001b[0m in \u001b[0;36mget_concrete_function\u001b[0;34m(self, *args, **kwargs)\u001b[0m\n\u001b[1;32m   2566\u001b[0m     \"\"\"\n\u001b[1;32m   2567\u001b[0m     graph_function = self._get_concrete_function_garbage_collected(\n\u001b[0;32m-> 2568\u001b[0;31m         *args, **kwargs)\n\u001b[0m\u001b[1;32m   2569\u001b[0m     \u001b[0mgraph_function\u001b[0m\u001b[0;34m.\u001b[0m\u001b[0m_garbage_collector\u001b[0m\u001b[0;34m.\u001b[0m\u001b[0mrelease\u001b[0m\u001b[0;34m(\u001b[0m\u001b[0;34m)\u001b[0m  \u001b[0;31m# pylint: disable=protected-access\u001b[0m\u001b[0;34m\u001b[0m\u001b[0;34m\u001b[0m\u001b[0m\n\u001b[1;32m   2570\u001b[0m     \u001b[0;32mreturn\u001b[0m \u001b[0mgraph_function\u001b[0m\u001b[0;34m\u001b[0m\u001b[0;34m\u001b[0m\u001b[0m\n",
            "\u001b[0;32m/usr/local/lib/python3.7/dist-packages/tensorflow/python/eager/function.py\u001b[0m in \u001b[0;36m_get_concrete_function_garbage_collected\u001b[0;34m(self, *args, **kwargs)\u001b[0m\n\u001b[1;32m   2531\u001b[0m       \u001b[0margs\u001b[0m\u001b[0;34m,\u001b[0m \u001b[0mkwargs\u001b[0m \u001b[0;34m=\u001b[0m \u001b[0;32mNone\u001b[0m\u001b[0;34m,\u001b[0m \u001b[0;32mNone\u001b[0m\u001b[0;34m\u001b[0m\u001b[0;34m\u001b[0m\u001b[0m\n\u001b[1;32m   2532\u001b[0m     \u001b[0;32mwith\u001b[0m \u001b[0mself\u001b[0m\u001b[0;34m.\u001b[0m\u001b[0m_lock\u001b[0m\u001b[0;34m:\u001b[0m\u001b[0;34m\u001b[0m\u001b[0;34m\u001b[0m\u001b[0m\n\u001b[0;32m-> 2533\u001b[0;31m       \u001b[0mgraph_function\u001b[0m\u001b[0;34m,\u001b[0m \u001b[0m_\u001b[0m \u001b[0;34m=\u001b[0m \u001b[0mself\u001b[0m\u001b[0;34m.\u001b[0m\u001b[0m_maybe_define_function\u001b[0m\u001b[0;34m(\u001b[0m\u001b[0margs\u001b[0m\u001b[0;34m,\u001b[0m \u001b[0mkwargs\u001b[0m\u001b[0;34m)\u001b[0m\u001b[0;34m\u001b[0m\u001b[0;34m\u001b[0m\u001b[0m\n\u001b[0m\u001b[1;32m   2534\u001b[0m       \u001b[0mseen_names\u001b[0m \u001b[0;34m=\u001b[0m \u001b[0mset\u001b[0m\u001b[0;34m(\u001b[0m\u001b[0;34m)\u001b[0m\u001b[0;34m\u001b[0m\u001b[0;34m\u001b[0m\u001b[0m\n\u001b[1;32m   2535\u001b[0m       captured = object_identity.ObjectIdentitySet(\n",
            "\u001b[0;32m/usr/local/lib/python3.7/dist-packages/tensorflow/python/eager/function.py\u001b[0m in \u001b[0;36m_maybe_define_function\u001b[0;34m(self, args, kwargs)\u001b[0m\n\u001b[1;32m   2709\u001b[0m             \u001b[0;34m(\u001b[0m\u001b[0margs\u001b[0m\u001b[0;34m,\u001b[0m \u001b[0mkwargs\u001b[0m\u001b[0;34m)\u001b[0m \u001b[0;34m=\u001b[0m \u001b[0mcache_key\u001b[0m\u001b[0;34m.\u001b[0m\u001b[0m_placeholder_value\u001b[0m\u001b[0;34m(\u001b[0m\u001b[0;34m)\u001b[0m  \u001b[0;31m# pylint: disable=protected-access\u001b[0m\u001b[0;34m\u001b[0m\u001b[0;34m\u001b[0m\u001b[0m\n\u001b[1;32m   2710\u001b[0m \u001b[0;34m\u001b[0m\u001b[0m\n\u001b[0;32m-> 2711\u001b[0;31m           \u001b[0mgraph_function\u001b[0m \u001b[0;34m=\u001b[0m \u001b[0mself\u001b[0m\u001b[0;34m.\u001b[0m\u001b[0m_create_graph_function\u001b[0m\u001b[0;34m(\u001b[0m\u001b[0margs\u001b[0m\u001b[0;34m,\u001b[0m \u001b[0mkwargs\u001b[0m\u001b[0;34m)\u001b[0m\u001b[0;34m\u001b[0m\u001b[0;34m\u001b[0m\u001b[0m\n\u001b[0m\u001b[1;32m   2712\u001b[0m           self._function_cache.add(cache_key, cache_key_deletion_observer,\n\u001b[1;32m   2713\u001b[0m                                    graph_function)\n",
            "\u001b[0;32m/usr/local/lib/python3.7/dist-packages/tensorflow/python/eager/function.py\u001b[0m in \u001b[0;36m_create_graph_function\u001b[0;34m(self, args, kwargs)\u001b[0m\n\u001b[1;32m   2634\u001b[0m             \u001b[0mautograph_options\u001b[0m\u001b[0;34m=\u001b[0m\u001b[0mself\u001b[0m\u001b[0;34m.\u001b[0m\u001b[0m_autograph_options\u001b[0m\u001b[0;34m,\u001b[0m\u001b[0;34m\u001b[0m\u001b[0;34m\u001b[0m\u001b[0m\n\u001b[1;32m   2635\u001b[0m             \u001b[0marg_names\u001b[0m\u001b[0;34m=\u001b[0m\u001b[0marg_names\u001b[0m\u001b[0;34m,\u001b[0m\u001b[0;34m\u001b[0m\u001b[0;34m\u001b[0m\u001b[0m\n\u001b[0;32m-> 2636\u001b[0;31m             capture_by_value=self._capture_by_value),\n\u001b[0m\u001b[1;32m   2637\u001b[0m         \u001b[0mself\u001b[0m\u001b[0;34m.\u001b[0m\u001b[0m_function_attributes\u001b[0m\u001b[0;34m,\u001b[0m\u001b[0;34m\u001b[0m\u001b[0;34m\u001b[0m\u001b[0m\n\u001b[1;32m   2638\u001b[0m         \u001b[0mspec\u001b[0m\u001b[0;34m=\u001b[0m\u001b[0mself\u001b[0m\u001b[0;34m.\u001b[0m\u001b[0mfunction_spec\u001b[0m\u001b[0;34m,\u001b[0m\u001b[0;34m\u001b[0m\u001b[0;34m\u001b[0m\u001b[0m\n",
            "\u001b[0;32m/usr/local/lib/python3.7/dist-packages/tensorflow/python/framework/func_graph.py\u001b[0m in \u001b[0;36mfunc_graph_from_py_func\u001b[0;34m(name, python_func, args, kwargs, signature, func_graph, autograph, autograph_options, add_control_dependencies, arg_names, op_return_value, collections, capture_by_value, acd_record_initial_resource_uses)\u001b[0m\n\u001b[1;32m   1139\u001b[0m         \u001b[0m_\u001b[0m\u001b[0;34m,\u001b[0m \u001b[0moriginal_func\u001b[0m \u001b[0;34m=\u001b[0m \u001b[0mtf_decorator\u001b[0m\u001b[0;34m.\u001b[0m\u001b[0munwrap\u001b[0m\u001b[0;34m(\u001b[0m\u001b[0mpython_func\u001b[0m\u001b[0;34m)\u001b[0m\u001b[0;34m\u001b[0m\u001b[0;34m\u001b[0m\u001b[0m\n\u001b[1;32m   1140\u001b[0m \u001b[0;34m\u001b[0m\u001b[0m\n\u001b[0;32m-> 1141\u001b[0;31m       \u001b[0mfunc_outputs\u001b[0m \u001b[0;34m=\u001b[0m \u001b[0mpython_func\u001b[0m\u001b[0;34m(\u001b[0m\u001b[0;34m*\u001b[0m\u001b[0mfunc_args\u001b[0m\u001b[0;34m,\u001b[0m \u001b[0;34m**\u001b[0m\u001b[0mfunc_kwargs\u001b[0m\u001b[0;34m)\u001b[0m\u001b[0;34m\u001b[0m\u001b[0;34m\u001b[0m\u001b[0m\n\u001b[0m\u001b[1;32m   1142\u001b[0m \u001b[0;34m\u001b[0m\u001b[0m\n\u001b[1;32m   1143\u001b[0m       \u001b[0;31m# invariant: `func_outputs` contains only Tensors, CompositeTensors,\u001b[0m\u001b[0;34m\u001b[0m\u001b[0;34m\u001b[0m\u001b[0;34m\u001b[0m\u001b[0m\n",
            "\u001b[0;32m/usr/local/lib/python3.7/dist-packages/tensorflow/python/data/ops/structured_function.py\u001b[0m in \u001b[0;36mwrapped_fn\u001b[0;34m(*args)\u001b[0m\n\u001b[1;32m    246\u001b[0m           attributes=defun_kwargs)\n\u001b[1;32m    247\u001b[0m       \u001b[0;32mdef\u001b[0m \u001b[0mwrapped_fn\u001b[0m\u001b[0;34m(\u001b[0m\u001b[0;34m*\u001b[0m\u001b[0margs\u001b[0m\u001b[0;34m)\u001b[0m\u001b[0;34m:\u001b[0m  \u001b[0;31m# pylint: disable=missing-docstring\u001b[0m\u001b[0;34m\u001b[0m\u001b[0;34m\u001b[0m\u001b[0m\n\u001b[0;32m--> 248\u001b[0;31m         \u001b[0mret\u001b[0m \u001b[0;34m=\u001b[0m \u001b[0mwrapper_helper\u001b[0m\u001b[0;34m(\u001b[0m\u001b[0;34m*\u001b[0m\u001b[0margs\u001b[0m\u001b[0;34m)\u001b[0m\u001b[0;34m\u001b[0m\u001b[0;34m\u001b[0m\u001b[0m\n\u001b[0m\u001b[1;32m    249\u001b[0m         \u001b[0mret\u001b[0m \u001b[0;34m=\u001b[0m \u001b[0mstructure\u001b[0m\u001b[0;34m.\u001b[0m\u001b[0mto_tensor_list\u001b[0m\u001b[0;34m(\u001b[0m\u001b[0mself\u001b[0m\u001b[0;34m.\u001b[0m\u001b[0m_output_structure\u001b[0m\u001b[0;34m,\u001b[0m \u001b[0mret\u001b[0m\u001b[0;34m)\u001b[0m\u001b[0;34m\u001b[0m\u001b[0;34m\u001b[0m\u001b[0m\n\u001b[1;32m    250\u001b[0m         \u001b[0;32mreturn\u001b[0m \u001b[0;34m[\u001b[0m\u001b[0mops\u001b[0m\u001b[0;34m.\u001b[0m\u001b[0mconvert_to_tensor\u001b[0m\u001b[0;34m(\u001b[0m\u001b[0mt\u001b[0m\u001b[0;34m)\u001b[0m \u001b[0;32mfor\u001b[0m \u001b[0mt\u001b[0m \u001b[0;32min\u001b[0m \u001b[0mret\u001b[0m\u001b[0;34m]\u001b[0m\u001b[0;34m\u001b[0m\u001b[0;34m\u001b[0m\u001b[0m\n",
            "\u001b[0;32m/usr/local/lib/python3.7/dist-packages/tensorflow/python/data/ops/structured_function.py\u001b[0m in \u001b[0;36mwrapper_helper\u001b[0;34m(*args)\u001b[0m\n\u001b[1;32m    175\u001b[0m       \u001b[0;32mif\u001b[0m \u001b[0;32mnot\u001b[0m \u001b[0m_should_unpack\u001b[0m\u001b[0;34m(\u001b[0m\u001b[0mnested_args\u001b[0m\u001b[0;34m)\u001b[0m\u001b[0;34m:\u001b[0m\u001b[0;34m\u001b[0m\u001b[0;34m\u001b[0m\u001b[0m\n\u001b[1;32m    176\u001b[0m         \u001b[0mnested_args\u001b[0m \u001b[0;34m=\u001b[0m \u001b[0;34m(\u001b[0m\u001b[0mnested_args\u001b[0m\u001b[0;34m,\u001b[0m\u001b[0;34m)\u001b[0m\u001b[0;34m\u001b[0m\u001b[0;34m\u001b[0m\u001b[0m\n\u001b[0;32m--> 177\u001b[0;31m       \u001b[0mret\u001b[0m \u001b[0;34m=\u001b[0m \u001b[0mautograph\u001b[0m\u001b[0;34m.\u001b[0m\u001b[0mtf_convert\u001b[0m\u001b[0;34m(\u001b[0m\u001b[0mself\u001b[0m\u001b[0;34m.\u001b[0m\u001b[0m_func\u001b[0m\u001b[0;34m,\u001b[0m \u001b[0mag_ctx\u001b[0m\u001b[0;34m)\u001b[0m\u001b[0;34m(\u001b[0m\u001b[0;34m*\u001b[0m\u001b[0mnested_args\u001b[0m\u001b[0;34m)\u001b[0m\u001b[0;34m\u001b[0m\u001b[0;34m\u001b[0m\u001b[0m\n\u001b[0m\u001b[1;32m    178\u001b[0m       \u001b[0;32mif\u001b[0m \u001b[0m_should_pack\u001b[0m\u001b[0;34m(\u001b[0m\u001b[0mret\u001b[0m\u001b[0;34m)\u001b[0m\u001b[0;34m:\u001b[0m\u001b[0;34m\u001b[0m\u001b[0;34m\u001b[0m\u001b[0m\n\u001b[1;32m    179\u001b[0m         \u001b[0mret\u001b[0m \u001b[0;34m=\u001b[0m \u001b[0mtuple\u001b[0m\u001b[0;34m(\u001b[0m\u001b[0mret\u001b[0m\u001b[0;34m)\u001b[0m\u001b[0;34m\u001b[0m\u001b[0;34m\u001b[0m\u001b[0m\n",
            "\u001b[0;32m/usr/local/lib/python3.7/dist-packages/tensorflow/python/autograph/impl/api.py\u001b[0m in \u001b[0;36mwrapper\u001b[0;34m(*args, **kwargs)\u001b[0m\n\u001b[1;32m    690\u001b[0m       \u001b[0;32mexcept\u001b[0m \u001b[0mException\u001b[0m \u001b[0;32mas\u001b[0m \u001b[0me\u001b[0m\u001b[0;34m:\u001b[0m  \u001b[0;31m# pylint:disable=broad-except\u001b[0m\u001b[0;34m\u001b[0m\u001b[0;34m\u001b[0m\u001b[0m\n\u001b[1;32m    691\u001b[0m         \u001b[0;32mif\u001b[0m \u001b[0mhasattr\u001b[0m\u001b[0;34m(\u001b[0m\u001b[0me\u001b[0m\u001b[0;34m,\u001b[0m \u001b[0;34m'ag_error_metadata'\u001b[0m\u001b[0;34m)\u001b[0m\u001b[0;34m:\u001b[0m\u001b[0;34m\u001b[0m\u001b[0;34m\u001b[0m\u001b[0m\n\u001b[0;32m--> 692\u001b[0;31m           \u001b[0;32mraise\u001b[0m \u001b[0me\u001b[0m\u001b[0;34m.\u001b[0m\u001b[0mag_error_metadata\u001b[0m\u001b[0;34m.\u001b[0m\u001b[0mto_exception\u001b[0m\u001b[0;34m(\u001b[0m\u001b[0me\u001b[0m\u001b[0;34m)\u001b[0m\u001b[0;34m\u001b[0m\u001b[0;34m\u001b[0m\u001b[0m\n\u001b[0m\u001b[1;32m    693\u001b[0m         \u001b[0;32melse\u001b[0m\u001b[0;34m:\u001b[0m\u001b[0;34m\u001b[0m\u001b[0;34m\u001b[0m\u001b[0m\n\u001b[1;32m    694\u001b[0m           \u001b[0;32mraise\u001b[0m\u001b[0;34m\u001b[0m\u001b[0;34m\u001b[0m\u001b[0m\n",
            "\u001b[0;32m/usr/local/lib/python3.7/dist-packages/tensorflow/python/autograph/impl/api.py\u001b[0m in \u001b[0;36mwrapper\u001b[0;34m(*args, **kwargs)\u001b[0m\n\u001b[1;32m    687\u001b[0m       \u001b[0;32mtry\u001b[0m\u001b[0;34m:\u001b[0m\u001b[0;34m\u001b[0m\u001b[0;34m\u001b[0m\u001b[0m\n\u001b[1;32m    688\u001b[0m         \u001b[0;32mwith\u001b[0m \u001b[0mconversion_ctx\u001b[0m\u001b[0;34m:\u001b[0m\u001b[0;34m\u001b[0m\u001b[0;34m\u001b[0m\u001b[0m\n\u001b[0;32m--> 689\u001b[0;31m           \u001b[0;32mreturn\u001b[0m \u001b[0mconverted_call\u001b[0m\u001b[0;34m(\u001b[0m\u001b[0mf\u001b[0m\u001b[0;34m,\u001b[0m \u001b[0margs\u001b[0m\u001b[0;34m,\u001b[0m \u001b[0mkwargs\u001b[0m\u001b[0;34m,\u001b[0m \u001b[0moptions\u001b[0m\u001b[0;34m=\u001b[0m\u001b[0moptions\u001b[0m\u001b[0;34m)\u001b[0m\u001b[0;34m\u001b[0m\u001b[0;34m\u001b[0m\u001b[0m\n\u001b[0m\u001b[1;32m    690\u001b[0m       \u001b[0;32mexcept\u001b[0m \u001b[0mException\u001b[0m \u001b[0;32mas\u001b[0m \u001b[0me\u001b[0m\u001b[0;34m:\u001b[0m  \u001b[0;31m# pylint:disable=broad-except\u001b[0m\u001b[0;34m\u001b[0m\u001b[0;34m\u001b[0m\u001b[0m\n\u001b[1;32m    691\u001b[0m         \u001b[0;32mif\u001b[0m \u001b[0mhasattr\u001b[0m\u001b[0;34m(\u001b[0m\u001b[0me\u001b[0m\u001b[0;34m,\u001b[0m \u001b[0;34m'ag_error_metadata'\u001b[0m\u001b[0;34m)\u001b[0m\u001b[0;34m:\u001b[0m\u001b[0;34m\u001b[0m\u001b[0;34m\u001b[0m\u001b[0m\n",
            "\u001b[0;32m/usr/local/lib/python3.7/dist-packages/tensorflow/python/autograph/impl/api.py\u001b[0m in \u001b[0;36mconverted_call\u001b[0;34m(f, args, kwargs, caller_fn_scope, options)\u001b[0m\n\u001b[1;32m    437\u001b[0m     \u001b[0;32mtry\u001b[0m\u001b[0;34m:\u001b[0m\u001b[0;34m\u001b[0m\u001b[0;34m\u001b[0m\u001b[0m\n\u001b[1;32m    438\u001b[0m       \u001b[0;32mif\u001b[0m \u001b[0mkwargs\u001b[0m \u001b[0;32mis\u001b[0m \u001b[0;32mnot\u001b[0m \u001b[0;32mNone\u001b[0m\u001b[0;34m:\u001b[0m\u001b[0;34m\u001b[0m\u001b[0;34m\u001b[0m\u001b[0m\n\u001b[0;32m--> 439\u001b[0;31m         \u001b[0mresult\u001b[0m \u001b[0;34m=\u001b[0m \u001b[0mconverted_f\u001b[0m\u001b[0;34m(\u001b[0m\u001b[0;34m*\u001b[0m\u001b[0meffective_args\u001b[0m\u001b[0;34m,\u001b[0m \u001b[0;34m**\u001b[0m\u001b[0mkwargs\u001b[0m\u001b[0;34m)\u001b[0m\u001b[0;34m\u001b[0m\u001b[0;34m\u001b[0m\u001b[0m\n\u001b[0m\u001b[1;32m    440\u001b[0m       \u001b[0;32melse\u001b[0m\u001b[0;34m:\u001b[0m\u001b[0;34m\u001b[0m\u001b[0;34m\u001b[0m\u001b[0m\n\u001b[1;32m    441\u001b[0m         \u001b[0mresult\u001b[0m \u001b[0;34m=\u001b[0m \u001b[0mconverted_f\u001b[0m\u001b[0;34m(\u001b[0m\u001b[0;34m*\u001b[0m\u001b[0meffective_args\u001b[0m\u001b[0;34m)\u001b[0m\u001b[0;34m\u001b[0m\u001b[0;34m\u001b[0m\u001b[0m\n",
            "\u001b[0;32m/tmp/__autograph_generated_file8mq6yco_.py\u001b[0m in \u001b[0;36mtf__resize_image_and_boxes\u001b[0;34m(im, metadata)\u001b[0m\n\u001b[1;32m     14\u001b[0m                 \u001b[0mnew_image_size\u001b[0m \u001b[0;34m=\u001b[0m \u001b[0mag__\u001b[0m\u001b[0;34m.\u001b[0m\u001b[0mconverted_call\u001b[0m\u001b[0;34m(\u001b[0m\u001b[0mag__\u001b[0m\u001b[0;34m.\u001b[0m\u001b[0mld\u001b[0m\u001b[0;34m(\u001b[0m\u001b[0mtf\u001b[0m\u001b[0;34m)\u001b[0m\u001b[0;34m.\u001b[0m\u001b[0mstack\u001b[0m\u001b[0;34m,\u001b[0m \u001b[0;34m(\u001b[0m\u001b[0;34m[\u001b[0m\u001b[0mag__\u001b[0m\u001b[0;34m.\u001b[0m\u001b[0mconverted_call\u001b[0m\u001b[0;34m(\u001b[0m\u001b[0mag__\u001b[0m\u001b[0;34m.\u001b[0m\u001b[0mld\u001b[0m\u001b[0;34m(\u001b[0m\u001b[0mtf\u001b[0m\u001b[0;34m)\u001b[0m\u001b[0;34m.\u001b[0m\u001b[0mmath\u001b[0m\u001b[0;34m.\u001b[0m\u001b[0mround\u001b[0m\u001b[0;34m,\u001b[0m \u001b[0;34m(\u001b[0m\u001b[0;34m(\u001b[0m\u001b[0mag__\u001b[0m\u001b[0;34m.\u001b[0m\u001b[0mld\u001b[0m\u001b[0;34m(\u001b[0m\u001b[0mscale_factor\u001b[0m\u001b[0;34m)\u001b[0m \u001b[0;34m*\u001b[0m \u001b[0mag__\u001b[0m\u001b[0;34m.\u001b[0m\u001b[0mconverted_call\u001b[0m\u001b[0;34m(\u001b[0m\u001b[0mag__\u001b[0m\u001b[0;34m.\u001b[0m\u001b[0mld\u001b[0m\u001b[0;34m(\u001b[0m\u001b[0mtf\u001b[0m\u001b[0;34m)\u001b[0m\u001b[0;34m.\u001b[0m\u001b[0mcast\u001b[0m\u001b[0;34m,\u001b[0m \u001b[0;34m(\u001b[0m\u001b[0mag__\u001b[0m\u001b[0;34m.\u001b[0m\u001b[0mld\u001b[0m\u001b[0;34m(\u001b[0m\u001b[0mimage_size\u001b[0m\u001b[0;34m)\u001b[0m\u001b[0;34m[\u001b[0m\u001b[0;36m0\u001b[0m\u001b[0;34m]\u001b[0m\u001b[0;34m,\u001b[0m \u001b[0mag__\u001b[0m\u001b[0;34m.\u001b[0m\u001b[0mld\u001b[0m\u001b[0;34m(\u001b[0m\u001b[0mtf\u001b[0m\u001b[0;34m)\u001b[0m\u001b[0;34m.\u001b[0m\u001b[0mfloat32\u001b[0m\u001b[0;34m)\u001b[0m\u001b[0;34m,\u001b[0m \u001b[0;32mNone\u001b[0m\u001b[0;34m,\u001b[0m \u001b[0mfscope\u001b[0m\u001b[0;34m)\u001b[0m\u001b[0;34m)\u001b[0m\u001b[0;34m,\u001b[0m\u001b[0;34m)\u001b[0m\u001b[0;34m,\u001b[0m \u001b[0;32mNone\u001b[0m\u001b[0;34m,\u001b[0m \u001b[0mfscope\u001b[0m\u001b[0;34m)\u001b[0m\u001b[0;34m,\u001b[0m \u001b[0mag__\u001b[0m\u001b[0;34m.\u001b[0m\u001b[0mconverted_call\u001b[0m\u001b[0;34m(\u001b[0m\u001b[0mag__\u001b[0m\u001b[0;34m.\u001b[0m\u001b[0mld\u001b[0m\u001b[0;34m(\u001b[0m\u001b[0mtf\u001b[0m\u001b[0;34m)\u001b[0m\u001b[0;34m.\u001b[0m\u001b[0mmath\u001b[0m\u001b[0;34m.\u001b[0m\u001b[0mround\u001b[0m\u001b[0;34m,\u001b[0m \u001b[0;34m(\u001b[0m\u001b[0;34m(\u001b[0m\u001b[0mag__\u001b[0m\u001b[0;34m.\u001b[0m\u001b[0mld\u001b[0m\u001b[0;34m(\u001b[0m\u001b[0mscale_factor\u001b[0m\u001b[0;34m)\u001b[0m \u001b[0;34m*\u001b[0m \u001b[0mag__\u001b[0m\u001b[0;34m.\u001b[0m\u001b[0mconverted_ca...\n\u001b[1;32m     15\u001b[0m                 \u001b[0mim\u001b[0m \u001b[0;34m=\u001b[0m \u001b[0mag__\u001b[0m\u001b[0;34m.\u001b[0m\u001b[0mconverted_call\u001b[0m\u001b[0;34m(\u001b[0m\u001b[0mag__\u001b[0m\u001b[0;34m.\u001b[0m\u001b[0mld\u001b[0m\u001b[0;34m(\u001b[0m\u001b[0mtf\u001b[0m\u001b[0;34m)\u001b[0m\u001b[0;34m.\u001b[0m\u001b[0mimage\u001b[0m\u001b[0;34m.\u001b[0m\u001b[0mresize\u001b[0m\u001b[0;34m,\u001b[0m \u001b[0;34m(\u001b[0m\u001b[0mag__\u001b[0m\u001b[0;34m.\u001b[0m\u001b[0mld\u001b[0m\u001b[0;34m(\u001b[0m\u001b[0mim\u001b[0m\u001b[0;34m)\u001b[0m\u001b[0;34m,\u001b[0m \u001b[0mag__\u001b[0m\u001b[0;34m.\u001b[0m\u001b[0mconverted_call\u001b[0m\u001b[0;34m(\u001b[0m\u001b[0mag__\u001b[0m\u001b[0;34m.\u001b[0m\u001b[0mld\u001b[0m\u001b[0;34m(\u001b[0m\u001b[0mtf\u001b[0m\u001b[0;34m)\u001b[0m\u001b[0;34m.\u001b[0m\u001b[0mstack\u001b[0m\u001b[0;34m,\u001b[0m \u001b[0;34m(\u001b[0m\u001b[0;34m[\u001b[0m\u001b[0mag__\u001b[0m\u001b[0;34m.\u001b[0m\u001b[0mld\u001b[0m\u001b[0;34m(\u001b[0m\u001b[0mimage_size\u001b[0m\u001b[0;34m)\u001b[0m\u001b[0;34m[\u001b[0m\u001b[0;36m1\u001b[0m\u001b[0;34m]\u001b[0m\u001b[0;34m,\u001b[0m \u001b[0mag__\u001b[0m\u001b[0;34m.\u001b[0m\u001b[0mld\u001b[0m\u001b[0;34m(\u001b[0m\u001b[0mTARGET_WIDTH\u001b[0m\u001b[0;34m)\u001b[0m\u001b[0;34m]\u001b[0m\u001b[0;34m,\u001b[0m\u001b[0;34m)\u001b[0m\u001b[0;34m,\u001b[0m \u001b[0;32mNone\u001b[0m\u001b[0;34m,\u001b[0m \u001b[0mfscope\u001b[0m\u001b[0;34m)\u001b[0m\u001b[0;34m)\u001b[0m\u001b[0;34m,\u001b[0m \u001b[0mdict\u001b[0m\u001b[0;34m(\u001b[0m\u001b[0mpreserve_aspect_ratio\u001b[0m\u001b[0;34m=\u001b[0m\u001b[0;32mTrue\u001b[0m\u001b[0;34m)\u001b[0m\u001b[0;34m,\u001b[0m \u001b[0mfscope\u001b[0m\u001b[0;34m)\u001b[0m\u001b[0;34m\u001b[0m\u001b[0;34m\u001b[0m\u001b[0m\n\u001b[0;32m---> 16\u001b[0;31m                 \u001b[0mboxes\u001b[0m \u001b[0;34m=\u001b[0m \u001b[0mag__\u001b[0m\u001b[0;34m.\u001b[0m\u001b[0mconverted_call\u001b[0m\u001b[0;34m(\u001b[0m\u001b[0mag__\u001b[0m\u001b[0;34m.\u001b[0m\u001b[0mld\u001b[0m\u001b[0;34m(\u001b[0m\u001b[0mbox\u001b[0m\u001b[0;34m)\u001b[0m\u001b[0;34m.\u001b[0m\u001b[0mscale_rois\u001b[0m\u001b[0;34m,\u001b[0m \u001b[0;34m(\u001b[0m\u001b[0mag__\u001b[0m\u001b[0;34m.\u001b[0m\u001b[0mld\u001b[0m\u001b[0;34m(\u001b[0m\u001b[0mboxes\u001b[0m\u001b[0;34m)\u001b[0m\u001b[0;34m,\u001b[0m \u001b[0mag__\u001b[0m\u001b[0;34m.\u001b[0m\u001b[0mconverted_call\u001b[0m\u001b[0;34m(\u001b[0m\u001b[0mag__\u001b[0m\u001b[0;34m.\u001b[0m\u001b[0mld\u001b[0m\u001b[0;34m(\u001b[0m\u001b[0mtf\u001b[0m\u001b[0;34m)\u001b[0m\u001b[0;34m.\u001b[0m\u001b[0mmath\u001b[0m\u001b[0;34m.\u001b[0m\u001b[0mreciprocal\u001b[0m\u001b[0;34m,\u001b[0m \u001b[0;34m(\u001b[0m\u001b[0mag__\u001b[0m\u001b[0;34m.\u001b[0m\u001b[0mconverted_call\u001b[0m\u001b[0;34m(\u001b[0m\u001b[0mag__\u001b[0m\u001b[0;34m.\u001b[0m\u001b[0mld\u001b[0m\u001b[0;34m(\u001b[0m\u001b[0mtf\u001b[0m\u001b[0;34m)\u001b[0m\u001b[0;34m.\u001b[0m\u001b[0mcast\u001b[0m\u001b[0;34m,\u001b[0m \u001b[0;34m(\u001b[0m\u001b[0mag__\u001b[0m\u001b[0;34m.\u001b[0m\u001b[0mld\u001b[0m\u001b[0;34m(\u001b[0m\u001b[0mimage_size\u001b[0m\u001b[0;34m)\u001b[0m\u001b[0;34m,\u001b[0m \u001b[0mag__\u001b[0m\u001b[0;34m.\u001b[0m\u001b[0mld\u001b[0m\u001b[0;34m(\u001b[0m\u001b[0mtf\u001b[0m\u001b[0;34m)\u001b[0m\u001b[0;34m.\u001b[0m\u001b[0mfloat32\u001b[0m\u001b[0;34m)\u001b[0m\u001b[0;34m,\u001b[0m \u001b[0;32mNone\u001b[0m\u001b[0;34m,\u001b[0m \u001b[0mfscope\u001b[0m\u001b[0;34m)\u001b[0m\u001b[0;34m,\u001b[0m\u001b[0;34m)\u001b[0m\u001b[0;34m,\u001b[0m \u001b[0;32mNone\u001b[0m\u001b[0;34m,\u001b[0m \u001b[0mfscope\u001b[0m\u001b[0;34m)\u001b[0m\u001b[0;34m)\u001b[0m\u001b[0;34m,\u001b[0m \u001b[0;32mNone\u001b[0m\u001b[0;34m,\u001b[0m \u001b[0mfscope\u001b[0m\u001b[0;34m)\u001b[0m\u001b[0;34m\u001b[0m\u001b[0;34m\u001b[0m\u001b[0m\n\u001b[0m\u001b[1;32m     17\u001b[0m                 \u001b[0mboxes\u001b[0m \u001b[0;34m=\u001b[0m \u001b[0mag__\u001b[0m\u001b[0;34m.\u001b[0m\u001b[0mconverted_call\u001b[0m\u001b[0;34m(\u001b[0m\u001b[0mag__\u001b[0m\u001b[0;34m.\u001b[0m\u001b[0mld\u001b[0m\u001b[0;34m(\u001b[0m\u001b[0mbox\u001b[0m\u001b[0;34m)\u001b[0m\u001b[0;34m.\u001b[0m\u001b[0mscale_rois\u001b[0m\u001b[0;34m,\u001b[0m \u001b[0;34m(\u001b[0m\u001b[0mag__\u001b[0m\u001b[0;34m.\u001b[0m\u001b[0mld\u001b[0m\u001b[0;34m(\u001b[0m\u001b[0mboxes\u001b[0m\u001b[0;34m)\u001b[0m\u001b[0;34m,\u001b[0m \u001b[0mag__\u001b[0m\u001b[0;34m.\u001b[0m\u001b[0mld\u001b[0m\u001b[0;34m(\u001b[0m\u001b[0mnew_image_size\u001b[0m\u001b[0;34m)\u001b[0m\u001b[0;34m)\u001b[0m\u001b[0;34m,\u001b[0m \u001b[0;32mNone\u001b[0m\u001b[0;34m,\u001b[0m \u001b[0mfscope\u001b[0m\u001b[0;34m)\u001b[0m\u001b[0;34m\u001b[0m\u001b[0;34m\u001b[0m\u001b[0m\n\u001b[1;32m     18\u001b[0m                 \u001b[0mnew_image_size\u001b[0m \u001b[0;34m=\u001b[0m \u001b[0mag__\u001b[0m\u001b[0;34m.\u001b[0m\u001b[0mconverted_call\u001b[0m\u001b[0;34m(\u001b[0m\u001b[0mag__\u001b[0m\u001b[0;34m.\u001b[0m\u001b[0mld\u001b[0m\u001b[0;34m(\u001b[0m\u001b[0mtf\u001b[0m\u001b[0;34m)\u001b[0m\u001b[0;34m.\u001b[0m\u001b[0mcast\u001b[0m\u001b[0;34m,\u001b[0m \u001b[0;34m(\u001b[0m\u001b[0mag__\u001b[0m\u001b[0;34m.\u001b[0m\u001b[0mld\u001b[0m\u001b[0;34m(\u001b[0m\u001b[0mnew_image_size\u001b[0m\u001b[0;34m)\u001b[0m\u001b[0;34m,\u001b[0m \u001b[0mag__\u001b[0m\u001b[0;34m.\u001b[0m\u001b[0mld\u001b[0m\u001b[0;34m(\u001b[0m\u001b[0mtf\u001b[0m\u001b[0;34m)\u001b[0m\u001b[0;34m.\u001b[0m\u001b[0mint32\u001b[0m\u001b[0;34m)\u001b[0m\u001b[0;34m,\u001b[0m \u001b[0;32mNone\u001b[0m\u001b[0;34m,\u001b[0m \u001b[0mfscope\u001b[0m\u001b[0;34m)\u001b[0m\u001b[0;34m\u001b[0m\u001b[0;34m\u001b[0m\u001b[0m\n",
            "\u001b[0;31mAttributeError\u001b[0m: in user code:\n\n    File \"<ipython-input-14-7af039ff5565>\", line 28, in resize_image_and_boxes  *\n        boxes = box.scale_rois(boxes, tf.math.reciprocal(tf.cast(image_size, tf.float32)))\n\n    AttributeError: module 'official.vision.ops.box_ops' has no attribute 'scale_rois'\n"
          ]
        }
      ]
    },
    {
      "cell_type": "code",
      "source": [
        "images, new_image_size, names, boxes, tags, classes  = next(dataset_iterator)\n",
        "images = [im.numpy() for im in images] # must do this for ragged\n",
        "classes = [[classlist[0] for classlist in detection] for detection in classes] # keep first class only\n",
        "display_with_boxes(images, boxes, classes, None, CLASSES, ground_truth_boxes=[])"
      ],
      "metadata": {
        "id": "C7mfFDxK6np0"
      },
      "execution_count": null,
      "outputs": []
    },
    {
      "cell_type": "code",
      "source": [
        "filenames_to_process = JPEG_FILENAMES.copy()\n",
        "\n",
        "OUTPUT_DIR = '../../arthropod-data-tfrec'\n",
        "OUTPUT_NAME_PREFIX = 'arthropods_'\n",
        "\n",
        "print(\"TFRecords output directory:\", OUTPUT_DIR) \n",
        "print(\"Images resizing target size:\", TARGET_WIDTH, 'px')\n",
        "print(\"Number of images:\", len(filenames_to_process))\n",
        "NB_SHARDS = -(-len(filenames_to_process)//IMAGES_PER_SHARD) # -- trick rounds up\n",
        "print(f\"Output sharded into {NB_SHARDS} files with {IMAGES_PER_SHARD} images per file, {len(filenames_to_process)-(NB_SHARDS-1)*IMAGES_PER_SHARD} images in last file\")"
      ],
      "metadata": {
        "id": "EC7AJ4HWBcES"
      },
      "execution_count": null,
      "outputs": []
    },
    {
      "cell_type": "code",
      "source": [
        "# TFRecord helper functions\n",
        "def _bytes_feature(value):\n",
        "    return tf.train.Feature(bytes_list=tf.train.BytesList(value=value)) # WARNING: this expects a list of byte strings, not a list of bytes!\n",
        "def _float_feature(value):\n",
        "    return tf.train.Feature(float_list=tf.train.FloatList(value=value))\n",
        "def _int_feature(value):\n",
        "    return tf.train.Feature(int64_list=tf.train.Int64List(value=value))\n",
        "\n",
        "def to_tfrecord(tfrec_filewriter, img_bytes, width, height, ids, boxes, labels):\n",
        "    feature = {\n",
        "        \"image/encoded\": _bytes_feature([img_bytes]), # compressed image bytes\n",
        "        \"image/source_id\": _bytes_feature([ids]),    # string\n",
        "        \"image/width\": _int_feature([width]),         # image width\n",
        "        \"image/height\": _int_feature([height]),       # image height\n",
        "        \"image/object/bbox/xmin\": _float_feature(boxes[:,0]),\n",
        "        \"image/object/bbox/ymin\": _float_feature(boxes[:,1]),\n",
        "        \"image/object/bbox/xmax\": _float_feature(boxes[:,2]),\n",
        "        \"image/object/bbox/ymax\": _float_feature(boxes[:,3]),\n",
        "        #\"nb_tags\": _int_feature(nb_tags),     # nb of tags per box\n",
        "        \"image/object/class/label\": _int_feature(labels) # flat list of labels\n",
        "    }\n",
        "    return tf.train.Example(features=tf.train.Features(feature=feature))\n",
        "\n",
        "def recompress_jpeg(image):\n",
        "    image = tf.image.convert_image_dtype(image, tf.uint8) # convert from float [0,1) to uint8 [0,255]\n",
        "    return tf.image.encode_jpeg(image, optimize_size=True, chroma_downsampling=False)\n",
        "\n",
        "# Model Garden specific format adjustments\n",
        "\n",
        "# Model Garden models expect normalized box coordinates in [0..1] range\n",
        "def normalize_boxes(boxes, image_size):\n",
        "    boxes = box.scale_rois(boxes, tf.math.reciprocal(tf.cast(image_size, tf.float32)))\n",
        "    return boxes\n",
        "\n",
        "# Model Garden models expect target classes to be 1-based because they reserve class 0 for backgrounds.\n",
        "def labels_1_based(labels):\n",
        "    return labels+1"
      ],
      "metadata": {
        "id": "q0Telv4YBi3D"
      },
      "execution_count": null,
      "outputs": []
    },
    {
      "cell_type": "code",
      "source": [
        "np.random.shuffle(filenames_to_process)\n",
        "metadataset = metadataset_from_image_filenames(filenames_to_process)\n",
        "dataset = metadataset.map(decode_img, num_parallel_calls=AUTO)\n",
        "dataset = dataset.map(resize_image_and_boxes, num_parallel_calls=AUTO)\n",
        "\n",
        "# apply the Model Garden specific format adjustments\n",
        "dataset = dataset.map(lambda image, size, ids, boxes, tags, classes:\n",
        "                      (recompress_jpeg(image), size, ids,\n",
        "                       normalize_boxes(boxes, size), # Model Garden models expect normalized box coordinates in [0..1] range\n",
        "                       labels_1_based(keep_one_tag_per_box(classes))), num_parallel_calls=AUTO)\n",
        "\n",
        "dataset = dataset.apply(tf.data.experimental.dense_to_ragged_batch(IMAGES_PER_SHARD)) # use the batch size as the shard size"
      ],
      "metadata": {
        "id": "g96gl5HrCUG7"
      },
      "execution_count": null,
      "outputs": []
    },
    {
      "cell_type": "code",
      "source": [
        "TEST_SHARDS = [4,8,10,15,17,20,27,31]  # these files will be labeled \"test\" other files \"train\"\n",
        "\n",
        "if os.path.isdir(OUTPUT_DIR) and len(os.listdir(OUTPUT_DIR))>0:\n",
        "    print(\"ERROR: the output directory exists and is not empty. Aborting. Please empty the output directory manually before proceeding.\")\n",
        "else:\n",
        "    if not os.path.isdir(OUTPUT_DIR):\n",
        "        os.mkdir(OUTPUT_DIR)\n",
        "\n",
        "    print(\"Writing TFRecords\")\n",
        "    for shard, (image, size, ids, boxes, classes) in enumerate(dataset):\n",
        "        shard_size = image.numpy().shape[0] # batch size is shard size\n",
        "        \n",
        "        # use a standard shard naming convention with the number of images and the number of shards\n",
        "        #filename = OUTPUT_NAME_PREFIX+\"{}x{}px_{:03d}_of_{:03d}-{:03d}.tfrec\".format(\n",
        "        #    TARGET_SIZE[0], TARGET_SIZE[1], shard+1, NB_SHARDS, shard_size)\n",
        "        filename = OUTPUT_NAME_PREFIX+\"w{}px_{:03d}_of_{:03d}-{:03d}.{}.tfrec\".format(\n",
        "            TARGET_WIDTH, shard+1, NB_SHARDS, shard_size, 'test' if shard in TEST_SHARDS else 'train')\n",
        "        \n",
        "        with tf.io.TFRecordWriter(os.path.join(OUTPUT_DIR, filename)) as file:\n",
        "            for i in range(shard_size):\n",
        "                \n",
        "                binary_image   = image[i].numpy()\n",
        "                binary_id      = compute_id_bytestring(ids[i].numpy().decode('utf-8')) # Model Garden data loader fails if id is too long\n",
        "                binary_width   = size[i].numpy()[0]\n",
        "                binary_height  = size[i].numpy()[1]\n",
        "                binary_boxes   = boxes[i].numpy()                  # coordinates in x1 y1 x2 y2 format\n",
        "                #binary_nb_tags = tags[i].row_lengths().numpy()    # ragged to: nb of labels per box\n",
        "                #binary_tags    = tags[i].flat_values.numpy()      # ragged to: flat list of labels\n",
        "                binary_labels  = classes[i].numpy()                # list of labels (one label per box)\n",
        "                \n",
        "                example = to_tfrecord(file, binary_image, binary_width, binary_height, binary_id, binary_boxes, binary_labels)\n",
        "                file.write(example.SerializeToString())\n",
        "        print(\"Wrote file {} containing {} records\".format(filename, shard_size))"
      ],
      "metadata": {
        "id": "Urq9dXb8Cbys"
      },
      "execution_count": null,
      "outputs": []
    },
    {
      "cell_type": "code",
      "source": [
        "def read_tfrecord(example):\n",
        "    feature = {\n",
        "        \"image/encoded\": tf.io.FixedLenFeature([], tf.string), # compressed image bytes\n",
        "        \"image/source_id\": tf.io.FixedLenFeature([], tf.string),  # string\n",
        "        \"image/width\": tf.io.FixedLenFeature([], tf.int64),\n",
        "        \"image/height\": tf.io.FixedLenFeature([], tf.int64),\n",
        "        \"image/object/bbox/xmin\": tf.io.VarLenFeature(tf.float32),\n",
        "        \"image/object/bbox/ymin\": tf.io.VarLenFeature(tf.float32),\n",
        "        \"image/object/bbox/xmax\": tf.io.VarLenFeature(tf.float32),\n",
        "        \"image/object/bbox/ymax\": tf.io.VarLenFeature(tf.float32),\n",
        "        \"image/object/class/label\": tf.io.VarLenFeature(tf.int64) # one tag per box\n",
        "    }\n",
        "    example = tf.io.parse_single_example(example, feature)\n",
        "    source_id = example['image/source_id']\n",
        "    image = tf.image.decode_jpeg(example['image/encoded'], channels=3)\n",
        "    boxes_xmin = tf.sparse.to_dense(example['image/object/bbox/xmin'])\n",
        "    boxes_xmax = tf.sparse.to_dense(example['image/object/bbox/xmax'])\n",
        "    boxes_ymin = tf.sparse.to_dense(example['image/object/bbox/ymin'])\n",
        "    boxes_ymax = tf.sparse.to_dense(example['image/object/bbox/ymax'])\n",
        "    boxes = tf.stack([boxes_xmin, boxes_ymin, boxes_xmax, boxes_ymax], axis=-1)\n",
        "    labels = tf.sparse.to_dense(example['image/object/class/label'])\n",
        "    return image, source_id, boxes, labels\n",
        "    \n",
        "def load_tfrecord_dataset(filenames):\n",
        "    # Read from TFRecords. For optimal performance, reading from multiple files at once and\n",
        "    # disregarding data order. Order does not matter since we will be shuffling the data anyway.\n",
        "\n",
        "    ignore_order = tf.data.Options()\n",
        "    ignore_order.experimental_deterministic = False\n",
        "\n",
        "    dataset = tf.data.TFRecordDataset(filenames, num_parallel_reads=AUTO) # automatically interleaves reads from multiple files\n",
        "    dataset = dataset.with_options(ignore_order) # uses data as soon as it streams in, rather than in its original order\n",
        "    dataset = dataset.map(read_tfrecord, num_parallel_calls=AUTO)\n",
        "    return dataset"
      ],
      "metadata": {
        "id": "thKpjDxeCkdz"
      },
      "execution_count": null,
      "outputs": []
    },
    {
      "cell_type": "code",
      "source": [
        "filenames = tf.io.gfile.glob(os.path.join(OUTPUT_DIR, '*.tfrec'))\n",
        "dataset = load_tfrecord_dataset(filenames)\n",
        "dataset_iterator = iter(dataset.apply(tf.data.experimental.dense_to_ragged_batch(4)))"
      ],
      "metadata": {
        "id": "LEDdL-euCkXv"
      },
      "execution_count": null,
      "outputs": []
    },
    {
      "cell_type": "code",
      "source": [
        "images, source_id, boxes, labels = next(dataset_iterator)\n",
        "images = [im.numpy() for im in images] # must do this for ragged\n",
        "\n",
        "# must scale the rois back to pixels for visualizatoin\n",
        "image_shapes = [tf.cast((image.shape[1], image.shape[0]), tf.float32) for image in images]\n",
        "boxes = [box.scale_rois(bbox, image_shapes[i]) for i,bbox in enumerate(boxes)]\n",
        "\n",
        "# must shift labels back to 0-based for visualization\n",
        "labels -= 1\n",
        "#classes = [[CLASSES.index(label) for label in batchitem] for batchitem in labels]\n",
        "display_with_boxes(images, boxes, labels, None, CLASSES, ground_truth_boxes=[])"
      ],
      "metadata": {
        "id": "HNBRvcgKCzm7"
      },
      "execution_count": null,
      "outputs": []
    }
  ]
}